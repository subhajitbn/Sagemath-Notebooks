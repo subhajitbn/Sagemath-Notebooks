{
 "cells": [
  {
   "cell_type": "markdown",
   "id": "d75a000e",
   "metadata": {},
   "source": [
    "# Ramanujan's Theta Functions\n",
    "\n",
    "## Definitions\n",
    "\n",
    "Let $a$ and $b$ be integers. Then we define \n",
    "$$\n",
    "f(a,b) := (-q^a;q^{a+b})_{\\infty}(-q^b;q^{a+b})_{\\infty}(q^{a+b};q^{a+b})_{\\infty}.\n",
    "$$\n",
    "\n",
    "For the ease of programming, we break the above into two different functions defined below.\n",
    "\n",
    "$$\n",
    "sf(a,b) :=  (-q^a;q^{a+b})_{\\infty}\n",
    "$$\n",
    "and\n",
    "$$\n",
    "f_n := (q^{n};q^{n})_{\\infty}.\n",
    "$$\n",
    "\n",
    "This implies,\n",
    "\n",
    "$$\n",
    "f(a,b) \\quad = \\quad sf(a,b) \\; sf(b,a) \\; f_{a+b}.\n",
    "$$\n",
    "\n",
    "Note that, to avoid confusion, we rename $f(a,b)$ to $ftheta(a,b)$ and $f_n$ to $f(n)$ in the following code. "
   ]
  },
  {
   "cell_type": "code",
   "execution_count": 1,
   "id": "e269b40b",
   "metadata": {},
   "outputs": [],
   "source": [
    "%display latex"
   ]
  },
  {
   "cell_type": "code",
   "execution_count": 2,
   "id": "3a4e2988",
   "metadata": {},
   "outputs": [],
   "source": [
    "from sage.modular.etaproducts import qexp_eta\n",
    "from math import floor\n",
    "import numpy as np"
   ]
  },
  {
   "cell_type": "code",
   "execution_count": 3,
   "id": "98f0c306",
   "metadata": {},
   "outputs": [],
   "source": [
    "R.<q> = PowerSeriesRing(ZZ)\n",
    "precision = 2000\n",
    "f1 = qexp_eta(ZZ[['q']], precision)\n",
    "\n",
    "def sf(a, b):\n",
    "    top = floor((precision-a)/(a+b))\n",
    "    base = 1\n",
    "    for r in range(0,top):\n",
    "        next_term = 1 + q^(a+r*(a+b))\n",
    "        base = base * next_term\n",
    "    return base + O(q^precision)\n",
    "\n",
    "def f(n):\n",
    "    return f1.V(n)\n",
    "\n",
    "def ftheta(a,b):\n",
    "    return sf(a,b)*sf(b,a)*f(a+b)"
   ]
  },
  {
   "cell_type": "code",
   "execution_count": 4,
   "id": "6a2517bc",
   "metadata": {},
   "outputs": [],
   "source": [
    "# The purpose of this codeblock is to replace q with -q in a theta function ftheta(a,b)\n",
    "\n",
    "def isodd(number):\n",
    "    \"\"\"\n",
    "    Checks whether an integer is odd\n",
    "    \"\"\"\n",
    "    \n",
    "    return number % 2 == 1\n",
    "\n",
    "\n",
    "def turn_odd_coefficients_negative(coefficients_list):\n",
    "    \"\"\"\n",
    "    Takes a list and returns another list with the odd-positioned elements turned into negatives \n",
    "    \"\"\"\n",
    "    \n",
    "    odd_neg_coefficients_list = coefficients_list\n",
    "    for i in range(len(coefficients_list)):\n",
    "        if isodd(i):\n",
    "            odd_neg_coefficients_list[i] = -odd_neg_coefficients_list[i]\n",
    "    return odd_neg_coefficients_list\n",
    "\n",
    "\n",
    "def replace_neg_q_in_ftheta(f_q):\n",
    "    \"\"\"\n",
    "    Takes a truncated power series returns another truncated power series function with q replaced with -q\n",
    "    \"\"\"\n",
    "    \n",
    "    coefficients_list = f_q.list()\n",
    "    return R(turn_odd_coefficients_negative(coefficients_list), precision)"
   ]
  },
  {
   "cell_type": "code",
   "execution_count": 5,
   "id": "467201d2",
   "metadata": {},
   "outputs": [],
   "source": [
    "# Define a few elementary theta functions\n",
    "\n",
    "f2 = f1.V(2)\n",
    "f4 = f1.V(4)"
   ]
  },
  {
   "cell_type": "code",
   "execution_count": 6,
   "id": "69a14988",
   "metadata": {},
   "outputs": [],
   "source": [
    "# Define the standard Ramanujan theta functions phi and psi\n",
    "\n",
    "# phi = ftheta(1,1)\n",
    "\n",
    "# psi = ftheta(1,3)"
   ]
  },
  {
   "cell_type": "code",
   "execution_count": 7,
   "id": "f31cb23b",
   "metadata": {},
   "outputs": [],
   "source": [
    "# This tests the definitions of phi and psi against their well known elementary theta series expressions\n",
    "# The output should be (True,True)\n",
    "\n",
    "# Comment out the block to save resources\n",
    "\n",
    "def test_phi_and_psi():\n",
    "    test_precision = precision - 10\n",
    "    istrue_phi = phi.truncate(test_precision) == ((f2^5)/(f1^2*f4^2)).truncate(test_precision)\n",
    "    istrue_psi = psi.truncate(test_precision) == ((f2^2)/f1).truncate(test_precision)\n",
    "    return istrue_phi, istrue_psi\n",
    "\n",
    "# test_phi_and_psi()"
   ]
  },
  {
   "cell_type": "code",
   "execution_count": 8,
   "id": "4323fc0d",
   "metadata": {},
   "outputs": [],
   "source": [
    "# Define phi(-q) and psi(-q)\n",
    "\n",
    "# phi_n = replace_neg_q_in_ftheta(phi)\n",
    "\n",
    "# psi_n = replace_neg_q_in_ftheta(psi)"
   ]
  },
  {
   "cell_type": "code",
   "execution_count": 9,
   "id": "5cc5ca9d",
   "metadata": {},
   "outputs": [],
   "source": [
    "# This tests the definitions of phi(-q) and psi(-q) against their well known elementary theta series expressions\n",
    "# The output should be (True,True)\n",
    "\n",
    "# Comment out the block to save resources\n",
    "\n",
    "def test_phi_n_and_psi_n():\n",
    "    test_precision = precision - 10\n",
    "    istrue_phi_n = phi_n.truncate(test_precision) == ((f1^2)/f2).truncate(test_precision)\n",
    "    istrue_psi_n = psi_n.truncate(test_precision) == ((f1*f4)/f2).truncate(test_precision)\n",
    "    return istrue_phi_n, istrue_psi_n\n",
    "\n",
    "# test_phi_n_and_psi_n()"
   ]
  },
  {
   "cell_type": "code",
   "execution_count": 10,
   "id": "206845f3",
   "metadata": {},
   "outputs": [],
   "source": [
    "f20 = f1.V(20)\n",
    "sc = (f2^2*f20^5)/(f1*f4)"
   ]
  },
  {
   "cell_type": "code",
   "execution_count": 11,
   "id": "9ccc6257",
   "metadata": {},
   "outputs": [
    {
     "data": {
      "text/html": [
       "<html>\\[\\newcommand{\\Bold}[1]{\\mathbf{#1}}2000\\]</html>"
      ],
      "text/latex": [
       "$$\\newcommand{\\Bold}[1]{\\mathbf{#1}}2000$$"
      ],
      "text/plain": [
       "2000"
      ]
     },
     "execution_count": 11,
     "metadata": {},
     "output_type": "execute_result"
    }
   ],
   "source": [
    "sc_coefficients_list = sc.list()\n",
    "len(sc_coefficients_list)"
   ]
  },
  {
   "cell_type": "code",
   "execution_count": 12,
   "id": "2923054d",
   "metadata": {},
   "outputs": [
    {
     "name": "stdout",
     "output_type": "stream",
     "text": [
      "0\n",
      "0\n",
      "0\n",
      "0\n"
     ]
    }
   ],
   "source": [
    "for i in range (74,len(sc_coefficients_list),625):\n",
    "    print(sc_coefficients_list[i]%25)"
   ]
  },
  {
   "cell_type": "code",
   "execution_count": 13,
   "id": "ca04ae50",
   "metadata": {},
   "outputs": [],
   "source": [
    "f5 = f1.V(5)\n",
    "f10 = f1.V(10)"
   ]
  },
  {
   "cell_type": "code",
   "execution_count": 14,
   "id": "fed9e7aa",
   "metadata": {},
   "outputs": [],
   "source": [
    "#sc_expression_1 = -5*f1*f2^2*f5^2 + 25*(f2^7*f5^3)/(f1^4*f10) + 5*q^2*"
   ]
  },
  {
   "cell_type": "code",
   "execution_count": 15,
   "id": "5ea48cb3",
   "metadata": {},
   "outputs": [],
   "source": [
    "k = (f2/f1)*(f5^5/f10^5)"
   ]
  },
  {
   "cell_type": "code",
   "execution_count": 16,
   "id": "0de3f3b1",
   "metadata": {},
   "outputs": [],
   "source": [
    "D = 3*q + k.V(2)/k"
   ]
  },
  {
   "cell_type": "code",
   "execution_count": 17,
   "id": "ced71558",
   "metadata": {},
   "outputs": [],
   "source": [
    "A = k + 4*q + 8*q^2/k + 16*q^3/k^2"
   ]
  },
  {
   "cell_type": "code",
   "execution_count": 18,
   "id": "fbf4bad4",
   "metadata": {},
   "outputs": [],
   "source": [
    "C = (2+4*q^2/k.V(2))*(4*q/k) + 4*q^2/k.V(2)"
   ]
  },
  {
   "cell_type": "code",
   "execution_count": 19,
   "id": "f2e5870a",
   "metadata": {},
   "outputs": [],
   "source": [
    "F = (f2^2*f4*f5^5*f20^3) / f1^6 * (D^3 - 3*q^2*D - 6*q*D^2 + 12*q^3 + 2*q*(D*(A-D*C) + q^2*C) + 3*q^2*(A-D*C))"
   ]
  },
  {
   "cell_type": "code",
   "execution_count": 20,
   "id": "de963edf",
   "metadata": {},
   "outputs": [
    {
     "data": {
      "text/html": [
       "<html>\\[\\newcommand{\\Bold}[1]{\\mathbf{#1}}1 + 8 q + 26 q^{2} + 29 q^{3} - 123 q^{4} - 990 q^{5} - 4294 q^{6} - 14543 q^{7} - 42614 q^{8} - 113323 q^{9} + O(q^{10})\\]</html>"
      ],
      "text/latex": [
       "$$\\newcommand{\\Bold}[1]{\\mathbf{#1}}1 + 8 q + 26 q^{2} + 29 q^{3} - 123 q^{4} - 990 q^{5} - 4294 q^{6} - 14543 q^{7} - 42614 q^{8} - 113323 q^{9} + O(q^{10})$$"
      ],
      "text/plain": [
       "1 + 8*q + 26*q^2 + 29*q^3 - 123*q^4 - 990*q^5 - 4294*q^6 - 14543*q^7 - 42614*q^8 - 113323*q^9 + O(q^10)"
      ]
     },
     "execution_count": 20,
     "metadata": {},
     "output_type": "execute_result"
    }
   ],
   "source": [
    "F.O(10)"
   ]
  },
  {
   "cell_type": "code",
   "execution_count": null,
   "id": "3b5b05ca",
   "metadata": {},
   "outputs": [],
   "source": []
  },
  {
   "cell_type": "code",
   "execution_count": 21,
   "id": "6a7b4973",
   "metadata": {},
   "outputs": [],
   "source": [
    "const = f1^(4) * f4^(4) * f10^(35)\n",
    "\n",
    "q1_expression1 = f1^3 * f2^2 * f4^3 * f5^5 * f10^25 * f20^5\n",
    "q1_expression2 = f1 * f2^5 * f4^2 * f5^15 * f10^10 * f20^10\n",
    "\n",
    "q2_expression1 = f1^4 * f2 * f4^3 * f10^30 * f20^5\n",
    "q2_expression2 = f1^2 * f2^4 * f4^2 * f5^10 * f10^15 * f20^10\n",
    "q2_expression3 = f2^7 * f4 * f5^20 * f20^15\n",
    "\n",
    "q3_expression1 = f1^3 * f2^3 * f4^2 * f5^5 * f10^20 * f20^10\n",
    "q3_expression2 = f1 * f2^6 * f4 * f5^15 * f10^5 * f20^15\n",
    "\n",
    "q4_expression = f1^2 * f2^5 * f4 * f5^10 * f10^10 * f20^15\n",
    "\n",
    "q5_expression1 = f1^3 * f2^4 * f4^1 * f5^5 * f10^15 * f20^15\n",
    "q5_expression2 = f1 * f2^7 * f5^15 * f20^20\n",
    "\n",
    "q6_expression = f1^2 * f2^6 * f5^10 * f10^5 * f20^20"
   ]
  },
  {
   "cell_type": "code",
   "execution_count": 22,
   "id": "28ce7fbb",
   "metadata": {},
   "outputs": [],
   "source": [
    "H = -const + (-3*q1_expression1 -2*q1_expression2)*q + (16*q2_expression1 + 4*q2_expression2 -9*q2_expression3)*q^2 + (112*q3_expression1 -12*q3_expression2)*q^3 + 188*q4_expression*q^4 + (96*q5_expression1 + 100*q5_expression2)*q^5 + 400*q6_expression*q^6"
   ]
  },
  {
   "cell_type": "code",
   "execution_count": 23,
   "id": "a4fe6c0c",
   "metadata": {},
   "outputs": [
    {
     "data": {
      "text/html": [
       "<html>\\[\\newcommand{\\Bold}[1]{\\mathbf{#1}}1 + 8 q + 26 q^{2} + 29 q^{3} - 123 q^{4} - 990 q^{5} - 4294 q^{6} - 14543 q^{7} - 42614 q^{8} - 113323 q^{9} + O(q^{10})\\]</html>"
      ],
      "text/latex": [
       "$$\\newcommand{\\Bold}[1]{\\mathbf{#1}}1 + 8 q + 26 q^{2} + 29 q^{3} - 123 q^{4} - 990 q^{5} - 4294 q^{6} - 14543 q^{7} - 42614 q^{8} - 113323 q^{9} + O(q^{10})$$"
      ],
      "text/plain": [
       "1 + 8*q + 26*q^2 + 29*q^3 - 123*q^4 - 990*q^5 - 4294*q^6 - 14543*q^7 - 42614*q^8 - 113323*q^9 + O(q^10)"
      ]
     },
     "execution_count": 23,
     "metadata": {},
     "output_type": "execute_result"
    }
   ],
   "source": [
    "- H/(f1^7 * f2^4 * f5^10 * f10^5 * f20^12).O(10)"
   ]
  },
  {
   "cell_type": "code",
   "execution_count": null,
   "id": "271d7c51",
   "metadata": {},
   "outputs": [],
   "source": []
  },
  {
   "cell_type": "code",
   "execution_count": 24,
   "id": "1e175b9d",
   "metadata": {},
   "outputs": [],
   "source": [
    "H4 = -const -5*q*q1_expression1 + 7*q^2*q2_expression1 + 64*q^3*q3_expression1 + 120*q^4*q4_expression + q^5*(60*q5_expression1 + 64*q5_expression2) + 280*q6_expression*q^6"
   ]
  },
  {
   "cell_type": "code",
   "execution_count": 25,
   "id": "b3249add",
   "metadata": {},
   "outputs": [
    {
     "data": {
      "text/html": [
       "<html>\\[\\newcommand{\\Bold}[1]{\\mathbf{#1}}1 + 8 q + 26 q^{2} + 29 q^{3} - 123 q^{4} - 990 q^{5} - 4294 q^{6} - 14543 q^{7} - 42614 q^{8} - 113323 q^{9} + O(q^{10})\\]</html>"
      ],
      "text/latex": [
       "$$\\newcommand{\\Bold}[1]{\\mathbf{#1}}1 + 8 q + 26 q^{2} + 29 q^{3} - 123 q^{4} - 990 q^{5} - 4294 q^{6} - 14543 q^{7} - 42614 q^{8} - 113323 q^{9} + O(q^{10})$$"
      ],
      "text/plain": [
       "1 + 8*q + 26*q^2 + 29*q^3 - 123*q^4 - 990*q^5 - 4294*q^6 - 14543*q^7 - 42614*q^8 - 113323*q^9 + O(q^10)"
      ]
     },
     "execution_count": 25,
     "metadata": {},
     "output_type": "execute_result"
    }
   ],
   "source": [
    "- H4/(f1^7 * f2^4 * f5^10 * f10^5 * f20^12).O(10)"
   ]
  },
  {
   "cell_type": "code",
   "execution_count": null,
   "id": "064b9984",
   "metadata": {},
   "outputs": [],
   "source": []
  },
  {
   "cell_type": "code",
   "execution_count": 27,
   "id": "7b7205b1",
   "metadata": {},
   "outputs": [
    {
     "data": {
      "text/html": [
       "<html>\\[\\newcommand{\\Bold}[1]{\\mathbf{#1}}-1610 q + 10279 q^{2} + 17161 q^{3} - 63819 q^{4} + 7250 q^{5} + 13950 q^{6} + 2145 q^{7} + 8734 q^{8} + 125493 q^{9} - 790 q^{10} + O(q^{11})\\]</html>"
      ],
      "text/latex": [
       "$$\\newcommand{\\Bold}[1]{\\mathbf{#1}}-1610 q + 10279 q^{2} + 17161 q^{3} - 63819 q^{4} + 7250 q^{5} + 13950 q^{6} + 2145 q^{7} + 8734 q^{8} + 125493 q^{9} - 790 q^{10} + O(q^{11})$$"
      ],
      "text/plain": [
       "-1610*q + 10279*q^2 + 17161*q^3 - 63819*q^4 + 7250*q^5 + 13950*q^6 + 2145*q^7 + 8734*q^8 + 125493*q^9 - 790*q^10 + O(q^11)"
      ]
     },
     "execution_count": 27,
     "metadata": {},
     "output_type": "execute_result"
    }
   ],
   "source": [
    "(-2026*q*f1^2*f2^5*f5*f10 + 10179*q^2*f1*f5^6*f10^2 + 208*q*f1^7*f10^2 + 208*q*f1^12*f10^3 / (f2^5*f5)).O(11)"
   ]
  },
  {
   "cell_type": "code",
   "execution_count": null,
   "id": "e022e73a",
   "metadata": {},
   "outputs": [],
   "source": []
  },
  {
   "cell_type": "code",
   "execution_count": null,
   "id": "a594c06d",
   "metadata": {},
   "outputs": [],
   "source": []
  }
 ],
 "metadata": {
  "kernelspec": {
   "display_name": "SageMath 9.5",
   "language": "sage",
   "name": "sagemath"
  },
  "language_info": {
   "codemirror_mode": {
    "name": "ipython",
    "version": 3
   },
   "file_extension": ".py",
   "mimetype": "text/x-python",
   "name": "python",
   "nbconvert_exporter": "python",
   "pygments_lexer": "ipython3",
   "version": "3.9.9"
  }
 },
 "nbformat": 4,
 "nbformat_minor": 5
}
