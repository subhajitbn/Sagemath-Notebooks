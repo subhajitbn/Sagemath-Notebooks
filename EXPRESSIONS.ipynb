{
 "cells": [
  {
   "cell_type": "markdown",
   "id": "d75a000e",
   "metadata": {},
   "source": [
    "# Ramanujan's Theta Functions\n",
    "\n",
    "## Definitions\n",
    "\n",
    "Let $a$ and $b$ be integers. Then we define \n",
    "$$\n",
    "f(a,b) := (-q^a;q^{a+b})_{\\infty}(-q^b;q^{a+b})_{\\infty}(q^{a+b};q^{a+b})_{\\infty}.\n",
    "$$\n",
    "\n",
    "For the ease of programming, we break the above into two different functions defined below.\n",
    "\n",
    "$$\n",
    "sf(a,b) :=  (-q^a;q^{a+b})_{\\infty}\n",
    "$$\n",
    "and\n",
    "$$\n",
    "f_n := (q^{n};q^{n})_{\\infty}.\n",
    "$$\n",
    "\n",
    "This implies,\n",
    "\n",
    "$$\n",
    "f(a,b) \\quad = \\quad sf(a,b) \\; sf(b,a) \\; f_{a+b}.\n",
    "$$\n",
    "\n",
    "Note that, to avoid confusion, we rename $f(a,b)$ to $ftheta(a,b)$ and $f_n$ to $f(n)$ in the following code. "
   ]
  },
  {
   "cell_type": "code",
   "execution_count": 2,
   "id": "e269b40b",
   "metadata": {},
   "outputs": [],
   "source": [
    "%display latex"
   ]
  },
  {
   "cell_type": "code",
   "execution_count": 3,
   "id": "3a4e2988",
   "metadata": {},
   "outputs": [],
   "source": [
    "from sage.modular.etaproducts import qexp_eta\n",
    "from math import floor\n",
    "import numpy as np"
   ]
  },
  {
   "cell_type": "code",
   "execution_count": 4,
   "id": "98f0c306",
   "metadata": {},
   "outputs": [],
   "source": [
    "R.<q> = PowerSeriesRing(ZZ)\n",
    "precision = 500\n",
    "f1 = qexp_eta(ZZ[['q']], precision)\n",
    "\n",
    "def sf(a, b):\n",
    "    top = floor((precision-a)/(a+b))\n",
    "    base = 1\n",
    "    for r in range(0,top):\n",
    "        next_term = 1 + q^(a+r*(a+b))\n",
    "        base = base * next_term\n",
    "    return base + O(q^precision)\n",
    "\n",
    "def f(n):\n",
    "    return f1.V(n)\n",
    "\n",
    "def ftheta(a,b):\n",
    "    return sf(a,b)*sf(b,a)*f(a+b)"
   ]
  },
  {
   "cell_type": "code",
   "execution_count": 5,
   "id": "ad0d0486",
   "metadata": {},
   "outputs": [
    {
     "data": {
      "text/html": [
       "<html>\\[\\newcommand{\\Bold}[1]{\\mathbf{#1}}1 +  q +  q^{7} +  q^{10} +  q^{22} +  q^{27} +  q^{45} +  q^{52} +  q^{76} +  q^{85} +  q^{115} +  q^{126} +  q^{162} +  q^{175} +  q^{217} +  q^{232} +  q^{280} +  q^{297} +  q^{351} +  q^{370} +  q^{430} +  q^{451} -  q^{495} -  q^{496} -  q^{497} -  q^{498} + O(q^{500})\\]</html>"
      ],
      "text/latex": [
       "$$\\newcommand{\\Bold}[1]{\\mathbf{#1}}1 +  q +  q^{7} +  q^{10} +  q^{22} +  q^{27} +  q^{45} +  q^{52} +  q^{76} +  q^{85} +  q^{115} +  q^{126} +  q^{162} +  q^{175} +  q^{217} +  q^{232} +  q^{280} +  q^{297} +  q^{351} +  q^{370} +  q^{430} +  q^{451} -  q^{495} -  q^{496} -  q^{497} -  q^{498} + O(q^{500})$$"
      ],
      "text/plain": [
       "1 + q + q^7 + q^10 + q^22 + q^27 + q^45 + q^52 + q^76 + q^85 + q^115 + q^126 + q^162 + q^175 + q^217 + q^232 + q^280 + q^297 + q^351 + q^370 + q^430 + q^451 - q^495 - q^496 - q^497 - q^498 + O(q^500)"
      ]
     },
     "execution_count": 5,
     "metadata": {},
     "output_type": "execute_result"
    }
   ],
   "source": [
    "# Define f(q,q^7)\n",
    "\n",
    "f_q_q7 = ftheta(1,7)\n",
    "\n",
    "f_q_q7"
   ]
  },
  {
   "cell_type": "code",
   "execution_count": 6,
   "id": "21a7f96e",
   "metadata": {},
   "outputs": [
    {
     "data": {
      "text/html": [
       "<html>\\[\\newcommand{\\Bold}[1]{\\mathbf{#1}}1 +  q^{3} +  q^{5} +  q^{14} +  q^{18} +  q^{33} +  q^{39} +  q^{60} +  q^{68} +  q^{95} +  q^{105} +  q^{138} +  q^{150} +  q^{189} +  q^{203} +  q^{248} +  q^{264} +  q^{315} +  q^{333} +  q^{390} +  q^{410} +  q^{473} -  q^{493} +  q^{495} -  q^{496} -  q^{498} -  q^{499} + O(q^{500})\\]</html>"
      ],
      "text/latex": [
       "$$\\newcommand{\\Bold}[1]{\\mathbf{#1}}1 +  q^{3} +  q^{5} +  q^{14} +  q^{18} +  q^{33} +  q^{39} +  q^{60} +  q^{68} +  q^{95} +  q^{105} +  q^{138} +  q^{150} +  q^{189} +  q^{203} +  q^{248} +  q^{264} +  q^{315} +  q^{333} +  q^{390} +  q^{410} +  q^{473} -  q^{493} +  q^{495} -  q^{496} -  q^{498} -  q^{499} + O(q^{500})$$"
      ],
      "text/plain": [
       "1 + q^3 + q^5 + q^14 + q^18 + q^33 + q^39 + q^60 + q^68 + q^95 + q^105 + q^138 + q^150 + q^189 + q^203 + q^248 + q^264 + q^315 + q^333 + q^390 + q^410 + q^473 - q^493 + q^495 - q^496 - q^498 - q^499 + O(q^500)"
      ]
     },
     "execution_count": 6,
     "metadata": {},
     "output_type": "execute_result"
    }
   ],
   "source": [
    "# Define f(q^3,q^5)\n",
    "\n",
    "f_q3_q5 = ftheta(3,5)\n",
    "\n",
    "f_q3_q5"
   ]
  },
  {
   "cell_type": "code",
   "execution_count": 7,
   "id": "6a2517bc",
   "metadata": {},
   "outputs": [],
   "source": [
    "# The purpose of this codeblock is to replace q with -q in a theta function ftheta(a,b)\n",
    "\n",
    "def isodd(number):\n",
    "    \"\"\"\n",
    "    Checks whether an integer is odd\n",
    "    \"\"\"\n",
    "    \n",
    "    return number % 2 == 1\n",
    "\n",
    "\n",
    "def turn_odd_coefficients_negative(coefficients_list):\n",
    "    \"\"\"\n",
    "    Takes a list and returns another list with the odd-positioned elements turned into negatives \n",
    "    \"\"\"\n",
    "    \n",
    "    odd_neg_coefficients_list = coefficients_list\n",
    "    for i in range(len(coefficients_list)):\n",
    "        if isodd(i):\n",
    "            odd_neg_coefficients_list[i] = -odd_neg_coefficients_list[i]\n",
    "    return odd_neg_coefficients_list\n",
    "\n",
    "\n",
    "def replace_neg_q_in_ftheta(f_q):\n",
    "    \"\"\"\n",
    "    Takes a truncated power series returns another truncated power series function with q replaced with -q\n",
    "    \"\"\"\n",
    "    \n",
    "    coefficients_list = f_q.list()\n",
    "    return R(turn_odd_coefficients_negative(coefficients_list), precision)"
   ]
  },
  {
   "cell_type": "code",
   "execution_count": 8,
   "id": "bb521d02",
   "metadata": {},
   "outputs": [
    {
     "data": {
      "text/html": [
       "<html>\\[\\newcommand{\\Bold}[1]{\\mathbf{#1}}1 -  q -  q^{7} +  q^{10} +  q^{22} -  q^{27} -  q^{45} +  q^{52} +  q^{76} -  q^{85} -  q^{115} +  q^{126} +  q^{162} -  q^{175} -  q^{217} +  q^{232} +  q^{280} -  q^{297} -  q^{351} +  q^{370} +  q^{430} -  q^{451} +  q^{495} -  q^{496} +  q^{497} -  q^{498} + O(q^{500})\\]</html>"
      ],
      "text/latex": [
       "$$\\newcommand{\\Bold}[1]{\\mathbf{#1}}1 -  q -  q^{7} +  q^{10} +  q^{22} -  q^{27} -  q^{45} +  q^{52} +  q^{76} -  q^{85} -  q^{115} +  q^{126} +  q^{162} -  q^{175} -  q^{217} +  q^{232} +  q^{280} -  q^{297} -  q^{351} +  q^{370} +  q^{430} -  q^{451} +  q^{495} -  q^{496} +  q^{497} -  q^{498} + O(q^{500})$$"
      ],
      "text/plain": [
       "1 - q - q^7 + q^10 + q^22 - q^27 - q^45 + q^52 + q^76 - q^85 - q^115 + q^126 + q^162 - q^175 - q^217 + q^232 + q^280 - q^297 - q^351 + q^370 + q^430 - q^451 + q^495 - q^496 + q^497 - q^498 + O(q^500)"
      ]
     },
     "execution_count": 8,
     "metadata": {},
     "output_type": "execute_result"
    }
   ],
   "source": [
    "# Define f(-q,-q^7)\n",
    "\n",
    "f_nq_nq7 = replace_neg_q_in_ftheta(f_q_q7)\n",
    "\n",
    "f_nq_nq7"
   ]
  },
  {
   "cell_type": "code",
   "execution_count": 9,
   "id": "cfe2dc6d",
   "metadata": {},
   "outputs": [
    {
     "data": {
      "text/html": [
       "<html>\\[\\newcommand{\\Bold}[1]{\\mathbf{#1}}1 -  q^{3} -  q^{5} +  q^{14} +  q^{18} -  q^{33} -  q^{39} +  q^{60} +  q^{68} -  q^{95} -  q^{105} +  q^{138} +  q^{150} -  q^{189} -  q^{203} +  q^{248} +  q^{264} -  q^{315} -  q^{333} +  q^{390} +  q^{410} -  q^{473} +  q^{493} -  q^{495} -  q^{496} -  q^{498} +  q^{499} + O(q^{500})\\]</html>"
      ],
      "text/latex": [
       "$$\\newcommand{\\Bold}[1]{\\mathbf{#1}}1 -  q^{3} -  q^{5} +  q^{14} +  q^{18} -  q^{33} -  q^{39} +  q^{60} +  q^{68} -  q^{95} -  q^{105} +  q^{138} +  q^{150} -  q^{189} -  q^{203} +  q^{248} +  q^{264} -  q^{315} -  q^{333} +  q^{390} +  q^{410} -  q^{473} +  q^{493} -  q^{495} -  q^{496} -  q^{498} +  q^{499} + O(q^{500})$$"
      ],
      "text/plain": [
       "1 - q^3 - q^5 + q^14 + q^18 - q^33 - q^39 + q^60 + q^68 - q^95 - q^105 + q^138 + q^150 - q^189 - q^203 + q^248 + q^264 - q^315 - q^333 + q^390 + q^410 - q^473 + q^493 - q^495 - q^496 - q^498 + q^499 + O(q^500)"
      ]
     },
     "execution_count": 9,
     "metadata": {},
     "output_type": "execute_result"
    }
   ],
   "source": [
    "# Define f(-q^3,-q^5)\n",
    "\n",
    "f_nq3_nq5 = replace_neg_q_in_ftheta(f_q3_q5)\n",
    "\n",
    "f_nq3_nq5"
   ]
  },
  {
   "cell_type": "code",
   "execution_count": 10,
   "id": "467201d2",
   "metadata": {},
   "outputs": [],
   "source": [
    "# Define a few elementary theta functions\n",
    "\n",
    "f2 = f1.V(2)\n",
    "f4 = f1.V(4)\n",
    "f8 = f1.V(8)"
   ]
  },
  {
   "cell_type": "code",
   "execution_count": 11,
   "id": "69a14988",
   "metadata": {},
   "outputs": [],
   "source": [
    "# Define the standard Ramanujan theta functions phi and psi\n",
    "\n",
    "phi = ftheta(1,1)\n",
    "\n",
    "psi = ftheta(1,3)"
   ]
  },
  {
   "cell_type": "code",
   "execution_count": 12,
   "id": "f31cb23b",
   "metadata": {},
   "outputs": [
    {
     "data": {
      "text/html": [
       "<html>\\[\\newcommand{\\Bold}[1]{\\mathbf{#1}}\\left(\\mathrm{True}, \\mathrm{True}\\right)\\]</html>"
      ],
      "text/latex": [
       "$$\\newcommand{\\Bold}[1]{\\mathbf{#1}}\\left(\\mathrm{True}, \\mathrm{True}\\right)$$"
      ],
      "text/plain": [
       "(True, True)"
      ]
     },
     "execution_count": 12,
     "metadata": {},
     "output_type": "execute_result"
    }
   ],
   "source": [
    "# This tests the definitions of phi and psi against their well known elementary theta series expressions\n",
    "# The output should be (True,True)\n",
    "\n",
    "# Comment out the block to save resources\n",
    "\n",
    "def test_phi_and_psi():\n",
    "    test_precision = precision - 10\n",
    "    istrue_phi = phi.truncate(test_precision) == ((f2^5)/(f1^2*f4^2)).truncate(test_precision)\n",
    "    istrue_psi = psi.truncate(test_precision) == ((f2^2)/f1).truncate(test_precision)\n",
    "    return istrue_phi, istrue_psi\n",
    "\n",
    "test_phi_and_psi()"
   ]
  },
  {
   "cell_type": "code",
   "execution_count": 13,
   "id": "4323fc0d",
   "metadata": {},
   "outputs": [],
   "source": [
    "# Define phi(-q) and psi(-q)\n",
    "\n",
    "phi_n = replace_neg_q_in_ftheta(phi)\n",
    "\n",
    "psi_n = replace_neg_q_in_ftheta(psi)"
   ]
  },
  {
   "cell_type": "code",
   "execution_count": 14,
   "id": "5cc5ca9d",
   "metadata": {},
   "outputs": [
    {
     "data": {
      "text/html": [
       "<html>\\[\\newcommand{\\Bold}[1]{\\mathbf{#1}}\\left(\\mathrm{True}, \\mathrm{True}\\right)\\]</html>"
      ],
      "text/latex": [
       "$$\\newcommand{\\Bold}[1]{\\mathbf{#1}}\\left(\\mathrm{True}, \\mathrm{True}\\right)$$"
      ],
      "text/plain": [
       "(True, True)"
      ]
     },
     "execution_count": 14,
     "metadata": {},
     "output_type": "execute_result"
    }
   ],
   "source": [
    "# This tests the definitions of phi(-q) and psi(-q) against their well known elementary theta series expressions\n",
    "# The output should be (True,True)\n",
    "\n",
    "# Comment out the block to save resources\n",
    "\n",
    "def test_phi_n_and_psi_n():\n",
    "    test_precision = precision - 10\n",
    "    istrue_phi_n = phi_n.truncate(test_precision) == ((f1^2)/f2).truncate(test_precision)\n",
    "    istrue_psi_n = psi_n.truncate(test_precision) == ((f1*f4)/f2).truncate(test_precision)\n",
    "    return istrue_phi_n, istrue_psi_n\n",
    "\n",
    "test_phi_n_and_psi_n()"
   ]
  },
  {
   "cell_type": "code",
   "execution_count": 16,
   "id": "9a51340c",
   "metadata": {},
   "outputs": [
    {
     "data": {
      "text/html": [
       "<html>\\[\\newcommand{\\Bold}[1]{\\mathbf{#1}}2q^{484} - 2q^{441} + 2q^{400} - 2q^{361} + 2q^{324} - 2q^{289} + 2q^{256} - 2q^{225} + 2q^{196} - 2q^{169} + 2q^{144} - 2q^{121} + 2q^{100} - 2q^{81} + 2q^{64} - 2q^{49} + 2q^{36} - 2q^{25} + 2q^{16} - 2q^{9} + 2q^{4} - 2q + 1\\]</html>"
      ],
      "text/latex": [
       "$$\\newcommand{\\Bold}[1]{\\mathbf{#1}}2q^{484} - 2q^{441} + 2q^{400} - 2q^{361} + 2q^{324} - 2q^{289} + 2q^{256} - 2q^{225} + 2q^{196} - 2q^{169} + 2q^{144} - 2q^{121} + 2q^{100} - 2q^{81} + 2q^{64} - 2q^{49} + 2q^{36} - 2q^{25} + 2q^{16} - 2q^{9} + 2q^{4} - 2q + 1$$"
      ],
      "text/plain": [
       "2*q^484 - 2*q^441 + 2*q^400 - 2*q^361 + 2*q^324 - 2*q^289 + 2*q^256 - 2*q^225 + 2*q^196 - 2*q^169 + 2*q^144 - 2*q^121 + 2*q^100 - 2*q^81 + 2*q^64 - 2*q^49 + 2*q^36 - 2*q^25 + 2*q^16 - 2*q^9 + 2*q^4 - 2*q + 1"
      ]
     },
     "execution_count": 16,
     "metadata": {},
     "output_type": "execute_result"
    }
   ],
   "source": [
    "phi_n.truncate(precision-10)"
   ]
  },
  {
   "cell_type": "markdown",
   "id": "3daf2cb6",
   "metadata": {},
   "source": [
    "# Preliminary shorthands\n",
    "\n",
    "## Useful expressions\n",
    "1. $f(q,-q^3) = f(-q^6,-q^{10}) + qf(-q^2,-q^{14})$\n",
    "\n",
    "\n",
    "2. $f(-q,q^3) = f(-q^6,-q^{10}) - qf(-q^2,-q^{14})$\n",
    "\n",
    "## 2-Disections\n",
    "1. $\\varphi^2(q) = E_2(q^2) + 4qO_2(q^2)$, where $E2 = E_2(q)$ and $O2 = O_2(q)$.\n",
    "\n",
    "\n",
    "2. $\\varphi^3(q) = E_3(q^2) + 2qO_3(q^2)$, where $E3 = E_3(q)$ and $O3 = O_3(q)$.\n",
    "\n",
    "\n",
    "3. $\\varphi^4(q) = E_4(q^2) + 8qO_4(q^2)$, where $E4 = E_4(q)$ and $O4 = O_4(q)$.\n",
    "\n",
    "\n",
    "4. $\\varphi^6(q) = E_6(q^2) + 4qO_6(q^2)$, where $E6 = E_6(q)$ and $O6 = O_6(q)$.\n",
    "\n",
    "\n",
    "5. $\\varphi^7(q) = E_7(q^2) + 2qO_7(q^2)$, where $E7 = E_7(q)$ and $O7 = O_7(q)$.\n",
    "\n",
    "\n",
    "6. $\\psi(q) * \\varphi^2(q) = A(q^2) + qB(q^2)$, where $A = A(q)$ and $B = B(q)$.\n",
    "\n",
    "\n",
    "7. $\\psi(q) * [f(-q^6,-q^{10}) - q*f(-q^2,-q^{14})] = M_1(q^2) + qN_1(q^2)$, where $M1 = M_1(q)$ and $N1 = N_1(q)$.\n",
    "\n",
    "\n",
    "8. $\\psi(q) * [f(-q^6,-q^{10}) + q*f(-q^2,-q^{14})] = \\overline{M}_1(q^2) + q\\overline{N}_1(q^2)$, where $Mo1 = \\overline{M}_1(q)$ and $No1 = \\overline{N}_1(q)$.\n",
    "\n",
    "\n",
    "9. $\\psi(q)*f(-q^2,-q^{14}) = M_2(q^2) + qN_2(q^2)$, where $M2 = M_2(q)$ and $N2 = N_2(q)$.\n",
    "\n",
    "\n",
    "10. $\\psi(q)*f(-q^6,-q^{10}) = \\overline{M}_2(q^2) + q\\overline{N}_2(q^2)$, where $Mo2 = \\overline{M}_2(q)$ and $No2 = \\overline{N}_2(q)$."
   ]
  },
  {
   "cell_type": "code",
   "execution_count": null,
   "id": "4d35c6f4",
   "metadata": {},
   "outputs": [],
   "source": [
    "# Preliminary shorthands\n",
    "\n",
    "f_q_nq3 = f_nq3_nq5.V(2) + q * f_nq_nq7.V(2)\n",
    "f_nq_q3 = f_nq3_nq5.V(2) - q * f_nq_nq7.V(2)\n",
    "\n",
    "E3 = phi.V(2) * (phi.V(2)^2 + 12*q*psi.V(4)^2)\n",
    "O3 = psi.V(4) * (3*phi.V(2)^2 + 4*q*psi.V(4)^2)\n",
    "\n",
    "# \\varphi^4(q) = E_4(q^2) + 8qO_4(q^2)\n",
    "# E4 = E4(q), O4 = O4(q)\n",
    "E4 = phi^4 + 16*q*psi.V(2)^4\n",
    "O4 = phi^2 * psi.V(2)^2\n",
    "\n",
    "# \\varphi^6(q) = E_6(q^2) + 4q*O_6(q^2)\n",
    "# E6 = E_6(q), O6 = O_6(q)\n",
    "E6 = phi^2*(phi^4 + 48*q*psi.V(2)^4)\n",
    "O6 = psi.V(2)^2*(3*phi^4 + 16*q*psi.V(2)^4)\n",
    "\n",
    "# \\varphi^7(q) = E_7(q^2) + 2q*O_7(q^2)\n",
    "# E7 = E_7(q), O7 = O_7(q)\n",
    "XE = q*psi.V(4)*psi.V(2)^2*(3*phi^4 + 6*phi.V(2)^2*phi^2 + 16*q*psi.V(2)^4)\n",
    "XO = phi.V(2)*psi.V(2)^2*(phi^4 + 6*q*psi.V(4)^2*phi^2 + 4*q*psi.V(2)^4)\n",
    "E7 = phi.V(2)*phi^6 + 8*XE\n",
    "O7 = phi^4*psi.V(4)*(phi^2 - 2*phi.V(2)^2) + 8*XO\n",
    "\n",
    "# \\psi(q) * phi^2(q) = A(q^2) + qB(q^2)\n",
    "# A = A(q), B = B(q)\n",
    "A = phi^2*f_q3_q5 + 4*q*psi.V(2)^2*f_q_q7\n",
    "B = phi^2*f_q_q7 + 4*psi.V(2)^2*f_q3_q5\n",
    "\n",
    "# \\psi(q) * [f(-q^6,-q^{10}) - q*f(-q^2,-q^{14})] = M_1(q^2) + N_1(q^2)\n",
    "# M1 = M_1(q), N1 = N_1(q)\n",
    "M1 = phi_n.V(8) * f_nq_q3\n",
    "N1 = q*psi_n.V(4)*f_nq_nq7.V(2)\n",
    "\n",
    "# \\psi(q) * [f(-q^6,-q^{10}) + q*f(-q^2,-q^{14})] = \\overline{M}_1(q^2) + \\overline{N}_1(q^2)\n",
    "# Mo1 = \\overline{M}_1(q), No1 = \\overline{N}_1(q)\n",
    "Mo1 = phi_n.V(8) * f_q_nq3\n",
    "No1 = psi_n.V(4)*f_nq3_nq5.V(2)\n",
    "\n",
    "# \\psi(q)*f(-q^2,-q^{14}) = M_2(q^2) + q*N_2(q^2)\n",
    "# M2 = M_2(q), N2 = N_2(q)\n",
    "M2 = psi_n.V(4)*f_nq_q3\n",
    "N2 = phi_n.V(8)*f_nq_nq7.V(2)\n",
    "\n",
    "# \\psi(q)*f(-q^6,-q^{10}) = \\overline{M}_2(q^2) + \\overline{N}_2(q^2)\n",
    "# Mo2 = \\overline{M}_2(q), No2 = \\overline{N}_2(q)\n",
    "Mo2 = phi_n.V(8)*f_nq3_nq5.V(2)\n",
    "No2 = psi_n.V(4)*f_q_nq3\n",
    "\n",
    "# \\varphi(q) E3(q) = \\varphi(q^2) \\left(T1(q^2) + 2qT2(q^2)\\right)\n",
    "# \\varphi(q) O3(q) = \\psi(q^4) \\left(\\overline{T}1(q^2) + 2q\\overline{T}2(q^2)\\right)\n",
    "# f(q,-q^3) O3(Q) = \\psi(q^4) \\left(T3(q^2) + qT4(q^2)\\right)\n",
    "# \\varphi(q) f(q,-q^3) O3(Q) = \\psi(q^4) \\left(Y1(q^2) + qY2(q^2)\\right)\n",
    "\n",
    "T1 = phi^2*phi.V(2) + 24*q*psi.V(2)^2*psi.V(4)\n",
    "T2 = phi^2*psi.V(4) + 6*psi.V(2)^2*phi.V(2)\n",
    "To1 = 3*phi^2*phi.V(2) + 8*q*psi.V(2)^2*psi.V(4)\n",
    "To2 = 3*psi.V(4)*phi^2 + 2*psi.V(2)^2*phi.V(2)\n",
    "T3 = 3*f_nq3_nq5*phi^2 + 4*q*f_nq_nq7*psi.V(2)^2\n",
    "T4 = 4*f_nq3_nq5*psi.V(2)^2 + 3*f_nq_nq7*phi^2\n",
    "Y1 = To1*f_nq3_nq5 + 2*q*To2*f_nq_nq7\n",
    "Y2 = To1*f_nq_nq7 + 2*To2*f_nq3_nq5"
   ]
  },
  {
   "cell_type": "code",
   "execution_count": null,
   "id": "3ebb7059",
   "metadata": {},
   "outputs": [],
   "source": [
    "# Tests\n",
    "\n",
    "def test_preliminary_shorthands():\n",
    "    test_precision = precision - 5\n",
    "    istrue_01 = (phi^3).truncate(test_precision) == (E3.V(2) + 2*q*O3.V(2)).truncate(test_precision)\n",
    "    istrue_02 = (phi^4).truncate(test_precision) == (E4.V(2) + 8*q*O4.V(2)).truncate(test_precision)\n",
    "    istrue_03 = (phi^6).truncate(test_precision) == (E6.V(2) + 4*q*O6.V(2)).truncate(test_precision)\n",
    "    istrue_04 = (phi^7).truncate(test_precision) == (E7.V(2) + 2*q*O7.V(2)).truncate(test_precision)\n",
    "    istrue_05 = (psi*phi^2).truncate(test_precision) == (A.V(2) + q*B.V(2)).truncate(test_precision)\n",
    "    istrue_06 = (psi*(f_nq3_nq5.V(2) - q*f_nq_nq7.V(2))).truncate(test_precision) == (M1.V(2) + 2*q*N1.V(2)).truncate(test_precision)\n",
    "    istrue_07 = (psi*(f_nq3_nq5.V(2) + q*f_nq_nq7.V(2))).truncate(test_precision) == (Mo1.V(2) + 2*q*No1.V(2)).truncate(test_precision)\n",
    "    istrue_08 = (psi*f_nq_nq7.V(2)).truncate(test_precision) == (M2.V(2) + q*N2.V(2)).truncate(test_precision)\n",
    "    istrue_09 = (psi*f_nq3_nq5.V(2)).truncate(test_precision) == (Mo2.V(2) + q*No2.V(2)).truncate(test_precision)\n",
    "    istrue_10 = (phi*E3).truncate(test_precision) == (phi.V(2)*(T1.V(2) + 2*q*T2.V(2))).truncate(test_precision)\n",
    "    istrue_11 = (phi*O3).truncate(test_precision) == (psi.V(4)*(To1.V(2) + 2*q*To2.V(2))).truncate(test_precision)\n",
    "    istrue_12 = (f_q_nq3*(3*phi.V(2)^2+4*q*psi.V(4)^2)).truncate(test_precision) == (T3.V(2) + q*T4.V(2)).truncate(test_precision)\n",
    "    return istrue_01, istrue_02, istrue_03, istrue_04, istrue_05, istrue_06, istrue_07, istrue_08, istrue_09, istrue_10, istrue_11, istrue_12\n",
    "\n",
    "test_preliminary_shorthands()"
   ]
  },
  {
   "cell_type": "code",
   "execution_count": null,
   "id": "3883c226",
   "metadata": {},
   "outputs": [],
   "source": [
    "# Required expression\n",
    "# phi = phi(q), phi_n = phi(-q), phi.V(2) = phi(q^2)\n",
    "\n",
    "# term01 = (5/16) * phi_n^10\n",
    "# term02 = (67/16) * phi^8 * phi_n^2\n",
    "# term03 = (23/8) * phi^2 * phi_n^8\n",
    "# term04 = (3/8) * phi^7 * phi_n^2 * phi.V(2)\n",
    "# term05 = -(115/8) * phi^5 * phi_n^4 * phi.V(2)\n",
    "# term06 = -(7/8) * phi^3 * phi_n^6 * phi.V(2)\n",
    "# term07 = (15/8) * phi * phi_n^8 * phi.V(2)\n",
    "\n",
    "# expression = term01 + term02 + term03 + term04 + term05 + term06 + term07\n",
    "# expression.add_bigoh(110)"
   ]
  },
  {
   "cell_type": "code",
   "execution_count": null,
   "id": "919bd251",
   "metadata": {},
   "outputs": [],
   "source": [
    "a = phi\n",
    "b = phi_n\n",
    "c = phi.V(2)\n",
    "test_precision = precision - 10"
   ]
  },
  {
   "cell_type": "code",
   "execution_count": null,
   "id": "0085c4d2",
   "metadata": {},
   "outputs": [],
   "source": [
    "u0_pre = q*psi*psi_n*psi_n.V(2)*psi.V(4)*f_nq_nq7*phi^8\n",
    "\n",
    "u0_next = phi_n.V(2)*phi_n.V(4)*f_nq_nq7*((1/8)*a^10 - (1/8)*a^8*b^2)\n",
    "\n",
    "u0_pre.truncate(test_precision) == u0_next.truncate(test_precision)"
   ]
  },
  {
   "cell_type": "code",
   "execution_count": null,
   "id": "06cf625c",
   "metadata": {},
   "outputs": [],
   "source": [
    "u1_pre = phi_n.V(2)*phi_n.V(4)*phi*f_nq3_nq5 * (phi^6*phi.V(2)*psi.V(2)^2 + 2*(phi^2*XO+6*psi.V(2)^2*XE))\n",
    "\n",
    "common = phi_n.V(2)*phi_n.V(4)*phi*phi.V(2)^2*psi.V(4) \n",
    "terms = (31/2)*a^6 - (15/2)*a^4*b^2 - (13/2)*a^2*b^4 + (3/2)*b^6\n",
    "u1_post = common * f_nq3_nq5 * terms \n",
    "\n",
    "u1_pre.truncate(test_precision) == u1_post.truncate(test_precision)"
   ]
  },
  {
   "cell_type": "code",
   "execution_count": null,
   "id": "c50d86e8",
   "metadata": {},
   "outputs": [],
   "source": [
    "common = phi_n.V(2)*phi_n.V(4)*f_nq_nq7\n",
    "terms_without_c = (31/8)*a^10 + 2*a^8*b^2 + (-7/2)*a^6*b^4 + (-5/4)*a^4*b^6 + (3/8)*a^2*b^8\n",
    "terms_with_c = (31/8)*a^9*c + 2*a^7*b^2*c + (-7/2)*a^5*b^4*c + (-5/4)*a^3*b^6*c + (3/8)*a*b^8*c\n",
    "terms = terms_without_c + terms_with_c\n",
    "u1_next = common*terms\n",
    "\n",
    "u1_pre.truncate(test_precision) == u1_next.truncate(test_precision)"
   ]
  },
  {
   "cell_type": "code",
   "execution_count": null,
   "id": "ff1f5691",
   "metadata": {},
   "outputs": [],
   "source": [
    "u2_pre = phi_n.V(2)*psi_n.V(2)*psi.V(2)*f_nq3_nq5* (phi^8*phi.V(2) + 6*phi^2*XE + 2*q*psi.V(2)^2*O7 )\n",
    "\n",
    "common = phi_n.V(4)^2 * psi.V(2) * psi_n.V(2) \n",
    "terms = (33/4)*a^8 - 4*a^6*b^2 - 5*a^4*b^4 + (3/2)*a^2*b^6  + (1/4)*b^8\n",
    "u2_post = common * f_nq3_nq5 * terms \n",
    "\n",
    "u2_pre.truncate(test_precision) == u2_post.truncate(test_precision)"
   ]
  },
  {
   "cell_type": "code",
   "execution_count": null,
   "id": "cb1ec9f4",
   "metadata": {},
   "outputs": [],
   "source": [
    "common = phi_n.V(2)*phi_n.V(4)*f_nq_nq7\n",
    "terms_without_c = (33/16)*a^10 + (17/16)*a^8*b^2 + (-9/4)*a^6*b^4 + (-7/8)*a^4*b^6 + (7/16)*a^2*b^8 + (1/16)*b^10\n",
    "terms_with_c = (33/8)*a^9*c + (-2)*a^7*b^2*c + (-5/2)*a^5*b^4*c + (3/4)*a^3*b^6*c + (1/8)*a*b^8*c\n",
    "terms = terms_without_c + terms_with_c\n",
    "u2_next = common*terms\n",
    "\n",
    "u2_pre.truncate(test_precision) == u2_next.truncate(test_precision)"
   ]
  },
  {
   "cell_type": "code",
   "execution_count": null,
   "id": "ef383426",
   "metadata": {},
   "outputs": [],
   "source": [
    "u3_pre = phi_n.V(2)*psi_n.V(2)*psi.V(2)*f_nq_nq7* (2*phi^8*psi.V(4) - 3*phi^6*phi.V(2)^2*psi.V(4) + 12*phi^2*XO + psi.V(2)^2*E7)\n",
    "\n",
    "common = phi_n.V(2) * phi_n.V(4) * psi.V(4)^2 \n",
    "terms = (33/2)*a^8 + 8*a^6*b^2 - 10*a^4*b^4 - 3*a^2*b^6  + (1/2)*b^8\n",
    "u3_post = common * f_nq_nq7 * terms \n",
    "\n",
    "u3_pre.truncate(test_precision) == u3_post.truncate(test_precision)"
   ]
  },
  {
   "cell_type": "code",
   "execution_count": null,
   "id": "e2d316a8",
   "metadata": {},
   "outputs": [],
   "source": [
    "common = phi_n.V(2)*phi_n.V(4)*f_nq_nq7\n",
    "terms_without_c = (33/16)*a^10 + (-17/16)*a^8*b^2 + (-9/4)*a^6*b^4 + (7/8)*a^4*b^6 + (7/16)*a^2*b^8 + (-1/16)*b^10\n",
    "#terms_with_c = (/)*a^9*c + (/)*a^7*b^2*c + (/)*a^5*b^4*c + (/)*a^3*b^6*c\n",
    "terms = terms_without_c #+ terms_with_c\n",
    "u3_next = common*terms\n",
    "\n",
    "(q*u3_pre).truncate(test_precision) == u3_next.truncate(test_precision)"
   ]
  },
  {
   "cell_type": "code",
   "execution_count": null,
   "id": "584504ea",
   "metadata": {},
   "outputs": [],
   "source": [
    "u4_pre = psi*psi_n*phi_n.V(4)*psi.V(2)*f_nq3_nq5* (phi^8 + 36*q*phi^4*psi.V(2)^4 + 4*q*psi.V(2)^2*O6)\n",
    "\n",
    "common = phi_n.V(4)^3 * psi.V(4)\n",
    "terms = (17/4)*a^8 - (7/2)*a^4*b^4 + (1/4)*b^8\n",
    "u4_post = common * f_nq3_nq5 * terms \n",
    "\n",
    "u4_pre.truncate(test_precision) == u4_post.truncate(test_precision)"
   ]
  },
  {
   "cell_type": "code",
   "execution_count": null,
   "id": "a5ccba5c",
   "metadata": {},
   "outputs": [],
   "source": [
    "common = phi_n.V(2)*phi_n.V(4)*f_nq_nq7\n",
    "terms_without_c = (17/8)*a^10 + (17/8)*a^8*b^2 + (-7/4)*a^6*b^4 + (-7/4)*a^4*b^6 + (1/8)*a^2*b^8 + (1/8)*b^10\n",
    "terms_with_c = (17/4)*a^9*c + (-7/2)*a^5*b^4*c + (1/4)*a*b^8*c\n",
    "terms = terms_without_c + terms_with_c\n",
    "u4_next = common*terms\n",
    "\n",
    "(2*u4_pre).truncate(test_precision) == u4_next.truncate(test_precision)"
   ]
  },
  {
   "cell_type": "code",
   "execution_count": null,
   "id": "8ee9894b",
   "metadata": {},
   "outputs": [],
   "source": [
    "u5_pre = psi*psi_n*phi_n.V(4)*psi.V(2)*f_nq_nq7* (psi.V(2)^2*E6 + 3*phi^2*O6)\n",
    "\n",
    "common = 2 * phi_n.V(4)^3 * phi^2 * phi.V(2) * psi.V(4)^2\n",
    "terms = 8*a^4 - 3*b^4\n",
    "u5_post = common * f_nq_nq7 * terms \n",
    "\n",
    "u5_pre.truncate(test_precision) == u5_post.truncate(test_precision)"
   ]
  },
  {
   "cell_type": "code",
   "execution_count": null,
   "id": "f1ac8c2a",
   "metadata": {},
   "outputs": [],
   "source": [
    "common = phi_n.V(2)*phi_n.V(4)*f_nq_nq7\n",
    "terms_without_c = (/)*a^10 + (/)*a^8*b^2 + (/)*a^6*b^4 + (/)*a^4*b^6 + (/)*a^2*b^8 + (/)*b^10\n",
    "terms_with_c = (/)*a^9*c + (/)*a^7*b^2*c + (/)*a^5*b^4*c + (/)*a^3*b^6*c\n",
    "terms = terms_without_c + terms_with_c\n",
    "u1_next = common*terms\n",
    "\n",
    "(2*q*u5_pre).truncate(test_precision) == u5_next.truncate(test_precision)"
   ]
  },
  {
   "cell_type": "code",
   "execution_count": null,
   "id": "95168e42",
   "metadata": {},
   "outputs": [],
   "source": [
    "1/8 + 31/8 + 33/16 + 33/16 + 17/8 + 2 + 15/4"
   ]
  },
  {
   "cell_type": "code",
   "execution_count": null,
   "id": "b39b84a4",
   "metadata": {},
   "outputs": [],
   "source": [
    "-1/8 + 2 + 17/8"
   ]
  },
  {
   "cell_type": "code",
   "execution_count": null,
   "id": "ecbd00fc",
   "metadata": {},
   "outputs": [],
   "source": [
    "-7/2 -9/4 -9/4 -7/4 -11/4 -9/2"
   ]
  },
  {
   "cell_type": "code",
   "execution_count": null,
   "id": "77ac0f85",
   "metadata": {},
   "outputs": [],
   "source": [
    "3/8 + 7/16 + 7/16 + 1/8 + 3/4 + 3/4 "
   ]
  },
  {
   "cell_type": "code",
   "execution_count": null,
   "id": "3ff2cd2b",
   "metadata": {},
   "outputs": [],
   "source": [
    "31/8 + 33/8 + 17/4 + 15/4"
   ]
  },
  {
   "cell_type": "code",
   "execution_count": null,
   "id": "491679b1",
   "metadata": {},
   "outputs": [],
   "source": [
    "-7/2 - 5/2 -7/2 -9/2"
   ]
  },
  {
   "cell_type": "code",
   "execution_count": null,
   "id": "b855f4e5",
   "metadata": {},
   "outputs": [],
   "source": [
    "3/8 + 1/8 + 1/4 + 3/4"
   ]
  },
  {
   "cell_type": "code",
   "execution_count": null,
   "id": "029fcf9b",
   "metadata": {},
   "outputs": [],
   "source": [
    "(23/8)*a^2*b^8 + (1/8)*b^10 - (1/2)*a^3*b^6*c + (3/2)*a*b^8*c"
   ]
  },
  {
   "cell_type": "code",
   "execution_count": null,
   "id": "5a0eb57b",
   "metadata": {},
   "outputs": [],
   "source": []
  }
 ],
 "metadata": {
  "kernelspec": {
   "display_name": "SageMath 9.5",
   "language": "sage",
   "name": "sagemath"
  },
  "language_info": {
   "codemirror_mode": {
    "name": "ipython",
    "version": 3
   },
   "file_extension": ".py",
   "mimetype": "text/x-python",
   "name": "python",
   "nbconvert_exporter": "python",
   "pygments_lexer": "ipython3",
   "version": "3.9.9"
  }
 },
 "nbformat": 4,
 "nbformat_minor": 5
}
