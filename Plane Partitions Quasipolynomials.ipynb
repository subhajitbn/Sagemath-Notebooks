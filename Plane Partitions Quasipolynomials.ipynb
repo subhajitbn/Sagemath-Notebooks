{
 "cells": [
  {
   "cell_type": "code",
   "execution_count": 1,
   "metadata": {},
   "outputs": [],
   "source": [
    "%display latex"
   ]
  },
  {
   "cell_type": "code",
   "execution_count": 2,
   "metadata": {},
   "outputs": [],
   "source": [
    "# Determining n(x) choose j, where n(x) is a polynomial and j is a positive integer\n",
    "# Calculate 1(k+5 choose 5) + 19(k+4 choose 5) + 43(k+3 choose 5) + 9(k+2 choose 5)\n",
    "from functools import reduce\n",
    "#from sympy import nsimplify\n",
    "R.<k> = QQ['k']\n",
    "coeffs = [1, 19, 43, 9]\n",
    "j = 5\n",
    "#n = k+c for c in [5,4,3,2], i.e., n = k+5, k+4, k+3, k+2\n",
    "genlist = [[k+c+1-i for i in range(1,j+1)] for c in range(5,1,-1)]\n",
    "reducedlist = [reduce((lambda x, y: x * y), l) for l in genlist]\n",
    "apply_coeffs = [a * b for a,b in zip(coeffs, reducedlist)]\n",
    "sum_up = reduce((lambda x, y: x + y), apply_coeffs)"
   ]
  },
  {
   "cell_type": "code",
   "execution_count": 3,
   "metadata": {},
   "outputs": [
    {
     "data": {
      "text/html": [
       "<html>\\[\\newcommand{\\Bold}[1]{\\mathbf{#1}}72 k^{5} + 420 k^{4} + 920 k^{3} + 960 k^{2} + 508 k + 120\\]</html>"
      ],
      "text/latex": [
       "$$\\newcommand{\\Bold}[1]{\\mathbf{#1}}72 k^{5} + 420 k^{4} + 920 k^{3} + 960 k^{2} + 508 k + 120$$"
      ],
      "text/plain": [
       "72*k^5 + 420*k^4 + 920*k^3 + 960*k^2 + 508*k + 120"
      ]
     },
     "execution_count": 3,
     "metadata": {},
     "output_type": "execute_result"
    }
   ],
   "source": [
    "sum_up"
   ]
  },
  {
   "cell_type": "code",
   "execution_count": 4,
   "metadata": {},
   "outputs": [
    {
     "data": {
      "text/html": [
       "<html>\\[\\newcommand{\\Bold}[1]{\\mathbf{#1}}\\frac{3}{5} k^{5} + \\frac{7}{2} k^{4} + \\frac{23}{3} k^{3} + 8 k^{2} + \\frac{127}{30} k + 1\\]</html>"
      ],
      "text/latex": [
       "$$\\newcommand{\\Bold}[1]{\\mathbf{#1}}\\frac{3}{5} k^{5} + \\frac{7}{2} k^{4} + \\frac{23}{3} k^{3} + 8 k^{2} + \\frac{127}{30} k + 1$$"
      ],
      "text/plain": [
       "3/5*k^5 + 7/2*k^4 + 23/3*k^3 + 8*k^2 + 127/30*k + 1"
      ]
     },
     "execution_count": 4,
     "metadata": {},
     "output_type": "execute_result"
    }
   ],
   "source": [
    "sum_up/120"
   ]
  }
 ],
 "metadata": {
  "kernelspec": {
   "display_name": "SageMath 9.5",
   "language": "sage",
   "name": "sagemath"
  },
  "language_info": {
   "codemirror_mode": {
    "name": "ipython",
    "version": 3
   },
   "file_extension": ".py",
   "mimetype": "text/x-python",
   "name": "python",
   "nbconvert_exporter": "python",
   "pygments_lexer": "ipython3",
   "version": "3.9.9"
  }
 },
 "nbformat": 4,
 "nbformat_minor": 4
}
