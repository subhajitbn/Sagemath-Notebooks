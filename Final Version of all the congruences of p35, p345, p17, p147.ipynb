{
 "cells": [
  {
   "cell_type": "markdown",
   "id": "d75a000e",
   "metadata": {},
   "source": [
    "# Ramanujan's Theta Functions\n",
    "\n",
    "## Definitions\n",
    "\n",
    "Let $a$ and $b$ be integers. Then we define \n",
    "$$\n",
    "f(a,b) := (-q^a;q^{a+b})_{\\infty}(-q^b;q^{a+b})_{\\infty}(q^{a+b};q^{a+b})_{\\infty}.\n",
    "$$\n",
    "\n",
    "For the ease of programming, we break the above into two different functions defined below.\n",
    "\n",
    "$$\n",
    "sf(a,b) :=  (-q^a;q^{a+b})_{\\infty}\n",
    "$$\n",
    "and\n",
    "$$\n",
    "f_n := (q^{n};q^{n})_{\\infty}.\n",
    "$$\n",
    "\n",
    "This implies,\n",
    "\n",
    "$$\n",
    "f(a,b) \\quad = \\quad sf(a,b) \\; sf(b,a) \\; f_{a+b}.\n",
    "$$\n",
    "\n",
    "Note that, to avoid confusion, we rename $f(a,b)$ to $ftheta(a,b)$ and $f_n$ to $f(n)$ in the following code. "
   ]
  },
  {
   "cell_type": "code",
   "execution_count": 13,
   "id": "e269b40b",
   "metadata": {},
   "outputs": [],
   "source": [
    "%display latex"
   ]
  },
  {
   "cell_type": "code",
   "execution_count": 14,
   "id": "3a4e2988",
   "metadata": {},
   "outputs": [],
   "source": [
    "from sage.modular.etaproducts import qexp_eta\n",
    "from math import floor\n",
    "import numpy as np"
   ]
  },
  {
   "cell_type": "code",
   "execution_count": 15,
   "id": "98f0c306",
   "metadata": {},
   "outputs": [],
   "source": [
    "R.<q> = PowerSeriesRing(ZZ)\n",
    "precision = 500\n",
    "f1 = qexp_eta(ZZ[['q']], precision)\n",
    "\n",
    "def sf(a, b):\n",
    "    top = floor((precision-a)/(a+b))\n",
    "    base = 1\n",
    "    for r in range(0,top):\n",
    "        next_term = 1 + q^(a+r*(a+b))\n",
    "        base = base * next_term\n",
    "    return base + O(q^precision)\n",
    "\n",
    "def f(n):\n",
    "    return f1.V(n)\n",
    "\n",
    "def ftheta(a,b):\n",
    "    return sf(a,b)*sf(b,a)*f(a+b)"
   ]
  },
  {
   "cell_type": "code",
   "execution_count": 16,
   "id": "ad0d0486",
   "metadata": {},
   "outputs": [
    {
     "data": {
      "text/html": [
       "<html>\\[\\newcommand{\\Bold}[1]{\\mathbf{#1}}1 +  q +  q^{7} +  q^{10} +  q^{22} +  q^{27} +  q^{45} +  q^{52} +  q^{76} +  q^{85} +  q^{115} +  q^{126} +  q^{162} +  q^{175} +  q^{217} +  q^{232} +  q^{280} +  q^{297} +  q^{351} +  q^{370} +  q^{430} +  q^{451} -  q^{495} -  q^{496} -  q^{497} -  q^{498} + O(q^{500})\\]</html>"
      ],
      "text/latex": [
       "$$\\newcommand{\\Bold}[1]{\\mathbf{#1}}1 +  q +  q^{7} +  q^{10} +  q^{22} +  q^{27} +  q^{45} +  q^{52} +  q^{76} +  q^{85} +  q^{115} +  q^{126} +  q^{162} +  q^{175} +  q^{217} +  q^{232} +  q^{280} +  q^{297} +  q^{351} +  q^{370} +  q^{430} +  q^{451} -  q^{495} -  q^{496} -  q^{497} -  q^{498} + O(q^{500})$$"
      ],
      "text/plain": [
       "1 + q + q^7 + q^10 + q^22 + q^27 + q^45 + q^52 + q^76 + q^85 + q^115 + q^126 + q^162 + q^175 + q^217 + q^232 + q^280 + q^297 + q^351 + q^370 + q^430 + q^451 - q^495 - q^496 - q^497 - q^498 + O(q^500)"
      ]
     },
     "execution_count": 16,
     "metadata": {},
     "output_type": "execute_result"
    }
   ],
   "source": [
    "# Define f(q,q^7)\n",
    "\n",
    "f_q_q7 = ftheta(1,7)\n",
    "\n",
    "f_q_q7"
   ]
  },
  {
   "cell_type": "code",
   "execution_count": 17,
   "id": "21a7f96e",
   "metadata": {},
   "outputs": [
    {
     "data": {
      "text/html": [
       "<html>\\[\\newcommand{\\Bold}[1]{\\mathbf{#1}}1 +  q^{3} +  q^{5} +  q^{14} +  q^{18} +  q^{33} +  q^{39} +  q^{60} +  q^{68} +  q^{95} +  q^{105} +  q^{138} +  q^{150} +  q^{189} +  q^{203} +  q^{248} +  q^{264} +  q^{315} +  q^{333} +  q^{390} +  q^{410} +  q^{473} -  q^{493} +  q^{495} -  q^{496} -  q^{498} -  q^{499} + O(q^{500})\\]</html>"
      ],
      "text/latex": [
       "$$\\newcommand{\\Bold}[1]{\\mathbf{#1}}1 +  q^{3} +  q^{5} +  q^{14} +  q^{18} +  q^{33} +  q^{39} +  q^{60} +  q^{68} +  q^{95} +  q^{105} +  q^{138} +  q^{150} +  q^{189} +  q^{203} +  q^{248} +  q^{264} +  q^{315} +  q^{333} +  q^{390} +  q^{410} +  q^{473} -  q^{493} +  q^{495} -  q^{496} -  q^{498} -  q^{499} + O(q^{500})$$"
      ],
      "text/plain": [
       "1 + q^3 + q^5 + q^14 + q^18 + q^33 + q^39 + q^60 + q^68 + q^95 + q^105 + q^138 + q^150 + q^189 + q^203 + q^248 + q^264 + q^315 + q^333 + q^390 + q^410 + q^473 - q^493 + q^495 - q^496 - q^498 - q^499 + O(q^500)"
      ]
     },
     "execution_count": 17,
     "metadata": {},
     "output_type": "execute_result"
    }
   ],
   "source": [
    "# Define f(q^3,q^5)\n",
    "\n",
    "f_q3_q5 = ftheta(3,5)\n",
    "\n",
    "f_q3_q5"
   ]
  },
  {
   "cell_type": "code",
   "execution_count": 18,
   "id": "6a2517bc",
   "metadata": {},
   "outputs": [],
   "source": [
    "# The purpose of this codeblock is to replace q with -q in a theta function ftheta(a,b)\n",
    "\n",
    "def isodd(number):\n",
    "    \"\"\"\n",
    "    Checks whether an integer is odd\n",
    "    \"\"\"\n",
    "    \n",
    "    return number % 2 == 1\n",
    "\n",
    "\n",
    "def turn_odd_coefficients_negative(coefficients_list):\n",
    "    \"\"\"\n",
    "    Takes a list and returns another list with the odd-positioned elements turned into negatives \n",
    "    \"\"\"\n",
    "    \n",
    "    odd_neg_coefficients_list = coefficients_list\n",
    "    for i in range(len(coefficients_list)):\n",
    "        if isodd(i):\n",
    "            odd_neg_coefficients_list[i] = -odd_neg_coefficients_list[i]\n",
    "    return odd_neg_coefficients_list\n",
    "\n",
    "\n",
    "def replace_neg_q_in_ftheta(f_q):\n",
    "    \"\"\"\n",
    "    Takes a truncated power series returns another truncated power series function with q replaced with -q\n",
    "    \"\"\"\n",
    "    \n",
    "    coefficients_list = f_q.list()\n",
    "    return R(turn_odd_coefficients_negative(coefficients_list), precision)"
   ]
  },
  {
   "cell_type": "code",
   "execution_count": 19,
   "id": "bb521d02",
   "metadata": {},
   "outputs": [
    {
     "data": {
      "text/html": [
       "<html>\\[\\newcommand{\\Bold}[1]{\\mathbf{#1}}1 -  q -  q^{7} +  q^{10} +  q^{22} -  q^{27} -  q^{45} +  q^{52} +  q^{76} -  q^{85} -  q^{115} +  q^{126} +  q^{162} -  q^{175} -  q^{217} +  q^{232} +  q^{280} -  q^{297} -  q^{351} +  q^{370} +  q^{430} -  q^{451} +  q^{495} -  q^{496} +  q^{497} -  q^{498} + O(q^{500})\\]</html>"
      ],
      "text/latex": [
       "$$\\newcommand{\\Bold}[1]{\\mathbf{#1}}1 -  q -  q^{7} +  q^{10} +  q^{22} -  q^{27} -  q^{45} +  q^{52} +  q^{76} -  q^{85} -  q^{115} +  q^{126} +  q^{162} -  q^{175} -  q^{217} +  q^{232} +  q^{280} -  q^{297} -  q^{351} +  q^{370} +  q^{430} -  q^{451} +  q^{495} -  q^{496} +  q^{497} -  q^{498} + O(q^{500})$$"
      ],
      "text/plain": [
       "1 - q - q^7 + q^10 + q^22 - q^27 - q^45 + q^52 + q^76 - q^85 - q^115 + q^126 + q^162 - q^175 - q^217 + q^232 + q^280 - q^297 - q^351 + q^370 + q^430 - q^451 + q^495 - q^496 + q^497 - q^498 + O(q^500)"
      ]
     },
     "execution_count": 19,
     "metadata": {},
     "output_type": "execute_result"
    }
   ],
   "source": [
    "# Define f(-q,-q^7)\n",
    "\n",
    "f_nq_nq7 = replace_neg_q_in_ftheta(f_q_q7)\n",
    "\n",
    "f_nq_nq7"
   ]
  },
  {
   "cell_type": "code",
   "execution_count": 20,
   "id": "cfe2dc6d",
   "metadata": {},
   "outputs": [
    {
     "data": {
      "text/html": [
       "<html>\\[\\newcommand{\\Bold}[1]{\\mathbf{#1}}1 -  q^{3} -  q^{5} +  q^{14} +  q^{18} -  q^{33} -  q^{39} +  q^{60} +  q^{68} -  q^{95} -  q^{105} +  q^{138} +  q^{150} -  q^{189} -  q^{203} +  q^{248} +  q^{264} -  q^{315} -  q^{333} +  q^{390} +  q^{410} -  q^{473} +  q^{493} -  q^{495} -  q^{496} -  q^{498} +  q^{499} + O(q^{500})\\]</html>"
      ],
      "text/latex": [
       "$$\\newcommand{\\Bold}[1]{\\mathbf{#1}}1 -  q^{3} -  q^{5} +  q^{14} +  q^{18} -  q^{33} -  q^{39} +  q^{60} +  q^{68} -  q^{95} -  q^{105} +  q^{138} +  q^{150} -  q^{189} -  q^{203} +  q^{248} +  q^{264} -  q^{315} -  q^{333} +  q^{390} +  q^{410} -  q^{473} +  q^{493} -  q^{495} -  q^{496} -  q^{498} +  q^{499} + O(q^{500})$$"
      ],
      "text/plain": [
       "1 - q^3 - q^5 + q^14 + q^18 - q^33 - q^39 + q^60 + q^68 - q^95 - q^105 + q^138 + q^150 - q^189 - q^203 + q^248 + q^264 - q^315 - q^333 + q^390 + q^410 - q^473 + q^493 - q^495 - q^496 - q^498 + q^499 + O(q^500)"
      ]
     },
     "execution_count": 20,
     "metadata": {},
     "output_type": "execute_result"
    }
   ],
   "source": [
    "# Define f(-q^3,-q^5)\n",
    "\n",
    "f_nq3_nq5 = replace_neg_q_in_ftheta(f_q3_q5)\n",
    "\n",
    "f_nq3_nq5"
   ]
  },
  {
   "cell_type": "code",
   "execution_count": 21,
   "id": "467201d2",
   "metadata": {},
   "outputs": [],
   "source": [
    "# Define a few elementary theta functions\n",
    "\n",
    "f2 = f1.V(2)\n",
    "f4 = f1.V(4)\n",
    "f8 = f1.V(8)"
   ]
  },
  {
   "cell_type": "code",
   "execution_count": 22,
   "id": "69a14988",
   "metadata": {},
   "outputs": [],
   "source": [
    "# Define the standard Ramanujan theta functions phi and psi\n",
    "\n",
    "phi = ftheta(1,1)\n",
    "\n",
    "psi = ftheta(1,3)"
   ]
  },
  {
   "cell_type": "code",
   "execution_count": 23,
   "id": "f31cb23b",
   "metadata": {},
   "outputs": [
    {
     "data": {
      "text/html": [
       "<html>\\[\\newcommand{\\Bold}[1]{\\mathbf{#1}}\\left(\\mathrm{True}, \\mathrm{True}\\right)\\]</html>"
      ],
      "text/latex": [
       "$$\\newcommand{\\Bold}[1]{\\mathbf{#1}}\\left(\\mathrm{True}, \\mathrm{True}\\right)$$"
      ],
      "text/plain": [
       "(True, True)"
      ]
     },
     "execution_count": 23,
     "metadata": {},
     "output_type": "execute_result"
    }
   ],
   "source": [
    "# This tests the definitions of phi and psi against their well known elementary theta series expressions\n",
    "# The output should be (True,True)\n",
    "\n",
    "# Comment out the block to save resources\n",
    "\n",
    "def test_phi_and_psi():\n",
    "    test_precision = precision - 10\n",
    "    istrue_phi = phi.truncate(test_precision) == ((f2^5)/(f1^2*f4^2)).truncate(test_precision)\n",
    "    istrue_psi = psi.truncate(test_precision) == ((f2^2)/f1).truncate(test_precision)\n",
    "    return istrue_phi, istrue_psi\n",
    "\n",
    "test_phi_and_psi()"
   ]
  },
  {
   "cell_type": "code",
   "execution_count": 24,
   "id": "4323fc0d",
   "metadata": {},
   "outputs": [],
   "source": [
    "# Define phi(-q) and psi(-q)\n",
    "\n",
    "phi_n = replace_neg_q_in_ftheta(phi)\n",
    "\n",
    "psi_n = replace_neg_q_in_ftheta(psi)"
   ]
  },
  {
   "cell_type": "code",
   "execution_count": 25,
   "id": "5cc5ca9d",
   "metadata": {},
   "outputs": [
    {
     "data": {
      "text/html": [
       "<html>\\[\\newcommand{\\Bold}[1]{\\mathbf{#1}}\\left(\\mathrm{True}, \\mathrm{True}\\right)\\]</html>"
      ],
      "text/latex": [
       "$$\\newcommand{\\Bold}[1]{\\mathbf{#1}}\\left(\\mathrm{True}, \\mathrm{True}\\right)$$"
      ],
      "text/plain": [
       "(True, True)"
      ]
     },
     "execution_count": 25,
     "metadata": {},
     "output_type": "execute_result"
    }
   ],
   "source": [
    "# This tests the definitions of phi(-q) and psi(-q) against their well known elementary theta series expressions\n",
    "# The output should be (True,True)\n",
    "\n",
    "# Comment out the block to save resources\n",
    "\n",
    "def test_phi_n_and_psi_n():\n",
    "    test_precision = precision - 10\n",
    "    istrue_phi_n = phi_n.truncate(test_precision) == ((f1^2)/f2).truncate(test_precision)\n",
    "    istrue_psi_n = psi_n.truncate(test_precision) == ((f1*f4)/f2).truncate(test_precision)\n",
    "    return istrue_phi_n, istrue_psi_n\n",
    "\n",
    "test_phi_n_and_psi_n()"
   ]
  },
  {
   "cell_type": "code",
   "execution_count": 26,
   "id": "5d6aff81",
   "metadata": {},
   "outputs": [],
   "source": [
    "op345 = (f_q3_q5/f_nq3_nq5) * (phi_n.V(8)/phi_n.V(4))"
   ]
  },
  {
   "cell_type": "markdown",
   "id": "3daf2cb6",
   "metadata": {},
   "source": [
    "# Preliminary shorthands\n",
    "\n",
    "## Useful expressions\n",
    "1. $f(q,-q^3) = f(-q^6,-q^{10}) + qf(-q^2,-q^{14})$\n",
    "\n",
    "\n",
    "2. $f(-q,q^3) = f(-q^6,-q^{10}) - qf(-q^2,-q^{14})$\n",
    "\n",
    "## 2-Disections\n",
    "1. $\\varphi^2(q) = E_2(q^2) + 4qO_2(q^2)$, where $E2 = E_2(q)$ and $O2 = O_2(q)$.\n",
    "\n",
    "\n",
    "2. $\\varphi^3(q) = E_3(q^2) + 2qO_3(q^2)$, where $E3 = E_3(q)$ and $O3 = O_3(q)$.\n",
    "\n",
    "\n",
    "3. $\\varphi^4(q) = E_4(q^2) + 8qO_4(q^2)$, where $E4 = E_4(q)$ and $O4 = O_4(q)$.\n",
    "\n",
    "\n",
    "4. $\\varphi^6(q) = E_6(q^2) + 4qO_6(q^2)$, where $E6 = E_6(q)$ and $O6 = O_6(q)$.\n",
    "\n",
    "\n",
    "5. $\\varphi^7(q) = E_7(q^2) + 2qO_7(q^2)$, where $E7 = E_7(q)$ and $O7 = O_7(q)$.\n",
    "\n",
    "\n",
    "6. $\\psi(q) * \\varphi^2(q) = A(q^2) + qB(q^2)$, where $A = A(q)$ and $B = B(q)$.\n",
    "\n",
    "\n",
    "7. $\\psi(q) * [f(-q^6,-q^{10}) - q*f(-q^2,-q^{14})] = M_1(q^2) + qN_1(q^2)$, where $M1 = M_1(q)$ and $N1 = N_1(q)$.\n",
    "\n",
    "\n",
    "8. $\\psi(q) * [f(-q^6,-q^{10}) + q*f(-q^2,-q^{14})] = \\overline{M}_1(q^2) + q\\overline{N}_1(q^2)$, where $Mo1 = \\overline{M}_1(q)$ and $No1 = \\overline{N}_1(q)$.\n",
    "\n",
    "\n",
    "9. $\\psi(q)*f(-q^2,-q^{14}) = M_2(q^2) + qN_2(q^2)$, where $M2 = M_2(q)$ and $N2 = N_2(q)$.\n",
    "\n",
    "\n",
    "10. $\\psi(q)*f(-q^6,-q^{10}) = \\overline{M}_2(q^2) + q\\overline{N}_2(q^2)$, where $Mo2 = \\overline{M}_2(q)$ and $No2 = \\overline{N}_2(q)$."
   ]
  },
  {
   "cell_type": "code",
   "execution_count": 27,
   "id": "4d35c6f4",
   "metadata": {},
   "outputs": [],
   "source": [
    "# Preliminary shorthands\n",
    "\n",
    "f_q_nq3 = f_nq3_nq5.V(2) + q * f_nq_nq7.V(2)\n",
    "f_nq_q3 = f_nq3_nq5.V(2) - q * f_nq_nq7.V(2)\n",
    "\n",
    "E3 = phi.V(2) * (phi.V(2)^2 + 12*q*psi.V(4)^2)\n",
    "O3 = psi.V(4) * (3*phi.V(2)^2 + 4*q*psi.V(4)^2)\n",
    "\n",
    "# \\varphi^4(q) = E_4(q^2) + 8qO_4(q^2)\n",
    "# E4 = E4(q), O4 = O4(q)\n",
    "E4 = phi^4 + 16*q*psi.V(2)^4\n",
    "O4 = phi^2 * psi.V(2)^2\n",
    "\n",
    "# \\varphi^6(q) = E_6(q^2) + 4q*O_6(q^2)\n",
    "# E6 = E_6(q), O6 = O_6(q)\n",
    "E6 = phi^2*(phi^4 + 48*q*psi.V(2)^4)\n",
    "O6 = psi.V(2)^2*(3*phi^4 + 16*q*psi.V(2)^4)\n",
    "\n",
    "# \\varphi^7(q) = E_7(q^2) + 2q*O_7(q^2)\n",
    "# E7 = E_7(q), O7 = O_7(q)\n",
    "XE = q*psi.V(4)*psi.V(2)^2*(3*phi^4 + 6*phi.V(2)^2*phi^2 + 16*q*psi.V(2)^4)\n",
    "XO = phi.V(2)*psi.V(2)^2*(phi^4 + 6*q*psi.V(4)^2*phi^2 + 4*q*psi.V(2)^4)\n",
    "E7 = phi.V(2)*phi^6 + 8*XE\n",
    "O7 = phi^4*psi.V(4)*(phi^2 - 2*phi.V(2)^2) + 8*XO\n",
    "\n",
    "# \\psi(q) * phi^2(q) = A(q^2) + qB(q^2)\n",
    "# A = A(q), B = B(q)\n",
    "A = phi^2*f_q3_q5 + 4*q*psi.V(2)^2*f_q_q7\n",
    "B = phi^2*f_q_q7 + 4*psi.V(2)^2*f_q3_q5\n",
    "\n",
    "# \\psi(q) * [f(-q^6,-q^{10}) - q*f(-q^2,-q^{14})] = M_1(q^2) + N_1(q^2)\n",
    "# M1 = M_1(q), N1 = N_1(q)\n",
    "M1 = phi_n.V(8) * f_nq_q3\n",
    "N1 = q*psi_n.V(4)*f_nq_nq7.V(2)\n",
    "\n",
    "# \\psi(q) * [f(-q^6,-q^{10}) + q*f(-q^2,-q^{14})] = \\overline{M}_1(q^2) + \\overline{N}_1(q^2)\n",
    "# Mo1 = \\overline{M}_1(q), No1 = \\overline{N}_1(q)\n",
    "Mo1 = phi_n.V(8) * f_q_nq3\n",
    "No1 = psi_n.V(4)*f_nq3_nq5.V(2)\n",
    "\n",
    "# \\psi(q)*f(-q^2,-q^{14}) = M_2(q^2) + q*N_2(q^2)\n",
    "# M2 = M_2(q), N2 = N_2(q)\n",
    "M2 = psi_n.V(4)*f_nq_q3\n",
    "N2 = phi_n.V(8)*f_nq_nq7.V(2)\n",
    "\n",
    "# \\psi(q)*f(-q^6,-q^{10}) = \\overline{M}_2(q^2) + \\overline{N}_2(q^2)\n",
    "# Mo2 = \\overline{M}_2(q), No2 = \\overline{N}_2(q)\n",
    "Mo2 = phi_n.V(8)*f_nq3_nq5.V(2)\n",
    "No2 = psi_n.V(4)*f_q_nq3\n",
    "\n",
    "# \\varphi(q) E3(q) = \\varphi(q^2) \\left(T1(q^2) + 2qT2(q^2)\\right)\n",
    "# \\varphi(q) O3(q) = \\psi(q^4) \\left(\\overline{T}1(q^2) + 2q\\overline{T}2(q^2)\\right)\n",
    "# f(q,-q^3) O3(Q) = \\psi(q^4) \\left(T3(q^2) + qT4(q^2)\\right)\n",
    "# \\varphi(q) f(q,-q^3) O3(Q) = \\psi(q^4) \\left(Y1(q^2) + qY2(q^2)\\right)\n",
    "\n",
    "T1 = phi^2*phi.V(2) + 24*q*psi.V(2)^2*psi.V(4)\n",
    "T2 = phi^2*psi.V(4) + 6*psi.V(2)^2*phi.V(2)\n",
    "To1 = 3*phi^2*phi.V(2) + 8*q*psi.V(2)^2*psi.V(4)\n",
    "To2 = 3*psi.V(4)*phi^2 + 2*psi.V(2)^2*phi.V(2)\n",
    "T3 = 3*f_nq3_nq5*phi^2 + 4*q*f_nq_nq7*psi.V(2)^2\n",
    "T4 = 4*f_nq3_nq5*psi.V(2)^2 + 3*f_nq_nq7*phi^2\n",
    "Y1 = To1*f_nq3_nq5 + 2*q*To2*f_nq_nq7\n",
    "Y2 = To1*f_nq_nq7 + 2*To2*f_nq3_nq5"
   ]
  },
  {
   "cell_type": "code",
   "execution_count": 28,
   "id": "3ebb7059",
   "metadata": {},
   "outputs": [
    {
     "data": {
      "text/html": [
       "<html>\\[\\newcommand{\\Bold}[1]{\\mathbf{#1}}\\left(\\mathrm{True}, \\mathrm{True}, \\mathrm{True}, \\mathrm{True}, \\mathrm{True}, \\mathrm{True}, \\mathrm{True}, \\mathrm{True}, \\mathrm{True}, \\mathrm{True}, \\mathrm{True}, \\mathrm{True}\\right)\\]</html>"
      ],
      "text/latex": [
       "$$\\newcommand{\\Bold}[1]{\\mathbf{#1}}\\left(\\mathrm{True}, \\mathrm{True}, \\mathrm{True}, \\mathrm{True}, \\mathrm{True}, \\mathrm{True}, \\mathrm{True}, \\mathrm{True}, \\mathrm{True}, \\mathrm{True}, \\mathrm{True}, \\mathrm{True}\\right)$$"
      ],
      "text/plain": [
       "(True, True, True, True, True, True, True, True, True, True, True, True)"
      ]
     },
     "execution_count": 28,
     "metadata": {},
     "output_type": "execute_result"
    }
   ],
   "source": [
    "# Tests\n",
    "\n",
    "def test_preliminary_shorthands():\n",
    "    test_precision = precision - 5\n",
    "    istrue_01 = (phi^3).truncate(test_precision) == (E3.V(2) + 2*q*O3.V(2)).truncate(test_precision)\n",
    "    istrue_02 = (phi^4).truncate(test_precision) == (E4.V(2) + 8*q*O4.V(2)).truncate(test_precision)\n",
    "    istrue_03 = (phi^6).truncate(test_precision) == (E6.V(2) + 4*q*O6.V(2)).truncate(test_precision)\n",
    "    istrue_04 = (phi^7).truncate(test_precision) == (E7.V(2) + 2*q*O7.V(2)).truncate(test_precision)\n",
    "    istrue_05 = (psi*phi^2).truncate(test_precision) == (A.V(2) + q*B.V(2)).truncate(test_precision)\n",
    "    istrue_06 = (psi*(f_nq3_nq5.V(2) - q*f_nq_nq7.V(2))).truncate(test_precision) == (M1.V(2) + 2*q*N1.V(2)).truncate(test_precision)\n",
    "    istrue_07 = (psi*(f_nq3_nq5.V(2) + q*f_nq_nq7.V(2))).truncate(test_precision) == (Mo1.V(2) + 2*q*No1.V(2)).truncate(test_precision)\n",
    "    istrue_08 = (psi*f_nq_nq7.V(2)).truncate(test_precision) == (M2.V(2) + q*N2.V(2)).truncate(test_precision)\n",
    "    istrue_09 = (psi*f_nq3_nq5.V(2)).truncate(test_precision) == (Mo2.V(2) + q*No2.V(2)).truncate(test_precision)\n",
    "    istrue_10 = (phi*E3).truncate(test_precision) == (phi.V(2)*(T1.V(2) + 2*q*T2.V(2))).truncate(test_precision)\n",
    "    istrue_11 = (phi*O3).truncate(test_precision) == (psi.V(4)*(To1.V(2) + 2*q*To2.V(2))).truncate(test_precision)\n",
    "    istrue_12 = (f_q_nq3*(3*phi.V(2)^2+4*q*psi.V(4)^2)).truncate(test_precision) == (T3.V(2) + q*T4.V(2)).truncate(test_precision)\n",
    "    return istrue_01, istrue_02, istrue_03, istrue_04, istrue_05, istrue_06, istrue_07, istrue_08, istrue_09, istrue_10, istrue_11, istrue_12\n",
    "\n",
    "test_preliminary_shorthands()"
   ]
  },
  {
   "cell_type": "code",
   "execution_count": 29,
   "id": "6567434e",
   "metadata": {},
   "outputs": [
    {
     "data": {
      "text/html": [
       "<html>\\[\\newcommand{\\Bold}[1]{\\mathbf{#1}}\\left(\\mathrm{True}, \\mathrm{True}, \\mathrm{True}, \\mathrm{True}\\right)\\]</html>"
      ],
      "text/latex": [
       "$$\\newcommand{\\Bold}[1]{\\mathbf{#1}}\\left(\\mathrm{True}, \\mathrm{True}, \\mathrm{True}, \\mathrm{True}\\right)$$"
      ],
      "text/plain": [
       "(True, True, True, True)"
      ]
     },
     "execution_count": 29,
     "metadata": {},
     "output_type": "execute_result"
    }
   ],
   "source": [
    "test_precision = precision - 10\n",
    "\n",
    "def verify_phi7_O3():\n",
    "    even = psi.V(2)*(3*phi.V(2)*phi^8 + 24*phi^2*XE + 8*q*psi.V(2)^2*O7)\n",
    "    odd = psi.V(2)*(6*phi^8*psi.V(4) - 12*phi^6*phi.V(2)^2*psi.V(4) + 4*psi.V(2)^2*E7 + 48*phi^2*XO)\n",
    "    check = ((phi^7*O3).truncate(test_precision) == (even.V(2)+q*odd.V(2)).truncate(test_precision))\n",
    "    return check\n",
    "\n",
    "def verify_phi7_E3():\n",
    "    even = phi*(phi.V(2)*phi^8 + 8*phi^2*XE +24*q*psi.V(2)^2*O7)\n",
    "    odd = 2*phi*(phi^8*psi.V(4) - 2*phi^6*phi.V(2)^2*psi.V(4) + 6*psi.V(2)^2*E7 + 8*phi^2*XO)\n",
    "    check = ((phi^7*E3).truncate(test_precision) == (even.V(2)+q*odd.V(2)).truncate(test_precision))\n",
    "    return check\n",
    "\n",
    "def verify_phi6_O3():\n",
    "    #even = psi.V(2)*(16*q*psi.V(2)^2*O6 + 3*phi^2*E6)\n",
    "    even = psi.V(2)*(3*phi^8 + 3*48*q*phi^4*psi.V(2)^4 + 16*q*psi.V(2)^2*O6)\n",
    "    odd = 4*psi.V(2)*(psi.V(2)^2*E6 + 3*phi^2*O6)\n",
    "    check = ((phi^6*O3).truncate(test_precision) == (even.V(2)+q*odd.V(2)).truncate(test_precision))\n",
    "    return check\n",
    "\n",
    "def verify_phi6_E3():\n",
    "    even = phi*(phi^8 + 48*q*phi^4*psi.V(2)^4 + 48*q*psi.V(2)^2*O6)\n",
    "    odd = 4*phi*(3*psi.V(2)^2*E6 + phi^2*O6)\n",
    "    check = ((phi^6*E3).truncate(test_precision) == (even.V(2)+q*odd.V(2)).truncate(test_precision))\n",
    "    return check\n",
    "\n",
    "def verify_all():\n",
    "    return verify_phi7_O3(), verify_phi7_E3(), verify_phi6_O3(), verify_phi6_E3()\n",
    "\n",
    "verify_all()"
   ]
  },
  {
   "cell_type": "markdown",
   "id": "54112a89",
   "metadata": {},
   "source": [
    "# Generating functions related to $\\overline{p}_{147}$"
   ]
  },
  {
   "cell_type": "markdown",
   "id": "014d664f",
   "metadata": {},
   "source": [
    "## $\\overline{p}_{147}(32n+18)$"
   ]
  },
  {
   "cell_type": "code",
   "execution_count": 30,
   "id": "97a255f0",
   "metadata": {},
   "outputs": [
    {
     "data": {
      "text/html": [
       "<html>\\[\\newcommand{\\Bold}[1]{\\mathbf{#1}}96 + 10672 q + 337520 q^{2} + 5991072 q^{3} + 74576768 q^{4} + O(q^{5})\\]</html>"
      ],
      "text/latex": [
       "$$\\newcommand{\\Bold}[1]{\\mathbf{#1}}96 + 10672 q + 337520 q^{2} + 5991072 q^{3} + 74576768 q^{4} + O(q^{5})$$"
      ],
      "text/plain": [
       "96 + 10672*q + 337520*q^2 + 5991072*q^3 + 74576768*q^4 + O(q^5)"
      ]
     },
     "execution_count": 30,
     "metadata": {},
     "output_type": "execute_result"
    }
   ],
   "source": [
    "common = 1/phi_n^13\n",
    "\n",
    "main = q*psi*psi_n*psi_n.V(2)*psi.V(4)*f_nq_nq7*phi^8\n",
    "\n",
    "u1 = phi_n.V(2)*phi_n.V(4)*phi*f_nq3_nq5 * (phi^6*phi.V(2)*psi.V(2)^2 + 2*(phi^2*XO+6*psi.V(2)^2*XE))\n",
    "\n",
    "u2 = phi_n.V(2)*psi_n.V(2)*psi.V(2)*f_nq3_nq5* (phi^8*phi.V(2) + 6*phi^2*XE + 2*q*psi.V(2)^2*O7 )\n",
    "\n",
    "u3 = phi_n.V(2)*psi_n.V(2)*psi.V(2)*f_nq_nq7* (2*phi^8*psi.V(4) - 3*phi^6*phi.V(2)^2*psi.V(4) + 12*phi^2*XO + psi.V(2)^2*E7)\n",
    "\n",
    "u4 = psi*psi_n*phi_n.V(4)*psi.V(2)*f_nq3_nq5* (phi^8 + 36*q*phi^4*psi.V(2)^4 + 4*q*psi.V(2)^2*O6)\n",
    "\n",
    "u5 = psi*psi_n*phi_n.V(4)*psi.V(2)*f_nq_nq7* (psi.V(2)^2*E6 + 3*phi^2*O6)\n",
    "\n",
    "u6 = psi*psi_n*psi_n.V(2)*f_nq3_nq5*phi*psi.V(2)^2*(phi^4*psi.V(2)^2 + O6)\n",
    "\n",
    "op147_32n_plus_18 = 16*common*(main + u1 + u2 + q*u3 + 2*u4 + 2*q*u5 + 24*q*u6)\n",
    "\n",
    "op147_32n_plus_18.add_bigoh(5)"
   ]
  },
  {
   "cell_type": "code",
   "execution_count": 31,
   "id": "db477119",
   "metadata": {},
   "outputs": [
    {
     "data": {
      "text/html": [
       "<html>\\[\\newcommand{\\Bold}[1]{\\mathbf{#1}}96 + 10672 q + 337520 q^{2} + 5991072 q^{3} + 74576768 q^{4} + O(q^{5})\\]</html>"
      ],
      "text/latex": [
       "$$\\newcommand{\\Bold}[1]{\\mathbf{#1}}96 + 10672 q + 337520 q^{2} + 5991072 q^{3} + 74576768 q^{4} + O(q^{5})$$"
      ],
      "text/plain": [
       "96 + 10672*q + 337520*q^2 + 5991072*q^3 + 74576768*q^4 + O(q^5)"
      ]
     },
     "execution_count": 31,
     "metadata": {},
     "output_type": "execute_result"
    }
   ],
   "source": [
    "common = phi_n.V(2)*phi_n.V(4)*f_nq_nq7 / phi_n^13\n",
    "a = phi\n",
    "b = phi_n\n",
    "c = phi.V(2)\n",
    "terms = 16*a^10 + 4*a^8*b^2 -17*a^6*b^4 -3*a^4*b^6 + (23/8)*a^2*b^8 + (1/8)*b^10 +16*a^9*c -14*a^5*b^4*c - (1/2)*a^3*b^6*c + (3/2)*a*b^8*c\n",
    "\n",
    "result = 16*common*terms\n",
    "result.add_bigoh(5)"
   ]
  },
  {
   "cell_type": "code",
   "execution_count": 32,
   "id": "34addfd1",
   "metadata": {},
   "outputs": [
    {
     "data": {
      "text/html": [
       "<html>\\[\\newcommand{\\Bold}[1]{\\mathbf{#1}}\\mathrm{True}\\]</html>"
      ],
      "text/latex": [
       "$$\\newcommand{\\Bold}[1]{\\mathbf{#1}}\\mathrm{True}$$"
      ],
      "text/plain": [
       "True"
      ]
     },
     "execution_count": 32,
     "metadata": {},
     "output_type": "execute_result"
    }
   ],
   "source": [
    "op147_32n_plus_18.truncate(test_precision) == result.truncate(test_precision)"
   ]
  },
  {
   "cell_type": "code",
   "execution_count": 33,
   "id": "6ab7df7a",
   "metadata": {},
   "outputs": [
    {
     "data": {
      "text/html": [
       "<html>\\[\\newcommand{\\Bold}[1]{\\mathbf{#1}}96 + 10672 q + 337520 q^{2} + 5991072 q^{3} + 74576768 q^{4} + O(q^{5})\\]</html>"
      ],
      "text/latex": [
       "$$\\newcommand{\\Bold}[1]{\\mathbf{#1}}96 + 10672 q + 337520 q^{2} + 5991072 q^{3} + 74576768 q^{4} + O(q^{5})$$"
      ],
      "text/plain": [
       "96 + 10672*q + 337520*q^2 + 5991072*q^3 + 74576768*q^4 + O(q^5)"
      ]
     },
     "execution_count": 33,
     "metadata": {},
     "output_type": "execute_result"
    }
   ],
   "source": [
    "# Final version\n",
    "\n",
    "simplified_terms = 16*a^10 + 4*a^8*b^2 -17*a^6*b^4 -3*a^4*b^6 +16*a^9*c -14*a^5*b^4*c - 2*a^3*b^6*c + 3*a*b^6*c^3 + 3*a^2*b^8 - q*b^8*psi.V(4)^2\n",
    "\n",
    "simplified_result = 16*common*simplified_terms\n",
    "simplified_result.add_bigoh(5)"
   ]
  },
  {
   "cell_type": "code",
   "execution_count": 34,
   "id": "a0d42df5",
   "metadata": {},
   "outputs": [
    {
     "data": {
      "text/html": [
       "<html>\\[\\newcommand{\\Bold}[1]{\\mathbf{#1}}\\mathrm{True}\\]</html>"
      ],
      "text/latex": [
       "$$\\newcommand{\\Bold}[1]{\\mathbf{#1}}\\mathrm{True}$$"
      ],
      "text/plain": [
       "True"
      ]
     },
     "execution_count": 34,
     "metadata": {},
     "output_type": "execute_result"
    }
   ],
   "source": [
    "op147_32n_plus_18.truncate(test_precision) == simplified_result.truncate(test_precision)"
   ]
  },
  {
   "cell_type": "markdown",
   "id": "8638e38c",
   "metadata": {},
   "source": [
    "## $\\overline{p}_{147}(32n+30)$"
   ]
  },
  {
   "cell_type": "code",
   "execution_count": 35,
   "id": "2777bd66",
   "metadata": {},
   "outputs": [],
   "source": [
    "test_precision = precision-20\n",
    "\n",
    "#W0 = psi_n*psi_n.V(2)*psi.V(4)*f_nq3_nq5*a^9"
   ]
  },
  {
   "cell_type": "code",
   "execution_count": 36,
   "id": "257f88f4",
   "metadata": {},
   "outputs": [
    {
     "data": {
      "text/html": [
       "<html>\\[\\newcommand{\\Bold}[1]{\\mathbf{#1}}720 + 42720 q + 1045248 q^{2} + 15962192 q^{3} + 179412448 q^{4} + 1617748496 q^{5} + O(q^{6})\\]</html>"
      ],
      "text/latex": [
       "$$\\newcommand{\\Bold}[1]{\\mathbf{#1}}720 + 42720 q + 1045248 q^{2} + 15962192 q^{3} + 179412448 q^{4} + 1617748496 q^{5} + O(q^{6})$$"
      ],
      "text/plain": [
       "720 + 42720*q + 1045248*q^2 + 15962192*q^3 + 179412448*q^4 + 1617748496*q^5 + O(q^6)"
      ]
     },
     "execution_count": 36,
     "metadata": {},
     "output_type": "execute_result"
    }
   ],
   "source": [
    "# Final version\n",
    "\n",
    "terms_for_f17 = 32*a^10 + 24*a^8*b^2 - 22*a^6*b^4 - 13*a^4*b^6 + a^2*b^8 + 32*a^9*c + 16*a^7*b^2*c - 20*a^5*b^4*c -7*a^3*b^6*c\n",
    "terms_for_f35 = b^8*(a+c)\n",
    "\n",
    "op147_32n_plus_30 = (16*psi_n*psi_n.V(2)/phi_n^13)*(f_nq3_nq5*psi.V(4)*terms_for_f35 + f_nq_nq7*terms_for_f17)\n",
    "\n",
    "op147_32n_plus_30.add_bigoh(6)"
   ]
  },
  {
   "cell_type": "code",
   "execution_count": 53,
   "id": "b993d5e2",
   "metadata": {},
   "outputs": [],
   "source": [
    "#op147 = (f_q_q7/f_nq_nq7) * (phi_n.V(8)/phi_n.V(4))\n",
    "\n",
    "#op147.add_bigoh(200)"
   ]
  },
  {
   "cell_type": "markdown",
   "id": "3f82934d",
   "metadata": {},
   "source": [
    "# Generating functions related to $\\overline{p}_{345}$"
   ]
  },
  {
   "cell_type": "markdown",
   "id": "20cb1483",
   "metadata": {},
   "source": [
    "## $\\overline{p}_{345}(32n+2)$"
   ]
  },
  {
   "cell_type": "code",
   "execution_count": 38,
   "id": "d122e570",
   "metadata": {},
   "outputs": [
    {
     "data": {
      "text/html": [
       "<html>\\[\\newcommand{\\Bold}[1]{\\mathbf{#1}}528 q + 27264 q^{2} + 621344 q^{3} + 9075664 q^{4} + 98878048 q^{5} + 870965840 q^{6} + 6514791264 q^{7} + 42751196000 q^{8} + 251835150160 q^{9} + 1354409294176 q^{10} + O(q^{11})\\]</html>"
      ],
      "text/latex": [
       "$$\\newcommand{\\Bold}[1]{\\mathbf{#1}}528 q + 27264 q^{2} + 621344 q^{3} + 9075664 q^{4} + 98878048 q^{5} + 870965840 q^{6} + 6514791264 q^{7} + 42751196000 q^{8} + 251835150160 q^{9} + 1354409294176 q^{10} + O(q^{11})$$"
      ],
      "text/plain": [
       "528*q + 27264*q^2 + 621344*q^3 + 9075664*q^4 + 98878048*q^5 + 870965840*q^6 + 6514791264*q^7 + 42751196000*q^8 + 251835150160*q^9 + 1354409294176*q^10 + O(q^11)"
      ]
     },
     "execution_count": 38,
     "metadata": {},
     "output_type": "execute_result"
    }
   ],
   "source": [
    "common = (phi_n.V(2)*phi_n.V(4)*(f_nq_nq7)) / phi_n\n",
    "\n",
    "term01 = (3*phi^4*psi.V(2)^2 + 16*q*psi.V(2)^6) / phi_n^8\n",
    "term02 = phi^3*psi.V(4) / phi_n^6\n",
    "term03 = (psi.V(4)^2*f_nq3_nq5) / (phi_n^4*f_nq_nq7)\n",
    "term04 = 8 * (phi^2*psi.V(2)^2/phi_n^10) * (phi^4 + 16*q*psi.V(2)^4)\n",
    "term05 = 2 * (phi^2*psi.V(2)^2/phi_n^6) \n",
    "\n",
    "common_next = 2*phi/phi_n^12\n",
    "\n",
    "term06 = 3*phi^6*phi.V(2)^2*psi.V(4)\n",
    "term07 = 4*q*phi^6*psi.V(4)^3\n",
    "term08 = 3*48*q*phi^2*psi.V(2)^4*phi.V(2)^2*psi.V(4)\n",
    "term09 = 4*48*q^2*phi^2*psi.V(2)^4*psi.V(4)^3\n",
    "term10 = 6*phi^4*psi.V(2)^2*phi.V(2)^3\n",
    "term11 = 72*q*phi^4*psi.V(2)^2*phi.V(2)*psi.V(4)^2\n",
    "term12 = 32*q*psi.V(2)^6*phi.V(2)^3\n",
    "term13 = 6*64*q^2*psi.V(2)^6*phi.V(2)*psi.V(4)^2 \n",
    "\n",
    "terms_06_to_13_with_common_next = common_next * (term06+term07+term08+term09+term10+term11+term12+term13)\n",
    "\n",
    "op345_32n_plus_2 = 16*q*common*(term01+term02+term03+term04+term05 + terms_06_to_13_with_common_next)\n",
    "op345_32n_plus_2.add_bigoh(11)"
   ]
  },
  {
   "cell_type": "code",
   "execution_count": 39,
   "id": "aa6652fd",
   "metadata": {},
   "outputs": [
    {
     "data": {
      "text/html": [
       "<html>\\[\\newcommand{\\Bold}[1]{\\mathbf{#1}}528 q + 27264 q^{2} + 621344 q^{3} + 9075664 q^{4} + 98878048 q^{5} + 870965840 q^{6} + 6514791264 q^{7} + 42751196000 q^{8} + 251835150160 q^{9} + 1354409294176 q^{10} + O(q^{11})\\]</html>"
      ],
      "text/latex": [
       "$$\\newcommand{\\Bold}[1]{\\mathbf{#1}}528 q + 27264 q^{2} + 621344 q^{3} + 9075664 q^{4} + 98878048 q^{5} + 870965840 q^{6} + 6514791264 q^{7} + 42751196000 q^{8} + 251835150160 q^{9} + 1354409294176 q^{10} + O(q^{11})$$"
      ],
      "text/plain": [
       "528*q + 27264*q^2 + 621344*q^3 + 9075664*q^4 + 98878048*q^5 + 870965840*q^6 + 6514791264*q^7 + 42751196000*q^8 + 251835150160*q^9 + 1354409294176*q^10 + O(q^11)"
      ]
     },
     "execution_count": 39,
     "metadata": {},
     "output_type": "execute_result"
    }
   ],
   "source": [
    "common_next = q*phi_n.V(2)*phi_n.V(4)*psi.V(4) /b^13\n",
    "first_next = psi.V(4)*(32*a^6*b^2 + b^8)\n",
    "second_next = 32*a^9 -24*a^5*b^4 -7*a^3*b^6 +2*a*b^8 + c*(4*a^4*b^4 -6*a^2*b^6 -b^8)\n",
    "\n",
    "op345_32n_plus_2_next = 16*common_next*(first_next*f_nq3_nq5 + second_next*f_nq_nq7)\n",
    "op345_32n_plus_2_next.add_bigoh(11)"
   ]
  },
  {
   "cell_type": "code",
   "execution_count": 40,
   "id": "505003b3",
   "metadata": {},
   "outputs": [
    {
     "data": {
      "text/html": [
       "<html>\\[\\newcommand{\\Bold}[1]{\\mathbf{#1}}592 q + 25184 q^{2} + 527648 q^{3} + 7399088 q^{4} + 78822144 q^{5} + 684772368 q^{6} + 5074730592 q^{7} + 33080297664 q^{8} + 193893272304 q^{9} + 1038728534112 q^{10} + O(q^{11})\\]</html>"
      ],
      "text/latex": [
       "$$\\newcommand{\\Bold}[1]{\\mathbf{#1}}592 q + 25184 q^{2} + 527648 q^{3} + 7399088 q^{4} + 78822144 q^{5} + 684772368 q^{6} + 5074730592 q^{7} + 33080297664 q^{8} + 193893272304 q^{9} + 1038728534112 q^{10} + O(q^{11})$$"
      ],
      "text/plain": [
       "592*q + 25184*q^2 + 527648*q^3 + 7399088*q^4 + 78822144*q^5 + 684772368*q^6 + 5074730592*q^7 + 33080297664*q^8 + 193893272304*q^9 + 1038728534112*q^10 + O(q^11)"
      ]
     },
     "execution_count": 40,
     "metadata": {},
     "output_type": "execute_result"
    }
   ],
   "source": [
    "common_next_next = q*phi_n.V(4)^3*psi.V(4) /(b^13*c)\n",
    "first_next_next = b^8*psi.V(4)\n",
    "second_next_next = 2*(12*a^9 + 6*a^7*b^2 -9*a^5*b^4 -a^3*b^6 + 2*a*b^8 + 8*a^6*b^2*c + 32*q*c*psi_n^8)\n",
    "\n",
    "op345_32n_plus_2_next_next = 16*common_next_next*(first_next_next*f_nq3_nq5 + second_next_next*f_nq_nq7)\n",
    "op345_32n_plus_2_next_next.add_bigoh(11)"
   ]
  },
  {
   "cell_type": "code",
   "execution_count": 41,
   "id": "9740b34f",
   "metadata": {},
   "outputs": [],
   "source": [
    "#((term01+term02+term03+term04+term05 + terms_06_to_13_with_common_next)*f_nq_nq7*b^12).add_bigoh(11)"
   ]
  },
  {
   "cell_type": "code",
   "execution_count": 42,
   "id": "1d240812",
   "metadata": {},
   "outputs": [],
   "source": [
    "#collected_1 = 32*a^9 -24*a^5*b^4 -7*a^3*b^6 +2*a*b^8 + c*(4*a^4*b^4 -6*a^2*b^6 -b^8)\n",
    "#collected_2 = 32*a^6*b^2 + b^8\n",
    "#(psi.V(4)*f_nq_nq7*collected_1 + psi.V(4)^2*f_nq3_nq5*collected_2).add_bigoh(11)"
   ]
  },
  {
   "cell_type": "code",
   "execution_count": 43,
   "id": "13d4cf2d",
   "metadata": {},
   "outputs": [],
   "source": [
    "#((term01+term02+term03+term04+term05)*f_nq_nq7*b^12).add_bigoh(11)"
   ]
  },
  {
   "cell_type": "code",
   "execution_count": 44,
   "id": "6cb3f5fb",
   "metadata": {},
   "outputs": [],
   "source": [
    "#(psi.V(4)*f_nq_nq7*(c*(4*a^4*b^4 + 16*a^6*b^2 - 6*a^2*b^6 -b^8) + a^3*b^6) + b^8*psi.V(4)^2*f_nq3_nq5).add_bigoh(11)"
   ]
  },
  {
   "cell_type": "code",
   "execution_count": 45,
   "id": "0de5a012",
   "metadata": {},
   "outputs": [],
   "source": [
    "#(psi.V(4)*f_nq_nq7*(c*(4*a^4*b^4 + 16*a^6*b^2 - 6*a^2*b^6) + a^3*b^6 + b^8*(a-c)/2)).add_bigoh(11)"
   ]
  },
  {
   "cell_type": "code",
   "execution_count": 46,
   "id": "3f9905a1",
   "metadata": {},
   "outputs": [],
   "source": [
    "#(psi.V(4)*f_nq_nq7*(c*(4*a^4*b^4 + 16*a^6*b^2 - 6*a^2*b^6 -b^8) + a^3*b^6)).add_bigoh(11)"
   ]
  },
  {
   "cell_type": "code",
   "execution_count": 47,
   "id": "14248fda",
   "metadata": {},
   "outputs": [],
   "source": [
    "#(terms_06_to_13_with_common_next*b^12).add_bigoh(11)"
   ]
  },
  {
   "cell_type": "code",
   "execution_count": 48,
   "id": "e12af790",
   "metadata": {},
   "outputs": [],
   "source": [
    "#(psi.V(4)*(32*a^9 + 16*a^7*b^2 -24*a^5*b^4 -8*a^3*b^6 +2*a*b^8)).add_bigoh(11)"
   ]
  },
  {
   "cell_type": "code",
   "execution_count": 49,
   "id": "00a13c3b",
   "metadata": {},
   "outputs": [],
   "source": [
    "#op345.add_bigoh(200)"
   ]
  },
  {
   "cell_type": "markdown",
   "id": "babb59ba",
   "metadata": {},
   "source": [
    "## $\\overline{p}_{345}(32n+14)$"
   ]
  },
  {
   "cell_type": "code",
   "execution_count": 50,
   "id": "1fad184b",
   "metadata": {},
   "outputs": [
    {
     "data": {
      "text/html": [
       "<html>\\[\\newcommand{\\Bold}[1]{\\mathbf{#1}}16 + 2672 q + 94192 q^{2} + 1770608 q^{3} + 22880240 q^{4} + 228509744 q^{5} + O(q^{6})\\]</html>"
      ],
      "text/latex": [
       "$$\\newcommand{\\Bold}[1]{\\mathbf{#1}}16 + 2672 q + 94192 q^{2} + 1770608 q^{3} + 22880240 q^{4} + 228509744 q^{5} + O(q^{6})$$"
      ],
      "text/plain": [
       "16 + 2672*q + 94192*q^2 + 1770608*q^3 + 22880240*q^4 + 228509744*q^5 + O(q^6)"
      ]
     },
     "execution_count": 50,
     "metadata": {},
     "output_type": "execute_result"
    }
   ],
   "source": [
    "Z0 = q*psi_n*psi_n.V(2)*f_nq_nq7*psi.V(4)*a^9\n",
    "\n",
    "Z1 = psi_n*psi_n.V(2)*f_nq3_nq5*(1/8)*(33*a^10 + 17*a^8*b^2 -36*a^6*b^4 -14*a^4*b^6 + 7*a^2*b^8 +b^10)\n",
    "\n",
    "Z2 = psi_n*psi_n.V(2)*f_nq_nq7*phi.V(2)*psi.V(4)*((31/2)*a^8 + 8*a^6*b^2 -10*a^4*b^4 -3*a^2*b^6 + (1/2)*b^8)\n",
    "\n",
    "Z3 = psi_n*psi_n.V(2)*f_nq_nq7*phi*psi.V(4)*((31/2)*a^8 + 8*a^6*b^2 -14*a^4*b^4 -5*a^2*b^6 + (3/2)*b^8)\n",
    "\n",
    "Z4 = psi_n*psi_n.V(2)*f_nq3_nq5*(1/16)*(5*a^10 -6*a^6*b^4 + a^2*b^8)\n",
    "\n",
    "Z5 = psi_n*psi_n.V(2)*f_nq_nq7*phi.V(2)*psi.V(4)*(16*a^8 -10*a^4*b^4)\n",
    "\n",
    "Z6 = psi_n*psi_n.V(2)*f_nq_nq7*phi.V(2)^2*psi.V(4)*(16*a^7 -6*a^3*b^4)\n",
    "\n",
    "op345_32n_plus_14 = (16/phi_n^13)*(Z0 + Z1 -q*Z2 + q*Z3 + 12*Z4 -q*Z5 + 2*q*Z6)\n",
    "op345_32n_plus_14.add_bigoh(6)"
   ]
  },
  {
   "cell_type": "code",
   "execution_count": 51,
   "id": "12d4f9fe",
   "metadata": {},
   "outputs": [
    {
     "data": {
      "text/html": [
       "<html>\\[\\newcommand{\\Bold}[1]{\\mathbf{#1}}\\mathrm{True}\\]</html>"
      ],
      "text/latex": [
       "$$\\newcommand{\\Bold}[1]{\\mathbf{#1}}\\mathrm{True}$$"
      ],
      "text/plain": [
       "True"
      ]
     },
     "execution_count": 51,
     "metadata": {},
     "output_type": "execute_result"
    }
   ],
   "source": [
    "# Final version\n",
    "\n",
    "terms = 32*a^10 - 32*a^9*c + 24*a^8*b^2 - 16*a^7*b^2*c - 22*a^6*b^4 + 20*a^5*b^4*c - 13*a^4*b^6 + 7*a^3*b^6*c + 2*a^2*b^8 - a*b^8*c - 2*q*b^8*psi.V(4)^2\n",
    "op345_32n_plus_14_simplified = (16*psi_n*psi_n.V(2)*f_nq3_nq5/phi_n^13)*terms\n",
    "op345_32n_plus_14_simplified.truncate(test_precision) == op345_32n_plus_14.truncate(test_precision)"
   ]
  },
  {
   "cell_type": "code",
   "execution_count": 52,
   "id": "3bb6026d",
   "metadata": {},
   "outputs": [],
   "source": [
    "# op345.add_bigoh(400)"
   ]
  }
 ],
 "metadata": {
  "kernelspec": {
   "display_name": "SageMath 9.5",
   "language": "sage",
   "name": "sagemath"
  },
  "language_info": {
   "codemirror_mode": {
    "name": "ipython",
    "version": 3
   },
   "file_extension": ".py",
   "mimetype": "text/x-python",
   "name": "python",
   "nbconvert_exporter": "python",
   "pygments_lexer": "ipython3",
   "version": "3.9.9"
  }
 },
 "nbformat": 4,
 "nbformat_minor": 5
}
