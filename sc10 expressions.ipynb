{
 "cells": [
  {
   "cell_type": "markdown",
   "id": "d75a000e",
   "metadata": {},
   "source": [
    "# sc10 expressions"
   ]
  },
  {
   "cell_type": "markdown",
   "id": "7c20459b",
   "metadata": {},
   "source": [
    "## The main definition\n",
    "$$\n",
    "f_n := (q^{n};q^{n})_{\\infty}.\n",
    "$$"
   ]
  },
  {
   "cell_type": "code",
   "execution_count": 1,
   "id": "e269b40b",
   "metadata": {},
   "outputs": [],
   "source": [
    "%display latex"
   ]
  },
  {
   "cell_type": "markdown",
   "id": "cbecee8c",
   "metadata": {},
   "source": [
    "## Import necessary Sagemath library"
   ]
  },
  {
   "cell_type": "code",
   "execution_count": 2,
   "id": "3a4e2988",
   "metadata": {},
   "outputs": [],
   "source": [
    "from sage.modular.etaproducts import qexp_eta"
   ]
  },
  {
   "cell_type": "markdown",
   "id": "d2789e67",
   "metadata": {},
   "source": [
    "## Define a power series ring over the field of integers"
   ]
  },
  {
   "cell_type": "code",
   "execution_count": 3,
   "id": "98f0c306",
   "metadata": {},
   "outputs": [],
   "source": [
    "R.<q> = PowerSeriesRing(ZZ)"
   ]
  },
  {
   "cell_type": "markdown",
   "id": "ebdcbe1a",
   "metadata": {},
   "source": [
    "## Set the highest precision allowed"
   ]
  },
  {
   "cell_type": "code",
   "execution_count": 4,
   "id": "b694518a",
   "metadata": {},
   "outputs": [],
   "source": [
    "precision = 10000"
   ]
  },
  {
   "cell_type": "markdown",
   "id": "e85f0c6a",
   "metadata": {},
   "source": [
    "## Set the $q$-product for $f_1 := (q;q)_{\\infty}$"
   ]
  },
  {
   "cell_type": "code",
   "execution_count": 5,
   "id": "39c60b42",
   "metadata": {},
   "outputs": [],
   "source": [
    "f1 = qexp_eta(ZZ[['q']], precision)"
   ]
  },
  {
   "cell_type": "markdown",
   "id": "94379a56",
   "metadata": {},
   "source": [
    "## Set $f_2, f_4, f_{10}, f_{20}$"
   ]
  },
  {
   "cell_type": "code",
   "execution_count": 6,
   "id": "467201d2",
   "metadata": {},
   "outputs": [],
   "source": [
    "f2 = f1.V(2)\n",
    "f4 = f1.V(4)\n",
    "f5 = f1.V(5)\n",
    "f10 = f1.V(10)\n",
    "f20 = f1.V(20)"
   ]
  },
  {
   "cell_type": "markdown",
   "id": "0794a71a",
   "metadata": {},
   "source": [
    "## Set the generating function of the self-conjugate $10$-core parition function"
   ]
  },
  {
   "cell_type": "code",
   "execution_count": 7,
   "id": "b4a2d345",
   "metadata": {},
   "outputs": [],
   "source": [
    "sc10 = (f2^2*f20^5)/(f1*f4)"
   ]
  },
  {
   "cell_type": "code",
   "execution_count": 8,
   "id": "d5de3378",
   "metadata": {},
   "outputs": [],
   "source": [
    "sc10_list = sc10.list()"
   ]
  },
  {
   "cell_type": "markdown",
   "id": "4a821f5f",
   "metadata": {},
   "source": [
    "## $q$-series expansion for self-conjugate 10-core"
   ]
  },
  {
   "cell_type": "code",
   "execution_count": 9,
   "id": "e5db5dab",
   "metadata": {},
   "outputs": [],
   "source": [
    "# sc10_25n_24 = [sc10_list[25*i + 24] for i in range(0,11)]\n",
    "# sc10_25n_24"
   ]
  },
  {
   "cell_type": "code",
   "execution_count": 10,
   "id": "42799ac1",
   "metadata": {},
   "outputs": [],
   "source": [
    "#(5*f2^5*f5^2*f10/f1^3 +f2^5*f5^2*f10/f1^3).O(11)"
   ]
  },
  {
   "cell_type": "code",
   "execution_count": 11,
   "id": "be2a853e",
   "metadata": {},
   "outputs": [],
   "source": [
    "# sc10_125n_74 = [sc10_list[125*i + 74] for i in range(0,11)]\n",
    "# sc10_125n_74"
   ]
  },
  {
   "cell_type": "code",
   "execution_count": 12,
   "id": "1ce0b164",
   "metadata": {},
   "outputs": [],
   "source": [
    "# [2*c for c in sc10_125n_74]"
   ]
  },
  {
   "cell_type": "code",
   "execution_count": 13,
   "id": "b094c75a",
   "metadata": {},
   "outputs": [],
   "source": [
    "#5*(10*f1*f2^2*f5^2 +9*q*f1^2*f2*f10^5/f5^3 +53*q*f5^4*f10^2/f1 +55*q^2*f10^7/(f2*f5) +36*q^2*f2^2*f10^8/(f1*f5^4) +2*q^4*f10^2*f20^5/(f4*f5)).O(11)"
   ]
  },
  {
   "cell_type": "code",
   "execution_count": null,
   "id": "a17d90ab",
   "metadata": {},
   "outputs": [],
   "source": []
  },
  {
   "cell_type": "code",
   "execution_count": 14,
   "id": "1d3b827d",
   "metadata": {},
   "outputs": [],
   "source": [
    "# sc10_625n_74 = [sc10_list[625*i + 74] for i in range(0,11)]\n",
    "# sc10_625n_74\n",
    "\n",
    "# # [25,775,2250,3125,5525,8525,8775,12025,16275,16275,21050]"
   ]
  },
  {
   "cell_type": "code",
   "execution_count": 16,
   "id": "af72f276",
   "metadata": {},
   "outputs": [],
   "source": [
    "# sc10_3125n_1949 = [sc10_list[3125*i + 1949] for i in range(0,11)]\n",
    "# sc10_3125n_1949\n",
    "\n",
    "# # [3125,16275,30050,45075,81400,97025,113925,165275,180275,195325,281700]"
   ]
  },
  {
   "cell_type": "code",
   "execution_count": 18,
   "id": "d7befee8",
   "metadata": {},
   "outputs": [
    {
     "data": {
      "text/html": [
       "<html>\\[\\newcommand{\\Bold}[1]{\\mathbf{#1}}3125 + 16275 q + 30050 q^{2} + 45075 q^{3} + 81400 q^{4} + 97025 q^{5} + 113925 q^{6} + 165275 q^{7} + 180275 q^{8} + 195325 q^{9} + 281700 q^{10} + O(q^{11})\\]</html>"
      ],
      "text/latex": [
       "$$\\newcommand{\\Bold}[1]{\\mathbf{#1}}3125 + 16275 q + 30050 q^{2} + 45075 q^{3} + 81400 q^{4} + 97025 q^{5} + 113925 q^{6} + 165275 q^{7} + 180275 q^{8} + 195325 q^{9} + 281700 q^{10} + O(q^{11})$$"
      ],
      "text/plain": [
       "3125 + 16275*q + 30050*q^2 + 45075*q^3 + 81400*q^4 + 97025*q^5 + 113925*q^6 + 165275*q^7 + 180275*q^8 + 195325*q^9 + 281700*q^10 + O(q^11)"
      ]
     },
     "execution_count": 18,
     "metadata": {},
     "output_type": "execute_result"
    }
   ],
   "source": [
    "A = f1*f2^2*f5^2\n",
    "B = f5^4*f10^2/f1\n",
    "C = f10^7/(f2*f5)\n",
    "D = f2^2*f4^3*f5*f20/f1^2\n",
    "\n",
    "sc10_3125n_1949_gen = 625*(5*A +31*q*B +32*q^2*f10^7/(f2*f5)) +25*q*D\n",
    "sc10_3125n_1949_gen.O(11)"
   ]
  },
  {
   "cell_type": "code",
   "execution_count": 20,
   "id": "7266b2e3",
   "metadata": {},
   "outputs": [],
   "source": [
    "# [coeff/625 for coeff in sc10_3125n_1949_gen.list()[:100]]\n",
    "\n",
    "# # Note: These are not divisible by 625 in general."
   ]
  },
  {
   "cell_type": "code",
   "execution_count": null,
   "id": "3827caed",
   "metadata": {},
   "outputs": [],
   "source": [
    "#25*(f2^4*f5^3/f10^2 +31*q*f1^2*f5*f10^2 +156*q^2*f2*f10^5/f1 +q^4*f2^2*f20^5/(f1*f4)).O(11)"
   ]
  },
  {
   "cell_type": "code",
   "execution_count": null,
   "id": "e3fd10dc",
   "metadata": {},
   "outputs": [],
   "source": []
  },
  {
   "cell_type": "code",
   "execution_count": null,
   "id": "af8ecc59",
   "metadata": {},
   "outputs": [],
   "source": [
    "# sc10_list[:9]"
   ]
  },
  {
   "cell_type": "code",
   "execution_count": null,
   "id": "eac4aaa7",
   "metadata": {},
   "outputs": [],
   "source": [
    "# sc10_25n_99 = [sc10_list[25*i + 99] for i in range(0,9)]\n",
    "# sc10_25n_99"
   ]
  },
  {
   "cell_type": "code",
   "execution_count": null,
   "id": "0e1c7081",
   "metadata": {},
   "outputs": [],
   "source": [
    "# sc10_625n_2574 = [sc10_list[625*i + 2574] for i in range(0,9)]\n",
    "# sc10_625n_2574"
   ]
  },
  {
   "cell_type": "code",
   "execution_count": null,
   "id": "f9b642ca",
   "metadata": {},
   "outputs": [],
   "source": [
    "# sc10_15625n_64449 = [sc10_list[15625*i + 64449] for i in range(0,9)]\n",
    "# sc10_15625n_64449\n",
    "\n",
    "# # [688625,1064225,1098625,1502425,2034500,2034475,2632350,3442975,3161250]"
   ]
  },
  {
   "cell_type": "code",
   "execution_count": null,
   "id": "e3f96c93",
   "metadata": {},
   "outputs": [],
   "source": [
    "# zippedlist = zip(sc10_list[:9], sc10_25n_99, sc10_625n_2574)\n",
    "# [125*t3 + 25*t2 -3125*t1 for (t1, t2, t3) in zippedlist]\n",
    "\n",
    "# # [688625,1064225,1098625,1502425,2034500,2034475,2632350,3442975,3161250]"
   ]
  },
  {
   "cell_type": "code",
   "execution_count": null,
   "id": "15113165",
   "metadata": {},
   "outputs": [],
   "source": [
    "#test the first term\n",
    "#sc10_list[1], sc10_list[124], sc10_list[3199], sc10_list[80074]"
   ]
  },
  {
   "cell_type": "code",
   "execution_count": null,
   "id": "20a3053c",
   "metadata": {},
   "outputs": [],
   "source": [
    "#125*sc10_list[3199] + 25*sc10_list[124] -3125*sc10_list[1]"
   ]
  }
 ],
 "metadata": {
  "kernelspec": {
   "display_name": "SageMath 9.5",
   "language": "sage",
   "name": "sagemath"
  },
  "language_info": {
   "codemirror_mode": {
    "name": "ipython",
    "version": 3
   },
   "file_extension": ".py",
   "mimetype": "text/x-python",
   "name": "python",
   "nbconvert_exporter": "python",
   "pygments_lexer": "ipython3",
   "version": "3.9.9"
  }
 },
 "nbformat": 4,
 "nbformat_minor": 5
}
