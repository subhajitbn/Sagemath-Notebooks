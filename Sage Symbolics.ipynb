{
 "cells": [
  {
   "cell_type": "code",
   "execution_count": 1,
   "metadata": {},
   "outputs": [],
   "source": [
    "%display latex"
   ]
  },
  {
   "cell_type": "code",
   "execution_count": 2,
   "metadata": {},
   "outputs": [
    {
     "data": {
      "text/html": [
       "<html>\\[\\newcommand{\\Bold}[1]{\\mathbf{#1}}x^{3} + 3 \\, x^{2} + 3 \\, x + 1\\]</html>"
      ],
      "text/latex": [
       "$$\\newcommand{\\Bold}[1]{\\mathbf{#1}}x^{3} + 3 \\, x^{2} + 3 \\, x + 1$$"
      ],
      "text/plain": [
       "x^3 + 3*x^2 + 3*x + 1"
      ]
     },
     "execution_count": 2,
     "metadata": {},
     "output_type": "execute_result"
    }
   ],
   "source": [
    "z = (x+1)^3\n",
    "expand(z)"
   ]
  },
  {
   "cell_type": "code",
   "execution_count": 4,
   "metadata": {},
   "outputs": [
    {
     "data": {
      "text/html": [
       "<html>\\[\\newcommand{\\Bold}[1]{\\mathbf{#1}}q^{22} + q^{21} + 3 q^{20} + 6 q^{19} + 9 q^{18} + 15 q^{17} + 19 q^{16} + 28 q^{15} + 33 q^{14} + 37 q^{13} + 43 q^{12} + 42 q^{11} + 43 q^{10} + 37 q^{9} + 33 q^{8} + 28 q^{7} + 19 q^{6} + 15 q^{5} + 9 q^{4} + 6 q^{3} + 3 q^{2} + q + 1\\]</html>"
      ],
      "text/latex": [
       "$$\\newcommand{\\Bold}[1]{\\mathbf{#1}}q^{22} + q^{21} + 3 q^{20} + 6 q^{19} + 9 q^{18} + 15 q^{17} + 19 q^{16} + 28 q^{15} + 33 q^{14} + 37 q^{13} + 43 q^{12} + 42 q^{11} + 43 q^{10} + 37 q^{9} + 33 q^{8} + 28 q^{7} + 19 q^{6} + 15 q^{5} + 9 q^{4} + 6 q^{3} + 3 q^{2} + q + 1$$"
      ],
      "text/plain": [
       "q^22 + q^21 + 3*q^20 + 6*q^19 + 9*q^18 + 15*q^17 + 19*q^16 + 28*q^15 + 33*q^14 + 37*q^13 + 43*q^12 + 42*q^11 + 43*q^10 + 37*q^9 + 33*q^8 + 28*q^7 + 19*q^6 + 15*q^5 + 9*q^4 + 6*q^3 + 3*q^2 + q + 1"
      ]
     },
     "execution_count": 4,
     "metadata": {},
     "output_type": "execute_result"
    }
   ],
   "source": [
    "R.<q> = QQ['q']\n",
    "z1 = (1+q+q^2)^3\n",
    "z2 = (1+q)^4\n",
    "z3 = (1-q+q^2)^6\n",
    "z = z1*z2*z3\n",
    "expand(z)"
   ]
  },
  {
   "cell_type": "code",
   "execution_count": 18,
   "metadata": {},
   "outputs": [],
   "source": []
  },
  {
   "cell_type": "code",
   "execution_count": null,
   "metadata": {},
   "outputs": [],
   "source": []
  },
  {
   "cell_type": "code",
   "execution_count": null,
   "metadata": {},
   "outputs": [],
   "source": []
  }
 ],
 "metadata": {
  "kernelspec": {
   "display_name": "SageMath 9.5",
   "language": "sage",
   "name": "sagemath"
  },
  "language_info": {
   "codemirror_mode": {
    "name": "ipython",
    "version": 3
   },
   "file_extension": ".py",
   "mimetype": "text/x-python",
   "name": "python",
   "nbconvert_exporter": "python",
   "pygments_lexer": "ipython3",
   "version": "3.9.9"
  }
 },
 "nbformat": 4,
 "nbformat_minor": 4
}
