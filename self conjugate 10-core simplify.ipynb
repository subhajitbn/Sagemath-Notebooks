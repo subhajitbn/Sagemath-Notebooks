{
 "cells": [
  {
   "cell_type": "code",
   "execution_count": 2,
   "id": "a424b4b1",
   "metadata": {},
   "outputs": [],
   "source": [
    "%display latex"
   ]
  },
  {
   "cell_type": "code",
   "execution_count": 3,
   "id": "b47e4a77",
   "metadata": {},
   "outputs": [
    {
     "data": {
      "text/html": [
       "<html>\\[\\newcommand{\\Bold}[1]{\\mathbf{#1}}\\left(q, f_{1}, f_{2}, f_{4}, f_{5}, f_{10}, f_{20}\\right)\\]</html>"
      ],
      "text/latex": [
       "$$\\newcommand{\\Bold}[1]{\\mathbf{#1}}\\left(q, f_{1}, f_{2}, f_{4}, f_{5}, f_{10}, f_{20}\\right)$$"
      ],
      "text/plain": [
       "(q, f1, f2, f4, f5, f10, f20)"
      ]
     },
     "execution_count": 3,
     "metadata": {},
     "output_type": "execute_result"
    }
   ],
   "source": [
    "var('q,f1,f2,f4,f5,f10,f20')"
   ]
  },
  {
   "cell_type": "code",
   "execution_count": null,
   "id": "e9f80c37",
   "metadata": {},
   "outputs": [],
   "source": []
  },
  {
   "cell_type": "code",
   "execution_count": 4,
   "id": "4f0b27db",
   "metadata": {},
   "outputs": [
    {
     "data": {
      "text/html": [
       "<html>\\[\\newcommand{\\Bold}[1]{\\mathbf{#1}}\\frac{f_{2} f_{5}^{5}}{f_{1} f_{10}^{5}}\\]</html>"
      ],
      "text/latex": [
       "$$\\newcommand{\\Bold}[1]{\\mathbf{#1}}\\frac{f_{2} f_{5}^{5}}{f_{1} f_{10}^{5}}$$"
      ],
      "text/plain": [
       "f2*f5^5/(f1*f10^5)"
      ]
     },
     "execution_count": 4,
     "metadata": {},
     "output_type": "execute_result"
    }
   ],
   "source": [
    "k = (f2/f1)*(f5^5/f10^5)\n",
    "k"
   ]
  },
  {
   "cell_type": "code",
   "execution_count": 5,
   "id": "6b8384fe",
   "metadata": {},
   "outputs": [
    {
     "data": {
      "text/html": [
       "<html>\\[\\newcommand{\\Bold}[1]{\\mathbf{#1}}\\frac{f_{10}^{5} f_{4}}{f_{2} f_{20}^{5}}\\]</html>"
      ],
      "text/latex": [
       "$$\\newcommand{\\Bold}[1]{\\mathbf{#1}}\\frac{f_{10}^{5} f_{4}}{f_{2} f_{20}^{5}}$$"
      ],
      "text/plain": [
       "f10^5*f4/(f2*f20^5)"
      ]
     },
     "execution_count": 5,
     "metadata": {},
     "output_type": "execute_result"
    }
   ],
   "source": [
    "k2 = (f4/f2)*(f10^5/f20^5)\n",
    "k2"
   ]
  },
  {
   "cell_type": "code",
   "execution_count": 6,
   "id": "9a8b0323",
   "metadata": {},
   "outputs": [
    {
     "data": {
      "text/html": [
       "<html>\\[\\newcommand{\\Bold}[1]{\\mathbf{#1}}3 \\, q + \\frac{f_{1} f_{10}^{10} f_{4}}{f_{2}^{2} f_{20}^{5} f_{5}^{5}}\\]</html>"
      ],
      "text/latex": [
       "$$\\newcommand{\\Bold}[1]{\\mathbf{#1}}3 \\, q + \\frac{f_{1} f_{10}^{10} f_{4}}{f_{2}^{2} f_{20}^{5} f_{5}^{5}}$$"
      ],
      "text/plain": [
       "3*q + f1*f10^10*f4/(f2^2*f20^5*f5^5)"
      ]
     },
     "execution_count": 6,
     "metadata": {},
     "output_type": "execute_result"
    }
   ],
   "source": [
    "D = 3*q + k2/k\n",
    "D"
   ]
  },
  {
   "cell_type": "code",
   "execution_count": 7,
   "id": "0238fcf4",
   "metadata": {},
   "outputs": [],
   "source": [
    "#A = (k + 4*q + 8*q^2/k + 16*q^3/k^2).full_simplify()\n",
    "A= (k + 4*q + 8*q^2/k + 16*q^3/k^2)"
   ]
  },
  {
   "cell_type": "code",
   "execution_count": 8,
   "id": "550eba16",
   "metadata": {},
   "outputs": [],
   "source": [
    "#C = ((2 + 4*q^2/k2)*(4*q/k) + 4*q^2/k2).full_simplify()\n",
    "C= ((2 + 4*q^2/k2)*(4*q/k) + 4*q^2/k2)"
   ]
  },
  {
   "cell_type": "code",
   "execution_count": null,
   "id": "c4afeff3",
   "metadata": {},
   "outputs": [],
   "source": []
  },
  {
   "cell_type": "code",
   "execution_count": 9,
   "id": "fa56d64f",
   "metadata": {},
   "outputs": [],
   "source": [
    "F = (f2^2 * f4 * f5^5 * f20^3) / f1^6 * (D^3 - 3*q^2*D - 6*q*D^2 + 12*q^3 + 2*q*(D*(A-D*C) + q^2*C) + 3*q^2*(A-D*C))"
   ]
  },
  {
   "cell_type": "code",
   "execution_count": 10,
   "id": "75b890bb",
   "metadata": {},
   "outputs": [
    {
     "data": {
      "text/html": [
       "<html>\\[\\newcommand{\\Bold}[1]{\\mathbf{#1}}\\frac{{\\left({\\left(3 \\, q + \\frac{f_{1} f_{10}^{10} f_{4}}{f_{2}^{2} f_{20}^{5} f_{5}^{5}}\\right)}^{3} - 6 \\, {\\left(3 \\, q + \\frac{f_{1} f_{10}^{10} f_{4}}{f_{2}^{2} f_{20}^{5} f_{5}^{5}}\\right)}^{2} q + 3 \\, {\\left(\\frac{16 \\, f_{1}^{2} f_{10}^{10} q^{3}}{f_{2}^{2} f_{5}^{10}} - 4 \\, {\\left(\\frac{2 \\, {\\left(\\frac{2 \\, f_{2} f_{20}^{5} q^{2}}{f_{10}^{5} f_{4}} + 1\\right)} f_{1} f_{10}^{5} q}{f_{2} f_{5}^{5}} + \\frac{f_{2} f_{20}^{5} q^{2}}{f_{10}^{5} f_{4}}\\right)} {\\left(3 \\, q + \\frac{f_{1} f_{10}^{10} f_{4}}{f_{2}^{2} f_{20}^{5} f_{5}^{5}}\\right)} + \\frac{8 \\, f_{1} f_{10}^{5} q^{2}}{f_{2} f_{5}^{5}} + 4 \\, q + \\frac{f_{2} f_{5}^{5}}{f_{1} f_{10}^{5}}\\right)} q^{2} - 3 \\, {\\left(3 \\, q + \\frac{f_{1} f_{10}^{10} f_{4}}{f_{2}^{2} f_{20}^{5} f_{5}^{5}}\\right)} q^{2} + 12 \\, q^{3} + 2 \\, {\\left(4 \\, {\\left(\\frac{2 \\, {\\left(\\frac{2 \\, f_{2} f_{20}^{5} q^{2}}{f_{10}^{5} f_{4}} + 1\\right)} f_{1} f_{10}^{5} q}{f_{2} f_{5}^{5}} + \\frac{f_{2} f_{20}^{5} q^{2}}{f_{10}^{5} f_{4}}\\right)} q^{2} + {\\left(\\frac{16 \\, f_{1}^{2} f_{10}^{10} q^{3}}{f_{2}^{2} f_{5}^{10}} - 4 \\, {\\left(\\frac{2 \\, {\\left(\\frac{2 \\, f_{2} f_{20}^{5} q^{2}}{f_{10}^{5} f_{4}} + 1\\right)} f_{1} f_{10}^{5} q}{f_{2} f_{5}^{5}} + \\frac{f_{2} f_{20}^{5} q^{2}}{f_{10}^{5} f_{4}}\\right)} {\\left(3 \\, q + \\frac{f_{1} f_{10}^{10} f_{4}}{f_{2}^{2} f_{20}^{5} f_{5}^{5}}\\right)} + \\frac{8 \\, f_{1} f_{10}^{5} q^{2}}{f_{2} f_{5}^{5}} + 4 \\, q + \\frac{f_{2} f_{5}^{5}}{f_{1} f_{10}^{5}}\\right)} {\\left(3 \\, q + \\frac{f_{1} f_{10}^{10} f_{4}}{f_{2}^{2} f_{20}^{5} f_{5}^{5}}\\right)}\\right)} q\\right)} f_{2}^{2} f_{20}^{3} f_{4} f_{5}^{5}}{f_{1}^{6}}\\]</html>"
      ],
      "text/latex": [
       "$$\\newcommand{\\Bold}[1]{\\mathbf{#1}}\\frac{{\\left({\\left(3 \\, q + \\frac{f_{1} f_{10}^{10} f_{4}}{f_{2}^{2} f_{20}^{5} f_{5}^{5}}\\right)}^{3} - 6 \\, {\\left(3 \\, q + \\frac{f_{1} f_{10}^{10} f_{4}}{f_{2}^{2} f_{20}^{5} f_{5}^{5}}\\right)}^{2} q + 3 \\, {\\left(\\frac{16 \\, f_{1}^{2} f_{10}^{10} q^{3}}{f_{2}^{2} f_{5}^{10}} - 4 \\, {\\left(\\frac{2 \\, {\\left(\\frac{2 \\, f_{2} f_{20}^{5} q^{2}}{f_{10}^{5} f_{4}} + 1\\right)} f_{1} f_{10}^{5} q}{f_{2} f_{5}^{5}} + \\frac{f_{2} f_{20}^{5} q^{2}}{f_{10}^{5} f_{4}}\\right)} {\\left(3 \\, q + \\frac{f_{1} f_{10}^{10} f_{4}}{f_{2}^{2} f_{20}^{5} f_{5}^{5}}\\right)} + \\frac{8 \\, f_{1} f_{10}^{5} q^{2}}{f_{2} f_{5}^{5}} + 4 \\, q + \\frac{f_{2} f_{5}^{5}}{f_{1} f_{10}^{5}}\\right)} q^{2} - 3 \\, {\\left(3 \\, q + \\frac{f_{1} f_{10}^{10} f_{4}}{f_{2}^{2} f_{20}^{5} f_{5}^{5}}\\right)} q^{2} + 12 \\, q^{3} + 2 \\, {\\left(4 \\, {\\left(\\frac{2 \\, {\\left(\\frac{2 \\, f_{2} f_{20}^{5} q^{2}}{f_{10}^{5} f_{4}} + 1\\right)} f_{1} f_{10}^{5} q}{f_{2} f_{5}^{5}} + \\frac{f_{2} f_{20}^{5} q^{2}}{f_{10}^{5} f_{4}}\\right)} q^{2} + {\\left(\\frac{16 \\, f_{1}^{2} f_{10}^{10} q^{3}}{f_{2}^{2} f_{5}^{10}} - 4 \\, {\\left(\\frac{2 \\, {\\left(\\frac{2 \\, f_{2} f_{20}^{5} q^{2}}{f_{10}^{5} f_{4}} + 1\\right)} f_{1} f_{10}^{5} q}{f_{2} f_{5}^{5}} + \\frac{f_{2} f_{20}^{5} q^{2}}{f_{10}^{5} f_{4}}\\right)} {\\left(3 \\, q + \\frac{f_{1} f_{10}^{10} f_{4}}{f_{2}^{2} f_{20}^{5} f_{5}^{5}}\\right)} + \\frac{8 \\, f_{1} f_{10}^{5} q^{2}}{f_{2} f_{5}^{5}} + 4 \\, q + \\frac{f_{2} f_{5}^{5}}{f_{1} f_{10}^{5}}\\right)} {\\left(3 \\, q + \\frac{f_{1} f_{10}^{10} f_{4}}{f_{2}^{2} f_{20}^{5} f_{5}^{5}}\\right)}\\right)} q\\right)} f_{2}^{2} f_{20}^{3} f_{4} f_{5}^{5}}{f_{1}^{6}}$$"
      ],
      "text/plain": [
       "((3*q + f1*f10^10*f4/(f2^2*f20^5*f5^5))^3 - 6*(3*q + f1*f10^10*f4/(f2^2*f20^5*f5^5))^2*q + 3*(16*f1^2*f10^10*q^3/(f2^2*f5^10) - 4*(2*(2*f2*f20^5*q^2/(f10^5*f4) + 1)*f1*f10^5*q/(f2*f5^5) + f2*f20^5*q^2/(f10^5*f4))*(3*q + f1*f10^10*f4/(f2^2*f20^5*f5^5)) + 8*f1*f10^5*q^2/(f2*f5^5) + 4*q + f2*f5^5/(f1*f10^5))*q^2 - 3*(3*q + f1*f10^10*f4/(f2^2*f20^5*f5^5))*q^2 + 12*q^3 + 2*(4*(2*(2*f2*f20^5*q^2/(f10^5*f4) + 1)*f1*f10^5*q/(f2*f5^5) + f2*f20^5*q^2/(f10^5*f4))*q^2 + (16*f1^2*f10^10*q^3/(f2^2*f5^10) - 4*(2*(2*f2*f20^5*q^2/(f10^5*f4) + 1)*f1*f10^5*q/(f2*f5^5) + f2*f20^5*q^2/(f10^5*f4))*(3*q + f1*f10^10*f4/(f2^2*f20^5*f5^5)) + 8*f1*f10^5*q^2/(f2*f5^5) + 4*q + f2*f5^5/(f1*f10^5))*(3*q + f1*f10^10*f4/(f2^2*f20^5*f5^5)))*q)*f2^2*f20^3*f4*f5^5/f1^6"
      ]
     },
     "execution_count": 10,
     "metadata": {},
     "output_type": "execute_result"
    }
   ],
   "source": [
    "F"
   ]
  },
  {
   "cell_type": "code",
   "execution_count": 11,
   "id": "9ba944cc",
   "metadata": {},
   "outputs": [
    {
     "data": {
      "text/html": [
       "<html>\\[\\newcommand{\\Bold}[1]{\\mathbf{#1}}-\\frac{400 \\, f_{1}^{2} f_{10}^{5} f_{2}^{6} f_{20}^{20} f_{5}^{10} q^{6} + 188 \\, f_{1}^{2} f_{10}^{10} f_{2}^{5} f_{20}^{15} f_{4} f_{5}^{10} q^{4} - f_{1}^{4} f_{10}^{35} f_{4}^{4} + 4 \\, {\\left(24 \\, f_{1}^{3} f_{10}^{15} f_{2}^{4} f_{20}^{15} f_{4} f_{5}^{5} + 25 \\, f_{1} f_{2}^{7} f_{20}^{20} f_{5}^{15}\\right)} q^{5} + 4 \\, {\\left(28 \\, f_{1}^{3} f_{10}^{20} f_{2}^{3} f_{20}^{10} f_{4}^{2} f_{5}^{5} - 3 \\, f_{1} f_{10}^{5} f_{2}^{6} f_{20}^{15} f_{4} f_{5}^{15}\\right)} q^{3} + {\\left(16 \\, f_{1}^{4} f_{10}^{30} f_{2} f_{20}^{5} f_{4}^{3} + 4 \\, f_{1}^{2} f_{10}^{15} f_{2}^{4} f_{20}^{10} f_{4}^{2} f_{5}^{10} - 9 \\, f_{2}^{7} f_{20}^{15} f_{4} f_{5}^{20}\\right)} q^{2} - {\\left(3 \\, f_{1}^{3} f_{10}^{25} f_{2}^{2} f_{20}^{5} f_{4}^{3} f_{5}^{5} + 2 \\, f_{1} f_{10}^{10} f_{2}^{5} f_{20}^{10} f_{4}^{2} f_{5}^{15}\\right)} q}{f_{1}^{7} f_{10}^{5} f_{2}^{4} f_{20}^{12} f_{5}^{10}}\\]</html>"
      ],
      "text/latex": [
       "$$\\newcommand{\\Bold}[1]{\\mathbf{#1}}-\\frac{400 \\, f_{1}^{2} f_{10}^{5} f_{2}^{6} f_{20}^{20} f_{5}^{10} q^{6} + 188 \\, f_{1}^{2} f_{10}^{10} f_{2}^{5} f_{20}^{15} f_{4} f_{5}^{10} q^{4} - f_{1}^{4} f_{10}^{35} f_{4}^{4} + 4 \\, {\\left(24 \\, f_{1}^{3} f_{10}^{15} f_{2}^{4} f_{20}^{15} f_{4} f_{5}^{5} + 25 \\, f_{1} f_{2}^{7} f_{20}^{20} f_{5}^{15}\\right)} q^{5} + 4 \\, {\\left(28 \\, f_{1}^{3} f_{10}^{20} f_{2}^{3} f_{20}^{10} f_{4}^{2} f_{5}^{5} - 3 \\, f_{1} f_{10}^{5} f_{2}^{6} f_{20}^{15} f_{4} f_{5}^{15}\\right)} q^{3} + {\\left(16 \\, f_{1}^{4} f_{10}^{30} f_{2} f_{20}^{5} f_{4}^{3} + 4 \\, f_{1}^{2} f_{10}^{15} f_{2}^{4} f_{20}^{10} f_{4}^{2} f_{5}^{10} - 9 \\, f_{2}^{7} f_{20}^{15} f_{4} f_{5}^{20}\\right)} q^{2} - {\\left(3 \\, f_{1}^{3} f_{10}^{25} f_{2}^{2} f_{20}^{5} f_{4}^{3} f_{5}^{5} + 2 \\, f_{1} f_{10}^{10} f_{2}^{5} f_{20}^{10} f_{4}^{2} f_{5}^{15}\\right)} q}{f_{1}^{7} f_{10}^{5} f_{2}^{4} f_{20}^{12} f_{5}^{10}}$$"
      ],
      "text/plain": [
       "-(400*f1^2*f10^5*f2^6*f20^20*f5^10*q^6 + 188*f1^2*f10^10*f2^5*f20^15*f4*f5^10*q^4 - f1^4*f10^35*f4^4 + 4*(24*f1^3*f10^15*f2^4*f20^15*f4*f5^5 + 25*f1*f2^7*f20^20*f5^15)*q^5 + 4*(28*f1^3*f10^20*f2^3*f20^10*f4^2*f5^5 - 3*f1*f10^5*f2^6*f20^15*f4*f5^15)*q^3 + (16*f1^4*f10^30*f2*f20^5*f4^3 + 4*f1^2*f10^15*f2^4*f20^10*f4^2*f5^10 - 9*f2^7*f20^15*f4*f5^20)*q^2 - (3*f1^3*f10^25*f2^2*f20^5*f4^3*f5^5 + 2*f1*f10^10*f2^5*f20^10*f4^2*f5^15)*q)/(f1^7*f10^5*f2^4*f20^12*f5^10)"
      ]
     },
     "execution_count": 11,
     "metadata": {},
     "output_type": "execute_result"
    }
   ],
   "source": [
    "G = F.full_simplify()\n",
    "G"
   ]
  },
  {
   "cell_type": "code",
   "execution_count": null,
   "id": "0edc8107",
   "metadata": {},
   "outputs": [],
   "source": []
  },
  {
   "cell_type": "code",
   "execution_count": 12,
   "id": "d9399f93",
   "metadata": {},
   "outputs": [],
   "source": [
    "def expand_forward(expression):\n",
    "    term_1 = expression*f1^2*f2^(-3)*f4*f5^(-10)*f10^(15)*f20^(-5)\n",
    "    term_2 = expression*f1*f2^(-1)*f5^(-5)*f10^5\n",
    "    term_3 = expression*f1*f4^(-1)*f5^(-5)*f20^5\n",
    "    return term_1 + 2*q*term_2 + 4*q^3*term_3"
   ]
  },
  {
   "cell_type": "code",
   "execution_count": 13,
   "id": "0827e392",
   "metadata": {},
   "outputs": [
    {
     "data": {
      "text/html": [
       "<html>\\[\\newcommand{\\Bold}[1]{\\mathbf{#1}}\\frac{4 \\, f_{20}^{5} q^{3}}{f_{4}} + \\frac{2 \\, f_{10}^{5} q}{f_{2}} + \\frac{f_{1} f_{10}^{15} f_{4}}{f_{2}^{3} f_{20}^{5} f_{5}^{5}}\\]</html>"
      ],
      "text/latex": [
       "$$\\newcommand{\\Bold}[1]{\\mathbf{#1}}\\frac{4 \\, f_{20}^{5} q^{3}}{f_{4}} + \\frac{2 \\, f_{10}^{5} q}{f_{2}} + \\frac{f_{1} f_{10}^{15} f_{4}}{f_{2}^{3} f_{20}^{5} f_{5}^{5}}$$"
      ],
      "text/plain": [
       "4*f20^5*q^3/f4 + 2*f10^5*q/f2 + f1*f10^15*f4/(f2^3*f20^5*f5^5)"
      ]
     },
     "execution_count": 13,
     "metadata": {},
     "output_type": "execute_result"
    }
   ],
   "source": [
    "expand_forward(f5^5/f1)"
   ]
  },
  {
   "cell_type": "code",
   "execution_count": 14,
   "id": "a19ee14c",
   "metadata": {},
   "outputs": [],
   "source": [
    "const = f1^(4) * f4^(4) * f10^(35)\n",
    "\n",
    "q1_expression1 = f1^3 * f2^2 * f4^3 * f5^5 * f10^25 * f20^5\n",
    "q1_expression2 = f1 * f2^5 * f4^2 * f5^15 * f10^10 * f20^10\n",
    "\n",
    "q2_expression1 = f1^4 * f2 * f4^3 * f10^30 * f20^5\n",
    "q2_expression2 = f1^2 * f2^4 * f4^2 * f5^10 * f10^15 * f20^10\n",
    "q2_expression3 = f2^7 * f4 * f5^20 * f20^15\n",
    "\n",
    "q3_expression1 = f1^3 * f2^3 * f4^2 * f5^5 * f10^20 * f20^10\n",
    "q3_expression2 = f1 * f2^6 * f4 * f5^15 * f10^5 * f20^15\n",
    "\n",
    "q4_expression = f1^2 * f2^5 * f4 * f5^10 * f10^10 * f20^15\n",
    "\n",
    "q5_expression1 = f1^3 * f2^4 * f4^1 * f5^5 * f10^15 * f20^15\n",
    "q5_expression2 = f1 * f2^7 * f5^15 * f20^20\n",
    "\n",
    "q6_expression = f1^2 * f2^6 * f5^10 * f10^5 * f20^20"
   ]
  },
  {
   "cell_type": "code",
   "execution_count": 15,
   "id": "5da6fea8",
   "metadata": {},
   "outputs": [
    {
     "data": {
      "text/html": [
       "<html>\\[\\newcommand{\\Bold}[1]{\\mathbf{#1}}400 \\, f_{1}^{2} f_{10}^{5} f_{2}^{6} f_{20}^{20} f_{5}^{10} q^{6} + 188 \\, f_{1}^{2} f_{10}^{10} f_{2}^{5} f_{20}^{15} f_{4} f_{5}^{10} q^{4} - f_{1}^{4} f_{10}^{35} f_{4}^{4} + 4 \\, {\\left(24 \\, f_{1}^{3} f_{10}^{15} f_{2}^{4} f_{20}^{15} f_{4} f_{5}^{5} + 25 \\, f_{1} f_{2}^{7} f_{20}^{20} f_{5}^{15}\\right)} q^{5} + 4 \\, {\\left(28 \\, f_{1}^{3} f_{10}^{20} f_{2}^{3} f_{20}^{10} f_{4}^{2} f_{5}^{5} - 3 \\, f_{1} f_{10}^{5} f_{2}^{6} f_{20}^{15} f_{4} f_{5}^{15}\\right)} q^{3} + {\\left(16 \\, f_{1}^{4} f_{10}^{30} f_{2} f_{20}^{5} f_{4}^{3} + 4 \\, f_{1}^{2} f_{10}^{15} f_{2}^{4} f_{20}^{10} f_{4}^{2} f_{5}^{10} - 9 \\, f_{2}^{7} f_{20}^{15} f_{4} f_{5}^{20}\\right)} q^{2} - {\\left(3 \\, f_{1}^{3} f_{10}^{25} f_{2}^{2} f_{20}^{5} f_{4}^{3} f_{5}^{5} + 2 \\, f_{1} f_{10}^{10} f_{2}^{5} f_{20}^{10} f_{4}^{2} f_{5}^{15}\\right)} q\\]</html>"
      ],
      "text/latex": [
       "$$\\newcommand{\\Bold}[1]{\\mathbf{#1}}400 \\, f_{1}^{2} f_{10}^{5} f_{2}^{6} f_{20}^{20} f_{5}^{10} q^{6} + 188 \\, f_{1}^{2} f_{10}^{10} f_{2}^{5} f_{20}^{15} f_{4} f_{5}^{10} q^{4} - f_{1}^{4} f_{10}^{35} f_{4}^{4} + 4 \\, {\\left(24 \\, f_{1}^{3} f_{10}^{15} f_{2}^{4} f_{20}^{15} f_{4} f_{5}^{5} + 25 \\, f_{1} f_{2}^{7} f_{20}^{20} f_{5}^{15}\\right)} q^{5} + 4 \\, {\\left(28 \\, f_{1}^{3} f_{10}^{20} f_{2}^{3} f_{20}^{10} f_{4}^{2} f_{5}^{5} - 3 \\, f_{1} f_{10}^{5} f_{2}^{6} f_{20}^{15} f_{4} f_{5}^{15}\\right)} q^{3} + {\\left(16 \\, f_{1}^{4} f_{10}^{30} f_{2} f_{20}^{5} f_{4}^{3} + 4 \\, f_{1}^{2} f_{10}^{15} f_{2}^{4} f_{20}^{10} f_{4}^{2} f_{5}^{10} - 9 \\, f_{2}^{7} f_{20}^{15} f_{4} f_{5}^{20}\\right)} q^{2} - {\\left(3 \\, f_{1}^{3} f_{10}^{25} f_{2}^{2} f_{20}^{5} f_{4}^{3} f_{5}^{5} + 2 \\, f_{1} f_{10}^{10} f_{2}^{5} f_{20}^{10} f_{4}^{2} f_{5}^{15}\\right)} q$$"
      ],
      "text/plain": [
       "400*f1^2*f10^5*f2^6*f20^20*f5^10*q^6 + 188*f1^2*f10^10*f2^5*f20^15*f4*f5^10*q^4 - f1^4*f10^35*f4^4 + 4*(24*f1^3*f10^15*f2^4*f20^15*f4*f5^5 + 25*f1*f2^7*f20^20*f5^15)*q^5 + 4*(28*f1^3*f10^20*f2^3*f20^10*f4^2*f5^5 - 3*f1*f10^5*f2^6*f20^15*f4*f5^15)*q^3 + (16*f1^4*f10^30*f2*f20^5*f4^3 + 4*f1^2*f10^15*f2^4*f20^10*f4^2*f5^10 - 9*f2^7*f20^15*f4*f5^20)*q^2 - (3*f1^3*f10^25*f2^2*f20^5*f4^3*f5^5 + 2*f1*f10^10*f2^5*f20^10*f4^2*f5^15)*q"
      ]
     },
     "execution_count": 15,
     "metadata": {},
     "output_type": "execute_result"
    }
   ],
   "source": [
    "H = -const + (-3*q1_expression1 -2*q1_expression2)*q + (16*q2_expression1 + 4*q2_expression2 -9*q2_expression3)*q^2 + (112*q3_expression1 -12*q3_expression2)*q^3 + 188*q4_expression*q^4 + (96*q5_expression1 + 100*q5_expression2)*q^5 + 400*q6_expression*q^6\n",
    "H"
   ]
  },
  {
   "cell_type": "code",
   "execution_count": 16,
   "id": "4d85cc58",
   "metadata": {},
   "outputs": [
    {
     "data": {
      "text/html": [
       "<html>\\[\\newcommand{\\Bold}[1]{\\mathbf{#1}}0\\]</html>"
      ],
      "text/latex": [
       "$$\\newcommand{\\Bold}[1]{\\mathbf{#1}}0$$"
      ],
      "text/plain": [
       "0"
      ]
     },
     "execution_count": 16,
     "metadata": {},
     "output_type": "execute_result"
    }
   ],
   "source": [
    "G + H/(f1^7 * f2^4 * f5^10 * f10^5 * f20^12)"
   ]
  },
  {
   "cell_type": "code",
   "execution_count": 17,
   "id": "b5579acc",
   "metadata": {},
   "outputs": [
    {
     "data": {
      "text/html": [
       "<html>\\[\\newcommand{\\Bold}[1]{\\mathbf{#1}}-36 \\, f_{1} f_{2}^{7} f_{20}^{20} f_{5}^{15} q^{5} - 18 \\, f_{1} f_{10}^{5} f_{2}^{6} f_{20}^{15} f_{4} f_{5}^{15} q^{3} - 9 \\, f_{1}^{2} f_{10}^{15} f_{2}^{4} f_{20}^{10} f_{4}^{2} f_{5}^{10} q^{2}\\]</html>"
      ],
      "text/latex": [
       "$$\\newcommand{\\Bold}[1]{\\mathbf{#1}}-36 \\, f_{1} f_{2}^{7} f_{20}^{20} f_{5}^{15} q^{5} - 18 \\, f_{1} f_{10}^{5} f_{2}^{6} f_{20}^{15} f_{4} f_{5}^{15} q^{3} - 9 \\, f_{1}^{2} f_{10}^{15} f_{2}^{4} f_{20}^{10} f_{4}^{2} f_{5}^{10} q^{2}$$"
      ],
      "text/plain": [
       "-36*f1*f2^7*f20^20*f5^15*q^5 - 18*f1*f10^5*f2^6*f20^15*f4*f5^15*q^3 - 9*f1^2*f10^15*f2^4*f20^10*f4^2*f5^10*q^2"
      ]
     },
     "execution_count": 17,
     "metadata": {},
     "output_type": "execute_result"
    }
   ],
   "source": [
    "step1 = -9*(q^2 * expand_forward(q2_expression3)).full_simplify()\n",
    "step1"
   ]
  },
  {
   "cell_type": "code",
   "execution_count": 18,
   "id": "fa56a875",
   "metadata": {},
   "outputs": [
    {
     "data": {
      "text/html": [
       "<html>\\[\\newcommand{\\Bold}[1]{\\mathbf{#1}}400 \\, f_{1}^{2} f_{10}^{5} f_{2}^{6} f_{20}^{20} f_{5}^{10} q^{6} + 188 \\, f_{1}^{2} f_{10}^{10} f_{2}^{5} f_{20}^{15} f_{4} f_{5}^{10} q^{4} - f_{1}^{4} f_{10}^{35} f_{4}^{4} + 32 \\, {\\left(3 \\, f_{1}^{3} f_{10}^{15} f_{2}^{4} f_{20}^{15} f_{4} f_{5}^{5} + 2 \\, f_{1} f_{2}^{7} f_{20}^{20} f_{5}^{15}\\right)} q^{5} + 2 \\, {\\left(56 \\, f_{1}^{3} f_{10}^{20} f_{2}^{3} f_{20}^{10} f_{4}^{2} f_{5}^{5} - 15 \\, f_{1} f_{10}^{5} f_{2}^{6} f_{20}^{15} f_{4} f_{5}^{15}\\right)} q^{3} + {\\left(16 \\, f_{1}^{4} f_{10}^{30} f_{2} f_{20}^{5} f_{4}^{3} - 5 \\, f_{1}^{2} f_{10}^{15} f_{2}^{4} f_{20}^{10} f_{4}^{2} f_{5}^{10}\\right)} q^{2} - {\\left(3 \\, f_{1}^{3} f_{10}^{25} f_{2}^{2} f_{20}^{5} f_{4}^{3} f_{5}^{5} + 2 \\, f_{1} f_{10}^{10} f_{2}^{5} f_{20}^{10} f_{4}^{2} f_{5}^{15}\\right)} q\\]</html>"
      ],
      "text/latex": [
       "$$\\newcommand{\\Bold}[1]{\\mathbf{#1}}400 \\, f_{1}^{2} f_{10}^{5} f_{2}^{6} f_{20}^{20} f_{5}^{10} q^{6} + 188 \\, f_{1}^{2} f_{10}^{10} f_{2}^{5} f_{20}^{15} f_{4} f_{5}^{10} q^{4} - f_{1}^{4} f_{10}^{35} f_{4}^{4} + 32 \\, {\\left(3 \\, f_{1}^{3} f_{10}^{15} f_{2}^{4} f_{20}^{15} f_{4} f_{5}^{5} + 2 \\, f_{1} f_{2}^{7} f_{20}^{20} f_{5}^{15}\\right)} q^{5} + 2 \\, {\\left(56 \\, f_{1}^{3} f_{10}^{20} f_{2}^{3} f_{20}^{10} f_{4}^{2} f_{5}^{5} - 15 \\, f_{1} f_{10}^{5} f_{2}^{6} f_{20}^{15} f_{4} f_{5}^{15}\\right)} q^{3} + {\\left(16 \\, f_{1}^{4} f_{10}^{30} f_{2} f_{20}^{5} f_{4}^{3} - 5 \\, f_{1}^{2} f_{10}^{15} f_{2}^{4} f_{20}^{10} f_{4}^{2} f_{5}^{10}\\right)} q^{2} - {\\left(3 \\, f_{1}^{3} f_{10}^{25} f_{2}^{2} f_{20}^{5} f_{4}^{3} f_{5}^{5} + 2 \\, f_{1} f_{10}^{10} f_{2}^{5} f_{20}^{10} f_{4}^{2} f_{5}^{15}\\right)} q$$"
      ],
      "text/plain": [
       "400*f1^2*f10^5*f2^6*f20^20*f5^10*q^6 + 188*f1^2*f10^10*f2^5*f20^15*f4*f5^10*q^4 - f1^4*f10^35*f4^4 + 32*(3*f1^3*f10^15*f2^4*f20^15*f4*f5^5 + 2*f1*f2^7*f20^20*f5^15)*q^5 + 2*(56*f1^3*f10^20*f2^3*f20^10*f4^2*f5^5 - 15*f1*f10^5*f2^6*f20^15*f4*f5^15)*q^3 + (16*f1^4*f10^30*f2*f20^5*f4^3 - 5*f1^2*f10^15*f2^4*f20^10*f4^2*f5^10)*q^2 - (3*f1^3*f10^25*f2^2*f20^5*f4^3*f5^5 + 2*f1*f10^10*f2^5*f20^10*f4^2*f5^15)*q"
      ]
     },
     "execution_count": 18,
     "metadata": {},
     "output_type": "execute_result"
    }
   ],
   "source": [
    "H1 = step1 + H + 9*(q^2 * q2_expression3)\n",
    "H1.full_simplify()"
   ]
  },
  {
   "cell_type": "code",
   "execution_count": 19,
   "id": "a7176f17",
   "metadata": {},
   "outputs": [
    {
     "data": {
      "text/html": [
       "<html>\\[\\newcommand{\\Bold}[1]{\\mathbf{#1}}-120 \\, f_{1}^{2} f_{10}^{5} f_{2}^{6} f_{20}^{20} f_{5}^{10} q^{6} - 60 \\, f_{1}^{2} f_{10}^{10} f_{2}^{5} f_{20}^{15} f_{4} f_{5}^{10} q^{4} - 30 \\, f_{1}^{3} f_{10}^{20} f_{2}^{3} f_{20}^{10} f_{4}^{2} f_{5}^{5} q^{3}\\]</html>"
      ],
      "text/latex": [
       "$$\\newcommand{\\Bold}[1]{\\mathbf{#1}}-120 \\, f_{1}^{2} f_{10}^{5} f_{2}^{6} f_{20}^{20} f_{5}^{10} q^{6} - 60 \\, f_{1}^{2} f_{10}^{10} f_{2}^{5} f_{20}^{15} f_{4} f_{5}^{10} q^{4} - 30 \\, f_{1}^{3} f_{10}^{20} f_{2}^{3} f_{20}^{10} f_{4}^{2} f_{5}^{5} q^{3}$$"
      ],
      "text/plain": [
       "-120*f1^2*f10^5*f2^6*f20^20*f5^10*q^6 - 60*f1^2*f10^10*f2^5*f20^15*f4*f5^10*q^4 - 30*f1^3*f10^20*f2^3*f20^10*f4^2*f5^5*q^3"
      ]
     },
     "execution_count": 19,
     "metadata": {},
     "output_type": "execute_result"
    }
   ],
   "source": [
    "step2 = -30*(q^3 * expand_forward(q3_expression2))\n",
    "step2.full_simplify()"
   ]
  },
  {
   "cell_type": "code",
   "execution_count": 20,
   "id": "d3ac0c85",
   "metadata": {},
   "outputs": [
    {
     "data": {
      "text/html": [
       "<html>\\[\\newcommand{\\Bold}[1]{\\mathbf{#1}}280 \\, f_{1}^{2} f_{10}^{5} f_{2}^{6} f_{20}^{20} f_{5}^{10} q^{6} + 128 \\, f_{1}^{2} f_{10}^{10} f_{2}^{5} f_{20}^{15} f_{4} f_{5}^{10} q^{4} + 82 \\, f_{1}^{3} f_{10}^{20} f_{2}^{3} f_{20}^{10} f_{4}^{2} f_{5}^{5} q^{3} - f_{1}^{4} f_{10}^{35} f_{4}^{4} + 32 \\, {\\left(3 \\, f_{1}^{3} f_{10}^{15} f_{2}^{4} f_{20}^{15} f_{4} f_{5}^{5} + 2 \\, f_{1} f_{2}^{7} f_{20}^{20} f_{5}^{15}\\right)} q^{5} + {\\left(16 \\, f_{1}^{4} f_{10}^{30} f_{2} f_{20}^{5} f_{4}^{3} - 5 \\, f_{1}^{2} f_{10}^{15} f_{2}^{4} f_{20}^{10} f_{4}^{2} f_{5}^{10}\\right)} q^{2} - {\\left(3 \\, f_{1}^{3} f_{10}^{25} f_{2}^{2} f_{20}^{5} f_{4}^{3} f_{5}^{5} + 2 \\, f_{1} f_{10}^{10} f_{2}^{5} f_{20}^{10} f_{4}^{2} f_{5}^{15}\\right)} q\\]</html>"
      ],
      "text/latex": [
       "$$\\newcommand{\\Bold}[1]{\\mathbf{#1}}280 \\, f_{1}^{2} f_{10}^{5} f_{2}^{6} f_{20}^{20} f_{5}^{10} q^{6} + 128 \\, f_{1}^{2} f_{10}^{10} f_{2}^{5} f_{20}^{15} f_{4} f_{5}^{10} q^{4} + 82 \\, f_{1}^{3} f_{10}^{20} f_{2}^{3} f_{20}^{10} f_{4}^{2} f_{5}^{5} q^{3} - f_{1}^{4} f_{10}^{35} f_{4}^{4} + 32 \\, {\\left(3 \\, f_{1}^{3} f_{10}^{15} f_{2}^{4} f_{20}^{15} f_{4} f_{5}^{5} + 2 \\, f_{1} f_{2}^{7} f_{20}^{20} f_{5}^{15}\\right)} q^{5} + {\\left(16 \\, f_{1}^{4} f_{10}^{30} f_{2} f_{20}^{5} f_{4}^{3} - 5 \\, f_{1}^{2} f_{10}^{15} f_{2}^{4} f_{20}^{10} f_{4}^{2} f_{5}^{10}\\right)} q^{2} - {\\left(3 \\, f_{1}^{3} f_{10}^{25} f_{2}^{2} f_{20}^{5} f_{4}^{3} f_{5}^{5} + 2 \\, f_{1} f_{10}^{10} f_{2}^{5} f_{20}^{10} f_{4}^{2} f_{5}^{15}\\right)} q$$"
      ],
      "text/plain": [
       "280*f1^2*f10^5*f2^6*f20^20*f5^10*q^6 + 128*f1^2*f10^10*f2^5*f20^15*f4*f5^10*q^4 + 82*f1^3*f10^20*f2^3*f20^10*f4^2*f5^5*q^3 - f1^4*f10^35*f4^4 + 32*(3*f1^3*f10^15*f2^4*f20^15*f4*f5^5 + 2*f1*f2^7*f20^20*f5^15)*q^5 + (16*f1^4*f10^30*f2*f20^5*f4^3 - 5*f1^2*f10^15*f2^4*f20^10*f4^2*f5^10)*q^2 - (3*f1^3*f10^25*f2^2*f20^5*f4^3*f5^5 + 2*f1*f10^10*f2^5*f20^10*f4^2*f5^15)*q"
      ]
     },
     "execution_count": 20,
     "metadata": {},
     "output_type": "execute_result"
    }
   ],
   "source": [
    "H2 = step2 + H1 + 30 * q^3 * q3_expression2\n",
    "H2.full_simplify()"
   ]
  },
  {
   "cell_type": "code",
   "execution_count": 21,
   "id": "cd037384",
   "metadata": {},
   "outputs": [
    {
     "data": {
      "text/html": [
       "<html>\\[\\newcommand{\\Bold}[1]{\\mathbf{#1}}-8 \\, f_{1}^{2} f_{10}^{10} f_{2}^{5} f_{20}^{15} f_{4} f_{5}^{10} q^{4} - 4 \\, f_{1}^{2} f_{10}^{15} f_{2}^{4} f_{20}^{10} f_{4}^{2} f_{5}^{10} q^{2} - 2 \\, f_{1}^{3} f_{10}^{25} f_{2}^{2} f_{20}^{5} f_{4}^{3} f_{5}^{5} q\\]</html>"
      ],
      "text/latex": [
       "$$\\newcommand{\\Bold}[1]{\\mathbf{#1}}-8 \\, f_{1}^{2} f_{10}^{10} f_{2}^{5} f_{20}^{15} f_{4} f_{5}^{10} q^{4} - 4 \\, f_{1}^{2} f_{10}^{15} f_{2}^{4} f_{20}^{10} f_{4}^{2} f_{5}^{10} q^{2} - 2 \\, f_{1}^{3} f_{10}^{25} f_{2}^{2} f_{20}^{5} f_{4}^{3} f_{5}^{5} q$$"
      ],
      "text/plain": [
       "-8*f1^2*f10^10*f2^5*f20^15*f4*f5^10*q^4 - 4*f1^2*f10^15*f2^4*f20^10*f4^2*f5^10*q^2 - 2*f1^3*f10^25*f2^2*f20^5*f4^3*f5^5*q"
      ]
     },
     "execution_count": 21,
     "metadata": {},
     "output_type": "execute_result"
    }
   ],
   "source": [
    "step3 = -2*(q * expand_forward(q1_expression2))\n",
    "step3.full_simplify()"
   ]
  },
  {
   "cell_type": "code",
   "execution_count": 22,
   "id": "9d769266",
   "metadata": {},
   "outputs": [
    {
     "data": {
      "text/html": [
       "<html>\\[\\newcommand{\\Bold}[1]{\\mathbf{#1}}280 \\, f_{1}^{2} f_{10}^{5} f_{2}^{6} f_{20}^{20} f_{5}^{10} q^{6} + 120 \\, f_{1}^{2} f_{10}^{10} f_{2}^{5} f_{20}^{15} f_{4} f_{5}^{10} q^{4} + 82 \\, f_{1}^{3} f_{10}^{20} f_{2}^{3} f_{20}^{10} f_{4}^{2} f_{5}^{5} q^{3} - 5 \\, f_{1}^{3} f_{10}^{25} f_{2}^{2} f_{20}^{5} f_{4}^{3} f_{5}^{5} q - f_{1}^{4} f_{10}^{35} f_{4}^{4} + 32 \\, {\\left(3 \\, f_{1}^{3} f_{10}^{15} f_{2}^{4} f_{20}^{15} f_{4} f_{5}^{5} + 2 \\, f_{1} f_{2}^{7} f_{20}^{20} f_{5}^{15}\\right)} q^{5} + {\\left(16 \\, f_{1}^{4} f_{10}^{30} f_{2} f_{20}^{5} f_{4}^{3} - 9 \\, f_{1}^{2} f_{10}^{15} f_{2}^{4} f_{20}^{10} f_{4}^{2} f_{5}^{10}\\right)} q^{2}\\]</html>"
      ],
      "text/latex": [
       "$$\\newcommand{\\Bold}[1]{\\mathbf{#1}}280 \\, f_{1}^{2} f_{10}^{5} f_{2}^{6} f_{20}^{20} f_{5}^{10} q^{6} + 120 \\, f_{1}^{2} f_{10}^{10} f_{2}^{5} f_{20}^{15} f_{4} f_{5}^{10} q^{4} + 82 \\, f_{1}^{3} f_{10}^{20} f_{2}^{3} f_{20}^{10} f_{4}^{2} f_{5}^{5} q^{3} - 5 \\, f_{1}^{3} f_{10}^{25} f_{2}^{2} f_{20}^{5} f_{4}^{3} f_{5}^{5} q - f_{1}^{4} f_{10}^{35} f_{4}^{4} + 32 \\, {\\left(3 \\, f_{1}^{3} f_{10}^{15} f_{2}^{4} f_{20}^{15} f_{4} f_{5}^{5} + 2 \\, f_{1} f_{2}^{7} f_{20}^{20} f_{5}^{15}\\right)} q^{5} + {\\left(16 \\, f_{1}^{4} f_{10}^{30} f_{2} f_{20}^{5} f_{4}^{3} - 9 \\, f_{1}^{2} f_{10}^{15} f_{2}^{4} f_{20}^{10} f_{4}^{2} f_{5}^{10}\\right)} q^{2}$$"
      ],
      "text/plain": [
       "280*f1^2*f10^5*f2^6*f20^20*f5^10*q^6 + 120*f1^2*f10^10*f2^5*f20^15*f4*f5^10*q^4 + 82*f1^3*f10^20*f2^3*f20^10*f4^2*f5^5*q^3 - 5*f1^3*f10^25*f2^2*f20^5*f4^3*f5^5*q - f1^4*f10^35*f4^4 + 32*(3*f1^3*f10^15*f2^4*f20^15*f4*f5^5 + 2*f1*f2^7*f20^20*f5^15)*q^5 + (16*f1^4*f10^30*f2*f20^5*f4^3 - 9*f1^2*f10^15*f2^4*f20^10*f4^2*f5^10)*q^2"
      ]
     },
     "execution_count": 22,
     "metadata": {},
     "output_type": "execute_result"
    }
   ],
   "source": [
    "H3 = step3 + H2 + 2*(q * q1_expression2)\n",
    "H3.full_simplify()"
   ]
  },
  {
   "cell_type": "code",
   "execution_count": 23,
   "id": "11b6e8ed",
   "metadata": {},
   "outputs": [
    {
     "data": {
      "text/html": [
       "<html>\\[\\newcommand{\\Bold}[1]{\\mathbf{#1}}-36 \\, f_{1}^{3} f_{10}^{15} f_{2}^{4} f_{20}^{15} f_{4} f_{5}^{5} q^{5} - 18 \\, f_{1}^{3} f_{10}^{20} f_{2}^{3} f_{20}^{10} f_{4}^{2} f_{5}^{5} q^{3} - 9 \\, f_{1}^{4} f_{10}^{30} f_{2} f_{20}^{5} f_{4}^{3} q^{2}\\]</html>"
      ],
      "text/latex": [
       "$$\\newcommand{\\Bold}[1]{\\mathbf{#1}}-36 \\, f_{1}^{3} f_{10}^{15} f_{2}^{4} f_{20}^{15} f_{4} f_{5}^{5} q^{5} - 18 \\, f_{1}^{3} f_{10}^{20} f_{2}^{3} f_{20}^{10} f_{4}^{2} f_{5}^{5} q^{3} - 9 \\, f_{1}^{4} f_{10}^{30} f_{2} f_{20}^{5} f_{4}^{3} q^{2}$$"
      ],
      "text/plain": [
       "-36*f1^3*f10^15*f2^4*f20^15*f4*f5^5*q^5 - 18*f1^3*f10^20*f2^3*f20^10*f4^2*f5^5*q^3 - 9*f1^4*f10^30*f2*f20^5*f4^3*q^2"
      ]
     },
     "execution_count": 23,
     "metadata": {},
     "output_type": "execute_result"
    }
   ],
   "source": [
    "step4 = -9*(q^2 * expand_forward(q2_expression2))\n",
    "step4.full_simplify()"
   ]
  },
  {
   "cell_type": "code",
   "execution_count": 24,
   "id": "23d658f0",
   "metadata": {},
   "outputs": [
    {
     "data": {
      "text/html": [
       "<html>\\[\\newcommand{\\Bold}[1]{\\mathbf{#1}}280 \\, f_{1}^{2} f_{10}^{5} f_{2}^{6} f_{20}^{20} f_{5}^{10} q^{6} + 120 \\, f_{1}^{2} f_{10}^{10} f_{2}^{5} f_{20}^{15} f_{4} f_{5}^{10} q^{4} + 64 \\, f_{1}^{3} f_{10}^{20} f_{2}^{3} f_{20}^{10} f_{4}^{2} f_{5}^{5} q^{3} + 7 \\, f_{1}^{4} f_{10}^{30} f_{2} f_{20}^{5} f_{4}^{3} q^{2} - 5 \\, f_{1}^{3} f_{10}^{25} f_{2}^{2} f_{20}^{5} f_{4}^{3} f_{5}^{5} q - f_{1}^{4} f_{10}^{35} f_{4}^{4} + 4 \\, {\\left(15 \\, f_{1}^{3} f_{10}^{15} f_{2}^{4} f_{20}^{15} f_{4} f_{5}^{5} + 16 \\, f_{1} f_{2}^{7} f_{20}^{20} f_{5}^{15}\\right)} q^{5}\\]</html>"
      ],
      "text/latex": [
       "$$\\newcommand{\\Bold}[1]{\\mathbf{#1}}280 \\, f_{1}^{2} f_{10}^{5} f_{2}^{6} f_{20}^{20} f_{5}^{10} q^{6} + 120 \\, f_{1}^{2} f_{10}^{10} f_{2}^{5} f_{20}^{15} f_{4} f_{5}^{10} q^{4} + 64 \\, f_{1}^{3} f_{10}^{20} f_{2}^{3} f_{20}^{10} f_{4}^{2} f_{5}^{5} q^{3} + 7 \\, f_{1}^{4} f_{10}^{30} f_{2} f_{20}^{5} f_{4}^{3} q^{2} - 5 \\, f_{1}^{3} f_{10}^{25} f_{2}^{2} f_{20}^{5} f_{4}^{3} f_{5}^{5} q - f_{1}^{4} f_{10}^{35} f_{4}^{4} + 4 \\, {\\left(15 \\, f_{1}^{3} f_{10}^{15} f_{2}^{4} f_{20}^{15} f_{4} f_{5}^{5} + 16 \\, f_{1} f_{2}^{7} f_{20}^{20} f_{5}^{15}\\right)} q^{5}$$"
      ],
      "text/plain": [
       "280*f1^2*f10^5*f2^6*f20^20*f5^10*q^6 + 120*f1^2*f10^10*f2^5*f20^15*f4*f5^10*q^4 + 64*f1^3*f10^20*f2^3*f20^10*f4^2*f5^5*q^3 + 7*f1^4*f10^30*f2*f20^5*f4^3*q^2 - 5*f1^3*f10^25*f2^2*f20^5*f4^3*f5^5*q - f1^4*f10^35*f4^4 + 4*(15*f1^3*f10^15*f2^4*f20^15*f4*f5^5 + 16*f1*f2^7*f20^20*f5^15)*q^5"
      ]
     },
     "execution_count": 24,
     "metadata": {},
     "output_type": "execute_result"
    }
   ],
   "source": [
    "H4 = step4 + H3 + 9*(q^2 * q2_expression2)\n",
    "H4.full_simplify()"
   ]
  },
  {
   "cell_type": "code",
   "execution_count": 46,
   "id": "1fec22d2",
   "metadata": {},
   "outputs": [
    {
     "data": {
      "text/html": [
       "<html>\\[\\newcommand{\\Bold}[1]{\\mathbf{#1}}64 \\, {\\left(\\frac{4 \\, f_{1}^{2} f_{2}^{7} f_{20}^{25} f_{5}^{10} q^{3}}{f_{4}} + 2 \\, f_{1}^{2} f_{10}^{5} f_{2}^{6} f_{20}^{20} f_{5}^{10} q + f_{1}^{3} f_{10}^{15} f_{2}^{4} f_{20}^{15} f_{4} f_{5}^{5}\\right)} q^{5}\\]</html>"
      ],
      "text/latex": [
       "$$\\newcommand{\\Bold}[1]{\\mathbf{#1}}64 \\, {\\left(\\frac{4 \\, f_{1}^{2} f_{2}^{7} f_{20}^{25} f_{5}^{10} q^{3}}{f_{4}} + 2 \\, f_{1}^{2} f_{10}^{5} f_{2}^{6} f_{20}^{20} f_{5}^{10} q + f_{1}^{3} f_{10}^{15} f_{2}^{4} f_{20}^{15} f_{4} f_{5}^{5}\\right)} q^{5}$$"
      ],
      "text/plain": [
       "64*(4*f1^2*f2^7*f20^25*f5^10*q^3/f4 + 2*f1^2*f10^5*f2^6*f20^20*f5^10*q + f1^3*f10^15*f2^4*f20^15*f4*f5^5)*q^5"
      ]
     },
     "execution_count": 46,
     "metadata": {},
     "output_type": "execute_result"
    }
   ],
   "source": [
    "step5 = 64*(q^5 * expand_forward(q5_expression2))\n",
    "step5"
   ]
  },
  {
   "cell_type": "code",
   "execution_count": 47,
   "id": "6e07f9b2",
   "metadata": {},
   "outputs": [
    {
     "data": {
      "text/html": [
       "<html>\\[\\newcommand{\\Bold}[1]{\\mathbf{#1}}\\frac{256 \\, f_{1}^{2} f_{2}^{7} f_{20}^{25} f_{5}^{10} q^{8} + 408 \\, f_{1}^{2} f_{10}^{5} f_{2}^{6} f_{20}^{20} f_{4} f_{5}^{10} q^{6} + 124 \\, f_{1}^{3} f_{10}^{15} f_{2}^{4} f_{20}^{15} f_{4}^{2} f_{5}^{5} q^{5} + 120 \\, f_{1}^{2} f_{10}^{10} f_{2}^{5} f_{20}^{15} f_{4}^{2} f_{5}^{10} q^{4} + 64 \\, f_{1}^{3} f_{10}^{20} f_{2}^{3} f_{20}^{10} f_{4}^{3} f_{5}^{5} q^{3} + 7 \\, f_{1}^{4} f_{10}^{30} f_{2} f_{20}^{5} f_{4}^{4} q^{2} - 5 \\, f_{1}^{3} f_{10}^{25} f_{2}^{2} f_{20}^{5} f_{4}^{4} f_{5}^{5} q - f_{1}^{4} f_{10}^{35} f_{4}^{5}}{f_{4}}\\]</html>"
      ],
      "text/latex": [
       "$$\\newcommand{\\Bold}[1]{\\mathbf{#1}}\\frac{256 \\, f_{1}^{2} f_{2}^{7} f_{20}^{25} f_{5}^{10} q^{8} + 408 \\, f_{1}^{2} f_{10}^{5} f_{2}^{6} f_{20}^{20} f_{4} f_{5}^{10} q^{6} + 124 \\, f_{1}^{3} f_{10}^{15} f_{2}^{4} f_{20}^{15} f_{4}^{2} f_{5}^{5} q^{5} + 120 \\, f_{1}^{2} f_{10}^{10} f_{2}^{5} f_{20}^{15} f_{4}^{2} f_{5}^{10} q^{4} + 64 \\, f_{1}^{3} f_{10}^{20} f_{2}^{3} f_{20}^{10} f_{4}^{3} f_{5}^{5} q^{3} + 7 \\, f_{1}^{4} f_{10}^{30} f_{2} f_{20}^{5} f_{4}^{4} q^{2} - 5 \\, f_{1}^{3} f_{10}^{25} f_{2}^{2} f_{20}^{5} f_{4}^{4} f_{5}^{5} q - f_{1}^{4} f_{10}^{35} f_{4}^{5}}{f_{4}}$$"
      ],
      "text/plain": [
       "(256*f1^2*f2^7*f20^25*f5^10*q^8 + 408*f1^2*f10^5*f2^6*f20^20*f4*f5^10*q^6 + 124*f1^3*f10^15*f2^4*f20^15*f4^2*f5^5*q^5 + 120*f1^2*f10^10*f2^5*f20^15*f4^2*f5^10*q^4 + 64*f1^3*f10^20*f2^3*f20^10*f4^3*f5^5*q^3 + 7*f1^4*f10^30*f2*f20^5*f4^4*q^2 - 5*f1^3*f10^25*f2^2*f20^5*f4^4*f5^5*q - f1^4*f10^35*f4^5)/f4"
      ]
     },
     "execution_count": 47,
     "metadata": {},
     "output_type": "execute_result"
    }
   ],
   "source": [
    "H5 = step5 + H4 - 64*(q^5 * q5_expression2)\n",
    "H5.full_simplify()"
   ]
  },
  {
   "cell_type": "code",
   "execution_count": 26,
   "id": "a0e8ec03",
   "metadata": {},
   "outputs": [],
   "source": [
    "# def expand_backward(expression):\n",
    "#     term_1 = expression*f1^(-2)*f2^3*f4^(-1)*f5^10*f10^(-15)*f20^5\n",
    "#     term_2 = expression*f1^(-1)*f2^(2)*f4^(-1)*f5^(5)*f10^(-10)*f20^(5)\n",
    "#     term_3 = expression*f1^(-1)*f2^(3)*f4^(-2)*f5^(5)*f10^(-15)*f20^(10)\n",
    "#     return term_1 - 2*q*term_2 -4*q^3*term_3\n",
    "\n",
    "#expand_backward(f1*f4*f10^15*f2^(-3)*f5^(-5)*f20^(-5))"
   ]
  },
  {
   "cell_type": "code",
   "execution_count": 27,
   "id": "2acf23c7",
   "metadata": {},
   "outputs": [],
   "source": [
    "#step5 = 64*(q^3 * expand_backward(q3_expression1))\n",
    "#step5.full_simplify()"
   ]
  },
  {
   "cell_type": "code",
   "execution_count": 28,
   "id": "d9576fdc",
   "metadata": {},
   "outputs": [],
   "source": [
    "#H5 = step5 + H4 - 64*(q^3 * q3_expression1)\n",
    "#H5.full_simplify()"
   ]
  },
  {
   "cell_type": "code",
   "execution_count": 29,
   "id": "eca46912",
   "metadata": {},
   "outputs": [],
   "source": [
    "#step6 = 7*(q^2 * expand_backward(q2_expression1))\n",
    "#step6.full_simplify()"
   ]
  },
  {
   "cell_type": "code",
   "execution_count": 30,
   "id": "0f51ca05",
   "metadata": {},
   "outputs": [],
   "source": [
    "#H6 = step6 + H5 - 7*(q^2 * q2_expression1)\n",
    "#H6.full_simplify()"
   ]
  },
  {
   "cell_type": "code",
   "execution_count": 31,
   "id": "5e83a188",
   "metadata": {},
   "outputs": [],
   "source": [
    "#step7 = -5*(q * expand_backward(q1_expression1))\n",
    "#step7.full_simplify()"
   ]
  },
  {
   "cell_type": "code",
   "execution_count": 32,
   "id": "5aabaead",
   "metadata": {},
   "outputs": [],
   "source": [
    "#H7 = step7 + H6 + 5*(q * q1_expression1)\n",
    "#H7.full_simplify()"
   ]
  },
  {
   "cell_type": "code",
   "execution_count": 33,
   "id": "38344167",
   "metadata": {},
   "outputs": [],
   "source": [
    "#step8 = -expand_backward(const)\n",
    "#step8.full_simplify()"
   ]
  },
  {
   "cell_type": "code",
   "execution_count": 34,
   "id": "cae506fd",
   "metadata": {},
   "outputs": [],
   "source": [
    "#H8 = step8 + H7 + const\n",
    "#H8.full_simplify()"
   ]
  },
  {
   "cell_type": "code",
   "execution_count": 48,
   "id": "5c752ccb",
   "metadata": {},
   "outputs": [],
   "source": [
    "def expand_f_f2f4f10f20_1(expression):\n",
    "    term1 = expression * f2^(4) * f4^(-2) * f10^(-4) * f20^(2)\n",
    "    term2 = expression * f2^(1) * f4^(-1) *f10^(-5) * f20^(5)\n",
    "    return term1 + 4*q^2*term2"
   ]
  },
  {
   "cell_type": "code",
   "execution_count": 49,
   "id": "269c7f54",
   "metadata": {},
   "outputs": [
    {
     "data": {
      "text/html": [
       "<html>\\[\\newcommand{\\Bold}[1]{\\mathbf{#1}}\\frac{4 \\, f_{20}^{2} q^{2}}{f_{2}^{3} f_{4}} + \\frac{f_{10}}{f_{20} f_{4}^{2}}\\]</html>"
      ],
      "text/latex": [
       "$$\\newcommand{\\Bold}[1]{\\mathbf{#1}}\\frac{4 \\, f_{20}^{2} q^{2}}{f_{2}^{3} f_{4}} + \\frac{f_{10}}{f_{20} f_{4}^{2}}$$"
      ],
      "text/plain": [
       "4*f20^2*q^2/(f2^3*f4) + f10/(f20*f4^2)"
      ]
     },
     "execution_count": 49,
     "metadata": {},
     "output_type": "execute_result"
    }
   ],
   "source": [
    "expand_f_f2f4f10f20_1(f10^5/(f2^4*f20^3))"
   ]
  },
  {
   "cell_type": "code",
   "execution_count": null,
   "id": "be324d9b",
   "metadata": {},
   "outputs": [],
   "source": []
  }
 ],
 "metadata": {
  "kernelspec": {
   "display_name": "SageMath 9.5",
   "language": "sage",
   "name": "sagemath"
  },
  "language_info": {
   "codemirror_mode": {
    "name": "ipython",
    "version": 3
   },
   "file_extension": ".py",
   "mimetype": "text/x-python",
   "name": "python",
   "nbconvert_exporter": "python",
   "pygments_lexer": "ipython3",
   "version": "3.9.9"
  }
 },
 "nbformat": 4,
 "nbformat_minor": 5
}
