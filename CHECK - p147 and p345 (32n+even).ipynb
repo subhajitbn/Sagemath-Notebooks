{
 "cells": [
  {
   "cell_type": "markdown",
   "id": "d75a000e",
   "metadata": {},
   "source": [
    "# Ramanujan's Theta Functions\n",
    "\n",
    "## Definitions\n",
    "\n",
    "Let $a$ and $b$ be integers. Then we define \n",
    "$$\n",
    "f(a,b) := (-q^a;q^{a+b})_{\\infty}(-q^b;q^{a+b})_{\\infty}(q^{a+b};q^{a+b})_{\\infty}.\n",
    "$$\n",
    "\n",
    "For the ease of programming, we break the above into two different functions defined below.\n",
    "\n",
    "$$\n",
    "sf(a,b) :=  (-q^a;q^{a+b})_{\\infty}\n",
    "$$\n",
    "and\n",
    "$$\n",
    "f_n := (q^{n};q^{n})_{\\infty}.\n",
    "$$\n",
    "\n",
    "This implies,\n",
    "\n",
    "$$\n",
    "f(a,b) \\quad = \\quad sf(a,b) \\; sf(b,a) \\; f_{a+b}.\n",
    "$$\n",
    "\n",
    "Note that, to avoid confusion, we rename $f(a,b)$ to $ftheta(a,b)$ and $f_n$ to $f(n)$ in the following code. "
   ]
  },
  {
   "cell_type": "code",
   "execution_count": 1,
   "id": "e269b40b",
   "metadata": {},
   "outputs": [],
   "source": [
    "%display latex"
   ]
  },
  {
   "cell_type": "code",
   "execution_count": 2,
   "id": "3a4e2988",
   "metadata": {},
   "outputs": [],
   "source": [
    "from sage.modular.etaproducts import qexp_eta\n",
    "from math import floor\n",
    "import numpy as np"
   ]
  },
  {
   "cell_type": "code",
   "execution_count": 3,
   "id": "98f0c306",
   "metadata": {},
   "outputs": [],
   "source": [
    "R.<q> = PowerSeriesRing(ZZ)\n",
    "precision = 500\n",
    "f1 = qexp_eta(ZZ[['q']], precision)\n",
    "\n",
    "def sf(a, b):\n",
    "    top = floor((precision-a)/(a+b))\n",
    "    base = 1\n",
    "    for r in range(0,top):\n",
    "        next_term = 1 + q^(a+r*(a+b))\n",
    "        base = base * next_term\n",
    "    return base + O(q^precision)\n",
    "\n",
    "def f(n):\n",
    "    return f1.V(n)\n",
    "\n",
    "def ftheta(a,b):\n",
    "    return sf(a,b)*sf(b,a)*f(a+b)"
   ]
  },
  {
   "cell_type": "code",
   "execution_count": 4,
   "id": "ad0d0486",
   "metadata": {},
   "outputs": [
    {
     "data": {
      "text/html": [
       "<html>\\[\\newcommand{\\Bold}[1]{\\mathbf{#1}}1 +  q +  q^{7} +  q^{10} +  q^{22} +  q^{27} +  q^{45} +  q^{52} +  q^{76} +  q^{85} +  q^{115} +  q^{126} +  q^{162} +  q^{175} +  q^{217} +  q^{232} +  q^{280} +  q^{297} +  q^{351} +  q^{370} +  q^{430} +  q^{451} -  q^{495} -  q^{496} -  q^{497} -  q^{498} + O(q^{500})\\]</html>"
      ],
      "text/latex": [
       "$$\\newcommand{\\Bold}[1]{\\mathbf{#1}}1 +  q +  q^{7} +  q^{10} +  q^{22} +  q^{27} +  q^{45} +  q^{52} +  q^{76} +  q^{85} +  q^{115} +  q^{126} +  q^{162} +  q^{175} +  q^{217} +  q^{232} +  q^{280} +  q^{297} +  q^{351} +  q^{370} +  q^{430} +  q^{451} -  q^{495} -  q^{496} -  q^{497} -  q^{498} + O(q^{500})$$"
      ],
      "text/plain": [
       "1 + q + q^7 + q^10 + q^22 + q^27 + q^45 + q^52 + q^76 + q^85 + q^115 + q^126 + q^162 + q^175 + q^217 + q^232 + q^280 + q^297 + q^351 + q^370 + q^430 + q^451 - q^495 - q^496 - q^497 - q^498 + O(q^500)"
      ]
     },
     "execution_count": 4,
     "metadata": {},
     "output_type": "execute_result"
    }
   ],
   "source": [
    "# Define f(q,q^7)\n",
    "\n",
    "f_q_q7 = ftheta(1,7)\n",
    "\n",
    "f_q_q7"
   ]
  },
  {
   "cell_type": "code",
   "execution_count": 5,
   "id": "21a7f96e",
   "metadata": {},
   "outputs": [
    {
     "data": {
      "text/html": [
       "<html>\\[\\newcommand{\\Bold}[1]{\\mathbf{#1}}1 +  q^{3} +  q^{5} +  q^{14} +  q^{18} +  q^{33} +  q^{39} +  q^{60} +  q^{68} +  q^{95} +  q^{105} +  q^{138} +  q^{150} +  q^{189} +  q^{203} +  q^{248} +  q^{264} +  q^{315} +  q^{333} +  q^{390} +  q^{410} +  q^{473} -  q^{493} +  q^{495} -  q^{496} -  q^{498} -  q^{499} + O(q^{500})\\]</html>"
      ],
      "text/latex": [
       "$$\\newcommand{\\Bold}[1]{\\mathbf{#1}}1 +  q^{3} +  q^{5} +  q^{14} +  q^{18} +  q^{33} +  q^{39} +  q^{60} +  q^{68} +  q^{95} +  q^{105} +  q^{138} +  q^{150} +  q^{189} +  q^{203} +  q^{248} +  q^{264} +  q^{315} +  q^{333} +  q^{390} +  q^{410} +  q^{473} -  q^{493} +  q^{495} -  q^{496} -  q^{498} -  q^{499} + O(q^{500})$$"
      ],
      "text/plain": [
       "1 + q^3 + q^5 + q^14 + q^18 + q^33 + q^39 + q^60 + q^68 + q^95 + q^105 + q^138 + q^150 + q^189 + q^203 + q^248 + q^264 + q^315 + q^333 + q^390 + q^410 + q^473 - q^493 + q^495 - q^496 - q^498 - q^499 + O(q^500)"
      ]
     },
     "execution_count": 5,
     "metadata": {},
     "output_type": "execute_result"
    }
   ],
   "source": [
    "# Define f(q^3,q^5)\n",
    "\n",
    "f_q3_q5 = ftheta(3,5)\n",
    "\n",
    "f_q3_q5"
   ]
  },
  {
   "cell_type": "code",
   "execution_count": 6,
   "id": "6a2517bc",
   "metadata": {},
   "outputs": [],
   "source": [
    "# The purpose of this codeblock is to replace q with -q in a theta function ftheta(a,b)\n",
    "\n",
    "def isodd(number):\n",
    "    \"\"\"\n",
    "    Checks whether an integer is odd\n",
    "    \"\"\"\n",
    "    \n",
    "    return number % 2 == 1\n",
    "\n",
    "\n",
    "def turn_odd_coefficients_negative(coefficients_list):\n",
    "    \"\"\"\n",
    "    Takes a list and returns another list with the odd-positioned elements turned into negatives \n",
    "    \"\"\"\n",
    "    \n",
    "    odd_neg_coefficients_list = coefficients_list\n",
    "    for i in range(len(coefficients_list)):\n",
    "        if isodd(i):\n",
    "            odd_neg_coefficients_list[i] = -odd_neg_coefficients_list[i]\n",
    "    return odd_neg_coefficients_list\n",
    "\n",
    "\n",
    "def replace_neg_q_in_ftheta(f_q):\n",
    "    \"\"\"\n",
    "    Takes a truncated power series returns another truncated power series function with q replaced with -q\n",
    "    \"\"\"\n",
    "    \n",
    "    coefficients_list = f_q.list()\n",
    "    return R(turn_odd_coefficients_negative(coefficients_list), precision)"
   ]
  },
  {
   "cell_type": "code",
   "execution_count": 7,
   "id": "bb521d02",
   "metadata": {},
   "outputs": [
    {
     "data": {
      "text/html": [
       "<html>\\[\\newcommand{\\Bold}[1]{\\mathbf{#1}}1 -  q -  q^{7} +  q^{10} +  q^{22} -  q^{27} -  q^{45} +  q^{52} +  q^{76} -  q^{85} -  q^{115} +  q^{126} +  q^{162} -  q^{175} -  q^{217} +  q^{232} +  q^{280} -  q^{297} -  q^{351} +  q^{370} +  q^{430} -  q^{451} +  q^{495} -  q^{496} +  q^{497} -  q^{498} + O(q^{500})\\]</html>"
      ],
      "text/latex": [
       "$$\\newcommand{\\Bold}[1]{\\mathbf{#1}}1 -  q -  q^{7} +  q^{10} +  q^{22} -  q^{27} -  q^{45} +  q^{52} +  q^{76} -  q^{85} -  q^{115} +  q^{126} +  q^{162} -  q^{175} -  q^{217} +  q^{232} +  q^{280} -  q^{297} -  q^{351} +  q^{370} +  q^{430} -  q^{451} +  q^{495} -  q^{496} +  q^{497} -  q^{498} + O(q^{500})$$"
      ],
      "text/plain": [
       "1 - q - q^7 + q^10 + q^22 - q^27 - q^45 + q^52 + q^76 - q^85 - q^115 + q^126 + q^162 - q^175 - q^217 + q^232 + q^280 - q^297 - q^351 + q^370 + q^430 - q^451 + q^495 - q^496 + q^497 - q^498 + O(q^500)"
      ]
     },
     "execution_count": 7,
     "metadata": {},
     "output_type": "execute_result"
    }
   ],
   "source": [
    "# Define f(-q,-q^7)\n",
    "\n",
    "f_nq_nq7 = replace_neg_q_in_ftheta(f_q_q7)\n",
    "\n",
    "f_nq_nq7"
   ]
  },
  {
   "cell_type": "code",
   "execution_count": 8,
   "id": "cfe2dc6d",
   "metadata": {},
   "outputs": [
    {
     "data": {
      "text/html": [
       "<html>\\[\\newcommand{\\Bold}[1]{\\mathbf{#1}}1 -  q^{3} -  q^{5} +  q^{14} +  q^{18} -  q^{33} -  q^{39} +  q^{60} +  q^{68} -  q^{95} -  q^{105} +  q^{138} +  q^{150} -  q^{189} -  q^{203} +  q^{248} +  q^{264} -  q^{315} -  q^{333} +  q^{390} +  q^{410} -  q^{473} +  q^{493} -  q^{495} -  q^{496} -  q^{498} +  q^{499} + O(q^{500})\\]</html>"
      ],
      "text/latex": [
       "$$\\newcommand{\\Bold}[1]{\\mathbf{#1}}1 -  q^{3} -  q^{5} +  q^{14} +  q^{18} -  q^{33} -  q^{39} +  q^{60} +  q^{68} -  q^{95} -  q^{105} +  q^{138} +  q^{150} -  q^{189} -  q^{203} +  q^{248} +  q^{264} -  q^{315} -  q^{333} +  q^{390} +  q^{410} -  q^{473} +  q^{493} -  q^{495} -  q^{496} -  q^{498} +  q^{499} + O(q^{500})$$"
      ],
      "text/plain": [
       "1 - q^3 - q^5 + q^14 + q^18 - q^33 - q^39 + q^60 + q^68 - q^95 - q^105 + q^138 + q^150 - q^189 - q^203 + q^248 + q^264 - q^315 - q^333 + q^390 + q^410 - q^473 + q^493 - q^495 - q^496 - q^498 + q^499 + O(q^500)"
      ]
     },
     "execution_count": 8,
     "metadata": {},
     "output_type": "execute_result"
    }
   ],
   "source": [
    "# Define f(-q^3,-q^5)\n",
    "\n",
    "f_nq3_nq5 = replace_neg_q_in_ftheta(f_q3_q5)\n",
    "\n",
    "f_nq3_nq5"
   ]
  },
  {
   "cell_type": "code",
   "execution_count": 9,
   "id": "467201d2",
   "metadata": {},
   "outputs": [],
   "source": [
    "# Define a few elementary theta functions\n",
    "\n",
    "f2 = f1.V(2)\n",
    "f4 = f1.V(4)\n",
    "f8 = f1.V(8)"
   ]
  },
  {
   "cell_type": "code",
   "execution_count": 10,
   "id": "69a14988",
   "metadata": {},
   "outputs": [],
   "source": [
    "# Define the standard Ramanujan theta functions phi and psi\n",
    "\n",
    "phi = ftheta(1,1)\n",
    "\n",
    "psi = ftheta(1,3)"
   ]
  },
  {
   "cell_type": "code",
   "execution_count": 11,
   "id": "f31cb23b",
   "metadata": {},
   "outputs": [
    {
     "data": {
      "text/html": [
       "<html>\\[\\newcommand{\\Bold}[1]{\\mathbf{#1}}\\left(\\mathrm{True}, \\mathrm{True}\\right)\\]</html>"
      ],
      "text/latex": [
       "$$\\newcommand{\\Bold}[1]{\\mathbf{#1}}\\left(\\mathrm{True}, \\mathrm{True}\\right)$$"
      ],
      "text/plain": [
       "(True, True)"
      ]
     },
     "execution_count": 11,
     "metadata": {},
     "output_type": "execute_result"
    }
   ],
   "source": [
    "# This tests the definitions of phi and psi against their well known elementary theta series expressions\n",
    "# The output should be (True,True)\n",
    "\n",
    "# Comment out the block to save resources\n",
    "\n",
    "def test_phi_and_psi():\n",
    "    test_precision = precision - 10\n",
    "    istrue_phi = phi.truncate(test_precision) == ((f2^5)/(f1^2*f4^2)).truncate(test_precision)\n",
    "    istrue_psi = psi.truncate(test_precision) == ((f2^2)/f1).truncate(test_precision)\n",
    "    return istrue_phi, istrue_psi\n",
    "\n",
    "test_phi_and_psi()"
   ]
  },
  {
   "cell_type": "code",
   "execution_count": 12,
   "id": "4323fc0d",
   "metadata": {},
   "outputs": [],
   "source": [
    "# Define phi(-q) and psi(-q)\n",
    "\n",
    "phi_n = replace_neg_q_in_ftheta(phi)\n",
    "\n",
    "psi_n = replace_neg_q_in_ftheta(psi)"
   ]
  },
  {
   "cell_type": "code",
   "execution_count": 13,
   "id": "5cc5ca9d",
   "metadata": {},
   "outputs": [
    {
     "data": {
      "text/html": [
       "<html>\\[\\newcommand{\\Bold}[1]{\\mathbf{#1}}\\left(\\mathrm{True}, \\mathrm{True}\\right)\\]</html>"
      ],
      "text/latex": [
       "$$\\newcommand{\\Bold}[1]{\\mathbf{#1}}\\left(\\mathrm{True}, \\mathrm{True}\\right)$$"
      ],
      "text/plain": [
       "(True, True)"
      ]
     },
     "execution_count": 13,
     "metadata": {},
     "output_type": "execute_result"
    }
   ],
   "source": [
    "# This tests the definitions of phi(-q) and psi(-q) against their well known elementary theta series expressions\n",
    "# The output should be (True,True)\n",
    "\n",
    "# Comment out the block to save resources\n",
    "\n",
    "def test_phi_n_and_psi_n():\n",
    "    test_precision = precision - 10\n",
    "    istrue_phi_n = phi_n.truncate(test_precision) == ((f1^2)/f2).truncate(test_precision)\n",
    "    istrue_psi_n = psi_n.truncate(test_precision) == ((f1*f4)/f2).truncate(test_precision)\n",
    "    return istrue_phi_n, istrue_psi_n\n",
    "\n",
    "test_phi_n_and_psi_n()"
   ]
  },
  {
   "cell_type": "code",
   "execution_count": 14,
   "id": "5d6aff81",
   "metadata": {},
   "outputs": [],
   "source": [
    "op345 = (f_q3_q5/f_nq3_nq5) * (phi_n.V(8)/phi_n.V(4))"
   ]
  },
  {
   "cell_type": "markdown",
   "id": "3daf2cb6",
   "metadata": {},
   "source": [
    "# Preliminary shorthands\n",
    "\n",
    "## Useful expressions\n",
    "1. $f(q,-q^3) = f(-q^6,-q^{10}) + qf(-q^2,-q^{14})$\n",
    "\n",
    "\n",
    "2. $f(-q,q^3) = f(-q^6,-q^{10}) - qf(-q^2,-q^{14})$\n",
    "\n",
    "## 2-Disections\n",
    "1. $\\varphi^2(q) = E_2(q^2) + 4qO_2(q^2)$, where $E2 = E_2(q)$ and $O2 = O_2(q)$.\n",
    "\n",
    "\n",
    "2. $\\varphi^3(q) = E_3(q^2) + 2qO_3(q^2)$, where $E3 = E_3(q)$ and $O3 = O_3(q)$.\n",
    "\n",
    "\n",
    "3. $\\varphi^4(q) = E_4(q^2) + 8qO_4(q^2)$, where $E4 = E_4(q)$ and $O4 = O_4(q)$.\n",
    "\n",
    "\n",
    "4. $\\varphi^6(q) = E_6(q^2) + 4qO_6(q^2)$, where $E6 = E_6(q)$ and $O6 = O_6(q)$.\n",
    "\n",
    "\n",
    "5. $\\varphi^7(q) = E_7(q^2) + 2qO_7(q^2)$, where $E7 = E_7(q)$ and $O7 = O_7(q)$.\n",
    "\n",
    "\n",
    "6. $\\psi(q) * \\varphi^2(q) = A(q^2) + qB(q^2)$, where $A = A(q)$ and $B = B(q)$.\n",
    "\n",
    "\n",
    "7. $\\psi(q) * [f(-q^6,-q^{10}) - q*f(-q^2,-q^{14})] = M_1(q^2) + qN_1(q^2)$, where $M1 = M_1(q)$ and $N1 = N_1(q)$.\n",
    "\n",
    "\n",
    "8. $\\psi(q) * [f(-q^6,-q^{10}) + q*f(-q^2,-q^{14})] = \\overline{M}_1(q^2) + q\\overline{N}_1(q^2)$, where $Mo1 = \\overline{M}_1(q)$ and $No1 = \\overline{N}_1(q)$.\n",
    "\n",
    "\n",
    "9. $\\psi(q)*f(-q^2,-q^{14}) = M_2(q^2) + qN_2(q^2)$, where $M2 = M_2(q)$ and $N2 = N_2(q)$.\n",
    "\n",
    "\n",
    "10. $\\psi(q)*f(-q^6,-q^{10}) = \\overline{M}_2(q^2) + q\\overline{N}_2(q^2)$, where $Mo2 = \\overline{M}_2(q)$ and $No2 = \\overline{N}_2(q)$."
   ]
  },
  {
   "cell_type": "code",
   "execution_count": 15,
   "id": "4d35c6f4",
   "metadata": {},
   "outputs": [],
   "source": [
    "# Preliminary shorthands\n",
    "\n",
    "f_q_nq3 = f_nq3_nq5.V(2) + q * f_nq_nq7.V(2)\n",
    "f_nq_q3 = f_nq3_nq5.V(2) - q * f_nq_nq7.V(2)\n",
    "\n",
    "E3 = phi.V(2) * (phi.V(2)^2 + 12*q*psi.V(4)^2)\n",
    "O3 = psi.V(4) * (3*phi.V(2)^2 + 4*q*psi.V(4)^2)\n",
    "\n",
    "# \\varphi^4(q) = E_4(q^2) + 8qO_4(q^2)\n",
    "# E4 = E4(q), O4 = O4(q)\n",
    "E4 = phi^4 + 16*q*psi.V(2)^4\n",
    "O4 = phi^2 * psi.V(2)^2\n",
    "\n",
    "# \\varphi^6(q) = E_6(q^2) + 4q*O_6(q^2)\n",
    "# E6 = E_6(q), O6 = O_6(q)\n",
    "E6 = phi^2*(phi^4 + 48*q*psi.V(2)^4)\n",
    "O6 = psi.V(2)^2*(3*phi^4 + 16*q*psi.V(2)^4)\n",
    "\n",
    "# \\varphi^7(q) = E_7(q^2) + 2q*O_7(q^2)\n",
    "# E7 = E_7(q), O7 = O_7(q)\n",
    "XE = q*psi.V(4)*psi.V(2)^2*(3*phi^4 + 6*phi.V(2)^2*phi^2 + 16*q*psi.V(2)^4)\n",
    "XO = phi.V(2)*psi.V(2)^2*(phi^4 + 6*q*psi.V(4)^2*phi^2 + 4*q*psi.V(2)^4)\n",
    "E7 = phi.V(2)*phi^6 + 8*XE\n",
    "O7 = phi^4*psi.V(4)*(phi^2 - 2*phi.V(2)^2) + 8*XO\n",
    "\n",
    "# \\psi(q) * phi^2(q) = A(q^2) + qB(q^2)\n",
    "# A = A(q), B = B(q)\n",
    "A = phi^2*f_q3_q5 + 4*q*psi.V(2)^2*f_q_q7\n",
    "B = phi^2*f_q_q7 + 4*psi.V(2)^2*f_q3_q5\n",
    "\n",
    "# \\psi(q) * [f(-q^6,-q^{10}) - q*f(-q^2,-q^{14})] = M_1(q^2) + N_1(q^2)\n",
    "# M1 = M_1(q), N1 = N_1(q)\n",
    "M1 = phi_n.V(8) * f_nq_q3\n",
    "N1 = q*psi_n.V(4)*f_nq_nq7.V(2)\n",
    "\n",
    "# \\psi(q) * [f(-q^6,-q^{10}) + q*f(-q^2,-q^{14})] = \\overline{M}_1(q^2) + \\overline{N}_1(q^2)\n",
    "# Mo1 = \\overline{M}_1(q), No1 = \\overline{N}_1(q)\n",
    "Mo1 = phi_n.V(8) * f_q_nq3\n",
    "No1 = psi_n.V(4)*f_nq3_nq5.V(2)\n",
    "\n",
    "# \\psi(q)*f(-q^2,-q^{14}) = M_2(q^2) + q*N_2(q^2)\n",
    "# M2 = M_2(q), N2 = N_2(q)\n",
    "M2 = psi_n.V(4)*f_nq_q3\n",
    "N2 = phi_n.V(8)*f_nq_nq7.V(2)\n",
    "\n",
    "# \\psi(q)*f(-q^6,-q^{10}) = \\overline{M}_2(q^2) + \\overline{N}_2(q^2)\n",
    "# Mo2 = \\overline{M}_2(q), No2 = \\overline{N}_2(q)\n",
    "Mo2 = phi_n.V(8)*f_nq3_nq5.V(2)\n",
    "No2 = psi_n.V(4)*f_q_nq3\n",
    "\n",
    "# \\varphi(q) E3(q) = \\varphi(q^2) \\left(T1(q^2) + 2qT2(q^2)\\right)\n",
    "# \\varphi(q) O3(q) = \\psi(q^4) \\left(\\overline{T}1(q^2) + 2q\\overline{T}2(q^2)\\right)\n",
    "# f(q,-q^3) O3(Q) = \\psi(q^4) \\left(T3(q^2) + qT4(q^2)\\right)\n",
    "# \\varphi(q) f(q,-q^3) O3(Q) = \\psi(q^4) \\left(Y1(q^2) + qY2(q^2)\\right)\n",
    "\n",
    "T1 = phi^2*phi.V(2) + 24*q*psi.V(2)^2*psi.V(4)\n",
    "T2 = phi^2*psi.V(4) + 6*psi.V(2)^2*phi.V(2)\n",
    "To1 = 3*phi^2*phi.V(2) + 8*q*psi.V(2)^2*psi.V(4)\n",
    "To2 = 3*psi.V(4)*phi^2 + 2*psi.V(2)^2*phi.V(2)\n",
    "T3 = 3*f_nq3_nq5*phi^2 + 4*q*f_nq_nq7*psi.V(2)^2\n",
    "T4 = 4*f_nq3_nq5*psi.V(2)^2 + 3*f_nq_nq7*phi^2\n",
    "Y1 = To1*f_nq3_nq5 + 2*q*To2*f_nq_nq7\n",
    "Y2 = To1*f_nq_nq7 + 2*To2*f_nq3_nq5"
   ]
  },
  {
   "cell_type": "code",
   "execution_count": 16,
   "id": "3ebb7059",
   "metadata": {},
   "outputs": [
    {
     "data": {
      "text/html": [
       "<html>\\[\\newcommand{\\Bold}[1]{\\mathbf{#1}}\\left(\\mathrm{True}, \\mathrm{True}, \\mathrm{True}, \\mathrm{True}, \\mathrm{True}, \\mathrm{True}, \\mathrm{True}, \\mathrm{True}, \\mathrm{True}, \\mathrm{True}, \\mathrm{True}, \\mathrm{True}\\right)\\]</html>"
      ],
      "text/latex": [
       "$$\\newcommand{\\Bold}[1]{\\mathbf{#1}}\\left(\\mathrm{True}, \\mathrm{True}, \\mathrm{True}, \\mathrm{True}, \\mathrm{True}, \\mathrm{True}, \\mathrm{True}, \\mathrm{True}, \\mathrm{True}, \\mathrm{True}, \\mathrm{True}, \\mathrm{True}\\right)$$"
      ],
      "text/plain": [
       "(True, True, True, True, True, True, True, True, True, True, True, True)"
      ]
     },
     "execution_count": 16,
     "metadata": {},
     "output_type": "execute_result"
    }
   ],
   "source": [
    "# Tests\n",
    "\n",
    "def test_preliminary_shorthands():\n",
    "    test_precision = precision - 5\n",
    "    istrue_01 = (phi^3).truncate(test_precision) == (E3.V(2) + 2*q*O3.V(2)).truncate(test_precision)\n",
    "    istrue_02 = (phi^4).truncate(test_precision) == (E4.V(2) + 8*q*O4.V(2)).truncate(test_precision)\n",
    "    istrue_03 = (phi^6).truncate(test_precision) == (E6.V(2) + 4*q*O6.V(2)).truncate(test_precision)\n",
    "    istrue_04 = (phi^7).truncate(test_precision) == (E7.V(2) + 2*q*O7.V(2)).truncate(test_precision)\n",
    "    istrue_05 = (psi*phi^2).truncate(test_precision) == (A.V(2) + q*B.V(2)).truncate(test_precision)\n",
    "    istrue_06 = (psi*(f_nq3_nq5.V(2) - q*f_nq_nq7.V(2))).truncate(test_precision) == (M1.V(2) + 2*q*N1.V(2)).truncate(test_precision)\n",
    "    istrue_07 = (psi*(f_nq3_nq5.V(2) + q*f_nq_nq7.V(2))).truncate(test_precision) == (Mo1.V(2) + 2*q*No1.V(2)).truncate(test_precision)\n",
    "    istrue_08 = (psi*f_nq_nq7.V(2)).truncate(test_precision) == (M2.V(2) + q*N2.V(2)).truncate(test_precision)\n",
    "    istrue_09 = (psi*f_nq3_nq5.V(2)).truncate(test_precision) == (Mo2.V(2) + q*No2.V(2)).truncate(test_precision)\n",
    "    istrue_10 = (phi*E3).truncate(test_precision) == (phi.V(2)*(T1.V(2) + 2*q*T2.V(2))).truncate(test_precision)\n",
    "    istrue_11 = (phi*O3).truncate(test_precision) == (psi.V(4)*(To1.V(2) + 2*q*To2.V(2))).truncate(test_precision)\n",
    "    istrue_12 = (f_q_nq3*(3*phi.V(2)^2+4*q*psi.V(4)^2)).truncate(test_precision) == (T3.V(2) + q*T4.V(2)).truncate(test_precision)\n",
    "    return istrue_01, istrue_02, istrue_03, istrue_04, istrue_05, istrue_06, istrue_07, istrue_08, istrue_09, istrue_10, istrue_11, istrue_12\n",
    "\n",
    "test_preliminary_shorthands()"
   ]
  },
  {
   "cell_type": "code",
   "execution_count": 17,
   "id": "6567434e",
   "metadata": {},
   "outputs": [
    {
     "data": {
      "text/html": [
       "<html>\\[\\newcommand{\\Bold}[1]{\\mathbf{#1}}\\left(\\mathrm{True}, \\mathrm{True}, \\mathrm{True}, \\mathrm{True}\\right)\\]</html>"
      ],
      "text/latex": [
       "$$\\newcommand{\\Bold}[1]{\\mathbf{#1}}\\left(\\mathrm{True}, \\mathrm{True}, \\mathrm{True}, \\mathrm{True}\\right)$$"
      ],
      "text/plain": [
       "(True, True, True, True)"
      ]
     },
     "execution_count": 17,
     "metadata": {},
     "output_type": "execute_result"
    }
   ],
   "source": [
    "test_precision = precision - 10\n",
    "\n",
    "def verify_phi7_O3():\n",
    "    even = psi.V(2)*(3*phi.V(2)*phi^8 + 24*phi^2*XE + 8*q*psi.V(2)^2*O7)\n",
    "    odd = psi.V(2)*(6*phi^8*psi.V(4) - 12*phi^6*phi.V(2)^2*psi.V(4) + 4*psi.V(2)^2*E7 + 48*phi^2*XO)\n",
    "    check = ((phi^7*O3).truncate(test_precision) == (even.V(2)+q*odd.V(2)).truncate(test_precision))\n",
    "    return check\n",
    "\n",
    "def verify_phi7_E3():\n",
    "    even = phi*(phi.V(2)*phi^8 + 8*phi^2*XE +24*q*psi.V(2)^2*O7)\n",
    "    odd = 2*phi*(phi^8*psi.V(4) - 2*phi^6*phi.V(2)^2*psi.V(4) + 6*psi.V(2)^2*E7 + 8*phi^2*XO)\n",
    "    check = ((phi^7*E3).truncate(test_precision) == (even.V(2)+q*odd.V(2)).truncate(test_precision))\n",
    "    return check\n",
    "\n",
    "def verify_phi6_O3():\n",
    "    #even = psi.V(2)*(16*q*psi.V(2)^2*O6 + 3*phi^2*E6)\n",
    "    even = psi.V(2)*(3*phi^8 + 3*48*q*phi^4*psi.V(2)^4 + 16*q*psi.V(2)^2*O6)\n",
    "    odd = 4*psi.V(2)*(psi.V(2)^2*E6 + 3*phi^2*O6)\n",
    "    check = ((phi^6*O3).truncate(test_precision) == (even.V(2)+q*odd.V(2)).truncate(test_precision))\n",
    "    return check\n",
    "\n",
    "def verify_phi6_E3():\n",
    "    even = phi*(phi^8 + 48*q*phi^4*psi.V(2)^4 + 48*q*psi.V(2)^2*O6)\n",
    "    odd = 4*phi*(3*psi.V(2)^2*E6 + phi^2*O6)\n",
    "    check = ((phi^6*E3).truncate(test_precision) == (even.V(2)+q*odd.V(2)).truncate(test_precision))\n",
    "    return check\n",
    "\n",
    "def verify_all():\n",
    "    return verify_phi7_O3(), verify_phi7_E3(), verify_phi6_O3(), verify_phi6_E3()\n",
    "\n",
    "verify_all()"
   ]
  },
  {
   "cell_type": "code",
   "execution_count": 18,
   "id": "76c8729d",
   "metadata": {},
   "outputs": [
    {
     "data": {
      "text/html": [
       "<html>\\[\\newcommand{\\Bold}[1]{\\mathbf{#1}}1 + 26 q + 284 q^{2} + 2072 q^{3} + 11856 q^{4} + 57324 q^{5} + 244303 q^{6} + 942806 q^{7} + 3356006 q^{8} + 11166046 q^{9} + O(q^{10})\\]</html>"
      ],
      "text/latex": [
       "$$\\newcommand{\\Bold}[1]{\\mathbf{#1}}1 + 26 q + 284 q^{2} + 2072 q^{3} + 11856 q^{4} + 57324 q^{5} + 244303 q^{6} + 942806 q^{7} + 3356006 q^{8} + 11166046 q^{9} + O(q^{10})$$"
      ],
      "text/plain": [
       "1 + 26*q + 284*q^2 + 2072*q^3 + 11856*q^4 + 57324*q^5 + 244303*q^6 + 942806*q^7 + 3356006*q^8 + 11166046*q^9 + O(q^10)"
      ]
     },
     "execution_count": 18,
     "metadata": {},
     "output_type": "execute_result"
    }
   ],
   "source": [
    "# sum T1(n)q^n\n",
    "\n",
    "T1 = (phi^7/phi_n.V(2)^13)*phi_n.V(4)*phi_n.V(8)*E3*f_nq3_nq5.V(2)\n",
    "T1.add_bigoh(10)"
   ]
  },
  {
   "cell_type": "code",
   "execution_count": 19,
   "id": "5f0c5388",
   "metadata": {},
   "outputs": [
    {
     "data": {
      "text/html": [
       "<html>\\[\\newcommand{\\Bold}[1]{\\mathbf{#1}}26 + 2072 q + 57324 q^{2} + 942806 q^{3} + 11166046 q^{4} + O(q^{5})\\]</html>"
      ],
      "text/latex": [
       "$$\\newcommand{\\Bold}[1]{\\mathbf{#1}}26 + 2072 q + 57324 q^{2} + 942806 q^{3} + 11166046 q^{4} + O(q^{5})$$"
      ],
      "text/plain": [
       "26 + 2072*q + 57324*q^2 + 942806*q^3 + 11166046*q^4 + O(q^5)"
      ]
     },
     "execution_count": 19,
     "metadata": {},
     "output_type": "execute_result"
    }
   ],
   "source": [
    "# sum T1(2n+1)q^n\n",
    "\n",
    "u1 = phi_n.V(2)*phi_n.V(4)*phi*f_nq3_nq5 * (phi^6*phi.V(2)*psi.V(2)^2 + 2*(phi^2*XO+6*psi.V(2)^2*XE))\n",
    "\n",
    "T1_2n_plus_1 = (2*phi_n.V(2)*phi_n.V(4)*psi.V(4)*f_nq3_nq5*phi^9 + 8*u1) / phi_n^13\n",
    "\n",
    "T1_2n_plus_1.add_bigoh(5)"
   ]
  },
  {
   "cell_type": "code",
   "execution_count": 20,
   "id": "11957a0e",
   "metadata": {},
   "outputs": [
    {
     "data": {
      "text/html": [
       "<html>\\[\\newcommand{\\Bold}[1]{\\mathbf{#1}}3 + 46 q + 398 q^{2} + 2540 q^{3} + 13268 q^{4} + 59948 q^{5} + 242245 q^{6} + 895050 q^{7} + 3071333 q^{8} + 9901176 q^{9} + 30250747 q^{10} + O(q^{11})\\]</html>"
      ],
      "text/latex": [
       "$$\\newcommand{\\Bold}[1]{\\mathbf{#1}}3 + 46 q + 398 q^{2} + 2540 q^{3} + 13268 q^{4} + 59948 q^{5} + 242245 q^{6} + 895050 q^{7} + 3071333 q^{8} + 9901176 q^{9} + 30250747 q^{10} + O(q^{11})$$"
      ],
      "text/plain": [
       "3 + 46*q + 398*q^2 + 2540*q^3 + 13268*q^4 + 59948*q^5 + 242245*q^6 + 895050*q^7 + 3071333*q^8 + 9901176*q^9 + 30250747*q^10 + O(q^11)"
      ]
     },
     "execution_count": 20,
     "metadata": {},
     "output_type": "execute_result"
    }
   ],
   "source": [
    "# sum T2(n)q^n\n",
    "\n",
    "T2 = (phi^7/phi_n.V(2)^13)*phi_n.V(4)*psi_n.V(4)*O3*f_nq3_nq5.V(2)\n",
    "\n",
    "T2.add_bigoh(11)"
   ]
  },
  {
   "cell_type": "code",
   "execution_count": 21,
   "id": "d97008c7",
   "metadata": {},
   "outputs": [
    {
     "data": {
      "text/html": [
       "<html>\\[\\newcommand{\\Bold}[1]{\\mathbf{#1}}3 + 398 q + 13268 q^{2} + 242245 q^{3} + 3071333 q^{4} + 30250747 q^{5} + O(q^{6})\\]</html>"
      ],
      "text/latex": [
       "$$\\newcommand{\\Bold}[1]{\\mathbf{#1}}3 + 398 q + 13268 q^{2} + 242245 q^{3} + 3071333 q^{4} + 30250747 q^{5} + O(q^{6})$$"
      ],
      "text/plain": [
       "3 + 398*q + 13268*q^2 + 242245*q^3 + 3071333*q^4 + 30250747*q^5 + O(q^6)"
      ]
     },
     "execution_count": 21,
     "metadata": {},
     "output_type": "execute_result"
    }
   ],
   "source": [
    "# sum T2(2n)q^n\n",
    "\n",
    "u2 = phi_n.V(2)*psi_n.V(2)*psi.V(2)*f_nq3_nq5* (phi^8*phi.V(2) + 6*phi^2*XE + 2*q*psi.V(2)^2*O7 )\n",
    "\n",
    "T2_2n = (-phi_n.V(2)*psi_n.V(2)*psi.V(2)*phi.V(2)*f_nq3_nq5*phi^8 + 4*u2) / phi_n^13\n",
    "\n",
    "T2_2n.add_bigoh(6)"
   ]
  },
  {
   "cell_type": "code",
   "execution_count": 22,
   "id": "f3ab6b53",
   "metadata": {},
   "outputs": [
    {
     "data": {
      "text/html": [
       "<html>\\[\\newcommand{\\Bold}[1]{\\mathbf{#1}}3 + 46 q + 395 q^{2} + 2494 q^{3} + 12870 q^{4} + 57408 q^{5} + 228980 q^{6} + 835148 q^{7} + 2829483 q^{8} + 9008620 q^{9} + O(q^{10})\\]</html>"
      ],
      "text/latex": [
       "$$\\newcommand{\\Bold}[1]{\\mathbf{#1}}3 + 46 q + 395 q^{2} + 2494 q^{3} + 12870 q^{4} + 57408 q^{5} + 228980 q^{6} + 835148 q^{7} + 2829483 q^{8} + 9008620 q^{9} + O(q^{10})$$"
      ],
      "text/plain": [
       "3 + 46*q + 395*q^2 + 2494*q^3 + 12870*q^4 + 57408*q^5 + 228980*q^6 + 835148*q^7 + 2829483*q^8 + 9008620*q^9 + O(q^10)"
      ]
     },
     "execution_count": 22,
     "metadata": {},
     "output_type": "execute_result"
    }
   ],
   "source": [
    "# sum T3(n)q^n\n",
    "\n",
    "T3 = (phi^7/phi_n.V(2)^13)*phi_n.V(4)*psi_n.V(4)*O3*f_nq_nq7.V(2)\n",
    "\n",
    "T3.add_bigoh(10)"
   ]
  },
  {
   "cell_type": "code",
   "execution_count": 23,
   "id": "dc676114",
   "metadata": {},
   "outputs": [
    {
     "data": {
      "text/html": [
       "<html>\\[\\newcommand{\\Bold}[1]{\\mathbf{#1}}46 + 2494 q + 57408 q^{2} + 835148 q^{3} + 9008620 q^{4} + O(q^{5})\\]</html>"
      ],
      "text/latex": [
       "$$\\newcommand{\\Bold}[1]{\\mathbf{#1}}46 + 2494 q + 57408 q^{2} + 835148 q^{3} + 9008620 q^{4} + O(q^{5})$$"
      ],
      "text/plain": [
       "46 + 2494*q + 57408*q^2 + 835148*q^3 + 9008620*q^4 + O(q^5)"
      ]
     },
     "execution_count": 23,
     "metadata": {},
     "output_type": "execute_result"
    }
   ],
   "source": [
    "# sum T3(2n+1)q^n\n",
    "\n",
    "u3 = phi_n.V(2)*psi_n.V(2)*psi.V(2)*f_nq_nq7* (2*phi^8*psi.V(4) - 3*phi^6*phi.V(2)^2*psi.V(4) + 12*phi^2*XO + psi.V(2)^2*E7)\n",
    "\n",
    "T3_2n_plus_1 = (-2*phi_n.V(2)*psi_n.V(2)*psi.V(2)*psi.V(4)*f_nq_nq7*phi^8 + 4*u3) / phi_n^13\n",
    "\n",
    "T3_2n_plus_1.add_bigoh(5)"
   ]
  },
  {
   "cell_type": "code",
   "execution_count": 24,
   "id": "ddd7366b",
   "metadata": {},
   "outputs": [
    {
     "data": {
      "text/html": [
       "<html>\\[\\newcommand{\\Bold}[1]{\\mathbf{#1}}3 + 40 q + 318 q^{2} + 1904 q^{3} + 9460 q^{4} + 41040 q^{5} + 160325 q^{6} + 575672 q^{7} + 1927605 q^{8} + 6083776 q^{9} + 18246955 q^{10} + O(q^{11})\\]</html>"
      ],
      "text/latex": [
       "$$\\newcommand{\\Bold}[1]{\\mathbf{#1}}3 + 40 q + 318 q^{2} + 1904 q^{3} + 9460 q^{4} + 41040 q^{5} + 160325 q^{6} + 575672 q^{7} + 1927605 q^{8} + 6083776 q^{9} + 18246955 q^{10} + O(q^{11})$$"
      ],
      "text/plain": [
       "3 + 40*q + 318*q^2 + 1904*q^3 + 9460*q^4 + 41040*q^5 + 160325*q^6 + 575672*q^7 + 1927605*q^8 + 6083776*q^9 + 18246955*q^10 + O(q^11)"
      ]
     },
     "execution_count": 24,
     "metadata": {},
     "output_type": "execute_result"
    }
   ],
   "source": [
    "# sum T4(n)q^n\n",
    "\n",
    "T4 = (phi^6/phi_n.V(2)^13)*psi.V(2)*psi_n.V(2)*phi_n.V(8)*O3*f_nq3_nq5.V(2)\n",
    "\n",
    "T4.add_bigoh(11)"
   ]
  },
  {
   "cell_type": "code",
   "execution_count": 25,
   "id": "6a958d1e",
   "metadata": {},
   "outputs": [
    {
     "data": {
      "text/html": [
       "<html>\\[\\newcommand{\\Bold}[1]{\\mathbf{#1}}3 + 318 q + 9460 q^{2} + 160325 q^{3} + 1927605 q^{4} + 18246955 q^{5} + O(q^{6})\\]</html>"
      ],
      "text/latex": [
       "$$\\newcommand{\\Bold}[1]{\\mathbf{#1}}3 + 318 q + 9460 q^{2} + 160325 q^{3} + 1927605 q^{4} + 18246955 q^{5} + O(q^{6})$$"
      ],
      "text/plain": [
       "3 + 318*q + 9460*q^2 + 160325*q^3 + 1927605*q^4 + 18246955*q^5 + O(q^6)"
      ]
     },
     "execution_count": 25,
     "metadata": {},
     "output_type": "execute_result"
    }
   ],
   "source": [
    "# sum T4(2n)q^n\n",
    "\n",
    "u4 = psi*psi_n*phi_n.V(4)*psi.V(2)*f_nq3_nq5* (phi^8 + 36*q*phi^4*psi.V(2)^4 + 4*q*psi.V(2)^2*O6)\n",
    "\n",
    "T4_2n = (-psi*psi_n*phi_n.V(4)*psi.V(2)*f_nq3_nq5*phi^8 + 4*u4) / phi_n^13\n",
    "\n",
    "T4_2n.add_bigoh(6)"
   ]
  },
  {
   "cell_type": "code",
   "execution_count": 26,
   "id": "8c36f77e",
   "metadata": {},
   "outputs": [
    {
     "data": {
      "text/html": [
       "<html>\\[\\newcommand{\\Bold}[1]{\\mathbf{#1}}3 + 40 q + 315 q^{2} + 1864 q^{3} + 9142 q^{4} + 39136 q^{5} + 150868 q^{6} + 534672 q^{7} + 1767595 q^{8} + 5509968 q^{9} + O(q^{10})\\]</html>"
      ],
      "text/latex": [
       "$$\\newcommand{\\Bold}[1]{\\mathbf{#1}}3 + 40 q + 315 q^{2} + 1864 q^{3} + 9142 q^{4} + 39136 q^{5} + 150868 q^{6} + 534672 q^{7} + 1767595 q^{8} + 5509968 q^{9} + O(q^{10})$$"
      ],
      "text/plain": [
       "3 + 40*q + 315*q^2 + 1864*q^3 + 9142*q^4 + 39136*q^5 + 150868*q^6 + 534672*q^7 + 1767595*q^8 + 5509968*q^9 + O(q^10)"
      ]
     },
     "execution_count": 26,
     "metadata": {},
     "output_type": "execute_result"
    }
   ],
   "source": [
    "# sum T5(n)q^n\n",
    "\n",
    "T5 = (phi^6/phi_n.V(2)^13)*psi.V(2)*psi_n.V(2)*phi_n.V(8)*O3*f_nq_nq7.V(2)\n",
    "\n",
    "T5.add_bigoh(10)"
   ]
  },
  {
   "cell_type": "code",
   "execution_count": 27,
   "id": "47c1545f",
   "metadata": {},
   "outputs": [
    {
     "data": {
      "text/html": [
       "<html>\\[\\newcommand{\\Bold}[1]{\\mathbf{#1}}40 + 1864 q + 39136 q^{2} + 534672 q^{3} + 5509968 q^{4} + O(q^{5})\\]</html>"
      ],
      "text/latex": [
       "$$\\newcommand{\\Bold}[1]{\\mathbf{#1}}40 + 1864 q + 39136 q^{2} + 534672 q^{3} + 5509968 q^{4} + O(q^{5})$$"
      ],
      "text/plain": [
       "40 + 1864*q + 39136*q^2 + 534672*q^3 + 5509968*q^4 + O(q^5)"
      ]
     },
     "execution_count": 27,
     "metadata": {},
     "output_type": "execute_result"
    }
   ],
   "source": [
    "# sum T5(2n+1)q^n\n",
    "\n",
    "u5 = psi*psi_n*phi_n.V(4)*psi.V(2)*f_nq_nq7* (psi.V(2)^2*E6 + 3*phi^2*O6)\n",
    "\n",
    "T5_2n_plus_1 = 4*u5 / phi_n^13\n",
    "\n",
    "T5_2n_plus_1.add_bigoh(5)"
   ]
  },
  {
   "cell_type": "code",
   "execution_count": 28,
   "id": "9daeaae7",
   "metadata": {},
   "outputs": [
    {
     "data": {
      "text/html": [
       "<html>\\[\\newcommand{\\Bold}[1]{\\mathbf{#1}}1 + 24 q + 236 q^{2} + 1600 q^{3} + 8654 q^{4} + 39968 q^{5} + 163895 q^{6} + 611816 q^{7} + 2115067 q^{8} + 6856000 q^{9} + 21034093 q^{10} + O(q^{11})\\]</html>"
      ],
      "text/latex": [
       "$$\\newcommand{\\Bold}[1]{\\mathbf{#1}}1 + 24 q + 236 q^{2} + 1600 q^{3} + 8654 q^{4} + 39968 q^{5} + 163895 q^{6} + 611816 q^{7} + 2115067 q^{8} + 6856000 q^{9} + 21034093 q^{10} + O(q^{11})$$"
      ],
      "text/plain": [
       "1 + 24*q + 236*q^2 + 1600*q^3 + 8654*q^4 + 39968*q^5 + 163895*q^6 + 611816*q^7 + 2115067*q^8 + 6856000*q^9 + 21034093*q^10 + O(q^11)"
      ]
     },
     "execution_count": 28,
     "metadata": {},
     "output_type": "execute_result"
    }
   ],
   "source": [
    "# sum T6(n)q^n\n",
    "\n",
    "T6 = (phi^6/phi_n.V(2)^13)*psi.V(2)*psi_n.V(2)*psi_n.V(4)*E3*f_nq3_nq5.V(2)\n",
    "\n",
    "T6.add_bigoh(11)"
   ]
  },
  {
   "cell_type": "code",
   "execution_count": 29,
   "id": "d6dae170",
   "metadata": {},
   "outputs": [
    {
     "data": {
      "text/html": [
       "<html>\\[\\newcommand{\\Bold}[1]{\\mathbf{#1}}1 + 236 q + 8654 q^{2} + 163895 q^{3} + 2115067 q^{4} + 21034093 q^{5} + O(q^{6})\\]</html>"
      ],
      "text/latex": [
       "$$\\newcommand{\\Bold}[1]{\\mathbf{#1}}1 + 236 q + 8654 q^{2} + 163895 q^{3} + 2115067 q^{4} + 21034093 q^{5} + O(q^{6})$$"
      ],
      "text/plain": [
       "1 + 236*q + 8654*q^2 + 163895*q^3 + 2115067*q^4 + 21034093*q^5 + O(q^6)"
      ]
     },
     "execution_count": 29,
     "metadata": {},
     "output_type": "execute_result"
    }
   ],
   "source": [
    "# sum T6(2n)q^n\n",
    "\n",
    "u6 = psi*psi_n*psi_n.V(2)*f_nq3_nq5*phi* (phi^4*psi.V(2)^4 + psi.V(2)^2*O6)\n",
    "\n",
    "T6_2n = (psi*psi_n*psi_n.V(2)*f_nq3_nq5*phi^9 + 48*q*u6) / phi_n^13\n",
    "\n",
    "T6_2n.add_bigoh(6)"
   ]
  },
  {
   "cell_type": "code",
   "execution_count": 30,
   "id": "d2b61b6b",
   "metadata": {},
   "outputs": [
    {
     "data": {
      "text/html": [
       "<html>\\[\\newcommand{\\Bold}[1]{\\mathbf{#1}}2 + 96 q + 1300 q^{2} + 10672 q^{3} + 66004 q^{4} + 337520 q^{5} + 1501078 q^{6} + 5991072 q^{7} + 21914980 q^{8} + 74576768 q^{9} + O(q^{10})\\]</html>"
      ],
      "text/latex": [
       "$$\\newcommand{\\Bold}[1]{\\mathbf{#1}}2 + 96 q + 1300 q^{2} + 10672 q^{3} + 66004 q^{4} + 337520 q^{5} + 1501078 q^{6} + 5991072 q^{7} + 21914980 q^{8} + 74576768 q^{9} + O(q^{10})$$"
      ],
      "text/plain": [
       "2 + 96*q + 1300*q^2 + 10672*q^3 + 66004*q^4 + 337520*q^5 + 1501078*q^6 + 5991072*q^7 + 21914980*q^8 + 74576768*q^9 + O(q^10)"
      ]
     },
     "execution_count": 30,
     "metadata": {},
     "output_type": "execute_result"
    }
   ],
   "source": [
    "common = phi^6 / phi_n.V(2)^13\n",
    "first = phi*phi_n.V(4)\n",
    "firstmultiplier = phi_n.V(8)*f_nq3_nq5.V(2)*E3 + 2*q*psi_n.V(4)*f_q_nq3*O3\n",
    "second = psi.V(2)*psi_n.V(2)\n",
    "secondmultiplier = phi_n.V(8)*f_q_nq3*O3 + psi_n.V(4)*f_nq3_nq5.V(2)*E3\n",
    "\n",
    "\n",
    "op147_16n_plus_2 = 2*common*(first*firstmultiplier + 4*q*second*secondmultiplier)\n",
    "\n",
    "op147_16n_plus_2.add_bigoh(10)"
   ]
  },
  {
   "cell_type": "code",
   "execution_count": 31,
   "id": "f333ee27",
   "metadata": {},
   "outputs": [
    {
     "data": {
      "text/html": [
       "<html>\\[\\newcommand{\\Bold}[1]{\\mathbf{#1}}2 + 96 q + 1300 q^{2} + 10672 q^{3} + 66004 q^{4} + 337520 q^{5} + 1501078 q^{6} + 5991072 q^{7} + 21914980 q^{8} + 74576768 q^{9} + O(q^{10})\\]</html>"
      ],
      "text/latex": [
       "$$\\newcommand{\\Bold}[1]{\\mathbf{#1}}2 + 96 q + 1300 q^{2} + 10672 q^{3} + 66004 q^{4} + 337520 q^{5} + 1501078 q^{6} + 5991072 q^{7} + 21914980 q^{8} + 74576768 q^{9} + O(q^{10})$$"
      ],
      "text/plain": [
       "2 + 96*q + 1300*q^2 + 10672*q^3 + 66004*q^4 + 337520*q^5 + 1501078*q^6 + 5991072*q^7 + 21914980*q^8 + 74576768*q^9 + O(q^10)"
      ]
     },
     "execution_count": 31,
     "metadata": {},
     "output_type": "execute_result"
    }
   ],
   "source": [
    "(2*T1 + 4*q*T2 + 4*q^2*T3 + 8*q*T4 + 8*q^2*T5 + 8*q*T6).add_bigoh(10)"
   ]
  },
  {
   "cell_type": "code",
   "execution_count": 32,
   "id": "0ffdc44a",
   "metadata": {},
   "outputs": [
    {
     "data": {
      "text/html": [
       "<html>\\[\\newcommand{\\Bold}[1]{\\mathbf{#1}}96 + 10672 q + 337520 q^{2} + 5991072 q^{3} + 74576768 q^{4} + O(q^{5})\\]</html>"
      ],
      "text/latex": [
       "$$\\newcommand{\\Bold}[1]{\\mathbf{#1}}96 + 10672 q + 337520 q^{2} + 5991072 q^{3} + 74576768 q^{4} + O(q^{5})$$"
      ],
      "text/plain": [
       "96 + 10672*q + 337520*q^2 + 5991072*q^3 + 74576768*q^4 + O(q^5)"
      ]
     },
     "execution_count": 32,
     "metadata": {},
     "output_type": "execute_result"
    }
   ],
   "source": [
    "(2*T1_2n_plus_1 + 4*T2_2n + 4*q*T3_2n_plus_1 + 8*T4_2n + 8*q*T5_2n_plus_1 + 8*T6_2n).add_bigoh(5)"
   ]
  },
  {
   "cell_type": "code",
   "execution_count": 33,
   "id": "97a255f0",
   "metadata": {},
   "outputs": [
    {
     "data": {
      "text/html": [
       "<html>\\[\\newcommand{\\Bold}[1]{\\mathbf{#1}}96 + 10672 q + 337520 q^{2} + 5991072 q^{3} + 74576768 q^{4} + O(q^{5})\\]</html>"
      ],
      "text/latex": [
       "$$\\newcommand{\\Bold}[1]{\\mathbf{#1}}96 + 10672 q + 337520 q^{2} + 5991072 q^{3} + 74576768 q^{4} + O(q^{5})$$"
      ],
      "text/plain": [
       "96 + 10672*q + 337520*q^2 + 5991072*q^3 + 74576768*q^4 + O(q^5)"
      ]
     },
     "execution_count": 33,
     "metadata": {},
     "output_type": "execute_result"
    }
   ],
   "source": [
    "common = 1/phi_n^13\n",
    "\n",
    "main = q*psi*psi_n*psi_n.V(2)*psi.V(4)*f_nq_nq7*phi^8\n",
    "\n",
    "u1 = phi_n.V(2)*phi_n.V(4)*phi*f_nq3_nq5 * (phi^6*phi.V(2)*psi.V(2)^2 + 2*(phi^2*XO+6*psi.V(2)^2*XE))\n",
    "\n",
    "u2 = phi_n.V(2)*psi_n.V(2)*psi.V(2)*f_nq3_nq5* (phi^8*phi.V(2) + 6*phi^2*XE + 2*q*psi.V(2)^2*O7 )\n",
    "\n",
    "u3 = phi_n.V(2)*psi_n.V(2)*psi.V(2)*f_nq_nq7* (2*phi^8*psi.V(4) - 3*phi^6*phi.V(2)^2*psi.V(4) + 12*phi^2*XO + psi.V(2)^2*E7)\n",
    "\n",
    "u4 = psi*psi_n*phi_n.V(4)*psi.V(2)*f_nq3_nq5* (phi^8 + 36*q*phi^4*psi.V(2)^4 + 4*q*psi.V(2)^2*O6)\n",
    "\n",
    "u5 = psi*psi_n*phi_n.V(4)*psi.V(2)*f_nq_nq7* (psi.V(2)^2*E6 + 3*phi^2*O6)\n",
    "\n",
    "u6 = psi*psi_n*psi_n.V(2)*f_nq3_nq5*phi*psi.V(2)^2*(phi^4*psi.V(2)^2 + O6)\n",
    "\n",
    "op147_32n_plus_18 = 16*common*(main + u1 + u2 + q*u3 + 2*u4 + 2*q*u5 + 24*q*u6)\n",
    "\n",
    "op147_32n_plus_18.add_bigoh(5)"
   ]
  },
  {
   "cell_type": "code",
   "execution_count": 34,
   "id": "db477119",
   "metadata": {},
   "outputs": [
    {
     "data": {
      "text/html": [
       "<html>\\[\\newcommand{\\Bold}[1]{\\mathbf{#1}}96 + 10672 q + 337520 q^{2} + 5991072 q^{3} + 74576768 q^{4} + O(q^{5})\\]</html>"
      ],
      "text/latex": [
       "$$\\newcommand{\\Bold}[1]{\\mathbf{#1}}96 + 10672 q + 337520 q^{2} + 5991072 q^{3} + 74576768 q^{4} + O(q^{5})$$"
      ],
      "text/plain": [
       "96 + 10672*q + 337520*q^2 + 5991072*q^3 + 74576768*q^4 + O(q^5)"
      ]
     },
     "execution_count": 34,
     "metadata": {},
     "output_type": "execute_result"
    }
   ],
   "source": [
    "common = phi_n.V(2)*phi_n.V(4)*f_nq_nq7 / phi_n^13\n",
    "a = phi\n",
    "b = phi_n\n",
    "c = phi.V(2)\n",
    "terms = 16*a^10 + 4*a^8*b^2 -17*a^6*b^4 -3*a^4*b^6 + (23/8)*a^2*b^8 + (1/8)*b^10 +16*a^9*c -14*a^5*b^4*c - (1/2)*a^3*b^6*c + (3/2)*a*b^8*c\n",
    "\n",
    "result = 16*common*terms\n",
    "result.add_bigoh(5)"
   ]
  },
  {
   "cell_type": "code",
   "execution_count": 37,
   "id": "34addfd1",
   "metadata": {},
   "outputs": [
    {
     "data": {
      "text/html": [
       "<html>\\[\\newcommand{\\Bold}[1]{\\mathbf{#1}}\\mathrm{True}\\]</html>"
      ],
      "text/latex": [
       "$$\\newcommand{\\Bold}[1]{\\mathbf{#1}}\\mathrm{True}$$"
      ],
      "text/plain": [
       "True"
      ]
     },
     "execution_count": 37,
     "metadata": {},
     "output_type": "execute_result"
    }
   ],
   "source": [
    "op147_32n_plus_18.truncate(test_precision) == result.truncate(test_precision)"
   ]
  },
  {
   "cell_type": "code",
   "execution_count": 40,
   "id": "6ab7df7a",
   "metadata": {},
   "outputs": [
    {
     "data": {
      "text/html": [
       "<html>\\[\\newcommand{\\Bold}[1]{\\mathbf{#1}}96 + 10672 q + 337520 q^{2} + 5991072 q^{3} + 74576768 q^{4} + O(q^{5})\\]</html>"
      ],
      "text/latex": [
       "$$\\newcommand{\\Bold}[1]{\\mathbf{#1}}96 + 10672 q + 337520 q^{2} + 5991072 q^{3} + 74576768 q^{4} + O(q^{5})$$"
      ],
      "text/plain": [
       "96 + 10672*q + 337520*q^2 + 5991072*q^3 + 74576768*q^4 + O(q^5)"
      ]
     },
     "execution_count": 40,
     "metadata": {},
     "output_type": "execute_result"
    }
   ],
   "source": [
    "# Final version\n",
    "\n",
    "simplified_terms = 16*a^10 + 4*a^8*b^2 -17*a^6*b^4 -3*a^4*b^6 +16*a^9*c -14*a^5*b^4*c - 2*a^3*b^6*c + 3*a*b^6*c^3 + 3*a^2*b^8 - q*b^8*psi.V(4)^2\n",
    "\n",
    "simplified_result = 16*common*simplified_terms\n",
    "simplified_result.add_bigoh(5)"
   ]
  },
  {
   "cell_type": "code",
   "execution_count": 41,
   "id": "e4d7615a",
   "metadata": {},
   "outputs": [
    {
     "data": {
      "text/html": [
       "<html>\\[\\newcommand{\\Bold}[1]{\\mathbf{#1}}\\mathrm{True}\\]</html>"
      ],
      "text/latex": [
       "$$\\newcommand{\\Bold}[1]{\\mathbf{#1}}\\mathrm{True}$$"
      ],
      "text/plain": [
       "True"
      ]
     },
     "execution_count": 41,
     "metadata": {},
     "output_type": "execute_result"
    }
   ],
   "source": [
    "op147_32n_plus_18.truncate(test_precision) == simplified_result.truncate(test_precision)"
   ]
  },
  {
   "cell_type": "code",
   "execution_count": 404,
   "id": "b993d5e2",
   "metadata": {},
   "outputs": [
    {
     "data": {
      "text/html": [
       "<html>\\[\\newcommand{\\Bold}[1]{\\mathbf{#1}}1 + 2 q + 2 q^{2} + 2 q^{3} + 4 q^{4} + 6 q^{5} + 6 q^{6} + 8 q^{7} + 12 q^{8} + 16 q^{9} + 18 q^{10} + 22 q^{11} + 30 q^{12} + 38 q^{13} + 44 q^{14} + 52 q^{15} + 68 q^{16} + 84 q^{17} + 96 q^{18} + 114 q^{19} + 142 q^{20} + 172 q^{21} + 198 q^{22} + 232 q^{23} + 282 q^{24} + 336 q^{25} + 386 q^{26} + 448 q^{27} + 536 q^{28} + 630 q^{29} + 720 q^{30} + 832 q^{31} + 980 q^{32} + 1140 q^{33} + 1300 q^{34} + 1492 q^{35} + 1738 q^{36} + 2006 q^{37} + 2278 q^{38} + 2600 q^{39} + 3002 q^{40} + 3440 q^{41} + 3892 q^{42} + 4422 q^{43} + 5066 q^{44} + 5770 q^{45} + 6508 q^{46} + 7360 q^{47} + 8378 q^{48} + 9494 q^{49} + 10672 q^{50} + 12020 q^{51} + 13610 q^{52} + 15350 q^{53} + 17200 q^{54} + 19304 q^{55} + 21752 q^{56} + 24432 q^{57} + 27298 q^{58} + 30534 q^{59} + 34260 q^{60} + 38342 q^{61} + 42720 q^{62} + 47636 q^{63} + 53252 q^{64} + 59396 q^{65} + 66004 q^{66} + 73394 q^{67} + 81768 q^{68} + 90924 q^{69} + 100796 q^{70} + 111784 q^{71} + 124158 q^{72} + 137680 q^{73} + 152274 q^{74} + 168458 q^{75} + 186590 q^{76} + 206380 q^{77} + 227756 q^{78} + 251392 q^{79} + 277738 q^{80} + 306466 q^{81} + 337520 q^{82} + 371746 q^{83} + 409740 q^{84} + 451132 q^{85} + 495878 q^{86} + 545064 q^{87} + 599470 q^{88} + 658672 q^{89} + 722670 q^{90} + 792860 q^{91} + 870232 q^{92} + 954336 q^{93} + 1045248 q^{94} + 1144724 q^{95} + 1254058 q^{96} + 1372788 q^{97} + 1501078 q^{98} + 1641170 q^{99} + 1794746 q^{100} + 1961334 q^{101} + 2141260 q^{102} + 2337384 q^{103} + 2551854 q^{104} + 2784256 q^{105} + 3035154 q^{106} + 3308150 q^{107} + 3606032 q^{108} + 3928502 q^{109} + 4276428 q^{110} + 4654388 q^{111} + 5065992 q^{112} + 5511108 q^{113} + 5991072 q^{114} + 6511700 q^{115} + 7077610 q^{116} + 7688998 q^{117} + 8347846 q^{118} + 9061488 q^{119} + 9835884 q^{120} + 10671728 q^{121} + 11571842 q^{122} + 12545520 q^{123} + 13600448 q^{124} + 14738000 q^{125} + 15962192 q^{126} + 17284800 q^{127} + 18715652 q^{128} + 20257172 q^{129} + 21914980 q^{130} + 23703922 q^{131} + 25636632 q^{132} + 27717004 q^{133} + 29952742 q^{134} + 32362624 q^{135} + 34962872 q^{136} + 37759344 q^{137} + 40762580 q^{138} + 43996326 q^{139} + 47481292 q^{140} + 51226112 q^{141} + 55245068 q^{142} + 59568076 q^{143} + 64221654 q^{144} + 69218180 q^{145} + 74576768 q^{146} + 80335190 q^{147} + 86527342 q^{148} + 93170534 q^{149} + 100290282 q^{150} + 107934248 q^{151} + 116145594 q^{152} + 124948288 q^{153} + 134376180 q^{154} + 144489248 q^{155} + 155342520 q^{156} + 166968742 q^{157} + 179412448 q^{158} + 192749204 q^{159} + 207049050 q^{160} + 222356136 q^{161} + 238728898 q^{162} + 256262466 q^{163} + 275045728 q^{164} + 295137836 q^{165} + 316615110 q^{166} + 339597064 q^{167} + 364196516 q^{168} + 390492080 q^{169} + 418582852 q^{170} + 448619034 q^{171} + 480743594 q^{172} + 515060134 q^{173} + 551697004 q^{174} + 590842804 q^{175} + 632678270 q^{176} + 677339316 q^{177} + 724991552 q^{178} + 775871394 q^{179} + 830207206 q^{180} + 888176294 q^{181} + 949991420 q^{182} + 1015948872 q^{183} + 1086336760 q^{184} + 1161385040 q^{185} + 1241366400 q^{186} + 1326651804 q^{187} + 1417603968 q^{188} + 1514520064 q^{189} + 1617748496 q^{190} + 1727753024 q^{191} + 1844989898 q^{192} + 1969841524 q^{193} + 2102751540 q^{194} + 2244299380 q^{195} + 2395058092 q^{196} + 2555517638 q^{197} + 2726241654 q^{198} + 2907953352 q^{199} + O(q^{200})\\]</html>"
      ],
      "text/latex": [
       "$$\\newcommand{\\Bold}[1]{\\mathbf{#1}}1 + 2 q + 2 q^{2} + 2 q^{3} + 4 q^{4} + 6 q^{5} + 6 q^{6} + 8 q^{7} + 12 q^{8} + 16 q^{9} + 18 q^{10} + 22 q^{11} + 30 q^{12} + 38 q^{13} + 44 q^{14} + 52 q^{15} + 68 q^{16} + 84 q^{17} + 96 q^{18} + 114 q^{19} + 142 q^{20} + 172 q^{21} + 198 q^{22} + 232 q^{23} + 282 q^{24} + 336 q^{25} + 386 q^{26} + 448 q^{27} + 536 q^{28} + 630 q^{29} + 720 q^{30} + 832 q^{31} + 980 q^{32} + 1140 q^{33} + 1300 q^{34} + 1492 q^{35} + 1738 q^{36} + 2006 q^{37} + 2278 q^{38} + 2600 q^{39} + 3002 q^{40} + 3440 q^{41} + 3892 q^{42} + 4422 q^{43} + 5066 q^{44} + 5770 q^{45} + 6508 q^{46} + 7360 q^{47} + 8378 q^{48} + 9494 q^{49} + 10672 q^{50} + 12020 q^{51} + 13610 q^{52} + 15350 q^{53} + 17200 q^{54} + 19304 q^{55} + 21752 q^{56} + 24432 q^{57} + 27298 q^{58} + 30534 q^{59} + 34260 q^{60} + 38342 q^{61} + 42720 q^{62} + 47636 q^{63} + 53252 q^{64} + 59396 q^{65} + 66004 q^{66} + 73394 q^{67} + 81768 q^{68} + 90924 q^{69} + 100796 q^{70} + 111784 q^{71} + 124158 q^{72} + 137680 q^{73} + 152274 q^{74} + 168458 q^{75} + 186590 q^{76} + 206380 q^{77} + 227756 q^{78} + 251392 q^{79} + 277738 q^{80} + 306466 q^{81} + 337520 q^{82} + 371746 q^{83} + 409740 q^{84} + 451132 q^{85} + 495878 q^{86} + 545064 q^{87} + 599470 q^{88} + 658672 q^{89} + 722670 q^{90} + 792860 q^{91} + 870232 q^{92} + 954336 q^{93} + 1045248 q^{94} + 1144724 q^{95} + 1254058 q^{96} + 1372788 q^{97} + 1501078 q^{98} + 1641170 q^{99} + 1794746 q^{100} + 1961334 q^{101} + 2141260 q^{102} + 2337384 q^{103} + 2551854 q^{104} + 2784256 q^{105} + 3035154 q^{106} + 3308150 q^{107} + 3606032 q^{108} + 3928502 q^{109} + 4276428 q^{110} + 4654388 q^{111} + 5065992 q^{112} + 5511108 q^{113} + 5991072 q^{114} + 6511700 q^{115} + 7077610 q^{116} + 7688998 q^{117} + 8347846 q^{118} + 9061488 q^{119} + 9835884 q^{120} + 10671728 q^{121} + 11571842 q^{122} + 12545520 q^{123} + 13600448 q^{124} + 14738000 q^{125} + 15962192 q^{126} + 17284800 q^{127} + 18715652 q^{128} + 20257172 q^{129} + 21914980 q^{130} + 23703922 q^{131} + 25636632 q^{132} + 27717004 q^{133} + 29952742 q^{134} + 32362624 q^{135} + 34962872 q^{136} + 37759344 q^{137} + 40762580 q^{138} + 43996326 q^{139} + 47481292 q^{140} + 51226112 q^{141} + 55245068 q^{142} + 59568076 q^{143} + 64221654 q^{144} + 69218180 q^{145} + 74576768 q^{146} + 80335190 q^{147} + 86527342 q^{148} + 93170534 q^{149} + 100290282 q^{150} + 107934248 q^{151} + 116145594 q^{152} + 124948288 q^{153} + 134376180 q^{154} + 144489248 q^{155} + 155342520 q^{156} + 166968742 q^{157} + 179412448 q^{158} + 192749204 q^{159} + 207049050 q^{160} + 222356136 q^{161} + 238728898 q^{162} + 256262466 q^{163} + 275045728 q^{164} + 295137836 q^{165} + 316615110 q^{166} + 339597064 q^{167} + 364196516 q^{168} + 390492080 q^{169} + 418582852 q^{170} + 448619034 q^{171} + 480743594 q^{172} + 515060134 q^{173} + 551697004 q^{174} + 590842804 q^{175} + 632678270 q^{176} + 677339316 q^{177} + 724991552 q^{178} + 775871394 q^{179} + 830207206 q^{180} + 888176294 q^{181} + 949991420 q^{182} + 1015948872 q^{183} + 1086336760 q^{184} + 1161385040 q^{185} + 1241366400 q^{186} + 1326651804 q^{187} + 1417603968 q^{188} + 1514520064 q^{189} + 1617748496 q^{190} + 1727753024 q^{191} + 1844989898 q^{192} + 1969841524 q^{193} + 2102751540 q^{194} + 2244299380 q^{195} + 2395058092 q^{196} + 2555517638 q^{197} + 2726241654 q^{198} + 2907953352 q^{199} + O(q^{200})$$"
      ],
      "text/plain": [
       "1 + 2*q + 2*q^2 + 2*q^3 + 4*q^4 + 6*q^5 + 6*q^6 + 8*q^7 + 12*q^8 + 16*q^9 + 18*q^10 + 22*q^11 + 30*q^12 + 38*q^13 + 44*q^14 + 52*q^15 + 68*q^16 + 84*q^17 + 96*q^18 + 114*q^19 + 142*q^20 + 172*q^21 + 198*q^22 + 232*q^23 + 282*q^24 + 336*q^25 + 386*q^26 + 448*q^27 + 536*q^28 + 630*q^29 + 720*q^30 + 832*q^31 + 980*q^32 + 1140*q^33 + 1300*q^34 + 1492*q^35 + 1738*q^36 + 2006*q^37 + 2278*q^38 + 2600*q^39 + 3002*q^40 + 3440*q^41 + 3892*q^42 + 4422*q^43 + 5066*q^44 + 5770*q^45 + 6508*q^46 + 7360*q^47 + 8378*q^48 + 9494*q^49 + 10672*q^50 + 12020*q^51 + 13610*q^52 + 15350*q^53 + 17200*q^54 + 19304*q^55 + 21752*q^56 + 24432*q^57 + 27298*q^58 + 30534*q^59 + 34260*q^60 + 38342*q^61 + 42720*q^62 + 47636*q^63 + 53252*q^64 + 59396*q^65 + 66004*q^66 + 73394*q^67 + 81768*q^68 + 90924*q^69 + 100796*q^70 + 111784*q^71 + 124158*q^72 + 137680*q^73 + 152274*q^74 + 168458*q^75 + 186590*q^76 + 206380*q^77 + 227756*q^78 + 251392*q^79 + 277738*q^80 + 306466*q^81 + 337520*q^82 + 371746*q^83 + 409740*q^84 + 451132*q^85 + 495878*q^86 + 545064*q^87 + 599470*q^88 + 658672*q^89 + 722670*q^90 + 792860*q^91 + 870232*q^92 + 954336*q^93 + 1045248*q^94 + 1144724*q^95 + 1254058*q^96 + 1372788*q^97 + 1501078*q^98 + 1641170*q^99 + 1794746*q^100 + 1961334*q^101 + 2141260*q^102 + 2337384*q^103 + 2551854*q^104 + 2784256*q^105 + 3035154*q^106 + 3308150*q^107 + 3606032*q^108 + 3928502*q^109 + 4276428*q^110 + 4654388*q^111 + 5065992*q^112 + 5511108*q^113 + 5991072*q^114 + 6511700*q^115 + 7077610*q^116 + 7688998*q^117 + 8347846*q^118 + 9061488*q^119 + 9835884*q^120 + 10671728*q^121 + 11571842*q^122 + 12545520*q^123 + 13600448*q^124 + 14738000*q^125 + 15962192*q^126 + 17284800*q^127 + 18715652*q^128 + 20257172*q^129 + 21914980*q^130 + 23703922*q^131 + 25636632*q^132 + 27717004*q^133 + 29952742*q^134 + 32362624*q^135 + 34962872*q^136 + 37759344*q^137 + 40762580*q^138 + 43996326*q^139 + 47481292*q^140 + 51226112*q^141 + 55245068*q^142 + 59568076*q^143 + 64221654*q^144 + 69218180*q^145 + 74576768*q^146 + 80335190*q^147 + 86527342*q^148 + 93170534*q^149 + 100290282*q^150 + 107934248*q^151 + 116145594*q^152 + 124948288*q^153 + 134376180*q^154 + 144489248*q^155 + 155342520*q^156 + 166968742*q^157 + 179412448*q^158 + 192749204*q^159 + 207049050*q^160 + 222356136*q^161 + 238728898*q^162 + 256262466*q^163 + 275045728*q^164 + 295137836*q^165 + 316615110*q^166 + 339597064*q^167 + 364196516*q^168 + 390492080*q^169 + 418582852*q^170 + 448619034*q^171 + 480743594*q^172 + 515060134*q^173 + 551697004*q^174 + 590842804*q^175 + 632678270*q^176 + 677339316*q^177 + 724991552*q^178 + 775871394*q^179 + 830207206*q^180 + 888176294*q^181 + 949991420*q^182 + 1015948872*q^183 + 1086336760*q^184 + 1161385040*q^185 + 1241366400*q^186 + 1326651804*q^187 + 1417603968*q^188 + 1514520064*q^189 + 1617748496*q^190 + 1727753024*q^191 + 1844989898*q^192 + 1969841524*q^193 + 2102751540*q^194 + 2244299380*q^195 + 2395058092*q^196 + 2555517638*q^197 + 2726241654*q^198 + 2907953352*q^199 + O(q^200)"
      ]
     },
     "execution_count": 404,
     "metadata": {},
     "output_type": "execute_result"
    }
   ],
   "source": [
    "op147 = (f_q_q7/f_nq_nq7) * (phi_n.V(8)/phi_n.V(4))\n",
    "\n",
    "op147.add_bigoh(200)"
   ]
  },
  {
   "cell_type": "code",
   "execution_count": 405,
   "id": "d122e570",
   "metadata": {},
   "outputs": [
    {
     "data": {
      "text/html": [
       "<html>\\[\\newcommand{\\Bold}[1]{\\mathbf{#1}}528 q + 27264 q^{2} + 621344 q^{3} + 9075664 q^{4} + 98878048 q^{5} + 870965840 q^{6} + 6514791264 q^{7} + 42751196000 q^{8} + 251835150160 q^{9} + 1354409294176 q^{10} + O(q^{11})\\]</html>"
      ],
      "text/latex": [
       "$$\\newcommand{\\Bold}[1]{\\mathbf{#1}}528 q + 27264 q^{2} + 621344 q^{3} + 9075664 q^{4} + 98878048 q^{5} + 870965840 q^{6} + 6514791264 q^{7} + 42751196000 q^{8} + 251835150160 q^{9} + 1354409294176 q^{10} + O(q^{11})$$"
      ],
      "text/plain": [
       "528*q + 27264*q^2 + 621344*q^3 + 9075664*q^4 + 98878048*q^5 + 870965840*q^6 + 6514791264*q^7 + 42751196000*q^8 + 251835150160*q^9 + 1354409294176*q^10 + O(q^11)"
      ]
     },
     "execution_count": 405,
     "metadata": {},
     "output_type": "execute_result"
    }
   ],
   "source": [
    "common = (phi_n.V(2)*phi_n.V(4)*(f_nq_nq7)) / phi_n\n",
    "\n",
    "term01 = (3*phi^4*psi.V(2)^2 + 16*q*psi.V(2)^6) / phi_n^8\n",
    "term02 = phi^3*psi.V(4) / phi_n^6\n",
    "term03 = (psi.V(4)^2*f_nq3_nq5) / (phi_n^4*f_nq_nq7)\n",
    "term04 = 8 * (phi^2*psi.V(2)^2/phi_n^10) * (phi^4 + 16*q*psi.V(2)^4)\n",
    "term05 = 2 * (phi^2*psi.V(2)^2/phi_n^6) \n",
    "\n",
    "common_next = 2*phi/phi_n^12\n",
    "\n",
    "term06 = 3*phi^6*phi.V(2)^2*psi.V(4)\n",
    "term07 = 4*q*phi^6*psi.V(4)^3\n",
    "term08 = 3*48*q*phi^2*psi.V(2)^4*phi.V(2)^2*psi.V(4)\n",
    "term09 = 4*48*q^2*phi^2*psi.V(2)^4*psi.V(4)^3\n",
    "term10 = 6*phi^4*psi.V(2)^2*phi.V(2)^3\n",
    "term11 = 72*q*phi^4*psi.V(2)^2*phi.V(2)*psi.V(4)^2\n",
    "term12 = 32*q*psi.V(2)^6*phi.V(2)^3\n",
    "term13 = 6*64*q^2*psi.V(2)^6*phi.V(2)*psi.V(4)^2 \n",
    "\n",
    "terms_06_to_13_with_common_next = common_next * (term06+term07+term08+term09+term10+term11+term12+term13)\n",
    "\n",
    "op345_32n_plus_2 = 16*q*common*(term01+term02+term03+term04+term05 + terms_06_to_13_with_common_next)\n",
    "op345_32n_plus_2.add_bigoh(11)"
   ]
  },
  {
   "cell_type": "code",
   "execution_count": 456,
   "id": "aa6652fd",
   "metadata": {},
   "outputs": [
    {
     "data": {
      "text/html": [
       "<html>\\[\\newcommand{\\Bold}[1]{\\mathbf{#1}}528 q + 27264 q^{2} + 621344 q^{3} + 9075664 q^{4} + 98878048 q^{5} + 870965840 q^{6} + 6514791264 q^{7} + 42751196000 q^{8} + 251835150160 q^{9} + 1354409294176 q^{10} + O(q^{11})\\]</html>"
      ],
      "text/latex": [
       "$$\\newcommand{\\Bold}[1]{\\mathbf{#1}}528 q + 27264 q^{2} + 621344 q^{3} + 9075664 q^{4} + 98878048 q^{5} + 870965840 q^{6} + 6514791264 q^{7} + 42751196000 q^{8} + 251835150160 q^{9} + 1354409294176 q^{10} + O(q^{11})$$"
      ],
      "text/plain": [
       "528*q + 27264*q^2 + 621344*q^3 + 9075664*q^4 + 98878048*q^5 + 870965840*q^6 + 6514791264*q^7 + 42751196000*q^8 + 251835150160*q^9 + 1354409294176*q^10 + O(q^11)"
      ]
     },
     "execution_count": 456,
     "metadata": {},
     "output_type": "execute_result"
    }
   ],
   "source": [
    "common_next = q*phi_n.V(2)*phi_n.V(4)*psi.V(4) /b^13\n",
    "first_next = psi.V(4)*(32*a^6*b^2 + b^8)\n",
    "second_next = 32*a^9 -24*a^5*b^4 -7*a^3*b^6 +2*a*b^8 + c*(4*a^4*b^4 -6*a^2*b^6 -b^8)\n",
    "\n",
    "op345_32n_plus_2_next = 16*common_next*(first_next*f_nq3_nq5 + second_next*f_nq_nq7)\n",
    "op345_32n_plus_2_next.add_bigoh(11)"
   ]
  },
  {
   "cell_type": "code",
   "execution_count": 406,
   "id": "505003b3",
   "metadata": {},
   "outputs": [
    {
     "data": {
      "text/html": [
       "<html>\\[\\newcommand{\\Bold}[1]{\\mathbf{#1}}592 q + 25184 q^{2} + 527648 q^{3} + 7399088 q^{4} + 78822144 q^{5} + 684772368 q^{6} + 5074730592 q^{7} + 33080297664 q^{8} + 193893272304 q^{9} + 1038728534112 q^{10} + O(q^{11})\\]</html>"
      ],
      "text/latex": [
       "$$\\newcommand{\\Bold}[1]{\\mathbf{#1}}592 q + 25184 q^{2} + 527648 q^{3} + 7399088 q^{4} + 78822144 q^{5} + 684772368 q^{6} + 5074730592 q^{7} + 33080297664 q^{8} + 193893272304 q^{9} + 1038728534112 q^{10} + O(q^{11})$$"
      ],
      "text/plain": [
       "592*q + 25184*q^2 + 527648*q^3 + 7399088*q^4 + 78822144*q^5 + 684772368*q^6 + 5074730592*q^7 + 33080297664*q^8 + 193893272304*q^9 + 1038728534112*q^10 + O(q^11)"
      ]
     },
     "execution_count": 406,
     "metadata": {},
     "output_type": "execute_result"
    }
   ],
   "source": [
    "common_next_next = q*phi_n.V(4)^3*psi.V(4) /(b^13*c)\n",
    "first_next_next = b^8*psi.V(4)\n",
    "second_next_next = 2*(12*a^9 + 6*a^7*b^2 -9*a^5*b^4 -a^3*b^6 + 2*a*b^8 + 8*a^6*b^2*c + 32*q*c*psi_n^8)\n",
    "\n",
    "op345_32n_plus_2_next_next = 16*common_next_next*(first_next_next*f_nq3_nq5 + second_next_next*f_nq_nq7)\n",
    "op345_32n_plus_2_next_next.add_bigoh(11)"
   ]
  },
  {
   "cell_type": "code",
   "execution_count": null,
   "id": "011052a1",
   "metadata": {},
   "outputs": [],
   "source": []
  },
  {
   "cell_type": "code",
   "execution_count": 407,
   "id": "9740b34f",
   "metadata": {},
   "outputs": [
    {
     "data": {
      "text/html": [
       "<html>\\[\\newcommand{\\Bold}[1]{\\mathbf{#1}}33 + 846 q + 4892 q^{2} + 15381 q^{3} + 37608 q^{4} + 72647 q^{5} + 122332 q^{6} + 213364 q^{7} + 274067 q^{8} + 447330 q^{9} + 529522 q^{10} + O(q^{11})\\]</html>"
      ],
      "text/latex": [
       "$$\\newcommand{\\Bold}[1]{\\mathbf{#1}}33 + 846 q + 4892 q^{2} + 15381 q^{3} + 37608 q^{4} + 72647 q^{5} + 122332 q^{6} + 213364 q^{7} + 274067 q^{8} + 447330 q^{9} + 529522 q^{10} + O(q^{11})$$"
      ],
      "text/plain": [
       "33 + 846*q + 4892*q^2 + 15381*q^3 + 37608*q^4 + 72647*q^5 + 122332*q^6 + 213364*q^7 + 274067*q^8 + 447330*q^9 + 529522*q^10 + O(q^11)"
      ]
     },
     "execution_count": 407,
     "metadata": {},
     "output_type": "execute_result"
    }
   ],
   "source": [
    "((term01+term02+term03+term04+term05 + terms_06_to_13_with_common_next)*f_nq_nq7*b^12).add_bigoh(11)"
   ]
  },
  {
   "cell_type": "code",
   "execution_count": 408,
   "id": "1d240812",
   "metadata": {},
   "outputs": [
    {
     "data": {
      "text/html": [
       "<html>\\[\\newcommand{\\Bold}[1]{\\mathbf{#1}}33 + 846 q + 4892 q^{2} + 15381 q^{3} + 37608 q^{4} + 72647 q^{5} + 122332 q^{6} + 213364 q^{7} + 274067 q^{8} + 447330 q^{9} + 529522 q^{10} + O(q^{11})\\]</html>"
      ],
      "text/latex": [
       "$$\\newcommand{\\Bold}[1]{\\mathbf{#1}}33 + 846 q + 4892 q^{2} + 15381 q^{3} + 37608 q^{4} + 72647 q^{5} + 122332 q^{6} + 213364 q^{7} + 274067 q^{8} + 447330 q^{9} + 529522 q^{10} + O(q^{11})$$"
      ],
      "text/plain": [
       "33 + 846*q + 4892*q^2 + 15381*q^3 + 37608*q^4 + 72647*q^5 + 122332*q^6 + 213364*q^7 + 274067*q^8 + 447330*q^9 + 529522*q^10 + O(q^11)"
      ]
     },
     "execution_count": 408,
     "metadata": {},
     "output_type": "execute_result"
    }
   ],
   "source": [
    "collected_1 = 32*a^9 -24*a^5*b^4 -7*a^3*b^6 +2*a*b^8 + c*(4*a^4*b^4 -6*a^2*b^6 -b^8)\n",
    "collected_2 = 32*a^6*b^2 + b^8\n",
    "(psi.V(4)*f_nq_nq7*collected_1 + psi.V(4)^2*f_nq3_nq5*collected_2).add_bigoh(11)"
   ]
  },
  {
   "cell_type": "code",
   "execution_count": 409,
   "id": "13d4cf2d",
   "metadata": {},
   "outputs": [
    {
     "data": {
      "text/html": [
       "<html>\\[\\newcommand{\\Bold}[1]{\\mathbf{#1}}15 + 156 q - 64 q^{2} - 267 q^{3} - 1262 q^{4} + 1113 q^{5} - 1408 q^{6} + 10534 q^{7} - 18701 q^{8} + 27106 q^{9} - 31388 q^{10} + O(q^{11})\\]</html>"
      ],
      "text/latex": [
       "$$\\newcommand{\\Bold}[1]{\\mathbf{#1}}15 + 156 q - 64 q^{2} - 267 q^{3} - 1262 q^{4} + 1113 q^{5} - 1408 q^{6} + 10534 q^{7} - 18701 q^{8} + 27106 q^{9} - 31388 q^{10} + O(q^{11})$$"
      ],
      "text/plain": [
       "15 + 156*q - 64*q^2 - 267*q^3 - 1262*q^4 + 1113*q^5 - 1408*q^6 + 10534*q^7 - 18701*q^8 + 27106*q^9 - 31388*q^10 + O(q^11)"
      ]
     },
     "execution_count": 409,
     "metadata": {},
     "output_type": "execute_result"
    }
   ],
   "source": [
    "((term01+term02+term03+term04+term05)*f_nq_nq7*b^12).add_bigoh(11)"
   ]
  },
  {
   "cell_type": "code",
   "execution_count": 410,
   "id": "6cb3f5fb",
   "metadata": {},
   "outputs": [
    {
     "data": {
      "text/html": [
       "<html>\\[\\newcommand{\\Bold}[1]{\\mathbf{#1}}15 + 156 q - 64 q^{2} - 267 q^{3} - 1262 q^{4} + 1113 q^{5} - 1408 q^{6} + 10534 q^{7} - 18701 q^{8} + 27106 q^{9} - 31388 q^{10} + O(q^{11})\\]</html>"
      ],
      "text/latex": [
       "$$\\newcommand{\\Bold}[1]{\\mathbf{#1}}15 + 156 q - 64 q^{2} - 267 q^{3} - 1262 q^{4} + 1113 q^{5} - 1408 q^{6} + 10534 q^{7} - 18701 q^{8} + 27106 q^{9} - 31388 q^{10} + O(q^{11})$$"
      ],
      "text/plain": [
       "15 + 156*q - 64*q^2 - 267*q^3 - 1262*q^4 + 1113*q^5 - 1408*q^6 + 10534*q^7 - 18701*q^8 + 27106*q^9 - 31388*q^10 + O(q^11)"
      ]
     },
     "execution_count": 410,
     "metadata": {},
     "output_type": "execute_result"
    }
   ],
   "source": [
    "(psi.V(4)*f_nq_nq7*(c*(4*a^4*b^4 + 16*a^6*b^2 - 6*a^2*b^6 -b^8) + a^3*b^6) + b^8*psi.V(4)^2*f_nq3_nq5).add_bigoh(11)"
   ]
  },
  {
   "cell_type": "code",
   "execution_count": 411,
   "id": "0de5a012",
   "metadata": {},
   "outputs": [
    {
     "data": {
      "text/html": [
       "<html>\\[\\newcommand{\\Bold}[1]{\\mathbf{#1}}15 + 156 q - 64 q^{2} - 267 q^{3} - 1262 q^{4} + 1113 q^{5} - 1408 q^{6} + 10534 q^{7} - 18701 q^{8} + 27106 q^{9} - 31388 q^{10} + O(q^{11})\\]</html>"
      ],
      "text/latex": [
       "$$\\newcommand{\\Bold}[1]{\\mathbf{#1}}15 + 156 q - 64 q^{2} - 267 q^{3} - 1262 q^{4} + 1113 q^{5} - 1408 q^{6} + 10534 q^{7} - 18701 q^{8} + 27106 q^{9} - 31388 q^{10} + O(q^{11})$$"
      ],
      "text/plain": [
       "15 + 156*q - 64*q^2 - 267*q^3 - 1262*q^4 + 1113*q^5 - 1408*q^6 + 10534*q^7 - 18701*q^8 + 27106*q^9 - 31388*q^10 + O(q^11)"
      ]
     },
     "execution_count": 411,
     "metadata": {},
     "output_type": "execute_result"
    }
   ],
   "source": [
    "(psi.V(4)*f_nq_nq7*(c*(4*a^4*b^4 + 16*a^6*b^2 - 6*a^2*b^6) + a^3*b^6 + b^8*(a-c)/2)).add_bigoh(11)"
   ]
  },
  {
   "cell_type": "code",
   "execution_count": 412,
   "id": "3f9905a1",
   "metadata": {},
   "outputs": [
    {
     "data": {
      "text/html": [
       "<html>\\[\\newcommand{\\Bold}[1]{\\mathbf{#1}}14 + 172 q - 176 q^{2} + 182 q^{3} - 2416 q^{4} + 3274 q^{5} - 5232 q^{6} + 18184 q^{7} - 32798 q^{8} + 47764 q^{9} - 60332 q^{10} + O(q^{11})\\]</html>"
      ],
      "text/latex": [
       "$$\\newcommand{\\Bold}[1]{\\mathbf{#1}}14 + 172 q - 176 q^{2} + 182 q^{3} - 2416 q^{4} + 3274 q^{5} - 5232 q^{6} + 18184 q^{7} - 32798 q^{8} + 47764 q^{9} - 60332 q^{10} + O(q^{11})$$"
      ],
      "text/plain": [
       "14 + 172*q - 176*q^2 + 182*q^3 - 2416*q^4 + 3274*q^5 - 5232*q^6 + 18184*q^7 - 32798*q^8 + 47764*q^9 - 60332*q^10 + O(q^11)"
      ]
     },
     "execution_count": 412,
     "metadata": {},
     "output_type": "execute_result"
    }
   ],
   "source": [
    "(psi.V(4)*f_nq_nq7*(c*(4*a^4*b^4 + 16*a^6*b^2 - 6*a^2*b^6 -b^8) + a^3*b^6)).add_bigoh(11)"
   ]
  },
  {
   "cell_type": "code",
   "execution_count": 413,
   "id": "14248fda",
   "metadata": {},
   "outputs": [
    {
     "data": {
      "text/html": [
       "<html>\\[\\newcommand{\\Bold}[1]{\\mathbf{#1}}18 + 708 q + 5664 q^{2} + 21312 q^{3} + 60182 q^{4} + 131716 q^{5} + 255456 q^{6} + 458304 q^{7} + 751780 q^{8} + 1177668 q^{9} + 1759872 q^{10} + O(q^{11})\\]</html>"
      ],
      "text/latex": [
       "$$\\newcommand{\\Bold}[1]{\\mathbf{#1}}18 + 708 q + 5664 q^{2} + 21312 q^{3} + 60182 q^{4} + 131716 q^{5} + 255456 q^{6} + 458304 q^{7} + 751780 q^{8} + 1177668 q^{9} + 1759872 q^{10} + O(q^{11})$$"
      ],
      "text/plain": [
       "18 + 708*q + 5664*q^2 + 21312*q^3 + 60182*q^4 + 131716*q^5 + 255456*q^6 + 458304*q^7 + 751780*q^8 + 1177668*q^9 + 1759872*q^10 + O(q^11)"
      ]
     },
     "execution_count": 413,
     "metadata": {},
     "output_type": "execute_result"
    }
   ],
   "source": [
    "(terms_06_to_13_with_common_next*b^12).add_bigoh(11)"
   ]
  },
  {
   "cell_type": "code",
   "execution_count": 414,
   "id": "e12af790",
   "metadata": {},
   "outputs": [
    {
     "data": {
      "text/html": [
       "<html>\\[\\newcommand{\\Bold}[1]{\\mathbf{#1}}18 + 708 q + 5664 q^{2} + 21312 q^{3} + 60182 q^{4} + 131716 q^{5} + 255456 q^{6} + 458304 q^{7} + 751780 q^{8} + 1177668 q^{9} + 1759872 q^{10} + O(q^{11})\\]</html>"
      ],
      "text/latex": [
       "$$\\newcommand{\\Bold}[1]{\\mathbf{#1}}18 + 708 q + 5664 q^{2} + 21312 q^{3} + 60182 q^{4} + 131716 q^{5} + 255456 q^{6} + 458304 q^{7} + 751780 q^{8} + 1177668 q^{9} + 1759872 q^{10} + O(q^{11})$$"
      ],
      "text/plain": [
       "18 + 708*q + 5664*q^2 + 21312*q^3 + 60182*q^4 + 131716*q^5 + 255456*q^6 + 458304*q^7 + 751780*q^8 + 1177668*q^9 + 1759872*q^10 + O(q^11)"
      ]
     },
     "execution_count": 414,
     "metadata": {},
     "output_type": "execute_result"
    }
   ],
   "source": [
    "(psi.V(4)*(32*a^9 + 16*a^7*b^2 -24*a^5*b^4 -8*a^3*b^6 +2*a*b^8)).add_bigoh(11)"
   ]
  },
  {
   "cell_type": "code",
   "execution_count": null,
   "id": "1de782be",
   "metadata": {},
   "outputs": [],
   "source": []
  },
  {
   "cell_type": "code",
   "execution_count": 415,
   "id": "00a13c3b",
   "metadata": {},
   "outputs": [
    {
     "data": {
      "text/html": [
       "<html>\\[\\newcommand{\\Bold}[1]{\\mathbf{#1}}1 + 2 q^{3} + 2 q^{4} + 2 q^{5} + 2 q^{6} + 4 q^{7} + 6 q^{8} + 6 q^{9} + 6 q^{10} + 10 q^{11} + 14 q^{12} + 14 q^{13} + 16 q^{14} + 24 q^{15} + 30 q^{16} + 32 q^{17} + 38 q^{18} + 50 q^{19} + 62 q^{20} + 68 q^{21} + 78 q^{22} + 100 q^{23} + 122 q^{24} + 134 q^{25} + 154 q^{26} + 192 q^{27} + 228 q^{28} + 254 q^{29} + 292 q^{30} + 352 q^{31} + 414 q^{32} + 464 q^{33} + 528 q^{34} + 628 q^{35} + 732 q^{36} + 818 q^{37} + 930 q^{38} + 1092 q^{39} + 1258 q^{40} + 1408 q^{41} + 1596 q^{42} + 1850 q^{43} + 2118 q^{44} + 2370 q^{45} + 2672 q^{46} + 3072 q^{47} + 3498 q^{48} + 3904 q^{49} + 4390 q^{50} + 5012 q^{51} + 5670 q^{52} + 6322 q^{53} + 7088 q^{54} + 8036 q^{55} + 9052 q^{56} + 10076 q^{57} + 11258 q^{58} + 12698 q^{59} + 14248 q^{60} + 15822 q^{61} + 17632 q^{62} + 19800 q^{63} + 22126 q^{64} + 24528 q^{65} + 27264 q^{66} + 30482 q^{67} + 33956 q^{68} + 37572 q^{69} + 41652 q^{70} + 46404 q^{71} + 51540 q^{72} + 56912 q^{73} + 62950 q^{74} + 69910 q^{75} + 77422 q^{76} + 85340 q^{77} + 94192 q^{78} + 104288 q^{79} + 115210 q^{80} + 126768 q^{81} + 139616 q^{82} + 154178 q^{83} + 169932 q^{84} + 186644 q^{85} + 205166 q^{86} + 226020 q^{87} + 248562 q^{88} + 272560 q^{89} + 299062 q^{90} + 328708 q^{91} + 360772 q^{92} + 394976 q^{93} + 432608 q^{94} + 474520 q^{95} + 519834 q^{96} + 568224 q^{97} + 621344 q^{98} + 680242 q^{99} + 743868 q^{100} + 811922 q^{101} + 886436 q^{102} + 968708 q^{103} + 1057570 q^{104} + 1152696 q^{105} + 1256582 q^{106} + 1370922 q^{107} + 1494352 q^{108} + 1626526 q^{109} + 1770608 q^{110} + 1928696 q^{111} + 2099212 q^{112} + 2281920 q^{113} + 2480700 q^{114} + 2698164 q^{115} + 2932614 q^{116} + 3183874 q^{117} + 3456718 q^{118} + 3754504 q^{119} + 4075336 q^{120} + 4419146 q^{121} + 4791930 q^{122} + 5197872 q^{123} + 5634880 q^{124} + 6103216 q^{125} + 6610244 q^{126} + 7161184 q^{127} + 7753934 q^{128} + 8389072 q^{129} + 9075664 q^{130} + 9820370 q^{131} + 10621028 q^{132} + 11478692 q^{133} + 12404674 q^{134} + 13407296 q^{135} + 14484428 q^{136} + 15637984 q^{137} + 16881884 q^{138} + 18226522 q^{139} + 19670156 q^{140} + 21215680 q^{141} + 22880240 q^{142} + 24677032 q^{143} + 26604764 q^{144} + 28667696 q^{145} + 30887152 q^{146} + 33279638 q^{147} + 35844638 q^{148} + 38588482 q^{149} + 41537442 q^{150} + 44712164 q^{151} + 48113594 q^{152} + 51750588 q^{153} + 55655524 q^{154} + 59854496 q^{155} + 64350308 q^{156} + 69155182 q^{157} + 74309312 q^{158} + 79845336 q^{159} + 85768730 q^{160} + 92096448 q^{161} + 98878048 q^{162} + 106154370 q^{163} + 113934928 q^{164} + 122242564 q^{165} + 131138402 q^{166} + 140673860 q^{167} + 150863652 q^{168} + 161738282 q^{169} + 173373516 q^{170} + 185833638 q^{171} + 199140390 q^{172} + 213334606 q^{173} + 228509744 q^{174} + 244746168 q^{175} + 262075410 q^{176} + 280551216 q^{177} + 300288912 q^{178} + 321389314 q^{179} + 343896490 q^{180} + 367880770 q^{181} + 393484908 q^{182} + 420834788 q^{183} + 449990908 q^{184} + 481045324 q^{185} + 514174144 q^{186} + 549534468 q^{187} + 587208736 q^{188} + 627316160 q^{189} + 670074020 q^{190} + 715678752 q^{191} + 764240666 q^{192} + 815913504 q^{193} + 870965840 q^{194} + 929642452 q^{195} + 992089526 q^{196} + 1058505154 q^{197} + 1129220530 q^{198} + 1204540420 q^{199} + O(q^{200})\\]</html>"
      ],
      "text/latex": [
       "$$\\newcommand{\\Bold}[1]{\\mathbf{#1}}1 + 2 q^{3} + 2 q^{4} + 2 q^{5} + 2 q^{6} + 4 q^{7} + 6 q^{8} + 6 q^{9} + 6 q^{10} + 10 q^{11} + 14 q^{12} + 14 q^{13} + 16 q^{14} + 24 q^{15} + 30 q^{16} + 32 q^{17} + 38 q^{18} + 50 q^{19} + 62 q^{20} + 68 q^{21} + 78 q^{22} + 100 q^{23} + 122 q^{24} + 134 q^{25} + 154 q^{26} + 192 q^{27} + 228 q^{28} + 254 q^{29} + 292 q^{30} + 352 q^{31} + 414 q^{32} + 464 q^{33} + 528 q^{34} + 628 q^{35} + 732 q^{36} + 818 q^{37} + 930 q^{38} + 1092 q^{39} + 1258 q^{40} + 1408 q^{41} + 1596 q^{42} + 1850 q^{43} + 2118 q^{44} + 2370 q^{45} + 2672 q^{46} + 3072 q^{47} + 3498 q^{48} + 3904 q^{49} + 4390 q^{50} + 5012 q^{51} + 5670 q^{52} + 6322 q^{53} + 7088 q^{54} + 8036 q^{55} + 9052 q^{56} + 10076 q^{57} + 11258 q^{58} + 12698 q^{59} + 14248 q^{60} + 15822 q^{61} + 17632 q^{62} + 19800 q^{63} + 22126 q^{64} + 24528 q^{65} + 27264 q^{66} + 30482 q^{67} + 33956 q^{68} + 37572 q^{69} + 41652 q^{70} + 46404 q^{71} + 51540 q^{72} + 56912 q^{73} + 62950 q^{74} + 69910 q^{75} + 77422 q^{76} + 85340 q^{77} + 94192 q^{78} + 104288 q^{79} + 115210 q^{80} + 126768 q^{81} + 139616 q^{82} + 154178 q^{83} + 169932 q^{84} + 186644 q^{85} + 205166 q^{86} + 226020 q^{87} + 248562 q^{88} + 272560 q^{89} + 299062 q^{90} + 328708 q^{91} + 360772 q^{92} + 394976 q^{93} + 432608 q^{94} + 474520 q^{95} + 519834 q^{96} + 568224 q^{97} + 621344 q^{98} + 680242 q^{99} + 743868 q^{100} + 811922 q^{101} + 886436 q^{102} + 968708 q^{103} + 1057570 q^{104} + 1152696 q^{105} + 1256582 q^{106} + 1370922 q^{107} + 1494352 q^{108} + 1626526 q^{109} + 1770608 q^{110} + 1928696 q^{111} + 2099212 q^{112} + 2281920 q^{113} + 2480700 q^{114} + 2698164 q^{115} + 2932614 q^{116} + 3183874 q^{117} + 3456718 q^{118} + 3754504 q^{119} + 4075336 q^{120} + 4419146 q^{121} + 4791930 q^{122} + 5197872 q^{123} + 5634880 q^{124} + 6103216 q^{125} + 6610244 q^{126} + 7161184 q^{127} + 7753934 q^{128} + 8389072 q^{129} + 9075664 q^{130} + 9820370 q^{131} + 10621028 q^{132} + 11478692 q^{133} + 12404674 q^{134} + 13407296 q^{135} + 14484428 q^{136} + 15637984 q^{137} + 16881884 q^{138} + 18226522 q^{139} + 19670156 q^{140} + 21215680 q^{141} + 22880240 q^{142} + 24677032 q^{143} + 26604764 q^{144} + 28667696 q^{145} + 30887152 q^{146} + 33279638 q^{147} + 35844638 q^{148} + 38588482 q^{149} + 41537442 q^{150} + 44712164 q^{151} + 48113594 q^{152} + 51750588 q^{153} + 55655524 q^{154} + 59854496 q^{155} + 64350308 q^{156} + 69155182 q^{157} + 74309312 q^{158} + 79845336 q^{159} + 85768730 q^{160} + 92096448 q^{161} + 98878048 q^{162} + 106154370 q^{163} + 113934928 q^{164} + 122242564 q^{165} + 131138402 q^{166} + 140673860 q^{167} + 150863652 q^{168} + 161738282 q^{169} + 173373516 q^{170} + 185833638 q^{171} + 199140390 q^{172} + 213334606 q^{173} + 228509744 q^{174} + 244746168 q^{175} + 262075410 q^{176} + 280551216 q^{177} + 300288912 q^{178} + 321389314 q^{179} + 343896490 q^{180} + 367880770 q^{181} + 393484908 q^{182} + 420834788 q^{183} + 449990908 q^{184} + 481045324 q^{185} + 514174144 q^{186} + 549534468 q^{187} + 587208736 q^{188} + 627316160 q^{189} + 670074020 q^{190} + 715678752 q^{191} + 764240666 q^{192} + 815913504 q^{193} + 870965840 q^{194} + 929642452 q^{195} + 992089526 q^{196} + 1058505154 q^{197} + 1129220530 q^{198} + 1204540420 q^{199} + O(q^{200})$$"
      ],
      "text/plain": [
       "1 + 2*q^3 + 2*q^4 + 2*q^5 + 2*q^6 + 4*q^7 + 6*q^8 + 6*q^9 + 6*q^10 + 10*q^11 + 14*q^12 + 14*q^13 + 16*q^14 + 24*q^15 + 30*q^16 + 32*q^17 + 38*q^18 + 50*q^19 + 62*q^20 + 68*q^21 + 78*q^22 + 100*q^23 + 122*q^24 + 134*q^25 + 154*q^26 + 192*q^27 + 228*q^28 + 254*q^29 + 292*q^30 + 352*q^31 + 414*q^32 + 464*q^33 + 528*q^34 + 628*q^35 + 732*q^36 + 818*q^37 + 930*q^38 + 1092*q^39 + 1258*q^40 + 1408*q^41 + 1596*q^42 + 1850*q^43 + 2118*q^44 + 2370*q^45 + 2672*q^46 + 3072*q^47 + 3498*q^48 + 3904*q^49 + 4390*q^50 + 5012*q^51 + 5670*q^52 + 6322*q^53 + 7088*q^54 + 8036*q^55 + 9052*q^56 + 10076*q^57 + 11258*q^58 + 12698*q^59 + 14248*q^60 + 15822*q^61 + 17632*q^62 + 19800*q^63 + 22126*q^64 + 24528*q^65 + 27264*q^66 + 30482*q^67 + 33956*q^68 + 37572*q^69 + 41652*q^70 + 46404*q^71 + 51540*q^72 + 56912*q^73 + 62950*q^74 + 69910*q^75 + 77422*q^76 + 85340*q^77 + 94192*q^78 + 104288*q^79 + 115210*q^80 + 126768*q^81 + 139616*q^82 + 154178*q^83 + 169932*q^84 + 186644*q^85 + 205166*q^86 + 226020*q^87 + 248562*q^88 + 272560*q^89 + 299062*q^90 + 328708*q^91 + 360772*q^92 + 394976*q^93 + 432608*q^94 + 474520*q^95 + 519834*q^96 + 568224*q^97 + 621344*q^98 + 680242*q^99 + 743868*q^100 + 811922*q^101 + 886436*q^102 + 968708*q^103 + 1057570*q^104 + 1152696*q^105 + 1256582*q^106 + 1370922*q^107 + 1494352*q^108 + 1626526*q^109 + 1770608*q^110 + 1928696*q^111 + 2099212*q^112 + 2281920*q^113 + 2480700*q^114 + 2698164*q^115 + 2932614*q^116 + 3183874*q^117 + 3456718*q^118 + 3754504*q^119 + 4075336*q^120 + 4419146*q^121 + 4791930*q^122 + 5197872*q^123 + 5634880*q^124 + 6103216*q^125 + 6610244*q^126 + 7161184*q^127 + 7753934*q^128 + 8389072*q^129 + 9075664*q^130 + 9820370*q^131 + 10621028*q^132 + 11478692*q^133 + 12404674*q^134 + 13407296*q^135 + 14484428*q^136 + 15637984*q^137 + 16881884*q^138 + 18226522*q^139 + 19670156*q^140 + 21215680*q^141 + 22880240*q^142 + 24677032*q^143 + 26604764*q^144 + 28667696*q^145 + 30887152*q^146 + 33279638*q^147 + 35844638*q^148 + 38588482*q^149 + 41537442*q^150 + 44712164*q^151 + 48113594*q^152 + 51750588*q^153 + 55655524*q^154 + 59854496*q^155 + 64350308*q^156 + 69155182*q^157 + 74309312*q^158 + 79845336*q^159 + 85768730*q^160 + 92096448*q^161 + 98878048*q^162 + 106154370*q^163 + 113934928*q^164 + 122242564*q^165 + 131138402*q^166 + 140673860*q^167 + 150863652*q^168 + 161738282*q^169 + 173373516*q^170 + 185833638*q^171 + 199140390*q^172 + 213334606*q^173 + 228509744*q^174 + 244746168*q^175 + 262075410*q^176 + 280551216*q^177 + 300288912*q^178 + 321389314*q^179 + 343896490*q^180 + 367880770*q^181 + 393484908*q^182 + 420834788*q^183 + 449990908*q^184 + 481045324*q^185 + 514174144*q^186 + 549534468*q^187 + 587208736*q^188 + 627316160*q^189 + 670074020*q^190 + 715678752*q^191 + 764240666*q^192 + 815913504*q^193 + 870965840*q^194 + 929642452*q^195 + 992089526*q^196 + 1058505154*q^197 + 1129220530*q^198 + 1204540420*q^199 + O(q^200)"
      ]
     },
     "execution_count": 415,
     "metadata": {},
     "output_type": "execute_result"
    }
   ],
   "source": [
    "op345.add_bigoh(200)"
   ]
  },
  {
   "cell_type": "code",
   "execution_count": null,
   "id": "dd7f308e",
   "metadata": {},
   "outputs": [],
   "source": []
  },
  {
   "cell_type": "code",
   "execution_count": null,
   "id": "c50faf5e",
   "metadata": {},
   "outputs": [],
   "source": []
  },
  {
   "cell_type": "markdown",
   "id": "db5b53b6",
   "metadata": {},
   "source": [
    "### Next follows $\\overline{p}_{147}(32n+30)$"
   ]
  },
  {
   "cell_type": "code",
   "execution_count": 416,
   "id": "214f227a",
   "metadata": {},
   "outputs": [],
   "source": [
    "test_precision = precision-20\n",
    "\n",
    "#W0 = psi_n*psi_n.V(2)*psi.V(4)*f_nq3_nq5*a^9"
   ]
  },
  {
   "cell_type": "code",
   "execution_count": 417,
   "id": "eb231c38",
   "metadata": {},
   "outputs": [
    {
     "data": {
      "text/html": [
       "<html>\\[\\newcommand{\\Bold}[1]{\\mathbf{#1}}3 + 46 q + 317 q^{2} + 1298 q^{3} + 3545 q^{4} + 7054 q^{5} + 11681 q^{6} + 19222 q^{7} + 32067 q^{8} + 45568 q^{9} + 50955 q^{10} + 57892 q^{11} + 83843 q^{12} + 95576 q^{13} + 51462 q^{14} + 25998 q^{15} + 76558 q^{16} + 45326 q^{17} - 125893 q^{18} - 176740 q^{19} + O(q^{20})\\]</html>"
      ],
      "text/latex": [
       "$$\\newcommand{\\Bold}[1]{\\mathbf{#1}}3 + 46 q + 317 q^{2} + 1298 q^{3} + 3545 q^{4} + 7054 q^{5} + 11681 q^{6} + 19222 q^{7} + 32067 q^{8} + 45568 q^{9} + 50955 q^{10} + 57892 q^{11} + 83843 q^{12} + 95576 q^{13} + 51462 q^{14} + 25998 q^{15} + 76558 q^{16} + 45326 q^{17} - 125893 q^{18} - 176740 q^{19} + O(q^{20})$$"
      ],
      "text/plain": [
       "3 + 46*q + 317*q^2 + 1298*q^3 + 3545*q^4 + 7054*q^5 + 11681*q^6 + 19222*q^7 + 32067*q^8 + 45568*q^9 + 50955*q^10 + 57892*q^11 + 83843*q^12 + 95576*q^13 + 51462*q^14 + 25998*q^15 + 76558*q^16 + 45326*q^17 - 125893*q^18 - 176740*q^19 + O(q^20)"
      ]
     },
     "execution_count": 417,
     "metadata": {},
     "output_type": "execute_result"
    }
   ],
   "source": [
    "V1 = phi^7*psi_n.V(2)*phi_n.V(8)*f_nq3_nq5.V(2)*O3\n",
    "V1.add_bigoh(20)"
   ]
  },
  {
   "cell_type": "code",
   "execution_count": 418,
   "id": "31cc8a93",
   "metadata": {},
   "outputs": [
    {
     "data": {
      "text/html": [
       "<html>\\[\\newcommand{\\Bold}[1]{\\mathbf{#1}}46 + 1298 q + 7054 q^{2} + 19222 q^{3} + 45568 q^{4} + 57892 q^{5} + 95576 q^{6} + 25998 q^{7} + 45326 q^{8} - 176740 q^{9} + O(q^{10})\\]</html>"
      ],
      "text/latex": [
       "$$\\newcommand{\\Bold}[1]{\\mathbf{#1}}46 + 1298 q + 7054 q^{2} + 19222 q^{3} + 45568 q^{4} + 57892 q^{5} + 95576 q^{6} + 25998 q^{7} + 45326 q^{8} - 176740 q^{9} + O(q^{10})$$"
      ],
      "text/plain": [
       "46 + 1298*q + 7054*q^2 + 19222*q^3 + 45568*q^4 + 57892*q^5 + 95576*q^6 + 25998*q^7 + 45326*q^8 - 176740*q^9 + O(q^10)"
      ]
     },
     "execution_count": 418,
     "metadata": {},
     "output_type": "execute_result"
    }
   ],
   "source": [
    "W1 = psi_n*phi_n.V(4)*psi.V(2)*f_nq3_nq5*(phi^8*psi.V(4) - 3*phi^6*phi.V(2)^2*psi.V(4) + psi.V(2)^2*E7 + 12*phi^2*XO)\n",
    "V1_2n_plus_1 = 2*psi_n*phi_n.V(4)*psi.V(2)*psi.V(4)*f_nq3_nq5*phi^8 + 4*W1\n",
    "V1_2n_plus_1.add_bigoh(10)"
   ]
  },
  {
   "cell_type": "code",
   "execution_count": 419,
   "id": "a8ac427f",
   "metadata": {},
   "outputs": [
    {
     "data": {
      "text/html": [
       "<html>\\[\\newcommand{\\Bold}[1]{\\mathbf{#1}}\\mathrm{True}\\]</html>"
      ],
      "text/latex": [
       "$$\\newcommand{\\Bold}[1]{\\mathbf{#1}}\\mathrm{True}$$"
      ],
      "text/plain": [
       "True"
      ]
     },
     "execution_count": 419,
     "metadata": {},
     "output_type": "execute_result"
    }
   ],
   "source": [
    "W1_next =  psi_n*psi_n.V(2)*psi.V(4)*f_nq3_nq5* c*((31/2)*a^8 +8*a^6*b^2 - 10*a^4*b^4 - 3*a^2*b^6 + (1/2)*b^8)\n",
    "W1.truncate(test_precision) == W1_next.truncate(test_precision)"
   ]
  },
  {
   "cell_type": "code",
   "execution_count": 420,
   "id": "2ec22146",
   "metadata": {},
   "outputs": [],
   "source": [
    "#W1.add_bigoh(10)"
   ]
  },
  {
   "cell_type": "code",
   "execution_count": 421,
   "id": "7f7def4e",
   "metadata": {},
   "outputs": [],
   "source": [
    "#W1_next.add_bigoh(10)"
   ]
  },
  {
   "cell_type": "code",
   "execution_count": 422,
   "id": "8467fecb",
   "metadata": {},
   "outputs": [],
   "source": [
    "#(psi.V(2)^2*E7).truncate(test_precision) == (psi.V(4)*(1/2)*(a^2+b^2)*(a^6 + (a^2-b^2)*(7*a^4-b^4+3*a^2*b^2))).truncate(test_precision)"
   ]
  },
  {
   "cell_type": "code",
   "execution_count": 423,
   "id": "fe74ad99",
   "metadata": {},
   "outputs": [],
   "source": [
    "#(12*phi^2*XO).truncate(test_precision) == (psi.V(4)*(3/2)*a^2*(a^2+b^2)*(8*a^4-b^4-3*a^2*b^2)).truncate(test_precision)"
   ]
  },
  {
   "cell_type": "code",
   "execution_count": 424,
   "id": "f875bcc1",
   "metadata": {},
   "outputs": [
    {
     "data": {
      "text/html": [
       "<html>\\[\\newcommand{\\Bold}[1]{\\mathbf{#1}}3 + 46 q + 314 q^{2} + 1252 q^{3} + 3228 q^{4} + 5756 q^{5} + 8139 q^{6} + 12214 q^{7} + 20700 q^{8} + 27598 q^{9} + 22119 q^{10} + 18126 q^{11} + 41341 q^{12} + 51150 q^{13} - 8456 q^{14} - 36270 q^{15} + 55037 q^{16} + 48370 q^{17} - 143955 q^{18} - 150372 q^{19} + O(q^{20})\\]</html>"
      ],
      "text/latex": [
       "$$\\newcommand{\\Bold}[1]{\\mathbf{#1}}3 + 46 q + 314 q^{2} + 1252 q^{3} + 3228 q^{4} + 5756 q^{5} + 8139 q^{6} + 12214 q^{7} + 20700 q^{8} + 27598 q^{9} + 22119 q^{10} + 18126 q^{11} + 41341 q^{12} + 51150 q^{13} - 8456 q^{14} - 36270 q^{15} + 55037 q^{16} + 48370 q^{17} - 143955 q^{18} - 150372 q^{19} + O(q^{20})$$"
      ],
      "text/plain": [
       "3 + 46*q + 314*q^2 + 1252*q^3 + 3228*q^4 + 5756*q^5 + 8139*q^6 + 12214*q^7 + 20700*q^8 + 27598*q^9 + 22119*q^10 + 18126*q^11 + 41341*q^12 + 51150*q^13 - 8456*q^14 - 36270*q^15 + 55037*q^16 + 48370*q^17 - 143955*q^18 - 150372*q^19 + O(q^20)"
      ]
     },
     "execution_count": 424,
     "metadata": {},
     "output_type": "execute_result"
    }
   ],
   "source": [
    "V2 = phi^7*psi_n.V(2)*phi_n.V(8)*f_nq_nq7.V(2)*O3\n",
    "V2.add_bigoh(20)"
   ]
  },
  {
   "cell_type": "code",
   "execution_count": 425,
   "id": "e4ca3c2b",
   "metadata": {},
   "outputs": [
    {
     "data": {
      "text/html": [
       "<html>\\[\\newcommand{\\Bold}[1]{\\mathbf{#1}}3 + 314 q + 3228 q^{2} + 8139 q^{3} + 20700 q^{4} + 22119 q^{5} + 41341 q^{6} - 8456 q^{7} + 55037 q^{8} - 143955 q^{9} + O(q^{10})\\]</html>"
      ],
      "text/latex": [
       "$$\\newcommand{\\Bold}[1]{\\mathbf{#1}}3 + 314 q + 3228 q^{2} + 8139 q^{3} + 20700 q^{4} + 22119 q^{5} + 41341 q^{6} - 8456 q^{7} + 55037 q^{8} - 143955 q^{9} + O(q^{10})$$"
      ],
      "text/plain": [
       "3 + 314*q + 3228*q^2 + 8139*q^3 + 20700*q^4 + 22119*q^5 + 41341*q^6 - 8456*q^7 + 55037*q^8 - 143955*q^9 + O(q^10)"
      ]
     },
     "execution_count": 425,
     "metadata": {},
     "output_type": "execute_result"
    }
   ],
   "source": [
    "W2 = psi_n*phi_n.V(4)*psi.V(2)*f_nq_nq7*(phi^8*phi.V(2) + 2*q*psi.V(2)^2*O7 + 6*phi^2*XE)\n",
    "V2_2n = -psi_n*phi_n.V(4)*psi.V(2)*phi.V(2)*f_nq_nq7*phi^8 + 4*W2\n",
    "V2_2n.add_bigoh(10)"
   ]
  },
  {
   "cell_type": "code",
   "execution_count": 426,
   "id": "9716de57",
   "metadata": {},
   "outputs": [
    {
     "data": {
      "text/html": [
       "<html>\\[\\newcommand{\\Bold}[1]{\\mathbf{#1}}\\mathrm{True}\\]</html>"
      ],
      "text/latex": [
       "$$\\newcommand{\\Bold}[1]{\\mathbf{#1}}\\mathrm{True}$$"
      ],
      "text/plain": [
       "True"
      ]
     },
     "execution_count": 426,
     "metadata": {},
     "output_type": "execute_result"
    }
   ],
   "source": [
    "W2_next = psi_n*psi_n.V(2)*f_nq_nq7*(1/2)*(a^10+a^8*b^2) + psi_n*psi_n.V(2)*psi.V(4)*f_nq3_nq5* (a-c)*((29/2)*a^8 + 21*a^6*b^2 + 3*a^4*b^4 - 4*a^2*b^6 - (1/2)*b^8)\n",
    "W2.truncate(test_precision) == W2_next.truncate(test_precision)"
   ]
  },
  {
   "cell_type": "code",
   "execution_count": 427,
   "id": "0f7e10a8",
   "metadata": {},
   "outputs": [
    {
     "data": {
      "text/html": [
       "<html>\\[\\newcommand{\\Bold}[1]{\\mathbf{#1}}1 + 26 q + 257 q^{2} + 1370 q^{3} + 4527 q^{4} + 10194 q^{5} + 17839 q^{6} + 29138 q^{7} + 46779 q^{8} + 65076 q^{9} + 76987 q^{10} + 90612 q^{11} + 104547 q^{12} + 99052 q^{13} + 88164 q^{14} + 80134 q^{15} + 33560 q^{16} - 18014 q^{17} - 41785 q^{18} - 136844 q^{19} + O(q^{20})\\]</html>"
      ],
      "text/latex": [
       "$$\\newcommand{\\Bold}[1]{\\mathbf{#1}}1 + 26 q + 257 q^{2} + 1370 q^{3} + 4527 q^{4} + 10194 q^{5} + 17839 q^{6} + 29138 q^{7} + 46779 q^{8} + 65076 q^{9} + 76987 q^{10} + 90612 q^{11} + 104547 q^{12} + 99052 q^{13} + 88164 q^{14} + 80134 q^{15} + 33560 q^{16} - 18014 q^{17} - 41785 q^{18} - 136844 q^{19} + O(q^{20})$$"
      ],
      "text/plain": [
       "1 + 26*q + 257*q^2 + 1370*q^3 + 4527*q^4 + 10194*q^5 + 17839*q^6 + 29138*q^7 + 46779*q^8 + 65076*q^9 + 76987*q^10 + 90612*q^11 + 104547*q^12 + 99052*q^13 + 88164*q^14 + 80134*q^15 + 33560*q^16 - 18014*q^17 - 41785*q^18 - 136844*q^19 + O(q^20)"
      ]
     },
     "execution_count": 427,
     "metadata": {},
     "output_type": "execute_result"
    }
   ],
   "source": [
    "V3 = phi^7*psi_n.V(2)*psi_n.V(4)*f_nq3_nq5.V(2)*E3\n",
    "V3.add_bigoh(20)"
   ]
  },
  {
   "cell_type": "code",
   "execution_count": 428,
   "id": "d5f2aeec",
   "metadata": {},
   "outputs": [
    {
     "data": {
      "text/html": [
       "<html>\\[\\newcommand{\\Bold}[1]{\\mathbf{#1}}26 + 1370 q + 10194 q^{2} + 29138 q^{3} + 65076 q^{4} + 90612 q^{5} + 99052 q^{6} + 80134 q^{7} - 18014 q^{8} - 136844 q^{9} + O(q^{10})\\]</html>"
      ],
      "text/latex": [
       "$$\\newcommand{\\Bold}[1]{\\mathbf{#1}}26 + 1370 q + 10194 q^{2} + 29138 q^{3} + 65076 q^{4} + 90612 q^{5} + 99052 q^{6} + 80134 q^{7} - 18014 q^{8} - 136844 q^{9} + O(q^{10})$$"
      ],
      "text/plain": [
       "26 + 1370*q + 10194*q^2 + 29138*q^3 + 65076*q^4 + 90612*q^5 + 99052*q^6 + 80134*q^7 - 18014*q^8 - 136844*q^9 + O(q^10)"
      ]
     },
     "execution_count": 428,
     "metadata": {},
     "output_type": "execute_result"
    }
   ],
   "source": [
    "W3 = psi_n*psi_n.V(2)*phi*f_nq3_nq5*(- phi^6*phi.V(2)^2*psi.V(4) + 3*psi.V(2)^2*E7 + 4*phi^2*XO)\n",
    "V3_2n_plus_1 = 2*psi_n*psi_n.V(2)*psi.V(4)*f_nq3_nq5*phi^9 + 4*W3\n",
    "V3_2n_plus_1.add_bigoh(10)"
   ]
  },
  {
   "cell_type": "code",
   "execution_count": 429,
   "id": "4b02bc83",
   "metadata": {},
   "outputs": [
    {
     "data": {
      "text/html": [
       "<html>\\[\\newcommand{\\Bold}[1]{\\mathbf{#1}}\\mathrm{True}\\]</html>"
      ],
      "text/latex": [
       "$$\\newcommand{\\Bold}[1]{\\mathbf{#1}}\\mathrm{True}$$"
      ],
      "text/plain": [
       "True"
      ]
     },
     "execution_count": 429,
     "metadata": {},
     "output_type": "execute_result"
    }
   ],
   "source": [
    "W3_next = psi_n*psi_n.V(2)*psi.V(4)*f_nq3_nq5* ((31/2)*a^9 + 8*a^7*b^2 -14*a^5*b^4 -5*a^3*b^6 +(3/2)*a*b^8)\n",
    "W3.truncate(test_precision) == W3_next.truncate(test_precision)"
   ]
  },
  {
   "cell_type": "code",
   "execution_count": 430,
   "id": "cc3b68b2",
   "metadata": {},
   "outputs": [
    {
     "data": {
      "text/html": [
       "<html>\\[\\newcommand{\\Bold}[1]{\\mathbf{#1}}3 + 40 q + 243 q^{2} + 904 q^{3} + 2365 q^{4} + 4840 q^{5} + 8605 q^{6} + 14312 q^{7} + 22081 q^{8} + 30256 q^{9} + 37921 q^{10} + 46672 q^{11} + 53529 q^{12} + 53168 q^{13} + 50652 q^{14} + 43736 q^{15} + 20456 q^{16} - 3032 q^{17} - 27099 q^{18} - 81136 q^{19} + O(q^{20})\\]</html>"
      ],
      "text/latex": [
       "$$\\newcommand{\\Bold}[1]{\\mathbf{#1}}3 + 40 q + 243 q^{2} + 904 q^{3} + 2365 q^{4} + 4840 q^{5} + 8605 q^{6} + 14312 q^{7} + 22081 q^{8} + 30256 q^{9} + 37921 q^{10} + 46672 q^{11} + 53529 q^{12} + 53168 q^{13} + 50652 q^{14} + 43736 q^{15} + 20456 q^{16} - 3032 q^{17} - 27099 q^{18} - 81136 q^{19} + O(q^{20})$$"
      ],
      "text/plain": [
       "3 + 40*q + 243*q^2 + 904*q^3 + 2365*q^4 + 4840*q^5 + 8605*q^6 + 14312*q^7 + 22081*q^8 + 30256*q^9 + 37921*q^10 + 46672*q^11 + 53529*q^12 + 53168*q^13 + 50652*q^14 + 43736*q^15 + 20456*q^16 - 3032*q^17 - 27099*q^18 - 81136*q^19 + O(q^20)"
      ]
     },
     "execution_count": 430,
     "metadata": {},
     "output_type": "execute_result"
    }
   ],
   "source": [
    "V4 = phi^6*psi.V(2)*phi_n.V(4)*phi_n.V(8)*f_nq3_nq5.V(2)*O3\n",
    "V4.add_bigoh(20)"
   ]
  },
  {
   "cell_type": "code",
   "execution_count": 431,
   "id": "5579a972",
   "metadata": {},
   "outputs": [
    {
     "data": {
      "text/html": [
       "<html>\\[\\newcommand{\\Bold}[1]{\\mathbf{#1}}40 + 904 q + 4840 q^{2} + 14312 q^{3} + 30256 q^{4} + 46672 q^{5} + 53168 q^{6} + 43736 q^{7} - 3032 q^{8} - 81136 q^{9} + O(q^{10})\\]</html>"
      ],
      "text/latex": [
       "$$\\newcommand{\\Bold}[1]{\\mathbf{#1}}40 + 904 q + 4840 q^{2} + 14312 q^{3} + 30256 q^{4} + 46672 q^{5} + 53168 q^{6} + 43736 q^{7} - 3032 q^{8} - 81136 q^{9} + O(q^{10})$$"
      ],
      "text/plain": [
       "40 + 904*q + 4840*q^2 + 14312*q^3 + 30256*q^4 + 46672*q^5 + 53168*q^6 + 43736*q^7 - 3032*q^8 - 81136*q^9 + O(q^10)"
      ]
     },
     "execution_count": 431,
     "metadata": {},
     "output_type": "execute_result"
    }
   ],
   "source": [
    "W4 = psi*phi_n.V(2)*phi_n.V(4)*psi.V(2)*f_nq3_nq5*(psi.V(2)^2*E6 + 3*phi^2*O6)\n",
    "V4_2n_plus_1 = 4*W4\n",
    "V4_2n_plus_1.add_bigoh(10)"
   ]
  },
  {
   "cell_type": "code",
   "execution_count": 432,
   "id": "12a51d3f",
   "metadata": {},
   "outputs": [
    {
     "data": {
      "text/html": [
       "<html>\\[\\newcommand{\\Bold}[1]{\\mathbf{#1}}\\mathrm{True}\\]</html>"
      ],
      "text/latex": [
       "$$\\newcommand{\\Bold}[1]{\\mathbf{#1}}\\mathrm{True}$$"
      ],
      "text/plain": [
       "True"
      ]
     },
     "execution_count": 432,
     "metadata": {},
     "output_type": "execute_result"
    }
   ],
   "source": [
    "W4_next = psi_n*psi_n.V(2)*psi.V(4)*f_nq3_nq5* (8*a^9 + 8*a^7*b^2 -3*a^5*b^4 -3*a^3*b^6)\n",
    "W4.truncate(test_precision) == W4_next.truncate(test_precision)"
   ]
  },
  {
   "cell_type": "code",
   "execution_count": 433,
   "id": "ea940a5c",
   "metadata": {},
   "outputs": [
    {
     "data": {
      "text/html": [
       "<html>\\[\\newcommand{\\Bold}[1]{\\mathbf{#1}}1 + 24 q + 211 q^{2} + 1000 q^{3} + 3039 q^{4} + 6808 q^{5} + 12855 q^{6} + 21816 q^{7} + 32749 q^{8} + 44288 q^{9} + 56725 q^{10} + 66000 q^{11} + 68077 q^{12} + 69856 q^{13} + 66158 q^{14} + 46488 q^{15} + 30682 q^{16} + 5784 q^{17} - 53571 q^{18} - 92880 q^{19} + O(q^{20})\\]</html>"
      ],
      "text/latex": [
       "$$\\newcommand{\\Bold}[1]{\\mathbf{#1}}1 + 24 q + 211 q^{2} + 1000 q^{3} + 3039 q^{4} + 6808 q^{5} + 12855 q^{6} + 21816 q^{7} + 32749 q^{8} + 44288 q^{9} + 56725 q^{10} + 66000 q^{11} + 68077 q^{12} + 69856 q^{13} + 66158 q^{14} + 46488 q^{15} + 30682 q^{16} + 5784 q^{17} - 53571 q^{18} - 92880 q^{19} + O(q^{20})$$"
      ],
      "text/plain": [
       "1 + 24*q + 211*q^2 + 1000*q^3 + 3039*q^4 + 6808*q^5 + 12855*q^6 + 21816*q^7 + 32749*q^8 + 44288*q^9 + 56725*q^10 + 66000*q^11 + 68077*q^12 + 69856*q^13 + 66158*q^14 + 46488*q^15 + 30682*q^16 + 5784*q^17 - 53571*q^18 - 92880*q^19 + O(q^20)"
      ]
     },
     "execution_count": 433,
     "metadata": {},
     "output_type": "execute_result"
    }
   ],
   "source": [
    "V5 = phi^6*psi.V(2)*phi_n.V(4)*psi_n.V(4)*f_nq3_nq5.V(2)*E3\n",
    "V5.add_bigoh(20)"
   ]
  },
  {
   "cell_type": "code",
   "execution_count": 434,
   "id": "c5ac2879",
   "metadata": {},
   "outputs": [
    {
     "data": {
      "text/html": [
       "<html>\\[\\newcommand{\\Bold}[1]{\\mathbf{#1}}24 + 1000 q + 6808 q^{2} + 21816 q^{3} + 44288 q^{4} + 66000 q^{5} + 69856 q^{6} + 46488 q^{7} + 5784 q^{8} - 92880 q^{9} + O(q^{10})\\]</html>"
      ],
      "text/latex": [
       "$$\\newcommand{\\Bold}[1]{\\mathbf{#1}}24 + 1000 q + 6808 q^{2} + 21816 q^{3} + 44288 q^{4} + 66000 q^{5} + 69856 q^{6} + 46488 q^{7} + 5784 q^{8} - 92880 q^{9} + O(q^{10})$$"
      ],
      "text/plain": [
       "24 + 1000*q + 6808*q^2 + 21816*q^3 + 44288*q^4 + 66000*q^5 + 69856*q^6 + 46488*q^7 + 5784*q^8 - 92880*q^9 + O(q^10)"
      ]
     },
     "execution_count": 434,
     "metadata": {},
     "output_type": "execute_result"
    }
   ],
   "source": [
    "W5 = psi*phi_n.V(2)*psi_n.V(2)*phi*f_nq3_nq5*(3*psi.V(2)^2*E6 + phi^2*O6)\n",
    "V5_2n_plus_1 = 4*W5\n",
    "V5_2n_plus_1.add_bigoh(10)"
   ]
  },
  {
   "cell_type": "code",
   "execution_count": 435,
   "id": "d190f985",
   "metadata": {},
   "outputs": [
    {
     "data": {
      "text/html": [
       "<html>\\[\\newcommand{\\Bold}[1]{\\mathbf{#1}}\\mathrm{True}\\]</html>"
      ],
      "text/latex": [
       "$$\\newcommand{\\Bold}[1]{\\mathbf{#1}}\\mathrm{True}$$"
      ],
      "text/plain": [
       "True"
      ]
     },
     "execution_count": 435,
     "metadata": {},
     "output_type": "execute_result"
    }
   ],
   "source": [
    "W5_next = psi_n*psi_n.V(2)*psi.V(4)*f_nq3_nq5*(16*a^8*c - 10*a^4*b^4*c)\n",
    "W5.truncate(test_precision) == W5_next.truncate(test_precision)"
   ]
  },
  {
   "cell_type": "code",
   "execution_count": 436,
   "id": "5d97a17d",
   "metadata": {},
   "outputs": [
    {
     "data": {
      "text/html": [
       "<html>\\[\\newcommand{\\Bold}[1]{\\mathbf{#1}}1 + 24 q + 210 q^{2} + 976 q^{3} + 2828 q^{4} + 5808 q^{5} + 9817 q^{6} + 15032 q^{7} + 20104 q^{8} + 23448 q^{9} + 26805 q^{10} + 27544 q^{11} + 21379 q^{12} + 19864 q^{13} + 21012 q^{14} + 5864 q^{15} + 935 q^{16} + 872 q^{17} - 45809 q^{18} - 62160 q^{19} + O(q^{20})\\]</html>"
      ],
      "text/latex": [
       "$$\\newcommand{\\Bold}[1]{\\mathbf{#1}}1 + 24 q + 210 q^{2} + 976 q^{3} + 2828 q^{4} + 5808 q^{5} + 9817 q^{6} + 15032 q^{7} + 20104 q^{8} + 23448 q^{9} + 26805 q^{10} + 27544 q^{11} + 21379 q^{12} + 19864 q^{13} + 21012 q^{14} + 5864 q^{15} + 935 q^{16} + 872 q^{17} - 45809 q^{18} - 62160 q^{19} + O(q^{20})$$"
      ],
      "text/plain": [
       "1 + 24*q + 210*q^2 + 976*q^3 + 2828*q^4 + 5808*q^5 + 9817*q^6 + 15032*q^7 + 20104*q^8 + 23448*q^9 + 26805*q^10 + 27544*q^11 + 21379*q^12 + 19864*q^13 + 21012*q^14 + 5864*q^15 + 935*q^16 + 872*q^17 - 45809*q^18 - 62160*q^19 + O(q^20)"
      ]
     },
     "execution_count": 436,
     "metadata": {},
     "output_type": "execute_result"
    }
   ],
   "source": [
    "V6 = phi^6*psi.V(2)*phi_n.V(4)*psi_n.V(4)*f_nq_nq7.V(2)*E3\n",
    "V6.add_bigoh(20)"
   ]
  },
  {
   "cell_type": "code",
   "execution_count": 437,
   "id": "e3b50761",
   "metadata": {},
   "outputs": [
    {
     "data": {
      "text/html": [
       "<html>\\[\\newcommand{\\Bold}[1]{\\mathbf{#1}}1 + 210 q + 2828 q^{2} + 9817 q^{3} + 20104 q^{4} + 26805 q^{5} + 21379 q^{6} + 21012 q^{7} + 935 q^{8} - 45809 q^{9} + O(q^{10})\\]</html>"
      ],
      "text/latex": [
       "$$\\newcommand{\\Bold}[1]{\\mathbf{#1}}1 + 210 q + 2828 q^{2} + 9817 q^{3} + 20104 q^{4} + 26805 q^{5} + 21379 q^{6} + 21012 q^{7} + 935 q^{8} - 45809 q^{9} + O(q^{10})$$"
      ],
      "text/plain": [
       "1 + 210*q + 2828*q^2 + 9817*q^3 + 20104*q^4 + 26805*q^5 + 21379*q^6 + 21012*q^7 + 935*q^8 - 45809*q^9 + O(q^10)"
      ]
     },
     "execution_count": 437,
     "metadata": {},
     "output_type": "execute_result"
    }
   ],
   "source": [
    "W6 = q*psi*phi_n.V(2)*psi_n.V(2)*phi*f_nq_nq7*psi.V(2)^2*(phi^4*psi.V(2)^2 + O6)\n",
    "V6_2n = psi*phi_n.V(2)*psi_n.V(2)*f_nq_nq7*phi^9 + 48*W6\n",
    "V6_2n.add_bigoh(10)"
   ]
  },
  {
   "cell_type": "code",
   "execution_count": 438,
   "id": "816ea0af",
   "metadata": {},
   "outputs": [
    {
     "data": {
      "text/html": [
       "<html>\\[\\newcommand{\\Bold}[1]{\\mathbf{#1}}\\mathrm{True}\\]</html>"
      ],
      "text/latex": [
       "$$\\newcommand{\\Bold}[1]{\\mathbf{#1}}\\mathrm{True}$$"
      ],
      "text/plain": [
       "True"
      ]
     },
     "execution_count": 438,
     "metadata": {},
     "output_type": "execute_result"
    }
   ],
   "source": [
    "W6_next = psi_n*psi_n.V(2)*psi.V(4)*f_nq3_nq5* (1/4)*(a-c)*(5*a^8 + 5*a^6*b^2 - a^4*b^4 - a^2*b^6)\n",
    "W6.truncate(test_precision) == W6_next.truncate(test_precision)"
   ]
  },
  {
   "cell_type": "code",
   "execution_count": 439,
   "id": "c10dfc4b",
   "metadata": {},
   "outputs": [
    {
     "data": {
      "text/html": [
       "<html>\\[\\newcommand{\\Bold}[1]{\\mathbf{#1}}44 + 720 q + 6508 q^{2} + 42720 q^{3} + 227756 q^{4} + 1045248 q^{5} + 4276428 q^{6} + 15962192 q^{7} + 55245068 q^{8} + 179412448 q^{9} + 551697004 q^{10} + O(q^{11})\\]</html>"
      ],
      "text/latex": [
       "$$\\newcommand{\\Bold}[1]{\\mathbf{#1}}44 + 720 q + 6508 q^{2} + 42720 q^{3} + 227756 q^{4} + 1045248 q^{5} + 4276428 q^{6} + 15962192 q^{7} + 55245068 q^{8} + 179412448 q^{9} + 551697004 q^{10} + O(q^{11})$$"
      ],
      "text/plain": [
       "44 + 720*q + 6508*q^2 + 42720*q^3 + 227756*q^4 + 1045248*q^5 + 4276428*q^6 + 15962192*q^7 + 55245068*q^8 + 179412448*q^9 + 551697004*q^10 + O(q^11)"
      ]
     },
     "execution_count": 439,
     "metadata": {},
     "output_type": "execute_result"
    }
   ],
   "source": [
    "((4*V1 + 4*q*V2 + 4*V3 + 8*V4 + 4*V5 + 4*q*V6)/phi_n.V(2)^13).add_bigoh(11)"
   ]
  },
  {
   "cell_type": "code",
   "execution_count": 440,
   "id": "cef4429a",
   "metadata": {},
   "outputs": [],
   "source": [
    "#rem1 = 2*psi_n*phi_n.V(4)*psi.V(2)*psi.V(4)*f_nq3_nq5*phi^8\n",
    "#rem2 = -psi_n*phi_n.V(4)*psi.V(2)*phi.V(2)*f_nq_nq7*phi^8\n",
    "#rem3 = 2*psi_n*psi_n.V(2)*psi.V(4)*f_nq3_nq5*phi^9\n",
    "#rem6 = psi*phi_n.V(2)*psi_n.V(2)*f_nq_nq7*phi^9\n",
    "#W0_mult_4 = rem1 + rem2 + rem3 + rem6\n",
    "\n",
    "#W0_mult_4/4\n",
    "\n",
    "W0 = psi_n*psi_n.V(2)*psi.V(4)*f_nq3_nq5*a^9"
   ]
  },
  {
   "cell_type": "code",
   "execution_count": 441,
   "id": "d3610503",
   "metadata": {},
   "outputs": [
    {
     "data": {
      "text/html": [
       "<html>\\[\\newcommand{\\Bold}[1]{\\mathbf{#1}}720 + 42720 q + 1045248 q^{2} + 15962192 q^{3} + 179412448 q^{4} + 1617748496 q^{5} + O(q^{6})\\]</html>"
      ],
      "text/latex": [
       "$$\\newcommand{\\Bold}[1]{\\mathbf{#1}}720 + 42720 q + 1045248 q^{2} + 15962192 q^{3} + 179412448 q^{4} + 1617748496 q^{5} + O(q^{6})$$"
      ],
      "text/plain": [
       "720 + 42720*q + 1045248*q^2 + 15962192*q^3 + 179412448*q^4 + 1617748496*q^5 + O(q^6)"
      ]
     },
     "execution_count": 441,
     "metadata": {},
     "output_type": "execute_result"
    }
   ],
   "source": [
    "((16/phi_n^13) * (W0 + W1 + W2 + W3 + 2*W4 + W5 + 12*W6)).add_bigoh(6)"
   ]
  },
  {
   "cell_type": "code",
   "execution_count": 442,
   "id": "b0c81c52",
   "metadata": {},
   "outputs": [
    {
     "data": {
      "text/html": [
       "<html>\\[\\newcommand{\\Bold}[1]{\\mathbf{#1}}720 + 42720 q + 1045248 q^{2} + 15962192 q^{3} + 179412448 q^{4} + 1617748496 q^{5} + O(q^{6})\\]</html>"
      ],
      "text/latex": [
       "$$\\newcommand{\\Bold}[1]{\\mathbf{#1}}720 + 42720 q + 1045248 q^{2} + 15962192 q^{3} + 179412448 q^{4} + 1617748496 q^{5} + O(q^{6})$$"
      ],
      "text/plain": [
       "720 + 42720*q + 1045248*q^2 + 15962192*q^3 + 179412448*q^4 + 1617748496*q^5 + O(q^6)"
      ]
     },
     "execution_count": 442,
     "metadata": {},
     "output_type": "execute_result"
    }
   ],
   "source": [
    "terms_for_f17 = (1/2)*a^8*(a^2+b^2)\n",
    "terms_for_f35 = 62*a^9 + 60*a^7*b^2 - 20*a^5*b^4 - 18*a^3*b^6 + a*b^8 + 2*a^8*c - 28*a^6*b^2*c - 20*a^4*b^4*c + 4*a^2*b^6*c + b^8*c\n",
    "\n",
    "result = (16*psi_n*psi_n.V(2)/phi_n^13)*(f_nq_nq7*terms_for_f17 + psi.V(4)*f_nq3_nq5*terms_for_f35)\n",
    "result.add_bigoh(6)"
   ]
  },
  {
   "cell_type": "code",
   "execution_count": 443,
   "id": "2dd69cdd",
   "metadata": {},
   "outputs": [
    {
     "data": {
      "text/html": [
       "<html>\\[\\newcommand{\\Bold}[1]{\\mathbf{#1}}720 + 42720 q + 1045248 q^{2} + 15962192 q^{3} + 179412448 q^{4} + 1617748496 q^{5} + O(q^{6})\\]</html>"
      ],
      "text/latex": [
       "$$\\newcommand{\\Bold}[1]{\\mathbf{#1}}720 + 42720 q + 1045248 q^{2} + 15962192 q^{3} + 179412448 q^{4} + 1617748496 q^{5} + O(q^{6})$$"
      ],
      "text/plain": [
       "720 + 42720*q + 1045248*q^2 + 15962192*q^3 + 179412448*q^4 + 1617748496*q^5 + O(q^6)"
      ]
     },
     "execution_count": 443,
     "metadata": {},
     "output_type": "execute_result"
    }
   ],
   "source": [
    "terms_for_f35 = 62*a^9 + 60*a^7*b^2 - 20*a^5*b^4 - 18*a^3*b^6 + a*b^8 + 2*a^8*c - 28*a^6*b^2*c - 20*a^4*b^4*c + 4*a^2*b^6*c + b^8*c\n",
    "\n",
    "result = (16*psi_n*psi_n.V(2)/phi_n^13)*(phi.V(2)^2*f_nq_nq7*a^8 + psi.V(4)*f_nq3_nq5*terms_for_f35)\n",
    "result.add_bigoh(6)"
   ]
  },
  {
   "cell_type": "code",
   "execution_count": 444,
   "id": "2e73c026",
   "metadata": {},
   "outputs": [
    {
     "data": {
      "text/html": [
       "<html>\\[\\newcommand{\\Bold}[1]{\\mathbf{#1}}720 + 42720 q + 1045248 q^{2} + 15962192 q^{3} + 179412448 q^{4} + 1617748496 q^{5} + O(q^{6})\\]</html>"
      ],
      "text/latex": [
       "$$\\newcommand{\\Bold}[1]{\\mathbf{#1}}720 + 42720 q + 1045248 q^{2} + 15962192 q^{3} + 179412448 q^{4} + 1617748496 q^{5} + O(q^{6})$$"
      ],
      "text/plain": [
       "720 + 42720*q + 1045248*q^2 + 15962192*q^3 + 179412448*q^4 + 1617748496*q^5 + O(q^6)"
      ]
     },
     "execution_count": 444,
     "metadata": {},
     "output_type": "execute_result"
    }
   ],
   "source": [
    "# Final\n",
    "\n",
    "terms_for_f17 = 32*a^10 + 24*a^8*b^2 - 22*a^6*b^4 - 13*a^4*b^6 + a^2*b^8 + 32*a^9*c + 16*a^7*b^2*c - 20*a^5*b^4*c -7*a^3*b^6*c\n",
    "terms_for_f35 = b^8*(a+c)\n",
    "\n",
    "op147_32n_plus_30 = (16*psi_n*psi_n.V(2)/phi_n^13)*(f_nq3_nq5*psi.V(4)*terms_for_f35 + f_nq_nq7*terms_for_f17)\n",
    "\n",
    "op147_32n_plus_30.add_bigoh(6)"
   ]
  },
  {
   "cell_type": "code",
   "execution_count": 445,
   "id": "39673373",
   "metadata": {},
   "outputs": [
    {
     "data": {
      "text/html": [
       "<html>\\[\\newcommand{\\Bold}[1]{\\mathbf{#1}}44 + 720 q + 6508 q^{2} + 42720 q^{3} + 227756 q^{4} + 1045248 q^{5} + 4276428 q^{6} + 15962192 q^{7} + 55245068 q^{8} + 179412448 q^{9} + 551697004 q^{10} + O(q^{11})\\]</html>"
      ],
      "text/latex": [
       "$$\\newcommand{\\Bold}[1]{\\mathbf{#1}}44 + 720 q + 6508 q^{2} + 42720 q^{3} + 227756 q^{4} + 1045248 q^{5} + 4276428 q^{6} + 15962192 q^{7} + 55245068 q^{8} + 179412448 q^{9} + 551697004 q^{10} + O(q^{11})$$"
      ],
      "text/plain": [
       "44 + 720*q + 6508*q^2 + 42720*q^3 + 227756*q^4 + 1045248*q^5 + 4276428*q^6 + 15962192*q^7 + 55245068*q^8 + 179412448*q^9 + 551697004*q^10 + O(q^11)"
      ]
     },
     "execution_count": 445,
     "metadata": {},
     "output_type": "execute_result"
    }
   ],
   "source": [
    "# common = psi_n / (f1^3*phi_n^5)\n",
    "common = phi^6 / phi_n.V(2)^13\n",
    "first = phi*psi_n.V(2)\n",
    "firstmultiplier = phi_n.V(8)*f_q_nq3*O3 + psi_n.V(4)*f_nq3_nq5.V(2)*E3\n",
    "second = psi.V(2)*phi_n.V(4)\n",
    "secondmultiplier = 2*phi_n.V(8)*f_nq3_nq5.V(2)*O3 + psi_n.V(4)*f_q_nq3*E3\n",
    "\n",
    "\n",
    "op147_16n_plus_14 = 4*common*(first*firstmultiplier + second*secondmultiplier)\n",
    "\n",
    "op147_16n_plus_14.add_bigoh(11)"
   ]
  },
  {
   "cell_type": "code",
   "execution_count": 446,
   "id": "2830dad7",
   "metadata": {},
   "outputs": [
    {
     "data": {
      "text/html": [
       "<html>\\[\\newcommand{\\Bold}[1]{\\mathbf{#1}}1 + 2 q + 2 q^{2} + 2 q^{3} + 4 q^{4} + 6 q^{5} + 6 q^{6} + 8 q^{7} + 12 q^{8} + 16 q^{9} + 18 q^{10} + 22 q^{11} + 30 q^{12} + 38 q^{13} + 44 q^{14} + 52 q^{15} + 68 q^{16} + 84 q^{17} + 96 q^{18} + 114 q^{19} + 142 q^{20} + 172 q^{21} + 198 q^{22} + 232 q^{23} + 282 q^{24} + 336 q^{25} + 386 q^{26} + 448 q^{27} + 536 q^{28} + 630 q^{29} + 720 q^{30} + 832 q^{31} + 980 q^{32} + 1140 q^{33} + 1300 q^{34} + 1492 q^{35} + 1738 q^{36} + 2006 q^{37} + 2278 q^{38} + 2600 q^{39} + 3002 q^{40} + 3440 q^{41} + 3892 q^{42} + 4422 q^{43} + 5066 q^{44} + 5770 q^{45} + 6508 q^{46} + 7360 q^{47} + 8378 q^{48} + 9494 q^{49} + 10672 q^{50} + 12020 q^{51} + 13610 q^{52} + 15350 q^{53} + 17200 q^{54} + 19304 q^{55} + 21752 q^{56} + 24432 q^{57} + 27298 q^{58} + 30534 q^{59} + 34260 q^{60} + 38342 q^{61} + 42720 q^{62} + 47636 q^{63} + 53252 q^{64} + 59396 q^{65} + 66004 q^{66} + 73394 q^{67} + 81768 q^{68} + 90924 q^{69} + 100796 q^{70} + 111784 q^{71} + 124158 q^{72} + 137680 q^{73} + 152274 q^{74} + 168458 q^{75} + 186590 q^{76} + 206380 q^{77} + 227756 q^{78} + 251392 q^{79} + 277738 q^{80} + 306466 q^{81} + 337520 q^{82} + 371746 q^{83} + 409740 q^{84} + 451132 q^{85} + 495878 q^{86} + 545064 q^{87} + 599470 q^{88} + 658672 q^{89} + 722670 q^{90} + 792860 q^{91} + 870232 q^{92} + 954336 q^{93} + 1045248 q^{94} + 1144724 q^{95} + 1254058 q^{96} + 1372788 q^{97} + 1501078 q^{98} + 1641170 q^{99} + 1794746 q^{100} + 1961334 q^{101} + 2141260 q^{102} + 2337384 q^{103} + 2551854 q^{104} + 2784256 q^{105} + 3035154 q^{106} + 3308150 q^{107} + 3606032 q^{108} + 3928502 q^{109} + 4276428 q^{110} + 4654388 q^{111} + 5065992 q^{112} + 5511108 q^{113} + 5991072 q^{114} + 6511700 q^{115} + 7077610 q^{116} + 7688998 q^{117} + 8347846 q^{118} + 9061488 q^{119} + 9835884 q^{120} + 10671728 q^{121} + 11571842 q^{122} + 12545520 q^{123} + 13600448 q^{124} + 14738000 q^{125} + 15962192 q^{126} + 17284800 q^{127} + 18715652 q^{128} + 20257172 q^{129} + 21914980 q^{130} + 23703922 q^{131} + 25636632 q^{132} + 27717004 q^{133} + 29952742 q^{134} + 32362624 q^{135} + 34962872 q^{136} + 37759344 q^{137} + 40762580 q^{138} + 43996326 q^{139} + 47481292 q^{140} + 51226112 q^{141} + 55245068 q^{142} + 59568076 q^{143} + 64221654 q^{144} + 69218180 q^{145} + 74576768 q^{146} + 80335190 q^{147} + 86527342 q^{148} + 93170534 q^{149} + 100290282 q^{150} + 107934248 q^{151} + 116145594 q^{152} + 124948288 q^{153} + 134376180 q^{154} + 144489248 q^{155} + 155342520 q^{156} + 166968742 q^{157} + 179412448 q^{158} + 192749204 q^{159} + 207049050 q^{160} + 222356136 q^{161} + 238728898 q^{162} + 256262466 q^{163} + 275045728 q^{164} + 295137836 q^{165} + 316615110 q^{166} + 339597064 q^{167} + 364196516 q^{168} + 390492080 q^{169} + 418582852 q^{170} + 448619034 q^{171} + 480743594 q^{172} + 515060134 q^{173} + 551697004 q^{174} + 590842804 q^{175} + 632678270 q^{176} + 677339316 q^{177} + 724991552 q^{178} + 775871394 q^{179} + 830207206 q^{180} + 888176294 q^{181} + 949991420 q^{182} + 1015948872 q^{183} + 1086336760 q^{184} + 1161385040 q^{185} + 1241366400 q^{186} + 1326651804 q^{187} + 1417603968 q^{188} + 1514520064 q^{189} + 1617748496 q^{190} + 1727753024 q^{191} + 1844989898 q^{192} + 1969841524 q^{193} + 2102751540 q^{194} + 2244299380 q^{195} + 2395058092 q^{196} + 2555517638 q^{197} + 2726241654 q^{198} + 2907953352 q^{199} + O(q^{200})\\]</html>"
      ],
      "text/latex": [
       "$$\\newcommand{\\Bold}[1]{\\mathbf{#1}}1 + 2 q + 2 q^{2} + 2 q^{3} + 4 q^{4} + 6 q^{5} + 6 q^{6} + 8 q^{7} + 12 q^{8} + 16 q^{9} + 18 q^{10} + 22 q^{11} + 30 q^{12} + 38 q^{13} + 44 q^{14} + 52 q^{15} + 68 q^{16} + 84 q^{17} + 96 q^{18} + 114 q^{19} + 142 q^{20} + 172 q^{21} + 198 q^{22} + 232 q^{23} + 282 q^{24} + 336 q^{25} + 386 q^{26} + 448 q^{27} + 536 q^{28} + 630 q^{29} + 720 q^{30} + 832 q^{31} + 980 q^{32} + 1140 q^{33} + 1300 q^{34} + 1492 q^{35} + 1738 q^{36} + 2006 q^{37} + 2278 q^{38} + 2600 q^{39} + 3002 q^{40} + 3440 q^{41} + 3892 q^{42} + 4422 q^{43} + 5066 q^{44} + 5770 q^{45} + 6508 q^{46} + 7360 q^{47} + 8378 q^{48} + 9494 q^{49} + 10672 q^{50} + 12020 q^{51} + 13610 q^{52} + 15350 q^{53} + 17200 q^{54} + 19304 q^{55} + 21752 q^{56} + 24432 q^{57} + 27298 q^{58} + 30534 q^{59} + 34260 q^{60} + 38342 q^{61} + 42720 q^{62} + 47636 q^{63} + 53252 q^{64} + 59396 q^{65} + 66004 q^{66} + 73394 q^{67} + 81768 q^{68} + 90924 q^{69} + 100796 q^{70} + 111784 q^{71} + 124158 q^{72} + 137680 q^{73} + 152274 q^{74} + 168458 q^{75} + 186590 q^{76} + 206380 q^{77} + 227756 q^{78} + 251392 q^{79} + 277738 q^{80} + 306466 q^{81} + 337520 q^{82} + 371746 q^{83} + 409740 q^{84} + 451132 q^{85} + 495878 q^{86} + 545064 q^{87} + 599470 q^{88} + 658672 q^{89} + 722670 q^{90} + 792860 q^{91} + 870232 q^{92} + 954336 q^{93} + 1045248 q^{94} + 1144724 q^{95} + 1254058 q^{96} + 1372788 q^{97} + 1501078 q^{98} + 1641170 q^{99} + 1794746 q^{100} + 1961334 q^{101} + 2141260 q^{102} + 2337384 q^{103} + 2551854 q^{104} + 2784256 q^{105} + 3035154 q^{106} + 3308150 q^{107} + 3606032 q^{108} + 3928502 q^{109} + 4276428 q^{110} + 4654388 q^{111} + 5065992 q^{112} + 5511108 q^{113} + 5991072 q^{114} + 6511700 q^{115} + 7077610 q^{116} + 7688998 q^{117} + 8347846 q^{118} + 9061488 q^{119} + 9835884 q^{120} + 10671728 q^{121} + 11571842 q^{122} + 12545520 q^{123} + 13600448 q^{124} + 14738000 q^{125} + 15962192 q^{126} + 17284800 q^{127} + 18715652 q^{128} + 20257172 q^{129} + 21914980 q^{130} + 23703922 q^{131} + 25636632 q^{132} + 27717004 q^{133} + 29952742 q^{134} + 32362624 q^{135} + 34962872 q^{136} + 37759344 q^{137} + 40762580 q^{138} + 43996326 q^{139} + 47481292 q^{140} + 51226112 q^{141} + 55245068 q^{142} + 59568076 q^{143} + 64221654 q^{144} + 69218180 q^{145} + 74576768 q^{146} + 80335190 q^{147} + 86527342 q^{148} + 93170534 q^{149} + 100290282 q^{150} + 107934248 q^{151} + 116145594 q^{152} + 124948288 q^{153} + 134376180 q^{154} + 144489248 q^{155} + 155342520 q^{156} + 166968742 q^{157} + 179412448 q^{158} + 192749204 q^{159} + 207049050 q^{160} + 222356136 q^{161} + 238728898 q^{162} + 256262466 q^{163} + 275045728 q^{164} + 295137836 q^{165} + 316615110 q^{166} + 339597064 q^{167} + 364196516 q^{168} + 390492080 q^{169} + 418582852 q^{170} + 448619034 q^{171} + 480743594 q^{172} + 515060134 q^{173} + 551697004 q^{174} + 590842804 q^{175} + 632678270 q^{176} + 677339316 q^{177} + 724991552 q^{178} + 775871394 q^{179} + 830207206 q^{180} + 888176294 q^{181} + 949991420 q^{182} + 1015948872 q^{183} + 1086336760 q^{184} + 1161385040 q^{185} + 1241366400 q^{186} + 1326651804 q^{187} + 1417603968 q^{188} + 1514520064 q^{189} + 1617748496 q^{190} + 1727753024 q^{191} + 1844989898 q^{192} + 1969841524 q^{193} + 2102751540 q^{194} + 2244299380 q^{195} + 2395058092 q^{196} + 2555517638 q^{197} + 2726241654 q^{198} + 2907953352 q^{199} + O(q^{200})$$"
      ],
      "text/plain": [
       "1 + 2*q + 2*q^2 + 2*q^3 + 4*q^4 + 6*q^5 + 6*q^6 + 8*q^7 + 12*q^8 + 16*q^9 + 18*q^10 + 22*q^11 + 30*q^12 + 38*q^13 + 44*q^14 + 52*q^15 + 68*q^16 + 84*q^17 + 96*q^18 + 114*q^19 + 142*q^20 + 172*q^21 + 198*q^22 + 232*q^23 + 282*q^24 + 336*q^25 + 386*q^26 + 448*q^27 + 536*q^28 + 630*q^29 + 720*q^30 + 832*q^31 + 980*q^32 + 1140*q^33 + 1300*q^34 + 1492*q^35 + 1738*q^36 + 2006*q^37 + 2278*q^38 + 2600*q^39 + 3002*q^40 + 3440*q^41 + 3892*q^42 + 4422*q^43 + 5066*q^44 + 5770*q^45 + 6508*q^46 + 7360*q^47 + 8378*q^48 + 9494*q^49 + 10672*q^50 + 12020*q^51 + 13610*q^52 + 15350*q^53 + 17200*q^54 + 19304*q^55 + 21752*q^56 + 24432*q^57 + 27298*q^58 + 30534*q^59 + 34260*q^60 + 38342*q^61 + 42720*q^62 + 47636*q^63 + 53252*q^64 + 59396*q^65 + 66004*q^66 + 73394*q^67 + 81768*q^68 + 90924*q^69 + 100796*q^70 + 111784*q^71 + 124158*q^72 + 137680*q^73 + 152274*q^74 + 168458*q^75 + 186590*q^76 + 206380*q^77 + 227756*q^78 + 251392*q^79 + 277738*q^80 + 306466*q^81 + 337520*q^82 + 371746*q^83 + 409740*q^84 + 451132*q^85 + 495878*q^86 + 545064*q^87 + 599470*q^88 + 658672*q^89 + 722670*q^90 + 792860*q^91 + 870232*q^92 + 954336*q^93 + 1045248*q^94 + 1144724*q^95 + 1254058*q^96 + 1372788*q^97 + 1501078*q^98 + 1641170*q^99 + 1794746*q^100 + 1961334*q^101 + 2141260*q^102 + 2337384*q^103 + 2551854*q^104 + 2784256*q^105 + 3035154*q^106 + 3308150*q^107 + 3606032*q^108 + 3928502*q^109 + 4276428*q^110 + 4654388*q^111 + 5065992*q^112 + 5511108*q^113 + 5991072*q^114 + 6511700*q^115 + 7077610*q^116 + 7688998*q^117 + 8347846*q^118 + 9061488*q^119 + 9835884*q^120 + 10671728*q^121 + 11571842*q^122 + 12545520*q^123 + 13600448*q^124 + 14738000*q^125 + 15962192*q^126 + 17284800*q^127 + 18715652*q^128 + 20257172*q^129 + 21914980*q^130 + 23703922*q^131 + 25636632*q^132 + 27717004*q^133 + 29952742*q^134 + 32362624*q^135 + 34962872*q^136 + 37759344*q^137 + 40762580*q^138 + 43996326*q^139 + 47481292*q^140 + 51226112*q^141 + 55245068*q^142 + 59568076*q^143 + 64221654*q^144 + 69218180*q^145 + 74576768*q^146 + 80335190*q^147 + 86527342*q^148 + 93170534*q^149 + 100290282*q^150 + 107934248*q^151 + 116145594*q^152 + 124948288*q^153 + 134376180*q^154 + 144489248*q^155 + 155342520*q^156 + 166968742*q^157 + 179412448*q^158 + 192749204*q^159 + 207049050*q^160 + 222356136*q^161 + 238728898*q^162 + 256262466*q^163 + 275045728*q^164 + 295137836*q^165 + 316615110*q^166 + 339597064*q^167 + 364196516*q^168 + 390492080*q^169 + 418582852*q^170 + 448619034*q^171 + 480743594*q^172 + 515060134*q^173 + 551697004*q^174 + 590842804*q^175 + 632678270*q^176 + 677339316*q^177 + 724991552*q^178 + 775871394*q^179 + 830207206*q^180 + 888176294*q^181 + 949991420*q^182 + 1015948872*q^183 + 1086336760*q^184 + 1161385040*q^185 + 1241366400*q^186 + 1326651804*q^187 + 1417603968*q^188 + 1514520064*q^189 + 1617748496*q^190 + 1727753024*q^191 + 1844989898*q^192 + 1969841524*q^193 + 2102751540*q^194 + 2244299380*q^195 + 2395058092*q^196 + 2555517638*q^197 + 2726241654*q^198 + 2907953352*q^199 + O(q^200)"
      ]
     },
     "execution_count": 446,
     "metadata": {},
     "output_type": "execute_result"
    }
   ],
   "source": [
    "op147.add_bigoh(200)"
   ]
  },
  {
   "cell_type": "code",
   "execution_count": 447,
   "id": "699b83e6",
   "metadata": {},
   "outputs": [
    {
     "data": {
      "text/html": [
       "<html>\\[\\newcommand{\\Bold}[1]{\\mathbf{#1}}3 + 46 q + 317 q^{2} + 1298 q^{3} + 3545 q^{4} + 7054 q^{5} + 11681 q^{6} + 19222 q^{7} + 32067 q^{8} + 45568 q^{9} + 50955 q^{10} + O(q^{11})\\]</html>"
      ],
      "text/latex": [
       "$$\\newcommand{\\Bold}[1]{\\mathbf{#1}}3 + 46 q + 317 q^{2} + 1298 q^{3} + 3545 q^{4} + 7054 q^{5} + 11681 q^{6} + 19222 q^{7} + 32067 q^{8} + 45568 q^{9} + 50955 q^{10} + O(q^{11})$$"
      ],
      "text/plain": [
       "3 + 46*q + 317*q^2 + 1298*q^3 + 3545*q^4 + 7054*q^5 + 11681*q^6 + 19222*q^7 + 32067*q^8 + 45568*q^9 + 50955*q^10 + O(q^11)"
      ]
     },
     "execution_count": 447,
     "metadata": {},
     "output_type": "execute_result"
    }
   ],
   "source": [
    "Y1 = a^7*psi_n.V(2)*phi_n.V(8)*f_nq3_nq5.V(2)*O3\n",
    "Y1.add_bigoh(11)"
   ]
  },
  {
   "cell_type": "code",
   "execution_count": 448,
   "id": "f20e99f2",
   "metadata": {},
   "outputs": [
    {
     "data": {
      "text/html": [
       "<html>\\[\\newcommand{\\Bold}[1]{\\mathbf{#1}}3 + 317 q + 3545 q^{2} + 11681 q^{3} + 32067 q^{4} + 50955 q^{5} + O(q^{6})\\]</html>"
      ],
      "text/latex": [
       "$$\\newcommand{\\Bold}[1]{\\mathbf{#1}}3 + 317 q + 3545 q^{2} + 11681 q^{3} + 32067 q^{4} + 50955 q^{5} + O(q^{6})$$"
      ],
      "text/plain": [
       "3 + 317*q + 3545*q^2 + 11681*q^3 + 32067*q^4 + 50955*q^5 + O(q^6)"
      ]
     },
     "execution_count": 448,
     "metadata": {},
     "output_type": "execute_result"
    }
   ],
   "source": [
    "Z1 = psi_n*psi_n.V(2)*f_nq3_nq5*(1/8)*(33*a^10 + 17*a^8*b^2 -36*a^6*b^4 -14*a^4*b^6 + 7*a^2*b^8 +b^10)\n",
    "Y1_2n = - psi_n*phi_n.V(4)*f_nq3_nq5*psi.V(2)*phi.V(2)*a^8 + 4*Z1\n",
    "Y1_2n.add_bigoh(6)"
   ]
  },
  {
   "cell_type": "code",
   "execution_count": 449,
   "id": "76375d05",
   "metadata": {},
   "outputs": [
    {
     "data": {
      "text/html": [
       "<html>\\[\\newcommand{\\Bold}[1]{\\mathbf{#1}}3 + 46 q + 314 q^{2} + 1252 q^{3} + 3228 q^{4} + 5756 q^{5} + 8139 q^{6} + 12214 q^{7} + 20700 q^{8} + 27598 q^{9} + O(q^{10})\\]</html>"
      ],
      "text/latex": [
       "$$\\newcommand{\\Bold}[1]{\\mathbf{#1}}3 + 46 q + 314 q^{2} + 1252 q^{3} + 3228 q^{4} + 5756 q^{5} + 8139 q^{6} + 12214 q^{7} + 20700 q^{8} + 27598 q^{9} + O(q^{10})$$"
      ],
      "text/plain": [
       "3 + 46*q + 314*q^2 + 1252*q^3 + 3228*q^4 + 5756*q^5 + 8139*q^6 + 12214*q^7 + 20700*q^8 + 27598*q^9 + O(q^10)"
      ]
     },
     "execution_count": 449,
     "metadata": {},
     "output_type": "execute_result"
    }
   ],
   "source": [
    "Y2 = a^7*psi_n.V(2)*phi_n.V(8)*f_nq_nq7.V(2)*O3\n",
    "Y2.add_bigoh(10)"
   ]
  },
  {
   "cell_type": "code",
   "execution_count": 450,
   "id": "d118a4e5",
   "metadata": {},
   "outputs": [
    {
     "data": {
      "text/html": [
       "<html>\\[\\newcommand{\\Bold}[1]{\\mathbf{#1}}46 + 1252 q + 5756 q^{2} + 12214 q^{3} + 27598 q^{4} + 18126 q^{5} + O(q^{6})\\]</html>"
      ],
      "text/latex": [
       "$$\\newcommand{\\Bold}[1]{\\mathbf{#1}}46 + 1252 q + 5756 q^{2} + 12214 q^{3} + 27598 q^{4} + 18126 q^{5} + O(q^{6})$$"
      ],
      "text/plain": [
       "46 + 1252*q + 5756*q^2 + 12214*q^3 + 27598*q^4 + 18126*q^5 + O(q^6)"
      ]
     },
     "execution_count": 450,
     "metadata": {},
     "output_type": "execute_result"
    }
   ],
   "source": [
    "Z2 = psi_n*psi_n.V(2)*f_nq_nq7*phi.V(2)*psi.V(4)*((31/2)*a^8 + 8*a^6*b^2 -10*a^4*b^4 -3*a^2*b^6 + (1/2)*b^8)\n",
    "Y2_2n_plus_1 = 2*psi_n*phi_n.V(4)*f_nq_nq7*psi.V(2)*psi.V(4)*a^8 + 4*Z2\n",
    "Y2_2n_plus_1.add_bigoh(6)"
   ]
  },
  {
   "cell_type": "code",
   "execution_count": null,
   "id": "ceba92a7",
   "metadata": {},
   "outputs": [],
   "source": []
  },
  {
   "cell_type": "code",
   "execution_count": null,
   "id": "67d91dce",
   "metadata": {},
   "outputs": [],
   "source": []
  },
  {
   "cell_type": "code",
   "execution_count": null,
   "id": "e4af32ba",
   "metadata": {},
   "outputs": [],
   "source": []
  },
  {
   "cell_type": "code",
   "execution_count": 451,
   "id": "1fad184b",
   "metadata": {},
   "outputs": [
    {
     "data": {
      "text/html": [
       "<html>\\[\\newcommand{\\Bold}[1]{\\mathbf{#1}}16 + 2672 q + 94192 q^{2} + 1770608 q^{3} + 22880240 q^{4} + 228509744 q^{5} + O(q^{6})\\]</html>"
      ],
      "text/latex": [
       "$$\\newcommand{\\Bold}[1]{\\mathbf{#1}}16 + 2672 q + 94192 q^{2} + 1770608 q^{3} + 22880240 q^{4} + 228509744 q^{5} + O(q^{6})$$"
      ],
      "text/plain": [
       "16 + 2672*q + 94192*q^2 + 1770608*q^3 + 22880240*q^4 + 228509744*q^5 + O(q^6)"
      ]
     },
     "execution_count": 451,
     "metadata": {},
     "output_type": "execute_result"
    }
   ],
   "source": [
    "Z0 = q*psi_n*psi_n.V(2)*f_nq_nq7*psi.V(4)*a^9\n",
    "\n",
    "Z1 = psi_n*psi_n.V(2)*f_nq3_nq5*(1/8)*(33*a^10 + 17*a^8*b^2 -36*a^6*b^4 -14*a^4*b^6 + 7*a^2*b^8 +b^10)\n",
    "\n",
    "Z2 = psi_n*psi_n.V(2)*f_nq_nq7*phi.V(2)*psi.V(4)*((31/2)*a^8 + 8*a^6*b^2 -10*a^4*b^4 -3*a^2*b^6 + (1/2)*b^8)\n",
    "\n",
    "Z3 = psi_n*psi_n.V(2)*f_nq_nq7*phi*psi.V(4)*((31/2)*a^8 + 8*a^6*b^2 -14*a^4*b^4 -5*a^2*b^6 + (3/2)*b^8)\n",
    "\n",
    "Z4 = psi_n*psi_n.V(2)*f_nq3_nq5*(1/16)*(5*a^10 -6*a^6*b^4 + a^2*b^8)\n",
    "\n",
    "Z5 = psi_n*psi_n.V(2)*f_nq_nq7*phi.V(2)*psi.V(4)*(16*a^8 -10*a^4*b^4)\n",
    "\n",
    "Z6 = psi_n*psi_n.V(2)*f_nq_nq7*phi.V(2)^2*psi.V(4)*(16*a^7 -6*a^3*b^4)\n",
    "\n",
    "op345_32n_plus_14 = (16/phi_n^13)*(Z0 + Z1 -q*Z2 + q*Z3 + 12*Z4 -q*Z5 + 2*q*Z6)\n",
    "op345_32n_plus_14.add_bigoh(6)"
   ]
  },
  {
   "cell_type": "code",
   "execution_count": 457,
   "id": "12d4f9fe",
   "metadata": {},
   "outputs": [
    {
     "data": {
      "text/html": [
       "<html>\\[\\newcommand{\\Bold}[1]{\\mathbf{#1}}\\mathrm{True}\\]</html>"
      ],
      "text/latex": [
       "$$\\newcommand{\\Bold}[1]{\\mathbf{#1}}\\mathrm{True}$$"
      ],
      "text/plain": [
       "True"
      ]
     },
     "execution_count": 457,
     "metadata": {},
     "output_type": "execute_result"
    }
   ],
   "source": [
    "#terms = (319*a^10)/8 - (191*a^9*c)/4 + (271*a^8*b^2)/8 - 20*a^7*b^2*c - 25*a^6*b^4 + 30*a^5*b^4*c - (75*a^4*b^6)/4 + (17/2)*a^3*b^6*c + (9*a^2*b^8)/8 - (5/4)*a*b^8*c + (3*b^10)/8\n",
    "#terms1 = (1/8)*(63*a^10 + 17*a^8*b^2 - 72*a^6*b^4 - 14*a^4*b^6 + 13*a^2*b^8 + b^10)\n",
    "#terms2 = (1/4)*a*(65*a^8 + 48*a^6*b^2 - 40*a^4*b^4 - 22*a^2*b^6 + 3*b^8)*(a - c)\n",
    "#terms3 = (1/8)*(-63*a^8 - 16*a^6*b^2 + 40*a^4*b^4 + 6*a^2*b^6 - b^8)*(-a^2 + 2*a*c - b^2)\n",
    "#terms = terms1 + terms2 + terms3\n",
    "#terms = 32*a^10 - 32*a^9*c + 24*a^8*b^2 - 16*a^7*b^2*c - 22*a^6*b^4 + 20*a^5*b^4*c - 13*a^4*b^6 + 7*a^3*b^6*c + (7*a^2*b^8)/4 - a*b^8*c + b^10/4\n",
    "terms = 32*a^10 - 32*a^9*c + 24*a^8*b^2 - 16*a^7*b^2*c - 22*a^6*b^4 + 20*a^5*b^4*c - 13*a^4*b^6 + 7*a^3*b^6*c + 2*a^2*b^8 - a*b^8*c - 2*q*b^8*psi.V(4)^2\n",
    "op345_32n_plus_14_simplified = (16*psi_n*psi_n.V(2)*f_nq3_nq5/phi_n^13)*terms\n",
    "op345_32n_plus_14_simplified.truncate(test_precision) == op345_32n_plus_14.truncate(test_precision)"
   ]
  },
  {
   "cell_type": "code",
   "execution_count": 453,
   "id": "2e51c682",
   "metadata": {},
   "outputs": [],
   "source": [
    "#(Z1 + 12*Z4).truncate(test_precision) == (psi_n*psi_n.V(2)*f_nq3_nq5*terms1).truncate(test_precision)"
   ]
  },
  {
   "cell_type": "code",
   "execution_count": 454,
   "id": "ca0af016",
   "metadata": {},
   "outputs": [],
   "source": [
    "#(Z0 + q*Z3 + 2*q*Z6).truncate(test_precision) == (psi_n*psi_n.V(2)*f_nq3_nq5*(1/4)*a*(65*a^8 + 48*a^6*b^2 - 40*a^4*b^4 - 22*a^2*b^6 + 3*b^8)*(a-c)).truncate(test_precision)\n",
    "#(Z0 + q*Z3 + 2*q*Z6).truncate(test_precision) == (psi_n*psi_n.V(2)*f_nq3_nq5*terms2).truncate(test_precision)"
   ]
  },
  {
   "cell_type": "code",
   "execution_count": 455,
   "id": "3bb6026d",
   "metadata": {},
   "outputs": [
    {
     "data": {
      "text/html": [
       "<html>\\[\\newcommand{\\Bold}[1]{\\mathbf{#1}}1 + 2 q^{3} + 2 q^{4} + 2 q^{5} + 2 q^{6} + 4 q^{7} + 6 q^{8} + 6 q^{9} + 6 q^{10} + 10 q^{11} + 14 q^{12} + 14 q^{13} + 16 q^{14} + 24 q^{15} + 30 q^{16} + 32 q^{17} + 38 q^{18} + 50 q^{19} + 62 q^{20} + 68 q^{21} + 78 q^{22} + 100 q^{23} + 122 q^{24} + 134 q^{25} + 154 q^{26} + 192 q^{27} + 228 q^{28} + 254 q^{29} + 292 q^{30} + 352 q^{31} + 414 q^{32} + 464 q^{33} + 528 q^{34} + 628 q^{35} + 732 q^{36} + 818 q^{37} + 930 q^{38} + 1092 q^{39} + 1258 q^{40} + 1408 q^{41} + 1596 q^{42} + 1850 q^{43} + 2118 q^{44} + 2370 q^{45} + 2672 q^{46} + 3072 q^{47} + 3498 q^{48} + 3904 q^{49} + 4390 q^{50} + 5012 q^{51} + 5670 q^{52} + 6322 q^{53} + 7088 q^{54} + 8036 q^{55} + 9052 q^{56} + 10076 q^{57} + 11258 q^{58} + 12698 q^{59} + 14248 q^{60} + 15822 q^{61} + 17632 q^{62} + 19800 q^{63} + 22126 q^{64} + 24528 q^{65} + 27264 q^{66} + 30482 q^{67} + 33956 q^{68} + 37572 q^{69} + 41652 q^{70} + 46404 q^{71} + 51540 q^{72} + 56912 q^{73} + 62950 q^{74} + 69910 q^{75} + 77422 q^{76} + 85340 q^{77} + 94192 q^{78} + 104288 q^{79} + 115210 q^{80} + 126768 q^{81} + 139616 q^{82} + 154178 q^{83} + 169932 q^{84} + 186644 q^{85} + 205166 q^{86} + 226020 q^{87} + 248562 q^{88} + 272560 q^{89} + 299062 q^{90} + 328708 q^{91} + 360772 q^{92} + 394976 q^{93} + 432608 q^{94} + 474520 q^{95} + 519834 q^{96} + 568224 q^{97} + 621344 q^{98} + 680242 q^{99} + 743868 q^{100} + 811922 q^{101} + 886436 q^{102} + 968708 q^{103} + 1057570 q^{104} + 1152696 q^{105} + 1256582 q^{106} + 1370922 q^{107} + 1494352 q^{108} + 1626526 q^{109} + 1770608 q^{110} + 1928696 q^{111} + 2099212 q^{112} + 2281920 q^{113} + 2480700 q^{114} + 2698164 q^{115} + 2932614 q^{116} + 3183874 q^{117} + 3456718 q^{118} + 3754504 q^{119} + 4075336 q^{120} + 4419146 q^{121} + 4791930 q^{122} + 5197872 q^{123} + 5634880 q^{124} + 6103216 q^{125} + 6610244 q^{126} + 7161184 q^{127} + 7753934 q^{128} + 8389072 q^{129} + 9075664 q^{130} + 9820370 q^{131} + 10621028 q^{132} + 11478692 q^{133} + 12404674 q^{134} + 13407296 q^{135} + 14484428 q^{136} + 15637984 q^{137} + 16881884 q^{138} + 18226522 q^{139} + 19670156 q^{140} + 21215680 q^{141} + 22880240 q^{142} + 24677032 q^{143} + 26604764 q^{144} + 28667696 q^{145} + 30887152 q^{146} + 33279638 q^{147} + 35844638 q^{148} + 38588482 q^{149} + 41537442 q^{150} + 44712164 q^{151} + 48113594 q^{152} + 51750588 q^{153} + 55655524 q^{154} + 59854496 q^{155} + 64350308 q^{156} + 69155182 q^{157} + 74309312 q^{158} + 79845336 q^{159} + 85768730 q^{160} + 92096448 q^{161} + 98878048 q^{162} + 106154370 q^{163} + 113934928 q^{164} + 122242564 q^{165} + 131138402 q^{166} + 140673860 q^{167} + 150863652 q^{168} + 161738282 q^{169} + 173373516 q^{170} + 185833638 q^{171} + 199140390 q^{172} + 213334606 q^{173} + 228509744 q^{174} + 244746168 q^{175} + 262075410 q^{176} + 280551216 q^{177} + 300288912 q^{178} + 321389314 q^{179} + 343896490 q^{180} + 367880770 q^{181} + 393484908 q^{182} + 420834788 q^{183} + 449990908 q^{184} + 481045324 q^{185} + 514174144 q^{186} + 549534468 q^{187} + 587208736 q^{188} + 627316160 q^{189} + 670074020 q^{190} + 715678752 q^{191} + 764240666 q^{192} + 815913504 q^{193} + 870965840 q^{194} + 929642452 q^{195} + 992089526 q^{196} + 1058505154 q^{197} + 1129220530 q^{198} + 1204540420 q^{199} + 1284657652 q^{200} + 1369825660 q^{201} + 1460452774 q^{202} + 1556918820 q^{203} + 1659475420 q^{204} + 1768445744 q^{205} + 1884333744 q^{206} + 2007611512 q^{207} + 2138605394 q^{208} + 2277726896 q^{209} + 2425596856 q^{210} + 2582801506 q^{211} + 2749762590 q^{212} + 2927001508 q^{213} + 3115282766 q^{214} + 3315334500 q^{215} + 3527697936 q^{216} + 3753031872 q^{217} + 3992278170 q^{218} + 4246339232 q^{219} + 4515906564 q^{220} + 4801811276 q^{221} + 5105211972 q^{222} + 5427225952 q^{223} + 5768734124 q^{224} + 6130781088 q^{225} + 6514791264 q^{226} + 6922147650 q^{227} + 7353966952 q^{228} + 7811558946 q^{229} + 8296674900 q^{230} + 8811023560 q^{231} + 9356015714 q^{232} + 9933291088 q^{233} + 10544999942 q^{234} + 11193251328 q^{235} + 11879823142 q^{236} + 12606762144 q^{237} + 13376706752 q^{238} + 14192258592 q^{239} + 15055649976 q^{240} + 15969430432 q^{241} + 16936836394 q^{242} + 17961072050 q^{243} + 19044932518 q^{244} + 20191588758 q^{245} + 21405006032 q^{246} + 22689126436 q^{247} + 24047442304 q^{248} + 25483887996 q^{249} + 27003318096 q^{250} + 28610578874 q^{251} + 30310021160 q^{252} + 32106517596 q^{253} + 34006008480 q^{254} + 36014443216 q^{255} + 38137229678 q^{256} + 40380393664 q^{257} + 42751196000 q^{258} + 45256932436 q^{259} + 47904311972 q^{260} + 50700771378 q^{261} + 53655178306 q^{262} + 56776471876 q^{263} + 60072955532 q^{264} + 63553792364 q^{265} + 67229805372 q^{266} + 71111932960 q^{267} + 75210431726 q^{268} + 79536575966 q^{269} + 84103561344 q^{270} + 88924758400 q^{271} + 94012814748 q^{272} + 99381578112 q^{273} + 105047123136 q^{274} + 111025778322 q^{275} + 117333108588 q^{276} + 123986097106 q^{277} + 131004311150 q^{278} + 138407667392 q^{279} + 146215287940 q^{280} + 154447973776 q^{281} + 163129519584 q^{282} + 172284193290 q^{283} + 181935450916 q^{284} + 192108730212 q^{285} + 202832941148 q^{286} + 214137625632 q^{287} + 226051506380 q^{288} + 238605648896 q^{289} + 251835150160 q^{290} + 265775931316 q^{291} + 280463110256 q^{292} + 295934578050 q^{293} + 312232901046 q^{294} + 329401712516 q^{295} + 347483889066 q^{296} + 366525582880 q^{297} + 386578373670 q^{298} + 407695212292 q^{299} + 429928368842 q^{300} + 453333986684 q^{301} + 477974515760 q^{302} + 503914145208 q^{303} + 531216508074 q^{304} + 559949821616 q^{305} + 590189625148 q^{306} + 622013653970 q^{307} + 655499274268 q^{308} + 690729268900 q^{309} + 727794929536 q^{310} + 766790307940 q^{311} + 807809339356 q^{312} + 850952364352 q^{313} + 896329619130 q^{314} + 944054780572 q^{315} + 994241757024 q^{316} + 1047012035742 q^{317} + 1102498606436 q^{318} + 1160838733864 q^{319} + 1222170381306 q^{320} + 1286640468112 q^{321} + 1354409294176 q^{322} + 1425642454068 q^{323} + 1500506839378 q^{324} + 1579179930530 q^{325} + 1661854783682 q^{326} + 1748730975684 q^{327} + 1840010156848 q^{328} + 1935906500928 q^{329} + 2036652306684 q^{330} + 2142487883274 q^{331} + 2253656608078 q^{332} + 2370416655090 q^{333} + 2493047303312 q^{334} + 2621837647864 q^{335} + 2757081094500 q^{336} + 2899088536064 q^{337} + 3048195454346 q^{338} + 3204749311044 q^{339} + 3369103441532 q^{340} + 3541631850976 q^{341} + 3722737186258 q^{342} + 3912836685256 q^{343} + 4112355411378 q^{344} + 4321742839480 q^{345} + 4541481824218 q^{346} + 4772072955610 q^{347} + 5014027049028 q^{348} + 5267883752574 q^{349} + 5534221633860 q^{350} + 5813640751616 q^{351} + 6106754352770 q^{352} + 6414209739072 q^{353} + 6736699583808 q^{354} + 7074942557972 q^{355} + 7429674161104 q^{356} + 7801670086376 q^{357} + 8191758941602 q^{358} + 8600800730372 q^{359} + 9029676711950 q^{360} + 9479315581862 q^{361} + 9950707768678 q^{362} + 10444881524666 q^{363} + 10962891754172 q^{364} + 11505849338912 q^{365} + 12074937172752 q^{366} + 12671383649664 q^{367} + 13296450371564 q^{368} + 13951464953552 q^{369} + 14637839038188 q^{370} + 15357038922260 q^{371} + 16110572018048 q^{372} + 16900023573298 q^{373} + 17727076906332 q^{374} + 18593480858240 q^{375} + 19501034935584 q^{376} + 20451630400180 q^{377} + 21447272960992 q^{378} + 22490046776730 q^{379} + 23582098175944 q^{380} + 24725681586272 q^{381} + 25923185018464 q^{382} + 27177090289728 q^{383} + 28489955174074 q^{384} + 29864464768000 q^{385} + 31303460107920 q^{386} + 32809894218626 q^{387} + 34386812614404 q^{388} + 36037410730418 q^{389} + 37765066016020 q^{390} + 39573289458632 q^{391} + 41465704320226 q^{392} + 43446110292348 q^{393} + 45518519533062 q^{394} + 47687103252640 q^{395} + 49956168522302 q^{396} + 52330229973310 q^{397} + 54814050262352 q^{398} + 57412581227056 q^{399} + O(q^{400})\\]</html>"
      ],
      "text/latex": [
       "$$\\newcommand{\\Bold}[1]{\\mathbf{#1}}1 + 2 q^{3} + 2 q^{4} + 2 q^{5} + 2 q^{6} + 4 q^{7} + 6 q^{8} + 6 q^{9} + 6 q^{10} + 10 q^{11} + 14 q^{12} + 14 q^{13} + 16 q^{14} + 24 q^{15} + 30 q^{16} + 32 q^{17} + 38 q^{18} + 50 q^{19} + 62 q^{20} + 68 q^{21} + 78 q^{22} + 100 q^{23} + 122 q^{24} + 134 q^{25} + 154 q^{26} + 192 q^{27} + 228 q^{28} + 254 q^{29} + 292 q^{30} + 352 q^{31} + 414 q^{32} + 464 q^{33} + 528 q^{34} + 628 q^{35} + 732 q^{36} + 818 q^{37} + 930 q^{38} + 1092 q^{39} + 1258 q^{40} + 1408 q^{41} + 1596 q^{42} + 1850 q^{43} + 2118 q^{44} + 2370 q^{45} + 2672 q^{46} + 3072 q^{47} + 3498 q^{48} + 3904 q^{49} + 4390 q^{50} + 5012 q^{51} + 5670 q^{52} + 6322 q^{53} + 7088 q^{54} + 8036 q^{55} + 9052 q^{56} + 10076 q^{57} + 11258 q^{58} + 12698 q^{59} + 14248 q^{60} + 15822 q^{61} + 17632 q^{62} + 19800 q^{63} + 22126 q^{64} + 24528 q^{65} + 27264 q^{66} + 30482 q^{67} + 33956 q^{68} + 37572 q^{69} + 41652 q^{70} + 46404 q^{71} + 51540 q^{72} + 56912 q^{73} + 62950 q^{74} + 69910 q^{75} + 77422 q^{76} + 85340 q^{77} + 94192 q^{78} + 104288 q^{79} + 115210 q^{80} + 126768 q^{81} + 139616 q^{82} + 154178 q^{83} + 169932 q^{84} + 186644 q^{85} + 205166 q^{86} + 226020 q^{87} + 248562 q^{88} + 272560 q^{89} + 299062 q^{90} + 328708 q^{91} + 360772 q^{92} + 394976 q^{93} + 432608 q^{94} + 474520 q^{95} + 519834 q^{96} + 568224 q^{97} + 621344 q^{98} + 680242 q^{99} + 743868 q^{100} + 811922 q^{101} + 886436 q^{102} + 968708 q^{103} + 1057570 q^{104} + 1152696 q^{105} + 1256582 q^{106} + 1370922 q^{107} + 1494352 q^{108} + 1626526 q^{109} + 1770608 q^{110} + 1928696 q^{111} + 2099212 q^{112} + 2281920 q^{113} + 2480700 q^{114} + 2698164 q^{115} + 2932614 q^{116} + 3183874 q^{117} + 3456718 q^{118} + 3754504 q^{119} + 4075336 q^{120} + 4419146 q^{121} + 4791930 q^{122} + 5197872 q^{123} + 5634880 q^{124} + 6103216 q^{125} + 6610244 q^{126} + 7161184 q^{127} + 7753934 q^{128} + 8389072 q^{129} + 9075664 q^{130} + 9820370 q^{131} + 10621028 q^{132} + 11478692 q^{133} + 12404674 q^{134} + 13407296 q^{135} + 14484428 q^{136} + 15637984 q^{137} + 16881884 q^{138} + 18226522 q^{139} + 19670156 q^{140} + 21215680 q^{141} + 22880240 q^{142} + 24677032 q^{143} + 26604764 q^{144} + 28667696 q^{145} + 30887152 q^{146} + 33279638 q^{147} + 35844638 q^{148} + 38588482 q^{149} + 41537442 q^{150} + 44712164 q^{151} + 48113594 q^{152} + 51750588 q^{153} + 55655524 q^{154} + 59854496 q^{155} + 64350308 q^{156} + 69155182 q^{157} + 74309312 q^{158} + 79845336 q^{159} + 85768730 q^{160} + 92096448 q^{161} + 98878048 q^{162} + 106154370 q^{163} + 113934928 q^{164} + 122242564 q^{165} + 131138402 q^{166} + 140673860 q^{167} + 150863652 q^{168} + 161738282 q^{169} + 173373516 q^{170} + 185833638 q^{171} + 199140390 q^{172} + 213334606 q^{173} + 228509744 q^{174} + 244746168 q^{175} + 262075410 q^{176} + 280551216 q^{177} + 300288912 q^{178} + 321389314 q^{179} + 343896490 q^{180} + 367880770 q^{181} + 393484908 q^{182} + 420834788 q^{183} + 449990908 q^{184} + 481045324 q^{185} + 514174144 q^{186} + 549534468 q^{187} + 587208736 q^{188} + 627316160 q^{189} + 670074020 q^{190} + 715678752 q^{191} + 764240666 q^{192} + 815913504 q^{193} + 870965840 q^{194} + 929642452 q^{195} + 992089526 q^{196} + 1058505154 q^{197} + 1129220530 q^{198} + 1204540420 q^{199} + 1284657652 q^{200} + 1369825660 q^{201} + 1460452774 q^{202} + 1556918820 q^{203} + 1659475420 q^{204} + 1768445744 q^{205} + 1884333744 q^{206} + 2007611512 q^{207} + 2138605394 q^{208} + 2277726896 q^{209} + 2425596856 q^{210} + 2582801506 q^{211} + 2749762590 q^{212} + 2927001508 q^{213} + 3115282766 q^{214} + 3315334500 q^{215} + 3527697936 q^{216} + 3753031872 q^{217} + 3992278170 q^{218} + 4246339232 q^{219} + 4515906564 q^{220} + 4801811276 q^{221} + 5105211972 q^{222} + 5427225952 q^{223} + 5768734124 q^{224} + 6130781088 q^{225} + 6514791264 q^{226} + 6922147650 q^{227} + 7353966952 q^{228} + 7811558946 q^{229} + 8296674900 q^{230} + 8811023560 q^{231} + 9356015714 q^{232} + 9933291088 q^{233} + 10544999942 q^{234} + 11193251328 q^{235} + 11879823142 q^{236} + 12606762144 q^{237} + 13376706752 q^{238} + 14192258592 q^{239} + 15055649976 q^{240} + 15969430432 q^{241} + 16936836394 q^{242} + 17961072050 q^{243} + 19044932518 q^{244} + 20191588758 q^{245} + 21405006032 q^{246} + 22689126436 q^{247} + 24047442304 q^{248} + 25483887996 q^{249} + 27003318096 q^{250} + 28610578874 q^{251} + 30310021160 q^{252} + 32106517596 q^{253} + 34006008480 q^{254} + 36014443216 q^{255} + 38137229678 q^{256} + 40380393664 q^{257} + 42751196000 q^{258} + 45256932436 q^{259} + 47904311972 q^{260} + 50700771378 q^{261} + 53655178306 q^{262} + 56776471876 q^{263} + 60072955532 q^{264} + 63553792364 q^{265} + 67229805372 q^{266} + 71111932960 q^{267} + 75210431726 q^{268} + 79536575966 q^{269} + 84103561344 q^{270} + 88924758400 q^{271} + 94012814748 q^{272} + 99381578112 q^{273} + 105047123136 q^{274} + 111025778322 q^{275} + 117333108588 q^{276} + 123986097106 q^{277} + 131004311150 q^{278} + 138407667392 q^{279} + 146215287940 q^{280} + 154447973776 q^{281} + 163129519584 q^{282} + 172284193290 q^{283} + 181935450916 q^{284} + 192108730212 q^{285} + 202832941148 q^{286} + 214137625632 q^{287} + 226051506380 q^{288} + 238605648896 q^{289} + 251835150160 q^{290} + 265775931316 q^{291} + 280463110256 q^{292} + 295934578050 q^{293} + 312232901046 q^{294} + 329401712516 q^{295} + 347483889066 q^{296} + 366525582880 q^{297} + 386578373670 q^{298} + 407695212292 q^{299} + 429928368842 q^{300} + 453333986684 q^{301} + 477974515760 q^{302} + 503914145208 q^{303} + 531216508074 q^{304} + 559949821616 q^{305} + 590189625148 q^{306} + 622013653970 q^{307} + 655499274268 q^{308} + 690729268900 q^{309} + 727794929536 q^{310} + 766790307940 q^{311} + 807809339356 q^{312} + 850952364352 q^{313} + 896329619130 q^{314} + 944054780572 q^{315} + 994241757024 q^{316} + 1047012035742 q^{317} + 1102498606436 q^{318} + 1160838733864 q^{319} + 1222170381306 q^{320} + 1286640468112 q^{321} + 1354409294176 q^{322} + 1425642454068 q^{323} + 1500506839378 q^{324} + 1579179930530 q^{325} + 1661854783682 q^{326} + 1748730975684 q^{327} + 1840010156848 q^{328} + 1935906500928 q^{329} + 2036652306684 q^{330} + 2142487883274 q^{331} + 2253656608078 q^{332} + 2370416655090 q^{333} + 2493047303312 q^{334} + 2621837647864 q^{335} + 2757081094500 q^{336} + 2899088536064 q^{337} + 3048195454346 q^{338} + 3204749311044 q^{339} + 3369103441532 q^{340} + 3541631850976 q^{341} + 3722737186258 q^{342} + 3912836685256 q^{343} + 4112355411378 q^{344} + 4321742839480 q^{345} + 4541481824218 q^{346} + 4772072955610 q^{347} + 5014027049028 q^{348} + 5267883752574 q^{349} + 5534221633860 q^{350} + 5813640751616 q^{351} + 6106754352770 q^{352} + 6414209739072 q^{353} + 6736699583808 q^{354} + 7074942557972 q^{355} + 7429674161104 q^{356} + 7801670086376 q^{357} + 8191758941602 q^{358} + 8600800730372 q^{359} + 9029676711950 q^{360} + 9479315581862 q^{361} + 9950707768678 q^{362} + 10444881524666 q^{363} + 10962891754172 q^{364} + 11505849338912 q^{365} + 12074937172752 q^{366} + 12671383649664 q^{367} + 13296450371564 q^{368} + 13951464953552 q^{369} + 14637839038188 q^{370} + 15357038922260 q^{371} + 16110572018048 q^{372} + 16900023573298 q^{373} + 17727076906332 q^{374} + 18593480858240 q^{375} + 19501034935584 q^{376} + 20451630400180 q^{377} + 21447272960992 q^{378} + 22490046776730 q^{379} + 23582098175944 q^{380} + 24725681586272 q^{381} + 25923185018464 q^{382} + 27177090289728 q^{383} + 28489955174074 q^{384} + 29864464768000 q^{385} + 31303460107920 q^{386} + 32809894218626 q^{387} + 34386812614404 q^{388} + 36037410730418 q^{389} + 37765066016020 q^{390} + 39573289458632 q^{391} + 41465704320226 q^{392} + 43446110292348 q^{393} + 45518519533062 q^{394} + 47687103252640 q^{395} + 49956168522302 q^{396} + 52330229973310 q^{397} + 54814050262352 q^{398} + 57412581227056 q^{399} + O(q^{400})$$"
      ],
      "text/plain": [
       "1 + 2*q^3 + 2*q^4 + 2*q^5 + 2*q^6 + 4*q^7 + 6*q^8 + 6*q^9 + 6*q^10 + 10*q^11 + 14*q^12 + 14*q^13 + 16*q^14 + 24*q^15 + 30*q^16 + 32*q^17 + 38*q^18 + 50*q^19 + 62*q^20 + 68*q^21 + 78*q^22 + 100*q^23 + 122*q^24 + 134*q^25 + 154*q^26 + 192*q^27 + 228*q^28 + 254*q^29 + 292*q^30 + 352*q^31 + 414*q^32 + 464*q^33 + 528*q^34 + 628*q^35 + 732*q^36 + 818*q^37 + 930*q^38 + 1092*q^39 + 1258*q^40 + 1408*q^41 + 1596*q^42 + 1850*q^43 + 2118*q^44 + 2370*q^45 + 2672*q^46 + 3072*q^47 + 3498*q^48 + 3904*q^49 + 4390*q^50 + 5012*q^51 + 5670*q^52 + 6322*q^53 + 7088*q^54 + 8036*q^55 + 9052*q^56 + 10076*q^57 + 11258*q^58 + 12698*q^59 + 14248*q^60 + 15822*q^61 + 17632*q^62 + 19800*q^63 + 22126*q^64 + 24528*q^65 + 27264*q^66 + 30482*q^67 + 33956*q^68 + 37572*q^69 + 41652*q^70 + 46404*q^71 + 51540*q^72 + 56912*q^73 + 62950*q^74 + 69910*q^75 + 77422*q^76 + 85340*q^77 + 94192*q^78 + 104288*q^79 + 115210*q^80 + 126768*q^81 + 139616*q^82 + 154178*q^83 + 169932*q^84 + 186644*q^85 + 205166*q^86 + 226020*q^87 + 248562*q^88 + 272560*q^89 + 299062*q^90 + 328708*q^91 + 360772*q^92 + 394976*q^93 + 432608*q^94 + 474520*q^95 + 519834*q^96 + 568224*q^97 + 621344*q^98 + 680242*q^99 + 743868*q^100 + 811922*q^101 + 886436*q^102 + 968708*q^103 + 1057570*q^104 + 1152696*q^105 + 1256582*q^106 + 1370922*q^107 + 1494352*q^108 + 1626526*q^109 + 1770608*q^110 + 1928696*q^111 + 2099212*q^112 + 2281920*q^113 + 2480700*q^114 + 2698164*q^115 + 2932614*q^116 + 3183874*q^117 + 3456718*q^118 + 3754504*q^119 + 4075336*q^120 + 4419146*q^121 + 4791930*q^122 + 5197872*q^123 + 5634880*q^124 + 6103216*q^125 + 6610244*q^126 + 7161184*q^127 + 7753934*q^128 + 8389072*q^129 + 9075664*q^130 + 9820370*q^131 + 10621028*q^132 + 11478692*q^133 + 12404674*q^134 + 13407296*q^135 + 14484428*q^136 + 15637984*q^137 + 16881884*q^138 + 18226522*q^139 + 19670156*q^140 + 21215680*q^141 + 22880240*q^142 + 24677032*q^143 + 26604764*q^144 + 28667696*q^145 + 30887152*q^146 + 33279638*q^147 + 35844638*q^148 + 38588482*q^149 + 41537442*q^150 + 44712164*q^151 + 48113594*q^152 + 51750588*q^153 + 55655524*q^154 + 59854496*q^155 + 64350308*q^156 + 69155182*q^157 + 74309312*q^158 + 79845336*q^159 + 85768730*q^160 + 92096448*q^161 + 98878048*q^162 + 106154370*q^163 + 113934928*q^164 + 122242564*q^165 + 131138402*q^166 + 140673860*q^167 + 150863652*q^168 + 161738282*q^169 + 173373516*q^170 + 185833638*q^171 + 199140390*q^172 + 213334606*q^173 + 228509744*q^174 + 244746168*q^175 + 262075410*q^176 + 280551216*q^177 + 300288912*q^178 + 321389314*q^179 + 343896490*q^180 + 367880770*q^181 + 393484908*q^182 + 420834788*q^183 + 449990908*q^184 + 481045324*q^185 + 514174144*q^186 + 549534468*q^187 + 587208736*q^188 + 627316160*q^189 + 670074020*q^190 + 715678752*q^191 + 764240666*q^192 + 815913504*q^193 + 870965840*q^194 + 929642452*q^195 + 992089526*q^196 + 1058505154*q^197 + 1129220530*q^198 + 1204540420*q^199 + 1284657652*q^200 + 1369825660*q^201 + 1460452774*q^202 + 1556918820*q^203 + 1659475420*q^204 + 1768445744*q^205 + 1884333744*q^206 + 2007611512*q^207 + 2138605394*q^208 + 2277726896*q^209 + 2425596856*q^210 + 2582801506*q^211 + 2749762590*q^212 + 2927001508*q^213 + 3115282766*q^214 + 3315334500*q^215 + 3527697936*q^216 + 3753031872*q^217 + 3992278170*q^218 + 4246339232*q^219 + 4515906564*q^220 + 4801811276*q^221 + 5105211972*q^222 + 5427225952*q^223 + 5768734124*q^224 + 6130781088*q^225 + 6514791264*q^226 + 6922147650*q^227 + 7353966952*q^228 + 7811558946*q^229 + 8296674900*q^230 + 8811023560*q^231 + 9356015714*q^232 + 9933291088*q^233 + 10544999942*q^234 + 11193251328*q^235 + 11879823142*q^236 + 12606762144*q^237 + 13376706752*q^238 + 14192258592*q^239 + 15055649976*q^240 + 15969430432*q^241 + 16936836394*q^242 + 17961072050*q^243 + 19044932518*q^244 + 20191588758*q^245 + 21405006032*q^246 + 22689126436*q^247 + 24047442304*q^248 + 25483887996*q^249 + 27003318096*q^250 + 28610578874*q^251 + 30310021160*q^252 + 32106517596*q^253 + 34006008480*q^254 + 36014443216*q^255 + 38137229678*q^256 + 40380393664*q^257 + 42751196000*q^258 + 45256932436*q^259 + 47904311972*q^260 + 50700771378*q^261 + 53655178306*q^262 + 56776471876*q^263 + 60072955532*q^264 + 63553792364*q^265 + 67229805372*q^266 + 71111932960*q^267 + 75210431726*q^268 + 79536575966*q^269 + 84103561344*q^270 + 88924758400*q^271 + 94012814748*q^272 + 99381578112*q^273 + 105047123136*q^274 + 111025778322*q^275 + 117333108588*q^276 + 123986097106*q^277 + 131004311150*q^278 + 138407667392*q^279 + 146215287940*q^280 + 154447973776*q^281 + 163129519584*q^282 + 172284193290*q^283 + 181935450916*q^284 + 192108730212*q^285 + 202832941148*q^286 + 214137625632*q^287 + 226051506380*q^288 + 238605648896*q^289 + 251835150160*q^290 + 265775931316*q^291 + 280463110256*q^292 + 295934578050*q^293 + 312232901046*q^294 + 329401712516*q^295 + 347483889066*q^296 + 366525582880*q^297 + 386578373670*q^298 + 407695212292*q^299 + 429928368842*q^300 + 453333986684*q^301 + 477974515760*q^302 + 503914145208*q^303 + 531216508074*q^304 + 559949821616*q^305 + 590189625148*q^306 + 622013653970*q^307 + 655499274268*q^308 + 690729268900*q^309 + 727794929536*q^310 + 766790307940*q^311 + 807809339356*q^312 + 850952364352*q^313 + 896329619130*q^314 + 944054780572*q^315 + 994241757024*q^316 + 1047012035742*q^317 + 1102498606436*q^318 + 1160838733864*q^319 + 1222170381306*q^320 + 1286640468112*q^321 + 1354409294176*q^322 + 1425642454068*q^323 + 1500506839378*q^324 + 1579179930530*q^325 + 1661854783682*q^326 + 1748730975684*q^327 + 1840010156848*q^328 + 1935906500928*q^329 + 2036652306684*q^330 + 2142487883274*q^331 + 2253656608078*q^332 + 2370416655090*q^333 + 2493047303312*q^334 + 2621837647864*q^335 + 2757081094500*q^336 + 2899088536064*q^337 + 3048195454346*q^338 + 3204749311044*q^339 + 3369103441532*q^340 + 3541631850976*q^341 + 3722737186258*q^342 + 3912836685256*q^343 + 4112355411378*q^344 + 4321742839480*q^345 + 4541481824218*q^346 + 4772072955610*q^347 + 5014027049028*q^348 + 5267883752574*q^349 + 5534221633860*q^350 + 5813640751616*q^351 + 6106754352770*q^352 + 6414209739072*q^353 + 6736699583808*q^354 + 7074942557972*q^355 + 7429674161104*q^356 + 7801670086376*q^357 + 8191758941602*q^358 + 8600800730372*q^359 + 9029676711950*q^360 + 9479315581862*q^361 + 9950707768678*q^362 + 10444881524666*q^363 + 10962891754172*q^364 + 11505849338912*q^365 + 12074937172752*q^366 + 12671383649664*q^367 + 13296450371564*q^368 + 13951464953552*q^369 + 14637839038188*q^370 + 15357038922260*q^371 + 16110572018048*q^372 + 16900023573298*q^373 + 17727076906332*q^374 + 18593480858240*q^375 + 19501034935584*q^376 + 20451630400180*q^377 + 21447272960992*q^378 + 22490046776730*q^379 + 23582098175944*q^380 + 24725681586272*q^381 + 25923185018464*q^382 + 27177090289728*q^383 + 28489955174074*q^384 + 29864464768000*q^385 + 31303460107920*q^386 + 32809894218626*q^387 + 34386812614404*q^388 + 36037410730418*q^389 + 37765066016020*q^390 + 39573289458632*q^391 + 41465704320226*q^392 + 43446110292348*q^393 + 45518519533062*q^394 + 47687103252640*q^395 + 49956168522302*q^396 + 52330229973310*q^397 + 54814050262352*q^398 + 57412581227056*q^399 + O(q^400)"
      ]
     },
     "execution_count": 455,
     "metadata": {},
     "output_type": "execute_result"
    }
   ],
   "source": [
    "op345.add_bigoh(400)"
   ]
  }
 ],
 "metadata": {
  "kernelspec": {
   "display_name": "SageMath 9.5",
   "language": "sage",
   "name": "sagemath"
  },
  "language_info": {
   "codemirror_mode": {
    "name": "ipython",
    "version": 3
   },
   "file_extension": ".py",
   "mimetype": "text/x-python",
   "name": "python",
   "nbconvert_exporter": "python",
   "pygments_lexer": "ipython3",
   "version": "3.9.9"
  }
 },
 "nbformat": 4,
 "nbformat_minor": 5
}
