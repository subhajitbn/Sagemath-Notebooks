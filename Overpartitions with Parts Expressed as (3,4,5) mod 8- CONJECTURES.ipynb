{
 "cells": [
  {
   "cell_type": "markdown",
   "id": "d75a000e",
   "metadata": {},
   "source": [
    "# Ramanujan's Theta Functions\n",
    "\n",
    "## Definitions\n",
    "\n",
    "Let $a$ and $b$ be integers. Then we define \n",
    "$$\n",
    "f(a,b) := (-q^a;q^{a+b})_{\\infty}(-q^b;q^{a+b})_{\\infty}(q^{a+b};q^{a+b})_{\\infty}.\n",
    "$$\n",
    "\n",
    "For the ease of programming, we break the above into two different functions defined below.\n",
    "\n",
    "$$\n",
    "sf(a,b) :=  (-q^a;q^{a+b})_{\\infty}\n",
    "$$\n",
    "and\n",
    "$$\n",
    "f_n := (q^{n};q^{n})_{\\infty}.\n",
    "$$\n",
    "\n",
    "This implies,\n",
    "\n",
    "$$\n",
    "f(a,b) \\quad = \\quad sf(a,b) \\; sf(b,a) \\; f_{a+b}.\n",
    "$$\n",
    "\n",
    "Note that, to avoid confusion, we rename $f(a,b)$ to $ftheta(a,b)$ and $f_n$ to $f(n)$ in the following code. "
   ]
  },
  {
   "cell_type": "code",
   "execution_count": 56,
   "id": "e269b40b",
   "metadata": {},
   "outputs": [],
   "source": [
    "%display latex"
   ]
  },
  {
   "cell_type": "code",
   "execution_count": 57,
   "id": "3a4e2988",
   "metadata": {},
   "outputs": [],
   "source": [
    "from sage.modular.etaproducts import qexp_eta\n",
    "from math import floor\n",
    "import numpy as np"
   ]
  },
  {
   "cell_type": "code",
   "execution_count": 58,
   "id": "98f0c306",
   "metadata": {},
   "outputs": [],
   "source": [
    "R.<q> = PowerSeriesRing(ZZ)\n",
    "f1 = qexp_eta(ZZ[['q']], 3000)\n",
    "\n",
    "def sf(a, b):\n",
    "    top = floor((3000-a)/(a+b))\n",
    "    base = 1\n",
    "    for r in range(0,top):\n",
    "        next_term = 1 + q^(a+r*(a+b))\n",
    "        base = base * next_term\n",
    "    return base + O(q^3000)\n",
    "\n",
    "def f(n):\n",
    "    return f1.V(n)\n",
    "\n",
    "def ftheta(a,b):\n",
    "    return sf(a,b)*sf(b,a)*f(a+b)"
   ]
  },
  {
   "cell_type": "code",
   "execution_count": 59,
   "id": "ad0d0486",
   "metadata": {},
   "outputs": [
    {
     "data": {
      "text/html": [
       "<html>\\[\\newcommand{\\Bold}[1]{\\mathbf{#1}}1 +  q^{3} +  q^{5} +  q^{14} +  q^{18} +  q^{33} +  q^{39} +  q^{60} +  q^{68} +  q^{95} +  q^{105} +  q^{138} +  q^{150} +  q^{189} +  q^{203} +  q^{248} +  q^{264} +  q^{315} +  q^{333} +  q^{390} +  q^{410} +  q^{473} +  q^{495} +  q^{564} +  q^{588} +  q^{663} +  q^{689} +  q^{770} +  q^{798} +  q^{885} +  q^{915} +  q^{1008} +  q^{1040} +  q^{1139} +  q^{1173} +  q^{1278} +  q^{1314} +  q^{1425} +  q^{1463} +  q^{1580} +  q^{1620} +  q^{1743} +  q^{1785} +  q^{1914} +  q^{1958} +  q^{2093} +  q^{2139} +  q^{2280} +  q^{2328} +  q^{2475} +  q^{2525} +  q^{2678} +  q^{2730} +  q^{2889} +  q^{2943} -  q^{2995} -  q^{2997} -  q^{2998} + O(q^{3000})\\]</html>"
      ],
      "text/latex": [
       "$$\\newcommand{\\Bold}[1]{\\mathbf{#1}}1 +  q^{3} +  q^{5} +  q^{14} +  q^{18} +  q^{33} +  q^{39} +  q^{60} +  q^{68} +  q^{95} +  q^{105} +  q^{138} +  q^{150} +  q^{189} +  q^{203} +  q^{248} +  q^{264} +  q^{315} +  q^{333} +  q^{390} +  q^{410} +  q^{473} +  q^{495} +  q^{564} +  q^{588} +  q^{663} +  q^{689} +  q^{770} +  q^{798} +  q^{885} +  q^{915} +  q^{1008} +  q^{1040} +  q^{1139} +  q^{1173} +  q^{1278} +  q^{1314} +  q^{1425} +  q^{1463} +  q^{1580} +  q^{1620} +  q^{1743} +  q^{1785} +  q^{1914} +  q^{1958} +  q^{2093} +  q^{2139} +  q^{2280} +  q^{2328} +  q^{2475} +  q^{2525} +  q^{2678} +  q^{2730} +  q^{2889} +  q^{2943} -  q^{2995} -  q^{2997} -  q^{2998} + O(q^{3000})$$"
      ],
      "text/plain": [
       "1 + q^3 + q^5 + q^14 + q^18 + q^33 + q^39 + q^60 + q^68 + q^95 + q^105 + q^138 + q^150 + q^189 + q^203 + q^248 + q^264 + q^315 + q^333 + q^390 + q^410 + q^473 + q^495 + q^564 + q^588 + q^663 + q^689 + q^770 + q^798 + q^885 + q^915 + q^1008 + q^1040 + q^1139 + q^1173 + q^1278 + q^1314 + q^1425 + q^1463 + q^1580 + q^1620 + q^1743 + q^1785 + q^1914 + q^1958 + q^2093 + q^2139 + q^2280 + q^2328 + q^2475 + q^2525 + q^2678 + q^2730 + q^2889 + q^2943 - q^2995 - q^2997 - q^2998 + O(q^3000)"
      ]
     },
     "execution_count": 59,
     "metadata": {},
     "output_type": "execute_result"
    }
   ],
   "source": [
    "f_q3_q5 = ftheta(3,5)\n",
    "f_q3_q5"
   ]
  },
  {
   "cell_type": "code",
   "execution_count": 60,
   "id": "6a2517bc",
   "metadata": {},
   "outputs": [
    {
     "data": {
      "text/html": [
       "<html>\\[\\newcommand{\\Bold}[1]{\\mathbf{#1}}1 -  q^{3} -  q^{5} +  q^{14} +  q^{18} -  q^{33} -  q^{39} +  q^{60} +  q^{68} -  q^{95} -  q^{105} +  q^{138} +  q^{150} -  q^{189} -  q^{203} +  q^{248} +  q^{264} -  q^{315} -  q^{333} +  q^{390} +  q^{410} -  q^{473} -  q^{495} +  q^{564} +  q^{588} -  q^{663} -  q^{689} +  q^{770} +  q^{798} -  q^{885} -  q^{915} +  q^{1008} +  q^{1040} -  q^{1139} -  q^{1173} +  q^{1278} +  q^{1314} -  q^{1425} -  q^{1463} +  q^{1580} +  q^{1620} -  q^{1743} -  q^{1785} +  q^{1914} +  q^{1958} -  q^{2093} -  q^{2139} +  q^{2280} +  q^{2328} -  q^{2475} -  q^{2525} +  q^{2678} +  q^{2730} -  q^{2889} -  q^{2943} +  q^{2995} +  q^{2997} -  q^{2998} + O(q^{3000})\\]</html>"
      ],
      "text/latex": [
       "$$\\newcommand{\\Bold}[1]{\\mathbf{#1}}1 -  q^{3} -  q^{5} +  q^{14} +  q^{18} -  q^{33} -  q^{39} +  q^{60} +  q^{68} -  q^{95} -  q^{105} +  q^{138} +  q^{150} -  q^{189} -  q^{203} +  q^{248} +  q^{264} -  q^{315} -  q^{333} +  q^{390} +  q^{410} -  q^{473} -  q^{495} +  q^{564} +  q^{588} -  q^{663} -  q^{689} +  q^{770} +  q^{798} -  q^{885} -  q^{915} +  q^{1008} +  q^{1040} -  q^{1139} -  q^{1173} +  q^{1278} +  q^{1314} -  q^{1425} -  q^{1463} +  q^{1580} +  q^{1620} -  q^{1743} -  q^{1785} +  q^{1914} +  q^{1958} -  q^{2093} -  q^{2139} +  q^{2280} +  q^{2328} -  q^{2475} -  q^{2525} +  q^{2678} +  q^{2730} -  q^{2889} -  q^{2943} +  q^{2995} +  q^{2997} -  q^{2998} + O(q^{3000})$$"
      ],
      "text/plain": [
       "1 - q^3 - q^5 + q^14 + q^18 - q^33 - q^39 + q^60 + q^68 - q^95 - q^105 + q^138 + q^150 - q^189 - q^203 + q^248 + q^264 - q^315 - q^333 + q^390 + q^410 - q^473 - q^495 + q^564 + q^588 - q^663 - q^689 + q^770 + q^798 - q^885 - q^915 + q^1008 + q^1040 - q^1139 - q^1173 + q^1278 + q^1314 - q^1425 - q^1463 + q^1580 + q^1620 - q^1743 - q^1785 + q^1914 + q^1958 - q^2093 - q^2139 + q^2280 + q^2328 - q^2475 - q^2525 + q^2678 + q^2730 - q^2889 - q^2943 + q^2995 + q^2997 - q^2998 + O(q^3000)"
      ]
     },
     "execution_count": 60,
     "metadata": {},
     "output_type": "execute_result"
    }
   ],
   "source": [
    "coefficients_list = f_q3_q5.list()\n",
    "\n",
    "def isodd(number):\n",
    "    return number % 2 == 1\n",
    "\n",
    "for i in range(len(coefficients_list)):\n",
    "    if isodd(i):\n",
    "        coefficients_list[i] = -coefficients_list[i]\n",
    "\n",
    "f_nq3_nq5 = R(coefficients_list, 3000)\n",
    "f_nq3_nq5"
   ]
  },
  {
   "cell_type": "code",
   "execution_count": 61,
   "id": "467201d2",
   "metadata": {},
   "outputs": [],
   "source": [
    "f4 = f1.V(4)\n",
    "f8 = f1.V(8)\n",
    "f16 = f1.V(16)\n",
    "\n",
    "op345 = (((f_q3_q5/f_nq3_nq5) * (f8^3 / (f4^2 * f16))).list())[:2800]"
   ]
  },
  {
   "cell_type": "code",
   "execution_count": 82,
   "id": "2ae1b68b",
   "metadata": {},
   "outputs": [],
   "source": [
    "myarr_41_mod_82 = []\n",
    "for i in range(30):\n",
    "    myarr_41_mod_82.append(op345[82*i+41])\n",
    "    \n",
    "myarr_27_mod_81 = []\n",
    "for i in range(30):\n",
    "    myarr_27_mod_81.append(op345[81*i+27])\n",
    "    \n",
    "myarr_54_mod_81 = []\n",
    "for i in range(30):\n",
    "    myarr_54_mod_81.append(op345[81*i+54])\n",
    "    \n",
    "myarr_41_mod_120 = []\n",
    "for i in range(23):\n",
    "    myarr_41_mod_120.append(op345[120*i+41])\n",
    "    \n",
    "myarr_89_mod_120 = []\n",
    "for i in range(23):\n",
    "    myarr_89_mod_120.append(op345[120*i+89])\n",
    "    \n",
    "myarr_97_mod_120 = []\n",
    "for i in range(23):\n",
    "    myarr_97_mod_120.append(op345[120*i+97])\n",
    "    \n",
    "myarr_31_mod_62 = []\n",
    "for i in range(30):\n",
    "    myarr_31_mod_62.append(op345[62*i+31])\n",
    "    \n",
    "myarr_31_mod_93 = []\n",
    "for i in range(30):\n",
    "    myarr_31_mod_93.append(op345[93*i+31])\n",
    "    \n",
    "myarr_62_mod_93 = []\n",
    "for i in range(30):\n",
    "    myarr_62_mod_93.append(op345[93*i+62])\n",
    "    \n",
    "myarr_47_mod_94 = []\n",
    "for i in range(30):\n",
    "    myarr_47_mod_94.append(op345[94*i+47])"
   ]
  },
  {
   "cell_type": "code",
   "execution_count": 83,
   "id": "eaa3fdf8",
   "metadata": {},
   "outputs": [
    {
     "data": {
      "text/html": [
       "<html>\\[\\newcommand{\\Bold}[1]{\\mathbf{#1}}\\begin{array}{l}\n",
       "\\verb|[|\\verb| |\\verb|True|\\verb|  |\\verb|True|\\verb|  |\\verb|True|\\verb|  |\\verb|True|\\verb|  |\\verb|True|\\verb|  |\\verb|True|\\verb|  |\\verb|True|\\verb|  |\\verb|True|\\verb|  |\\verb|True|\\verb|  |\\verb|True|\\verb|  |\\verb|True|\\verb|  |\\verb|True|\\\\\n",
       "\\verb|  |\\verb|True|\\verb|  |\\verb|True|\\verb|  |\\verb|True|\\verb|  |\\verb|True|\\verb|  |\\verb|True|\\verb|  |\\verb|True|\\verb|  |\\verb|True|\\verb|  |\\verb|True|\\verb|  |\\verb|True|\\verb|  |\\verb|True|\\verb|  |\\verb|True|\\verb|  |\\verb|True|\\\\\n",
       "\\verb|  |\\verb|True|\\verb|  |\\verb|True|\\verb|  |\\verb|True|\\verb|  |\\verb|True|\\verb|  |\\verb|True|\\verb|  |\\verb|True]|\n",
       "\\end{array}\\]</html>"
      ],
      "text/latex": [
       "$$\\newcommand{\\Bold}[1]{\\mathbf{#1}}\\begin{array}{l}\n",
       "\\verb|[|\\verb| |\\verb|True|\\verb|  |\\verb|True|\\verb|  |\\verb|True|\\verb|  |\\verb|True|\\verb|  |\\verb|True|\\verb|  |\\verb|True|\\verb|  |\\verb|True|\\verb|  |\\verb|True|\\verb|  |\\verb|True|\\verb|  |\\verb|True|\\verb|  |\\verb|True|\\verb|  |\\verb|True|\\\\\n",
       "\\verb|  |\\verb|True|\\verb|  |\\verb|True|\\verb|  |\\verb|True|\\verb|  |\\verb|True|\\verb|  |\\verb|True|\\verb|  |\\verb|True|\\verb|  |\\verb|True|\\verb|  |\\verb|True|\\verb|  |\\verb|True|\\verb|  |\\verb|True|\\verb|  |\\verb|True|\\verb|  |\\verb|True|\\\\\n",
       "\\verb|  |\\verb|True|\\verb|  |\\verb|True|\\verb|  |\\verb|True|\\verb|  |\\verb|True|\\verb|  |\\verb|True|\\verb|  |\\verb|True]|\n",
       "\\end{array}$$"
      ],
      "text/plain": [
       "array([ True,  True,  True,  True,  True,  True,  True,  True,  True,\n",
       "        True,  True,  True,  True,  True,  True,  True,  True,  True,\n",
       "        True,  True,  True,  True,  True,  True,  True,  True,  True,\n",
       "        True,  True,  True])"
      ]
     },
     "execution_count": 83,
     "metadata": {},
     "output_type": "execute_result"
    }
   ],
   "source": [
    "np.array(myarr_41_mod_82)%16==0"
   ]
  },
  {
   "cell_type": "code",
   "execution_count": 84,
   "id": "31581ede",
   "metadata": {},
   "outputs": [
    {
     "data": {
      "text/html": [
       "<html>\\[\\newcommand{\\Bold}[1]{\\mathbf{#1}}\\begin{array}{l}\n",
       "\\verb|[|\\verb| |\\verb|True|\\verb|  |\\verb|True|\\verb|  |\\verb|True|\\verb|  |\\verb|True|\\verb|  |\\verb|True|\\verb|  |\\verb|True|\\verb|  |\\verb|True|\\verb|  |\\verb|True|\\verb|  |\\verb|True|\\verb|  |\\verb|True|\\verb|  |\\verb|True|\\verb|  |\\verb|True|\\\\\n",
       "\\verb|  |\\verb|True|\\verb|  |\\verb|True|\\verb|  |\\verb|True|\\verb|  |\\verb|True|\\verb|  |\\verb|True|\\verb|  |\\verb|True|\\verb|  |\\verb|True|\\verb|  |\\verb|True|\\verb|  |\\verb|True|\\verb|  |\\verb|True|\\verb|  |\\verb|True|\\verb|  |\\verb|True|\\\\\n",
       "\\verb|  |\\verb|True|\\verb|  |\\verb|True|\\verb|  |\\verb|True|\\verb|  |\\verb|True|\\verb|  |\\verb|True|\\verb|  |\\verb|True]|\n",
       "\\end{array}\\]</html>"
      ],
      "text/latex": [
       "$$\\newcommand{\\Bold}[1]{\\mathbf{#1}}\\begin{array}{l}\n",
       "\\verb|[|\\verb| |\\verb|True|\\verb|  |\\verb|True|\\verb|  |\\verb|True|\\verb|  |\\verb|True|\\verb|  |\\verb|True|\\verb|  |\\verb|True|\\verb|  |\\verb|True|\\verb|  |\\verb|True|\\verb|  |\\verb|True|\\verb|  |\\verb|True|\\verb|  |\\verb|True|\\verb|  |\\verb|True|\\\\\n",
       "\\verb|  |\\verb|True|\\verb|  |\\verb|True|\\verb|  |\\verb|True|\\verb|  |\\verb|True|\\verb|  |\\verb|True|\\verb|  |\\verb|True|\\verb|  |\\verb|True|\\verb|  |\\verb|True|\\verb|  |\\verb|True|\\verb|  |\\verb|True|\\verb|  |\\verb|True|\\verb|  |\\verb|True|\\\\\n",
       "\\verb|  |\\verb|True|\\verb|  |\\verb|True|\\verb|  |\\verb|True|\\verb|  |\\verb|True|\\verb|  |\\verb|True|\\verb|  |\\verb|True]|\n",
       "\\end{array}$$"
      ],
      "text/plain": [
       "array([ True,  True,  True,  True,  True,  True,  True,  True,  True,\n",
       "        True,  True,  True,  True,  True,  True,  True,  True,  True,\n",
       "        True,  True,  True,  True,  True,  True,  True,  True,  True,\n",
       "        True,  True,  True])"
      ]
     },
     "execution_count": 84,
     "metadata": {},
     "output_type": "execute_result"
    }
   ],
   "source": [
    "np.array(myarr_27_mod_81)%16==0"
   ]
  },
  {
   "cell_type": "code",
   "execution_count": 85,
   "id": "2541428e",
   "metadata": {},
   "outputs": [
    {
     "data": {
      "text/html": [
       "<html>\\[\\newcommand{\\Bold}[1]{\\mathbf{#1}}\\begin{array}{l}\n",
       "\\verb|[|\\verb| |\\verb|True|\\verb|  |\\verb|True|\\verb|  |\\verb|True|\\verb|  |\\verb|True|\\verb|  |\\verb|True|\\verb|  |\\verb|True|\\verb|  |\\verb|True|\\verb|  |\\verb|True|\\verb|  |\\verb|True|\\verb|  |\\verb|True|\\verb|  |\\verb|True|\\verb|  |\\verb|True|\\\\\n",
       "\\verb|  |\\verb|True|\\verb|  |\\verb|True|\\verb|  |\\verb|True|\\verb|  |\\verb|True|\\verb|  |\\verb|True|\\verb|  |\\verb|True|\\verb|  |\\verb|True|\\verb|  |\\verb|True|\\verb|  |\\verb|True|\\verb|  |\\verb|True|\\verb|  |\\verb|True|\\verb|  |\\verb|True|\\\\\n",
       "\\verb|  |\\verb|True|\\verb|  |\\verb|True|\\verb|  |\\verb|True|\\verb|  |\\verb|True|\\verb|  |\\verb|True|\\verb|  |\\verb|True]|\n",
       "\\end{array}\\]</html>"
      ],
      "text/latex": [
       "$$\\newcommand{\\Bold}[1]{\\mathbf{#1}}\\begin{array}{l}\n",
       "\\verb|[|\\verb| |\\verb|True|\\verb|  |\\verb|True|\\verb|  |\\verb|True|\\verb|  |\\verb|True|\\verb|  |\\verb|True|\\verb|  |\\verb|True|\\verb|  |\\verb|True|\\verb|  |\\verb|True|\\verb|  |\\verb|True|\\verb|  |\\verb|True|\\verb|  |\\verb|True|\\verb|  |\\verb|True|\\\\\n",
       "\\verb|  |\\verb|True|\\verb|  |\\verb|True|\\verb|  |\\verb|True|\\verb|  |\\verb|True|\\verb|  |\\verb|True|\\verb|  |\\verb|True|\\verb|  |\\verb|True|\\verb|  |\\verb|True|\\verb|  |\\verb|True|\\verb|  |\\verb|True|\\verb|  |\\verb|True|\\verb|  |\\verb|True|\\\\\n",
       "\\verb|  |\\verb|True|\\verb|  |\\verb|True|\\verb|  |\\verb|True|\\verb|  |\\verb|True|\\verb|  |\\verb|True|\\verb|  |\\verb|True]|\n",
       "\\end{array}$$"
      ],
      "text/plain": [
       "array([ True,  True,  True,  True,  True,  True,  True,  True,  True,\n",
       "        True,  True,  True,  True,  True,  True,  True,  True,  True,\n",
       "        True,  True,  True,  True,  True,  True,  True,  True,  True,\n",
       "        True,  True,  True])"
      ]
     },
     "execution_count": 85,
     "metadata": {},
     "output_type": "execute_result"
    }
   ],
   "source": [
    "np.array(myarr_54_mod_81)%16==0"
   ]
  },
  {
   "cell_type": "code",
   "execution_count": 86,
   "id": "1d386594",
   "metadata": {},
   "outputs": [
    {
     "data": {
      "text/html": [
       "<html>\\[\\newcommand{\\Bold}[1]{\\mathbf{#1}}\\begin{array}{l}\n",
       "\\verb|[|\\verb| |\\verb|True|\\verb|  |\\verb|True|\\verb|  |\\verb|True|\\verb|  |\\verb|True|\\verb|  |\\verb|True|\\verb|  |\\verb|True|\\verb|  |\\verb|True|\\verb|  |\\verb|True|\\verb| |\\verb|False|\\verb|  |\\verb|True|\\verb|  |\\verb|True|\\verb|  |\\verb|True|\\\\\n",
       "\\verb|  |\\verb|True|\\verb|  |\\verb|True|\\verb|  |\\verb|True|\\verb|  |\\verb|True|\\verb| |\\verb|False|\\verb|  |\\verb|True|\\verb|  |\\verb|True|\\verb|  |\\verb|True|\\verb|  |\\verb|True|\\verb|  |\\verb|True|\\verb|  |\\verb|True]|\n",
       "\\end{array}\\]</html>"
      ],
      "text/latex": [
       "$$\\newcommand{\\Bold}[1]{\\mathbf{#1}}\\begin{array}{l}\n",
       "\\verb|[|\\verb| |\\verb|True|\\verb|  |\\verb|True|\\verb|  |\\verb|True|\\verb|  |\\verb|True|\\verb|  |\\verb|True|\\verb|  |\\verb|True|\\verb|  |\\verb|True|\\verb|  |\\verb|True|\\verb| |\\verb|False|\\verb|  |\\verb|True|\\verb|  |\\verb|True|\\verb|  |\\verb|True|\\\\\n",
       "\\verb|  |\\verb|True|\\verb|  |\\verb|True|\\verb|  |\\verb|True|\\verb|  |\\verb|True|\\verb| |\\verb|False|\\verb|  |\\verb|True|\\verb|  |\\verb|True|\\verb|  |\\verb|True|\\verb|  |\\verb|True|\\verb|  |\\verb|True|\\verb|  |\\verb|True]|\n",
       "\\end{array}$$"
      ],
      "text/plain": [
       "array([ True,  True,  True,  True,  True,  True,  True,  True, False,\n",
       "        True,  True,  True,  True,  True,  True,  True, False,  True,\n",
       "        True,  True,  True,  True,  True])"
      ]
     },
     "execution_count": 86,
     "metadata": {},
     "output_type": "execute_result"
    }
   ],
   "source": [
    "np.array(myarr_41_mod_120)%16==0"
   ]
  },
  {
   "cell_type": "code",
   "execution_count": 87,
   "id": "2de99b2a",
   "metadata": {},
   "outputs": [
    {
     "data": {
      "text/html": [
       "<html>\\[\\newcommand{\\Bold}[1]{\\mathbf{#1}}\\begin{array}{l}\n",
       "\\verb|[|\\verb| |\\verb|True|\\verb|  |\\verb|True|\\verb|  |\\verb|True|\\verb|  |\\verb|True|\\verb|  |\\verb|True|\\verb|  |\\verb|True|\\verb|  |\\verb|True|\\verb|  |\\verb|True|\\verb|  |\\verb|True|\\verb|  |\\verb|True|\\verb|  |\\verb|True|\\verb|  |\\verb|True|\\\\\n",
       "\\verb| |\\verb|False|\\verb|  |\\verb|True|\\verb| |\\verb|False|\\verb|  |\\verb|True|\\verb|  |\\verb|True|\\verb|  |\\verb|True|\\verb| |\\verb|False|\\verb|  |\\verb|True|\\verb| |\\verb|False|\\verb|  |\\verb|True|\\verb|  |\\verb|True]|\n",
       "\\end{array}\\]</html>"
      ],
      "text/latex": [
       "$$\\newcommand{\\Bold}[1]{\\mathbf{#1}}\\begin{array}{l}\n",
       "\\verb|[|\\verb| |\\verb|True|\\verb|  |\\verb|True|\\verb|  |\\verb|True|\\verb|  |\\verb|True|\\verb|  |\\verb|True|\\verb|  |\\verb|True|\\verb|  |\\verb|True|\\verb|  |\\verb|True|\\verb|  |\\verb|True|\\verb|  |\\verb|True|\\verb|  |\\verb|True|\\verb|  |\\verb|True|\\\\\n",
       "\\verb| |\\verb|False|\\verb|  |\\verb|True|\\verb| |\\verb|False|\\verb|  |\\verb|True|\\verb|  |\\verb|True|\\verb|  |\\verb|True|\\verb| |\\verb|False|\\verb|  |\\verb|True|\\verb| |\\verb|False|\\verb|  |\\verb|True|\\verb|  |\\verb|True]|\n",
       "\\end{array}$$"
      ],
      "text/plain": [
       "array([ True,  True,  True,  True,  True,  True,  True,  True,  True,\n",
       "        True,  True,  True, False,  True, False,  True,  True,  True,\n",
       "       False,  True, False,  True,  True])"
      ]
     },
     "execution_count": 87,
     "metadata": {},
     "output_type": "execute_result"
    }
   ],
   "source": [
    "np.array(myarr_89_mod_120)%16==0"
   ]
  },
  {
   "cell_type": "code",
   "execution_count": 88,
   "id": "d5b99af6",
   "metadata": {},
   "outputs": [
    {
     "data": {
      "text/html": [
       "<html>\\[\\newcommand{\\Bold}[1]{\\mathbf{#1}}\\begin{array}{l}\n",
       "\\verb|[|\\verb| |\\verb|True|\\verb|  |\\verb|True|\\verb|  |\\verb|True|\\verb|  |\\verb|True|\\verb|  |\\verb|True|\\verb|  |\\verb|True|\\verb|  |\\verb|True|\\verb|  |\\verb|True|\\verb|  |\\verb|True|\\verb| |\\verb|False|\\verb|  |\\verb|True|\\verb| |\\verb|False|\\\\\n",
       "\\verb|  |\\verb|True|\\verb|  |\\verb|True|\\verb|  |\\verb|True|\\verb|  |\\verb|True|\\verb|  |\\verb|True|\\verb|  |\\verb|True|\\verb|  |\\verb|True|\\verb|  |\\verb|True|\\verb|  |\\verb|True|\\verb|  |\\verb|True|\\verb|  |\\verb|True]|\n",
       "\\end{array}\\]</html>"
      ],
      "text/latex": [
       "$$\\newcommand{\\Bold}[1]{\\mathbf{#1}}\\begin{array}{l}\n",
       "\\verb|[|\\verb| |\\verb|True|\\verb|  |\\verb|True|\\verb|  |\\verb|True|\\verb|  |\\verb|True|\\verb|  |\\verb|True|\\verb|  |\\verb|True|\\verb|  |\\verb|True|\\verb|  |\\verb|True|\\verb|  |\\verb|True|\\verb| |\\verb|False|\\verb|  |\\verb|True|\\verb| |\\verb|False|\\\\\n",
       "\\verb|  |\\verb|True|\\verb|  |\\verb|True|\\verb|  |\\verb|True|\\verb|  |\\verb|True|\\verb|  |\\verb|True|\\verb|  |\\verb|True|\\verb|  |\\verb|True|\\verb|  |\\verb|True|\\verb|  |\\verb|True|\\verb|  |\\verb|True|\\verb|  |\\verb|True]|\n",
       "\\end{array}$$"
      ],
      "text/plain": [
       "array([ True,  True,  True,  True,  True,  True,  True,  True,  True,\n",
       "       False,  True, False,  True,  True,  True,  True,  True,  True,\n",
       "        True,  True,  True,  True,  True])"
      ]
     },
     "execution_count": 88,
     "metadata": {},
     "output_type": "execute_result"
    }
   ],
   "source": [
    "np.array(myarr_97_mod_120)%16==0"
   ]
  },
  {
   "cell_type": "code",
   "execution_count": 89,
   "id": "59330925",
   "metadata": {},
   "outputs": [
    {
     "data": {
      "text/html": [
       "<html>\\[\\newcommand{\\Bold}[1]{\\mathbf{#1}}\\begin{array}{l}\n",
       "\\verb|[|\\verb| |\\verb|True|\\verb|  |\\verb|True|\\verb|  |\\verb|True|\\verb|  |\\verb|True|\\verb|  |\\verb|True|\\verb|  |\\verb|True|\\verb|  |\\verb|True|\\verb|  |\\verb|True|\\verb|  |\\verb|True|\\verb|  |\\verb|True|\\verb|  |\\verb|True|\\verb|  |\\verb|True|\\\\\n",
       "\\verb|  |\\verb|True|\\verb|  |\\verb|True|\\verb|  |\\verb|True|\\verb|  |\\verb|True|\\verb|  |\\verb|True|\\verb|  |\\verb|True|\\verb|  |\\verb|True|\\verb|  |\\verb|True|\\verb|  |\\verb|True|\\verb|  |\\verb|True|\\verb|  |\\verb|True|\\verb|  |\\verb|True|\\\\\n",
       "\\verb|  |\\verb|True|\\verb|  |\\verb|True|\\verb|  |\\verb|True|\\verb|  |\\verb|True|\\verb|  |\\verb|True|\\verb|  |\\verb|True]|\n",
       "\\end{array}\\]</html>"
      ],
      "text/latex": [
       "$$\\newcommand{\\Bold}[1]{\\mathbf{#1}}\\begin{array}{l}\n",
       "\\verb|[|\\verb| |\\verb|True|\\verb|  |\\verb|True|\\verb|  |\\verb|True|\\verb|  |\\verb|True|\\verb|  |\\verb|True|\\verb|  |\\verb|True|\\verb|  |\\verb|True|\\verb|  |\\verb|True|\\verb|  |\\verb|True|\\verb|  |\\verb|True|\\verb|  |\\verb|True|\\verb|  |\\verb|True|\\\\\n",
       "\\verb|  |\\verb|True|\\verb|  |\\verb|True|\\verb|  |\\verb|True|\\verb|  |\\verb|True|\\verb|  |\\verb|True|\\verb|  |\\verb|True|\\verb|  |\\verb|True|\\verb|  |\\verb|True|\\verb|  |\\verb|True|\\verb|  |\\verb|True|\\verb|  |\\verb|True|\\verb|  |\\verb|True|\\\\\n",
       "\\verb|  |\\verb|True|\\verb|  |\\verb|True|\\verb|  |\\verb|True|\\verb|  |\\verb|True|\\verb|  |\\verb|True|\\verb|  |\\verb|True]|\n",
       "\\end{array}$$"
      ],
      "text/plain": [
       "array([ True,  True,  True,  True,  True,  True,  True,  True,  True,\n",
       "        True,  True,  True,  True,  True,  True,  True,  True,  True,\n",
       "        True,  True,  True,  True,  True,  True,  True,  True,  True,\n",
       "        True,  True,  True])"
      ]
     },
     "execution_count": 89,
     "metadata": {},
     "output_type": "execute_result"
    }
   ],
   "source": [
    "np.array(myarr_31_mod_62)%32==0"
   ]
  },
  {
   "cell_type": "code",
   "execution_count": 90,
   "id": "89ea5107",
   "metadata": {},
   "outputs": [
    {
     "data": {
      "text/html": [
       "<html>\\[\\newcommand{\\Bold}[1]{\\mathbf{#1}}\\begin{array}{l}\n",
       "\\verb|[|\\verb| |\\verb|True|\\verb|  |\\verb|True|\\verb|  |\\verb|True|\\verb|  |\\verb|True|\\verb|  |\\verb|True|\\verb|  |\\verb|True|\\verb|  |\\verb|True|\\verb|  |\\verb|True|\\verb|  |\\verb|True|\\verb|  |\\verb|True|\\verb|  |\\verb|True|\\verb|  |\\verb|True|\\\\\n",
       "\\verb|  |\\verb|True|\\verb|  |\\verb|True|\\verb|  |\\verb|True|\\verb|  |\\verb|True|\\verb|  |\\verb|True|\\verb|  |\\verb|True|\\verb|  |\\verb|True|\\verb|  |\\verb|True|\\verb|  |\\verb|True|\\verb|  |\\verb|True|\\verb|  |\\verb|True|\\verb|  |\\verb|True|\\\\\n",
       "\\verb|  |\\verb|True|\\verb|  |\\verb|True|\\verb|  |\\verb|True|\\verb|  |\\verb|True|\\verb|  |\\verb|True|\\verb|  |\\verb|True]|\n",
       "\\end{array}\\]</html>"
      ],
      "text/latex": [
       "$$\\newcommand{\\Bold}[1]{\\mathbf{#1}}\\begin{array}{l}\n",
       "\\verb|[|\\verb| |\\verb|True|\\verb|  |\\verb|True|\\verb|  |\\verb|True|\\verb|  |\\verb|True|\\verb|  |\\verb|True|\\verb|  |\\verb|True|\\verb|  |\\verb|True|\\verb|  |\\verb|True|\\verb|  |\\verb|True|\\verb|  |\\verb|True|\\verb|  |\\verb|True|\\verb|  |\\verb|True|\\\\\n",
       "\\verb|  |\\verb|True|\\verb|  |\\verb|True|\\verb|  |\\verb|True|\\verb|  |\\verb|True|\\verb|  |\\verb|True|\\verb|  |\\verb|True|\\verb|  |\\verb|True|\\verb|  |\\verb|True|\\verb|  |\\verb|True|\\verb|  |\\verb|True|\\verb|  |\\verb|True|\\verb|  |\\verb|True|\\\\\n",
       "\\verb|  |\\verb|True|\\verb|  |\\verb|True|\\verb|  |\\verb|True|\\verb|  |\\verb|True|\\verb|  |\\verb|True|\\verb|  |\\verb|True]|\n",
       "\\end{array}$$"
      ],
      "text/plain": [
       "array([ True,  True,  True,  True,  True,  True,  True,  True,  True,\n",
       "        True,  True,  True,  True,  True,  True,  True,  True,  True,\n",
       "        True,  True,  True,  True,  True,  True,  True,  True,  True,\n",
       "        True,  True,  True])"
      ]
     },
     "execution_count": 90,
     "metadata": {},
     "output_type": "execute_result"
    }
   ],
   "source": [
    "np.array(myarr_31_mod_93)%32==0"
   ]
  },
  {
   "cell_type": "code",
   "execution_count": 91,
   "id": "ed1a1883",
   "metadata": {},
   "outputs": [
    {
     "data": {
      "text/html": [
       "<html>\\[\\newcommand{\\Bold}[1]{\\mathbf{#1}}\\begin{array}{l}\n",
       "\\verb|[|\\verb| |\\verb|True|\\verb|  |\\verb|True|\\verb|  |\\verb|True|\\verb|  |\\verb|True|\\verb|  |\\verb|True|\\verb|  |\\verb|True|\\verb|  |\\verb|True|\\verb|  |\\verb|True|\\verb|  |\\verb|True|\\verb|  |\\verb|True|\\verb|  |\\verb|True|\\verb|  |\\verb|True|\\\\\n",
       "\\verb|  |\\verb|True|\\verb|  |\\verb|True|\\verb|  |\\verb|True|\\verb|  |\\verb|True|\\verb|  |\\verb|True|\\verb|  |\\verb|True|\\verb|  |\\verb|True|\\verb|  |\\verb|True|\\verb|  |\\verb|True|\\verb|  |\\verb|True|\\verb|  |\\verb|True|\\verb|  |\\verb|True|\\\\\n",
       "\\verb|  |\\verb|True|\\verb|  |\\verb|True|\\verb|  |\\verb|True|\\verb|  |\\verb|True|\\verb|  |\\verb|True|\\verb|  |\\verb|True]|\n",
       "\\end{array}\\]</html>"
      ],
      "text/latex": [
       "$$\\newcommand{\\Bold}[1]{\\mathbf{#1}}\\begin{array}{l}\n",
       "\\verb|[|\\verb| |\\verb|True|\\verb|  |\\verb|True|\\verb|  |\\verb|True|\\verb|  |\\verb|True|\\verb|  |\\verb|True|\\verb|  |\\verb|True|\\verb|  |\\verb|True|\\verb|  |\\verb|True|\\verb|  |\\verb|True|\\verb|  |\\verb|True|\\verb|  |\\verb|True|\\verb|  |\\verb|True|\\\\\n",
       "\\verb|  |\\verb|True|\\verb|  |\\verb|True|\\verb|  |\\verb|True|\\verb|  |\\verb|True|\\verb|  |\\verb|True|\\verb|  |\\verb|True|\\verb|  |\\verb|True|\\verb|  |\\verb|True|\\verb|  |\\verb|True|\\verb|  |\\verb|True|\\verb|  |\\verb|True|\\verb|  |\\verb|True|\\\\\n",
       "\\verb|  |\\verb|True|\\verb|  |\\verb|True|\\verb|  |\\verb|True|\\verb|  |\\verb|True|\\verb|  |\\verb|True|\\verb|  |\\verb|True]|\n",
       "\\end{array}$$"
      ],
      "text/plain": [
       "array([ True,  True,  True,  True,  True,  True,  True,  True,  True,\n",
       "        True,  True,  True,  True,  True,  True,  True,  True,  True,\n",
       "        True,  True,  True,  True,  True,  True,  True,  True,  True,\n",
       "        True,  True,  True])"
      ]
     },
     "execution_count": 91,
     "metadata": {},
     "output_type": "execute_result"
    }
   ],
   "source": [
    "np.array(myarr_62_mod_93)%32==0"
   ]
  },
  {
   "cell_type": "code",
   "execution_count": 92,
   "id": "60fd6921",
   "metadata": {},
   "outputs": [
    {
     "data": {
      "text/html": [
       "<html>\\[\\newcommand{\\Bold}[1]{\\mathbf{#1}}\\begin{array}{l}\n",
       "\\verb|[|\\verb| |\\verb|True|\\verb|  |\\verb|True|\\verb|  |\\verb|True|\\verb|  |\\verb|True|\\verb|  |\\verb|True|\\verb|  |\\verb|True|\\verb|  |\\verb|True|\\verb|  |\\verb|True|\\verb|  |\\verb|True|\\verb|  |\\verb|True|\\verb|  |\\verb|True|\\verb|  |\\verb|True|\\\\\n",
       "\\verb|  |\\verb|True|\\verb|  |\\verb|True|\\verb|  |\\verb|True|\\verb|  |\\verb|True|\\verb|  |\\verb|True|\\verb|  |\\verb|True|\\verb|  |\\verb|True|\\verb|  |\\verb|True|\\verb|  |\\verb|True|\\verb|  |\\verb|True|\\verb|  |\\verb|True|\\verb|  |\\verb|True|\\\\\n",
       "\\verb|  |\\verb|True|\\verb|  |\\verb|True|\\verb|  |\\verb|True|\\verb|  |\\verb|True|\\verb|  |\\verb|True|\\verb|  |\\verb|True]|\n",
       "\\end{array}\\]</html>"
      ],
      "text/latex": [
       "$$\\newcommand{\\Bold}[1]{\\mathbf{#1}}\\begin{array}{l}\n",
       "\\verb|[|\\verb| |\\verb|True|\\verb|  |\\verb|True|\\verb|  |\\verb|True|\\verb|  |\\verb|True|\\verb|  |\\verb|True|\\verb|  |\\verb|True|\\verb|  |\\verb|True|\\verb|  |\\verb|True|\\verb|  |\\verb|True|\\verb|  |\\verb|True|\\verb|  |\\verb|True|\\verb|  |\\verb|True|\\\\\n",
       "\\verb|  |\\verb|True|\\verb|  |\\verb|True|\\verb|  |\\verb|True|\\verb|  |\\verb|True|\\verb|  |\\verb|True|\\verb|  |\\verb|True|\\verb|  |\\verb|True|\\verb|  |\\verb|True|\\verb|  |\\verb|True|\\verb|  |\\verb|True|\\verb|  |\\verb|True|\\verb|  |\\verb|True|\\\\\n",
       "\\verb|  |\\verb|True|\\verb|  |\\verb|True|\\verb|  |\\verb|True|\\verb|  |\\verb|True|\\verb|  |\\verb|True|\\verb|  |\\verb|True]|\n",
       "\\end{array}$$"
      ],
      "text/plain": [
       "array([ True,  True,  True,  True,  True,  True,  True,  True,  True,\n",
       "        True,  True,  True,  True,  True,  True,  True,  True,  True,\n",
       "        True,  True,  True,  True,  True,  True,  True,  True,  True,\n",
       "        True,  True,  True])"
      ]
     },
     "execution_count": 92,
     "metadata": {},
     "output_type": "execute_result"
    }
   ],
   "source": [
    "np.array(myarr_47_mod_94)%64==0"
   ]
  },
  {
   "cell_type": "code",
   "execution_count": 113,
   "id": "1088e8ff",
   "metadata": {},
   "outputs": [
    {
     "data": {
      "text/html": [
       "<html>\\[\\newcommand{\\Bold}[1]{\\mathbf{#1}}\\left(761, 881, 1001\\right)\\]</html>"
      ],
      "text/latex": [
       "$$\\newcommand{\\Bold}[1]{\\mathbf{#1}}\\left(761, 881, 1001\\right)$$"
      ],
      "text/plain": [
       "(761, 881, 1001)"
      ]
     },
     "execution_count": 113,
     "metadata": {},
     "output_type": "execute_result"
    }
   ],
   "source": [
    "120*6+41, 120*7+41, 120*8+41"
   ]
  },
  {
   "cell_type": "code",
   "execution_count": 114,
   "id": "9c0da1dc",
   "metadata": {},
   "outputs": [
    {
     "data": {
      "text/html": [
       "<html>\\[\\newcommand{\\Bold}[1]{\\mathbf{#1}}\\left(5070120304609408648, 256022944196178373720, \\frac{20087720715969317448489}{2}\\right)\\]</html>"
      ],
      "text/latex": [
       "$$\\newcommand{\\Bold}[1]{\\mathbf{#1}}\\left(5070120304609408648, 256022944196178373720, \\frac{20087720715969317448489}{2}\\right)$$"
      ],
      "text/plain": [
       "(5070120304609408648, 256022944196178373720, 20087720715969317448489/2)"
      ]
     },
     "execution_count": 114,
     "metadata": {},
     "output_type": "execute_result"
    }
   ],
   "source": [
    "op345[761]/16, op345[881]/16, op345[1001]/16"
   ]
  },
  {
   "cell_type": "code",
   "execution_count": 109,
   "id": "0c0b6434",
   "metadata": {},
   "outputs": [
    {
     "data": {
      "text/html": [
       "<html>\\[\\newcommand{\\Bold}[1]{\\mathbf{#1}}\\left(1289, 1409, 1529\\right)\\]</html>"
      ],
      "text/latex": [
       "$$\\newcommand{\\Bold}[1]{\\mathbf{#1}}\\left(1289, 1409, 1529\\right)$$"
      ],
      "text/plain": [
       "(1289, 1409, 1529)"
      ]
     },
     "execution_count": 109,
     "metadata": {},
     "output_type": "execute_result"
    }
   ],
   "source": [
    "120*10+89, 120*11+89, 120*12+89"
   ]
  },
  {
   "cell_type": "code",
   "execution_count": 112,
   "id": "4ddfcfef",
   "metadata": {},
   "outputs": [
    {
     "data": {
      "text/html": [
       "<html>\\[\\newcommand{\\Bold}[1]{\\mathbf{#1}}\\left(30374617089920099762244361, 658932816265830174546316986, \\frac{50418547818087552468700969321}{4}\\right)\\]</html>"
      ],
      "text/latex": [
       "$$\\newcommand{\\Bold}[1]{\\mathbf{#1}}\\left(30374617089920099762244361, 658932816265830174546316986, \\frac{50418547818087552468700969321}{4}\\right)$$"
      ],
      "text/plain": [
       "(30374617089920099762244361,\n",
       " 658932816265830174546316986,\n",
       " 50418547818087552468700969321/4)"
      ]
     },
     "execution_count": 112,
     "metadata": {},
     "output_type": "execute_result"
    }
   ],
   "source": [
    "op345[1289]/16, op345[1409]/16, op345[1529]/16 "
   ]
  },
  {
   "cell_type": "code",
   "execution_count": 115,
   "id": "62db369e",
   "metadata": {},
   "outputs": [
    {
     "data": {
      "text/html": [
       "<html>\\[\\newcommand{\\Bold}[1]{\\mathbf{#1}}\\left(937, 1057, 1177\\right)\\]</html>"
      ],
      "text/latex": [
       "$$\\newcommand{\\Bold}[1]{\\mathbf{#1}}\\left(937, 1057, 1177\\right)$$"
      ],
      "text/plain": [
       "(937, 1057, 1177)"
      ]
     },
     "execution_count": 115,
     "metadata": {},
     "output_type": "execute_result"
    }
   ],
   "source": [
    "120*7+97, 120*8+97, 120*9+97"
   ]
  },
  {
   "cell_type": "code",
   "execution_count": 116,
   "id": "158ba0f7",
   "metadata": {},
   "outputs": [
    {
     "data": {
      "text/html": [
       "<html>\\[\\newcommand{\\Bold}[1]{\\mathbf{#1}}\\left(1459897185669750484221, 51713076441777454122892, \\frac{6043053610035576749232417}{4}\\right)\\]</html>"
      ],
      "text/latex": [
       "$$\\newcommand{\\Bold}[1]{\\mathbf{#1}}\\left(1459897185669750484221, 51713076441777454122892, \\frac{6043053610035576749232417}{4}\\right)$$"
      ],
      "text/plain": [
       "(1459897185669750484221, 51713076441777454122892, 6043053610035576749232417/4)"
      ]
     },
     "execution_count": 116,
     "metadata": {},
     "output_type": "execute_result"
    }
   ],
   "source": [
    "op345[937]/16, op345[1057]/16, op345[1177]/16"
   ]
  },
  {
   "cell_type": "code",
   "execution_count": null,
   "id": "1120fb65",
   "metadata": {},
   "outputs": [],
   "source": []
  }
 ],
 "metadata": {
  "kernelspec": {
   "display_name": "SageMath 9.5",
   "language": "sage",
   "name": "sagemath"
  },
  "language_info": {
   "codemirror_mode": {
    "name": "ipython",
    "version": 3
   },
   "file_extension": ".py",
   "mimetype": "text/x-python",
   "name": "python",
   "nbconvert_exporter": "python",
   "pygments_lexer": "ipython3",
   "version": "3.9.9"
  }
 },
 "nbformat": 4,
 "nbformat_minor": 5
}
