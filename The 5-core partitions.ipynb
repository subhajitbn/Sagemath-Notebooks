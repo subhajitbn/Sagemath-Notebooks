{
 "cells": [
  {
   "cell_type": "markdown",
   "metadata": {
    "collapsed": false,
    "jupyter": {
     "outputs_hidden": false
    }
   },
   "source": [
    "# The 5-Core Partitions"
   ]
  },
  {
   "cell_type": "markdown",
   "metadata": {},
   "source": [
    "The target of this notebook is to show how to computationally verify results *(or even consecutive steps in a large calculation)* involving integer partion generating function and its various analogues."
   ]
  },
  {
   "cell_type": "markdown",
   "metadata": {
    "collapsed": false,
    "jupyter": {
     "outputs_hidden": false
    }
   },
   "source": [
    "## Enable latex display of output"
   ]
  },
  {
   "cell_type": "code",
   "execution_count": 1,
   "metadata": {},
   "outputs": [],
   "source": [
    "%display latex"
   ]
  },
  {
   "cell_type": "markdown",
   "metadata": {
    "collapsed": false,
    "jupyter": {
     "outputs_hidden": false
    }
   },
   "source": [
    "## Import necessary Sagemath library"
   ]
  },
  {
   "cell_type": "code",
   "execution_count": 2,
   "metadata": {
    "collapsed": false,
    "jupyter": {
     "outputs_hidden": false
    }
   },
   "outputs": [],
   "source": [
    "from sage.modular.etaproducts import qexp_eta"
   ]
  },
  {
   "cell_type": "markdown",
   "metadata": {
    "collapsed": false,
    "jupyter": {
     "outputs_hidden": false
    }
   },
   "source": [
    "## Define a power series ring over the field of integers\n",
    "\n",
    "Have a look at the documentation for a comprehensive list of the functions that can be applied to a power series.\n",
    "https://doc.sagemath.org/html/en/reference/power_series/sage/rings/power_series_ring_element.html"
   ]
  },
  {
   "cell_type": "code",
   "execution_count": 3,
   "metadata": {
    "collapsed": false,
    "jupyter": {
     "outputs_hidden": false
    }
   },
   "outputs": [],
   "source": [
    "R.<q> = PowerSeriesRing(ZZ)"
   ]
  },
  {
   "cell_type": "markdown",
   "metadata": {
    "collapsed": false,
    "jupyter": {
     "outputs_hidden": false
    }
   },
   "source": [
    "## Set the highest precision allowed"
   ]
  },
  {
   "cell_type": "code",
   "execution_count": 4,
   "metadata": {
    "collapsed": false,
    "jupyter": {
     "outputs_hidden": false
    }
   },
   "outputs": [],
   "source": [
    "precision = 10000"
   ]
  },
  {
   "cell_type": "markdown",
   "metadata": {
    "collapsed": false,
    "jupyter": {
     "outputs_hidden": false
    }
   },
   "source": [
    "## Set the $q$-product for $f_1 := (q;q)_{\\infty}$"
   ]
  },
  {
   "cell_type": "code",
   "execution_count": 5,
   "metadata": {
    "collapsed": false,
    "jupyter": {
     "outputs_hidden": false
    }
   },
   "outputs": [],
   "source": [
    "f1 = qexp_eta(ZZ[['q']], precision)"
   ]
  },
  {
   "cell_type": "code",
   "execution_count": 6,
   "metadata": {
    "collapsed": false,
    "jupyter": {
     "outputs_hidden": false
    }
   },
   "outputs": [
    {
     "data": {
      "text/html": [
       "<html>\\(\\displaystyle \\mathrm{True}\\)</html>"
      ],
      "text/latex": [
       "$\\displaystyle \\mathrm{True}$"
      ],
      "text/plain": [
       "True"
      ]
     },
     "execution_count": 6,
     "metadata": {},
     "output_type": "execute_result"
    }
   ],
   "source": [
    "f1 in R"
   ]
  },
  {
   "cell_type": "markdown",
   "metadata": {
    "collapsed": false,
    "jupyter": {
     "outputs_hidden": false
    }
   },
   "source": [
    "## Set $f_2, f_4, f_{10}, f_{20}$"
   ]
  },
  {
   "cell_type": "code",
   "execution_count": 7,
   "metadata": {
    "collapsed": false,
    "jupyter": {
     "outputs_hidden": false
    }
   },
   "outputs": [],
   "source": [
    "f2 = f1.V(2)\n",
    "f4 = f1.V(4)\n",
    "f5 = f1.V(5)\n",
    "f10 = f1.V(10)\n",
    "f20 = f1.V(20)"
   ]
  },
  {
   "cell_type": "markdown",
   "metadata": {
    "collapsed": false,
    "jupyter": {
     "outputs_hidden": false
    }
   },
   "source": [
    "## Set the generating function of the $5$-core partition function\n",
    "\n"
   ]
  },
  {
   "cell_type": "code",
   "execution_count": 8,
   "metadata": {
    "collapsed": false,
    "jupyter": {
     "outputs_hidden": false
    }
   },
   "outputs": [],
   "source": [
    "c5 = (f5^5)/f1"
   ]
  },
  {
   "cell_type": "markdown",
   "metadata": {
    "collapsed": false,
    "jupyter": {
     "outputs_hidden": false
    }
   },
   "source": [
    "## Experiment with the generating function"
   ]
  },
  {
   "cell_type": "code",
   "execution_count": 9,
   "metadata": {
    "collapsed": false,
    "jupyter": {
     "outputs_hidden": false
    }
   },
   "outputs": [
    {
     "data": {
      "text/html": [
       "<html>\\(\\displaystyle 1 +  q + 2 q^{2} + 3 q^{3} + 5 q^{4} + 2 q^{5} + 6 q^{6} + 5 q^{7} + 7 q^{8} + 5 q^{9} + 12 q^{10} + 6 q^{11} + 12 q^{12} + 6 q^{13} + 10 q^{14} + 11 q^{15} + 16 q^{16} + 7 q^{17} + 20 q^{18} + 15 q^{19} + 12 q^{20} + O(q^{21})\\)</html>"
      ],
      "text/latex": [
       "$\\displaystyle 1 +  q + 2 q^{2} + 3 q^{3} + 5 q^{4} + 2 q^{5} + 6 q^{6} + 5 q^{7} + 7 q^{8} + 5 q^{9} + 12 q^{10} + 6 q^{11} + 12 q^{12} + 6 q^{13} + 10 q^{14} + 11 q^{15} + 16 q^{16} + 7 q^{17} + 20 q^{18} + 15 q^{19} + 12 q^{20} + O(q^{21})$"
      ],
      "text/plain": [
       "1 + q + 2*q^2 + 3*q^3 + 5*q^4 + 2*q^5 + 6*q^6 + 5*q^7 + 7*q^8 + 5*q^9 + 12*q^10 + 6*q^11 + 12*q^12 + 6*q^13 + 10*q^14 + 11*q^15 + 16*q^16 + 7*q^17 + 20*q^18 + 15*q^19 + 12*q^20 + O(q^21)"
      ]
     },
     "execution_count": 9,
     "metadata": {},
     "output_type": "execute_result"
    }
   ],
   "source": [
    "c5.O(21)"
   ]
  },
  {
   "cell_type": "code",
   "execution_count": 10,
   "metadata": {
    "collapsed": false,
    "jupyter": {
     "outputs_hidden": false
    }
   },
   "outputs": [],
   "source": [
    "c5_list_of_coefficients = c5.list()"
   ]
  },
  {
   "cell_type": "code",
   "execution_count": 11,
   "metadata": {
    "collapsed": false,
    "jupyter": {
     "outputs_hidden": false
    }
   },
   "outputs": [
    {
     "data": {
      "text/html": [
       "<html>\\(\\displaystyle 2\\)</html>"
      ],
      "text/latex": [
       "$\\displaystyle 2$"
      ],
      "text/plain": [
       "2"
      ]
     },
     "execution_count": 11,
     "metadata": {},
     "output_type": "execute_result"
    }
   ],
   "source": [
    "c5_list_of_coefficients[5]"
   ]
  },
  {
   "cell_type": "code",
   "execution_count": 12,
   "metadata": {
    "collapsed": false,
    "jupyter": {
     "outputs_hidden": false
    }
   },
   "outputs": [
    {
     "data": {
      "text/html": [
       "<html>\\(\\displaystyle \\left[1, 1, 2, 3, 5\\right]\\)</html>"
      ],
      "text/latex": [
       "$\\displaystyle \\left[1, 1, 2, 3, 5\\right]$"
      ],
      "text/plain": [
       "[1, 1, 2, 3, 5]"
      ]
     },
     "execution_count": 12,
     "metadata": {},
     "output_type": "execute_result"
    }
   ],
   "source": [
    "c5_list_of_coefficients[0:5]"
   ]
  },
  {
   "cell_type": "code",
   "execution_count": 13,
   "metadata": {
    "collapsed": false,
    "jupyter": {
     "outputs_hidden": false
    }
   },
   "outputs": [
    {
     "data": {
      "text/html": [
       "<html>\\(\\displaystyle \\left[1, 1, 2, 3, 5\\right]\\)</html>"
      ],
      "text/latex": [
       "$\\displaystyle \\left[1, 1, 2, 3, 5\\right]$"
      ],
      "text/plain": [
       "[1, 1, 2, 3, 5]"
      ]
     },
     "execution_count": 13,
     "metadata": {},
     "output_type": "execute_result"
    }
   ],
   "source": [
    "c5_list_of_coefficients[:5]"
   ]
  },
  {
   "cell_type": "markdown",
   "metadata": {
    "collapsed": false,
    "jupyter": {
     "outputs_hidden": false
    }
   },
   "source": [
    "## Empirically verifying a result by Garvan, Kim, and Stanton.  $c_{5}(5n+4) = 5c_{5}(n)$\n",
    "\n",
    "Ref: F. Garvan, D. Kim, and D. Stanton, Cranks and t-cores, Invent. Math. 101 (1990),\n",
    "1–17. **Eq. (5.1)**"
   ]
  },
  {
   "cell_type": "code",
   "execution_count": 24,
   "metadata": {
    "collapsed": false,
    "jupyter": {
     "outputs_hidden": false
    }
   },
   "outputs": [
    {
     "data": {
      "text/html": [
       "<html>\\(\\displaystyle \\left[5, 5, 10, 15, 25, 10, 30, 25, 35, 25\\right]\\)</html>"
      ],
      "text/latex": [
       "$\\displaystyle \\left[5, 5, 10, 15, 25, 10, 30, 25, 35, 25\\right]$"
      ],
      "text/plain": [
       "[5, 5, 10, 15, 25, 10, 30, 25, 35, 25]"
      ]
     },
     "execution_count": 24,
     "metadata": {},
     "output_type": "execute_result"
    }
   ],
   "source": [
    "gks_left_hand_side = [c5_list_of_coefficients[5*n+4] for n in range(0,100)]\n",
    "\n",
    "gks_left_hand_side[:10]"
   ]
  },
  {
   "cell_type": "code",
   "execution_count": 25,
   "metadata": {
    "collapsed": false,
    "jupyter": {
     "outputs_hidden": false
    }
   },
   "outputs": [
    {
     "data": {
      "text/html": [
       "<html>\\(\\displaystyle \\left[5, 5, 10, 15, 25, 10, 30, 25, 35, 25\\right]\\)</html>"
      ],
      "text/latex": [
       "$\\displaystyle \\left[5, 5, 10, 15, 25, 10, 30, 25, 35, 25\\right]$"
      ],
      "text/plain": [
       "[5, 5, 10, 15, 25, 10, 30, 25, 35, 25]"
      ]
     },
     "execution_count": 25,
     "metadata": {},
     "output_type": "execute_result"
    }
   ],
   "source": [
    "gks_right_hand_side = [5*c5_list_of_coefficients[n] for n in range(0,100)]\n",
    "\n",
    "gks_right_hand_side[:10]"
   ]
  },
  {
   "cell_type": "code",
   "execution_count": 26,
   "metadata": {},
   "outputs": [
    {
     "data": {
      "text/html": [
       "<html>\\(\\displaystyle \\mathrm{True}\\)</html>"
      ],
      "text/latex": [
       "$\\displaystyle \\mathrm{True}$"
      ],
      "text/plain": [
       "True"
      ]
     },
     "execution_count": 26,
     "metadata": {},
     "output_type": "execute_result"
    }
   ],
   "source": [
    "gks_left_hand_side == gks_right_hand_side"
   ]
  },
  {
   "cell_type": "markdown",
   "metadata": {
    "collapsed": false,
    "jupyter": {
     "outputs_hidden": false
    }
   },
   "source": [
    "## Empirically verifying a result by Baruah and Berndt. $c_{5}(4n+1) = c_{5}(2n)$\n",
    "\n",
    "Ref: N. D. Baruah and B. C. Berndt, Partition identities and Ramanujan’s modular equa-\n",
    "tions, J. Combin. Theory Ser. A 114 (2007), 1024–1045. **Eq. (4.8)**"
   ]
  },
  {
   "cell_type": "code",
   "execution_count": 30,
   "metadata": {
    "collapsed": false,
    "jupyter": {
     "outputs_hidden": false
    }
   },
   "outputs": [
    {
     "data": {
      "text/html": [
       "<html>\\(\\displaystyle \\left[1, 2, 5, 6, 7, 12, 12, 10, 16, 20\\right]\\)</html>"
      ],
      "text/latex": [
       "$\\displaystyle \\left[1, 2, 5, 6, 7, 12, 12, 10, 16, 20\\right]$"
      ],
      "text/plain": [
       "[1, 2, 5, 6, 7, 12, 12, 10, 16, 20]"
      ]
     },
     "execution_count": 30,
     "metadata": {},
     "output_type": "execute_result"
    }
   ],
   "source": [
    "baruah_bernd_left_hand_side = [c5_list_of_coefficients[4*n+1] for n in range(0,100)]\n",
    "\n",
    "baruah_bernd_left_hand_side[:10]"
   ]
  },
  {
   "cell_type": "code",
   "execution_count": 29,
   "metadata": {
    "collapsed": false,
    "jupyter": {
     "outputs_hidden": false
    }
   },
   "outputs": [
    {
     "data": {
      "text/html": [
       "<html>\\(\\displaystyle \\left[1, 2, 5, 6, 7, 12, 12, 10, 16, 20\\right]\\)</html>"
      ],
      "text/latex": [
       "$\\displaystyle \\left[1, 2, 5, 6, 7, 12, 12, 10, 16, 20\\right]$"
      ],
      "text/plain": [
       "[1, 2, 5, 6, 7, 12, 12, 10, 16, 20]"
      ]
     },
     "execution_count": 29,
     "metadata": {},
     "output_type": "execute_result"
    }
   ],
   "source": [
    "baruah_bernd_right_hand_side = [c5_list_of_coefficients[2*n] for n in range(0,100)]\n",
    "\n",
    "baruah_bernd_right_hand_side[:10]"
   ]
  },
  {
   "cell_type": "code",
   "execution_count": 31,
   "metadata": {},
   "outputs": [
    {
     "data": {
      "text/html": [
       "<html>\\(\\displaystyle \\mathrm{True}\\)</html>"
      ],
      "text/latex": [
       "$\\displaystyle \\mathrm{True}$"
      ],
      "text/plain": [
       "True"
      ]
     },
     "execution_count": 31,
     "metadata": {},
     "output_type": "execute_result"
    }
   ],
   "source": [
    "baruah_bernd_left_hand_side == baruah_bernd_right_hand_side"
   ]
  }
 ],
 "metadata": {
  "kernelspec": {
   "display_name": "SageMath 10.4",
   "language": "sage",
   "name": "sagemath"
  },
  "language_info": {
   "codemirror_mode": {
    "name": "ipython",
    "version": 3
   },
   "file_extension": ".py",
   "mimetype": "text/x-python",
   "name": "python",
   "nbconvert_exporter": "python",
   "pygments_lexer": "ipython3",
   "version": "3.11.10"
  }
 },
 "nbformat": 4,
 "nbformat_minor": 4
}
