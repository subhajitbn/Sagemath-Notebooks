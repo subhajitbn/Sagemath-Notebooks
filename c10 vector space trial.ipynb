{
 "cells": [
  {
   "cell_type": "markdown",
   "id": "d75a000e",
   "metadata": {},
   "source": [
    "# c10 vector space trial"
   ]
  },
  {
   "cell_type": "markdown",
   "id": "7c20459b",
   "metadata": {},
   "source": [
    "## The main definition\n",
    "$$\n",
    "f_n := (q^{n};q^{n})_{\\infty}.\n",
    "$$"
   ]
  },
  {
   "cell_type": "code",
   "execution_count": 32,
   "id": "e269b40b",
   "metadata": {},
   "outputs": [],
   "source": [
    "%display latex"
   ]
  },
  {
   "cell_type": "markdown",
   "id": "cbecee8c",
   "metadata": {},
   "source": [
    "## Import necessary Sagemath library"
   ]
  },
  {
   "cell_type": "code",
   "execution_count": 33,
   "id": "3a4e2988",
   "metadata": {},
   "outputs": [],
   "source": [
    "from sage.modular.etaproducts import qexp_eta"
   ]
  },
  {
   "cell_type": "markdown",
   "id": "d2789e67",
   "metadata": {},
   "source": [
    "## Define a power series ring over the field of integers"
   ]
  },
  {
   "cell_type": "code",
   "execution_count": 34,
   "id": "98f0c306",
   "metadata": {},
   "outputs": [],
   "source": [
    "R.<q> = PowerSeriesRing(ZZ)"
   ]
  },
  {
   "cell_type": "markdown",
   "id": "ebdcbe1a",
   "metadata": {},
   "source": [
    "## Set the highest precision allowed"
   ]
  },
  {
   "cell_type": "code",
   "execution_count": 35,
   "id": "b694518a",
   "metadata": {},
   "outputs": [],
   "source": [
    "precision = 30000"
   ]
  },
  {
   "cell_type": "markdown",
   "id": "e85f0c6a",
   "metadata": {},
   "source": [
    "## Set the $q$-product for $f_1 := (q;q)_{\\infty}$"
   ]
  },
  {
   "cell_type": "code",
   "execution_count": 36,
   "id": "39c60b42",
   "metadata": {},
   "outputs": [],
   "source": [
    "f1 = qexp_eta(ZZ[['q']], precision)"
   ]
  },
  {
   "cell_type": "markdown",
   "id": "94379a56",
   "metadata": {},
   "source": [
    "## Set $f_2, f_4, f_{10}, f_{20}$"
   ]
  },
  {
   "cell_type": "code",
   "execution_count": 37,
   "id": "467201d2",
   "metadata": {},
   "outputs": [],
   "source": [
    "f2 = f1.V(2)\n",
    "f4 = f1.V(4)\n",
    "f5 = f1.V(5)\n",
    "f10 = f1.V(10)\n",
    "f20 = f1.V(20)"
   ]
  },
  {
   "cell_type": "markdown",
   "id": "a020029f",
   "metadata": {},
   "source": [
    "## Set the generating function of the $10$-core partition function"
   ]
  },
  {
   "cell_type": "code",
   "execution_count": 38,
   "id": "ad7e1285",
   "metadata": {},
   "outputs": [],
   "source": [
    "# c10_n_gen = (f10^10)/f1"
   ]
  },
  {
   "cell_type": "code",
   "execution_count": 39,
   "id": "1c6aae59",
   "metadata": {},
   "outputs": [],
   "source": [
    "# c10_n = c10_n_gen.list()"
   ]
  },
  {
   "cell_type": "markdown",
   "id": "fbacbdbc",
   "metadata": {},
   "source": [
    "## Basis functions"
   ]
  },
  {
   "cell_type": "code",
   "execution_count": 40,
   "id": "7bbd9b0c",
   "metadata": {},
   "outputs": [],
   "source": [
    "# A = f2^2*f5^7\n",
    "# B = f2^4*f10^6/f5\n",
    "# C = f1^2*f10^10/f5^3\n",
    "# D = f2*f10^13/(f1*f5^4)\n",
    "\n",
    "#L = f1*f2^7*f5^2/f10"
   ]
  },
  {
   "cell_type": "code",
   "execution_count": 41,
   "id": "17d0468c",
   "metadata": {},
   "outputs": [],
   "source": [
    "# A_list = A.list()\n",
    "# B_list = B.list()\n",
    "# C_list = C.list()\n",
    "# D_list = D.list()\n",
    "\n",
    "# L_list = L.list()"
   ]
  },
  {
   "cell_type": "markdown",
   "id": "d92fbc1e",
   "metadata": {},
   "source": [
    "## $c_{10}(5n+4)$"
   ]
  },
  {
   "cell_type": "code",
   "execution_count": 42,
   "id": "3bd93dd8",
   "metadata": {},
   "outputs": [],
   "source": [
    "# c10_5n_4 = [c10_n[5*i+4] for i in range(0,10)]\n",
    "# c10_5n_4"
   ]
  },
  {
   "cell_type": "code",
   "execution_count": 43,
   "id": "b063a93a",
   "metadata": {},
   "outputs": [],
   "source": [
    "# c10_5n_4_gen = 5*(A +6*q*B +19*q^2*C +100*q^3*D)\n",
    "# c10_5n_4_gen.O(10)"
   ]
  },
  {
   "cell_type": "markdown",
   "id": "950a8024",
   "metadata": {},
   "source": [
    "## $c_{10}(125n+74)$"
   ]
  },
  {
   "cell_type": "code",
   "execution_count": 44,
   "id": "84c2bd5d",
   "metadata": {},
   "outputs": [],
   "source": [
    "# c10_125n_74 = [c10_n[125*i+74] for i in range(0,10)]\n",
    "# c10_125n_74"
   ]
  },
  {
   "cell_type": "code",
   "execution_count": 45,
   "id": "4c784c51",
   "metadata": {},
   "outputs": [],
   "source": [
    "# c10_125n_74_gen = 125*(115*L +3283*q*A +18106*q^2*B +59617*q^3*C +312500*q^4*D)\n",
    "# c10_125n_74_gen.O(10)"
   ]
  },
  {
   "cell_type": "markdown",
   "id": "f69e5e0d",
   "metadata": {},
   "source": [
    "## $c_{10}(3125n+1949)$"
   ]
  },
  {
   "cell_type": "code",
   "execution_count": 46,
   "id": "2c3f3c29",
   "metadata": {},
   "outputs": [],
   "source": [
    "#c10_3125n_1949 = [c10_n[3125*i+1949] for i in range(0,9)]\n",
    "#c10_3125n_1949"
   ]
  },
  {
   "cell_type": "code",
   "execution_count": 47,
   "id": "4003d79e",
   "metadata": {},
   "outputs": [],
   "source": [
    "# Let us assume,\n",
    "# c10_3125n_1949_gen = 3125*(l*L +a*q*A +b*q^2*B +c*q^3*C +d*q^4*D)"
   ]
  },
  {
   "cell_type": "code",
   "execution_count": 48,
   "id": "a617102e",
   "metadata": {},
   "outputs": [],
   "source": [
    "#var('l','a','b','c','d')\n",
    "\n",
    "#eq0 = 3125*l*L_list[0] == c10_3125n_1949[0]\n",
    "#eq1 = 3125*(l*L_list[1] +a*A_list[0]) == c10_3125n_1949[1]\n",
    "#eq2 = 3125*(l*L_list[2] +a*A_list[1] +b*B_list[0]) == c10_3125n_1949[2]\n",
    "#eq3 = 3125*(l*L_list[3] +a*A_list[2] +b*B_list[1] +c*C_list[0]) == c10_3125n_1949[3]\n",
    "#eq4 = 3125*(l*L_list[4] +a*A_list[3] +b*B_list[2] +c*C_list[1] +d*D_list[0]) == c10_3125n_1949[4]\n",
    "\n",
    "#solve([eq0, eq1, eq2, eq3, eq4], l,a,b,c,d)"
   ]
  },
  {
   "cell_type": "code",
   "execution_count": 49,
   "id": "3ccab871",
   "metadata": {},
   "outputs": [],
   "source": [
    "#l=358459\n",
    "#a=10267316\n",
    "#b=56589902\n",
    "#c=186281684\n",
    "#d=976565375\n",
    "\n",
    "#c10_3125n_1949_gen_temp = 3125*(l*L +a*q*A +b*q^2*B +c*q^3*C +d*q^4*D)\n",
    "#(l*L +a*q*A +b*q^2*B +c*q^3*C +d*q^4*D).O(9)"
   ]
  },
  {
   "cell_type": "code",
   "execution_count": 50,
   "id": "01328d60",
   "metadata": {},
   "outputs": [],
   "source": [
    "#[coefficient/3125 for coefficient in c10_3125n_1949]"
   ]
  },
  {
   "cell_type": "code",
   "execution_count": 51,
   "id": "c2860513",
   "metadata": {},
   "outputs": [],
   "source": [
    "F = f2^2*f5^16/(f1*f10^8)\n",
    "G = f2*f5^11/f10^3\n",
    "H = f1*f5^6*f10^2\n",
    "I = f1^2*f5*f10^7/f2\n",
    "J = f10^10/f1\n",
    "K = f10^15/(f2*f5^5)"
   ]
  },
  {
   "cell_type": "code",
   "execution_count": 52,
   "id": "411cdd52",
   "metadata": {},
   "outputs": [],
   "source": [
    "# q_G = q*G\n",
    "# q2_H = q^2*H\n",
    "# q3_I = q^3*I\n",
    "# q4_J = q^4*J\n",
    "# q5_K = q^5*K"
   ]
  },
  {
   "cell_type": "code",
   "execution_count": 53,
   "id": "fdbe492a",
   "metadata": {},
   "outputs": [],
   "source": [
    "F_list = F.list()\n",
    "G_list = G.list()\n",
    "H_list = H.list()\n",
    "I_list = I.list()\n",
    "J_list = J.list()\n",
    "K_list = K.list()\n",
    "\n",
    "# q_G_list = q_G.list()\n",
    "# q2_H_list = q2_H.list()\n",
    "# q3_I_list = q3_I.list()\n",
    "# q4_J_list = q4_J.list()\n",
    "# q5_K_list = q5_K.list()"
   ]
  },
  {
   "cell_type": "code",
   "execution_count": 55,
   "id": "fd0071ec",
   "metadata": {},
   "outputs": [],
   "source": [
    "c10_390625n_48824_list = [87513862843750,189117467057343750,1727793011508000000,6837020874447343750,17825766924550140625,37637964003580140625,72041502980182125000,120819086944878421875,188996293940255703125,290564215021450984375,413597624964334390625]"
   ]
  },
  {
   "cell_type": "code",
   "execution_count": 56,
   "id": "61ba1cf9",
   "metadata": {},
   "outputs": [
    {
     "data": {
      "text/html": [
       "<html>\\[\\newcommand{\\Bold}[1]{\\mathbf{#1}}\\left[\\left[f = 87513862843750, g = 189029953194500000, h = 1727793011508000000, i = 8753756325287000000, j = 37061072586632140625, k = 767321591948000000\\right]\\right]\\]</html>"
      ],
      "text/latex": [
       "$$\\newcommand{\\Bold}[1]{\\mathbf{#1}}\\left[\\left[f = 87513862843750, g = 189029953194500000, h = 1727793011508000000, i = 8753756325287000000, j = 37061072586632140625, k = 767321591948000000\\right]\\right]$$"
      ],
      "text/plain": [
       "[[f == 87513862843750, g == 189029953194500000, h == 1727793011508000000, i == 8753756325287000000, j == 37061072586632140625, k == 767321591948000000]]"
      ]
     },
     "execution_count": 56,
     "metadata": {},
     "output_type": "execute_result"
    }
   ],
   "source": [
    "var('f','g','h','i','j','k')\n",
    "\n",
    "eq0 = f*F_list[0] == c10_390625n_48824_list[0]\n",
    "eq1 = f*F_list[1] +g*G_list[0] == c10_390625n_48824_list[1]\n",
    "eq2 = f*F_list[2] +g*G_list[1] +h*H_list[0] == c10_390625n_48824_list[2]\n",
    "eq3 = f*F_list[3] +g*G_list[2] +h*H_list[1] +i*I_list[0] == c10_390625n_48824_list[3]\n",
    "eq4 = f*F_list[4] +g*G_list[3] +h*H_list[2] +i*I_list[1] +j*J_list[0] == c10_390625n_48824_list[4]\n",
    "eq5 = f*F_list[5] +g*G_list[4] +h*H_list[3] +i*I_list[2] +j*J_list[1] +k*K_list[0] == c10_390625n_48824_list[5]\n",
    "\n",
    "solve([eq0, eq1, eq2, eq3, eq4, eq5], f,g,h,i,j,k)"
   ]
  },
  {
   "cell_type": "code",
   "execution_count": 60,
   "id": "9f3ef93b",
   "metadata": {},
   "outputs": [
    {
     "data": {
      "text/html": [
       "<html>\\[\\newcommand{\\Bold}[1]{\\mathbf{#1}}87513862843750 + 189117467057343750 q + 1727793011508000000 q^{2} + 6837020874447343750 q^{3} + 17825766924550140625 q^{4} + 37637964003580140625 q^{5} + 72041502980182125000 q^{6} + 120819086944878421875 q^{7} + 188996293940255703125 q^{8} + 290564215021450984375 q^{9} + 413597624964334390625 q^{10} + O(q^{11})\\]</html>"
      ],
      "text/latex": [
       "$$\\newcommand{\\Bold}[1]{\\mathbf{#1}}87513862843750 + 189117467057343750 q + 1727793011508000000 q^{2} + 6837020874447343750 q^{3} + 17825766924550140625 q^{4} + 37637964003580140625 q^{5} + 72041502980182125000 q^{6} + 120819086944878421875 q^{7} + 188996293940255703125 q^{8} + 290564215021450984375 q^{9} + 413597624964334390625 q^{10} + O(q^{11})$$"
      ],
      "text/plain": [
       "87513862843750 + 189117467057343750*q + 1727793011508000000*q^2 + 6837020874447343750*q^3 + 17825766924550140625*q^4 + 37637964003580140625*q^5 + 72041502980182125000*q^6 + 120819086944878421875*q^7 + 188996293940255703125*q^8 + 290564215021450984375*q^9 + 413597624964334390625*q^10 + O(q^11)"
      ]
     },
     "execution_count": 60,
     "metadata": {},
     "output_type": "execute_result"
    }
   ],
   "source": [
    "f=87513862843750\n",
    "g=189029953194500000\n",
    "h=1727793011508000000\n",
    "i=8753756325287000000\n",
    "j=37061072586632140625\n",
    "k=767321591948000000\n",
    "\n",
    "c10_390625n_48824_gen = f*F +g*q*G +h*q^2*H +i*q^3*I +j*q^4*J +k*q^5*K\n",
    "c10_390625n_48824_gen.O(11)"
   ]
  },
  {
   "cell_type": "code",
   "execution_count": 61,
   "id": "20c50079",
   "metadata": {},
   "outputs": [
    {
     "data": {
      "text/html": [
       "<html>\\[\\newcommand{\\Bold}[1]{\\mathbf{#1}}\\left[87513862843750, 189117467057343750, 1727793011508000000, 6837020874447343750, 17825766924550140625, 37637964003580140625, 72041502980182125000, 120819086944878421875, 188996293940255703125, 290564215021450984375, 413597624964334390625\\right]\\]</html>"
      ],
      "text/latex": [
       "$$\\newcommand{\\Bold}[1]{\\mathbf{#1}}\\left[87513862843750, 189117467057343750, 1727793011508000000, 6837020874447343750, 17825766924550140625, 37637964003580140625, 72041502980182125000, 120819086944878421875, 188996293940255703125, 290564215021450984375, 413597624964334390625\\right]$$"
      ],
      "text/plain": [
       "[87513862843750,\n",
       " 189117467057343750,\n",
       " 1727793011508000000,\n",
       " 6837020874447343750,\n",
       " 17825766924550140625,\n",
       " 37637964003580140625,\n",
       " 72041502980182125000,\n",
       " 120819086944878421875,\n",
       " 188996293940255703125,\n",
       " 290564215021450984375,\n",
       " 413597624964334390625]"
      ]
     },
     "execution_count": 61,
     "metadata": {},
     "output_type": "execute_result"
    }
   ],
   "source": [
    "c10_390625n_48824_list"
   ]
  },
  {
   "cell_type": "code",
   "execution_count": 64,
   "id": "e16a3cf9",
   "metadata": {},
   "outputs": [
    {
     "data": {
      "text/html": [
       "<html>\\[\\newcommand{\\Bold}[1]{\\mathbf{#1}}15625\\]</html>"
      ],
      "text/latex": [
       "$$\\newcommand{\\Bold}[1]{\\mathbf{#1}}15625$$"
      ],
      "text/plain": [
       "15625"
      ]
     },
     "execution_count": 64,
     "metadata": {},
     "output_type": "execute_result"
    }
   ],
   "source": [
    "common = gcd(gcd(gcd(gcd(gcd(f,g),h),i),j),k)\n",
    "common"
   ]
  },
  {
   "cell_type": "code",
   "execution_count": 65,
   "id": "3f5692cd",
   "metadata": {},
   "outputs": [
    {
     "data": {
      "text/html": [
       "<html>\\[\\newcommand{\\Bold}[1]{\\mathbf{#1}}\\left(5600887222, 12097917004448, 110578752736512, 560240404818368, 2371908645544457, 49108581884672\\right)\\]</html>"
      ],
      "text/latex": [
       "$$\\newcommand{\\Bold}[1]{\\mathbf{#1}}\\left(5600887222, 12097917004448, 110578752736512, 560240404818368, 2371908645544457, 49108581884672\\right)$$"
      ],
      "text/plain": [
       "(5600887222,\n",
       " 12097917004448,\n",
       " 110578752736512,\n",
       " 560240404818368,\n",
       " 2371908645544457,\n",
       " 49108581884672)"
      ]
     },
     "execution_count": 65,
     "metadata": {},
     "output_type": "execute_result"
    }
   ],
   "source": [
    "f/common, g/common, h/common, i//common, j/common, k/common"
   ]
  },
  {
   "cell_type": "markdown",
   "id": "f75f19f4",
   "metadata": {},
   "source": [
    "$$c_{10}(390625n+48824) = 15625\\left(5600887222 \\dfrac{f_2^2 f_5^{16}}{f_1 f_{10}^8} +12097917004448 q\\dfrac{f_2 f_5^{11}}{f_{10}^3} +110578752736512 q^2 f_1 f_5^6 f_{10}^2 +560240404818368 q^3\\dfrac{f_1^2 f_5 f_{10}^7}{f_2} +2371908645544457 q^4\\dfrac{f_{10}^{10}}{f1} +49108581884672 q^5\\dfrac{f_{10}^{15}}{f_2 f_5^5} \\right)$$"
   ]
  },
  {
   "cell_type": "code",
   "execution_count": null,
   "id": "ffa84700",
   "metadata": {},
   "outputs": [],
   "source": []
  }
 ],
 "metadata": {
  "kernelspec": {
   "display_name": "SageMath 9.5",
   "language": "sage",
   "name": "sagemath"
  },
  "language_info": {
   "codemirror_mode": {
    "name": "ipython",
    "version": 3
   },
   "file_extension": ".py",
   "mimetype": "text/x-python",
   "name": "python",
   "nbconvert_exporter": "python",
   "pygments_lexer": "ipython3",
   "version": "3.9.9"
  }
 },
 "nbformat": 4,
 "nbformat_minor": 5
}
