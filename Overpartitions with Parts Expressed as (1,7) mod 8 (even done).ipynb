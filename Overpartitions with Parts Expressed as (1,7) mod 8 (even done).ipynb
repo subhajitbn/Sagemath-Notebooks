{
 "cells": [
  {
   "cell_type": "markdown",
   "id": "d75a000e",
   "metadata": {},
   "source": [
    "# Ramanujan's Theta Functions\n",
    "\n",
    "## Definitions\n",
    "\n",
    "Let $a$ and $b$ be integers. Then we define \n",
    "$$\n",
    "f(a,b) := (-q^a;q^{a+b})_{\\infty}(-q^b;q^{a+b})_{\\infty}(q^{a+b};q^{a+b})_{\\infty}.\n",
    "$$\n",
    "\n",
    "For the ease of programming, we break the above into two different functions defined below.\n",
    "\n",
    "$$\n",
    "sf(a,b) :=  (-q^a;q^{a+b})_{\\infty}\n",
    "$$\n",
    "and\n",
    "$$\n",
    "f_n := (q^{n};q^{n})_{\\infty}.\n",
    "$$\n",
    "\n",
    "This implies,\n",
    "\n",
    "$$\n",
    "f(a,b) \\quad = \\quad sf(a,b) \\; sf(b,a) \\; f_{a+b}.\n",
    "$$\n",
    "\n",
    "Note that, to avoid confusion, we rename $f(a,b)$ to $ftheta(a,b)$ and $f_n$ to $f(n)$ in the following code. "
   ]
  },
  {
   "cell_type": "code",
   "execution_count": 1,
   "id": "e269b40b",
   "metadata": {},
   "outputs": [],
   "source": [
    "%display latex"
   ]
  },
  {
   "cell_type": "code",
   "execution_count": 2,
   "id": "3a4e2988",
   "metadata": {},
   "outputs": [],
   "source": [
    "from sage.modular.etaproducts import qexp_eta\n",
    "from math import floor\n",
    "import numpy as np"
   ]
  },
  {
   "cell_type": "code",
   "execution_count": 3,
   "id": "98f0c306",
   "metadata": {},
   "outputs": [],
   "source": [
    "R.<q> = PowerSeriesRing(ZZ)\n",
    "f1 = qexp_eta(ZZ[['q']], 2000)\n",
    "\n",
    "def sf(a, b):\n",
    "    top = floor((2000-a)/(a+b))\n",
    "    base = 1\n",
    "    for r in range(0,top):\n",
    "        next_term = 1 + q^(a+r*(a+b))\n",
    "        base = base * next_term\n",
    "    return base + O(q^2000)\n",
    "\n",
    "def f(n):\n",
    "    return f1.V(n)\n",
    "\n",
    "def ftheta(a,b):\n",
    "    return sf(a,b)*sf(b,a)*f(a+b)"
   ]
  },
  {
   "cell_type": "code",
   "execution_count": 4,
   "id": "ad0d0486",
   "metadata": {},
   "outputs": [
    {
     "data": {
      "text/html": [
       "<html>\\[\\newcommand{\\Bold}[1]{\\mathbf{#1}}1 +  q +  q^{7} +  q^{10} +  q^{22} +  q^{27} +  q^{45} +  q^{52} +  q^{76} +  q^{85} +  q^{115} +  q^{126} +  q^{162} +  q^{175} +  q^{217} +  q^{232} +  q^{280} +  q^{297} +  q^{351} +  q^{370} +  q^{430} +  q^{451} +  q^{517} +  q^{540} +  q^{612} +  q^{637} +  q^{715} +  q^{742} +  q^{826} +  q^{855} +  q^{945} +  q^{976} +  q^{1072} +  q^{1105} +  q^{1207} +  q^{1242} +  q^{1350} +  q^{1387} +  q^{1501} +  q^{1540} +  q^{1660} +  q^{1701} +  q^{1827} +  q^{1870} -  q^{1993} -  q^{1994} -  q^{1999} + O(q^{2000})\\]</html>"
      ],
      "text/latex": [
       "$$\\newcommand{\\Bold}[1]{\\mathbf{#1}}1 +  q +  q^{7} +  q^{10} +  q^{22} +  q^{27} +  q^{45} +  q^{52} +  q^{76} +  q^{85} +  q^{115} +  q^{126} +  q^{162} +  q^{175} +  q^{217} +  q^{232} +  q^{280} +  q^{297} +  q^{351} +  q^{370} +  q^{430} +  q^{451} +  q^{517} +  q^{540} +  q^{612} +  q^{637} +  q^{715} +  q^{742} +  q^{826} +  q^{855} +  q^{945} +  q^{976} +  q^{1072} +  q^{1105} +  q^{1207} +  q^{1242} +  q^{1350} +  q^{1387} +  q^{1501} +  q^{1540} +  q^{1660} +  q^{1701} +  q^{1827} +  q^{1870} -  q^{1993} -  q^{1994} -  q^{1999} + O(q^{2000})$$"
      ],
      "text/plain": [
       "1 + q + q^7 + q^10 + q^22 + q^27 + q^45 + q^52 + q^76 + q^85 + q^115 + q^126 + q^162 + q^175 + q^217 + q^232 + q^280 + q^297 + q^351 + q^370 + q^430 + q^451 + q^517 + q^540 + q^612 + q^637 + q^715 + q^742 + q^826 + q^855 + q^945 + q^976 + q^1072 + q^1105 + q^1207 + q^1242 + q^1350 + q^1387 + q^1501 + q^1540 + q^1660 + q^1701 + q^1827 + q^1870 - q^1993 - q^1994 - q^1999 + O(q^2000)"
      ]
     },
     "execution_count": 4,
     "metadata": {},
     "output_type": "execute_result"
    }
   ],
   "source": [
    "f_q_q7 = ftheta(1,7)\n",
    "f_q_q7"
   ]
  },
  {
   "cell_type": "code",
   "execution_count": 5,
   "id": "6a2517bc",
   "metadata": {},
   "outputs": [
    {
     "data": {
      "text/html": [
       "<html>\\[\\newcommand{\\Bold}[1]{\\mathbf{#1}}1 -  q -  q^{7} +  q^{10} +  q^{22} -  q^{27} -  q^{45} +  q^{52} +  q^{76} -  q^{85} -  q^{115} +  q^{126} +  q^{162} -  q^{175} -  q^{217} +  q^{232} +  q^{280} -  q^{297} -  q^{351} +  q^{370} +  q^{430} -  q^{451} -  q^{517} +  q^{540} +  q^{612} -  q^{637} -  q^{715} +  q^{742} +  q^{826} -  q^{855} -  q^{945} +  q^{976} +  q^{1072} -  q^{1105} -  q^{1207} +  q^{1242} +  q^{1350} -  q^{1387} -  q^{1501} +  q^{1540} +  q^{1660} -  q^{1701} -  q^{1827} +  q^{1870} +  q^{1993} -  q^{1994} +  q^{1999} + O(q^{2000})\\]</html>"
      ],
      "text/latex": [
       "$$\\newcommand{\\Bold}[1]{\\mathbf{#1}}1 -  q -  q^{7} +  q^{10} +  q^{22} -  q^{27} -  q^{45} +  q^{52} +  q^{76} -  q^{85} -  q^{115} +  q^{126} +  q^{162} -  q^{175} -  q^{217} +  q^{232} +  q^{280} -  q^{297} -  q^{351} +  q^{370} +  q^{430} -  q^{451} -  q^{517} +  q^{540} +  q^{612} -  q^{637} -  q^{715} +  q^{742} +  q^{826} -  q^{855} -  q^{945} +  q^{976} +  q^{1072} -  q^{1105} -  q^{1207} +  q^{1242} +  q^{1350} -  q^{1387} -  q^{1501} +  q^{1540} +  q^{1660} -  q^{1701} -  q^{1827} +  q^{1870} +  q^{1993} -  q^{1994} +  q^{1999} + O(q^{2000})$$"
      ],
      "text/plain": [
       "1 - q - q^7 + q^10 + q^22 - q^27 - q^45 + q^52 + q^76 - q^85 - q^115 + q^126 + q^162 - q^175 - q^217 + q^232 + q^280 - q^297 - q^351 + q^370 + q^430 - q^451 - q^517 + q^540 + q^612 - q^637 - q^715 + q^742 + q^826 - q^855 - q^945 + q^976 + q^1072 - q^1105 - q^1207 + q^1242 + q^1350 - q^1387 - q^1501 + q^1540 + q^1660 - q^1701 - q^1827 + q^1870 + q^1993 - q^1994 + q^1999 + O(q^2000)"
      ]
     },
     "execution_count": 5,
     "metadata": {},
     "output_type": "execute_result"
    }
   ],
   "source": [
    "coefficients_list = f_q_q7.list()\n",
    "\n",
    "def isodd(number):\n",
    "    return number % 2 == 1\n",
    "\n",
    "for i in range(len(coefficients_list)):\n",
    "    if isodd(i):\n",
    "        coefficients_list[i] = -coefficients_list[i]\n",
    "\n",
    "f_nq_nq7 = R(coefficients_list, 2000)\n",
    "f_nq_nq7"
   ]
  },
  {
   "cell_type": "code",
   "execution_count": 6,
   "id": "467201d2",
   "metadata": {},
   "outputs": [],
   "source": [
    "op17 = ((f_q_q7/f_nq_nq7).list())[:1800]"
   ]
  },
  {
   "cell_type": "code",
   "execution_count": 7,
   "id": "2ae1b68b",
   "metadata": {},
   "outputs": [],
   "source": [
    "myarr_0_mod_2 = []\n",
    "for i in range(120):\n",
    "    myarr_0_mod_2.append(op17[2*i+0])\n",
    "    \n",
    "myarr_1_mod_2 = []\n",
    "for i in range(120):\n",
    "    myarr_1_mod_2.append(op17[2*i+1])\n",
    "\n",
    "myarr_0_mod_4 = []\n",
    "for i in range(60):\n",
    "    myarr_0_mod_4.append(op17[4*i])\n",
    "    \n",
    "myarr_1_mod_4 = []\n",
    "for i in range(60):\n",
    "    myarr_1_mod_4.append(op17[4*i+1])\n",
    "\n",
    "myarr_2_mod_4 = []\n",
    "for i in range(60):\n",
    "    myarr_2_mod_4.append(op17[4*i+2])\n",
    "    \n",
    "myarr_3_mod_4 = []\n",
    "for i in range(60):\n",
    "    myarr_3_mod_4.append(op17[4*i+3])\n",
    "\n",
    "myarr_0_mod_8 = []\n",
    "for i in range(30):\n",
    "    myarr_0_mod_8.append(op17[8*i])\n",
    "    \n",
    "myarr_1_mod_8 = []\n",
    "for i in range(30):\n",
    "    myarr_1_mod_8.append(op17[8*i+1])\n",
    "    \n",
    "myarr_2_mod_8 = []\n",
    "for i in range(30):\n",
    "    myarr_2_mod_8.append(op17[8*i+2])\n",
    "    \n",
    "myarr_3_mod_8 = []\n",
    "for i in range(30):\n",
    "    myarr_3_mod_8.append(op17[8*i+3])\n",
    "\n",
    "myarr_4_mod_8 = []\n",
    "for i in range(30):\n",
    "    myarr_4_mod_8.append(op17[8*i+4])\n",
    "    \n",
    "myarr_5_mod_8 = []\n",
    "for i in range(30):\n",
    "    myarr_5_mod_8.append(op17[8*i+5])\n",
    "    \n",
    "myarr_6_mod_8 = []\n",
    "for i in range(30):\n",
    "    myarr_6_mod_8.append(op17[8*i+6])\n",
    "    \n",
    "myarr_7_mod_8 = []\n",
    "for i in range(30):\n",
    "    myarr_7_mod_8.append(op17[8*i+7])\n",
    "\n",
    "myarr_0_mod_16 = []\n",
    "for i in range(15):\n",
    "    myarr_0_mod_16.append(op17[16*i+1])\n",
    "    \n",
    "myarr_1_mod_16 = []\n",
    "for i in range(15):\n",
    "    myarr_1_mod_16.append(op17[16*i+1])\n",
    "    \n",
    "myarr_2_mod_16 = []\n",
    "for i in range(15):\n",
    "    myarr_2_mod_16.append(op17[16*i+2])\n",
    "    \n",
    "myarr_3_mod_16 = []\n",
    "for i in range(15):\n",
    "    myarr_3_mod_16.append(op17[16*i+3])\n",
    "    \n",
    "myarr_4_mod_16 = []\n",
    "for i in range(15):\n",
    "    myarr_4_mod_16.append(op17[16*i+4])\n",
    "    \n",
    "myarr_5_mod_16 = []\n",
    "for i in range(15):\n",
    "    myarr_5_mod_16.append(op17[16*i+5])\n",
    "    \n",
    "myarr_6_mod_16 = []\n",
    "for i in range(15):\n",
    "    myarr_6_mod_16.append(op17[16*i+6])\n",
    "    \n",
    "myarr_7_mod_16 = []\n",
    "for i in range(15):\n",
    "    myarr_7_mod_16.append(op17[16*i+7])\n",
    "    \n",
    "myarr_8_mod_16 = []\n",
    "for i in range(15):\n",
    "    myarr_8_mod_16.append(op17[16*i+8])\n",
    "    \n",
    "myarr_9_mod_16 = []\n",
    "for i in range(15):\n",
    "    myarr_9_mod_16.append(op17[16*i+9])\n",
    "    \n",
    "myarr_10_mod_16 = []\n",
    "for i in range(15):\n",
    "    myarr_10_mod_16.append(op17[16*i+10])\n",
    "    \n",
    "myarr_11_mod_16 = []\n",
    "for i in range(15):\n",
    "    myarr_11_mod_16.append(op17[16*i+11])\n",
    "    \n",
    "myarr_12_mod_16 = []\n",
    "for i in range(15):\n",
    "    myarr_12_mod_16.append(op17[16*i+12])\n",
    "    \n",
    "myarr_13_mod_16 = []\n",
    "for i in range(15):\n",
    "    myarr_13_mod_16.append(op17[16*i+13])\n",
    "    \n",
    "myarr_14_mod_16 = []\n",
    "for i in range(15):\n",
    "    myarr_14_mod_16.append(op17[16*i+14])\n",
    "    \n",
    "myarr_15_mod_16 = []\n",
    "for i in range(15):\n",
    "    myarr_15_mod_16.append(op17[16*i+15])\n",
    "\n",
    "myarr_0_mod_32 = []\n",
    "for i in range(10):\n",
    "    myarr_0_mod_32.append(op17[32*i])\n",
    "    \n",
    "myarr_1_mod_32 = []\n",
    "for i in range(10):\n",
    "    myarr_1_mod_32.append(op17[32*i+1])\n",
    "    \n",
    "myarr_2_mod_32 = []\n",
    "for i in range(10):\n",
    "    myarr_2_mod_32.append(op17[32*i+2])\n",
    "    \n",
    "myarr_3_mod_32 = []\n",
    "for i in range(8):\n",
    "    myarr_3_mod_32.append(op17[32*i+3])\n",
    "    \n",
    "myarr_4_mod_32 = []\n",
    "for i in range(10):\n",
    "    myarr_4_mod_32.append(op17[32*i+4])\n",
    "    \n",
    "myarr_5_mod_32 = []\n",
    "for i in range(8):\n",
    "    myarr_5_mod_32.append(op17[32*i+5])\n",
    "    \n",
    "myarr_6_mod_32 = []\n",
    "for i in range(10):\n",
    "    myarr_6_mod_32.append(op17[32*i+6])\n",
    "    \n",
    "myarr_7_mod_32 = []\n",
    "for i in range(8):\n",
    "    myarr_7_mod_32.append(op17[32*i+7])\n",
    "    \n",
    "myarr_8_mod_32 = []\n",
    "for i in range(10):\n",
    "    myarr_8_mod_32.append(op17[32*i+8])\n",
    "    \n",
    "myarr_9_mod_32 = []\n",
    "for i in range(8):\n",
    "    myarr_9_mod_32.append(op17[32*i+9])\n",
    "    \n",
    "myarr_10_mod_32 = []\n",
    "for i in range(10):\n",
    "    myarr_10_mod_32.append(op17[32*i+10])\n",
    "    \n",
    "myarr_11_mod_32 = []\n",
    "for i in range(8):\n",
    "    myarr_11_mod_32.append(op17[32*i+11])\n",
    "    \n",
    "myarr_12_mod_32 = []\n",
    "for i in range(10):\n",
    "    myarr_12_mod_32.append(op17[32*i+12])\n",
    "    \n",
    "myarr_13_mod_32 = []\n",
    "for i in range(8):\n",
    "    myarr_13_mod_32.append(op17[32*i+13])\n",
    "    \n",
    "myarr_14_mod_32 = []\n",
    "for i in range(10):\n",
    "    myarr_14_mod_32.append(op17[32*i+14])\n",
    "    \n",
    "myarr_15_mod_32 = []\n",
    "for i in range(8):\n",
    "    myarr_15_mod_32.append(op17[32*i+15])\n",
    "    \n",
    "myarr_16_mod_32 = []\n",
    "for i in range(10):\n",
    "    myarr_16_mod_32.append(op17[32*i+16])\n",
    "    \n",
    "myarr_17_mod_32 = []\n",
    "for i in range(9):\n",
    "    myarr_17_mod_32.append(op17[32*i+17])\n",
    "    \n",
    "myarr_18_mod_32 = []\n",
    "for i in range(30):\n",
    "    myarr_18_mod_32.append(op17[32*i+18])\n",
    "    \n",
    "myarr_19_mod_32 = []\n",
    "for i in range(8):\n",
    "    myarr_19_mod_32.append(op17[32*i+19])\n",
    "\n",
    "myarr_20_mod_32 = []\n",
    "for i in range(8):\n",
    "    myarr_20_mod_32.append(op17[32*i+20])\n",
    "    \n",
    "myarr_21_mod_32 = []\n",
    "for i in range(8):\n",
    "    myarr_21_mod_32.append(op17[32*i+21])\n",
    "    \n",
    "myarr_22_mod_32 = []\n",
    "for i in range(8):\n",
    "    myarr_22_mod_32.append(op17[32*i+22])\n",
    "    \n",
    "myarr_23_mod_32 = []\n",
    "for i in range(8):\n",
    "    myarr_23_mod_32.append(op17[32*i+23])\n",
    "    \n",
    "myarr_24_mod_32 = []\n",
    "for i in range(8):\n",
    "    myarr_24_mod_32.append(op17[32*i+24])\n",
    "    \n",
    "myarr_25_mod_32 = []\n",
    "for i in range(8):\n",
    "    myarr_25_mod_32.append(op17[32*i+25])\n",
    "    \n",
    "myarr_26_mod_32 = []\n",
    "for i in range(8):\n",
    "    myarr_26_mod_32.append(op17[32*i+26])\n",
    "    \n",
    "myarr_27_mod_32 = []\n",
    "for i in range(8):\n",
    "    myarr_27_mod_32.append(op17[32*i+27])\n",
    "    \n",
    "myarr_28_mod_32 = []\n",
    "for i in range(8):\n",
    "    myarr_28_mod_32.append(op17[32*i+28])\n",
    "    \n",
    "myarr_29_mod_32 = []\n",
    "for i in range(8):\n",
    "    myarr_29_mod_32.append(op17[32*i+29])\n",
    "    \n",
    "myarr_30_mod_32 = []\n",
    "for i in range(8):\n",
    "    myarr_30_mod_32.append(op17[32*i+30])\n",
    "    \n",
    "myarr_31_mod_32 = []\n",
    "for i in range(8):\n",
    "    myarr_31_mod_32.append(op17[32*i+31])"
   ]
  },
  {
   "cell_type": "code",
   "execution_count": 8,
   "id": "fa50b72c",
   "metadata": {},
   "outputs": [
    {
     "data": {
      "text/html": [
       "<html>\\[\\newcommand{\\Bold}[1]{\\mathbf{#1}}\\begin{array}{l}\n",
       "\\verb|[False|\\verb|  |\\verb|True|\\verb|  |\\verb|True|\\verb|  |\\verb|True|\\verb|  |\\verb|True|\\verb|  |\\verb|True|\\verb|  |\\verb|True|\\verb|  |\\verb|True|\\verb|  |\\verb|True|\\verb|  |\\verb|True|\\verb|  |\\verb|True|\\verb|  |\\verb|True|\\\\\n",
       "\\verb|  |\\verb|True|\\verb|  |\\verb|True|\\verb|  |\\verb|True|\\verb|  |\\verb|True|\\verb|  |\\verb|True|\\verb|  |\\verb|True|\\verb|  |\\verb|True|\\verb|  |\\verb|True|\\verb|  |\\verb|True|\\verb|  |\\verb|True|\\verb|  |\\verb|True|\\verb|  |\\verb|True|\\\\\n",
       "\\verb|  |\\verb|True|\\verb|  |\\verb|True|\\verb|  |\\verb|True|\\verb|  |\\verb|True|\\verb|  |\\verb|True|\\verb|  |\\verb|True|\\verb|  |\\verb|True|\\verb|  |\\verb|True|\\verb|  |\\verb|True|\\verb|  |\\verb|True|\\verb|  |\\verb|True|\\verb|  |\\verb|True|\\\\\n",
       "\\verb|  |\\verb|True|\\verb|  |\\verb|True|\\verb|  |\\verb|True|\\verb|  |\\verb|True|\\verb|  |\\verb|True|\\verb|  |\\verb|True|\\verb|  |\\verb|True|\\verb|  |\\verb|True|\\verb|  |\\verb|True|\\verb|  |\\verb|True|\\verb|  |\\verb|True|\\verb|  |\\verb|True|\\\\\n",
       "\\verb|  |\\verb|True|\\verb|  |\\verb|True|\\verb|  |\\verb|True|\\verb|  |\\verb|True|\\verb|  |\\verb|True|\\verb|  |\\verb|True|\\verb|  |\\verb|True|\\verb|  |\\verb|True|\\verb|  |\\verb|True|\\verb|  |\\verb|True|\\verb|  |\\verb|True|\\verb|  |\\verb|True|\\\\\n",
       "\\verb|  |\\verb|True|\\verb|  |\\verb|True|\\verb|  |\\verb|True|\\verb|  |\\verb|True|\\verb|  |\\verb|True|\\verb|  |\\verb|True|\\verb|  |\\verb|True|\\verb|  |\\verb|True|\\verb|  |\\verb|True|\\verb|  |\\verb|True|\\verb|  |\\verb|True|\\verb|  |\\verb|True|\\\\\n",
       "\\verb|  |\\verb|True|\\verb|  |\\verb|True|\\verb|  |\\verb|True|\\verb|  |\\verb|True|\\verb|  |\\verb|True|\\verb|  |\\verb|True|\\verb|  |\\verb|True|\\verb|  |\\verb|True|\\verb|  |\\verb|True|\\verb|  |\\verb|True|\\verb|  |\\verb|True|\\verb|  |\\verb|True|\\\\\n",
       "\\verb|  |\\verb|True|\\verb|  |\\verb|True|\\verb|  |\\verb|True|\\verb|  |\\verb|True|\\verb|  |\\verb|True|\\verb|  |\\verb|True|\\verb|  |\\verb|True|\\verb|  |\\verb|True|\\verb|  |\\verb|True|\\verb|  |\\verb|True|\\verb|  |\\verb|True|\\verb|  |\\verb|True|\\\\\n",
       "\\verb|  |\\verb|True|\\verb|  |\\verb|True|\\verb|  |\\verb|True|\\verb|  |\\verb|True|\\verb|  |\\verb|True|\\verb|  |\\verb|True|\\verb|  |\\verb|True|\\verb|  |\\verb|True|\\verb|  |\\verb|True|\\verb|  |\\verb|True|\\verb|  |\\verb|True|\\verb|  |\\verb|True|\\\\\n",
       "\\verb|  |\\verb|True|\\verb|  |\\verb|True|\\verb|  |\\verb|True|\\verb|  |\\verb|True|\\verb|  |\\verb|True|\\verb|  |\\verb|True|\\verb|  |\\verb|True|\\verb|  |\\verb|True|\\verb|  |\\verb|True|\\verb|  |\\verb|True|\\verb|  |\\verb|True|\\verb|  |\\verb|True]|\n",
       "\\end{array}\\]</html>"
      ],
      "text/latex": [
       "$$\\newcommand{\\Bold}[1]{\\mathbf{#1}}\\begin{array}{l}\n",
       "\\verb|[False|\\verb|  |\\verb|True|\\verb|  |\\verb|True|\\verb|  |\\verb|True|\\verb|  |\\verb|True|\\verb|  |\\verb|True|\\verb|  |\\verb|True|\\verb|  |\\verb|True|\\verb|  |\\verb|True|\\verb|  |\\verb|True|\\verb|  |\\verb|True|\\verb|  |\\verb|True|\\\\\n",
       "\\verb|  |\\verb|True|\\verb|  |\\verb|True|\\verb|  |\\verb|True|\\verb|  |\\verb|True|\\verb|  |\\verb|True|\\verb|  |\\verb|True|\\verb|  |\\verb|True|\\verb|  |\\verb|True|\\verb|  |\\verb|True|\\verb|  |\\verb|True|\\verb|  |\\verb|True|\\verb|  |\\verb|True|\\\\\n",
       "\\verb|  |\\verb|True|\\verb|  |\\verb|True|\\verb|  |\\verb|True|\\verb|  |\\verb|True|\\verb|  |\\verb|True|\\verb|  |\\verb|True|\\verb|  |\\verb|True|\\verb|  |\\verb|True|\\verb|  |\\verb|True|\\verb|  |\\verb|True|\\verb|  |\\verb|True|\\verb|  |\\verb|True|\\\\\n",
       "\\verb|  |\\verb|True|\\verb|  |\\verb|True|\\verb|  |\\verb|True|\\verb|  |\\verb|True|\\verb|  |\\verb|True|\\verb|  |\\verb|True|\\verb|  |\\verb|True|\\verb|  |\\verb|True|\\verb|  |\\verb|True|\\verb|  |\\verb|True|\\verb|  |\\verb|True|\\verb|  |\\verb|True|\\\\\n",
       "\\verb|  |\\verb|True|\\verb|  |\\verb|True|\\verb|  |\\verb|True|\\verb|  |\\verb|True|\\verb|  |\\verb|True|\\verb|  |\\verb|True|\\verb|  |\\verb|True|\\verb|  |\\verb|True|\\verb|  |\\verb|True|\\verb|  |\\verb|True|\\verb|  |\\verb|True|\\verb|  |\\verb|True|\\\\\n",
       "\\verb|  |\\verb|True|\\verb|  |\\verb|True|\\verb|  |\\verb|True|\\verb|  |\\verb|True|\\verb|  |\\verb|True|\\verb|  |\\verb|True|\\verb|  |\\verb|True|\\verb|  |\\verb|True|\\verb|  |\\verb|True|\\verb|  |\\verb|True|\\verb|  |\\verb|True|\\verb|  |\\verb|True|\\\\\n",
       "\\verb|  |\\verb|True|\\verb|  |\\verb|True|\\verb|  |\\verb|True|\\verb|  |\\verb|True|\\verb|  |\\verb|True|\\verb|  |\\verb|True|\\verb|  |\\verb|True|\\verb|  |\\verb|True|\\verb|  |\\verb|True|\\verb|  |\\verb|True|\\verb|  |\\verb|True|\\verb|  |\\verb|True|\\\\\n",
       "\\verb|  |\\verb|True|\\verb|  |\\verb|True|\\verb|  |\\verb|True|\\verb|  |\\verb|True|\\verb|  |\\verb|True|\\verb|  |\\verb|True|\\verb|  |\\verb|True|\\verb|  |\\verb|True|\\verb|  |\\verb|True|\\verb|  |\\verb|True|\\verb|  |\\verb|True|\\verb|  |\\verb|True|\\\\\n",
       "\\verb|  |\\verb|True|\\verb|  |\\verb|True|\\verb|  |\\verb|True|\\verb|  |\\verb|True|\\verb|  |\\verb|True|\\verb|  |\\verb|True|\\verb|  |\\verb|True|\\verb|  |\\verb|True|\\verb|  |\\verb|True|\\verb|  |\\verb|True|\\verb|  |\\verb|True|\\verb|  |\\verb|True|\\\\\n",
       "\\verb|  |\\verb|True|\\verb|  |\\verb|True|\\verb|  |\\verb|True|\\verb|  |\\verb|True|\\verb|  |\\verb|True|\\verb|  |\\verb|True|\\verb|  |\\verb|True|\\verb|  |\\verb|True|\\verb|  |\\verb|True|\\verb|  |\\verb|True|\\verb|  |\\verb|True|\\verb|  |\\verb|True]|\n",
       "\\end{array}$$"
      ],
      "text/plain": [
       "array([False,  True,  True,  True,  True,  True,  True,  True,  True,\n",
       "        True,  True,  True,  True,  True,  True,  True,  True,  True,\n",
       "        True,  True,  True,  True,  True,  True,  True,  True,  True,\n",
       "        True,  True,  True,  True,  True,  True,  True,  True,  True,\n",
       "        True,  True,  True,  True,  True,  True,  True,  True,  True,\n",
       "        True,  True,  True,  True,  True,  True,  True,  True,  True,\n",
       "        True,  True,  True,  True,  True,  True,  True,  True,  True,\n",
       "        True,  True,  True,  True,  True,  True,  True,  True,  True,\n",
       "        True,  True,  True,  True,  True,  True,  True,  True,  True,\n",
       "        True,  True,  True,  True,  True,  True,  True,  True,  True,\n",
       "        True,  True,  True,  True,  True,  True,  True,  True,  True,\n",
       "        True,  True,  True,  True,  True,  True,  True,  True,  True,\n",
       "        True,  True,  True,  True,  True,  True,  True,  True,  True,\n",
       "        True,  True,  True])"
      ]
     },
     "execution_count": 8,
     "metadata": {},
     "output_type": "execute_result"
    }
   ],
   "source": [
    "np.array(myarr_0_mod_2)%2==0"
   ]
  },
  {
   "cell_type": "code",
   "execution_count": 9,
   "id": "9b17b0a1",
   "metadata": {},
   "outputs": [
    {
     "data": {
      "text/html": [
       "<html>\\[\\newcommand{\\Bold}[1]{\\mathbf{#1}}\\begin{array}{l}\n",
       "\\verb|[|\\verb| |\\verb|True|\\verb|  |\\verb|True|\\verb|  |\\verb|True|\\verb|  |\\verb|True|\\verb|  |\\verb|True|\\verb|  |\\verb|True|\\verb|  |\\verb|True|\\verb|  |\\verb|True|\\verb|  |\\verb|True|\\verb|  |\\verb|True|\\verb|  |\\verb|True|\\verb|  |\\verb|True|\\\\\n",
       "\\verb|  |\\verb|True|\\verb|  |\\verb|True|\\verb|  |\\verb|True|\\verb|  |\\verb|True|\\verb|  |\\verb|True|\\verb|  |\\verb|True|\\verb|  |\\verb|True|\\verb|  |\\verb|True|\\verb|  |\\verb|True|\\verb|  |\\verb|True|\\verb|  |\\verb|True|\\verb|  |\\verb|True|\\\\\n",
       "\\verb|  |\\verb|True|\\verb|  |\\verb|True|\\verb|  |\\verb|True|\\verb|  |\\verb|True|\\verb|  |\\verb|True|\\verb|  |\\verb|True|\\verb|  |\\verb|True|\\verb|  |\\verb|True|\\verb|  |\\verb|True|\\verb|  |\\verb|True|\\verb|  |\\verb|True|\\verb|  |\\verb|True|\\\\\n",
       "\\verb|  |\\verb|True|\\verb|  |\\verb|True|\\verb|  |\\verb|True|\\verb|  |\\verb|True|\\verb|  |\\verb|True|\\verb|  |\\verb|True|\\verb|  |\\verb|True|\\verb|  |\\verb|True|\\verb|  |\\verb|True|\\verb|  |\\verb|True|\\verb|  |\\verb|True|\\verb|  |\\verb|True|\\\\\n",
       "\\verb|  |\\verb|True|\\verb|  |\\verb|True|\\verb|  |\\verb|True|\\verb|  |\\verb|True|\\verb|  |\\verb|True|\\verb|  |\\verb|True|\\verb|  |\\verb|True|\\verb|  |\\verb|True|\\verb|  |\\verb|True|\\verb|  |\\verb|True|\\verb|  |\\verb|True|\\verb|  |\\verb|True|\\\\\n",
       "\\verb|  |\\verb|True|\\verb|  |\\verb|True|\\verb|  |\\verb|True|\\verb|  |\\verb|True|\\verb|  |\\verb|True|\\verb|  |\\verb|True|\\verb|  |\\verb|True|\\verb|  |\\verb|True|\\verb|  |\\verb|True|\\verb|  |\\verb|True|\\verb|  |\\verb|True|\\verb|  |\\verb|True|\\\\\n",
       "\\verb|  |\\verb|True|\\verb|  |\\verb|True|\\verb|  |\\verb|True|\\verb|  |\\verb|True|\\verb|  |\\verb|True|\\verb|  |\\verb|True|\\verb|  |\\verb|True|\\verb|  |\\verb|True|\\verb|  |\\verb|True|\\verb|  |\\verb|True|\\verb|  |\\verb|True|\\verb|  |\\verb|True|\\\\\n",
       "\\verb|  |\\verb|True|\\verb|  |\\verb|True|\\verb|  |\\verb|True|\\verb|  |\\verb|True|\\verb|  |\\verb|True|\\verb|  |\\verb|True|\\verb|  |\\verb|True|\\verb|  |\\verb|True|\\verb|  |\\verb|True|\\verb|  |\\verb|True|\\verb|  |\\verb|True|\\verb|  |\\verb|True|\\\\\n",
       "\\verb|  |\\verb|True|\\verb|  |\\verb|True|\\verb|  |\\verb|True|\\verb|  |\\verb|True|\\verb|  |\\verb|True|\\verb|  |\\verb|True|\\verb|  |\\verb|True|\\verb|  |\\verb|True|\\verb|  |\\verb|True|\\verb|  |\\verb|True|\\verb|  |\\verb|True|\\verb|  |\\verb|True|\\\\\n",
       "\\verb|  |\\verb|True|\\verb|  |\\verb|True|\\verb|  |\\verb|True|\\verb|  |\\verb|True|\\verb|  |\\verb|True|\\verb|  |\\verb|True|\\verb|  |\\verb|True|\\verb|  |\\verb|True|\\verb|  |\\verb|True|\\verb|  |\\verb|True|\\verb|  |\\verb|True|\\verb|  |\\verb|True]|\n",
       "\\end{array}\\]</html>"
      ],
      "text/latex": [
       "$$\\newcommand{\\Bold}[1]{\\mathbf{#1}}\\begin{array}{l}\n",
       "\\verb|[|\\verb| |\\verb|True|\\verb|  |\\verb|True|\\verb|  |\\verb|True|\\verb|  |\\verb|True|\\verb|  |\\verb|True|\\verb|  |\\verb|True|\\verb|  |\\verb|True|\\verb|  |\\verb|True|\\verb|  |\\verb|True|\\verb|  |\\verb|True|\\verb|  |\\verb|True|\\verb|  |\\verb|True|\\\\\n",
       "\\verb|  |\\verb|True|\\verb|  |\\verb|True|\\verb|  |\\verb|True|\\verb|  |\\verb|True|\\verb|  |\\verb|True|\\verb|  |\\verb|True|\\verb|  |\\verb|True|\\verb|  |\\verb|True|\\verb|  |\\verb|True|\\verb|  |\\verb|True|\\verb|  |\\verb|True|\\verb|  |\\verb|True|\\\\\n",
       "\\verb|  |\\verb|True|\\verb|  |\\verb|True|\\verb|  |\\verb|True|\\verb|  |\\verb|True|\\verb|  |\\verb|True|\\verb|  |\\verb|True|\\verb|  |\\verb|True|\\verb|  |\\verb|True|\\verb|  |\\verb|True|\\verb|  |\\verb|True|\\verb|  |\\verb|True|\\verb|  |\\verb|True|\\\\\n",
       "\\verb|  |\\verb|True|\\verb|  |\\verb|True|\\verb|  |\\verb|True|\\verb|  |\\verb|True|\\verb|  |\\verb|True|\\verb|  |\\verb|True|\\verb|  |\\verb|True|\\verb|  |\\verb|True|\\verb|  |\\verb|True|\\verb|  |\\verb|True|\\verb|  |\\verb|True|\\verb|  |\\verb|True|\\\\\n",
       "\\verb|  |\\verb|True|\\verb|  |\\verb|True|\\verb|  |\\verb|True|\\verb|  |\\verb|True|\\verb|  |\\verb|True|\\verb|  |\\verb|True|\\verb|  |\\verb|True|\\verb|  |\\verb|True|\\verb|  |\\verb|True|\\verb|  |\\verb|True|\\verb|  |\\verb|True|\\verb|  |\\verb|True|\\\\\n",
       "\\verb|  |\\verb|True|\\verb|  |\\verb|True|\\verb|  |\\verb|True|\\verb|  |\\verb|True|\\verb|  |\\verb|True|\\verb|  |\\verb|True|\\verb|  |\\verb|True|\\verb|  |\\verb|True|\\verb|  |\\verb|True|\\verb|  |\\verb|True|\\verb|  |\\verb|True|\\verb|  |\\verb|True|\\\\\n",
       "\\verb|  |\\verb|True|\\verb|  |\\verb|True|\\verb|  |\\verb|True|\\verb|  |\\verb|True|\\verb|  |\\verb|True|\\verb|  |\\verb|True|\\verb|  |\\verb|True|\\verb|  |\\verb|True|\\verb|  |\\verb|True|\\verb|  |\\verb|True|\\verb|  |\\verb|True|\\verb|  |\\verb|True|\\\\\n",
       "\\verb|  |\\verb|True|\\verb|  |\\verb|True|\\verb|  |\\verb|True|\\verb|  |\\verb|True|\\verb|  |\\verb|True|\\verb|  |\\verb|True|\\verb|  |\\verb|True|\\verb|  |\\verb|True|\\verb|  |\\verb|True|\\verb|  |\\verb|True|\\verb|  |\\verb|True|\\verb|  |\\verb|True|\\\\\n",
       "\\verb|  |\\verb|True|\\verb|  |\\verb|True|\\verb|  |\\verb|True|\\verb|  |\\verb|True|\\verb|  |\\verb|True|\\verb|  |\\verb|True|\\verb|  |\\verb|True|\\verb|  |\\verb|True|\\verb|  |\\verb|True|\\verb|  |\\verb|True|\\verb|  |\\verb|True|\\verb|  |\\verb|True|\\\\\n",
       "\\verb|  |\\verb|True|\\verb|  |\\verb|True|\\verb|  |\\verb|True|\\verb|  |\\verb|True|\\verb|  |\\verb|True|\\verb|  |\\verb|True|\\verb|  |\\verb|True|\\verb|  |\\verb|True|\\verb|  |\\verb|True|\\verb|  |\\verb|True|\\verb|  |\\verb|True|\\verb|  |\\verb|True]|\n",
       "\\end{array}$$"
      ],
      "text/plain": [
       "array([ True,  True,  True,  True,  True,  True,  True,  True,  True,\n",
       "        True,  True,  True,  True,  True,  True,  True,  True,  True,\n",
       "        True,  True,  True,  True,  True,  True,  True,  True,  True,\n",
       "        True,  True,  True,  True,  True,  True,  True,  True,  True,\n",
       "        True,  True,  True,  True,  True,  True,  True,  True,  True,\n",
       "        True,  True,  True,  True,  True,  True,  True,  True,  True,\n",
       "        True,  True,  True,  True,  True,  True,  True,  True,  True,\n",
       "        True,  True,  True,  True,  True,  True,  True,  True,  True,\n",
       "        True,  True,  True,  True,  True,  True,  True,  True,  True,\n",
       "        True,  True,  True,  True,  True,  True,  True,  True,  True,\n",
       "        True,  True,  True,  True,  True,  True,  True,  True,  True,\n",
       "        True,  True,  True,  True,  True,  True,  True,  True,  True,\n",
       "        True,  True,  True,  True,  True,  True,  True,  True,  True,\n",
       "        True,  True,  True])"
      ]
     },
     "execution_count": 9,
     "metadata": {},
     "output_type": "execute_result"
    }
   ],
   "source": [
    "np.array(myarr_1_mod_2)%2==0"
   ]
  },
  {
   "cell_type": "code",
   "execution_count": 10,
   "id": "696bddcb",
   "metadata": {},
   "outputs": [
    {
     "data": {
      "text/html": [
       "<html>\\[\\newcommand{\\Bold}[1]{\\mathbf{#1}}\\begin{array}{l}\n",
       "\\verb|[False|\\verb| |\\verb|False|\\verb| |\\verb|False|\\verb| |\\verb|False|\\verb| |\\verb|False|\\verb| |\\verb|False|\\verb| |\\verb|False|\\verb|  |\\verb|True|\\verb| |\\verb|False|\\verb|  |\\verb|True|\\verb| |\\verb|False|\\verb| |\\verb|False|\\\\\n",
       "\\verb| |\\verb|False|\\verb| |\\verb|False|\\verb|  |\\verb|True|\\verb|  |\\verb|True|\\verb| |\\verb|False|\\verb|  |\\verb|True|\\verb|  |\\verb|True|\\verb| |\\verb|False|\\verb| |\\verb|False|\\verb|  |\\verb|True|\\verb| |\\verb|False|\\verb|  |\\verb|True|\\\\\n",
       "\\verb| |\\verb|False|\\verb|  |\\verb|True|\\verb| |\\verb|False|\\verb|  |\\verb|True|\\verb|  |\\verb|True|\\verb| |\\verb|False|\\verb|  |\\verb|True|\\verb|  |\\verb|True|\\verb| |\\verb|False|\\verb|  |\\verb|True|\\verb|  |\\verb|True|\\verb|  |\\verb|True|\\\\\n",
       "\\verb|  |\\verb|True|\\verb| |\\verb|False|\\verb| |\\verb|False|\\verb|  |\\verb|True|\\verb| |\\verb|False|\\verb|  |\\verb|True|\\verb|  |\\verb|True|\\verb| |\\verb|False|\\verb| |\\verb|False|\\verb| |\\verb|False|\\verb|  |\\verb|True|\\verb|  |\\verb|True|\\\\\n",
       "\\verb| |\\verb|False|\\verb| |\\verb|False|\\verb|  |\\verb|True|\\verb|  |\\verb|True|\\verb| |\\verb|False|\\verb| |\\verb|False|\\verb|  |\\verb|True|\\verb|  |\\verb|True|\\verb|  |\\verb|True|\\verb|  |\\verb|True|\\verb| |\\verb|False|\\verb| |\\verb|False]|\n",
       "\\end{array}\\]</html>"
      ],
      "text/latex": [
       "$$\\newcommand{\\Bold}[1]{\\mathbf{#1}}\\begin{array}{l}\n",
       "\\verb|[False|\\verb| |\\verb|False|\\verb| |\\verb|False|\\verb| |\\verb|False|\\verb| |\\verb|False|\\verb| |\\verb|False|\\verb| |\\verb|False|\\verb|  |\\verb|True|\\verb| |\\verb|False|\\verb|  |\\verb|True|\\verb| |\\verb|False|\\verb| |\\verb|False|\\\\\n",
       "\\verb| |\\verb|False|\\verb| |\\verb|False|\\verb|  |\\verb|True|\\verb|  |\\verb|True|\\verb| |\\verb|False|\\verb|  |\\verb|True|\\verb|  |\\verb|True|\\verb| |\\verb|False|\\verb| |\\verb|False|\\verb|  |\\verb|True|\\verb| |\\verb|False|\\verb|  |\\verb|True|\\\\\n",
       "\\verb| |\\verb|False|\\verb|  |\\verb|True|\\verb| |\\verb|False|\\verb|  |\\verb|True|\\verb|  |\\verb|True|\\verb| |\\verb|False|\\verb|  |\\verb|True|\\verb|  |\\verb|True|\\verb| |\\verb|False|\\verb|  |\\verb|True|\\verb|  |\\verb|True|\\verb|  |\\verb|True|\\\\\n",
       "\\verb|  |\\verb|True|\\verb| |\\verb|False|\\verb| |\\verb|False|\\verb|  |\\verb|True|\\verb| |\\verb|False|\\verb|  |\\verb|True|\\verb|  |\\verb|True|\\verb| |\\verb|False|\\verb| |\\verb|False|\\verb| |\\verb|False|\\verb|  |\\verb|True|\\verb|  |\\verb|True|\\\\\n",
       "\\verb| |\\verb|False|\\verb| |\\verb|False|\\verb|  |\\verb|True|\\verb|  |\\verb|True|\\verb| |\\verb|False|\\verb| |\\verb|False|\\verb|  |\\verb|True|\\verb|  |\\verb|True|\\verb|  |\\verb|True|\\verb|  |\\verb|True|\\verb| |\\verb|False|\\verb| |\\verb|False]|\n",
       "\\end{array}$$"
      ],
      "text/plain": [
       "array([False, False, False, False, False, False, False,  True, False,\n",
       "        True, False, False, False, False,  True,  True, False,  True,\n",
       "        True, False, False,  True, False,  True, False,  True, False,\n",
       "        True,  True, False,  True,  True, False,  True,  True,  True,\n",
       "        True, False, False,  True, False,  True,  True, False, False,\n",
       "       False,  True,  True, False, False,  True,  True, False, False,\n",
       "        True,  True,  True,  True, False, False])"
      ]
     },
     "execution_count": 10,
     "metadata": {},
     "output_type": "execute_result"
    }
   ],
   "source": [
    "np.array(myarr_0_mod_4)%4==0"
   ]
  },
  {
   "cell_type": "code",
   "execution_count": 11,
   "id": "eaa3fdf8",
   "metadata": {},
   "outputs": [
    {
     "data": {
      "text/html": [
       "<html>\\[\\newcommand{\\Bold}[1]{\\mathbf{#1}}\\begin{array}{l}\n",
       "\\verb|[False|\\verb| |\\verb|False|\\verb|  |\\verb|True|\\verb| |\\verb|False|\\verb|  |\\verb|True|\\verb|  |\\verb|True|\\verb|  |\\verb|True|\\verb| |\\verb|False|\\verb|  |\\verb|True|\\verb| |\\verb|False|\\verb|  |\\verb|True|\\verb| |\\verb|False|\\\\\n",
       "\\verb| |\\verb|False|\\verb| |\\verb|False|\\verb|  |\\verb|True|\\verb| |\\verb|False|\\verb|  |\\verb|True|\\verb|  |\\verb|True|\\verb|  |\\verb|True|\\verb|  |\\verb|True|\\verb| |\\verb|False|\\verb|  |\\verb|True|\\verb|  |\\verb|True|\\verb|  |\\verb|True|\\\\\n",
       "\\verb|  |\\verb|True|\\verb| |\\verb|False|\\verb|  |\\verb|True|\\verb| |\\verb|False|\\verb|  |\\verb|True|\\verb| |\\verb|False|\\verb|  |\\verb|True|\\verb|  |\\verb|True|\\verb|  |\\verb|True|\\verb|  |\\verb|True|\\verb|  |\\verb|True|\\verb|  |\\verb|True|\\\\\n",
       "\\verb|  |\\verb|True|\\verb| |\\verb|False|\\verb|  |\\verb|True|\\verb| |\\verb|False|\\verb|  |\\verb|True|\\verb|  |\\verb|True|\\verb|  |\\verb|True|\\verb| |\\verb|False|\\verb|  |\\verb|True|\\verb| |\\verb|False|\\verb|  |\\verb|True|\\verb|  |\\verb|True|\\\\\n",
       "\\verb|  |\\verb|True|\\verb| |\\verb|False|\\verb|  |\\verb|True|\\verb|  |\\verb|True|\\verb|  |\\verb|True|\\verb|  |\\verb|True|\\verb|  |\\verb|True|\\verb|  |\\verb|True|\\verb| |\\verb|False|\\verb| |\\verb|False|\\verb|  |\\verb|True|\\verb|  |\\verb|True]|\n",
       "\\end{array}\\]</html>"
      ],
      "text/latex": [
       "$$\\newcommand{\\Bold}[1]{\\mathbf{#1}}\\begin{array}{l}\n",
       "\\verb|[False|\\verb| |\\verb|False|\\verb|  |\\verb|True|\\verb| |\\verb|False|\\verb|  |\\verb|True|\\verb|  |\\verb|True|\\verb|  |\\verb|True|\\verb| |\\verb|False|\\verb|  |\\verb|True|\\verb| |\\verb|False|\\verb|  |\\verb|True|\\verb| |\\verb|False|\\\\\n",
       "\\verb| |\\verb|False|\\verb| |\\verb|False|\\verb|  |\\verb|True|\\verb| |\\verb|False|\\verb|  |\\verb|True|\\verb|  |\\verb|True|\\verb|  |\\verb|True|\\verb|  |\\verb|True|\\verb| |\\verb|False|\\verb|  |\\verb|True|\\verb|  |\\verb|True|\\verb|  |\\verb|True|\\\\\n",
       "\\verb|  |\\verb|True|\\verb| |\\verb|False|\\verb|  |\\verb|True|\\verb| |\\verb|False|\\verb|  |\\verb|True|\\verb| |\\verb|False|\\verb|  |\\verb|True|\\verb|  |\\verb|True|\\verb|  |\\verb|True|\\verb|  |\\verb|True|\\verb|  |\\verb|True|\\verb|  |\\verb|True|\\\\\n",
       "\\verb|  |\\verb|True|\\verb| |\\verb|False|\\verb|  |\\verb|True|\\verb| |\\verb|False|\\verb|  |\\verb|True|\\verb|  |\\verb|True|\\verb|  |\\verb|True|\\verb| |\\verb|False|\\verb|  |\\verb|True|\\verb| |\\verb|False|\\verb|  |\\verb|True|\\verb|  |\\verb|True|\\\\\n",
       "\\verb|  |\\verb|True|\\verb| |\\verb|False|\\verb|  |\\verb|True|\\verb|  |\\verb|True|\\verb|  |\\verb|True|\\verb|  |\\verb|True|\\verb|  |\\verb|True|\\verb|  |\\verb|True|\\verb| |\\verb|False|\\verb| |\\verb|False|\\verb|  |\\verb|True|\\verb|  |\\verb|True]|\n",
       "\\end{array}$$"
      ],
      "text/plain": [
       "array([False, False,  True, False,  True,  True,  True, False,  True,\n",
       "       False,  True, False, False, False,  True, False,  True,  True,\n",
       "        True,  True, False,  True,  True,  True,  True, False,  True,\n",
       "       False,  True, False,  True,  True,  True,  True,  True,  True,\n",
       "        True, False,  True, False,  True,  True,  True, False,  True,\n",
       "       False,  True,  True,  True, False,  True,  True,  True,  True,\n",
       "        True,  True, False, False,  True,  True])"
      ]
     },
     "execution_count": 11,
     "metadata": {},
     "output_type": "execute_result"
    }
   ],
   "source": [
    "np.array(myarr_1_mod_4)%4==0"
   ]
  },
  {
   "cell_type": "code",
   "execution_count": 12,
   "id": "fec561f4",
   "metadata": {},
   "outputs": [
    {
     "data": {
      "text/html": [
       "<html>\\[\\newcommand{\\Bold}[1]{\\mathbf{#1}}\\begin{array}{l}\n",
       "\\verb|[False|\\verb| |\\verb|False|\\verb| |\\verb|False|\\verb|  |\\verb|True|\\verb|  |\\verb|True|\\verb| |\\verb|False|\\verb| |\\verb|False|\\verb|  |\\verb|True|\\verb|  |\\verb|True|\\verb| |\\verb|False|\\verb|  |\\verb|True|\\verb|  |\\verb|True|\\\\\n",
       "\\verb|  |\\verb|True|\\verb|  |\\verb|True|\\verb| |\\verb|False|\\verb|  |\\verb|True|\\verb|  |\\verb|True|\\verb|  |\\verb|True|\\verb| |\\verb|False|\\verb|  |\\verb|True|\\verb|  |\\verb|True|\\verb| |\\verb|False|\\verb| |\\verb|False|\\verb|  |\\verb|True|\\\\\n",
       "\\verb| |\\verb|False|\\verb|  |\\verb|True|\\verb| |\\verb|False|\\verb|  |\\verb|True|\\verb|  |\\verb|True|\\verb| |\\verb|False|\\verb| |\\verb|False|\\verb|  |\\verb|True|\\verb|  |\\verb|True|\\verb| |\\verb|False|\\verb|  |\\verb|True|\\verb|  |\\verb|True|\\\\\n",
       "\\verb|  |\\verb|True|\\verb| |\\verb|False|\\verb|  |\\verb|True|\\verb|  |\\verb|True|\\verb| |\\verb|False|\\verb| |\\verb|False|\\verb|  |\\verb|True|\\verb|  |\\verb|True|\\verb|  |\\verb|True|\\verb|  |\\verb|True|\\verb|  |\\verb|True|\\verb|  |\\verb|True|\\\\\n",
       "\\verb|  |\\verb|True|\\verb| |\\verb|False|\\verb| |\\verb|False|\\verb|  |\\verb|True|\\verb|  |\\verb|True|\\verb| |\\verb|False|\\verb| |\\verb|False|\\verb|  |\\verb|True|\\verb|  |\\verb|True|\\verb|  |\\verb|True|\\verb| |\\verb|False|\\verb|  |\\verb|True]|\n",
       "\\end{array}\\]</html>"
      ],
      "text/latex": [
       "$$\\newcommand{\\Bold}[1]{\\mathbf{#1}}\\begin{array}{l}\n",
       "\\verb|[False|\\verb| |\\verb|False|\\verb| |\\verb|False|\\verb|  |\\verb|True|\\verb|  |\\verb|True|\\verb| |\\verb|False|\\verb| |\\verb|False|\\verb|  |\\verb|True|\\verb|  |\\verb|True|\\verb| |\\verb|False|\\verb|  |\\verb|True|\\verb|  |\\verb|True|\\\\\n",
       "\\verb|  |\\verb|True|\\verb|  |\\verb|True|\\verb| |\\verb|False|\\verb|  |\\verb|True|\\verb|  |\\verb|True|\\verb|  |\\verb|True|\\verb| |\\verb|False|\\verb|  |\\verb|True|\\verb|  |\\verb|True|\\verb| |\\verb|False|\\verb| |\\verb|False|\\verb|  |\\verb|True|\\\\\n",
       "\\verb| |\\verb|False|\\verb|  |\\verb|True|\\verb| |\\verb|False|\\verb|  |\\verb|True|\\verb|  |\\verb|True|\\verb| |\\verb|False|\\verb| |\\verb|False|\\verb|  |\\verb|True|\\verb|  |\\verb|True|\\verb| |\\verb|False|\\verb|  |\\verb|True|\\verb|  |\\verb|True|\\\\\n",
       "\\verb|  |\\verb|True|\\verb| |\\verb|False|\\verb|  |\\verb|True|\\verb|  |\\verb|True|\\verb| |\\verb|False|\\verb| |\\verb|False|\\verb|  |\\verb|True|\\verb|  |\\verb|True|\\verb|  |\\verb|True|\\verb|  |\\verb|True|\\verb|  |\\verb|True|\\verb|  |\\verb|True|\\\\\n",
       "\\verb|  |\\verb|True|\\verb| |\\verb|False|\\verb| |\\verb|False|\\verb|  |\\verb|True|\\verb|  |\\verb|True|\\verb| |\\verb|False|\\verb| |\\verb|False|\\verb|  |\\verb|True|\\verb|  |\\verb|True|\\verb|  |\\verb|True|\\verb| |\\verb|False|\\verb|  |\\verb|True]|\n",
       "\\end{array}$$"
      ],
      "text/plain": [
       "array([False, False, False,  True,  True, False, False,  True,  True,\n",
       "       False,  True,  True,  True,  True, False,  True,  True,  True,\n",
       "       False,  True,  True, False, False,  True, False,  True, False,\n",
       "        True,  True, False, False,  True,  True, False,  True,  True,\n",
       "        True, False,  True,  True, False, False,  True,  True,  True,\n",
       "        True,  True,  True,  True, False, False,  True,  True, False,\n",
       "       False,  True,  True,  True, False,  True])"
      ]
     },
     "execution_count": 12,
     "metadata": {},
     "output_type": "execute_result"
    }
   ],
   "source": [
    "np.array(myarr_2_mod_4)%4==0"
   ]
  },
  {
   "cell_type": "code",
   "execution_count": 13,
   "id": "8bcde9f3",
   "metadata": {},
   "outputs": [
    {
     "data": {
      "text/html": [
       "<html>\\[\\newcommand{\\Bold}[1]{\\mathbf{#1}}\\begin{array}{l}\n",
       "\\verb|[False|\\verb|  |\\verb|True|\\verb| |\\verb|False|\\verb|  |\\verb|True|\\verb| |\\verb|False|\\verb|  |\\verb|True|\\verb|  |\\verb|True|\\verb|  |\\verb|True|\\verb|  |\\verb|True|\\verb|  |\\verb|True|\\verb| |\\verb|False|\\verb|  |\\verb|True|\\\\\n",
       "\\verb|  |\\verb|True|\\verb|  |\\verb|True|\\verb| |\\verb|False|\\verb|  |\\verb|True|\\verb| |\\verb|False|\\verb|  |\\verb|True|\\verb| |\\verb|False|\\verb|  |\\verb|True|\\verb| |\\verb|False|\\verb|  |\\verb|True|\\verb|  |\\verb|True|\\verb|  |\\verb|True|\\\\\n",
       "\\verb| |\\verb|False|\\verb|  |\\verb|True|\\verb| |\\verb|False|\\verb|  |\\verb|True|\\verb|  |\\verb|True|\\verb|  |\\verb|True|\\verb|  |\\verb|True|\\verb|  |\\verb|True|\\verb| |\\verb|False|\\verb|  |\\verb|True|\\verb| |\\verb|False|\\verb|  |\\verb|True|\\\\\n",
       "\\verb| |\\verb|False|\\verb|  |\\verb|True|\\verb|  |\\verb|True|\\verb|  |\\verb|True|\\verb| |\\verb|False|\\verb|  |\\verb|True|\\verb| |\\verb|False|\\verb|  |\\verb|True|\\verb| |\\verb|False|\\verb|  |\\verb|True|\\verb|  |\\verb|True|\\verb|  |\\verb|True|\\\\\n",
       "\\verb|  |\\verb|True|\\verb|  |\\verb|True|\\verb|  |\\verb|True|\\verb|  |\\verb|True|\\verb| |\\verb|False|\\verb|  |\\verb|True|\\verb|  |\\verb|True|\\verb|  |\\verb|True|\\verb| |\\verb|False|\\verb|  |\\verb|True|\\verb|  |\\verb|True|\\verb|  |\\verb|True]|\n",
       "\\end{array}\\]</html>"
      ],
      "text/latex": [
       "$$\\newcommand{\\Bold}[1]{\\mathbf{#1}}\\begin{array}{l}\n",
       "\\verb|[False|\\verb|  |\\verb|True|\\verb| |\\verb|False|\\verb|  |\\verb|True|\\verb| |\\verb|False|\\verb|  |\\verb|True|\\verb|  |\\verb|True|\\verb|  |\\verb|True|\\verb|  |\\verb|True|\\verb|  |\\verb|True|\\verb| |\\verb|False|\\verb|  |\\verb|True|\\\\\n",
       "\\verb|  |\\verb|True|\\verb|  |\\verb|True|\\verb| |\\verb|False|\\verb|  |\\verb|True|\\verb| |\\verb|False|\\verb|  |\\verb|True|\\verb| |\\verb|False|\\verb|  |\\verb|True|\\verb| |\\verb|False|\\verb|  |\\verb|True|\\verb|  |\\verb|True|\\verb|  |\\verb|True|\\\\\n",
       "\\verb| |\\verb|False|\\verb|  |\\verb|True|\\verb| |\\verb|False|\\verb|  |\\verb|True|\\verb|  |\\verb|True|\\verb|  |\\verb|True|\\verb|  |\\verb|True|\\verb|  |\\verb|True|\\verb| |\\verb|False|\\verb|  |\\verb|True|\\verb| |\\verb|False|\\verb|  |\\verb|True|\\\\\n",
       "\\verb| |\\verb|False|\\verb|  |\\verb|True|\\verb|  |\\verb|True|\\verb|  |\\verb|True|\\verb| |\\verb|False|\\verb|  |\\verb|True|\\verb| |\\verb|False|\\verb|  |\\verb|True|\\verb| |\\verb|False|\\verb|  |\\verb|True|\\verb|  |\\verb|True|\\verb|  |\\verb|True|\\\\\n",
       "\\verb|  |\\verb|True|\\verb|  |\\verb|True|\\verb|  |\\verb|True|\\verb|  |\\verb|True|\\verb| |\\verb|False|\\verb|  |\\verb|True|\\verb|  |\\verb|True|\\verb|  |\\verb|True|\\verb| |\\verb|False|\\verb|  |\\verb|True|\\verb|  |\\verb|True|\\verb|  |\\verb|True]|\n",
       "\\end{array}$$"
      ],
      "text/plain": [
       "array([False,  True, False,  True, False,  True,  True,  True,  True,\n",
       "        True, False,  True,  True,  True, False,  True, False,  True,\n",
       "       False,  True, False,  True,  True,  True, False,  True, False,\n",
       "        True,  True,  True,  True,  True, False,  True, False,  True,\n",
       "       False,  True,  True,  True, False,  True, False,  True, False,\n",
       "        True,  True,  True,  True,  True,  True,  True, False,  True,\n",
       "        True,  True, False,  True,  True,  True])"
      ]
     },
     "execution_count": 13,
     "metadata": {},
     "output_type": "execute_result"
    }
   ],
   "source": [
    "np.array(myarr_3_mod_4)%4==0"
   ]
  },
  {
   "cell_type": "code",
   "execution_count": 14,
   "id": "de74325e",
   "metadata": {},
   "outputs": [
    {
     "data": {
      "text/html": [
       "<html>\\[\\newcommand{\\Bold}[1]{\\mathbf{#1}}\\begin{array}{l}\n",
       "\\verb|[False|\\verb| |\\verb|False|\\verb| |\\verb|False|\\verb| |\\verb|False|\\verb| |\\verb|False|\\verb| |\\verb|False|\\verb| |\\verb|False|\\verb|  |\\verb|True|\\verb| |\\verb|False|\\verb|  |\\verb|True|\\verb| |\\verb|False|\\verb| |\\verb|False|\\\\\n",
       "\\verb| |\\verb|False|\\verb| |\\verb|False|\\verb|  |\\verb|True|\\verb|  |\\verb|True|\\verb| |\\verb|False|\\verb|  |\\verb|True|\\verb|  |\\verb|True|\\verb| |\\verb|False|\\verb| |\\verb|False|\\verb|  |\\verb|True|\\verb| |\\verb|False|\\verb|  |\\verb|True|\\\\\n",
       "\\verb| |\\verb|False|\\verb|  |\\verb|True|\\verb| |\\verb|False|\\verb|  |\\verb|True|\\verb|  |\\verb|True|\\verb| |\\verb|False]|\n",
       "\\end{array}\\]</html>"
      ],
      "text/latex": [
       "$$\\newcommand{\\Bold}[1]{\\mathbf{#1}}\\begin{array}{l}\n",
       "\\verb|[False|\\verb| |\\verb|False|\\verb| |\\verb|False|\\verb| |\\verb|False|\\verb| |\\verb|False|\\verb| |\\verb|False|\\verb| |\\verb|False|\\verb|  |\\verb|True|\\verb| |\\verb|False|\\verb|  |\\verb|True|\\verb| |\\verb|False|\\verb| |\\verb|False|\\\\\n",
       "\\verb| |\\verb|False|\\verb| |\\verb|False|\\verb|  |\\verb|True|\\verb|  |\\verb|True|\\verb| |\\verb|False|\\verb|  |\\verb|True|\\verb|  |\\verb|True|\\verb| |\\verb|False|\\verb| |\\verb|False|\\verb|  |\\verb|True|\\verb| |\\verb|False|\\verb|  |\\verb|True|\\\\\n",
       "\\verb| |\\verb|False|\\verb|  |\\verb|True|\\verb| |\\verb|False|\\verb|  |\\verb|True|\\verb|  |\\verb|True|\\verb| |\\verb|False]|\n",
       "\\end{array}$$"
      ],
      "text/plain": [
       "array([False, False, False, False, False, False, False,  True, False,\n",
       "        True, False, False, False, False,  True,  True, False,  True,\n",
       "        True, False, False,  True, False,  True, False,  True, False,\n",
       "        True,  True, False])"
      ]
     },
     "execution_count": 14,
     "metadata": {},
     "output_type": "execute_result"
    }
   ],
   "source": [
    "np.array(myarr_0_mod_8)%4==0"
   ]
  },
  {
   "cell_type": "code",
   "execution_count": 15,
   "id": "b7a45c1b",
   "metadata": {},
   "outputs": [
    {
     "data": {
      "text/html": [
       "<html>\\[\\newcommand{\\Bold}[1]{\\mathbf{#1}}\\begin{array}{l}\n",
       "\\verb|[False|\\verb|  |\\verb|True|\\verb|  |\\verb|True|\\verb|  |\\verb|True|\\verb|  |\\verb|True|\\verb|  |\\verb|True|\\verb| |\\verb|False|\\verb|  |\\verb|True|\\verb|  |\\verb|True|\\verb|  |\\verb|True|\\verb| |\\verb|False|\\verb|  |\\verb|True|\\\\\n",
       "\\verb|  |\\verb|True|\\verb|  |\\verb|True|\\verb|  |\\verb|True|\\verb|  |\\verb|True|\\verb|  |\\verb|True|\\verb|  |\\verb|True|\\verb|  |\\verb|True|\\verb|  |\\verb|True|\\verb|  |\\verb|True|\\verb|  |\\verb|True|\\verb|  |\\verb|True|\\verb|  |\\verb|True|\\\\\n",
       "\\verb|  |\\verb|True|\\verb|  |\\verb|True|\\verb|  |\\verb|True|\\verb|  |\\verb|True|\\verb| |\\verb|False|\\verb|  |\\verb|True]|\n",
       "\\end{array}\\]</html>"
      ],
      "text/latex": [
       "$$\\newcommand{\\Bold}[1]{\\mathbf{#1}}\\begin{array}{l}\n",
       "\\verb|[False|\\verb|  |\\verb|True|\\verb|  |\\verb|True|\\verb|  |\\verb|True|\\verb|  |\\verb|True|\\verb|  |\\verb|True|\\verb| |\\verb|False|\\verb|  |\\verb|True|\\verb|  |\\verb|True|\\verb|  |\\verb|True|\\verb| |\\verb|False|\\verb|  |\\verb|True|\\\\\n",
       "\\verb|  |\\verb|True|\\verb|  |\\verb|True|\\verb|  |\\verb|True|\\verb|  |\\verb|True|\\verb|  |\\verb|True|\\verb|  |\\verb|True|\\verb|  |\\verb|True|\\verb|  |\\verb|True|\\verb|  |\\verb|True|\\verb|  |\\verb|True|\\verb|  |\\verb|True|\\verb|  |\\verb|True|\\\\\n",
       "\\verb|  |\\verb|True|\\verb|  |\\verb|True|\\verb|  |\\verb|True|\\verb|  |\\verb|True|\\verb| |\\verb|False|\\verb|  |\\verb|True]|\n",
       "\\end{array}$$"
      ],
      "text/plain": [
       "array([False,  True,  True,  True,  True,  True, False,  True,  True,\n",
       "        True, False,  True,  True,  True,  True,  True,  True,  True,\n",
       "        True,  True,  True,  True,  True,  True,  True,  True,  True,\n",
       "        True, False,  True])"
      ]
     },
     "execution_count": 15,
     "metadata": {},
     "output_type": "execute_result"
    }
   ],
   "source": [
    "np.array(myarr_1_mod_8)%4==0"
   ]
  },
  {
   "cell_type": "code",
   "execution_count": 16,
   "id": "2b640ad5",
   "metadata": {},
   "outputs": [
    {
     "data": {
      "text/html": [
       "<html>\\[\\newcommand{\\Bold}[1]{\\mathbf{#1}}\\begin{array}{l}\n",
       "\\verb|[False|\\verb| |\\verb|False|\\verb|  |\\verb|True|\\verb| |\\verb|False|\\verb|  |\\verb|True|\\verb|  |\\verb|True|\\verb|  |\\verb|True|\\verb| |\\verb|False|\\verb|  |\\verb|True|\\verb| |\\verb|False|\\verb|  |\\verb|True|\\verb| |\\verb|False|\\\\\n",
       "\\verb| |\\verb|False|\\verb| |\\verb|False|\\verb|  |\\verb|True|\\verb| |\\verb|False|\\verb|  |\\verb|True|\\verb|  |\\verb|True|\\verb|  |\\verb|True|\\verb|  |\\verb|True|\\verb| |\\verb|False|\\verb|  |\\verb|True|\\verb|  |\\verb|True|\\verb|  |\\verb|True|\\\\\n",
       "\\verb|  |\\verb|True|\\verb| |\\verb|False|\\verb|  |\\verb|True|\\verb| |\\verb|False|\\verb|  |\\verb|True|\\verb| |\\verb|False]|\n",
       "\\end{array}\\]</html>"
      ],
      "text/latex": [
       "$$\\newcommand{\\Bold}[1]{\\mathbf{#1}}\\begin{array}{l}\n",
       "\\verb|[False|\\verb| |\\verb|False|\\verb|  |\\verb|True|\\verb| |\\verb|False|\\verb|  |\\verb|True|\\verb|  |\\verb|True|\\verb|  |\\verb|True|\\verb| |\\verb|False|\\verb|  |\\verb|True|\\verb| |\\verb|False|\\verb|  |\\verb|True|\\verb| |\\verb|False|\\\\\n",
       "\\verb| |\\verb|False|\\verb| |\\verb|False|\\verb|  |\\verb|True|\\verb| |\\verb|False|\\verb|  |\\verb|True|\\verb|  |\\verb|True|\\verb|  |\\verb|True|\\verb|  |\\verb|True|\\verb| |\\verb|False|\\verb|  |\\verb|True|\\verb|  |\\verb|True|\\verb|  |\\verb|True|\\\\\n",
       "\\verb|  |\\verb|True|\\verb| |\\verb|False|\\verb|  |\\verb|True|\\verb| |\\verb|False|\\verb|  |\\verb|True|\\verb| |\\verb|False]|\n",
       "\\end{array}$$"
      ],
      "text/plain": [
       "array([False, False,  True, False,  True,  True,  True, False,  True,\n",
       "       False,  True, False, False, False,  True, False,  True,  True,\n",
       "        True,  True, False,  True,  True,  True,  True, False,  True,\n",
       "       False,  True, False])"
      ]
     },
     "execution_count": 16,
     "metadata": {},
     "output_type": "execute_result"
    }
   ],
   "source": [
    "np.array(myarr_2_mod_8)%4==0"
   ]
  },
  {
   "cell_type": "code",
   "execution_count": 17,
   "id": "1e795971",
   "metadata": {},
   "outputs": [
    {
     "data": {
      "text/html": [
       "<html>\\[\\newcommand{\\Bold}[1]{\\mathbf{#1}}\\begin{array}{l}\n",
       "\\verb|[False|\\verb| |\\verb|False|\\verb| |\\verb|False|\\verb|  |\\verb|True|\\verb|  |\\verb|True|\\verb| |\\verb|False|\\verb|  |\\verb|True|\\verb| |\\verb|False|\\verb| |\\verb|False|\\verb| |\\verb|False|\\verb| |\\verb|False|\\verb|  |\\verb|True|\\\\\n",
       "\\verb| |\\verb|False|\\verb| |\\verb|False|\\verb|  |\\verb|True|\\verb|  |\\verb|True|\\verb| |\\verb|False|\\verb| |\\verb|False|\\verb| |\\verb|False|\\verb|  |\\verb|True|\\verb| |\\verb|False|\\verb| |\\verb|False|\\verb| |\\verb|False|\\verb|  |\\verb|True|\\\\\n",
       "\\verb|  |\\verb|True|\\verb|  |\\verb|True|\\verb| |\\verb|False|\\verb|  |\\verb|True|\\verb| |\\verb|False|\\verb|  |\\verb|True]|\n",
       "\\end{array}\\]</html>"
      ],
      "text/latex": [
       "$$\\newcommand{\\Bold}[1]{\\mathbf{#1}}\\begin{array}{l}\n",
       "\\verb|[False|\\verb| |\\verb|False|\\verb| |\\verb|False|\\verb|  |\\verb|True|\\verb|  |\\verb|True|\\verb| |\\verb|False|\\verb|  |\\verb|True|\\verb| |\\verb|False|\\verb| |\\verb|False|\\verb| |\\verb|False|\\verb| |\\verb|False|\\verb|  |\\verb|True|\\\\\n",
       "\\verb| |\\verb|False|\\verb| |\\verb|False|\\verb|  |\\verb|True|\\verb|  |\\verb|True|\\verb| |\\verb|False|\\verb| |\\verb|False|\\verb| |\\verb|False|\\verb|  |\\verb|True|\\verb| |\\verb|False|\\verb| |\\verb|False|\\verb| |\\verb|False|\\verb|  |\\verb|True|\\\\\n",
       "\\verb|  |\\verb|True|\\verb|  |\\verb|True|\\verb| |\\verb|False|\\verb|  |\\verb|True|\\verb| |\\verb|False|\\verb|  |\\verb|True]|\n",
       "\\end{array}$$"
      ],
      "text/plain": [
       "array([False, False, False,  True,  True, False,  True, False, False,\n",
       "       False, False,  True, False, False,  True,  True, False, False,\n",
       "       False,  True, False, False, False,  True,  True,  True, False,\n",
       "        True, False,  True])"
      ]
     },
     "execution_count": 17,
     "metadata": {},
     "output_type": "execute_result"
    }
   ],
   "source": [
    "np.array(myarr_3_mod_8)%4==0"
   ]
  },
  {
   "cell_type": "code",
   "execution_count": 18,
   "id": "732155b7",
   "metadata": {},
   "outputs": [
    {
     "data": {
      "text/html": [
       "<html>\\[\\newcommand{\\Bold}[1]{\\mathbf{#1}}\\begin{array}{l}\n",
       "\\verb|[False|\\verb| |\\verb|False|\\verb| |\\verb|False|\\verb|  |\\verb|True|\\verb|  |\\verb|True|\\verb| |\\verb|False|\\verb| |\\verb|False|\\verb|  |\\verb|True|\\verb|  |\\verb|True|\\verb| |\\verb|False|\\verb|  |\\verb|True|\\verb|  |\\verb|True|\\\\\n",
       "\\verb|  |\\verb|True|\\verb|  |\\verb|True|\\verb| |\\verb|False|\\verb|  |\\verb|True|\\verb|  |\\verb|True|\\verb|  |\\verb|True|\\verb| |\\verb|False|\\verb|  |\\verb|True|\\verb|  |\\verb|True|\\verb| |\\verb|False|\\verb| |\\verb|False|\\verb|  |\\verb|True|\\\\\n",
       "\\verb| |\\verb|False|\\verb|  |\\verb|True|\\verb| |\\verb|False|\\verb|  |\\verb|True|\\verb|  |\\verb|True|\\verb| |\\verb|False]|\n",
       "\\end{array}\\]</html>"
      ],
      "text/latex": [
       "$$\\newcommand{\\Bold}[1]{\\mathbf{#1}}\\begin{array}{l}\n",
       "\\verb|[False|\\verb| |\\verb|False|\\verb| |\\verb|False|\\verb|  |\\verb|True|\\verb|  |\\verb|True|\\verb| |\\verb|False|\\verb| |\\verb|False|\\verb|  |\\verb|True|\\verb|  |\\verb|True|\\verb| |\\verb|False|\\verb|  |\\verb|True|\\verb|  |\\verb|True|\\\\\n",
       "\\verb|  |\\verb|True|\\verb|  |\\verb|True|\\verb| |\\verb|False|\\verb|  |\\verb|True|\\verb|  |\\verb|True|\\verb|  |\\verb|True|\\verb| |\\verb|False|\\verb|  |\\verb|True|\\verb|  |\\verb|True|\\verb| |\\verb|False|\\verb| |\\verb|False|\\verb|  |\\verb|True|\\\\\n",
       "\\verb| |\\verb|False|\\verb|  |\\verb|True|\\verb| |\\verb|False|\\verb|  |\\verb|True|\\verb|  |\\verb|True|\\verb| |\\verb|False]|\n",
       "\\end{array}$$"
      ],
      "text/plain": [
       "array([False, False, False,  True,  True, False, False,  True,  True,\n",
       "       False,  True,  True,  True,  True, False,  True,  True,  True,\n",
       "       False,  True,  True, False, False,  True, False,  True, False,\n",
       "        True,  True, False])"
      ]
     },
     "execution_count": 18,
     "metadata": {},
     "output_type": "execute_result"
    }
   ],
   "source": [
    "np.array(myarr_4_mod_8)%4==0"
   ]
  },
  {
   "cell_type": "code",
   "execution_count": 19,
   "id": "b4deca1e",
   "metadata": {},
   "outputs": [
    {
     "data": {
      "text/html": [
       "<html>\\[\\newcommand{\\Bold}[1]{\\mathbf{#1}}\\begin{array}{l}\n",
       "\\verb|[False|\\verb| |\\verb|False|\\verb|  |\\verb|True|\\verb| |\\verb|False|\\verb| |\\verb|False|\\verb| |\\verb|False|\\verb| |\\verb|False|\\verb| |\\verb|False|\\verb|  |\\verb|True|\\verb|  |\\verb|True|\\verb|  |\\verb|True|\\verb|  |\\verb|True|\\\\\n",
       "\\verb| |\\verb|False|\\verb| |\\verb|False|\\verb| |\\verb|False|\\verb|  |\\verb|True|\\verb|  |\\verb|True|\\verb|  |\\verb|True|\\verb| |\\verb|False|\\verb| |\\verb|False|\\verb|  |\\verb|True|\\verb| |\\verb|False|\\verb| |\\verb|False|\\verb|  |\\verb|True|\\\\\n",
       "\\verb| |\\verb|False|\\verb|  |\\verb|True|\\verb|  |\\verb|True|\\verb|  |\\verb|True|\\verb| |\\verb|False|\\verb|  |\\verb|True]|\n",
       "\\end{array}\\]</html>"
      ],
      "text/latex": [
       "$$\\newcommand{\\Bold}[1]{\\mathbf{#1}}\\begin{array}{l}\n",
       "\\verb|[False|\\verb| |\\verb|False|\\verb|  |\\verb|True|\\verb| |\\verb|False|\\verb| |\\verb|False|\\verb| |\\verb|False|\\verb| |\\verb|False|\\verb| |\\verb|False|\\verb|  |\\verb|True|\\verb|  |\\verb|True|\\verb|  |\\verb|True|\\verb|  |\\verb|True|\\\\\n",
       "\\verb| |\\verb|False|\\verb| |\\verb|False|\\verb| |\\verb|False|\\verb|  |\\verb|True|\\verb|  |\\verb|True|\\verb|  |\\verb|True|\\verb| |\\verb|False|\\verb| |\\verb|False|\\verb|  |\\verb|True|\\verb| |\\verb|False|\\verb| |\\verb|False|\\verb|  |\\verb|True|\\\\\n",
       "\\verb| |\\verb|False|\\verb|  |\\verb|True|\\verb|  |\\verb|True|\\verb|  |\\verb|True|\\verb| |\\verb|False|\\verb|  |\\verb|True]|\n",
       "\\end{array}$$"
      ],
      "text/plain": [
       "array([False, False,  True, False, False, False, False, False,  True,\n",
       "        True,  True,  True, False, False, False,  True,  True,  True,\n",
       "       False, False,  True, False, False,  True, False,  True,  True,\n",
       "        True, False,  True])"
      ]
     },
     "execution_count": 19,
     "metadata": {},
     "output_type": "execute_result"
    }
   ],
   "source": [
    "np.array(myarr_5_mod_8)%4==0"
   ]
  },
  {
   "cell_type": "code",
   "execution_count": 20,
   "id": "6919139c",
   "metadata": {},
   "outputs": [
    {
     "data": {
      "text/html": [
       "<html>\\[\\newcommand{\\Bold}[1]{\\mathbf{#1}}\\begin{array}{l}\n",
       "\\verb|[False|\\verb|  |\\verb|True|\\verb| |\\verb|False|\\verb|  |\\verb|True|\\verb| |\\verb|False|\\verb|  |\\verb|True|\\verb|  |\\verb|True|\\verb|  |\\verb|True|\\verb|  |\\verb|True|\\verb|  |\\verb|True|\\verb| |\\verb|False|\\verb|  |\\verb|True|\\\\\n",
       "\\verb|  |\\verb|True|\\verb|  |\\verb|True|\\verb| |\\verb|False|\\verb|  |\\verb|True|\\verb| |\\verb|False|\\verb|  |\\verb|True|\\verb| |\\verb|False|\\verb|  |\\verb|True|\\verb| |\\verb|False|\\verb|  |\\verb|True|\\verb|  |\\verb|True|\\verb|  |\\verb|True|\\\\\n",
       "\\verb| |\\verb|False|\\verb|  |\\verb|True|\\verb| |\\verb|False|\\verb|  |\\verb|True|\\verb|  |\\verb|True|\\verb|  |\\verb|True]|\n",
       "\\end{array}\\]</html>"
      ],
      "text/latex": [
       "$$\\newcommand{\\Bold}[1]{\\mathbf{#1}}\\begin{array}{l}\n",
       "\\verb|[False|\\verb|  |\\verb|True|\\verb| |\\verb|False|\\verb|  |\\verb|True|\\verb| |\\verb|False|\\verb|  |\\verb|True|\\verb|  |\\verb|True|\\verb|  |\\verb|True|\\verb|  |\\verb|True|\\verb|  |\\verb|True|\\verb| |\\verb|False|\\verb|  |\\verb|True|\\\\\n",
       "\\verb|  |\\verb|True|\\verb|  |\\verb|True|\\verb| |\\verb|False|\\verb|  |\\verb|True|\\verb| |\\verb|False|\\verb|  |\\verb|True|\\verb| |\\verb|False|\\verb|  |\\verb|True|\\verb| |\\verb|False|\\verb|  |\\verb|True|\\verb|  |\\verb|True|\\verb|  |\\verb|True|\\\\\n",
       "\\verb| |\\verb|False|\\verb|  |\\verb|True|\\verb| |\\verb|False|\\verb|  |\\verb|True|\\verb|  |\\verb|True|\\verb|  |\\verb|True]|\n",
       "\\end{array}$$"
      ],
      "text/plain": [
       "array([False,  True, False,  True, False,  True,  True,  True,  True,\n",
       "        True, False,  True,  True,  True, False,  True, False,  True,\n",
       "       False,  True, False,  True,  True,  True, False,  True, False,\n",
       "        True,  True,  True])"
      ]
     },
     "execution_count": 20,
     "metadata": {},
     "output_type": "execute_result"
    }
   ],
   "source": [
    "np.array(myarr_6_mod_8)%4==0"
   ]
  },
  {
   "cell_type": "code",
   "execution_count": 21,
   "id": "a33ce487",
   "metadata": {},
   "outputs": [
    {
     "data": {
      "text/html": [
       "<html>\\[\\newcommand{\\Bold}[1]{\\mathbf{#1}}\\begin{array}{l}\n",
       "\\verb|[|\\verb| |\\verb|True|\\verb|  |\\verb|True|\\verb|  |\\verb|True|\\verb|  |\\verb|True|\\verb|  |\\verb|True|\\verb|  |\\verb|True|\\verb|  |\\verb|True|\\verb|  |\\verb|True|\\verb|  |\\verb|True|\\verb|  |\\verb|True|\\verb|  |\\verb|True|\\verb|  |\\verb|True|\\\\\n",
       "\\verb|  |\\verb|True|\\verb|  |\\verb|True|\\verb|  |\\verb|True|\\verb|  |\\verb|True|\\verb|  |\\verb|True|\\verb|  |\\verb|True|\\verb|  |\\verb|True|\\verb|  |\\verb|True|\\verb|  |\\verb|True|\\verb|  |\\verb|True|\\verb|  |\\verb|True|\\verb|  |\\verb|True|\\\\\n",
       "\\verb|  |\\verb|True|\\verb|  |\\verb|True|\\verb|  |\\verb|True|\\verb|  |\\verb|True|\\verb|  |\\verb|True|\\verb|  |\\verb|True]|\n",
       "\\end{array}\\]</html>"
      ],
      "text/latex": [
       "$$\\newcommand{\\Bold}[1]{\\mathbf{#1}}\\begin{array}{l}\n",
       "\\verb|[|\\verb| |\\verb|True|\\verb|  |\\verb|True|\\verb|  |\\verb|True|\\verb|  |\\verb|True|\\verb|  |\\verb|True|\\verb|  |\\verb|True|\\verb|  |\\verb|True|\\verb|  |\\verb|True|\\verb|  |\\verb|True|\\verb|  |\\verb|True|\\verb|  |\\verb|True|\\verb|  |\\verb|True|\\\\\n",
       "\\verb|  |\\verb|True|\\verb|  |\\verb|True|\\verb|  |\\verb|True|\\verb|  |\\verb|True|\\verb|  |\\verb|True|\\verb|  |\\verb|True|\\verb|  |\\verb|True|\\verb|  |\\verb|True|\\verb|  |\\verb|True|\\verb|  |\\verb|True|\\verb|  |\\verb|True|\\verb|  |\\verb|True|\\\\\n",
       "\\verb|  |\\verb|True|\\verb|  |\\verb|True|\\verb|  |\\verb|True|\\verb|  |\\verb|True|\\verb|  |\\verb|True|\\verb|  |\\verb|True]|\n",
       "\\end{array}$$"
      ],
      "text/plain": [
       "array([ True,  True,  True,  True,  True,  True,  True,  True,  True,\n",
       "        True,  True,  True,  True,  True,  True,  True,  True,  True,\n",
       "        True,  True,  True,  True,  True,  True,  True,  True,  True,\n",
       "        True,  True,  True])"
      ]
     },
     "execution_count": 21,
     "metadata": {},
     "output_type": "execute_result"
    }
   ],
   "source": [
    "np.array(myarr_7_mod_8)%4==0"
   ]
  },
  {
   "cell_type": "code",
   "execution_count": 22,
   "id": "1ac17177",
   "metadata": {},
   "outputs": [
    {
     "data": {
      "text/html": [
       "<html>\\[\\newcommand{\\Bold}[1]{\\mathbf{#1}}\\begin{array}{l}\n",
       "\\verb|[False|\\verb|  |\\verb|True|\\verb| |\\verb|False|\\verb|  |\\verb|True|\\verb| |\\verb|False|\\verb|  |\\verb|True|\\verb| |\\verb|False|\\verb|  |\\verb|True|\\verb| |\\verb|False|\\verb|  |\\verb|True|\\verb| |\\verb|False|\\verb|  |\\verb|True|\\\\\n",
       "\\verb| |\\verb|False|\\verb|  |\\verb|True|\\verb|  |\\verb|True|\\verb|  |\\verb|True|\\verb|  |\\verb|True|\\verb|  |\\verb|True|\\verb| |\\verb|False|\\verb|  |\\verb|True|\\verb| |\\verb|False|\\verb|  |\\verb|True|\\verb| |\\verb|False|\\verb|  |\\verb|True|\\\\\n",
       "\\verb| |\\verb|False|\\verb|  |\\verb|True|\\verb| |\\verb|False|\\verb|  |\\verb|True|\\verb|  |\\verb|True|\\verb|  |\\verb|True]|\n",
       "\\end{array}\\]</html>"
      ],
      "text/latex": [
       "$$\\newcommand{\\Bold}[1]{\\mathbf{#1}}\\begin{array}{l}\n",
       "\\verb|[False|\\verb|  |\\verb|True|\\verb| |\\verb|False|\\verb|  |\\verb|True|\\verb| |\\verb|False|\\verb|  |\\verb|True|\\verb| |\\verb|False|\\verb|  |\\verb|True|\\verb| |\\verb|False|\\verb|  |\\verb|True|\\verb| |\\verb|False|\\verb|  |\\verb|True|\\\\\n",
       "\\verb| |\\verb|False|\\verb|  |\\verb|True|\\verb|  |\\verb|True|\\verb|  |\\verb|True|\\verb|  |\\verb|True|\\verb|  |\\verb|True|\\verb| |\\verb|False|\\verb|  |\\verb|True|\\verb| |\\verb|False|\\verb|  |\\verb|True|\\verb| |\\verb|False|\\verb|  |\\verb|True|\\\\\n",
       "\\verb| |\\verb|False|\\verb|  |\\verb|True|\\verb| |\\verb|False|\\verb|  |\\verb|True|\\verb|  |\\verb|True|\\verb|  |\\verb|True]|\n",
       "\\end{array}$$"
      ],
      "text/plain": [
       "array([False,  True, False,  True, False,  True, False,  True, False,\n",
       "        True, False,  True, False,  True,  True,  True,  True,  True,\n",
       "       False,  True, False,  True, False,  True, False,  True, False,\n",
       "        True,  True,  True])"
      ]
     },
     "execution_count": 22,
     "metadata": {},
     "output_type": "execute_result"
    }
   ],
   "source": [
    "np.array(myarr_7_mod_8)%8==0"
   ]
  },
  {
   "cell_type": "code",
   "execution_count": 23,
   "id": "6860d7e1",
   "metadata": {},
   "outputs": [
    {
     "data": {
      "text/html": [
       "<html>\\[\\newcommand{\\Bold}[1]{\\mathbf{#1}}\\left(23, 52, \\frac{13}{2}\\right)\\]</html>"
      ],
      "text/latex": [
       "$$\\newcommand{\\Bold}[1]{\\mathbf{#1}}\\left(23, 52, \\frac{13}{2}\\right)$$"
      ],
      "text/plain": [
       "(23, 52, 13/2)"
      ]
     },
     "execution_count": 23,
     "metadata": {},
     "output_type": "execute_result"
    }
   ],
   "source": [
    "8*2+7, op17[23], op17[23]/8"
   ]
  },
  {
   "cell_type": "code",
   "execution_count": 24,
   "id": "338817c3",
   "metadata": {},
   "outputs": [
    {
     "data": {
      "text/html": [
       "<html>\\[\\newcommand{\\Bold}[1]{\\mathbf{#1}}\\begin{array}{l}\n",
       "\\verb|[False|\\verb|  |\\verb|True|\\verb|  |\\verb|True|\\verb| |\\verb|False|\\verb|  |\\verb|True|\\verb| |\\verb|False|\\verb|  |\\verb|True|\\verb|  |\\verb|True|\\verb|  |\\verb|True|\\verb|  |\\verb|True|\\verb|  |\\verb|True|\\verb|  |\\verb|True|\\\\\n",
       "\\verb|  |\\verb|True|\\verb|  |\\verb|True|\\verb| |\\verb|False]|\n",
       "\\end{array}\\]</html>"
      ],
      "text/latex": [
       "$$\\newcommand{\\Bold}[1]{\\mathbf{#1}}\\begin{array}{l}\n",
       "\\verb|[False|\\verb|  |\\verb|True|\\verb|  |\\verb|True|\\verb| |\\verb|False|\\verb|  |\\verb|True|\\verb| |\\verb|False|\\verb|  |\\verb|True|\\verb|  |\\verb|True|\\verb|  |\\verb|True|\\verb|  |\\verb|True|\\verb|  |\\verb|True|\\verb|  |\\verb|True|\\\\\n",
       "\\verb|  |\\verb|True|\\verb|  |\\verb|True|\\verb| |\\verb|False]|\n",
       "\\end{array}$$"
      ],
      "text/plain": [
       "array([False,  True,  True, False,  True, False,  True,  True,  True,\n",
       "        True,  True,  True,  True,  True, False])"
      ]
     },
     "execution_count": 24,
     "metadata": {},
     "output_type": "execute_result"
    }
   ],
   "source": [
    "np.array(myarr_0_mod_16)%4==0"
   ]
  },
  {
   "cell_type": "code",
   "execution_count": 25,
   "id": "04216697",
   "metadata": {},
   "outputs": [
    {
     "data": {
      "text/html": [
       "<html>\\[\\newcommand{\\Bold}[1]{\\mathbf{#1}}\\begin{array}{l}\n",
       "\\verb|[False|\\verb|  |\\verb|True|\\verb|  |\\verb|True|\\verb| |\\verb|False|\\verb|  |\\verb|True|\\verb| |\\verb|False|\\verb|  |\\verb|True|\\verb|  |\\verb|True|\\verb|  |\\verb|True|\\verb|  |\\verb|True|\\verb|  |\\verb|True|\\verb|  |\\verb|True|\\\\\n",
       "\\verb|  |\\verb|True|\\verb|  |\\verb|True|\\verb| |\\verb|False]|\n",
       "\\end{array}\\]</html>"
      ],
      "text/latex": [
       "$$\\newcommand{\\Bold}[1]{\\mathbf{#1}}\\begin{array}{l}\n",
       "\\verb|[False|\\verb|  |\\verb|True|\\verb|  |\\verb|True|\\verb| |\\verb|False|\\verb|  |\\verb|True|\\verb| |\\verb|False|\\verb|  |\\verb|True|\\verb|  |\\verb|True|\\verb|  |\\verb|True|\\verb|  |\\verb|True|\\verb|  |\\verb|True|\\verb|  |\\verb|True|\\\\\n",
       "\\verb|  |\\verb|True|\\verb|  |\\verb|True|\\verb| |\\verb|False]|\n",
       "\\end{array}$$"
      ],
      "text/plain": [
       "array([False,  True,  True, False,  True, False,  True,  True,  True,\n",
       "        True,  True,  True,  True,  True, False])"
      ]
     },
     "execution_count": 25,
     "metadata": {},
     "output_type": "execute_result"
    }
   ],
   "source": [
    "np.array(myarr_1_mod_16)%4==0"
   ]
  },
  {
   "cell_type": "code",
   "execution_count": 26,
   "id": "cf1bbaf6",
   "metadata": {},
   "outputs": [
    {
     "data": {
      "text/html": [
       "<html>\\[\\newcommand{\\Bold}[1]{\\mathbf{#1}}\\begin{array}{l}\n",
       "\\verb|[False|\\verb| |\\verb|False|\\verb|  |\\verb|True|\\verb|  |\\verb|True|\\verb| |\\verb|False|\\verb| |\\verb|False|\\verb| |\\verb|False|\\verb|  |\\verb|True|\\verb| |\\verb|False|\\verb| |\\verb|False|\\verb| |\\verb|False|\\verb| |\\verb|False|\\\\\n",
       "\\verb|  |\\verb|True|\\verb| |\\verb|False|\\verb| |\\verb|False]|\n",
       "\\end{array}\\]</html>"
      ],
      "text/latex": [
       "$$\\newcommand{\\Bold}[1]{\\mathbf{#1}}\\begin{array}{l}\n",
       "\\verb|[False|\\verb| |\\verb|False|\\verb|  |\\verb|True|\\verb|  |\\verb|True|\\verb| |\\verb|False|\\verb| |\\verb|False|\\verb| |\\verb|False|\\verb|  |\\verb|True|\\verb| |\\verb|False|\\verb| |\\verb|False|\\verb| |\\verb|False|\\verb| |\\verb|False|\\\\\n",
       "\\verb|  |\\verb|True|\\verb| |\\verb|False|\\verb| |\\verb|False]|\n",
       "\\end{array}$$"
      ],
      "text/plain": [
       "array([False, False,  True,  True, False, False, False,  True, False,\n",
       "       False, False, False,  True, False, False])"
      ]
     },
     "execution_count": 26,
     "metadata": {},
     "output_type": "execute_result"
    }
   ],
   "source": [
    "np.array(myarr_3_mod_16)%4==0"
   ]
  },
  {
   "cell_type": "code",
   "execution_count": 27,
   "id": "7af38583",
   "metadata": {},
   "outputs": [
    {
     "data": {
      "text/html": [
       "<html>\\[\\newcommand{\\Bold}[1]{\\mathbf{#1}}\\begin{array}{l}\n",
       "\\verb|[False|\\verb| |\\verb|False|\\verb|  |\\verb|True|\\verb| |\\verb|False|\\verb|  |\\verb|True|\\verb|  |\\verb|True|\\verb|  |\\verb|True|\\verb| |\\verb|False|\\verb|  |\\verb|True|\\verb| |\\verb|False|\\verb|  |\\verb|True|\\verb| |\\verb|False|\\\\\n",
       "\\verb| |\\verb|False|\\verb| |\\verb|False|\\verb|  |\\verb|True]|\n",
       "\\end{array}\\]</html>"
      ],
      "text/latex": [
       "$$\\newcommand{\\Bold}[1]{\\mathbf{#1}}\\begin{array}{l}\n",
       "\\verb|[False|\\verb| |\\verb|False|\\verb|  |\\verb|True|\\verb| |\\verb|False|\\verb|  |\\verb|True|\\verb|  |\\verb|True|\\verb|  |\\verb|True|\\verb| |\\verb|False|\\verb|  |\\verb|True|\\verb| |\\verb|False|\\verb|  |\\verb|True|\\verb| |\\verb|False|\\\\\n",
       "\\verb| |\\verb|False|\\verb| |\\verb|False|\\verb|  |\\verb|True]|\n",
       "\\end{array}$$"
      ],
      "text/plain": [
       "array([False, False,  True, False,  True,  True,  True, False,  True,\n",
       "       False,  True, False, False, False,  True])"
      ]
     },
     "execution_count": 27,
     "metadata": {},
     "output_type": "execute_result"
    }
   ],
   "source": [
    "np.array(myarr_4_mod_16)%4==0"
   ]
  },
  {
   "cell_type": "code",
   "execution_count": 28,
   "id": "b764017a",
   "metadata": {},
   "outputs": [
    {
     "data": {
      "text/html": [
       "<html>\\[\\newcommand{\\Bold}[1]{\\mathbf{#1}}\\begin{array}{l}\n",
       "\\verb|[False|\\verb|  |\\verb|True|\\verb| |\\verb|False|\\verb| |\\verb|False|\\verb|  |\\verb|True|\\verb|  |\\verb|True|\\verb| |\\verb|False|\\verb| |\\verb|False|\\verb|  |\\verb|True|\\verb| |\\verb|False|\\verb|  |\\verb|True|\\verb| |\\verb|False|\\\\\n",
       "\\verb| |\\verb|False|\\verb|  |\\verb|True|\\verb| |\\verb|False]|\n",
       "\\end{array}\\]</html>"
      ],
      "text/latex": [
       "$$\\newcommand{\\Bold}[1]{\\mathbf{#1}}\\begin{array}{l}\n",
       "\\verb|[False|\\verb|  |\\verb|True|\\verb| |\\verb|False|\\verb| |\\verb|False|\\verb|  |\\verb|True|\\verb|  |\\verb|True|\\verb| |\\verb|False|\\verb| |\\verb|False|\\verb|  |\\verb|True|\\verb| |\\verb|False|\\verb|  |\\verb|True|\\verb| |\\verb|False|\\\\\n",
       "\\verb| |\\verb|False|\\verb|  |\\verb|True|\\verb| |\\verb|False]|\n",
       "\\end{array}$$"
      ],
      "text/plain": [
       "array([False,  True, False, False,  True,  True, False, False,  True,\n",
       "       False,  True, False, False,  True, False])"
      ]
     },
     "execution_count": 28,
     "metadata": {},
     "output_type": "execute_result"
    }
   ],
   "source": [
    "np.array(myarr_5_mod_16)%4==0"
   ]
  },
  {
   "cell_type": "code",
   "execution_count": 29,
   "id": "f8c35e1c",
   "metadata": {},
   "outputs": [
    {
     "data": {
      "text/html": [
       "<html>\\[\\newcommand{\\Bold}[1]{\\mathbf{#1}}\\begin{array}{l}\n",
       "\\verb|[False|\\verb| |\\verb|False|\\verb| |\\verb|False|\\verb|  |\\verb|True|\\verb|  |\\verb|True|\\verb| |\\verb|False|\\verb|  |\\verb|True|\\verb| |\\verb|False|\\verb| |\\verb|False|\\verb| |\\verb|False|\\verb| |\\verb|False|\\verb|  |\\verb|True|\\\\\n",
       "\\verb| |\\verb|False|\\verb| |\\verb|False|\\verb|  |\\verb|True]|\n",
       "\\end{array}\\]</html>"
      ],
      "text/latex": [
       "$$\\newcommand{\\Bold}[1]{\\mathbf{#1}}\\begin{array}{l}\n",
       "\\verb|[False|\\verb| |\\verb|False|\\verb| |\\verb|False|\\verb|  |\\verb|True|\\verb|  |\\verb|True|\\verb| |\\verb|False|\\verb|  |\\verb|True|\\verb| |\\verb|False|\\verb| |\\verb|False|\\verb| |\\verb|False|\\verb| |\\verb|False|\\verb|  |\\verb|True|\\\\\n",
       "\\verb| |\\verb|False|\\verb| |\\verb|False|\\verb|  |\\verb|True]|\n",
       "\\end{array}$$"
      ],
      "text/plain": [
       "array([False, False, False,  True,  True, False,  True, False, False,\n",
       "       False, False,  True, False, False,  True])"
      ]
     },
     "execution_count": 29,
     "metadata": {},
     "output_type": "execute_result"
    }
   ],
   "source": [
    "np.array(myarr_6_mod_16)%4==0"
   ]
  },
  {
   "cell_type": "code",
   "execution_count": 30,
   "id": "e032e59e",
   "metadata": {},
   "outputs": [
    {
     "data": {
      "text/html": [
       "<html>\\[\\newcommand{\\Bold}[1]{\\mathbf{#1}}\\begin{array}{l}\n",
       "\\verb|[False|\\verb| |\\verb|False|\\verb| |\\verb|False|\\verb| |\\verb|False|\\verb| |\\verb|False|\\verb| |\\verb|False|\\verb| |\\verb|False|\\verb|  |\\verb|True|\\verb|  |\\verb|True|\\verb| |\\verb|False|\\verb| |\\verb|False|\\verb| |\\verb|False|\\\\\n",
       "\\verb| |\\verb|False|\\verb| |\\verb|False|\\verb|  |\\verb|True]|\n",
       "\\end{array}\\]</html>"
      ],
      "text/latex": [
       "$$\\newcommand{\\Bold}[1]{\\mathbf{#1}}\\begin{array}{l}\n",
       "\\verb|[False|\\verb| |\\verb|False|\\verb| |\\verb|False|\\verb| |\\verb|False|\\verb| |\\verb|False|\\verb| |\\verb|False|\\verb| |\\verb|False|\\verb|  |\\verb|True|\\verb|  |\\verb|True|\\verb| |\\verb|False|\\verb| |\\verb|False|\\verb| |\\verb|False|\\\\\n",
       "\\verb| |\\verb|False|\\verb| |\\verb|False|\\verb|  |\\verb|True]|\n",
       "\\end{array}$$"
      ],
      "text/plain": [
       "array([False, False, False, False, False, False, False,  True,  True,\n",
       "       False, False, False, False, False,  True])"
      ]
     },
     "execution_count": 30,
     "metadata": {},
     "output_type": "execute_result"
    }
   ],
   "source": [
    "np.array(myarr_7_mod_16)%8==0"
   ]
  },
  {
   "cell_type": "code",
   "execution_count": 31,
   "id": "7eb5c40f",
   "metadata": {},
   "outputs": [
    {
     "data": {
      "text/html": [
       "<html>\\[\\newcommand{\\Bold}[1]{\\mathbf{#1}}\\begin{array}{l}\n",
       "\\verb|[False|\\verb| |\\verb|False|\\verb| |\\verb|False|\\verb|  |\\verb|True|\\verb|  |\\verb|True|\\verb| |\\verb|False|\\verb| |\\verb|False|\\verb|  |\\verb|True|\\verb|  |\\verb|True|\\verb| |\\verb|False|\\verb|  |\\verb|True|\\verb|  |\\verb|True|\\\\\n",
       "\\verb|  |\\verb|True|\\verb|  |\\verb|True|\\verb| |\\verb|False]|\n",
       "\\end{array}\\]</html>"
      ],
      "text/latex": [
       "$$\\newcommand{\\Bold}[1]{\\mathbf{#1}}\\begin{array}{l}\n",
       "\\verb|[False|\\verb| |\\verb|False|\\verb| |\\verb|False|\\verb|  |\\verb|True|\\verb|  |\\verb|True|\\verb| |\\verb|False|\\verb| |\\verb|False|\\verb|  |\\verb|True|\\verb|  |\\verb|True|\\verb| |\\verb|False|\\verb|  |\\verb|True|\\verb|  |\\verb|True|\\\\\n",
       "\\verb|  |\\verb|True|\\verb|  |\\verb|True|\\verb| |\\verb|False]|\n",
       "\\end{array}$$"
      ],
      "text/plain": [
       "array([False, False, False,  True,  True, False, False,  True,  True,\n",
       "       False,  True,  True,  True,  True, False])"
      ]
     },
     "execution_count": 31,
     "metadata": {},
     "output_type": "execute_result"
    }
   ],
   "source": [
    "np.array(myarr_8_mod_16)%4==0"
   ]
  },
  {
   "cell_type": "code",
   "execution_count": 32,
   "id": "57e41962",
   "metadata": {},
   "outputs": [
    {
     "data": {
      "text/html": [
       "<html>\\[\\newcommand{\\Bold}[1]{\\mathbf{#1}}\\begin{array}{l}\n",
       "\\verb|[|\\verb| |\\verb|True|\\verb|  |\\verb|True|\\verb|  |\\verb|True|\\verb|  |\\verb|True|\\verb|  |\\verb|True|\\verb|  |\\verb|True|\\verb|  |\\verb|True|\\verb|  |\\verb|True|\\verb|  |\\verb|True|\\verb|  |\\verb|True|\\verb|  |\\verb|True|\\verb|  |\\verb|True|\\\\\n",
       "\\verb|  |\\verb|True|\\verb|  |\\verb|True|\\verb|  |\\verb|True]|\n",
       "\\end{array}\\]</html>"
      ],
      "text/latex": [
       "$$\\newcommand{\\Bold}[1]{\\mathbf{#1}}\\begin{array}{l}\n",
       "\\verb|[|\\verb| |\\verb|True|\\verb|  |\\verb|True|\\verb|  |\\verb|True|\\verb|  |\\verb|True|\\verb|  |\\verb|True|\\verb|  |\\verb|True|\\verb|  |\\verb|True|\\verb|  |\\verb|True|\\verb|  |\\verb|True|\\verb|  |\\verb|True|\\verb|  |\\verb|True|\\verb|  |\\verb|True|\\\\\n",
       "\\verb|  |\\verb|True|\\verb|  |\\verb|True|\\verb|  |\\verb|True]|\n",
       "\\end{array}$$"
      ],
      "text/plain": [
       "array([ True,  True,  True,  True,  True,  True,  True,  True,  True,\n",
       "        True,  True,  True,  True,  True,  True])"
      ]
     },
     "execution_count": 32,
     "metadata": {},
     "output_type": "execute_result"
    }
   ],
   "source": [
    "np.array(myarr_9_mod_16)%8==0"
   ]
  },
  {
   "cell_type": "code",
   "execution_count": 33,
   "id": "31072907",
   "metadata": {},
   "outputs": [
    {
     "data": {
      "text/html": [
       "<html>\\[\\newcommand{\\Bold}[1]{\\mathbf{#1}}\\begin{array}{l}\n",
       "\\verb|[False|\\verb|  |\\verb|True|\\verb|  |\\verb|True|\\verb| |\\verb|False|\\verb| |\\verb|False|\\verb| |\\verb|False|\\verb|  |\\verb|True|\\verb| |\\verb|False|\\verb|  |\\verb|True|\\verb| |\\verb|False|\\verb|  |\\verb|True|\\verb|  |\\verb|True|\\\\\n",
       "\\verb| |\\verb|False|\\verb|  |\\verb|True|\\verb| |\\verb|False]|\n",
       "\\end{array}\\]</html>"
      ],
      "text/latex": [
       "$$\\newcommand{\\Bold}[1]{\\mathbf{#1}}\\begin{array}{l}\n",
       "\\verb|[False|\\verb|  |\\verb|True|\\verb|  |\\verb|True|\\verb| |\\verb|False|\\verb| |\\verb|False|\\verb| |\\verb|False|\\verb|  |\\verb|True|\\verb| |\\verb|False|\\verb|  |\\verb|True|\\verb| |\\verb|False|\\verb|  |\\verb|True|\\verb|  |\\verb|True|\\\\\n",
       "\\verb| |\\verb|False|\\verb|  |\\verb|True|\\verb| |\\verb|False]|\n",
       "\\end{array}$$"
      ],
      "text/plain": [
       "array([False,  True,  True, False, False, False,  True, False,  True,\n",
       "       False,  True,  True, False,  True, False])"
      ]
     },
     "execution_count": 33,
     "metadata": {},
     "output_type": "execute_result"
    }
   ],
   "source": [
    "np.array(myarr_9_mod_16)%16==0"
   ]
  },
  {
   "cell_type": "code",
   "execution_count": 34,
   "id": "b39f8a75",
   "metadata": {},
   "outputs": [
    {
     "data": {
      "text/html": [
       "<html>\\[\\newcommand{\\Bold}[1]{\\mathbf{#1}}\\left(57, 2232, \\frac{279}{2}\\right)\\]</html>"
      ],
      "text/latex": [
       "$$\\newcommand{\\Bold}[1]{\\mathbf{#1}}\\left(57, 2232, \\frac{279}{2}\\right)$$"
      ],
      "text/plain": [
       "(57, 2232, 279/2)"
      ]
     },
     "execution_count": 34,
     "metadata": {},
     "output_type": "execute_result"
    }
   ],
   "source": [
    "16*3+9, op17[57], op17[57]/16"
   ]
  },
  {
   "cell_type": "code",
   "execution_count": 35,
   "id": "4adf3464",
   "metadata": {},
   "outputs": [
    {
     "data": {
      "text/html": [
       "<html>\\[\\newcommand{\\Bold}[1]{\\mathbf{#1}}\\begin{array}{l}\n",
       "\\verb|[False|\\verb| |\\verb|False|\\verb|  |\\verb|True|\\verb| |\\verb|False|\\verb| |\\verb|False|\\verb| |\\verb|False|\\verb| |\\verb|False|\\verb| |\\verb|False|\\verb|  |\\verb|True|\\verb|  |\\verb|True|\\verb|  |\\verb|True|\\verb|  |\\verb|True|\\\\\n",
       "\\verb| |\\verb|False|\\verb| |\\verb|False|\\verb| |\\verb|False]|\n",
       "\\end{array}\\]</html>"
      ],
      "text/latex": [
       "$$\\newcommand{\\Bold}[1]{\\mathbf{#1}}\\begin{array}{l}\n",
       "\\verb|[False|\\verb| |\\verb|False|\\verb|  |\\verb|True|\\verb| |\\verb|False|\\verb| |\\verb|False|\\verb| |\\verb|False|\\verb| |\\verb|False|\\verb| |\\verb|False|\\verb|  |\\verb|True|\\verb|  |\\verb|True|\\verb|  |\\verb|True|\\verb|  |\\verb|True|\\\\\n",
       "\\verb| |\\verb|False|\\verb| |\\verb|False|\\verb| |\\verb|False]|\n",
       "\\end{array}$$"
      ],
      "text/plain": [
       "array([False, False,  True, False, False, False, False, False,  True,\n",
       "        True,  True,  True, False, False, False])"
      ]
     },
     "execution_count": 35,
     "metadata": {},
     "output_type": "execute_result"
    }
   ],
   "source": [
    "np.array(myarr_10_mod_16)%4==0"
   ]
  },
  {
   "cell_type": "code",
   "execution_count": 36,
   "id": "be7d3caa",
   "metadata": {},
   "outputs": [
    {
     "data": {
      "text/html": [
       "<html>\\[\\newcommand{\\Bold}[1]{\\mathbf{#1}}\\begin{array}{l}\n",
       "\\verb|[False|\\verb|  |\\verb|True|\\verb| |\\verb|False|\\verb| |\\verb|False|\\verb| |\\verb|False|\\verb|  |\\verb|True|\\verb| |\\verb|False|\\verb|  |\\verb|True|\\verb| |\\verb|False|\\verb|  |\\verb|True|\\verb| |\\verb|False|\\verb|  |\\verb|True|\\\\\n",
       "\\verb|  |\\verb|True|\\verb|  |\\verb|True|\\verb|  |\\verb|True]|\n",
       "\\end{array}\\]</html>"
      ],
      "text/latex": [
       "$$\\newcommand{\\Bold}[1]{\\mathbf{#1}}\\begin{array}{l}\n",
       "\\verb|[False|\\verb|  |\\verb|True|\\verb| |\\verb|False|\\verb| |\\verb|False|\\verb| |\\verb|False|\\verb|  |\\verb|True|\\verb| |\\verb|False|\\verb|  |\\verb|True|\\verb| |\\verb|False|\\verb|  |\\verb|True|\\verb| |\\verb|False|\\verb|  |\\verb|True|\\\\\n",
       "\\verb|  |\\verb|True|\\verb|  |\\verb|True|\\verb|  |\\verb|True]|\n",
       "\\end{array}$$"
      ],
      "text/plain": [
       "array([False,  True, False, False, False,  True, False,  True, False,\n",
       "        True, False,  True,  True,  True,  True])"
      ]
     },
     "execution_count": 36,
     "metadata": {},
     "output_type": "execute_result"
    }
   ],
   "source": [
    "np.array(myarr_11_mod_16)%4==0"
   ]
  },
  {
   "cell_type": "code",
   "execution_count": 37,
   "id": "87dbecad",
   "metadata": {},
   "outputs": [
    {
     "data": {
      "text/html": [
       "<html>\\[\\newcommand{\\Bold}[1]{\\mathbf{#1}}\\begin{array}{l}\n",
       "\\verb|[False|\\verb|  |\\verb|True|\\verb| |\\verb|False|\\verb|  |\\verb|True|\\verb| |\\verb|False|\\verb|  |\\verb|True|\\verb|  |\\verb|True|\\verb|  |\\verb|True|\\verb|  |\\verb|True|\\verb|  |\\verb|True|\\verb| |\\verb|False|\\verb|  |\\verb|True|\\\\\n",
       "\\verb|  |\\verb|True|\\verb|  |\\verb|True|\\verb| |\\verb|False]|\n",
       "\\end{array}\\]</html>"
      ],
      "text/latex": [
       "$$\\newcommand{\\Bold}[1]{\\mathbf{#1}}\\begin{array}{l}\n",
       "\\verb|[False|\\verb|  |\\verb|True|\\verb| |\\verb|False|\\verb|  |\\verb|True|\\verb| |\\verb|False|\\verb|  |\\verb|True|\\verb|  |\\verb|True|\\verb|  |\\verb|True|\\verb|  |\\verb|True|\\verb|  |\\verb|True|\\verb| |\\verb|False|\\verb|  |\\verb|True|\\\\\n",
       "\\verb|  |\\verb|True|\\verb|  |\\verb|True|\\verb| |\\verb|False]|\n",
       "\\end{array}$$"
      ],
      "text/plain": [
       "array([False,  True, False,  True, False,  True,  True,  True,  True,\n",
       "        True, False,  True,  True,  True, False])"
      ]
     },
     "execution_count": 37,
     "metadata": {},
     "output_type": "execute_result"
    }
   ],
   "source": [
    "np.array(myarr_12_mod_16)%4==0"
   ]
  },
  {
   "cell_type": "code",
   "execution_count": 38,
   "id": "d2fa9e4b",
   "metadata": {},
   "outputs": [
    {
     "data": {
      "text/html": [
       "<html>\\[\\newcommand{\\Bold}[1]{\\mathbf{#1}}\\begin{array}{l}\n",
       "\\verb|[False|\\verb| |\\verb|False|\\verb| |\\verb|False|\\verb| |\\verb|False|\\verb|  |\\verb|True|\\verb|  |\\verb|True|\\verb| |\\verb|False|\\verb|  |\\verb|True|\\verb|  |\\verb|True|\\verb| |\\verb|False|\\verb| |\\verb|False|\\verb|  |\\verb|True|\\\\\n",
       "\\verb|  |\\verb|True|\\verb|  |\\verb|True|\\verb|  |\\verb|True]|\n",
       "\\end{array}\\]</html>"
      ],
      "text/latex": [
       "$$\\newcommand{\\Bold}[1]{\\mathbf{#1}}\\begin{array}{l}\n",
       "\\verb|[False|\\verb| |\\verb|False|\\verb| |\\verb|False|\\verb| |\\verb|False|\\verb|  |\\verb|True|\\verb|  |\\verb|True|\\verb| |\\verb|False|\\verb|  |\\verb|True|\\verb|  |\\verb|True|\\verb| |\\verb|False|\\verb| |\\verb|False|\\verb|  |\\verb|True|\\\\\n",
       "\\verb|  |\\verb|True|\\verb|  |\\verb|True|\\verb|  |\\verb|True]|\n",
       "\\end{array}$$"
      ],
      "text/plain": [
       "array([False, False, False, False,  True,  True, False,  True,  True,\n",
       "       False, False,  True,  True,  True,  True])"
      ]
     },
     "execution_count": 38,
     "metadata": {},
     "output_type": "execute_result"
    }
   ],
   "source": [
    "np.array(myarr_13_mod_16)%4==0"
   ]
  },
  {
   "cell_type": "code",
   "execution_count": 39,
   "id": "ada351e9",
   "metadata": {},
   "outputs": [
    {
     "data": {
      "text/html": [
       "<html>\\[\\newcommand{\\Bold}[1]{\\mathbf{#1}}\\begin{array}{l}\n",
       "\\verb|[|\\verb| |\\verb|True|\\verb|  |\\verb|True|\\verb|  |\\verb|True|\\verb|  |\\verb|True|\\verb|  |\\verb|True|\\verb|  |\\verb|True|\\verb|  |\\verb|True|\\verb|  |\\verb|True|\\verb|  |\\verb|True|\\verb|  |\\verb|True|\\verb|  |\\verb|True|\\verb|  |\\verb|True|\\\\\n",
       "\\verb|  |\\verb|True|\\verb|  |\\verb|True|\\verb|  |\\verb|True]|\n",
       "\\end{array}\\]</html>"
      ],
      "text/latex": [
       "$$\\newcommand{\\Bold}[1]{\\mathbf{#1}}\\begin{array}{l}\n",
       "\\verb|[|\\verb| |\\verb|True|\\verb|  |\\verb|True|\\verb|  |\\verb|True|\\verb|  |\\verb|True|\\verb|  |\\verb|True|\\verb|  |\\verb|True|\\verb|  |\\verb|True|\\verb|  |\\verb|True|\\verb|  |\\verb|True|\\verb|  |\\verb|True|\\verb|  |\\verb|True|\\verb|  |\\verb|True|\\\\\n",
       "\\verb|  |\\verb|True|\\verb|  |\\verb|True|\\verb|  |\\verb|True]|\n",
       "\\end{array}$$"
      ],
      "text/plain": [
       "array([ True,  True,  True,  True,  True,  True,  True,  True,  True,\n",
       "        True,  True,  True,  True,  True,  True])"
      ]
     },
     "execution_count": 39,
     "metadata": {},
     "output_type": "execute_result"
    }
   ],
   "source": [
    "np.array(myarr_14_mod_16)%4==0"
   ]
  },
  {
   "cell_type": "code",
   "execution_count": 40,
   "id": "6d3a2e46",
   "metadata": {},
   "outputs": [
    {
     "data": {
      "text/html": [
       "<html>\\[\\newcommand{\\Bold}[1]{\\mathbf{#1}}\\begin{array}{l}\n",
       "\\verb|[False|\\verb|  |\\verb|True|\\verb| |\\verb|False|\\verb|  |\\verb|True|\\verb| |\\verb|False|\\verb|  |\\verb|True|\\verb| |\\verb|False|\\verb|  |\\verb|True|\\verb| |\\verb|False|\\verb|  |\\verb|True|\\verb| |\\verb|False|\\verb|  |\\verb|True|\\\\\n",
       "\\verb| |\\verb|False|\\verb|  |\\verb|True|\\verb|  |\\verb|True]|\n",
       "\\end{array}\\]</html>"
      ],
      "text/latex": [
       "$$\\newcommand{\\Bold}[1]{\\mathbf{#1}}\\begin{array}{l}\n",
       "\\verb|[False|\\verb|  |\\verb|True|\\verb| |\\verb|False|\\verb|  |\\verb|True|\\verb| |\\verb|False|\\verb|  |\\verb|True|\\verb| |\\verb|False|\\verb|  |\\verb|True|\\verb| |\\verb|False|\\verb|  |\\verb|True|\\verb| |\\verb|False|\\verb|  |\\verb|True|\\\\\n",
       "\\verb| |\\verb|False|\\verb|  |\\verb|True|\\verb|  |\\verb|True]|\n",
       "\\end{array}$$"
      ],
      "text/plain": [
       "array([False,  True, False,  True, False,  True, False,  True, False,\n",
       "        True, False,  True, False,  True,  True])"
      ]
     },
     "execution_count": 40,
     "metadata": {},
     "output_type": "execute_result"
    }
   ],
   "source": [
    "np.array(myarr_14_mod_16)%8==0"
   ]
  },
  {
   "cell_type": "code",
   "execution_count": 41,
   "id": "334d78c7",
   "metadata": {},
   "outputs": [
    {
     "data": {
      "text/html": [
       "<html>\\[\\newcommand{\\Bold}[1]{\\mathbf{#1}}\\left(46, 716, \\frac{179}{2}\\right)\\]</html>"
      ],
      "text/latex": [
       "$$\\newcommand{\\Bold}[1]{\\mathbf{#1}}\\left(46, 716, \\frac{179}{2}\\right)$$"
      ],
      "text/plain": [
       "(46, 716, 179/2)"
      ]
     },
     "execution_count": 41,
     "metadata": {},
     "output_type": "execute_result"
    }
   ],
   "source": [
    "16*2+14, op17[46], op17[46]/8"
   ]
  },
  {
   "cell_type": "code",
   "execution_count": 42,
   "id": "153bff6f",
   "metadata": {},
   "outputs": [
    {
     "data": {
      "text/html": [
       "<html>\\[\\newcommand{\\Bold}[1]{\\mathbf{#1}}\\begin{array}{l}\n",
       "\\verb|[|\\verb| |\\verb|True|\\verb|  |\\verb|True|\\verb|  |\\verb|True|\\verb|  |\\verb|True|\\verb|  |\\verb|True|\\verb|  |\\verb|True|\\verb|  |\\verb|True|\\verb|  |\\verb|True|\\verb|  |\\verb|True|\\verb|  |\\verb|True|\\verb|  |\\verb|True|\\verb|  |\\verb|True|\\\\\n",
       "\\verb|  |\\verb|True|\\verb|  |\\verb|True|\\verb|  |\\verb|True]|\n",
       "\\end{array}\\]</html>"
      ],
      "text/latex": [
       "$$\\newcommand{\\Bold}[1]{\\mathbf{#1}}\\begin{array}{l}\n",
       "\\verb|[|\\verb| |\\verb|True|\\verb|  |\\verb|True|\\verb|  |\\verb|True|\\verb|  |\\verb|True|\\verb|  |\\verb|True|\\verb|  |\\verb|True|\\verb|  |\\verb|True|\\verb|  |\\verb|True|\\verb|  |\\verb|True|\\verb|  |\\verb|True|\\verb|  |\\verb|True|\\verb|  |\\verb|True|\\\\\n",
       "\\verb|  |\\verb|True|\\verb|  |\\verb|True|\\verb|  |\\verb|True]|\n",
       "\\end{array}$$"
      ],
      "text/plain": [
       "array([ True,  True,  True,  True,  True,  True,  True,  True,  True,\n",
       "        True,  True,  True,  True,  True,  True])"
      ]
     },
     "execution_count": 42,
     "metadata": {},
     "output_type": "execute_result"
    }
   ],
   "source": [
    "np.array(myarr_15_mod_16)%16==0"
   ]
  },
  {
   "cell_type": "code",
   "execution_count": 43,
   "id": "f2cd9a75",
   "metadata": {},
   "outputs": [
    {
     "data": {
      "text/html": [
       "<html>\\[\\newcommand{\\Bold}[1]{\\mathbf{#1}}\\begin{array}{l}\n",
       "\\verb|[False|\\verb| |\\verb|False|\\verb| |\\verb|False|\\verb| |\\verb|False|\\verb|  |\\verb|True|\\verb|  |\\verb|True|\\verb|  |\\verb|True|\\verb| |\\verb|False|\\verb| |\\verb|False|\\verb|  |\\verb|True|\\verb|  |\\verb|True|\\verb| |\\verb|False|\\\\\n",
       "\\verb|  |\\verb|True|\\verb| |\\verb|False|\\verb|  |\\verb|True]|\n",
       "\\end{array}\\]</html>"
      ],
      "text/latex": [
       "$$\\newcommand{\\Bold}[1]{\\mathbf{#1}}\\begin{array}{l}\n",
       "\\verb|[False|\\verb| |\\verb|False|\\verb| |\\verb|False|\\verb| |\\verb|False|\\verb|  |\\verb|True|\\verb|  |\\verb|True|\\verb|  |\\verb|True|\\verb| |\\verb|False|\\verb| |\\verb|False|\\verb|  |\\verb|True|\\verb|  |\\verb|True|\\verb| |\\verb|False|\\\\\n",
       "\\verb|  |\\verb|True|\\verb| |\\verb|False|\\verb|  |\\verb|True]|\n",
       "\\end{array}$$"
      ],
      "text/plain": [
       "array([False, False, False, False,  True,  True,  True, False, False,\n",
       "        True,  True, False,  True, False,  True])"
      ]
     },
     "execution_count": 43,
     "metadata": {},
     "output_type": "execute_result"
    }
   ],
   "source": [
    "np.array(myarr_15_mod_16)%32==0"
   ]
  },
  {
   "cell_type": "code",
   "execution_count": 44,
   "id": "1e280558",
   "metadata": {},
   "outputs": [
    {
     "data": {
      "text/html": [
       "<html>\\[\\newcommand{\\Bold}[1]{\\mathbf{#1}}\\left(31, 144, \\frac{9}{2}\\right)\\]</html>"
      ],
      "text/latex": [
       "$$\\newcommand{\\Bold}[1]{\\mathbf{#1}}\\left(31, 144, \\frac{9}{2}\\right)$$"
      ],
      "text/plain": [
       "(31, 144, 9/2)"
      ]
     },
     "execution_count": 44,
     "metadata": {},
     "output_type": "execute_result"
    }
   ],
   "source": [
    "16*1+15, op17[31], op17[31]/32"
   ]
  },
  {
   "cell_type": "code",
   "execution_count": 45,
   "id": "92150342",
   "metadata": {},
   "outputs": [
    {
     "data": {
      "text/html": [
       "<html>\\[\\newcommand{\\Bold}[1]{\\mathbf{#1}}\\verb|[False|\\verb| |\\verb|False|\\verb| |\\verb|False|\\verb| |\\verb|False|\\verb| |\\verb|False|\\verb| |\\verb|False|\\verb| |\\verb|False|\\verb|  |\\verb|True|\\verb| |\\verb|False|\\verb|  |\\verb|True]|\\]</html>"
      ],
      "text/latex": [
       "$$\\newcommand{\\Bold}[1]{\\mathbf{#1}}\\verb|[False|\\verb| |\\verb|False|\\verb| |\\verb|False|\\verb| |\\verb|False|\\verb| |\\verb|False|\\verb| |\\verb|False|\\verb| |\\verb|False|\\verb|  |\\verb|True|\\verb| |\\verb|False|\\verb|  |\\verb|True]|$$"
      ],
      "text/plain": [
       "array([False, False, False, False, False, False, False,  True, False,\n",
       "        True])"
      ]
     },
     "execution_count": 45,
     "metadata": {},
     "output_type": "execute_result"
    }
   ],
   "source": [
    "np.array(myarr_0_mod_32)%4==0"
   ]
  },
  {
   "cell_type": "code",
   "execution_count": 46,
   "id": "3a830728",
   "metadata": {},
   "outputs": [
    {
     "data": {
      "text/html": [
       "<html>\\[\\newcommand{\\Bold}[1]{\\mathbf{#1}}\\verb|[False|\\verb|  |\\verb|True|\\verb|  |\\verb|True|\\verb|  |\\verb|True|\\verb|  |\\verb|True|\\verb|  |\\verb|True|\\verb|  |\\verb|True|\\verb| |\\verb|False|\\verb|  |\\verb|True|\\verb| |\\verb|False]|\\]</html>"
      ],
      "text/latex": [
       "$$\\newcommand{\\Bold}[1]{\\mathbf{#1}}\\verb|[False|\\verb|  |\\verb|True|\\verb|  |\\verb|True|\\verb|  |\\verb|True|\\verb|  |\\verb|True|\\verb|  |\\verb|True|\\verb|  |\\verb|True|\\verb| |\\verb|False|\\verb|  |\\verb|True|\\verb| |\\verb|False]|$$"
      ],
      "text/plain": [
       "array([False,  True,  True,  True,  True,  True,  True, False,  True,\n",
       "       False])"
      ]
     },
     "execution_count": 46,
     "metadata": {},
     "output_type": "execute_result"
    }
   ],
   "source": [
    "np.array(myarr_1_mod_32)%4==0"
   ]
  },
  {
   "cell_type": "code",
   "execution_count": 47,
   "id": "d903a4b9",
   "metadata": {},
   "outputs": [
    {
     "data": {
      "text/html": [
       "<html>\\[\\newcommand{\\Bold}[1]{\\mathbf{#1}}\\verb|[False|\\verb|  |\\verb|True|\\verb|  |\\verb|True|\\verb| |\\verb|False|\\verb|  |\\verb|True|\\verb| |\\verb|False|\\verb|  |\\verb|True|\\verb|  |\\verb|True|\\verb|  |\\verb|True|\\verb|  |\\verb|True]|\\]</html>"
      ],
      "text/latex": [
       "$$\\newcommand{\\Bold}[1]{\\mathbf{#1}}\\verb|[False|\\verb|  |\\verb|True|\\verb|  |\\verb|True|\\verb| |\\verb|False|\\verb|  |\\verb|True|\\verb| |\\verb|False|\\verb|  |\\verb|True|\\verb|  |\\verb|True|\\verb|  |\\verb|True|\\verb|  |\\verb|True]|$$"
      ],
      "text/plain": [
       "array([False,  True,  True, False,  True, False,  True,  True,  True,\n",
       "        True])"
      ]
     },
     "execution_count": 47,
     "metadata": {},
     "output_type": "execute_result"
    }
   ],
   "source": [
    "np.array(myarr_2_mod_32)%4==0"
   ]
  },
  {
   "cell_type": "code",
   "execution_count": 48,
   "id": "9a7cf1ca",
   "metadata": {},
   "outputs": [
    {
     "data": {
      "text/html": [
       "<html>\\[\\newcommand{\\Bold}[1]{\\mathbf{#1}}\\verb|[False|\\verb|  |\\verb|True|\\verb| |\\verb|False|\\verb| |\\verb|False|\\verb| |\\verb|False|\\verb| |\\verb|False|\\verb|  |\\verb|True|\\verb| |\\verb|False]|\\]</html>"
      ],
      "text/latex": [
       "$$\\newcommand{\\Bold}[1]{\\mathbf{#1}}\\verb|[False|\\verb|  |\\verb|True|\\verb| |\\verb|False|\\verb| |\\verb|False|\\verb| |\\verb|False|\\verb| |\\verb|False|\\verb|  |\\verb|True|\\verb| |\\verb|False]|$$"
      ],
      "text/plain": [
       "array([False,  True, False, False, False, False,  True, False])"
      ]
     },
     "execution_count": 48,
     "metadata": {},
     "output_type": "execute_result"
    }
   ],
   "source": [
    "np.array(myarr_3_mod_32)%4==0"
   ]
  },
  {
   "cell_type": "code",
   "execution_count": 49,
   "id": "16005505",
   "metadata": {},
   "outputs": [
    {
     "data": {
      "text/html": [
       "<html>\\[\\newcommand{\\Bold}[1]{\\mathbf{#1}}\\verb|[False|\\verb|  |\\verb|True|\\verb|  |\\verb|True|\\verb|  |\\verb|True|\\verb|  |\\verb|True|\\verb|  |\\verb|True|\\verb| |\\verb|False|\\verb|  |\\verb|True|\\verb|  |\\verb|True|\\verb|  |\\verb|True]|\\]</html>"
      ],
      "text/latex": [
       "$$\\newcommand{\\Bold}[1]{\\mathbf{#1}}\\verb|[False|\\verb|  |\\verb|True|\\verb|  |\\verb|True|\\verb|  |\\verb|True|\\verb|  |\\verb|True|\\verb|  |\\verb|True|\\verb| |\\verb|False|\\verb|  |\\verb|True|\\verb|  |\\verb|True|\\verb|  |\\verb|True]|$$"
      ],
      "text/plain": [
       "array([False,  True,  True,  True,  True,  True, False,  True,  True,\n",
       "        True])"
      ]
     },
     "execution_count": 49,
     "metadata": {},
     "output_type": "execute_result"
    }
   ],
   "source": [
    "np.array(myarr_4_mod_32)%4==0"
   ]
  },
  {
   "cell_type": "code",
   "execution_count": 50,
   "id": "77461794",
   "metadata": {},
   "outputs": [
    {
     "data": {
      "text/html": [
       "<html>\\[\\newcommand{\\Bold}[1]{\\mathbf{#1}}\\verb|[False|\\verb| |\\verb|False|\\verb|  |\\verb|True|\\verb| |\\verb|False|\\verb|  |\\verb|True|\\verb|  |\\verb|True|\\verb| |\\verb|False|\\verb| |\\verb|False]|\\]</html>"
      ],
      "text/latex": [
       "$$\\newcommand{\\Bold}[1]{\\mathbf{#1}}\\verb|[False|\\verb| |\\verb|False|\\verb|  |\\verb|True|\\verb| |\\verb|False|\\verb|  |\\verb|True|\\verb|  |\\verb|True|\\verb| |\\verb|False|\\verb| |\\verb|False]|$$"
      ],
      "text/plain": [
       "array([False, False,  True, False,  True,  True, False, False])"
      ]
     },
     "execution_count": 50,
     "metadata": {},
     "output_type": "execute_result"
    }
   ],
   "source": [
    "np.array(myarr_5_mod_32)%4==0"
   ]
  },
  {
   "cell_type": "code",
   "execution_count": 51,
   "id": "29e4c2b7",
   "metadata": {},
   "outputs": [
    {
     "data": {
      "text/html": [
       "<html>\\[\\newcommand{\\Bold}[1]{\\mathbf{#1}}\\verb|[False|\\verb| |\\verb|False|\\verb|  |\\verb|True|\\verb|  |\\verb|True|\\verb| |\\verb|False|\\verb| |\\verb|False|\\verb| |\\verb|False|\\verb|  |\\verb|True|\\verb| |\\verb|False|\\verb| |\\verb|False]|\\]</html>"
      ],
      "text/latex": [
       "$$\\newcommand{\\Bold}[1]{\\mathbf{#1}}\\verb|[False|\\verb| |\\verb|False|\\verb|  |\\verb|True|\\verb|  |\\verb|True|\\verb| |\\verb|False|\\verb| |\\verb|False|\\verb| |\\verb|False|\\verb|  |\\verb|True|\\verb| |\\verb|False|\\verb| |\\verb|False]|$$"
      ],
      "text/plain": [
       "array([False, False,  True,  True, False, False, False,  True, False,\n",
       "       False])"
      ]
     },
     "execution_count": 51,
     "metadata": {},
     "output_type": "execute_result"
    }
   ],
   "source": [
    "np.array(myarr_6_mod_32)%4==0"
   ]
  },
  {
   "cell_type": "code",
   "execution_count": 52,
   "id": "32192588",
   "metadata": {},
   "outputs": [
    {
     "data": {
      "text/html": [
       "<html>\\[\\newcommand{\\Bold}[1]{\\mathbf{#1}}\\verb|[|\\verb| |\\verb|True|\\verb|  |\\verb|True|\\verb|  |\\verb|True|\\verb|  |\\verb|True|\\verb|  |\\verb|True|\\verb|  |\\verb|True|\\verb|  |\\verb|True|\\verb|  |\\verb|True]|\\]</html>"
      ],
      "text/latex": [
       "$$\\newcommand{\\Bold}[1]{\\mathbf{#1}}\\verb|[|\\verb| |\\verb|True|\\verb|  |\\verb|True|\\verb|  |\\verb|True|\\verb|  |\\verb|True|\\verb|  |\\verb|True|\\verb|  |\\verb|True|\\verb|  |\\verb|True|\\verb|  |\\verb|True]|$$"
      ],
      "text/plain": [
       "array([ True,  True,  True,  True,  True,  True,  True,  True])"
      ]
     },
     "execution_count": 52,
     "metadata": {},
     "output_type": "execute_result"
    }
   ],
   "source": [
    "np.array(myarr_7_mod_32)%4==0"
   ]
  },
  {
   "cell_type": "code",
   "execution_count": 53,
   "id": "6b682f46",
   "metadata": {},
   "outputs": [
    {
     "data": {
      "text/html": [
       "<html>\\[\\newcommand{\\Bold}[1]{\\mathbf{#1}}\\verb|[False|\\verb| |\\verb|False|\\verb| |\\verb|False|\\verb| |\\verb|False|\\verb|  |\\verb|True|\\verb| |\\verb|False|\\verb| |\\verb|False|\\verb|  |\\verb|True]|\\]</html>"
      ],
      "text/latex": [
       "$$\\newcommand{\\Bold}[1]{\\mathbf{#1}}\\verb|[False|\\verb| |\\verb|False|\\verb| |\\verb|False|\\verb| |\\verb|False|\\verb|  |\\verb|True|\\verb| |\\verb|False|\\verb| |\\verb|False|\\verb|  |\\verb|True]|$$"
      ],
      "text/plain": [
       "array([False, False, False, False,  True, False, False,  True])"
      ]
     },
     "execution_count": 53,
     "metadata": {},
     "output_type": "execute_result"
    }
   ],
   "source": [
    "np.array(myarr_7_mod_32)%8==0"
   ]
  },
  {
   "cell_type": "code",
   "execution_count": 54,
   "id": "54029c5d",
   "metadata": {},
   "outputs": [
    {
     "data": {
      "text/html": [
       "<html>\\[\\newcommand{\\Bold}[1]{\\mathbf{#1}}\\verb|[False|\\verb| |\\verb|False|\\verb|  |\\verb|True|\\verb| |\\verb|False|\\verb|  |\\verb|True|\\verb|  |\\verb|True|\\verb|  |\\verb|True|\\verb| |\\verb|False|\\verb|  |\\verb|True|\\verb| |\\verb|False]|\\]</html>"
      ],
      "text/latex": [
       "$$\\newcommand{\\Bold}[1]{\\mathbf{#1}}\\verb|[False|\\verb| |\\verb|False|\\verb|  |\\verb|True|\\verb| |\\verb|False|\\verb|  |\\verb|True|\\verb|  |\\verb|True|\\verb|  |\\verb|True|\\verb| |\\verb|False|\\verb|  |\\verb|True|\\verb| |\\verb|False]|$$"
      ],
      "text/plain": [
       "array([False, False,  True, False,  True,  True,  True, False,  True,\n",
       "       False])"
      ]
     },
     "execution_count": 54,
     "metadata": {},
     "output_type": "execute_result"
    }
   ],
   "source": [
    "np.array(myarr_8_mod_32)%4==0"
   ]
  },
  {
   "cell_type": "code",
   "execution_count": 55,
   "id": "ee3340ef",
   "metadata": {},
   "outputs": [
    {
     "data": {
      "text/html": [
       "<html>\\[\\newcommand{\\Bold}[1]{\\mathbf{#1}}\\verb|[|\\verb| |\\verb|True|\\verb|  |\\verb|True|\\verb|  |\\verb|True|\\verb|  |\\verb|True|\\verb|  |\\verb|True|\\verb|  |\\verb|True|\\verb|  |\\verb|True|\\verb|  |\\verb|True]|\\]</html>"
      ],
      "text/latex": [
       "$$\\newcommand{\\Bold}[1]{\\mathbf{#1}}\\verb|[|\\verb| |\\verb|True|\\verb|  |\\verb|True|\\verb|  |\\verb|True|\\verb|  |\\verb|True|\\verb|  |\\verb|True|\\verb|  |\\verb|True|\\verb|  |\\verb|True|\\verb|  |\\verb|True]|$$"
      ],
      "text/plain": [
       "array([ True,  True,  True,  True,  True,  True,  True,  True])"
      ]
     },
     "execution_count": 55,
     "metadata": {},
     "output_type": "execute_result"
    }
   ],
   "source": [
    "np.array(myarr_9_mod_32)%8==0"
   ]
  },
  {
   "cell_type": "code",
   "execution_count": 56,
   "id": "53d7c01f",
   "metadata": {},
   "outputs": [
    {
     "data": {
      "text/html": [
       "<html>\\[\\newcommand{\\Bold}[1]{\\mathbf{#1}}\\verb|[False|\\verb|  |\\verb|True|\\verb| |\\verb|False|\\verb| |\\verb|False|\\verb|  |\\verb|True|\\verb|  |\\verb|True|\\verb| |\\verb|False|\\verb| |\\verb|False|\\verb|  |\\verb|True|\\verb| |\\verb|False]|\\]</html>"
      ],
      "text/latex": [
       "$$\\newcommand{\\Bold}[1]{\\mathbf{#1}}\\verb|[False|\\verb|  |\\verb|True|\\verb| |\\verb|False|\\verb| |\\verb|False|\\verb|  |\\verb|True|\\verb|  |\\verb|True|\\verb| |\\verb|False|\\verb| |\\verb|False|\\verb|  |\\verb|True|\\verb| |\\verb|False]|$$"
      ],
      "text/plain": [
       "array([False,  True, False, False,  True,  True, False, False,  True,\n",
       "       False])"
      ]
     },
     "execution_count": 56,
     "metadata": {},
     "output_type": "execute_result"
    }
   ],
   "source": [
    "np.array(myarr_10_mod_32)%4==0"
   ]
  },
  {
   "cell_type": "code",
   "execution_count": 57,
   "id": "ed78b436",
   "metadata": {},
   "outputs": [
    {
     "data": {
      "text/html": [
       "<html>\\[\\newcommand{\\Bold}[1]{\\mathbf{#1}}\\verb|[False|\\verb| |\\verb|False|\\verb| |\\verb|False|\\verb| |\\verb|False|\\verb| |\\verb|False|\\verb| |\\verb|False|\\verb|  |\\verb|True|\\verb|  |\\verb|True]|\\]</html>"
      ],
      "text/latex": [
       "$$\\newcommand{\\Bold}[1]{\\mathbf{#1}}\\verb|[False|\\verb| |\\verb|False|\\verb| |\\verb|False|\\verb| |\\verb|False|\\verb| |\\verb|False|\\verb| |\\verb|False|\\verb|  |\\verb|True|\\verb|  |\\verb|True]|$$"
      ],
      "text/plain": [
       "array([False, False, False, False, False, False,  True,  True])"
      ]
     },
     "execution_count": 57,
     "metadata": {},
     "output_type": "execute_result"
    }
   ],
   "source": [
    "np.array(myarr_11_mod_32)%4==0"
   ]
  },
  {
   "cell_type": "code",
   "execution_count": 58,
   "id": "f4ec04fc",
   "metadata": {},
   "outputs": [
    {
     "data": {
      "text/html": [
       "<html>\\[\\newcommand{\\Bold}[1]{\\mathbf{#1}}\\verb|[False|\\verb| |\\verb|False|\\verb| |\\verb|False|\\verb|  |\\verb|True|\\verb|  |\\verb|True|\\verb| |\\verb|False|\\verb|  |\\verb|True|\\verb| |\\verb|False|\\verb| |\\verb|False|\\verb| |\\verb|False]|\\]</html>"
      ],
      "text/latex": [
       "$$\\newcommand{\\Bold}[1]{\\mathbf{#1}}\\verb|[False|\\verb| |\\verb|False|\\verb| |\\verb|False|\\verb|  |\\verb|True|\\verb|  |\\verb|True|\\verb| |\\verb|False|\\verb|  |\\verb|True|\\verb| |\\verb|False|\\verb| |\\verb|False|\\verb| |\\verb|False]|$$"
      ],
      "text/plain": [
       "array([False, False, False,  True,  True, False,  True, False, False,\n",
       "       False])"
      ]
     },
     "execution_count": 58,
     "metadata": {},
     "output_type": "execute_result"
    }
   ],
   "source": [
    "np.array(myarr_12_mod_32)%4==0"
   ]
  },
  {
   "cell_type": "code",
   "execution_count": 59,
   "id": "8ac157ca",
   "metadata": {},
   "outputs": [
    {
     "data": {
      "text/html": [
       "<html>\\[\\newcommand{\\Bold}[1]{\\mathbf{#1}}\\verb|[False|\\verb| |\\verb|False|\\verb|  |\\verb|True|\\verb| |\\verb|False|\\verb|  |\\verb|True|\\verb| |\\verb|False|\\verb|  |\\verb|True|\\verb|  |\\verb|True]|\\]</html>"
      ],
      "text/latex": [
       "$$\\newcommand{\\Bold}[1]{\\mathbf{#1}}\\verb|[False|\\verb| |\\verb|False|\\verb|  |\\verb|True|\\verb| |\\verb|False|\\verb|  |\\verb|True|\\verb| |\\verb|False|\\verb|  |\\verb|True|\\verb|  |\\verb|True]|$$"
      ],
      "text/plain": [
       "array([False, False,  True, False,  True, False,  True,  True])"
      ]
     },
     "execution_count": 59,
     "metadata": {},
     "output_type": "execute_result"
    }
   ],
   "source": [
    "np.array(myarr_13_mod_32)%4==0"
   ]
  },
  {
   "cell_type": "code",
   "execution_count": 60,
   "id": "6f472404",
   "metadata": {},
   "outputs": [
    {
     "data": {
      "text/html": [
       "<html>\\[\\newcommand{\\Bold}[1]{\\mathbf{#1}}\\verb|[|\\verb| |\\verb|True|\\verb|  |\\verb|True|\\verb|  |\\verb|True|\\verb|  |\\verb|True|\\verb|  |\\verb|True|\\verb|  |\\verb|True|\\verb|  |\\verb|True|\\verb|  |\\verb|True|\\verb|  |\\verb|True|\\verb|  |\\verb|True]|\\]</html>"
      ],
      "text/latex": [
       "$$\\newcommand{\\Bold}[1]{\\mathbf{#1}}\\verb|[|\\verb| |\\verb|True|\\verb|  |\\verb|True|\\verb|  |\\verb|True|\\verb|  |\\verb|True|\\verb|  |\\verb|True|\\verb|  |\\verb|True|\\verb|  |\\verb|True|\\verb|  |\\verb|True|\\verb|  |\\verb|True|\\verb|  |\\verb|True]|$$"
      ],
      "text/plain": [
       "array([ True,  True,  True,  True,  True,  True,  True,  True,  True,\n",
       "        True])"
      ]
     },
     "execution_count": 60,
     "metadata": {},
     "output_type": "execute_result"
    }
   ],
   "source": [
    "np.array(myarr_14_mod_32)%4==0"
   ]
  },
  {
   "cell_type": "code",
   "execution_count": 61,
   "id": "5ce5c221",
   "metadata": {},
   "outputs": [
    {
     "data": {
      "text/html": [
       "<html>\\[\\newcommand{\\Bold}[1]{\\mathbf{#1}}\\verb|[|\\verb| |\\verb|True|\\verb|  |\\verb|True|\\verb|  |\\verb|True|\\verb|  |\\verb|True|\\verb|  |\\verb|True|\\verb|  |\\verb|True|\\verb|  |\\verb|True|\\verb|  |\\verb|True]|\\]</html>"
      ],
      "text/latex": [
       "$$\\newcommand{\\Bold}[1]{\\mathbf{#1}}\\verb|[|\\verb| |\\verb|True|\\verb|  |\\verb|True|\\verb|  |\\verb|True|\\verb|  |\\verb|True|\\verb|  |\\verb|True|\\verb|  |\\verb|True|\\verb|  |\\verb|True|\\verb|  |\\verb|True]|$$"
      ],
      "text/plain": [
       "array([ True,  True,  True,  True,  True,  True,  True,  True])"
      ]
     },
     "execution_count": 61,
     "metadata": {},
     "output_type": "execute_result"
    }
   ],
   "source": [
    "np.array(myarr_15_mod_32)%16==0"
   ]
  },
  {
   "cell_type": "code",
   "execution_count": 62,
   "id": "eae9931b",
   "metadata": {},
   "outputs": [
    {
     "data": {
      "text/html": [
       "<html>\\[\\newcommand{\\Bold}[1]{\\mathbf{#1}}\\verb|[False|\\verb| |\\verb|False|\\verb| |\\verb|False|\\verb|  |\\verb|True|\\verb|  |\\verb|True|\\verb| |\\verb|False|\\verb| |\\verb|False|\\verb|  |\\verb|True|\\verb|  |\\verb|True|\\verb| |\\verb|False]|\\]</html>"
      ],
      "text/latex": [
       "$$\\newcommand{\\Bold}[1]{\\mathbf{#1}}\\verb|[False|\\verb| |\\verb|False|\\verb| |\\verb|False|\\verb|  |\\verb|True|\\verb|  |\\verb|True|\\verb| |\\verb|False|\\verb| |\\verb|False|\\verb|  |\\verb|True|\\verb|  |\\verb|True|\\verb| |\\verb|False]|$$"
      ],
      "text/plain": [
       "array([False, False, False,  True,  True, False, False,  True,  True,\n",
       "       False])"
      ]
     },
     "execution_count": 62,
     "metadata": {},
     "output_type": "execute_result"
    }
   ],
   "source": [
    "np.array(myarr_16_mod_32)%4==0"
   ]
  },
  {
   "cell_type": "code",
   "execution_count": 63,
   "id": "68e0cc6a",
   "metadata": {},
   "outputs": [
    {
     "data": {
      "text/html": [
       "<html>\\[\\newcommand{\\Bold}[1]{\\mathbf{#1}}\\verb|[|\\verb| |\\verb|True|\\verb| |\\verb|False|\\verb| |\\verb|False|\\verb|  |\\verb|True|\\verb|  |\\verb|True|\\verb|  |\\verb|True|\\verb|  |\\verb|True|\\verb|  |\\verb|True|\\verb|  |\\verb|True]|\\]</html>"
      ],
      "text/latex": [
       "$$\\newcommand{\\Bold}[1]{\\mathbf{#1}}\\verb|[|\\verb| |\\verb|True|\\verb| |\\verb|False|\\verb| |\\verb|False|\\verb|  |\\verb|True|\\verb|  |\\verb|True|\\verb|  |\\verb|True|\\verb|  |\\verb|True|\\verb|  |\\verb|True|\\verb|  |\\verb|True]|$$"
      ],
      "text/plain": [
       "array([ True, False, False,  True,  True,  True,  True,  True,  True])"
      ]
     },
     "execution_count": 63,
     "metadata": {},
     "output_type": "execute_result"
    }
   ],
   "source": [
    "np.array(myarr_17_mod_32)%4==0"
   ]
  },
  {
   "cell_type": "code",
   "execution_count": 64,
   "id": "d4baf74d",
   "metadata": {},
   "outputs": [
    {
     "data": {
      "text/html": [
       "<html>\\[\\newcommand{\\Bold}[1]{\\mathbf{#1}}\\begin{array}{l}\n",
       "\\verb|[|\\verb| |\\verb|True|\\verb|  |\\verb|True|\\verb|  |\\verb|True|\\verb|  |\\verb|True|\\verb|  |\\verb|True|\\verb|  |\\verb|True|\\verb|  |\\verb|True|\\verb|  |\\verb|True|\\verb|  |\\verb|True|\\verb|  |\\verb|True|\\verb|  |\\verb|True|\\verb|  |\\verb|True|\\\\\n",
       "\\verb|  |\\verb|True|\\verb|  |\\verb|True|\\verb|  |\\verb|True|\\verb|  |\\verb|True|\\verb|  |\\verb|True|\\verb|  |\\verb|True|\\verb|  |\\verb|True|\\verb|  |\\verb|True|\\verb|  |\\verb|True|\\verb|  |\\verb|True|\\verb|  |\\verb|True|\\verb|  |\\verb|True|\\\\\n",
       "\\verb|  |\\verb|True|\\verb|  |\\verb|True|\\verb|  |\\verb|True|\\verb|  |\\verb|True|\\verb|  |\\verb|True|\\verb|  |\\verb|True]|\n",
       "\\end{array}\\]</html>"
      ],
      "text/latex": [
       "$$\\newcommand{\\Bold}[1]{\\mathbf{#1}}\\begin{array}{l}\n",
       "\\verb|[|\\verb| |\\verb|True|\\verb|  |\\verb|True|\\verb|  |\\verb|True|\\verb|  |\\verb|True|\\verb|  |\\verb|True|\\verb|  |\\verb|True|\\verb|  |\\verb|True|\\verb|  |\\verb|True|\\verb|  |\\verb|True|\\verb|  |\\verb|True|\\verb|  |\\verb|True|\\verb|  |\\verb|True|\\\\\n",
       "\\verb|  |\\verb|True|\\verb|  |\\verb|True|\\verb|  |\\verb|True|\\verb|  |\\verb|True|\\verb|  |\\verb|True|\\verb|  |\\verb|True|\\verb|  |\\verb|True|\\verb|  |\\verb|True|\\verb|  |\\verb|True|\\verb|  |\\verb|True|\\verb|  |\\verb|True|\\verb|  |\\verb|True|\\\\\n",
       "\\verb|  |\\verb|True|\\verb|  |\\verb|True|\\verb|  |\\verb|True|\\verb|  |\\verb|True|\\verb|  |\\verb|True|\\verb|  |\\verb|True]|\n",
       "\\end{array}$$"
      ],
      "text/plain": [
       "array([ True,  True,  True,  True,  True,  True,  True,  True,  True,\n",
       "        True,  True,  True,  True,  True,  True,  True,  True,  True,\n",
       "        True,  True,  True,  True,  True,  True,  True,  True,  True,\n",
       "        True,  True,  True])"
      ]
     },
     "execution_count": 64,
     "metadata": {},
     "output_type": "execute_result"
    }
   ],
   "source": [
    "np.array(myarr_18_mod_32)%16==0"
   ]
  },
  {
   "cell_type": "code",
   "execution_count": 65,
   "id": "bc8c8736",
   "metadata": {},
   "outputs": [
    {
     "data": {
      "text/html": [
       "<html>\\[\\newcommand{\\Bold}[1]{\\mathbf{#1}}\\begin{array}{l}\n",
       "\\verb|[|\\verb| |\\verb|True|\\verb| |\\verb|False|\\verb| |\\verb|False|\\verb|  |\\verb|True|\\verb|  |\\verb|True|\\verb|  |\\verb|True|\\verb|  |\\verb|True|\\verb|  |\\verb|True|\\verb| |\\verb|False|\\verb| |\\verb|False|\\verb| |\\verb|False|\\verb| |\\verb|False|\\\\\n",
       "\\verb|  |\\verb|True|\\verb|  |\\verb|True|\\verb|  |\\verb|True|\\verb|  |\\verb|True|\\verb| |\\verb|False|\\verb|  |\\verb|True|\\verb|  |\\verb|True|\\verb| |\\verb|False|\\verb|  |\\verb|True|\\verb|  |\\verb|True|\\verb|  |\\verb|True|\\verb| |\\verb|False|\\\\\n",
       "\\verb|  |\\verb|True|\\verb| |\\verb|False|\\verb| |\\verb|False|\\verb|  |\\verb|True|\\verb| |\\verb|False|\\verb|  |\\verb|True]|\n",
       "\\end{array}\\]</html>"
      ],
      "text/latex": [
       "$$\\newcommand{\\Bold}[1]{\\mathbf{#1}}\\begin{array}{l}\n",
       "\\verb|[|\\verb| |\\verb|True|\\verb| |\\verb|False|\\verb| |\\verb|False|\\verb|  |\\verb|True|\\verb|  |\\verb|True|\\verb|  |\\verb|True|\\verb|  |\\verb|True|\\verb|  |\\verb|True|\\verb| |\\verb|False|\\verb| |\\verb|False|\\verb| |\\verb|False|\\verb| |\\verb|False|\\\\\n",
       "\\verb|  |\\verb|True|\\verb|  |\\verb|True|\\verb|  |\\verb|True|\\verb|  |\\verb|True|\\verb| |\\verb|False|\\verb|  |\\verb|True|\\verb|  |\\verb|True|\\verb| |\\verb|False|\\verb|  |\\verb|True|\\verb|  |\\verb|True|\\verb|  |\\verb|True|\\verb| |\\verb|False|\\\\\n",
       "\\verb|  |\\verb|True|\\verb| |\\verb|False|\\verb| |\\verb|False|\\verb|  |\\verb|True|\\verb| |\\verb|False|\\verb|  |\\verb|True]|\n",
       "\\end{array}$$"
      ],
      "text/plain": [
       "array([ True, False, False,  True,  True,  True,  True,  True, False,\n",
       "       False, False, False,  True,  True,  True,  True, False,  True,\n",
       "        True, False,  True,  True,  True, False,  True, False, False,\n",
       "        True, False,  True])"
      ]
     },
     "execution_count": 65,
     "metadata": {},
     "output_type": "execute_result"
    }
   ],
   "source": [
    "np.array(myarr_18_mod_32)%32==0"
   ]
  },
  {
   "cell_type": "code",
   "execution_count": 66,
   "id": "aa5bafbd",
   "metadata": {},
   "outputs": [
    {
     "data": {
      "text/html": [
       "<html>\\[\\newcommand{\\Bold}[1]{\\mathbf{#1}}\\left(50, 1168, \\frac{73}{2}\\right)\\]</html>"
      ],
      "text/latex": [
       "$$\\newcommand{\\Bold}[1]{\\mathbf{#1}}\\left(50, 1168, \\frac{73}{2}\\right)$$"
      ],
      "text/plain": [
       "(50, 1168, 73/2)"
      ]
     },
     "execution_count": 66,
     "metadata": {},
     "output_type": "execute_result"
    }
   ],
   "source": [
    "32*1+18, op17[50], op17[50]/32"
   ]
  },
  {
   "cell_type": "code",
   "execution_count": 67,
   "id": "85e5575b",
   "metadata": {},
   "outputs": [
    {
     "data": {
      "text/html": [
       "<html>\\[\\newcommand{\\Bold}[1]{\\mathbf{#1}}\\verb|[False|\\verb|  |\\verb|True|\\verb| |\\verb|False|\\verb|  |\\verb|True|\\verb| |\\verb|False|\\verb| |\\verb|False|\\verb| |\\verb|False|\\verb| |\\verb|False]|\\]</html>"
      ],
      "text/latex": [
       "$$\\newcommand{\\Bold}[1]{\\mathbf{#1}}\\verb|[False|\\verb|  |\\verb|True|\\verb| |\\verb|False|\\verb|  |\\verb|True|\\verb| |\\verb|False|\\verb| |\\verb|False|\\verb| |\\verb|False|\\verb| |\\verb|False]|$$"
      ],
      "text/plain": [
       "array([False,  True, False,  True, False, False, False, False])"
      ]
     },
     "execution_count": 67,
     "metadata": {},
     "output_type": "execute_result"
    }
   ],
   "source": [
    "np.array(myarr_19_mod_32)%4==0"
   ]
  },
  {
   "cell_type": "code",
   "execution_count": 68,
   "id": "96f094e9",
   "metadata": {},
   "outputs": [
    {
     "data": {
      "text/html": [
       "<html>\\[\\newcommand{\\Bold}[1]{\\mathbf{#1}}\\verb|[False|\\verb| |\\verb|False|\\verb|  |\\verb|True|\\verb| |\\verb|False|\\verb| |\\verb|False|\\verb| |\\verb|False|\\verb| |\\verb|False|\\verb| |\\verb|False]|\\]</html>"
      ],
      "text/latex": [
       "$$\\newcommand{\\Bold}[1]{\\mathbf{#1}}\\verb|[False|\\verb| |\\verb|False|\\verb|  |\\verb|True|\\verb| |\\verb|False|\\verb| |\\verb|False|\\verb| |\\verb|False|\\verb| |\\verb|False|\\verb| |\\verb|False]|$$"
      ],
      "text/plain": [
       "array([False, False,  True, False, False, False, False, False])"
      ]
     },
     "execution_count": 68,
     "metadata": {},
     "output_type": "execute_result"
    }
   ],
   "source": [
    "np.array(myarr_20_mod_32)%4==0"
   ]
  },
  {
   "cell_type": "code",
   "execution_count": 69,
   "id": "e4a6f59f",
   "metadata": {},
   "outputs": [
    {
     "data": {
      "text/html": [
       "<html>\\[\\newcommand{\\Bold}[1]{\\mathbf{#1}}\\verb|[|\\verb| |\\verb|True|\\verb| |\\verb|False|\\verb|  |\\verb|True|\\verb| |\\verb|False|\\verb| |\\verb|False|\\verb| |\\verb|False|\\verb|  |\\verb|True|\\verb| |\\verb|False]|\\]</html>"
      ],
      "text/latex": [
       "$$\\newcommand{\\Bold}[1]{\\mathbf{#1}}\\verb|[|\\verb| |\\verb|True|\\verb| |\\verb|False|\\verb|  |\\verb|True|\\verb| |\\verb|False|\\verb| |\\verb|False|\\verb| |\\verb|False|\\verb|  |\\verb|True|\\verb| |\\verb|False]|$$"
      ],
      "text/plain": [
       "array([ True, False,  True, False, False, False,  True, False])"
      ]
     },
     "execution_count": 69,
     "metadata": {},
     "output_type": "execute_result"
    }
   ],
   "source": [
    "np.array(myarr_21_mod_32)%4==0"
   ]
  },
  {
   "cell_type": "code",
   "execution_count": 70,
   "id": "db60fd80",
   "metadata": {},
   "outputs": [
    {
     "data": {
      "text/html": [
       "<html>\\[\\newcommand{\\Bold}[1]{\\mathbf{#1}}\\verb|[False|\\verb|  |\\verb|True|\\verb| |\\verb|False|\\verb| |\\verb|False|\\verb| |\\verb|False|\\verb|  |\\verb|True|\\verb| |\\verb|False|\\verb|  |\\verb|True]|\\]</html>"
      ],
      "text/latex": [
       "$$\\newcommand{\\Bold}[1]{\\mathbf{#1}}\\verb|[False|\\verb|  |\\verb|True|\\verb| |\\verb|False|\\verb| |\\verb|False|\\verb| |\\verb|False|\\verb|  |\\verb|True|\\verb| |\\verb|False|\\verb|  |\\verb|True]|$$"
      ],
      "text/plain": [
       "array([False,  True, False, False, False,  True, False,  True])"
      ]
     },
     "execution_count": 70,
     "metadata": {},
     "output_type": "execute_result"
    }
   ],
   "source": [
    "np.array(myarr_22_mod_32)%4==0"
   ]
  },
  {
   "cell_type": "code",
   "execution_count": 71,
   "id": "87475428",
   "metadata": {},
   "outputs": [
    {
     "data": {
      "text/html": [
       "<html>\\[\\newcommand{\\Bold}[1]{\\mathbf{#1}}\\verb|[|\\verb| |\\verb|True|\\verb|  |\\verb|True|\\verb|  |\\verb|True|\\verb|  |\\verb|True|\\verb|  |\\verb|True|\\verb|  |\\verb|True|\\verb|  |\\verb|True|\\verb|  |\\verb|True]|\\]</html>"
      ],
      "text/latex": [
       "$$\\newcommand{\\Bold}[1]{\\mathbf{#1}}\\verb|[|\\verb| |\\verb|True|\\verb|  |\\verb|True|\\verb|  |\\verb|True|\\verb|  |\\verb|True|\\verb|  |\\verb|True|\\verb|  |\\verb|True|\\verb|  |\\verb|True|\\verb|  |\\verb|True]|$$"
      ],
      "text/plain": [
       "array([ True,  True,  True,  True,  True,  True,  True,  True])"
      ]
     },
     "execution_count": 71,
     "metadata": {},
     "output_type": "execute_result"
    }
   ],
   "source": [
    "np.array(myarr_23_mod_32)%4==0"
   ]
  },
  {
   "cell_type": "code",
   "execution_count": 72,
   "id": "a8f3c4be",
   "metadata": {},
   "outputs": [
    {
     "data": {
      "text/html": [
       "<html>\\[\\newcommand{\\Bold}[1]{\\mathbf{#1}}\\verb|[False|\\verb|  |\\verb|True|\\verb| |\\verb|False|\\verb|  |\\verb|True|\\verb| |\\verb|False|\\verb|  |\\verb|True|\\verb|  |\\verb|True|\\verb|  |\\verb|True]|\\]</html>"
      ],
      "text/latex": [
       "$$\\newcommand{\\Bold}[1]{\\mathbf{#1}}\\verb|[False|\\verb|  |\\verb|True|\\verb| |\\verb|False|\\verb|  |\\verb|True|\\verb| |\\verb|False|\\verb|  |\\verb|True|\\verb|  |\\verb|True|\\verb|  |\\verb|True]|$$"
      ],
      "text/plain": [
       "array([False,  True, False,  True, False,  True,  True,  True])"
      ]
     },
     "execution_count": 72,
     "metadata": {},
     "output_type": "execute_result"
    }
   ],
   "source": [
    "np.array(myarr_24_mod_32)%4==0"
   ]
  },
  {
   "cell_type": "code",
   "execution_count": 73,
   "id": "2dc139c1",
   "metadata": {},
   "outputs": [
    {
     "data": {
      "text/html": [
       "<html>\\[\\newcommand{\\Bold}[1]{\\mathbf{#1}}\\verb|[|\\verb| |\\verb|True|\\verb|  |\\verb|True|\\verb|  |\\verb|True|\\verb|  |\\verb|True|\\verb|  |\\verb|True|\\verb|  |\\verb|True|\\verb|  |\\verb|True|\\verb|  |\\verb|True]|\\]</html>"
      ],
      "text/latex": [
       "$$\\newcommand{\\Bold}[1]{\\mathbf{#1}}\\verb|[|\\verb| |\\verb|True|\\verb|  |\\verb|True|\\verb|  |\\verb|True|\\verb|  |\\verb|True|\\verb|  |\\verb|True|\\verb|  |\\verb|True|\\verb|  |\\verb|True|\\verb|  |\\verb|True]|$$"
      ],
      "text/plain": [
       "array([ True,  True,  True,  True,  True,  True,  True,  True])"
      ]
     },
     "execution_count": 73,
     "metadata": {},
     "output_type": "execute_result"
    }
   ],
   "source": [
    "np.array(myarr_25_mod_32)%8==0"
   ]
  },
  {
   "cell_type": "code",
   "execution_count": 74,
   "id": "858748a2",
   "metadata": {},
   "outputs": [
    {
     "data": {
      "text/html": [
       "<html>\\[\\newcommand{\\Bold}[1]{\\mathbf{#1}}\\verb|[False|\\verb| |\\verb|False|\\verb| |\\verb|False|\\verb| |\\verb|False|\\verb|  |\\verb|True|\\verb|  |\\verb|True|\\verb| |\\verb|False|\\verb|  |\\verb|True]|\\]</html>"
      ],
      "text/latex": [
       "$$\\newcommand{\\Bold}[1]{\\mathbf{#1}}\\verb|[False|\\verb| |\\verb|False|\\verb| |\\verb|False|\\verb| |\\verb|False|\\verb|  |\\verb|True|\\verb|  |\\verb|True|\\verb| |\\verb|False|\\verb|  |\\verb|True]|$$"
      ],
      "text/plain": [
       "array([False, False, False, False,  True,  True, False,  True])"
      ]
     },
     "execution_count": 74,
     "metadata": {},
     "output_type": "execute_result"
    }
   ],
   "source": [
    "np.array(myarr_26_mod_32)%4==0"
   ]
  },
  {
   "cell_type": "code",
   "execution_count": 75,
   "id": "c624b37a",
   "metadata": {},
   "outputs": [
    {
     "data": {
      "text/html": [
       "<html>\\[\\newcommand{\\Bold}[1]{\\mathbf{#1}}\\verb|[|\\verb| |\\verb|True|\\verb| |\\verb|False|\\verb|  |\\verb|True|\\verb|  |\\verb|True|\\verb|  |\\verb|True|\\verb|  |\\verb|True|\\verb|  |\\verb|True|\\verb| |\\verb|False]|\\]</html>"
      ],
      "text/latex": [
       "$$\\newcommand{\\Bold}[1]{\\mathbf{#1}}\\verb|[|\\verb| |\\verb|True|\\verb| |\\verb|False|\\verb|  |\\verb|True|\\verb|  |\\verb|True|\\verb|  |\\verb|True|\\verb|  |\\verb|True|\\verb|  |\\verb|True|\\verb| |\\verb|False]|$$"
      ],
      "text/plain": [
       "array([ True, False,  True,  True,  True,  True,  True, False])"
      ]
     },
     "execution_count": 75,
     "metadata": {},
     "output_type": "execute_result"
    }
   ],
   "source": [
    "np.array(myarr_27_mod_32)%4==0"
   ]
  },
  {
   "cell_type": "code",
   "execution_count": 76,
   "id": "9298c69c",
   "metadata": {},
   "outputs": [
    {
     "data": {
      "text/html": [
       "<html>\\[\\newcommand{\\Bold}[1]{\\mathbf{#1}}\\verb|[|\\verb| |\\verb|True|\\verb|  |\\verb|True|\\verb|  |\\verb|True|\\verb|  |\\verb|True|\\verb|  |\\verb|True|\\verb|  |\\verb|True|\\verb|  |\\verb|True|\\verb|  |\\verb|True]|\\]</html>"
      ],
      "text/latex": [
       "$$\\newcommand{\\Bold}[1]{\\mathbf{#1}}\\verb|[|\\verb| |\\verb|True|\\verb|  |\\verb|True|\\verb|  |\\verb|True|\\verb|  |\\verb|True|\\verb|  |\\verb|True|\\verb|  |\\verb|True|\\verb|  |\\verb|True|\\verb|  |\\verb|True]|$$"
      ],
      "text/plain": [
       "array([ True,  True,  True,  True,  True,  True,  True,  True])"
      ]
     },
     "execution_count": 76,
     "metadata": {},
     "output_type": "execute_result"
    }
   ],
   "source": [
    "np.array(myarr_28_mod_32)%4==0"
   ]
  },
  {
   "cell_type": "code",
   "execution_count": 77,
   "id": "3174cd86",
   "metadata": {},
   "outputs": [
    {
     "data": {
      "text/html": [
       "<html>\\[\\newcommand{\\Bold}[1]{\\mathbf{#1}}\\verb|[False|\\verb|  |\\verb|True|\\verb| |\\verb|False|\\verb|  |\\verb|True|\\verb| |\\verb|False|\\verb|  |\\verb|True|\\verb| |\\verb|False|\\verb|  |\\verb|True]|\\]</html>"
      ],
      "text/latex": [
       "$$\\newcommand{\\Bold}[1]{\\mathbf{#1}}\\verb|[False|\\verb|  |\\verb|True|\\verb| |\\verb|False|\\verb|  |\\verb|True|\\verb| |\\verb|False|\\verb|  |\\verb|True|\\verb| |\\verb|False|\\verb|  |\\verb|True]|$$"
      ],
      "text/plain": [
       "array([False,  True, False,  True, False,  True, False,  True])"
      ]
     },
     "execution_count": 77,
     "metadata": {},
     "output_type": "execute_result"
    }
   ],
   "source": [
    "np.array(myarr_28_mod_32)%8==0"
   ]
  },
  {
   "cell_type": "code",
   "execution_count": 78,
   "id": "247ab985",
   "metadata": {},
   "outputs": [
    {
     "data": {
      "text/html": [
       "<html>\\[\\newcommand{\\Bold}[1]{\\mathbf{#1}}\\left(92, 37220, \\frac{9305}{2}\\right)\\]</html>"
      ],
      "text/latex": [
       "$$\\newcommand{\\Bold}[1]{\\mathbf{#1}}\\left(92, 37220, \\frac{9305}{2}\\right)$$"
      ],
      "text/plain": [
       "(92, 37220, 9305/2)"
      ]
     },
     "execution_count": 78,
     "metadata": {},
     "output_type": "execute_result"
    }
   ],
   "source": [
    "32*2+28, op17[92], op17[92]/8"
   ]
  },
  {
   "cell_type": "code",
   "execution_count": 79,
   "id": "61a2b185",
   "metadata": {},
   "outputs": [
    {
     "data": {
      "text/html": [
       "<html>\\[\\newcommand{\\Bold}[1]{\\mathbf{#1}}\\verb|[False|\\verb| |\\verb|False|\\verb|  |\\verb|True|\\verb|  |\\verb|True|\\verb| |\\verb|False|\\verb|  |\\verb|True|\\verb|  |\\verb|True|\\verb|  |\\verb|True]|\\]</html>"
      ],
      "text/latex": [
       "$$\\newcommand{\\Bold}[1]{\\mathbf{#1}}\\verb|[False|\\verb| |\\verb|False|\\verb|  |\\verb|True|\\verb|  |\\verb|True|\\verb| |\\verb|False|\\verb|  |\\verb|True|\\verb|  |\\verb|True|\\verb|  |\\verb|True]|$$"
      ],
      "text/plain": [
       "array([False, False,  True,  True, False,  True,  True,  True])"
      ]
     },
     "execution_count": 79,
     "metadata": {},
     "output_type": "execute_result"
    }
   ],
   "source": [
    "np.array(myarr_29_mod_32)%4==0"
   ]
  },
  {
   "cell_type": "code",
   "execution_count": 80,
   "id": "eb9a189c",
   "metadata": {},
   "outputs": [
    {
     "data": {
      "text/html": [
       "<html>\\[\\newcommand{\\Bold}[1]{\\mathbf{#1}}\\verb|[|\\verb| |\\verb|True|\\verb|  |\\verb|True|\\verb|  |\\verb|True|\\verb|  |\\verb|True|\\verb|  |\\verb|True|\\verb|  |\\verb|True|\\verb|  |\\verb|True|\\verb|  |\\verb|True]|\\]</html>"
      ],
      "text/latex": [
       "$$\\newcommand{\\Bold}[1]{\\mathbf{#1}}\\verb|[|\\verb| |\\verb|True|\\verb|  |\\verb|True|\\verb|  |\\verb|True|\\verb|  |\\verb|True|\\verb|  |\\verb|True|\\verb|  |\\verb|True|\\verb|  |\\verb|True|\\verb|  |\\verb|True]|$$"
      ],
      "text/plain": [
       "array([ True,  True,  True,  True,  True,  True,  True,  True])"
      ]
     },
     "execution_count": 80,
     "metadata": {},
     "output_type": "execute_result"
    }
   ],
   "source": [
    "np.array(myarr_30_mod_32)%8==0"
   ]
  },
  {
   "cell_type": "code",
   "execution_count": 81,
   "id": "82c65d0f",
   "metadata": {},
   "outputs": [
    {
     "data": {
      "text/html": [
       "<html>\\[\\newcommand{\\Bold}[1]{\\mathbf{#1}}\\verb|[False|\\verb|  |\\verb|True|\\verb|  |\\verb|True|\\verb| |\\verb|False|\\verb|  |\\verb|True|\\verb| |\\verb|False|\\verb| |\\verb|False|\\verb|  |\\verb|True]|\\]</html>"
      ],
      "text/latex": [
       "$$\\newcommand{\\Bold}[1]{\\mathbf{#1}}\\verb|[False|\\verb|  |\\verb|True|\\verb|  |\\verb|True|\\verb| |\\verb|False|\\verb|  |\\verb|True|\\verb| |\\verb|False|\\verb| |\\verb|False|\\verb|  |\\verb|True]|$$"
      ],
      "text/plain": [
       "array([False,  True,  True, False,  True, False, False,  True])"
      ]
     },
     "execution_count": 81,
     "metadata": {},
     "output_type": "execute_result"
    }
   ],
   "source": [
    "np.array(myarr_30_mod_32)%16==0"
   ]
  },
  {
   "cell_type": "code",
   "execution_count": 82,
   "id": "739393a3",
   "metadata": {},
   "outputs": [
    {
     "data": {
      "text/html": [
       "<html>\\[\\newcommand{\\Bold}[1]{\\mathbf{#1}}\\left(126, 383608, \\frac{47951}{2}\\right)\\]</html>"
      ],
      "text/latex": [
       "$$\\newcommand{\\Bold}[1]{\\mathbf{#1}}\\left(126, 383608, \\frac{47951}{2}\\right)$$"
      ],
      "text/plain": [
       "(126, 383608, 47951/2)"
      ]
     },
     "execution_count": 82,
     "metadata": {},
     "output_type": "execute_result"
    }
   ],
   "source": [
    "32*3+30, op17[126], op17[126]/16"
   ]
  },
  {
   "cell_type": "code",
   "execution_count": 83,
   "id": "5724daff",
   "metadata": {},
   "outputs": [
    {
     "data": {
      "text/html": [
       "<html>\\[\\newcommand{\\Bold}[1]{\\mathbf{#1}}\\verb|[|\\verb| |\\verb|True|\\verb|  |\\verb|True|\\verb|  |\\verb|True|\\verb|  |\\verb|True|\\verb|  |\\verb|True|\\verb|  |\\verb|True|\\verb|  |\\verb|True|\\verb|  |\\verb|True]|\\]</html>"
      ],
      "text/latex": [
       "$$\\newcommand{\\Bold}[1]{\\mathbf{#1}}\\verb|[|\\verb| |\\verb|True|\\verb|  |\\verb|True|\\verb|  |\\verb|True|\\verb|  |\\verb|True|\\verb|  |\\verb|True|\\verb|  |\\verb|True|\\verb|  |\\verb|True|\\verb|  |\\verb|True]|$$"
      ],
      "text/plain": [
       "array([ True,  True,  True,  True,  True,  True,  True,  True])"
      ]
     },
     "execution_count": 83,
     "metadata": {},
     "output_type": "execute_result"
    }
   ],
   "source": [
    "np.array(myarr_31_mod_32)%16==0"
   ]
  }
 ],
 "metadata": {
  "kernelspec": {
   "display_name": "SageMath 10.4",
   "language": "sage",
   "name": "sagemath"
  },
  "language_info": {
   "codemirror_mode": {
    "name": "ipython",
    "version": 3
   },
   "file_extension": ".py",
   "mimetype": "text/x-python",
   "name": "python",
   "nbconvert_exporter": "python",
   "pygments_lexer": "ipython3",
   "version": "3.11.10"
  }
 },
 "nbformat": 4,
 "nbformat_minor": 5
}
