{
 "cells": [
  {
   "cell_type": "markdown",
   "metadata": {},
   "source": [
    "# Cocalc link: \n",
    "\n",
    "https://cocalc.com/share/public_paths/fbb8d32335e09a10b6c37105f3cb0dc3cd224e43"
   ]
  },
  {
   "cell_type": "markdown",
   "metadata": {},
   "source": [
    "# Latex display of output"
   ]
  },
  {
   "cell_type": "code",
   "execution_count": 44,
   "metadata": {},
   "outputs": [],
   "source": [
    "%display latex"
   ]
  },
  {
   "cell_type": "markdown",
   "metadata": {},
   "source": [
    "# Euler Products\n",
    "\n",
    "## Definition"
   ]
  },
  {
   "cell_type": "markdown",
   "metadata": {},
   "source": [
    "Let us define \n",
    "$$f_j := (q^j;q^j)_{\\infty}$$\n",
    "where \n",
    "$$(q;q)_{\\infty}:= \\prod_{n=0}^{\\infty}(1-q^n).$$\n",
    "\n",
    "Here, we evaluate $f_1$.\n",
    "\n",
    "**Note:** $f_1$ is an element of the power series ring over integers, $\\mathbb{Z}[[q]]$."
   ]
  },
  {
   "cell_type": "markdown",
   "metadata": {},
   "source": [
    "## Import necessary Sagemath library"
   ]
  },
  {
   "cell_type": "code",
   "execution_count": 45,
   "metadata": {},
   "outputs": [],
   "source": [
    "from sage.modular.etaproducts import qexp_eta"
   ]
  },
  {
   "cell_type": "markdown",
   "metadata": {},
   "source": [
    "## Define a power series ring over the field of integers"
   ]
  },
  {
   "cell_type": "code",
   "execution_count": 46,
   "metadata": {},
   "outputs": [],
   "source": [
    "R.<q> = PowerSeriesRing(ZZ)"
   ]
  },
  {
   "cell_type": "markdown",
   "metadata": {},
   "source": [
    "## Set the highest precision allowed"
   ]
  },
  {
   "cell_type": "code",
   "execution_count": 47,
   "metadata": {},
   "outputs": [],
   "source": [
    "precision = 1000"
   ]
  },
  {
   "cell_type": "markdown",
   "metadata": {},
   "source": [
    "## Set the q-product for $f_1 = (q;q)_{\\infty}$"
   ]
  },
  {
   "cell_type": "code",
   "execution_count": 48,
   "metadata": {},
   "outputs": [
    {
     "data": {
      "text/html": [
       "<html>\\[\\newcommand{\\Bold}[1]{\\mathbf{#1}}1 -  q -  q^{2} +  q^{5} +  q^{7} -  q^{12} -  q^{15} +  q^{22} +  q^{26} -  q^{35} -  q^{40} +  q^{51} +  q^{57} -  q^{70} -  q^{77} +  q^{92} + O(q^{100})\\]</html>"
      ],
      "text/latex": [
       "$$\\newcommand{\\Bold}[1]{\\mathbf{#1}}1 -  q -  q^{2} +  q^{5} +  q^{7} -  q^{12} -  q^{15} +  q^{22} +  q^{26} -  q^{35} -  q^{40} +  q^{51} +  q^{57} -  q^{70} -  q^{77} +  q^{92} + O(q^{100})$$"
      ],
      "text/plain": [
       "1 - q - q^2 + q^5 + q^7 - q^12 - q^15 + q^22 + q^26 - q^35 - q^40 + q^51 + q^57 - q^70 - q^77 + q^92 + O(q^100)"
      ]
     },
     "execution_count": 48,
     "metadata": {},
     "output_type": "execute_result"
    }
   ],
   "source": [
    "f1 = qexp_eta(ZZ[['q']], 100)\n",
    "f1.O(100)"
   ]
  },
  {
   "cell_type": "code",
   "execution_count": 49,
   "metadata": {},
   "outputs": [
    {
     "data": {
      "text/html": [
       "<html>\\[\\newcommand{\\Bold}[1]{\\mathbf{#1}}\\mathrm{True}\\]</html>"
      ],
      "text/latex": [
       "$$\\newcommand{\\Bold}[1]{\\mathbf{#1}}\\mathrm{True}$$"
      ],
      "text/plain": [
       "True"
      ]
     },
     "execution_count": 49,
     "metadata": {},
     "output_type": "execute_result"
    }
   ],
   "source": [
    "f1 in R"
   ]
  },
  {
   "cell_type": "markdown",
   "metadata": {},
   "source": [
    "# Power series manipulation\n",
    "\n",
    "Have a look at the documentation for a comprehensive list of the functions that can be applied to a power series. https://doc.sagemath.org/html/en/reference/power_series/sage/rings/power_series_ring_element.html"
   ]
  },
  {
   "cell_type": "markdown",
   "metadata": {},
   "source": [
    "## Truncate\n",
    "\n",
    "Truncate a power series upto the term containing a specific power of the variable."
   ]
  },
  {
   "cell_type": "code",
   "execution_count": 50,
   "metadata": {},
   "outputs": [
    {
     "data": {
      "text/html": [
       "<html>\\[\\newcommand{\\Bold}[1]{\\mathbf{#1}}1 -  q -  q^{2} +  q^{5} +  q^{7} + O(q^{10})\\]</html>"
      ],
      "text/latex": [
       "$$\\newcommand{\\Bold}[1]{\\mathbf{#1}}1 -  q -  q^{2} +  q^{5} +  q^{7} + O(q^{10})$$"
      ],
      "text/plain": [
       "1 - q - q^2 + q^5 + q^7 + O(q^10)"
      ]
     },
     "execution_count": 50,
     "metadata": {},
     "output_type": "execute_result"
    }
   ],
   "source": [
    "f1.O(10)"
   ]
  },
  {
   "cell_type": "markdown",
   "metadata": {},
   "source": [
    "## Divide\n",
    "We can divide an element of the power series ring with another. Here, for $p(n)$ being the integer partition function of $n$,\n",
    "\n",
    "$$\n",
    "\\sum_{n=0}^{\\infty}p(n)q^n = \\frac{1}{f_1}.\n",
    "$$"
   ]
  },
  {
   "cell_type": "code",
   "execution_count": 51,
   "metadata": {},
   "outputs": [
    {
     "data": {
      "text/html": [
       "<html>\\[\\newcommand{\\Bold}[1]{\\mathbf{#1}}1 +  q + 2 q^{2} + 3 q^{3} + 5 q^{4} + 7 q^{5} + 11 q^{6} + 15 q^{7} + 22 q^{8} + 30 q^{9} + O(q^{10})\\]</html>"
      ],
      "text/latex": [
       "$$\\newcommand{\\Bold}[1]{\\mathbf{#1}}1 +  q + 2 q^{2} + 3 q^{3} + 5 q^{4} + 7 q^{5} + 11 q^{6} + 15 q^{7} + 22 q^{8} + 30 q^{9} + O(q^{10})$$"
      ],
      "text/plain": [
       "1 + q + 2*q^2 + 3*q^3 + 5*q^4 + 7*q^5 + 11*q^6 + 15*q^7 + 22*q^8 + 30*q^9 + O(q^10)"
      ]
     },
     "execution_count": 51,
     "metadata": {},
     "output_type": "execute_result"
    }
   ],
   "source": [
    "(1/f1).O(10)"
   ]
  },
  {
   "cell_type": "markdown",
   "metadata": {},
   "source": [
    "## Replace $q$ with $q^j$\n",
    "\n",
    "We can use the method **V()**. What follows is an enumeration of $(q^5;q^5)$ i.e. $f_5$."
   ]
  },
  {
   "cell_type": "code",
   "execution_count": 52,
   "metadata": {},
   "outputs": [],
   "source": [
    "f5 = f1.V(5)"
   ]
  },
  {
   "cell_type": "code",
   "execution_count": 53,
   "metadata": {},
   "outputs": [
    {
     "data": {
      "text/html": [
       "<html>\\[\\newcommand{\\Bold}[1]{\\mathbf{#1}}1 -  q^{5} -  q^{10} +  q^{25} +  q^{35} -  q^{60} -  q^{75} + O(q^{100})\\]</html>"
      ],
      "text/latex": [
       "$$\\newcommand{\\Bold}[1]{\\mathbf{#1}}1 -  q^{5} -  q^{10} +  q^{25} +  q^{35} -  q^{60} -  q^{75} + O(q^{100})$$"
      ],
      "text/plain": [
       "1 - q^5 - q^10 + q^25 + q^35 - q^60 - q^75 + O(q^100)"
      ]
     },
     "execution_count": 53,
     "metadata": {},
     "output_type": "execute_result"
    }
   ],
   "source": [
    "f5.O(100)"
   ]
  },
  {
   "cell_type": "markdown",
   "metadata": {},
   "source": [
    "# How to verify results"
   ]
  },
  {
   "cell_type": "markdown",
   "metadata": {},
   "source": [
    "## The 5-core partition function\n",
    "\n",
    "$$c_5 := \\dfrac{f_5^5}{f1} = \\dfrac{(q^5;q^5)_{\\infty}^5}{(q;q)_{\\infty}}$$"
   ]
  },
  {
   "cell_type": "code",
   "execution_count": 54,
   "metadata": {},
   "outputs": [],
   "source": [
    "c5 = f5^5/f1"
   ]
  },
  {
   "cell_type": "code",
   "execution_count": 55,
   "metadata": {},
   "outputs": [
    {
     "data": {
      "text/html": [
       "<html>\\[\\newcommand{\\Bold}[1]{\\mathbf{#1}}1 +  q + 2 q^{2} + 3 q^{3} + 5 q^{4} + 2 q^{5} + 6 q^{6} + 5 q^{7} + 7 q^{8} + 5 q^{9} + 12 q^{10} + 6 q^{11} + 12 q^{12} + 6 q^{13} + 10 q^{14} + 11 q^{15} + 16 q^{16} + 7 q^{17} + 20 q^{18} + 15 q^{19} + 12 q^{20} + O(q^{21})\\]</html>"
      ],
      "text/latex": [
       "$$\\newcommand{\\Bold}[1]{\\mathbf{#1}}1 +  q + 2 q^{2} + 3 q^{3} + 5 q^{4} + 2 q^{5} + 6 q^{6} + 5 q^{7} + 7 q^{8} + 5 q^{9} + 12 q^{10} + 6 q^{11} + 12 q^{12} + 6 q^{13} + 10 q^{14} + 11 q^{15} + 16 q^{16} + 7 q^{17} + 20 q^{18} + 15 q^{19} + 12 q^{20} + O(q^{21})$$"
      ],
      "text/plain": [
       "1 + q + 2*q^2 + 3*q^3 + 5*q^4 + 2*q^5 + 6*q^6 + 5*q^7 + 7*q^8 + 5*q^9 + 12*q^10 + 6*q^11 + 12*q^12 + 6*q^13 + 10*q^14 + 11*q^15 + 16*q^16 + 7*q^17 + 20*q^18 + 15*q^19 + 12*q^20 + O(q^21)"
      ]
     },
     "execution_count": 55,
     "metadata": {},
     "output_type": "execute_result"
    }
   ],
   "source": [
    "c5.O(21)"
   ]
  },
  {
   "cell_type": "code",
   "execution_count": 56,
   "metadata": {},
   "outputs": [],
   "source": [
    "c5_list_of_coefficients = c5.list()"
   ]
  },
  {
   "cell_type": "code",
   "execution_count": 57,
   "metadata": {},
   "outputs": [
    {
     "data": {
      "text/html": [
       "<html>\\[\\newcommand{\\Bold}[1]{\\mathbf{#1}}5\\]</html>"
      ],
      "text/latex": [
       "$$\\newcommand{\\Bold}[1]{\\mathbf{#1}}5$$"
      ],
      "text/plain": [
       "5"
      ]
     },
     "execution_count": 57,
     "metadata": {},
     "output_type": "execute_result"
    }
   ],
   "source": [
    "c5_list_of_coefficients[4]"
   ]
  },
  {
   "cell_type": "code",
   "execution_count": 58,
   "metadata": {},
   "outputs": [
    {
     "data": {
      "text/html": [
       "<html>\\[\\newcommand{\\Bold}[1]{\\mathbf{#1}}\\left[1, 1, 2, 3, 5\\right]\\]</html>"
      ],
      "text/latex": [
       "$$\\newcommand{\\Bold}[1]{\\mathbf{#1}}\\left[1, 1, 2, 3, 5\\right]$$"
      ],
      "text/plain": [
       "[1, 1, 2, 3, 5]"
      ]
     },
     "execution_count": 58,
     "metadata": {},
     "output_type": "execute_result"
    }
   ],
   "source": [
    "c5_list_of_coefficients[0:5]"
   ]
  },
  {
   "cell_type": "code",
   "execution_count": 59,
   "metadata": {},
   "outputs": [
    {
     "data": {
      "text/html": [
       "<html>\\[\\newcommand{\\Bold}[1]{\\mathbf{#1}}\\left[1, 1, 2, 3, 5\\right]\\]</html>"
      ],
      "text/latex": [
       "$$\\newcommand{\\Bold}[1]{\\mathbf{#1}}\\left[1, 1, 2, 3, 5\\right]$$"
      ],
      "text/plain": [
       "[1, 1, 2, 3, 5]"
      ]
     },
     "execution_count": 59,
     "metadata": {},
     "output_type": "execute_result"
    }
   ],
   "source": [
    "c5_list_of_coefficients[:5]"
   ]
  },
  {
   "cell_type": "markdown",
   "metadata": {},
   "source": [
    "## $$c_5(5n+4) = 5c_5(n)$$"
   ]
  },
  {
   "cell_type": "code",
   "execution_count": 60,
   "metadata": {},
   "outputs": [
    {
     "data": {
      "text/html": [
       "<html>\\[\\newcommand{\\Bold}[1]{\\mathbf{#1}}\\left[5, 5, 10, 15, 25, 10, 30, 25, 35, 25, 60\\right]\\]</html>"
      ],
      "text/latex": [
       "$$\\newcommand{\\Bold}[1]{\\mathbf{#1}}\\left[5, 5, 10, 15, 25, 10, 30, 25, 35, 25, 60\\right]$$"
      ],
      "text/plain": [
       "[5, 5, 10, 15, 25, 10, 30, 25, 35, 25, 60]"
      ]
     },
     "execution_count": 60,
     "metadata": {},
     "output_type": "execute_result"
    }
   ],
   "source": [
    "[c5_list_of_coefficients[5*n+4] for n in range(0,11)]"
   ]
  },
  {
   "cell_type": "code",
   "execution_count": 61,
   "metadata": {},
   "outputs": [
    {
     "data": {
      "text/html": [
       "<html>\\[\\newcommand{\\Bold}[1]{\\mathbf{#1}}\\left[5, 5, 10, 15, 25, 10, 30, 25, 35, 25, 60\\right]\\]</html>"
      ],
      "text/latex": [
       "$$\\newcommand{\\Bold}[1]{\\mathbf{#1}}\\left[5, 5, 10, 15, 25, 10, 30, 25, 35, 25, 60\\right]$$"
      ],
      "text/plain": [
       "[5, 5, 10, 15, 25, 10, 30, 25, 35, 25, 60]"
      ]
     },
     "execution_count": 61,
     "metadata": {},
     "output_type": "execute_result"
    }
   ],
   "source": [
    "[5*c5_list_of_coefficients[n] for n in range(0,11)]"
   ]
  },
  {
   "cell_type": "markdown",
   "metadata": {},
   "source": [
    "## $$c_5(4n+1) = 5c_5(2n)$$"
   ]
  },
  {
   "cell_type": "code",
   "execution_count": 62,
   "metadata": {},
   "outputs": [
    {
     "data": {
      "text/html": [
       "<html>\\[\\newcommand{\\Bold}[1]{\\mathbf{#1}}\\left[1, 2, 5, 6, 7, 12, 12, 10, 16, 20, 12\\right]\\]</html>"
      ],
      "text/latex": [
       "$$\\newcommand{\\Bold}[1]{\\mathbf{#1}}\\left[1, 2, 5, 6, 7, 12, 12, 10, 16, 20, 12\\right]$$"
      ],
      "text/plain": [
       "[1, 2, 5, 6, 7, 12, 12, 10, 16, 20, 12]"
      ]
     },
     "execution_count": 62,
     "metadata": {},
     "output_type": "execute_result"
    }
   ],
   "source": [
    "[c5_list_of_coefficients[4*n+1] for n in range(0,11)]"
   ]
  },
  {
   "cell_type": "code",
   "execution_count": 63,
   "metadata": {},
   "outputs": [
    {
     "data": {
      "text/html": [
       "<html>\\[\\newcommand{\\Bold}[1]{\\mathbf{#1}}\\left[1, 2, 5, 6, 7, 12, 12, 10, 16, 20, 12\\right]\\]</html>"
      ],
      "text/latex": [
       "$$\\newcommand{\\Bold}[1]{\\mathbf{#1}}\\left[1, 2, 5, 6, 7, 12, 12, 10, 16, 20, 12\\right]$$"
      ],
      "text/plain": [
       "[1, 2, 5, 6, 7, 12, 12, 10, 16, 20, 12]"
      ]
     },
     "execution_count": 63,
     "metadata": {},
     "output_type": "execute_result"
    }
   ],
   "source": [
    "[c5_list_of_coefficients[2*n] for n in range(0,11)]"
   ]
  }
 ],
 "metadata": {
  "kernelspec": {
   "display_name": "SageMath 9.5",
   "language": "sage",
   "name": "sagemath"
  },
  "language_info": {
   "codemirror_mode": {
    "name": "ipython",
    "version": 3
   },
   "file_extension": ".py",
   "mimetype": "text/x-python",
   "name": "python",
   "nbconvert_exporter": "python",
   "pygments_lexer": "ipython3",
   "version": "3.9.9"
  }
 },
 "nbformat": 4,
 "nbformat_minor": 4
}
