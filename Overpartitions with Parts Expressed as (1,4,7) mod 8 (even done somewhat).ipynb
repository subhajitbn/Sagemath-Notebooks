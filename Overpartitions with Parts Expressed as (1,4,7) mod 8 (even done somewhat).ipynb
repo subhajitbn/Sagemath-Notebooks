{
 "cells": [
  {
   "cell_type": "markdown",
   "id": "d75a000e",
   "metadata": {},
   "source": [
    "# Ramanujan's Theta Functions\n",
    "\n",
    "## Definitions\n",
    "\n",
    "Let $a$ and $b$ be integers. Then we define \n",
    "$$\n",
    "f(a,b) := (-q^a;q^{a+b})_{\\infty}(-q^b;q^{a+b})_{\\infty}(q^{a+b};q^{a+b})_{\\infty}.\n",
    "$$\n",
    "\n",
    "For the ease of programming, we break the above into two different functions defined below.\n",
    "\n",
    "$$\n",
    "sf(a,b) :=  (-q^a;q^{a+b})_{\\infty}\n",
    "$$\n",
    "and\n",
    "$$\n",
    "f_n := (q^{n};q^{n})_{\\infty}.\n",
    "$$\n",
    "\n",
    "This implies,\n",
    "\n",
    "$$\n",
    "f(a,b) \\quad = \\quad sf(a,b) \\; sf(b,a) \\; f_{a+b}.\n",
    "$$\n",
    "\n",
    "Note that, to avoid confusion, we rename $f(a,b)$ to $ftheta(a,b)$ and $f_n$ to $f(n)$ in the following code. "
   ]
  },
  {
   "cell_type": "code",
   "execution_count": 2,
   "id": "e269b40b",
   "metadata": {},
   "outputs": [],
   "source": [
    "%display latex"
   ]
  },
  {
   "cell_type": "code",
   "execution_count": 3,
   "id": "3a4e2988",
   "metadata": {},
   "outputs": [],
   "source": [
    "from sage.modular.etaproducts import qexp_eta\n",
    "from math import floor\n",
    "import numpy as np"
   ]
  },
  {
   "cell_type": "code",
   "execution_count": 4,
   "id": "98f0c306",
   "metadata": {},
   "outputs": [],
   "source": [
    "R.<q> = PowerSeriesRing(ZZ)\n",
    "f1 = qexp_eta(ZZ[['q']], 500)\n",
    "\n",
    "def sf(a, b):\n",
    "    top = floor((500-a)/(a+b))\n",
    "    base = 1\n",
    "    for r in range(0,top):\n",
    "        next_term = 1 + q^(a+r*(a+b))\n",
    "        base = base * next_term\n",
    "    return base + O(q^500)\n",
    "\n",
    "def f(n):\n",
    "    return f1.V(n)\n",
    "\n",
    "def ftheta(a,b):\n",
    "    return sf(a,b)*sf(b,a)*f(a+b)"
   ]
  },
  {
   "cell_type": "code",
   "execution_count": 5,
   "id": "ad0d0486",
   "metadata": {},
   "outputs": [
    {
     "data": {
      "text/html": [
       "<html>\\[\\newcommand{\\Bold}[1]{\\mathbf{#1}}1 +  q +  q^{7} +  q^{10} +  q^{22} +  q^{27} +  q^{45} +  q^{52} +  q^{76} +  q^{85} +  q^{115} +  q^{126} +  q^{162} +  q^{175} +  q^{217} +  q^{232} +  q^{280} +  q^{297} +  q^{351} +  q^{370} +  q^{430} +  q^{451} -  q^{495} -  q^{496} -  q^{497} -  q^{498} + O(q^{500})\\]</html>"
      ],
      "text/latex": [
       "$$\\newcommand{\\Bold}[1]{\\mathbf{#1}}1 +  q +  q^{7} +  q^{10} +  q^{22} +  q^{27} +  q^{45} +  q^{52} +  q^{76} +  q^{85} +  q^{115} +  q^{126} +  q^{162} +  q^{175} +  q^{217} +  q^{232} +  q^{280} +  q^{297} +  q^{351} +  q^{370} +  q^{430} +  q^{451} -  q^{495} -  q^{496} -  q^{497} -  q^{498} + O(q^{500})$$"
      ],
      "text/plain": [
       "1 + q + q^7 + q^10 + q^22 + q^27 + q^45 + q^52 + q^76 + q^85 + q^115 + q^126 + q^162 + q^175 + q^217 + q^232 + q^280 + q^297 + q^351 + q^370 + q^430 + q^451 - q^495 - q^496 - q^497 - q^498 + O(q^500)"
      ]
     },
     "execution_count": 5,
     "metadata": {},
     "output_type": "execute_result"
    }
   ],
   "source": [
    "f_q_q7 = ftheta(1,7)\n",
    "f_q_q7"
   ]
  },
  {
   "cell_type": "code",
   "execution_count": 6,
   "id": "6a2517bc",
   "metadata": {},
   "outputs": [
    {
     "data": {
      "text/html": [
       "<html>\\[\\newcommand{\\Bold}[1]{\\mathbf{#1}}1 -  q -  q^{7} +  q^{10} +  q^{22} -  q^{27} -  q^{45} +  q^{52} +  q^{76} -  q^{85} -  q^{115} +  q^{126} +  q^{162} -  q^{175} -  q^{217} +  q^{232} +  q^{280} -  q^{297} -  q^{351} +  q^{370} +  q^{430} -  q^{451} +  q^{495} -  q^{496} +  q^{497} -  q^{498} + O(q^{500})\\]</html>"
      ],
      "text/latex": [
       "$$\\newcommand{\\Bold}[1]{\\mathbf{#1}}1 -  q -  q^{7} +  q^{10} +  q^{22} -  q^{27} -  q^{45} +  q^{52} +  q^{76} -  q^{85} -  q^{115} +  q^{126} +  q^{162} -  q^{175} -  q^{217} +  q^{232} +  q^{280} -  q^{297} -  q^{351} +  q^{370} +  q^{430} -  q^{451} +  q^{495} -  q^{496} +  q^{497} -  q^{498} + O(q^{500})$$"
      ],
      "text/plain": [
       "1 - q - q^7 + q^10 + q^22 - q^27 - q^45 + q^52 + q^76 - q^85 - q^115 + q^126 + q^162 - q^175 - q^217 + q^232 + q^280 - q^297 - q^351 + q^370 + q^430 - q^451 + q^495 - q^496 + q^497 - q^498 + O(q^500)"
      ]
     },
     "execution_count": 6,
     "metadata": {},
     "output_type": "execute_result"
    }
   ],
   "source": [
    "coefficients_list = f_q_q7.list()\n",
    "\n",
    "def isodd(number):\n",
    "    return number % 2 == 1\n",
    "\n",
    "for i in range(len(coefficients_list)):\n",
    "    if isodd(i):\n",
    "        coefficients_list[i] = -coefficients_list[i]\n",
    "\n",
    "f_nq_nq7 = R(coefficients_list, 500)\n",
    "f_nq_nq7"
   ]
  },
  {
   "cell_type": "code",
   "execution_count": 7,
   "id": "467201d2",
   "metadata": {},
   "outputs": [],
   "source": [
    "f4 = f1.V(4)\n",
    "f8 = f1.V(8)\n",
    "f16 = f1.V(16)\n",
    "\n",
    "op147 = (((f_q_q7/f_nq_nq7) * (f8^3 / (f4^2 * f16))).list())[:300]"
   ]
  },
  {
   "cell_type": "code",
   "execution_count": 8,
   "id": "2ae1b68b",
   "metadata": {},
   "outputs": [],
   "source": [
    "myarr_1_mod_4 = []\n",
    "for i in range(60):\n",
    "    myarr_1_mod_4.append(op147[4*i+1])\n",
    "\n",
    "myarr_3_mod_4 = []\n",
    "for i in range(60):\n",
    "    myarr_3_mod_4.append(op147[4*i+3])\n",
    "    \n",
    "myarr_1_mod_8 = []\n",
    "for i in range(30):\n",
    "    myarr_1_mod_8.append(op147[8*i+1])\n",
    "    \n",
    "myarr_3_mod_8 = []\n",
    "for i in range(30):\n",
    "    myarr_3_mod_8.append(op147[8*i+3])\n",
    "    \n",
    "myarr_5_mod_8 = []\n",
    "for i in range(30):\n",
    "    myarr_5_mod_8.append(op147[8*i+5])\n",
    "    \n",
    "myarr_7_mod_8 = []\n",
    "for i in range(30):\n",
    "    myarr_7_mod_8.append(op147[8*i+7])\n",
    "    \n",
    "myarr_1_mod_16 = []\n",
    "for i in range(15):\n",
    "    myarr_1_mod_16.append(op147[16*i+1])\n",
    "    \n",
    "myarr_3_mod_16 = []\n",
    "for i in range(15):\n",
    "    myarr_3_mod_16.append(op147[16*i+3])\n",
    "    \n",
    "myarr_5_mod_16 = []\n",
    "for i in range(15):\n",
    "    myarr_5_mod_16.append(op147[16*i+5])\n",
    "    \n",
    "myarr_7_mod_16 = []\n",
    "for i in range(15):\n",
    "    myarr_7_mod_16.append(op147[16*i+7])\n",
    "    \n",
    "myarr_9_mod_16 = []\n",
    "for i in range(15):\n",
    "    myarr_9_mod_16.append(op147[16*i+9])\n",
    "    \n",
    "myarr_11_mod_16 = []\n",
    "for i in range(15):\n",
    "    myarr_11_mod_16.append(op147[16*i+11])\n",
    "    \n",
    "myarr_13_mod_16 = []\n",
    "for i in range(15):\n",
    "    myarr_13_mod_16.append(op147[16*i+13])\n",
    "    \n",
    "myarr_15_mod_16 = []\n",
    "for i in range(15):\n",
    "    myarr_15_mod_16.append(op147[16*i+15])\n",
    "\n",
    "myarr_0_mod_32 = []\n",
    "for i in range(10):\n",
    "    myarr_0_mod_32.append(op147[32*i+0])\n",
    "    \n",
    "myarr_1_mod_32 = []\n",
    "for i in range(10):\n",
    "    myarr_1_mod_32.append(op147[32*i+1])\n",
    "    \n",
    "myarr_2_mod_32 = []\n",
    "for i in range(10):\n",
    "    myarr_2_mod_32.append(op147[32*i+2])\n",
    "    \n",
    "myarr_3_mod_32 = []\n",
    "for i in range(8):\n",
    "    myarr_3_mod_32.append(op147[32*i+3])\n",
    "    \n",
    "myarr_4_mod_32 = []\n",
    "for i in range(10):\n",
    "    myarr_4_mod_32.append(op147[32*i+4])\n",
    "    \n",
    "myarr_5_mod_32 = []\n",
    "for i in range(8):\n",
    "    myarr_5_mod_32.append(op147[32*i+5])\n",
    "    \n",
    "myarr_6_mod_32 = []\n",
    "for i in range(10):\n",
    "    myarr_6_mod_32.append(op147[32*i+6])\n",
    "    \n",
    "myarr_7_mod_32 = []\n",
    "for i in range(8):\n",
    "    myarr_7_mod_32.append(op147[32*i+7])\n",
    "    \n",
    "myarr_8_mod_32 = []\n",
    "for i in range(10):\n",
    "    myarr_8_mod_32.append(op147[32*i+8])\n",
    "    \n",
    "myarr_9_mod_32 = []\n",
    "for i in range(8):\n",
    "    myarr_9_mod_32.append(op147[32*i+9])\n",
    "\n",
    "myarr_10_mod_32 = []\n",
    "for i in range(8):\n",
    "    myarr_10_mod_32.append(op147[32*i+10])\n",
    "    \n",
    "myarr_11_mod_32 = []\n",
    "for i in range(8):\n",
    "    myarr_11_mod_32.append(op147[32*i+11])\n",
    "    \n",
    "myarr_12_mod_32 = []\n",
    "for i in range(8):\n",
    "    myarr_12_mod_32.append(op147[32*i+12])\n",
    "    \n",
    "myarr_13_mod_32 = []\n",
    "for i in range(8):\n",
    "    myarr_13_mod_32.append(op147[32*i+13])\n",
    "    \n",
    "myarr_14_mod_32 = []\n",
    "for i in range(8):\n",
    "    myarr_14_mod_32.append(op147[32*i+14])\n",
    "    \n",
    "myarr_15_mod_32 = []\n",
    "for i in range(8):\n",
    "    myarr_15_mod_32.append(op147[32*i+15])\n",
    "    \n",
    "myarr_16_mod_32 = []\n",
    "for i in range(8):\n",
    "    myarr_16_mod_32.append(op147[32*i+16])\n",
    "    \n",
    "myarr_17_mod_32 = []\n",
    "for i in range(9):\n",
    "    myarr_17_mod_32.append(op147[32*i+17])\n",
    "    \n",
    "myarr_18_mod_32 = []\n",
    "for i in range(8):\n",
    "    myarr_18_mod_32.append(op147[32*i+18])\n",
    "    \n",
    "myarr_19_mod_32 = []\n",
    "for i in range(8):\n",
    "    myarr_19_mod_32.append(op147[32*i+19])\n",
    "\n",
    "myarr_20_mod_32 = []\n",
    "for i in range(8):\n",
    "    myarr_20_mod_32.append(op147[32*i+20])\n",
    "    \n",
    "myarr_21_mod_32 = []\n",
    "for i in range(8):\n",
    "    myarr_21_mod_32.append(op147[32*i+21])\n",
    "    \n",
    "myarr_22_mod_32 = []\n",
    "for i in range(8):\n",
    "    myarr_22_mod_32.append(op147[32*i+22])\n",
    "    \n",
    "myarr_23_mod_32 = []\n",
    "for i in range(8):\n",
    "    myarr_23_mod_32.append(op147[32*i+23])\n",
    "    \n",
    "myarr_24_mod_32 = []\n",
    "for i in range(8):\n",
    "    myarr_24_mod_32.append(op147[32*i+24])\n",
    "    \n",
    "myarr_25_mod_32 = []\n",
    "for i in range(8):\n",
    "    myarr_25_mod_32.append(op147[32*i+25])\n",
    "    \n",
    "myarr_26_mod_32 = []\n",
    "for i in range(8):\n",
    "    myarr_26_mod_32.append(op147[32*i+26])\n",
    "    \n",
    "myarr_27_mod_32 = []\n",
    "for i in range(8):\n",
    "    myarr_27_mod_32.append(op147[32*i+27])\n",
    "    \n",
    "myarr_28_mod_32 = []\n",
    "for i in range(8):\n",
    "    myarr_28_mod_32.append(op147[32*i+28])\n",
    "    \n",
    "myarr_29_mod_32 = []\n",
    "for i in range(8):\n",
    "    myarr_29_mod_32.append(op147[32*i+29])\n",
    "    \n",
    "myarr_30_mod_32 = []\n",
    "for i in range(8):\n",
    "    myarr_30_mod_32.append(op147[32*i+30])\n",
    "    \n",
    "myarr_31_mod_32 = []\n",
    "for i in range(8):\n",
    "    myarr_31_mod_32.append(op147[32*i+31])"
   ]
  },
  {
   "cell_type": "code",
   "execution_count": 9,
   "id": "eaa3fdf8",
   "metadata": {},
   "outputs": [
    {
     "data": {
      "text/html": [
       "<html>\\[\\newcommand{\\Bold}[1]{\\mathbf{#1}}\\begin{array}{l}\n",
       "\\verb|[False|\\verb| |\\verb|False|\\verb|  |\\verb|True|\\verb| |\\verb|False|\\verb|  |\\verb|True|\\verb|  |\\verb|True|\\verb|  |\\verb|True|\\verb| |\\verb|False|\\verb|  |\\verb|True|\\verb| |\\verb|False|\\verb|  |\\verb|True|\\verb| |\\verb|False|\\\\\n",
       "\\verb| |\\verb|False|\\verb| |\\verb|False|\\verb|  |\\verb|True|\\verb| |\\verb|False|\\verb|  |\\verb|True|\\verb|  |\\verb|True|\\verb|  |\\verb|True|\\verb|  |\\verb|True|\\verb| |\\verb|False|\\verb|  |\\verb|True|\\verb|  |\\verb|True|\\verb|  |\\verb|True|\\\\\n",
       "\\verb|  |\\verb|True|\\verb| |\\verb|False|\\verb|  |\\verb|True|\\verb| |\\verb|False|\\verb|  |\\verb|True|\\verb| |\\verb|False|\\verb|  |\\verb|True|\\verb|  |\\verb|True|\\verb|  |\\verb|True|\\verb|  |\\verb|True|\\verb|  |\\verb|True|\\verb|  |\\verb|True|\\\\\n",
       "\\verb|  |\\verb|True|\\verb| |\\verb|False|\\verb|  |\\verb|True|\\verb| |\\verb|False|\\verb|  |\\verb|True|\\verb|  |\\verb|True|\\verb|  |\\verb|True|\\verb| |\\verb|False|\\verb|  |\\verb|True|\\verb| |\\verb|False|\\verb|  |\\verb|True|\\verb|  |\\verb|True|\\\\\n",
       "\\verb|  |\\verb|True|\\verb| |\\verb|False|\\verb|  |\\verb|True|\\verb|  |\\verb|True|\\verb|  |\\verb|True|\\verb|  |\\verb|True|\\verb|  |\\verb|True|\\verb|  |\\verb|True|\\verb| |\\verb|False|\\verb| |\\verb|False|\\verb|  |\\verb|True|\\verb|  |\\verb|True]|\n",
       "\\end{array}\\]</html>"
      ],
      "text/latex": [
       "$$\\newcommand{\\Bold}[1]{\\mathbf{#1}}\\begin{array}{l}\n",
       "\\verb|[False|\\verb| |\\verb|False|\\verb|  |\\verb|True|\\verb| |\\verb|False|\\verb|  |\\verb|True|\\verb|  |\\verb|True|\\verb|  |\\verb|True|\\verb| |\\verb|False|\\verb|  |\\verb|True|\\verb| |\\verb|False|\\verb|  |\\verb|True|\\verb| |\\verb|False|\\\\\n",
       "\\verb| |\\verb|False|\\verb| |\\verb|False|\\verb|  |\\verb|True|\\verb| |\\verb|False|\\verb|  |\\verb|True|\\verb|  |\\verb|True|\\verb|  |\\verb|True|\\verb|  |\\verb|True|\\verb| |\\verb|False|\\verb|  |\\verb|True|\\verb|  |\\verb|True|\\verb|  |\\verb|True|\\\\\n",
       "\\verb|  |\\verb|True|\\verb| |\\verb|False|\\verb|  |\\verb|True|\\verb| |\\verb|False|\\verb|  |\\verb|True|\\verb| |\\verb|False|\\verb|  |\\verb|True|\\verb|  |\\verb|True|\\verb|  |\\verb|True|\\verb|  |\\verb|True|\\verb|  |\\verb|True|\\verb|  |\\verb|True|\\\\\n",
       "\\verb|  |\\verb|True|\\verb| |\\verb|False|\\verb|  |\\verb|True|\\verb| |\\verb|False|\\verb|  |\\verb|True|\\verb|  |\\verb|True|\\verb|  |\\verb|True|\\verb| |\\verb|False|\\verb|  |\\verb|True|\\verb| |\\verb|False|\\verb|  |\\verb|True|\\verb|  |\\verb|True|\\\\\n",
       "\\verb|  |\\verb|True|\\verb| |\\verb|False|\\verb|  |\\verb|True|\\verb|  |\\verb|True|\\verb|  |\\verb|True|\\verb|  |\\verb|True|\\verb|  |\\verb|True|\\verb|  |\\verb|True|\\verb| |\\verb|False|\\verb| |\\verb|False|\\verb|  |\\verb|True|\\verb|  |\\verb|True]|\n",
       "\\end{array}$$"
      ],
      "text/plain": [
       "array([False, False,  True, False,  True,  True,  True, False,  True,\n",
       "       False,  True, False, False, False,  True, False,  True,  True,\n",
       "        True,  True, False,  True,  True,  True,  True, False,  True,\n",
       "       False,  True, False,  True,  True,  True,  True,  True,  True,\n",
       "        True, False,  True, False,  True,  True,  True, False,  True,\n",
       "       False,  True,  True,  True, False,  True,  True,  True,  True,\n",
       "        True,  True, False, False,  True,  True])"
      ]
     },
     "execution_count": 9,
     "metadata": {},
     "output_type": "execute_result"
    }
   ],
   "source": [
    "np.array(myarr_1_mod_4)%4==0"
   ]
  },
  {
   "cell_type": "code",
   "execution_count": 10,
   "id": "8bcde9f3",
   "metadata": {},
   "outputs": [
    {
     "data": {
      "text/html": [
       "<html>\\[\\newcommand{\\Bold}[1]{\\mathbf{#1}}\\begin{array}{l}\n",
       "\\verb|[False|\\verb|  |\\verb|True|\\verb| |\\verb|False|\\verb|  |\\verb|True|\\verb| |\\verb|False|\\verb|  |\\verb|True|\\verb|  |\\verb|True|\\verb|  |\\verb|True|\\verb|  |\\verb|True|\\verb|  |\\verb|True|\\verb| |\\verb|False|\\verb|  |\\verb|True|\\\\\n",
       "\\verb|  |\\verb|True|\\verb|  |\\verb|True|\\verb| |\\verb|False|\\verb|  |\\verb|True|\\verb| |\\verb|False|\\verb|  |\\verb|True|\\verb| |\\verb|False|\\verb|  |\\verb|True|\\verb| |\\verb|False|\\verb|  |\\verb|True|\\verb|  |\\verb|True|\\verb|  |\\verb|True|\\\\\n",
       "\\verb| |\\verb|False|\\verb|  |\\verb|True|\\verb| |\\verb|False|\\verb|  |\\verb|True|\\verb|  |\\verb|True|\\verb|  |\\verb|True|\\verb|  |\\verb|True|\\verb|  |\\verb|True|\\verb| |\\verb|False|\\verb|  |\\verb|True|\\verb| |\\verb|False|\\verb|  |\\verb|True|\\\\\n",
       "\\verb| |\\verb|False|\\verb|  |\\verb|True|\\verb|  |\\verb|True|\\verb|  |\\verb|True|\\verb| |\\verb|False|\\verb|  |\\verb|True|\\verb| |\\verb|False|\\verb|  |\\verb|True|\\verb| |\\verb|False|\\verb|  |\\verb|True|\\verb|  |\\verb|True|\\verb|  |\\verb|True|\\\\\n",
       "\\verb|  |\\verb|True|\\verb|  |\\verb|True|\\verb|  |\\verb|True|\\verb|  |\\verb|True|\\verb| |\\verb|False|\\verb|  |\\verb|True|\\verb|  |\\verb|True|\\verb|  |\\verb|True|\\verb| |\\verb|False|\\verb|  |\\verb|True|\\verb|  |\\verb|True|\\verb|  |\\verb|True]|\n",
       "\\end{array}\\]</html>"
      ],
      "text/latex": [
       "$$\\newcommand{\\Bold}[1]{\\mathbf{#1}}\\begin{array}{l}\n",
       "\\verb|[False|\\verb|  |\\verb|True|\\verb| |\\verb|False|\\verb|  |\\verb|True|\\verb| |\\verb|False|\\verb|  |\\verb|True|\\verb|  |\\verb|True|\\verb|  |\\verb|True|\\verb|  |\\verb|True|\\verb|  |\\verb|True|\\verb| |\\verb|False|\\verb|  |\\verb|True|\\\\\n",
       "\\verb|  |\\verb|True|\\verb|  |\\verb|True|\\verb| |\\verb|False|\\verb|  |\\verb|True|\\verb| |\\verb|False|\\verb|  |\\verb|True|\\verb| |\\verb|False|\\verb|  |\\verb|True|\\verb| |\\verb|False|\\verb|  |\\verb|True|\\verb|  |\\verb|True|\\verb|  |\\verb|True|\\\\\n",
       "\\verb| |\\verb|False|\\verb|  |\\verb|True|\\verb| |\\verb|False|\\verb|  |\\verb|True|\\verb|  |\\verb|True|\\verb|  |\\verb|True|\\verb|  |\\verb|True|\\verb|  |\\verb|True|\\verb| |\\verb|False|\\verb|  |\\verb|True|\\verb| |\\verb|False|\\verb|  |\\verb|True|\\\\\n",
       "\\verb| |\\verb|False|\\verb|  |\\verb|True|\\verb|  |\\verb|True|\\verb|  |\\verb|True|\\verb| |\\verb|False|\\verb|  |\\verb|True|\\verb| |\\verb|False|\\verb|  |\\verb|True|\\verb| |\\verb|False|\\verb|  |\\verb|True|\\verb|  |\\verb|True|\\verb|  |\\verb|True|\\\\\n",
       "\\verb|  |\\verb|True|\\verb|  |\\verb|True|\\verb|  |\\verb|True|\\verb|  |\\verb|True|\\verb| |\\verb|False|\\verb|  |\\verb|True|\\verb|  |\\verb|True|\\verb|  |\\verb|True|\\verb| |\\verb|False|\\verb|  |\\verb|True|\\verb|  |\\verb|True|\\verb|  |\\verb|True]|\n",
       "\\end{array}$$"
      ],
      "text/plain": [
       "array([False,  True, False,  True, False,  True,  True,  True,  True,\n",
       "        True, False,  True,  True,  True, False,  True, False,  True,\n",
       "       False,  True, False,  True,  True,  True, False,  True, False,\n",
       "        True,  True,  True,  True,  True, False,  True, False,  True,\n",
       "       False,  True,  True,  True, False,  True, False,  True, False,\n",
       "        True,  True,  True,  True,  True,  True,  True, False,  True,\n",
       "        True,  True, False,  True,  True,  True])"
      ]
     },
     "execution_count": 10,
     "metadata": {},
     "output_type": "execute_result"
    }
   ],
   "source": [
    "np.array(myarr_3_mod_4)%4==0"
   ]
  },
  {
   "cell_type": "code",
   "execution_count": 11,
   "id": "b7a45c1b",
   "metadata": {},
   "outputs": [
    {
     "data": {
      "text/html": [
       "<html>\\[\\newcommand{\\Bold}[1]{\\mathbf{#1}}\\begin{array}{l}\n",
       "\\verb|[False|\\verb|  |\\verb|True|\\verb|  |\\verb|True|\\verb|  |\\verb|True|\\verb|  |\\verb|True|\\verb|  |\\verb|True|\\verb| |\\verb|False|\\verb|  |\\verb|True|\\verb|  |\\verb|True|\\verb|  |\\verb|True|\\verb| |\\verb|False|\\verb|  |\\verb|True|\\\\\n",
       "\\verb|  |\\verb|True|\\verb|  |\\verb|True|\\verb|  |\\verb|True|\\verb|  |\\verb|True|\\verb|  |\\verb|True|\\verb|  |\\verb|True|\\verb|  |\\verb|True|\\verb|  |\\verb|True|\\verb|  |\\verb|True|\\verb|  |\\verb|True|\\verb|  |\\verb|True|\\verb|  |\\verb|True|\\\\\n",
       "\\verb|  |\\verb|True|\\verb|  |\\verb|True|\\verb|  |\\verb|True|\\verb|  |\\verb|True|\\verb| |\\verb|False|\\verb|  |\\verb|True]|\n",
       "\\end{array}\\]</html>"
      ],
      "text/latex": [
       "$$\\newcommand{\\Bold}[1]{\\mathbf{#1}}\\begin{array}{l}\n",
       "\\verb|[False|\\verb|  |\\verb|True|\\verb|  |\\verb|True|\\verb|  |\\verb|True|\\verb|  |\\verb|True|\\verb|  |\\verb|True|\\verb| |\\verb|False|\\verb|  |\\verb|True|\\verb|  |\\verb|True|\\verb|  |\\verb|True|\\verb| |\\verb|False|\\verb|  |\\verb|True|\\\\\n",
       "\\verb|  |\\verb|True|\\verb|  |\\verb|True|\\verb|  |\\verb|True|\\verb|  |\\verb|True|\\verb|  |\\verb|True|\\verb|  |\\verb|True|\\verb|  |\\verb|True|\\verb|  |\\verb|True|\\verb|  |\\verb|True|\\verb|  |\\verb|True|\\verb|  |\\verb|True|\\verb|  |\\verb|True|\\\\\n",
       "\\verb|  |\\verb|True|\\verb|  |\\verb|True|\\verb|  |\\verb|True|\\verb|  |\\verb|True|\\verb| |\\verb|False|\\verb|  |\\verb|True]|\n",
       "\\end{array}$$"
      ],
      "text/plain": [
       "array([False,  True,  True,  True,  True,  True, False,  True,  True,\n",
       "        True, False,  True,  True,  True,  True,  True,  True,  True,\n",
       "        True,  True,  True,  True,  True,  True,  True,  True,  True,\n",
       "        True, False,  True])"
      ]
     },
     "execution_count": 11,
     "metadata": {},
     "output_type": "execute_result"
    }
   ],
   "source": [
    "np.array(myarr_1_mod_8)%4==0"
   ]
  },
  {
   "cell_type": "code",
   "execution_count": 12,
   "id": "1e795971",
   "metadata": {},
   "outputs": [
    {
     "data": {
      "text/html": [
       "<html>\\[\\newcommand{\\Bold}[1]{\\mathbf{#1}}\\begin{array}{l}\n",
       "\\verb|[False|\\verb| |\\verb|False|\\verb| |\\verb|False|\\verb|  |\\verb|True|\\verb|  |\\verb|True|\\verb| |\\verb|False|\\verb|  |\\verb|True|\\verb| |\\verb|False|\\verb| |\\verb|False|\\verb| |\\verb|False|\\verb| |\\verb|False|\\verb|  |\\verb|True|\\\\\n",
       "\\verb| |\\verb|False|\\verb| |\\verb|False|\\verb|  |\\verb|True|\\verb|  |\\verb|True|\\verb| |\\verb|False|\\verb| |\\verb|False|\\verb| |\\verb|False|\\verb|  |\\verb|True|\\verb| |\\verb|False|\\verb| |\\verb|False|\\verb| |\\verb|False|\\verb|  |\\verb|True|\\\\\n",
       "\\verb|  |\\verb|True|\\verb|  |\\verb|True|\\verb| |\\verb|False|\\verb|  |\\verb|True|\\verb| |\\verb|False|\\verb|  |\\verb|True]|\n",
       "\\end{array}\\]</html>"
      ],
      "text/latex": [
       "$$\\newcommand{\\Bold}[1]{\\mathbf{#1}}\\begin{array}{l}\n",
       "\\verb|[False|\\verb| |\\verb|False|\\verb| |\\verb|False|\\verb|  |\\verb|True|\\verb|  |\\verb|True|\\verb| |\\verb|False|\\verb|  |\\verb|True|\\verb| |\\verb|False|\\verb| |\\verb|False|\\verb| |\\verb|False|\\verb| |\\verb|False|\\verb|  |\\verb|True|\\\\\n",
       "\\verb| |\\verb|False|\\verb| |\\verb|False|\\verb|  |\\verb|True|\\verb|  |\\verb|True|\\verb| |\\verb|False|\\verb| |\\verb|False|\\verb| |\\verb|False|\\verb|  |\\verb|True|\\verb| |\\verb|False|\\verb| |\\verb|False|\\verb| |\\verb|False|\\verb|  |\\verb|True|\\\\\n",
       "\\verb|  |\\verb|True|\\verb|  |\\verb|True|\\verb| |\\verb|False|\\verb|  |\\verb|True|\\verb| |\\verb|False|\\verb|  |\\verb|True]|\n",
       "\\end{array}$$"
      ],
      "text/plain": [
       "array([False, False, False,  True,  True, False,  True, False, False,\n",
       "       False, False,  True, False, False,  True,  True, False, False,\n",
       "       False,  True, False, False, False,  True,  True,  True, False,\n",
       "        True, False,  True])"
      ]
     },
     "execution_count": 12,
     "metadata": {},
     "output_type": "execute_result"
    }
   ],
   "source": [
    "np.array(myarr_3_mod_8)%4==0"
   ]
  },
  {
   "cell_type": "code",
   "execution_count": 13,
   "id": "b4deca1e",
   "metadata": {},
   "outputs": [
    {
     "data": {
      "text/html": [
       "<html>\\[\\newcommand{\\Bold}[1]{\\mathbf{#1}}\\begin{array}{l}\n",
       "\\verb|[False|\\verb| |\\verb|False|\\verb|  |\\verb|True|\\verb| |\\verb|False|\\verb| |\\verb|False|\\verb| |\\verb|False|\\verb| |\\verb|False|\\verb| |\\verb|False|\\verb|  |\\verb|True|\\verb|  |\\verb|True|\\verb|  |\\verb|True|\\verb|  |\\verb|True|\\\\\n",
       "\\verb| |\\verb|False|\\verb| |\\verb|False|\\verb| |\\verb|False|\\verb|  |\\verb|True|\\verb|  |\\verb|True|\\verb|  |\\verb|True|\\verb| |\\verb|False|\\verb| |\\verb|False|\\verb|  |\\verb|True|\\verb| |\\verb|False|\\verb| |\\verb|False|\\verb|  |\\verb|True|\\\\\n",
       "\\verb| |\\verb|False|\\verb|  |\\verb|True|\\verb|  |\\verb|True|\\verb|  |\\verb|True|\\verb| |\\verb|False|\\verb|  |\\verb|True]|\n",
       "\\end{array}\\]</html>"
      ],
      "text/latex": [
       "$$\\newcommand{\\Bold}[1]{\\mathbf{#1}}\\begin{array}{l}\n",
       "\\verb|[False|\\verb| |\\verb|False|\\verb|  |\\verb|True|\\verb| |\\verb|False|\\verb| |\\verb|False|\\verb| |\\verb|False|\\verb| |\\verb|False|\\verb| |\\verb|False|\\verb|  |\\verb|True|\\verb|  |\\verb|True|\\verb|  |\\verb|True|\\verb|  |\\verb|True|\\\\\n",
       "\\verb| |\\verb|False|\\verb| |\\verb|False|\\verb| |\\verb|False|\\verb|  |\\verb|True|\\verb|  |\\verb|True|\\verb|  |\\verb|True|\\verb| |\\verb|False|\\verb| |\\verb|False|\\verb|  |\\verb|True|\\verb| |\\verb|False|\\verb| |\\verb|False|\\verb|  |\\verb|True|\\\\\n",
       "\\verb| |\\verb|False|\\verb|  |\\verb|True|\\verb|  |\\verb|True|\\verb|  |\\verb|True|\\verb| |\\verb|False|\\verb|  |\\verb|True]|\n",
       "\\end{array}$$"
      ],
      "text/plain": [
       "array([False, False,  True, False, False, False, False, False,  True,\n",
       "        True,  True,  True, False, False, False,  True,  True,  True,\n",
       "       False, False,  True, False, False,  True, False,  True,  True,\n",
       "        True, False,  True])"
      ]
     },
     "execution_count": 13,
     "metadata": {},
     "output_type": "execute_result"
    }
   ],
   "source": [
    "np.array(myarr_5_mod_8)%4==0"
   ]
  },
  {
   "cell_type": "code",
   "execution_count": 14,
   "id": "a33ce487",
   "metadata": {},
   "outputs": [
    {
     "data": {
      "text/html": [
       "<html>\\[\\newcommand{\\Bold}[1]{\\mathbf{#1}}\\begin{array}{l}\n",
       "\\verb|[|\\verb| |\\verb|True|\\verb|  |\\verb|True|\\verb|  |\\verb|True|\\verb|  |\\verb|True|\\verb|  |\\verb|True|\\verb|  |\\verb|True|\\verb|  |\\verb|True|\\verb|  |\\verb|True|\\verb|  |\\verb|True|\\verb|  |\\verb|True|\\verb|  |\\verb|True|\\verb|  |\\verb|True|\\\\\n",
       "\\verb|  |\\verb|True|\\verb|  |\\verb|True|\\verb|  |\\verb|True|\\verb|  |\\verb|True|\\verb|  |\\verb|True|\\verb|  |\\verb|True|\\verb|  |\\verb|True|\\verb|  |\\verb|True|\\verb|  |\\verb|True|\\verb|  |\\verb|True|\\verb|  |\\verb|True|\\verb|  |\\verb|True|\\\\\n",
       "\\verb|  |\\verb|True|\\verb|  |\\verb|True|\\verb|  |\\verb|True|\\verb|  |\\verb|True|\\verb|  |\\verb|True|\\verb|  |\\verb|True]|\n",
       "\\end{array}\\]</html>"
      ],
      "text/latex": [
       "$$\\newcommand{\\Bold}[1]{\\mathbf{#1}}\\begin{array}{l}\n",
       "\\verb|[|\\verb| |\\verb|True|\\verb|  |\\verb|True|\\verb|  |\\verb|True|\\verb|  |\\verb|True|\\verb|  |\\verb|True|\\verb|  |\\verb|True|\\verb|  |\\verb|True|\\verb|  |\\verb|True|\\verb|  |\\verb|True|\\verb|  |\\verb|True|\\verb|  |\\verb|True|\\verb|  |\\verb|True|\\\\\n",
       "\\verb|  |\\verb|True|\\verb|  |\\verb|True|\\verb|  |\\verb|True|\\verb|  |\\verb|True|\\verb|  |\\verb|True|\\verb|  |\\verb|True|\\verb|  |\\verb|True|\\verb|  |\\verb|True|\\verb|  |\\verb|True|\\verb|  |\\verb|True|\\verb|  |\\verb|True|\\verb|  |\\verb|True|\\\\\n",
       "\\verb|  |\\verb|True|\\verb|  |\\verb|True|\\verb|  |\\verb|True|\\verb|  |\\verb|True|\\verb|  |\\verb|True|\\verb|  |\\verb|True]|\n",
       "\\end{array}$$"
      ],
      "text/plain": [
       "array([ True,  True,  True,  True,  True,  True,  True,  True,  True,\n",
       "        True,  True,  True,  True,  True,  True,  True,  True,  True,\n",
       "        True,  True,  True,  True,  True,  True,  True,  True,  True,\n",
       "        True,  True,  True])"
      ]
     },
     "execution_count": 14,
     "metadata": {},
     "output_type": "execute_result"
    }
   ],
   "source": [
    "np.array(myarr_7_mod_8)%4==0"
   ]
  },
  {
   "cell_type": "code",
   "execution_count": 15,
   "id": "1ac17177",
   "metadata": {},
   "outputs": [
    {
     "data": {
      "text/html": [
       "<html>\\[\\newcommand{\\Bold}[1]{\\mathbf{#1}}\\begin{array}{l}\n",
       "\\verb|[|\\verb| |\\verb|True|\\verb| |\\verb|False|\\verb|  |\\verb|True|\\verb|  |\\verb|True|\\verb|  |\\verb|True|\\verb|  |\\verb|True|\\verb|  |\\verb|True|\\verb| |\\verb|False|\\verb|  |\\verb|True|\\verb|  |\\verb|True|\\verb|  |\\verb|True|\\verb| |\\verb|False|\\\\\n",
       "\\verb|  |\\verb|True|\\verb| |\\verb|False|\\verb|  |\\verb|True|\\verb|  |\\verb|True|\\verb|  |\\verb|True|\\verb| |\\verb|False|\\verb|  |\\verb|True|\\verb| |\\verb|False|\\verb|  |\\verb|True|\\verb| |\\verb|False|\\verb|  |\\verb|True|\\verb|  |\\verb|True|\\\\\n",
       "\\verb|  |\\verb|True|\\verb| |\\verb|False|\\verb|  |\\verb|True|\\verb|  |\\verb|True|\\verb|  |\\verb|True|\\verb|  |\\verb|True]|\n",
       "\\end{array}\\]</html>"
      ],
      "text/latex": [
       "$$\\newcommand{\\Bold}[1]{\\mathbf{#1}}\\begin{array}{l}\n",
       "\\verb|[|\\verb| |\\verb|True|\\verb| |\\verb|False|\\verb|  |\\verb|True|\\verb|  |\\verb|True|\\verb|  |\\verb|True|\\verb|  |\\verb|True|\\verb|  |\\verb|True|\\verb| |\\verb|False|\\verb|  |\\verb|True|\\verb|  |\\verb|True|\\verb|  |\\verb|True|\\verb| |\\verb|False|\\\\\n",
       "\\verb|  |\\verb|True|\\verb| |\\verb|False|\\verb|  |\\verb|True|\\verb|  |\\verb|True|\\verb|  |\\verb|True|\\verb| |\\verb|False|\\verb|  |\\verb|True|\\verb| |\\verb|False|\\verb|  |\\verb|True|\\verb| |\\verb|False|\\verb|  |\\verb|True|\\verb|  |\\verb|True|\\\\\n",
       "\\verb|  |\\verb|True|\\verb| |\\verb|False|\\verb|  |\\verb|True|\\verb|  |\\verb|True|\\verb|  |\\verb|True|\\verb|  |\\verb|True]|\n",
       "\\end{array}$$"
      ],
      "text/plain": [
       "array([ True, False,  True,  True,  True,  True,  True, False,  True,\n",
       "        True,  True, False,  True, False,  True,  True,  True, False,\n",
       "        True, False,  True, False,  True,  True,  True, False,  True,\n",
       "        True,  True,  True])"
      ]
     },
     "execution_count": 15,
     "metadata": {},
     "output_type": "execute_result"
    }
   ],
   "source": [
    "np.array(myarr_7_mod_8)%8==0"
   ]
  },
  {
   "cell_type": "code",
   "execution_count": 16,
   "id": "f301c33a",
   "metadata": {},
   "outputs": [
    {
     "data": {
      "text/html": [
       "<html>\\[\\newcommand{\\Bold}[1]{\\mathbf{#1}}\\left(15, 52, \\frac{13}{2}\\right)\\]</html>"
      ],
      "text/latex": [
       "$$\\newcommand{\\Bold}[1]{\\mathbf{#1}}\\left(15, 52, \\frac{13}{2}\\right)$$"
      ],
      "text/plain": [
       "(15, 52, 13/2)"
      ]
     },
     "execution_count": 16,
     "metadata": {},
     "output_type": "execute_result"
    }
   ],
   "source": [
    "8*1+7, op147[15], op147[15]/8"
   ]
  },
  {
   "cell_type": "code",
   "execution_count": 17,
   "id": "04216697",
   "metadata": {},
   "outputs": [
    {
     "data": {
      "text/html": [
       "<html>\\[\\newcommand{\\Bold}[1]{\\mathbf{#1}}\\begin{array}{l}\n",
       "\\verb|[False|\\verb|  |\\verb|True|\\verb|  |\\verb|True|\\verb| |\\verb|False|\\verb|  |\\verb|True|\\verb| |\\verb|False|\\verb|  |\\verb|True|\\verb|  |\\verb|True|\\verb|  |\\verb|True|\\verb|  |\\verb|True|\\verb|  |\\verb|True|\\verb|  |\\verb|True|\\\\\n",
       "\\verb|  |\\verb|True|\\verb|  |\\verb|True|\\verb| |\\verb|False]|\n",
       "\\end{array}\\]</html>"
      ],
      "text/latex": [
       "$$\\newcommand{\\Bold}[1]{\\mathbf{#1}}\\begin{array}{l}\n",
       "\\verb|[False|\\verb|  |\\verb|True|\\verb|  |\\verb|True|\\verb| |\\verb|False|\\verb|  |\\verb|True|\\verb| |\\verb|False|\\verb|  |\\verb|True|\\verb|  |\\verb|True|\\verb|  |\\verb|True|\\verb|  |\\verb|True|\\verb|  |\\verb|True|\\verb|  |\\verb|True|\\\\\n",
       "\\verb|  |\\verb|True|\\verb|  |\\verb|True|\\verb| |\\verb|False]|\n",
       "\\end{array}$$"
      ],
      "text/plain": [
       "array([False,  True,  True, False,  True, False,  True,  True,  True,\n",
       "        True,  True,  True,  True,  True, False])"
      ]
     },
     "execution_count": 17,
     "metadata": {},
     "output_type": "execute_result"
    }
   ],
   "source": [
    "np.array(myarr_1_mod_16)%4==0"
   ]
  },
  {
   "cell_type": "code",
   "execution_count": 18,
   "id": "cf1bbaf6",
   "metadata": {},
   "outputs": [
    {
     "data": {
      "text/html": [
       "<html>\\[\\newcommand{\\Bold}[1]{\\mathbf{#1}}\\begin{array}{l}\n",
       "\\verb|[False|\\verb| |\\verb|False|\\verb|  |\\verb|True|\\verb|  |\\verb|True|\\verb| |\\verb|False|\\verb| |\\verb|False|\\verb| |\\verb|False|\\verb|  |\\verb|True|\\verb| |\\verb|False|\\verb| |\\verb|False|\\verb| |\\verb|False|\\verb| |\\verb|False|\\\\\n",
       "\\verb|  |\\verb|True|\\verb| |\\verb|False|\\verb| |\\verb|False]|\n",
       "\\end{array}\\]</html>"
      ],
      "text/latex": [
       "$$\\newcommand{\\Bold}[1]{\\mathbf{#1}}\\begin{array}{l}\n",
       "\\verb|[False|\\verb| |\\verb|False|\\verb|  |\\verb|True|\\verb|  |\\verb|True|\\verb| |\\verb|False|\\verb| |\\verb|False|\\verb| |\\verb|False|\\verb|  |\\verb|True|\\verb| |\\verb|False|\\verb| |\\verb|False|\\verb| |\\verb|False|\\verb| |\\verb|False|\\\\\n",
       "\\verb|  |\\verb|True|\\verb| |\\verb|False|\\verb| |\\verb|False]|\n",
       "\\end{array}$$"
      ],
      "text/plain": [
       "array([False, False,  True,  True, False, False, False,  True, False,\n",
       "       False, False, False,  True, False, False])"
      ]
     },
     "execution_count": 18,
     "metadata": {},
     "output_type": "execute_result"
    }
   ],
   "source": [
    "np.array(myarr_3_mod_16)%4==0"
   ]
  },
  {
   "cell_type": "code",
   "execution_count": 19,
   "id": "b764017a",
   "metadata": {},
   "outputs": [
    {
     "data": {
      "text/html": [
       "<html>\\[\\newcommand{\\Bold}[1]{\\mathbf{#1}}\\begin{array}{l}\n",
       "\\verb|[False|\\verb|  |\\verb|True|\\verb| |\\verb|False|\\verb| |\\verb|False|\\verb|  |\\verb|True|\\verb|  |\\verb|True|\\verb| |\\verb|False|\\verb| |\\verb|False|\\verb|  |\\verb|True|\\verb| |\\verb|False|\\verb|  |\\verb|True|\\verb| |\\verb|False|\\\\\n",
       "\\verb| |\\verb|False|\\verb|  |\\verb|True|\\verb| |\\verb|False]|\n",
       "\\end{array}\\]</html>"
      ],
      "text/latex": [
       "$$\\newcommand{\\Bold}[1]{\\mathbf{#1}}\\begin{array}{l}\n",
       "\\verb|[False|\\verb|  |\\verb|True|\\verb| |\\verb|False|\\verb| |\\verb|False|\\verb|  |\\verb|True|\\verb|  |\\verb|True|\\verb| |\\verb|False|\\verb| |\\verb|False|\\verb|  |\\verb|True|\\verb| |\\verb|False|\\verb|  |\\verb|True|\\verb| |\\verb|False|\\\\\n",
       "\\verb| |\\verb|False|\\verb|  |\\verb|True|\\verb| |\\verb|False]|\n",
       "\\end{array}$$"
      ],
      "text/plain": [
       "array([False,  True, False, False,  True,  True, False, False,  True,\n",
       "       False,  True, False, False,  True, False])"
      ]
     },
     "execution_count": 19,
     "metadata": {},
     "output_type": "execute_result"
    }
   ],
   "source": [
    "np.array(myarr_5_mod_16)%4==0"
   ]
  },
  {
   "cell_type": "code",
   "execution_count": 20,
   "id": "e032e59e",
   "metadata": {},
   "outputs": [
    {
     "data": {
      "text/html": [
       "<html>\\[\\newcommand{\\Bold}[1]{\\mathbf{#1}}\\begin{array}{l}\n",
       "\\verb|[|\\verb| |\\verb|True|\\verb|  |\\verb|True|\\verb|  |\\verb|True|\\verb|  |\\verb|True|\\verb|  |\\verb|True|\\verb|  |\\verb|True|\\verb|  |\\verb|True|\\verb|  |\\verb|True|\\verb|  |\\verb|True|\\verb|  |\\verb|True|\\verb|  |\\verb|True|\\verb|  |\\verb|True|\\\\\n",
       "\\verb|  |\\verb|True|\\verb|  |\\verb|True|\\verb|  |\\verb|True]|\n",
       "\\end{array}\\]</html>"
      ],
      "text/latex": [
       "$$\\newcommand{\\Bold}[1]{\\mathbf{#1}}\\begin{array}{l}\n",
       "\\verb|[|\\verb| |\\verb|True|\\verb|  |\\verb|True|\\verb|  |\\verb|True|\\verb|  |\\verb|True|\\verb|  |\\verb|True|\\verb|  |\\verb|True|\\verb|  |\\verb|True|\\verb|  |\\verb|True|\\verb|  |\\verb|True|\\verb|  |\\verb|True|\\verb|  |\\verb|True|\\verb|  |\\verb|True|\\\\\n",
       "\\verb|  |\\verb|True|\\verb|  |\\verb|True|\\verb|  |\\verb|True]|\n",
       "\\end{array}$$"
      ],
      "text/plain": [
       "array([ True,  True,  True,  True,  True,  True,  True,  True,  True,\n",
       "        True,  True,  True,  True,  True,  True])"
      ]
     },
     "execution_count": 20,
     "metadata": {},
     "output_type": "execute_result"
    }
   ],
   "source": [
    "np.array(myarr_7_mod_16)%8==0"
   ]
  },
  {
   "cell_type": "code",
   "execution_count": 21,
   "id": "2e1086eb",
   "metadata": {},
   "outputs": [
    {
     "data": {
      "text/html": [
       "<html>\\[\\newcommand{\\Bold}[1]{\\mathbf{#1}}\\begin{array}{l}\n",
       "\\verb|[False|\\verb| |\\verb|False|\\verb| |\\verb|False|\\verb| |\\verb|False|\\verb| |\\verb|False|\\verb| |\\verb|False|\\verb| |\\verb|False|\\verb|  |\\verb|True|\\verb|  |\\verb|True|\\verb| |\\verb|False|\\verb| |\\verb|False|\\verb| |\\verb|False|\\\\\n",
       "\\verb| |\\verb|False|\\verb| |\\verb|False|\\verb|  |\\verb|True]|\n",
       "\\end{array}\\]</html>"
      ],
      "text/latex": [
       "$$\\newcommand{\\Bold}[1]{\\mathbf{#1}}\\begin{array}{l}\n",
       "\\verb|[False|\\verb| |\\verb|False|\\verb| |\\verb|False|\\verb| |\\verb|False|\\verb| |\\verb|False|\\verb| |\\verb|False|\\verb| |\\verb|False|\\verb|  |\\verb|True|\\verb|  |\\verb|True|\\verb| |\\verb|False|\\verb| |\\verb|False|\\verb| |\\verb|False|\\\\\n",
       "\\verb| |\\verb|False|\\verb| |\\verb|False|\\verb|  |\\verb|True]|\n",
       "\\end{array}$$"
      ],
      "text/plain": [
       "array([False, False, False, False, False, False, False,  True,  True,\n",
       "       False, False, False, False, False,  True])"
      ]
     },
     "execution_count": 21,
     "metadata": {},
     "output_type": "execute_result"
    }
   ],
   "source": [
    "np.array(myarr_7_mod_16)%16==0"
   ]
  },
  {
   "cell_type": "code",
   "execution_count": 22,
   "id": "eb0cfd0d",
   "metadata": {},
   "outputs": [
    {
     "data": {
      "text/html": [
       "<html>\\[\\newcommand{\\Bold}[1]{\\mathbf{#1}}\\left(23, 232, \\frac{29}{2}\\right)\\]</html>"
      ],
      "text/latex": [
       "$$\\newcommand{\\Bold}[1]{\\mathbf{#1}}\\left(23, 232, \\frac{29}{2}\\right)$$"
      ],
      "text/plain": [
       "(23, 232, 29/2)"
      ]
     },
     "execution_count": 22,
     "metadata": {},
     "output_type": "execute_result"
    }
   ],
   "source": [
    "16*1+7, op147[23], op147[23]/16"
   ]
  },
  {
   "cell_type": "code",
   "execution_count": 23,
   "id": "57e41962",
   "metadata": {},
   "outputs": [
    {
     "data": {
      "text/html": [
       "<html>\\[\\newcommand{\\Bold}[1]{\\mathbf{#1}}\\begin{array}{l}\n",
       "\\verb|[|\\verb| |\\verb|True|\\verb|  |\\verb|True|\\verb|  |\\verb|True|\\verb|  |\\verb|True|\\verb|  |\\verb|True|\\verb|  |\\verb|True|\\verb|  |\\verb|True|\\verb|  |\\verb|True|\\verb|  |\\verb|True|\\verb|  |\\verb|True|\\verb|  |\\verb|True|\\verb|  |\\verb|True|\\\\\n",
       "\\verb|  |\\verb|True|\\verb|  |\\verb|True|\\verb|  |\\verb|True]|\n",
       "\\end{array}\\]</html>"
      ],
      "text/latex": [
       "$$\\newcommand{\\Bold}[1]{\\mathbf{#1}}\\begin{array}{l}\n",
       "\\verb|[|\\verb| |\\verb|True|\\verb|  |\\verb|True|\\verb|  |\\verb|True|\\verb|  |\\verb|True|\\verb|  |\\verb|True|\\verb|  |\\verb|True|\\verb|  |\\verb|True|\\verb|  |\\verb|True|\\verb|  |\\verb|True|\\verb|  |\\verb|True|\\verb|  |\\verb|True|\\verb|  |\\verb|True|\\\\\n",
       "\\verb|  |\\verb|True|\\verb|  |\\verb|True|\\verb|  |\\verb|True]|\n",
       "\\end{array}$$"
      ],
      "text/plain": [
       "array([ True,  True,  True,  True,  True,  True,  True,  True,  True,\n",
       "        True,  True,  True,  True,  True,  True])"
      ]
     },
     "execution_count": 23,
     "metadata": {},
     "output_type": "execute_result"
    }
   ],
   "source": [
    "np.array(myarr_9_mod_16)%16==0"
   ]
  },
  {
   "cell_type": "code",
   "execution_count": 24,
   "id": "10d20b74",
   "metadata": {},
   "outputs": [
    {
     "data": {
      "text/html": [
       "<html>\\[\\newcommand{\\Bold}[1]{\\mathbf{#1}}\\begin{array}{l}\n",
       "\\verb|[False|\\verb| |\\verb|False|\\verb| |\\verb|False|\\verb| |\\verb|False|\\verb| |\\verb|False|\\verb| |\\verb|False|\\verb|  |\\verb|True|\\verb| |\\verb|False|\\verb| |\\verb|False|\\verb|  |\\verb|True|\\verb| |\\verb|False|\\verb| |\\verb|False|\\\\\n",
       "\\verb| |\\verb|False|\\verb|  |\\verb|True|\\verb| |\\verb|False]|\n",
       "\\end{array}\\]</html>"
      ],
      "text/latex": [
       "$$\\newcommand{\\Bold}[1]{\\mathbf{#1}}\\begin{array}{l}\n",
       "\\verb|[False|\\verb| |\\verb|False|\\verb| |\\verb|False|\\verb| |\\verb|False|\\verb| |\\verb|False|\\verb| |\\verb|False|\\verb|  |\\verb|True|\\verb| |\\verb|False|\\verb| |\\verb|False|\\verb|  |\\verb|True|\\verb| |\\verb|False|\\verb| |\\verb|False|\\\\\n",
       "\\verb| |\\verb|False|\\verb|  |\\verb|True|\\verb| |\\verb|False]|\n",
       "\\end{array}$$"
      ],
      "text/plain": [
       "array([False, False, False, False, False, False,  True, False, False,\n",
       "        True, False, False, False,  True, False])"
      ]
     },
     "execution_count": 24,
     "metadata": {},
     "output_type": "execute_result"
    }
   ],
   "source": [
    "np.array(myarr_9_mod_16)%32==0"
   ]
  },
  {
   "cell_type": "code",
   "execution_count": 25,
   "id": "0ceca8e2",
   "metadata": {},
   "outputs": [
    {
     "data": {
      "text/html": [
       "<html>\\[\\newcommand{\\Bold}[1]{\\mathbf{#1}}\\left(25, 336, \\frac{21}{2}\\right)\\]</html>"
      ],
      "text/latex": [
       "$$\\newcommand{\\Bold}[1]{\\mathbf{#1}}\\left(25, 336, \\frac{21}{2}\\right)$$"
      ],
      "text/plain": [
       "(25, 336, 21/2)"
      ]
     },
     "execution_count": 25,
     "metadata": {},
     "output_type": "execute_result"
    }
   ],
   "source": [
    "16*1+9, op147[25], op147[25]/32"
   ]
  },
  {
   "cell_type": "code",
   "execution_count": 26,
   "id": "be7d3caa",
   "metadata": {},
   "outputs": [
    {
     "data": {
      "text/html": [
       "<html>\\[\\newcommand{\\Bold}[1]{\\mathbf{#1}}\\begin{array}{l}\n",
       "\\verb|[False|\\verb|  |\\verb|True|\\verb| |\\verb|False|\\verb| |\\verb|False|\\verb| |\\verb|False|\\verb|  |\\verb|True|\\verb| |\\verb|False|\\verb|  |\\verb|True|\\verb| |\\verb|False|\\verb|  |\\verb|True|\\verb| |\\verb|False|\\verb|  |\\verb|True|\\\\\n",
       "\\verb|  |\\verb|True|\\verb|  |\\verb|True|\\verb|  |\\verb|True]|\n",
       "\\end{array}\\]</html>"
      ],
      "text/latex": [
       "$$\\newcommand{\\Bold}[1]{\\mathbf{#1}}\\begin{array}{l}\n",
       "\\verb|[False|\\verb|  |\\verb|True|\\verb| |\\verb|False|\\verb| |\\verb|False|\\verb| |\\verb|False|\\verb|  |\\verb|True|\\verb| |\\verb|False|\\verb|  |\\verb|True|\\verb| |\\verb|False|\\verb|  |\\verb|True|\\verb| |\\verb|False|\\verb|  |\\verb|True|\\\\\n",
       "\\verb|  |\\verb|True|\\verb|  |\\verb|True|\\verb|  |\\verb|True]|\n",
       "\\end{array}$$"
      ],
      "text/plain": [
       "array([False,  True, False, False, False,  True, False,  True, False,\n",
       "        True, False,  True,  True,  True,  True])"
      ]
     },
     "execution_count": 26,
     "metadata": {},
     "output_type": "execute_result"
    }
   ],
   "source": [
    "np.array(myarr_11_mod_16)%4==0"
   ]
  },
  {
   "cell_type": "code",
   "execution_count": 27,
   "id": "d2fa9e4b",
   "metadata": {},
   "outputs": [
    {
     "data": {
      "text/html": [
       "<html>\\[\\newcommand{\\Bold}[1]{\\mathbf{#1}}\\begin{array}{l}\n",
       "\\verb|[False|\\verb| |\\verb|False|\\verb| |\\verb|False|\\verb| |\\verb|False|\\verb|  |\\verb|True|\\verb|  |\\verb|True|\\verb| |\\verb|False|\\verb|  |\\verb|True|\\verb|  |\\verb|True|\\verb| |\\verb|False|\\verb| |\\verb|False|\\verb|  |\\verb|True|\\\\\n",
       "\\verb|  |\\verb|True|\\verb|  |\\verb|True|\\verb|  |\\verb|True]|\n",
       "\\end{array}\\]</html>"
      ],
      "text/latex": [
       "$$\\newcommand{\\Bold}[1]{\\mathbf{#1}}\\begin{array}{l}\n",
       "\\verb|[False|\\verb| |\\verb|False|\\verb| |\\verb|False|\\verb| |\\verb|False|\\verb|  |\\verb|True|\\verb|  |\\verb|True|\\verb| |\\verb|False|\\verb|  |\\verb|True|\\verb|  |\\verb|True|\\verb| |\\verb|False|\\verb| |\\verb|False|\\verb|  |\\verb|True|\\\\\n",
       "\\verb|  |\\verb|True|\\verb|  |\\verb|True|\\verb|  |\\verb|True]|\n",
       "\\end{array}$$"
      ],
      "text/plain": [
       "array([False, False, False, False,  True,  True, False,  True,  True,\n",
       "       False, False,  True,  True,  True,  True])"
      ]
     },
     "execution_count": 27,
     "metadata": {},
     "output_type": "execute_result"
    }
   ],
   "source": [
    "np.array(myarr_13_mod_16)%4==0"
   ]
  },
  {
   "cell_type": "code",
   "execution_count": 28,
   "id": "153bff6f",
   "metadata": {},
   "outputs": [
    {
     "data": {
      "text/html": [
       "<html>\\[\\newcommand{\\Bold}[1]{\\mathbf{#1}}\\begin{array}{l}\n",
       "\\verb|[False|\\verb|  |\\verb|True|\\verb|  |\\verb|True|\\verb| |\\verb|False|\\verb|  |\\verb|True|\\verb| |\\verb|False|\\verb| |\\verb|False|\\verb|  |\\verb|True|\\verb| |\\verb|False|\\verb| |\\verb|False|\\verb| |\\verb|False|\\verb|  |\\verb|True|\\\\\n",
       "\\verb| |\\verb|False|\\verb|  |\\verb|True|\\verb|  |\\verb|True]|\n",
       "\\end{array}\\]</html>"
      ],
      "text/latex": [
       "$$\\newcommand{\\Bold}[1]{\\mathbf{#1}}\\begin{array}{l}\n",
       "\\verb|[False|\\verb|  |\\verb|True|\\verb|  |\\verb|True|\\verb| |\\verb|False|\\verb|  |\\verb|True|\\verb| |\\verb|False|\\verb| |\\verb|False|\\verb|  |\\verb|True|\\verb| |\\verb|False|\\verb| |\\verb|False|\\verb| |\\verb|False|\\verb|  |\\verb|True|\\\\\n",
       "\\verb| |\\verb|False|\\verb|  |\\verb|True|\\verb|  |\\verb|True]|\n",
       "\\end{array}$$"
      ],
      "text/plain": [
       "array([False,  True,  True, False,  True, False, False,  True, False,\n",
       "       False, False,  True, False,  True,  True])"
      ]
     },
     "execution_count": 28,
     "metadata": {},
     "output_type": "execute_result"
    }
   ],
   "source": [
    "np.array(myarr_15_mod_16)%8==0"
   ]
  },
  {
   "cell_type": "code",
   "execution_count": 29,
   "id": "5315ce6a",
   "metadata": {},
   "outputs": [
    {
     "data": {
      "text/html": [
       "<html>\\[\\newcommand{\\Bold}[1]{\\mathbf{#1}}\\verb|[False|\\verb|  |\\verb|True|\\verb|  |\\verb|True|\\verb| |\\verb|False|\\verb|  |\\verb|True|\\verb| |\\verb|False|\\verb| |\\verb|False|\\verb|  |\\verb|True|\\verb|  |\\verb|True|\\verb| |\\verb|False]|\\]</html>"
      ],
      "text/latex": [
       "$$\\newcommand{\\Bold}[1]{\\mathbf{#1}}\\verb|[False|\\verb|  |\\verb|True|\\verb|  |\\verb|True|\\verb| |\\verb|False|\\verb|  |\\verb|True|\\verb| |\\verb|False|\\verb| |\\verb|False|\\verb|  |\\verb|True|\\verb|  |\\verb|True|\\verb| |\\verb|False]|$$"
      ],
      "text/plain": [
       "array([False,  True,  True, False,  True, False, False,  True,  True,\n",
       "       False])"
      ]
     },
     "execution_count": 29,
     "metadata": {},
     "output_type": "execute_result"
    }
   ],
   "source": [
    "np.array(myarr_0_mod_32)%4==0"
   ]
  },
  {
   "cell_type": "code",
   "execution_count": 30,
   "id": "3a830728",
   "metadata": {},
   "outputs": [
    {
     "data": {
      "text/html": [
       "<html>\\[\\newcommand{\\Bold}[1]{\\mathbf{#1}}\\verb|[False|\\verb|  |\\verb|True|\\verb|  |\\verb|True|\\verb|  |\\verb|True|\\verb|  |\\verb|True|\\verb|  |\\verb|True|\\verb|  |\\verb|True|\\verb| |\\verb|False|\\verb|  |\\verb|True|\\verb| |\\verb|False]|\\]</html>"
      ],
      "text/latex": [
       "$$\\newcommand{\\Bold}[1]{\\mathbf{#1}}\\verb|[False|\\verb|  |\\verb|True|\\verb|  |\\verb|True|\\verb|  |\\verb|True|\\verb|  |\\verb|True|\\verb|  |\\verb|True|\\verb|  |\\verb|True|\\verb| |\\verb|False|\\verb|  |\\verb|True|\\verb| |\\verb|False]|$$"
      ],
      "text/plain": [
       "array([False,  True,  True,  True,  True,  True,  True, False,  True,\n",
       "       False])"
      ]
     },
     "execution_count": 30,
     "metadata": {},
     "output_type": "execute_result"
    }
   ],
   "source": [
    "np.array(myarr_1_mod_32)%4==0"
   ]
  },
  {
   "cell_type": "code",
   "execution_count": 31,
   "id": "d31f3995",
   "metadata": {},
   "outputs": [
    {
     "data": {
      "text/html": [
       "<html>\\[\\newcommand{\\Bold}[1]{\\mathbf{#1}}\\verb|[False|\\verb|  |\\verb|True|\\verb|  |\\verb|True|\\verb| |\\verb|False|\\verb|  |\\verb|True|\\verb| |\\verb|False|\\verb|  |\\verb|True|\\verb|  |\\verb|True|\\verb|  |\\verb|True|\\verb|  |\\verb|True]|\\]</html>"
      ],
      "text/latex": [
       "$$\\newcommand{\\Bold}[1]{\\mathbf{#1}}\\verb|[False|\\verb|  |\\verb|True|\\verb|  |\\verb|True|\\verb| |\\verb|False|\\verb|  |\\verb|True|\\verb| |\\verb|False|\\verb|  |\\verb|True|\\verb|  |\\verb|True|\\verb|  |\\verb|True|\\verb|  |\\verb|True]|$$"
      ],
      "text/plain": [
       "array([False,  True,  True, False,  True, False,  True,  True,  True,\n",
       "        True])"
      ]
     },
     "execution_count": 31,
     "metadata": {},
     "output_type": "execute_result"
    }
   ],
   "source": [
    "np.array(myarr_2_mod_32)%4==0"
   ]
  },
  {
   "cell_type": "code",
   "execution_count": 32,
   "id": "9a7cf1ca",
   "metadata": {},
   "outputs": [
    {
     "data": {
      "text/html": [
       "<html>\\[\\newcommand{\\Bold}[1]{\\mathbf{#1}}\\verb|[False|\\verb|  |\\verb|True|\\verb| |\\verb|False|\\verb| |\\verb|False|\\verb| |\\verb|False|\\verb| |\\verb|False|\\verb|  |\\verb|True|\\verb| |\\verb|False]|\\]</html>"
      ],
      "text/latex": [
       "$$\\newcommand{\\Bold}[1]{\\mathbf{#1}}\\verb|[False|\\verb|  |\\verb|True|\\verb| |\\verb|False|\\verb| |\\verb|False|\\verb| |\\verb|False|\\verb| |\\verb|False|\\verb|  |\\verb|True|\\verb| |\\verb|False]|$$"
      ],
      "text/plain": [
       "array([False,  True, False, False, False, False,  True, False])"
      ]
     },
     "execution_count": 32,
     "metadata": {},
     "output_type": "execute_result"
    }
   ],
   "source": [
    "np.array(myarr_3_mod_32)%4==0"
   ]
  },
  {
   "cell_type": "code",
   "execution_count": 33,
   "id": "f46f1c53",
   "metadata": {},
   "outputs": [
    {
     "data": {
      "text/html": [
       "<html>\\[\\newcommand{\\Bold}[1]{\\mathbf{#1}}\\verb|[|\\verb| |\\verb|True|\\verb| |\\verb|False|\\verb|  |\\verb|True|\\verb| |\\verb|False|\\verb|  |\\verb|True|\\verb|  |\\verb|True|\\verb|  |\\verb|True|\\verb|  |\\verb|True|\\verb|  |\\verb|True|\\verb|  |\\verb|True]|\\]</html>"
      ],
      "text/latex": [
       "$$\\newcommand{\\Bold}[1]{\\mathbf{#1}}\\verb|[|\\verb| |\\verb|True|\\verb| |\\verb|False|\\verb|  |\\verb|True|\\verb| |\\verb|False|\\verb|  |\\verb|True|\\verb|  |\\verb|True|\\verb|  |\\verb|True|\\verb|  |\\verb|True|\\verb|  |\\verb|True|\\verb|  |\\verb|True]|$$"
      ],
      "text/plain": [
       "array([ True, False,  True, False,  True,  True,  True,  True,  True,\n",
       "        True])"
      ]
     },
     "execution_count": 33,
     "metadata": {},
     "output_type": "execute_result"
    }
   ],
   "source": [
    "np.array(myarr_4_mod_32)%4==0"
   ]
  },
  {
   "cell_type": "code",
   "execution_count": 34,
   "id": "77461794",
   "metadata": {},
   "outputs": [
    {
     "data": {
      "text/html": [
       "<html>\\[\\newcommand{\\Bold}[1]{\\mathbf{#1}}\\verb|[False|\\verb| |\\verb|False|\\verb|  |\\verb|True|\\verb| |\\verb|False|\\verb|  |\\verb|True|\\verb|  |\\verb|True|\\verb| |\\verb|False|\\verb| |\\verb|False]|\\]</html>"
      ],
      "text/latex": [
       "$$\\newcommand{\\Bold}[1]{\\mathbf{#1}}\\verb|[False|\\verb| |\\verb|False|\\verb|  |\\verb|True|\\verb| |\\verb|False|\\verb|  |\\verb|True|\\verb|  |\\verb|True|\\verb| |\\verb|False|\\verb| |\\verb|False]|$$"
      ],
      "text/plain": [
       "array([False, False,  True, False,  True,  True, False, False])"
      ]
     },
     "execution_count": 34,
     "metadata": {},
     "output_type": "execute_result"
    }
   ],
   "source": [
    "np.array(myarr_5_mod_32)%4==0"
   ]
  },
  {
   "cell_type": "code",
   "execution_count": 35,
   "id": "107aace5",
   "metadata": {},
   "outputs": [
    {
     "data": {
      "text/html": [
       "<html>\\[\\newcommand{\\Bold}[1]{\\mathbf{#1}}\\verb|[False|\\verb| |\\verb|False|\\verb|  |\\verb|True|\\verb|  |\\verb|True|\\verb| |\\verb|False|\\verb| |\\verb|False|\\verb| |\\verb|False|\\verb|  |\\verb|True|\\verb| |\\verb|False|\\verb| |\\verb|False]|\\]</html>"
      ],
      "text/latex": [
       "$$\\newcommand{\\Bold}[1]{\\mathbf{#1}}\\verb|[False|\\verb| |\\verb|False|\\verb|  |\\verb|True|\\verb|  |\\verb|True|\\verb| |\\verb|False|\\verb| |\\verb|False|\\verb| |\\verb|False|\\verb|  |\\verb|True|\\verb| |\\verb|False|\\verb| |\\verb|False]|$$"
      ],
      "text/plain": [
       "array([False, False,  True,  True, False, False, False,  True, False,\n",
       "       False])"
      ]
     },
     "execution_count": 35,
     "metadata": {},
     "output_type": "execute_result"
    }
   ],
   "source": [
    "np.array(myarr_6_mod_32)%4==0"
   ]
  },
  {
   "cell_type": "code",
   "execution_count": 36,
   "id": "32192588",
   "metadata": {},
   "outputs": [
    {
     "data": {
      "text/html": [
       "<html>\\[\\newcommand{\\Bold}[1]{\\mathbf{#1}}\\verb|[|\\verb| |\\verb|True|\\verb|  |\\verb|True|\\verb|  |\\verb|True|\\verb|  |\\verb|True|\\verb|  |\\verb|True|\\verb|  |\\verb|True|\\verb|  |\\verb|True|\\verb|  |\\verb|True]|\\]</html>"
      ],
      "text/latex": [
       "$$\\newcommand{\\Bold}[1]{\\mathbf{#1}}\\verb|[|\\verb| |\\verb|True|\\verb|  |\\verb|True|\\verb|  |\\verb|True|\\verb|  |\\verb|True|\\verb|  |\\verb|True|\\verb|  |\\verb|True|\\verb|  |\\verb|True|\\verb|  |\\verb|True]|$$"
      ],
      "text/plain": [
       "array([ True,  True,  True,  True,  True,  True,  True,  True])"
      ]
     },
     "execution_count": 36,
     "metadata": {},
     "output_type": "execute_result"
    }
   ],
   "source": [
    "np.array(myarr_7_mod_32)%4==0"
   ]
  },
  {
   "cell_type": "code",
   "execution_count": 37,
   "id": "394d55ba",
   "metadata": {},
   "outputs": [
    {
     "data": {
      "text/html": [
       "<html>\\[\\newcommand{\\Bold}[1]{\\mathbf{#1}}\\verb|[|\\verb| |\\verb|True|\\verb| |\\verb|False|\\verb| |\\verb|False|\\verb| |\\verb|False|\\verb|  |\\verb|True|\\verb|  |\\verb|True|\\verb| |\\verb|False|\\verb| |\\verb|False|\\verb|  |\\verb|True|\\verb| |\\verb|False]|\\]</html>"
      ],
      "text/latex": [
       "$$\\newcommand{\\Bold}[1]{\\mathbf{#1}}\\verb|[|\\verb| |\\verb|True|\\verb| |\\verb|False|\\verb| |\\verb|False|\\verb| |\\verb|False|\\verb|  |\\verb|True|\\verb|  |\\verb|True|\\verb| |\\verb|False|\\verb| |\\verb|False|\\verb|  |\\verb|True|\\verb| |\\verb|False]|$$"
      ],
      "text/plain": [
       "array([ True, False, False, False,  True,  True, False, False,  True,\n",
       "       False])"
      ]
     },
     "execution_count": 37,
     "metadata": {},
     "output_type": "execute_result"
    }
   ],
   "source": [
    "np.array(myarr_8_mod_32)%4==0"
   ]
  },
  {
   "cell_type": "code",
   "execution_count": 38,
   "id": "ee3340ef",
   "metadata": {},
   "outputs": [
    {
     "data": {
      "text/html": [
       "<html>\\[\\newcommand{\\Bold}[1]{\\mathbf{#1}}\\verb|[|\\verb| |\\verb|True|\\verb|  |\\verb|True|\\verb|  |\\verb|True|\\verb|  |\\verb|True|\\verb|  |\\verb|True|\\verb|  |\\verb|True|\\verb|  |\\verb|True|\\verb|  |\\verb|True]|\\]</html>"
      ],
      "text/latex": [
       "$$\\newcommand{\\Bold}[1]{\\mathbf{#1}}\\verb|[|\\verb| |\\verb|True|\\verb|  |\\verb|True|\\verb|  |\\verb|True|\\verb|  |\\verb|True|\\verb|  |\\verb|True|\\verb|  |\\verb|True|\\verb|  |\\verb|True|\\verb|  |\\verb|True]|$$"
      ],
      "text/plain": [
       "array([ True,  True,  True,  True,  True,  True,  True,  True])"
      ]
     },
     "execution_count": 38,
     "metadata": {},
     "output_type": "execute_result"
    }
   ],
   "source": [
    "np.array(myarr_9_mod_32)%16==0"
   ]
  },
  {
   "cell_type": "code",
   "execution_count": 39,
   "id": "a6fe63e7",
   "metadata": {},
   "outputs": [
    {
     "data": {
      "text/html": [
       "<html>\\[\\newcommand{\\Bold}[1]{\\mathbf{#1}}\\verb|[False|\\verb|  |\\verb|True|\\verb| |\\verb|False|\\verb| |\\verb|False|\\verb|  |\\verb|True|\\verb|  |\\verb|True|\\verb| |\\verb|False|\\verb| |\\verb|False]|\\]</html>"
      ],
      "text/latex": [
       "$$\\newcommand{\\Bold}[1]{\\mathbf{#1}}\\verb|[False|\\verb|  |\\verb|True|\\verb| |\\verb|False|\\verb| |\\verb|False|\\verb|  |\\verb|True|\\verb|  |\\verb|True|\\verb| |\\verb|False|\\verb| |\\verb|False]|$$"
      ],
      "text/plain": [
       "array([False,  True, False, False,  True,  True, False, False])"
      ]
     },
     "execution_count": 39,
     "metadata": {},
     "output_type": "execute_result"
    }
   ],
   "source": [
    "np.array(myarr_10_mod_32)%4==0"
   ]
  },
  {
   "cell_type": "code",
   "execution_count": 40,
   "id": "ed78b436",
   "metadata": {},
   "outputs": [
    {
     "data": {
      "text/html": [
       "<html>\\[\\newcommand{\\Bold}[1]{\\mathbf{#1}}\\verb|[False|\\verb| |\\verb|False|\\verb| |\\verb|False|\\verb| |\\verb|False|\\verb| |\\verb|False|\\verb| |\\verb|False|\\verb|  |\\verb|True|\\verb|  |\\verb|True]|\\]</html>"
      ],
      "text/latex": [
       "$$\\newcommand{\\Bold}[1]{\\mathbf{#1}}\\verb|[False|\\verb| |\\verb|False|\\verb| |\\verb|False|\\verb| |\\verb|False|\\verb| |\\verb|False|\\verb| |\\verb|False|\\verb|  |\\verb|True|\\verb|  |\\verb|True]|$$"
      ],
      "text/plain": [
       "array([False, False, False, False, False, False,  True,  True])"
      ]
     },
     "execution_count": 40,
     "metadata": {},
     "output_type": "execute_result"
    }
   ],
   "source": [
    "np.array(myarr_11_mod_32)%4==0"
   ]
  },
  {
   "cell_type": "code",
   "execution_count": 41,
   "id": "124eee87",
   "metadata": {},
   "outputs": [
    {
     "data": {
      "text/html": [
       "<html>\\[\\newcommand{\\Bold}[1]{\\mathbf{#1}}\\verb|[False|\\verb| |\\verb|False|\\verb| |\\verb|False|\\verb|  |\\verb|True|\\verb|  |\\verb|True|\\verb| |\\verb|False|\\verb|  |\\verb|True|\\verb| |\\verb|False]|\\]</html>"
      ],
      "text/latex": [
       "$$\\newcommand{\\Bold}[1]{\\mathbf{#1}}\\verb|[False|\\verb| |\\verb|False|\\verb| |\\verb|False|\\verb|  |\\verb|True|\\verb|  |\\verb|True|\\verb| |\\verb|False|\\verb|  |\\verb|True|\\verb| |\\verb|False]|$$"
      ],
      "text/plain": [
       "array([False, False, False,  True,  True, False,  True, False])"
      ]
     },
     "execution_count": 41,
     "metadata": {},
     "output_type": "execute_result"
    }
   ],
   "source": [
    "np.array(myarr_12_mod_32)%4==0"
   ]
  },
  {
   "cell_type": "code",
   "execution_count": 42,
   "id": "8ac157ca",
   "metadata": {},
   "outputs": [
    {
     "data": {
      "text/html": [
       "<html>\\[\\newcommand{\\Bold}[1]{\\mathbf{#1}}\\verb|[False|\\verb| |\\verb|False|\\verb|  |\\verb|True|\\verb| |\\verb|False|\\verb|  |\\verb|True|\\verb| |\\verb|False|\\verb|  |\\verb|True|\\verb|  |\\verb|True]|\\]</html>"
      ],
      "text/latex": [
       "$$\\newcommand{\\Bold}[1]{\\mathbf{#1}}\\verb|[False|\\verb| |\\verb|False|\\verb|  |\\verb|True|\\verb| |\\verb|False|\\verb|  |\\verb|True|\\verb| |\\verb|False|\\verb|  |\\verb|True|\\verb|  |\\verb|True]|$$"
      ],
      "text/plain": [
       "array([False, False,  True, False,  True, False,  True,  True])"
      ]
     },
     "execution_count": 42,
     "metadata": {},
     "output_type": "execute_result"
    }
   ],
   "source": [
    "np.array(myarr_13_mod_32)%4==0"
   ]
  },
  {
   "cell_type": "code",
   "execution_count": 43,
   "id": "fab3845a",
   "metadata": {},
   "outputs": [
    {
     "data": {
      "text/html": [
       "<html>\\[\\newcommand{\\Bold}[1]{\\mathbf{#1}}\\verb|[|\\verb| |\\verb|True|\\verb|  |\\verb|True|\\verb|  |\\verb|True|\\verb|  |\\verb|True|\\verb|  |\\verb|True|\\verb|  |\\verb|True|\\verb|  |\\verb|True|\\verb|  |\\verb|True]|\\]</html>"
      ],
      "text/latex": [
       "$$\\newcommand{\\Bold}[1]{\\mathbf{#1}}\\verb|[|\\verb| |\\verb|True|\\verb|  |\\verb|True|\\verb|  |\\verb|True|\\verb|  |\\verb|True|\\verb|  |\\verb|True|\\verb|  |\\verb|True|\\verb|  |\\verb|True|\\verb|  |\\verb|True]|$$"
      ],
      "text/plain": [
       "array([ True,  True,  True,  True,  True,  True,  True,  True])"
      ]
     },
     "execution_count": 43,
     "metadata": {},
     "output_type": "execute_result"
    }
   ],
   "source": [
    "np.array(myarr_14_mod_32)%4==0"
   ]
  },
  {
   "cell_type": "code",
   "execution_count": 44,
   "id": "5ce5c221",
   "metadata": {},
   "outputs": [
    {
     "data": {
      "text/html": [
       "<html>\\[\\newcommand{\\Bold}[1]{\\mathbf{#1}}\\verb|[|\\verb| |\\verb|True|\\verb|  |\\verb|True|\\verb|  |\\verb|True|\\verb|  |\\verb|True|\\verb|  |\\verb|True|\\verb|  |\\verb|True|\\verb|  |\\verb|True|\\verb|  |\\verb|True]|\\]</html>"
      ],
      "text/latex": [
       "$$\\newcommand{\\Bold}[1]{\\mathbf{#1}}\\verb|[|\\verb| |\\verb|True|\\verb|  |\\verb|True|\\verb|  |\\verb|True|\\verb|  |\\verb|True|\\verb|  |\\verb|True|\\verb|  |\\verb|True|\\verb|  |\\verb|True|\\verb|  |\\verb|True]|$$"
      ],
      "text/plain": [
       "array([ True,  True,  True,  True,  True,  True,  True,  True])"
      ]
     },
     "execution_count": 44,
     "metadata": {},
     "output_type": "execute_result"
    }
   ],
   "source": [
    "np.array(myarr_15_mod_32)%4==0"
   ]
  },
  {
   "cell_type": "code",
   "execution_count": 45,
   "id": "fa04949d",
   "metadata": {},
   "outputs": [
    {
     "data": {
      "text/html": [
       "<html>\\[\\newcommand{\\Bold}[1]{\\mathbf{#1}}\\verb|[|\\verb| |\\verb|True|\\verb| |\\verb|False|\\verb| |\\verb|False|\\verb|  |\\verb|True|\\verb| |\\verb|False|\\verb| |\\verb|False|\\verb| |\\verb|False|\\verb|  |\\verb|True]|\\]</html>"
      ],
      "text/latex": [
       "$$\\newcommand{\\Bold}[1]{\\mathbf{#1}}\\verb|[|\\verb| |\\verb|True|\\verb| |\\verb|False|\\verb| |\\verb|False|\\verb|  |\\verb|True|\\verb| |\\verb|False|\\verb| |\\verb|False|\\verb| |\\verb|False|\\verb|  |\\verb|True]|$$"
      ],
      "text/plain": [
       "array([ True, False, False,  True, False, False, False,  True])"
      ]
     },
     "execution_count": 45,
     "metadata": {},
     "output_type": "execute_result"
    }
   ],
   "source": [
    "np.array(myarr_16_mod_32)%4==0"
   ]
  },
  {
   "cell_type": "code",
   "execution_count": 46,
   "id": "68e0cc6a",
   "metadata": {},
   "outputs": [
    {
     "data": {
      "text/html": [
       "<html>\\[\\newcommand{\\Bold}[1]{\\mathbf{#1}}\\verb|[|\\verb| |\\verb|True|\\verb| |\\verb|False|\\verb| |\\verb|False|\\verb|  |\\verb|True|\\verb|  |\\verb|True|\\verb|  |\\verb|True|\\verb|  |\\verb|True|\\verb|  |\\verb|True|\\verb|  |\\verb|True]|\\]</html>"
      ],
      "text/latex": [
       "$$\\newcommand{\\Bold}[1]{\\mathbf{#1}}\\verb|[|\\verb| |\\verb|True|\\verb| |\\verb|False|\\verb| |\\verb|False|\\verb|  |\\verb|True|\\verb|  |\\verb|True|\\verb|  |\\verb|True|\\verb|  |\\verb|True|\\verb|  |\\verb|True|\\verb|  |\\verb|True]|$$"
      ],
      "text/plain": [
       "array([ True, False, False,  True,  True,  True,  True,  True,  True])"
      ]
     },
     "execution_count": 46,
     "metadata": {},
     "output_type": "execute_result"
    }
   ],
   "source": [
    "np.array(myarr_17_mod_32)%4==0"
   ]
  },
  {
   "cell_type": "code",
   "execution_count": 47,
   "id": "094040d6",
   "metadata": {},
   "outputs": [
    {
     "data": {
      "text/html": [
       "<html>\\[\\newcommand{\\Bold}[1]{\\mathbf{#1}}\\verb|[|\\verb| |\\verb|True|\\verb|  |\\verb|True|\\verb|  |\\verb|True|\\verb|  |\\verb|True|\\verb|  |\\verb|True|\\verb|  |\\verb|True|\\verb|  |\\verb|True|\\verb|  |\\verb|True]|\\]</html>"
      ],
      "text/latex": [
       "$$\\newcommand{\\Bold}[1]{\\mathbf{#1}}\\verb|[|\\verb| |\\verb|True|\\verb|  |\\verb|True|\\verb|  |\\verb|True|\\verb|  |\\verb|True|\\verb|  |\\verb|True|\\verb|  |\\verb|True|\\verb|  |\\verb|True|\\verb|  |\\verb|True]|$$"
      ],
      "text/plain": [
       "array([ True,  True,  True,  True,  True,  True,  True,  True])"
      ]
     },
     "execution_count": 47,
     "metadata": {},
     "output_type": "execute_result"
    }
   ],
   "source": [
    "np.array(myarr_18_mod_32)%16==0"
   ]
  },
  {
   "cell_type": "code",
   "execution_count": 48,
   "id": "9ed1af53",
   "metadata": {},
   "outputs": [
    {
     "data": {
      "text/html": [
       "<html>\\[\\newcommand{\\Bold}[1]{\\mathbf{#1}}\\verb|[|\\verb| |\\verb|True|\\verb| |\\verb|False|\\verb| |\\verb|False|\\verb|  |\\verb|True|\\verb|  |\\verb|True|\\verb|  |\\verb|True|\\verb|  |\\verb|True|\\verb|  |\\verb|True]|\\]</html>"
      ],
      "text/latex": [
       "$$\\newcommand{\\Bold}[1]{\\mathbf{#1}}\\verb|[|\\verb| |\\verb|True|\\verb| |\\verb|False|\\verb| |\\verb|False|\\verb|  |\\verb|True|\\verb|  |\\verb|True|\\verb|  |\\verb|True|\\verb|  |\\verb|True|\\verb|  |\\verb|True]|$$"
      ],
      "text/plain": [
       "array([ True, False, False,  True,  True,  True,  True,  True])"
      ]
     },
     "execution_count": 48,
     "metadata": {},
     "output_type": "execute_result"
    }
   ],
   "source": [
    "np.array(myarr_18_mod_32)%32==0"
   ]
  },
  {
   "cell_type": "code",
   "execution_count": 49,
   "id": "333b7efd",
   "metadata": {},
   "outputs": [
    {
     "data": {
      "text/html": [
       "<html>\\[\\newcommand{\\Bold}[1]{\\mathbf{#1}}\\left(50, 10672, \\frac{667}{2}\\right)\\]</html>"
      ],
      "text/latex": [
       "$$\\newcommand{\\Bold}[1]{\\mathbf{#1}}\\left(50, 10672, \\frac{667}{2}\\right)$$"
      ],
      "text/plain": [
       "(50, 10672, 667/2)"
      ]
     },
     "execution_count": 49,
     "metadata": {},
     "output_type": "execute_result"
    }
   ],
   "source": [
    "32*1+18, op147[50], op147[50]/32"
   ]
  },
  {
   "cell_type": "code",
   "execution_count": 50,
   "id": "85e5575b",
   "metadata": {},
   "outputs": [
    {
     "data": {
      "text/html": [
       "<html>\\[\\newcommand{\\Bold}[1]{\\mathbf{#1}}\\verb|[False|\\verb|  |\\verb|True|\\verb| |\\verb|False|\\verb|  |\\verb|True|\\verb| |\\verb|False|\\verb| |\\verb|False|\\verb| |\\verb|False|\\verb| |\\verb|False]|\\]</html>"
      ],
      "text/latex": [
       "$$\\newcommand{\\Bold}[1]{\\mathbf{#1}}\\verb|[False|\\verb|  |\\verb|True|\\verb| |\\verb|False|\\verb|  |\\verb|True|\\verb| |\\verb|False|\\verb| |\\verb|False|\\verb| |\\verb|False|\\verb| |\\verb|False]|$$"
      ],
      "text/plain": [
       "array([False,  True, False,  True, False, False, False, False])"
      ]
     },
     "execution_count": 50,
     "metadata": {},
     "output_type": "execute_result"
    }
   ],
   "source": [
    "np.array(myarr_19_mod_32)%4==0"
   ]
  },
  {
   "cell_type": "code",
   "execution_count": 51,
   "id": "23e39acb",
   "metadata": {},
   "outputs": [
    {
     "data": {
      "text/html": [
       "<html>\\[\\newcommand{\\Bold}[1]{\\mathbf{#1}}\\verb|[False|\\verb| |\\verb|False|\\verb|  |\\verb|True|\\verb| |\\verb|False|\\verb| |\\verb|False|\\verb| |\\verb|False|\\verb| |\\verb|False|\\verb| |\\verb|False]|\\]</html>"
      ],
      "text/latex": [
       "$$\\newcommand{\\Bold}[1]{\\mathbf{#1}}\\verb|[False|\\verb| |\\verb|False|\\verb|  |\\verb|True|\\verb| |\\verb|False|\\verb| |\\verb|False|\\verb| |\\verb|False|\\verb| |\\verb|False|\\verb| |\\verb|False]|$$"
      ],
      "text/plain": [
       "array([False, False,  True, False, False, False, False, False])"
      ]
     },
     "execution_count": 51,
     "metadata": {},
     "output_type": "execute_result"
    }
   ],
   "source": [
    "np.array(myarr_20_mod_32)%4==0"
   ]
  },
  {
   "cell_type": "code",
   "execution_count": 52,
   "id": "e4a6f59f",
   "metadata": {},
   "outputs": [
    {
     "data": {
      "text/html": [
       "<html>\\[\\newcommand{\\Bold}[1]{\\mathbf{#1}}\\verb|[|\\verb| |\\verb|True|\\verb| |\\verb|False|\\verb|  |\\verb|True|\\verb| |\\verb|False|\\verb| |\\verb|False|\\verb| |\\verb|False|\\verb|  |\\verb|True|\\verb| |\\verb|False]|\\]</html>"
      ],
      "text/latex": [
       "$$\\newcommand{\\Bold}[1]{\\mathbf{#1}}\\verb|[|\\verb| |\\verb|True|\\verb| |\\verb|False|\\verb|  |\\verb|True|\\verb| |\\verb|False|\\verb| |\\verb|False|\\verb| |\\verb|False|\\verb|  |\\verb|True|\\verb| |\\verb|False]|$$"
      ],
      "text/plain": [
       "array([ True, False,  True, False, False, False,  True, False])"
      ]
     },
     "execution_count": 52,
     "metadata": {},
     "output_type": "execute_result"
    }
   ],
   "source": [
    "np.array(myarr_21_mod_32)%4==0"
   ]
  },
  {
   "cell_type": "code",
   "execution_count": 53,
   "id": "3106e1a4",
   "metadata": {},
   "outputs": [
    {
     "data": {
      "text/html": [
       "<html>\\[\\newcommand{\\Bold}[1]{\\mathbf{#1}}\\verb|[False|\\verb|  |\\verb|True|\\verb| |\\verb|False|\\verb| |\\verb|False|\\verb| |\\verb|False|\\verb|  |\\verb|True|\\verb| |\\verb|False|\\verb|  |\\verb|True]|\\]</html>"
      ],
      "text/latex": [
       "$$\\newcommand{\\Bold}[1]{\\mathbf{#1}}\\verb|[False|\\verb|  |\\verb|True|\\verb| |\\verb|False|\\verb| |\\verb|False|\\verb| |\\verb|False|\\verb|  |\\verb|True|\\verb| |\\verb|False|\\verb|  |\\verb|True]|$$"
      ],
      "text/plain": [
       "array([False,  True, False, False, False,  True, False,  True])"
      ]
     },
     "execution_count": 53,
     "metadata": {},
     "output_type": "execute_result"
    }
   ],
   "source": [
    "np.array(myarr_22_mod_32)%4==0"
   ]
  },
  {
   "cell_type": "code",
   "execution_count": 54,
   "id": "87475428",
   "metadata": {},
   "outputs": [
    {
     "data": {
      "text/html": [
       "<html>\\[\\newcommand{\\Bold}[1]{\\mathbf{#1}}\\verb|[|\\verb| |\\verb|True|\\verb|  |\\verb|True|\\verb|  |\\verb|True|\\verb|  |\\verb|True|\\verb|  |\\verb|True|\\verb|  |\\verb|True|\\verb|  |\\verb|True|\\verb|  |\\verb|True]|\\]</html>"
      ],
      "text/latex": [
       "$$\\newcommand{\\Bold}[1]{\\mathbf{#1}}\\verb|[|\\verb| |\\verb|True|\\verb|  |\\verb|True|\\verb|  |\\verb|True|\\verb|  |\\verb|True|\\verb|  |\\verb|True|\\verb|  |\\verb|True|\\verb|  |\\verb|True|\\verb|  |\\verb|True]|$$"
      ],
      "text/plain": [
       "array([ True,  True,  True,  True,  True,  True,  True,  True])"
      ]
     },
     "execution_count": 54,
     "metadata": {},
     "output_type": "execute_result"
    }
   ],
   "source": [
    "np.array(myarr_23_mod_32)%4==0"
   ]
  },
  {
   "cell_type": "code",
   "execution_count": 55,
   "id": "a3eaf591",
   "metadata": {},
   "outputs": [
    {
     "data": {
      "text/html": [
       "<html>\\[\\newcommand{\\Bold}[1]{\\mathbf{#1}}\\verb|[False|\\verb|  |\\verb|True|\\verb| |\\verb|False|\\verb|  |\\verb|True|\\verb| |\\verb|False|\\verb|  |\\verb|True|\\verb|  |\\verb|True|\\verb|  |\\verb|True]|\\]</html>"
      ],
      "text/latex": [
       "$$\\newcommand{\\Bold}[1]{\\mathbf{#1}}\\verb|[False|\\verb|  |\\verb|True|\\verb| |\\verb|False|\\verb|  |\\verb|True|\\verb| |\\verb|False|\\verb|  |\\verb|True|\\verb|  |\\verb|True|\\verb|  |\\verb|True]|$$"
      ],
      "text/plain": [
       "array([False,  True, False,  True, False,  True,  True,  True])"
      ]
     },
     "execution_count": 55,
     "metadata": {},
     "output_type": "execute_result"
    }
   ],
   "source": [
    "np.array(myarr_24_mod_32)%4==0"
   ]
  },
  {
   "cell_type": "code",
   "execution_count": 56,
   "id": "2dc139c1",
   "metadata": {},
   "outputs": [
    {
     "data": {
      "text/html": [
       "<html>\\[\\newcommand{\\Bold}[1]{\\mathbf{#1}}\\verb|[|\\verb| |\\verb|True|\\verb|  |\\verb|True|\\verb|  |\\verb|True|\\verb|  |\\verb|True|\\verb|  |\\verb|True|\\verb|  |\\verb|True|\\verb|  |\\verb|True|\\verb|  |\\verb|True]|\\]</html>"
      ],
      "text/latex": [
       "$$\\newcommand{\\Bold}[1]{\\mathbf{#1}}\\verb|[|\\verb| |\\verb|True|\\verb|  |\\verb|True|\\verb|  |\\verb|True|\\verb|  |\\verb|True|\\verb|  |\\verb|True|\\verb|  |\\verb|True|\\verb|  |\\verb|True|\\verb|  |\\verb|True]|$$"
      ],
      "text/plain": [
       "array([ True,  True,  True,  True,  True,  True,  True,  True])"
      ]
     },
     "execution_count": 56,
     "metadata": {},
     "output_type": "execute_result"
    }
   ],
   "source": [
    "np.array(myarr_25_mod_32)%16==0"
   ]
  },
  {
   "cell_type": "code",
   "execution_count": 57,
   "id": "eb43e55b",
   "metadata": {},
   "outputs": [
    {
     "data": {
      "text/html": [
       "<html>\\[\\newcommand{\\Bold}[1]{\\mathbf{#1}}\\verb|[False|\\verb| |\\verb|False|\\verb| |\\verb|False|\\verb| |\\verb|False|\\verb|  |\\verb|True|\\verb|  |\\verb|True|\\verb| |\\verb|False|\\verb|  |\\verb|True]|\\]</html>"
      ],
      "text/latex": [
       "$$\\newcommand{\\Bold}[1]{\\mathbf{#1}}\\verb|[False|\\verb| |\\verb|False|\\verb| |\\verb|False|\\verb| |\\verb|False|\\verb|  |\\verb|True|\\verb|  |\\verb|True|\\verb| |\\verb|False|\\verb|  |\\verb|True]|$$"
      ],
      "text/plain": [
       "array([False, False, False, False,  True,  True, False,  True])"
      ]
     },
     "execution_count": 57,
     "metadata": {},
     "output_type": "execute_result"
    }
   ],
   "source": [
    "np.array(myarr_26_mod_32)%4==0"
   ]
  },
  {
   "cell_type": "code",
   "execution_count": 58,
   "id": "c624b37a",
   "metadata": {},
   "outputs": [
    {
     "data": {
      "text/html": [
       "<html>\\[\\newcommand{\\Bold}[1]{\\mathbf{#1}}\\verb|[|\\verb| |\\verb|True|\\verb| |\\verb|False|\\verb|  |\\verb|True|\\verb|  |\\verb|True|\\verb|  |\\verb|True|\\verb|  |\\verb|True|\\verb|  |\\verb|True|\\verb| |\\verb|False]|\\]</html>"
      ],
      "text/latex": [
       "$$\\newcommand{\\Bold}[1]{\\mathbf{#1}}\\verb|[|\\verb| |\\verb|True|\\verb| |\\verb|False|\\verb|  |\\verb|True|\\verb|  |\\verb|True|\\verb|  |\\verb|True|\\verb|  |\\verb|True|\\verb|  |\\verb|True|\\verb| |\\verb|False]|$$"
      ],
      "text/plain": [
       "array([ True, False,  True,  True,  True,  True,  True, False])"
      ]
     },
     "execution_count": 58,
     "metadata": {},
     "output_type": "execute_result"
    }
   ],
   "source": [
    "np.array(myarr_27_mod_32)%4==0"
   ]
  },
  {
   "cell_type": "code",
   "execution_count": 59,
   "id": "8aaeeb25",
   "metadata": {},
   "outputs": [
    {
     "data": {
      "text/html": [
       "<html>\\[\\newcommand{\\Bold}[1]{\\mathbf{#1}}\\verb|[|\\verb| |\\verb|True|\\verb|  |\\verb|True|\\verb|  |\\verb|True|\\verb|  |\\verb|True|\\verb|  |\\verb|True|\\verb|  |\\verb|True|\\verb|  |\\verb|True|\\verb|  |\\verb|True]|\\]</html>"
      ],
      "text/latex": [
       "$$\\newcommand{\\Bold}[1]{\\mathbf{#1}}\\verb|[|\\verb| |\\verb|True|\\verb|  |\\verb|True|\\verb|  |\\verb|True|\\verb|  |\\verb|True|\\verb|  |\\verb|True|\\verb|  |\\verb|True|\\verb|  |\\verb|True|\\verb|  |\\verb|True]|$$"
      ],
      "text/plain": [
       "array([ True,  True,  True,  True,  True,  True,  True,  True])"
      ]
     },
     "execution_count": 59,
     "metadata": {},
     "output_type": "execute_result"
    }
   ],
   "source": [
    "np.array(myarr_28_mod_32)%4==0"
   ]
  },
  {
   "cell_type": "code",
   "execution_count": 60,
   "id": "61a2b185",
   "metadata": {},
   "outputs": [
    {
     "data": {
      "text/html": [
       "<html>\\[\\newcommand{\\Bold}[1]{\\mathbf{#1}}\\verb|[False|\\verb| |\\verb|False|\\verb|  |\\verb|True|\\verb|  |\\verb|True|\\verb| |\\verb|False|\\verb|  |\\verb|True|\\verb|  |\\verb|True|\\verb|  |\\verb|True]|\\]</html>"
      ],
      "text/latex": [
       "$$\\newcommand{\\Bold}[1]{\\mathbf{#1}}\\verb|[False|\\verb| |\\verb|False|\\verb|  |\\verb|True|\\verb|  |\\verb|True|\\verb| |\\verb|False|\\verb|  |\\verb|True|\\verb|  |\\verb|True|\\verb|  |\\verb|True]|$$"
      ],
      "text/plain": [
       "array([False, False,  True,  True, False,  True,  True,  True])"
      ]
     },
     "execution_count": 60,
     "metadata": {},
     "output_type": "execute_result"
    }
   ],
   "source": [
    "np.array(myarr_29_mod_32)%4==0"
   ]
  },
  {
   "cell_type": "code",
   "execution_count": 61,
   "id": "37ab43f5",
   "metadata": {},
   "outputs": [
    {
     "data": {
      "text/html": [
       "<html>\\[\\newcommand{\\Bold}[1]{\\mathbf{#1}}\\verb|[|\\verb| |\\verb|True|\\verb|  |\\verb|True|\\verb|  |\\verb|True|\\verb|  |\\verb|True|\\verb|  |\\verb|True|\\verb|  |\\verb|True|\\verb|  |\\verb|True|\\verb|  |\\verb|True]|\\]</html>"
      ],
      "text/latex": [
       "$$\\newcommand{\\Bold}[1]{\\mathbf{#1}}\\verb|[|\\verb| |\\verb|True|\\verb|  |\\verb|True|\\verb|  |\\verb|True|\\verb|  |\\verb|True|\\verb|  |\\verb|True|\\verb|  |\\verb|True|\\verb|  |\\verb|True|\\verb|  |\\verb|True]|$$"
      ],
      "text/plain": [
       "array([ True,  True,  True,  True,  True,  True,  True,  True])"
      ]
     },
     "execution_count": 61,
     "metadata": {},
     "output_type": "execute_result"
    }
   ],
   "source": [
    "np.array(myarr_30_mod_32)%16==0"
   ]
  },
  {
   "cell_type": "code",
   "execution_count": 62,
   "id": "128d8771",
   "metadata": {},
   "outputs": [
    {
     "data": {
      "text/html": [
       "<html>\\[\\newcommand{\\Bold}[1]{\\mathbf{#1}}\\verb|[False|\\verb|  |\\verb|True|\\verb|  |\\verb|True|\\verb| |\\verb|False|\\verb|  |\\verb|True|\\verb| |\\verb|False|\\verb| |\\verb|False|\\verb|  |\\verb|True]|\\]</html>"
      ],
      "text/latex": [
       "$$\\newcommand{\\Bold}[1]{\\mathbf{#1}}\\verb|[False|\\verb|  |\\verb|True|\\verb|  |\\verb|True|\\verb| |\\verb|False|\\verb|  |\\verb|True|\\verb| |\\verb|False|\\verb| |\\verb|False|\\verb|  |\\verb|True]|$$"
      ],
      "text/plain": [
       "array([False,  True,  True, False,  True, False, False,  True])"
      ]
     },
     "execution_count": 62,
     "metadata": {},
     "output_type": "execute_result"
    }
   ],
   "source": [
    "np.array(myarr_30_mod_32)%32==0"
   ]
  },
  {
   "cell_type": "code",
   "execution_count": 63,
   "id": "4f26e8e8",
   "metadata": {
    "scrolled": true
   },
   "outputs": [
    {
     "data": {
      "text/html": [
       "<html>\\[\\newcommand{\\Bold}[1]{\\mathbf{#1}}\\left(126, 15962192, \\frac{997637}{2}\\right)\\]</html>"
      ],
      "text/latex": [
       "$$\\newcommand{\\Bold}[1]{\\mathbf{#1}}\\left(126, 15962192, \\frac{997637}{2}\\right)$$"
      ],
      "text/plain": [
       "(126, 15962192, 997637/2)"
      ]
     },
     "execution_count": 63,
     "metadata": {},
     "output_type": "execute_result"
    }
   ],
   "source": [
    "32*3+30, op147[126], op147[126]/32"
   ]
  },
  {
   "cell_type": "code",
   "execution_count": 64,
   "id": "5724daff",
   "metadata": {},
   "outputs": [
    {
     "data": {
      "text/html": [
       "<html>\\[\\newcommand{\\Bold}[1]{\\mathbf{#1}}\\verb|[|\\verb| |\\verb|True|\\verb|  |\\verb|True|\\verb|  |\\verb|True|\\verb|  |\\verb|True|\\verb|  |\\verb|True|\\verb|  |\\verb|True|\\verb|  |\\verb|True|\\verb|  |\\verb|True]|\\]</html>"
      ],
      "text/latex": [
       "$$\\newcommand{\\Bold}[1]{\\mathbf{#1}}\\verb|[|\\verb| |\\verb|True|\\verb|  |\\verb|True|\\verb|  |\\verb|True|\\verb|  |\\verb|True|\\verb|  |\\verb|True|\\verb|  |\\verb|True|\\verb|  |\\verb|True|\\verb|  |\\verb|True]|$$"
      ],
      "text/plain": [
       "array([ True,  True,  True,  True,  True,  True,  True,  True])"
      ]
     },
     "execution_count": 64,
     "metadata": {},
     "output_type": "execute_result"
    }
   ],
   "source": [
    "np.array(myarr_31_mod_32)%4==0"
   ]
  },
  {
   "cell_type": "code",
   "execution_count": 65,
   "id": "f38ed860",
   "metadata": {},
   "outputs": [
    {
     "data": {
      "text/html": [
       "<html>\\[\\newcommand{\\Bold}[1]{\\mathbf{#1}}1 + 2 q + 2 q^{2} + 2 q^{3} + 4 q^{4} + 6 q^{5} + 6 q^{6} + 8 q^{7} + 12 q^{8} + 16 q^{9} + 18 q^{10} + 22 q^{11} + 30 q^{12} + 38 q^{13} + 44 q^{14} + 52 q^{15} + 68 q^{16} + 84 q^{17} + 96 q^{18} + 114 q^{19} + 142 q^{20} + 172 q^{21} + 198 q^{22} + 232 q^{23} + 282 q^{24} + 336 q^{25} + 386 q^{26} + 448 q^{27} + 536 q^{28} + 630 q^{29} + 720 q^{30} + 832 q^{31} + 980 q^{32} + 1140 q^{33} + 1300 q^{34} + 1492 q^{35} + 1738 q^{36} + 2006 q^{37} + 2278 q^{38} + 2600 q^{39} + 3002 q^{40} + 3440 q^{41} + 3892 q^{42} + 4422 q^{43} + 5066 q^{44} + 5770 q^{45} + 6508 q^{46} + 7360 q^{47} + 8378 q^{48} + 9494 q^{49} + 10672 q^{50} + 12020 q^{51} + 13610 q^{52} + 15350 q^{53} + 17200 q^{54} + 19304 q^{55} + 21752 q^{56} + 24432 q^{57} + 27298 q^{58} + 30534 q^{59} + 34260 q^{60} + 38342 q^{61} + 42720 q^{62} + 47636 q^{63} + 53252 q^{64} + 59396 q^{65} + 66004 q^{66} + 73394 q^{67} + 81768 q^{68} + 90924 q^{69} + 100796 q^{70} + 111784 q^{71} + 124158 q^{72} + 137680 q^{73} + 152274 q^{74} + 168458 q^{75} + 186590 q^{76} + 206380 q^{77} + 227756 q^{78} + 251392 q^{79} + 277738 q^{80} + 306466 q^{81} + 337520 q^{82} + 371746 q^{83} + 409740 q^{84} + 451132 q^{85} + 495878 q^{86} + 545064 q^{87} + 599470 q^{88} + 658672 q^{89} + 722670 q^{90} + 792860 q^{91} + 870232 q^{92} + 954336 q^{93} + 1045248 q^{94} + 1144724 q^{95} + 1254058 q^{96} + 1372788 q^{97} + 1501078 q^{98} + 1641170 q^{99} + 1794746 q^{100} + 1961334 q^{101} + 2141260 q^{102} + 2337384 q^{103} + 2551854 q^{104} + 2784256 q^{105} + 3035154 q^{106} + 3308150 q^{107} + 3606032 q^{108} + 3928502 q^{109} + 4276428 q^{110} + 4654388 q^{111} + 5065992 q^{112} + 5511108 q^{113} + 5991072 q^{114} + 6511700 q^{115} + 7077610 q^{116} + 7688998 q^{117} + 8347846 q^{118} + 9061488 q^{119} + 9835884 q^{120} + 10671728 q^{121} + 11571842 q^{122} + 12545520 q^{123} + 13600448 q^{124} + 14738000 q^{125} + 15962192 q^{126} + 17284800 q^{127} + 18715652 q^{128} + 20257172 q^{129} + 21914980 q^{130} + 23703922 q^{131} + 25636632 q^{132} + 27717004 q^{133} + 29952742 q^{134} + 32362624 q^{135} + 34962872 q^{136} + 37759344 q^{137} + 40762580 q^{138} + 43996326 q^{139} + 47481292 q^{140} + 51226112 q^{141} + 55245068 q^{142} + 59568076 q^{143} + 64221654 q^{144} + 69218180 q^{145} + 74576768 q^{146} + 80335190 q^{147} + 86527342 q^{148} + 93170534 q^{149} + 100290282 q^{150} + 107934248 q^{151} + 116145594 q^{152} + 124948288 q^{153} + 134376180 q^{154} + 144489248 q^{155} + 155342520 q^{156} + 166968742 q^{157} + 179412448 q^{158} + 192749204 q^{159} + 207049050 q^{160} + 222356136 q^{161} + 238728898 q^{162} + 256262466 q^{163} + 275045728 q^{164} + 295137836 q^{165} + 316615110 q^{166} + 339597064 q^{167} + 364196516 q^{168} + 390492080 q^{169} + 418582852 q^{170} + 448619034 q^{171} + 480743594 q^{172} + 515060134 q^{173} + 551697004 q^{174} + 590842804 q^{175} + 632678270 q^{176} + 677339316 q^{177} + 724991552 q^{178} + 775871394 q^{179} + 830207206 q^{180} + 888176294 q^{181} + 949991420 q^{182} + 1015948872 q^{183} + 1086336760 q^{184} + 1161385040 q^{185} + 1241366400 q^{186} + 1326651804 q^{187} + 1417603968 q^{188} + 1514520064 q^{189} + 1617748496 q^{190} + 1727753024 q^{191} + 1844989898 q^{192} + 1969841524 q^{193} + 2102751540 q^{194} + 2244299380 q^{195} + 2395058092 q^{196} + 2555517638 q^{197} + 2726241654 q^{198} + 2907953352 q^{199} + O(q^{200})\\]</html>"
      ],
      "text/latex": [
       "$$\\newcommand{\\Bold}[1]{\\mathbf{#1}}1 + 2 q + 2 q^{2} + 2 q^{3} + 4 q^{4} + 6 q^{5} + 6 q^{6} + 8 q^{7} + 12 q^{8} + 16 q^{9} + 18 q^{10} + 22 q^{11} + 30 q^{12} + 38 q^{13} + 44 q^{14} + 52 q^{15} + 68 q^{16} + 84 q^{17} + 96 q^{18} + 114 q^{19} + 142 q^{20} + 172 q^{21} + 198 q^{22} + 232 q^{23} + 282 q^{24} + 336 q^{25} + 386 q^{26} + 448 q^{27} + 536 q^{28} + 630 q^{29} + 720 q^{30} + 832 q^{31} + 980 q^{32} + 1140 q^{33} + 1300 q^{34} + 1492 q^{35} + 1738 q^{36} + 2006 q^{37} + 2278 q^{38} + 2600 q^{39} + 3002 q^{40} + 3440 q^{41} + 3892 q^{42} + 4422 q^{43} + 5066 q^{44} + 5770 q^{45} + 6508 q^{46} + 7360 q^{47} + 8378 q^{48} + 9494 q^{49} + 10672 q^{50} + 12020 q^{51} + 13610 q^{52} + 15350 q^{53} + 17200 q^{54} + 19304 q^{55} + 21752 q^{56} + 24432 q^{57} + 27298 q^{58} + 30534 q^{59} + 34260 q^{60} + 38342 q^{61} + 42720 q^{62} + 47636 q^{63} + 53252 q^{64} + 59396 q^{65} + 66004 q^{66} + 73394 q^{67} + 81768 q^{68} + 90924 q^{69} + 100796 q^{70} + 111784 q^{71} + 124158 q^{72} + 137680 q^{73} + 152274 q^{74} + 168458 q^{75} + 186590 q^{76} + 206380 q^{77} + 227756 q^{78} + 251392 q^{79} + 277738 q^{80} + 306466 q^{81} + 337520 q^{82} + 371746 q^{83} + 409740 q^{84} + 451132 q^{85} + 495878 q^{86} + 545064 q^{87} + 599470 q^{88} + 658672 q^{89} + 722670 q^{90} + 792860 q^{91} + 870232 q^{92} + 954336 q^{93} + 1045248 q^{94} + 1144724 q^{95} + 1254058 q^{96} + 1372788 q^{97} + 1501078 q^{98} + 1641170 q^{99} + 1794746 q^{100} + 1961334 q^{101} + 2141260 q^{102} + 2337384 q^{103} + 2551854 q^{104} + 2784256 q^{105} + 3035154 q^{106} + 3308150 q^{107} + 3606032 q^{108} + 3928502 q^{109} + 4276428 q^{110} + 4654388 q^{111} + 5065992 q^{112} + 5511108 q^{113} + 5991072 q^{114} + 6511700 q^{115} + 7077610 q^{116} + 7688998 q^{117} + 8347846 q^{118} + 9061488 q^{119} + 9835884 q^{120} + 10671728 q^{121} + 11571842 q^{122} + 12545520 q^{123} + 13600448 q^{124} + 14738000 q^{125} + 15962192 q^{126} + 17284800 q^{127} + 18715652 q^{128} + 20257172 q^{129} + 21914980 q^{130} + 23703922 q^{131} + 25636632 q^{132} + 27717004 q^{133} + 29952742 q^{134} + 32362624 q^{135} + 34962872 q^{136} + 37759344 q^{137} + 40762580 q^{138} + 43996326 q^{139} + 47481292 q^{140} + 51226112 q^{141} + 55245068 q^{142} + 59568076 q^{143} + 64221654 q^{144} + 69218180 q^{145} + 74576768 q^{146} + 80335190 q^{147} + 86527342 q^{148} + 93170534 q^{149} + 100290282 q^{150} + 107934248 q^{151} + 116145594 q^{152} + 124948288 q^{153} + 134376180 q^{154} + 144489248 q^{155} + 155342520 q^{156} + 166968742 q^{157} + 179412448 q^{158} + 192749204 q^{159} + 207049050 q^{160} + 222356136 q^{161} + 238728898 q^{162} + 256262466 q^{163} + 275045728 q^{164} + 295137836 q^{165} + 316615110 q^{166} + 339597064 q^{167} + 364196516 q^{168} + 390492080 q^{169} + 418582852 q^{170} + 448619034 q^{171} + 480743594 q^{172} + 515060134 q^{173} + 551697004 q^{174} + 590842804 q^{175} + 632678270 q^{176} + 677339316 q^{177} + 724991552 q^{178} + 775871394 q^{179} + 830207206 q^{180} + 888176294 q^{181} + 949991420 q^{182} + 1015948872 q^{183} + 1086336760 q^{184} + 1161385040 q^{185} + 1241366400 q^{186} + 1326651804 q^{187} + 1417603968 q^{188} + 1514520064 q^{189} + 1617748496 q^{190} + 1727753024 q^{191} + 1844989898 q^{192} + 1969841524 q^{193} + 2102751540 q^{194} + 2244299380 q^{195} + 2395058092 q^{196} + 2555517638 q^{197} + 2726241654 q^{198} + 2907953352 q^{199} + O(q^{200})$$"
      ],
      "text/plain": [
       "1 + 2*q + 2*q^2 + 2*q^3 + 4*q^4 + 6*q^5 + 6*q^6 + 8*q^7 + 12*q^8 + 16*q^9 + 18*q^10 + 22*q^11 + 30*q^12 + 38*q^13 + 44*q^14 + 52*q^15 + 68*q^16 + 84*q^17 + 96*q^18 + 114*q^19 + 142*q^20 + 172*q^21 + 198*q^22 + 232*q^23 + 282*q^24 + 336*q^25 + 386*q^26 + 448*q^27 + 536*q^28 + 630*q^29 + 720*q^30 + 832*q^31 + 980*q^32 + 1140*q^33 + 1300*q^34 + 1492*q^35 + 1738*q^36 + 2006*q^37 + 2278*q^38 + 2600*q^39 + 3002*q^40 + 3440*q^41 + 3892*q^42 + 4422*q^43 + 5066*q^44 + 5770*q^45 + 6508*q^46 + 7360*q^47 + 8378*q^48 + 9494*q^49 + 10672*q^50 + 12020*q^51 + 13610*q^52 + 15350*q^53 + 17200*q^54 + 19304*q^55 + 21752*q^56 + 24432*q^57 + 27298*q^58 + 30534*q^59 + 34260*q^60 + 38342*q^61 + 42720*q^62 + 47636*q^63 + 53252*q^64 + 59396*q^65 + 66004*q^66 + 73394*q^67 + 81768*q^68 + 90924*q^69 + 100796*q^70 + 111784*q^71 + 124158*q^72 + 137680*q^73 + 152274*q^74 + 168458*q^75 + 186590*q^76 + 206380*q^77 + 227756*q^78 + 251392*q^79 + 277738*q^80 + 306466*q^81 + 337520*q^82 + 371746*q^83 + 409740*q^84 + 451132*q^85 + 495878*q^86 + 545064*q^87 + 599470*q^88 + 658672*q^89 + 722670*q^90 + 792860*q^91 + 870232*q^92 + 954336*q^93 + 1045248*q^94 + 1144724*q^95 + 1254058*q^96 + 1372788*q^97 + 1501078*q^98 + 1641170*q^99 + 1794746*q^100 + 1961334*q^101 + 2141260*q^102 + 2337384*q^103 + 2551854*q^104 + 2784256*q^105 + 3035154*q^106 + 3308150*q^107 + 3606032*q^108 + 3928502*q^109 + 4276428*q^110 + 4654388*q^111 + 5065992*q^112 + 5511108*q^113 + 5991072*q^114 + 6511700*q^115 + 7077610*q^116 + 7688998*q^117 + 8347846*q^118 + 9061488*q^119 + 9835884*q^120 + 10671728*q^121 + 11571842*q^122 + 12545520*q^123 + 13600448*q^124 + 14738000*q^125 + 15962192*q^126 + 17284800*q^127 + 18715652*q^128 + 20257172*q^129 + 21914980*q^130 + 23703922*q^131 + 25636632*q^132 + 27717004*q^133 + 29952742*q^134 + 32362624*q^135 + 34962872*q^136 + 37759344*q^137 + 40762580*q^138 + 43996326*q^139 + 47481292*q^140 + 51226112*q^141 + 55245068*q^142 + 59568076*q^143 + 64221654*q^144 + 69218180*q^145 + 74576768*q^146 + 80335190*q^147 + 86527342*q^148 + 93170534*q^149 + 100290282*q^150 + 107934248*q^151 + 116145594*q^152 + 124948288*q^153 + 134376180*q^154 + 144489248*q^155 + 155342520*q^156 + 166968742*q^157 + 179412448*q^158 + 192749204*q^159 + 207049050*q^160 + 222356136*q^161 + 238728898*q^162 + 256262466*q^163 + 275045728*q^164 + 295137836*q^165 + 316615110*q^166 + 339597064*q^167 + 364196516*q^168 + 390492080*q^169 + 418582852*q^170 + 448619034*q^171 + 480743594*q^172 + 515060134*q^173 + 551697004*q^174 + 590842804*q^175 + 632678270*q^176 + 677339316*q^177 + 724991552*q^178 + 775871394*q^179 + 830207206*q^180 + 888176294*q^181 + 949991420*q^182 + 1015948872*q^183 + 1086336760*q^184 + 1161385040*q^185 + 1241366400*q^186 + 1326651804*q^187 + 1417603968*q^188 + 1514520064*q^189 + 1617748496*q^190 + 1727753024*q^191 + 1844989898*q^192 + 1969841524*q^193 + 2102751540*q^194 + 2244299380*q^195 + 2395058092*q^196 + 2555517638*q^197 + 2726241654*q^198 + 2907953352*q^199 + O(q^200)"
      ]
     },
     "execution_count": 65,
     "metadata": {},
     "output_type": "execute_result"
    }
   ],
   "source": [
    "((f_q_q7/f_nq_nq7) * (f8^3 / (f4^2 * f16))).add_bigoh(200)"
   ]
  },
  {
   "cell_type": "code",
   "execution_count": null,
   "id": "ab5d5256",
   "metadata": {},
   "outputs": [],
   "source": []
  }
 ],
 "metadata": {
  "kernelspec": {
   "display_name": "SageMath 9.5",
   "language": "sage",
   "name": "sagemath"
  },
  "language_info": {
   "codemirror_mode": {
    "name": "ipython",
    "version": 3
   },
   "file_extension": ".py",
   "mimetype": "text/x-python",
   "name": "python",
   "nbconvert_exporter": "python",
   "pygments_lexer": "ipython3",
   "version": "3.9.9"
  }
 },
 "nbformat": 4,
 "nbformat_minor": 5
}
