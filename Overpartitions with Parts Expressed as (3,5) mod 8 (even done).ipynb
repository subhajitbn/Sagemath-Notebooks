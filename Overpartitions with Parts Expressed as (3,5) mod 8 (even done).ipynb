{
 "cells": [
  {
   "cell_type": "markdown",
   "id": "d75a000e",
   "metadata": {},
   "source": [
    "# Ramanujan's Theta Functions\n",
    "\n",
    "## Definitions\n",
    "\n",
    "Let $a$ and $b$ be integers. Then we define \n",
    "$$\n",
    "f(a,b) := (-q^a;q^{a+b})_{\\infty}(-q^b;q^{a+b})_{\\infty}(q^{a+b};q^{a+b})_{\\infty}.\n",
    "$$\n",
    "\n",
    "For the ease of programming, we break the above into two different functions defined below.\n",
    "\n",
    "$$\n",
    "sf(a,b) :=  (-q^a;q^{a+b})_{\\infty}\n",
    "$$\n",
    "and\n",
    "$$\n",
    "f_n := (q^{n};q^{n})_{\\infty}.\n",
    "$$\n",
    "\n",
    "This implies,\n",
    "\n",
    "$$\n",
    "f(a,b) \\quad = \\quad sf(a,b) \\; sf(b,a) \\; f_{a+b}.\n",
    "$$\n",
    "\n",
    "Note that, to avoid confusion, we rename $f(a,b)$ to $ftheta(a,b)$ and $f_n$ to $f(n)$ in the following code. "
   ]
  },
  {
   "cell_type": "code",
   "execution_count": 2,
   "id": "e269b40b",
   "metadata": {},
   "outputs": [],
   "source": [
    "%display latex"
   ]
  },
  {
   "cell_type": "code",
   "execution_count": 3,
   "id": "3a4e2988",
   "metadata": {},
   "outputs": [],
   "source": [
    "from sage.modular.etaproducts import qexp_eta\n",
    "from math import floor\n",
    "import numpy as np"
   ]
  },
  {
   "cell_type": "code",
   "execution_count": 4,
   "id": "98f0c306",
   "metadata": {},
   "outputs": [],
   "source": [
    "R.<q> = PowerSeriesRing(ZZ)\n",
    "f1 = qexp_eta(ZZ[['q']], 1000)\n",
    "\n",
    "def sf(a, b):\n",
    "    top = floor((1000-a)/(a+b))\n",
    "    base = 1\n",
    "    for r in range(0,top):\n",
    "        next_term = 1 + q^(a+r*(a+b))\n",
    "        base = base * next_term\n",
    "    return base + O(q^1000)\n",
    "\n",
    "def f(n):\n",
    "    return f1.V(n)\n",
    "\n",
    "def ftheta(a,b):\n",
    "    return sf(a,b)*sf(b,a)*f(a+b)"
   ]
  },
  {
   "cell_type": "code",
   "execution_count": 5,
   "id": "ad0d0486",
   "metadata": {},
   "outputs": [
    {
     "data": {
      "text/html": [
       "<html>\\[\\newcommand{\\Bold}[1]{\\mathbf{#1}}1 +  q^{3} +  q^{5} +  q^{14} +  q^{18} +  q^{33} +  q^{39} +  q^{60} +  q^{68} +  q^{95} +  q^{105} +  q^{138} +  q^{150} +  q^{189} +  q^{203} +  q^{248} +  q^{264} +  q^{315} +  q^{333} +  q^{390} +  q^{410} +  q^{473} +  q^{495} +  q^{564} +  q^{588} +  q^{663} +  q^{689} +  q^{770} +  q^{798} +  q^{885} +  q^{915} -  q^{995} -  q^{997} -  q^{998} + O(q^{1000})\\]</html>"
      ],
      "text/latex": [
       "$$\\newcommand{\\Bold}[1]{\\mathbf{#1}}1 +  q^{3} +  q^{5} +  q^{14} +  q^{18} +  q^{33} +  q^{39} +  q^{60} +  q^{68} +  q^{95} +  q^{105} +  q^{138} +  q^{150} +  q^{189} +  q^{203} +  q^{248} +  q^{264} +  q^{315} +  q^{333} +  q^{390} +  q^{410} +  q^{473} +  q^{495} +  q^{564} +  q^{588} +  q^{663} +  q^{689} +  q^{770} +  q^{798} +  q^{885} +  q^{915} -  q^{995} -  q^{997} -  q^{998} + O(q^{1000})$$"
      ],
      "text/plain": [
       "1 + q^3 + q^5 + q^14 + q^18 + q^33 + q^39 + q^60 + q^68 + q^95 + q^105 + q^138 + q^150 + q^189 + q^203 + q^248 + q^264 + q^315 + q^333 + q^390 + q^410 + q^473 + q^495 + q^564 + q^588 + q^663 + q^689 + q^770 + q^798 + q^885 + q^915 - q^995 - q^997 - q^998 + O(q^1000)"
      ]
     },
     "execution_count": 5,
     "metadata": {},
     "output_type": "execute_result"
    }
   ],
   "source": [
    "f_q3_q5 = ftheta(3,5)\n",
    "f_q3_q5"
   ]
  },
  {
   "cell_type": "code",
   "execution_count": 6,
   "id": "6a2517bc",
   "metadata": {},
   "outputs": [
    {
     "data": {
      "text/html": [
       "<html>\\[\\newcommand{\\Bold}[1]{\\mathbf{#1}}1 -  q^{3} -  q^{5} +  q^{14} +  q^{18} -  q^{33} -  q^{39} +  q^{60} +  q^{68} -  q^{95} -  q^{105} +  q^{138} +  q^{150} -  q^{189} -  q^{203} +  q^{248} +  q^{264} -  q^{315} -  q^{333} +  q^{390} +  q^{410} -  q^{473} -  q^{495} +  q^{564} +  q^{588} -  q^{663} -  q^{689} +  q^{770} +  q^{798} -  q^{885} -  q^{915} +  q^{995} +  q^{997} -  q^{998} + O(q^{1000})\\]</html>"
      ],
      "text/latex": [
       "$$\\newcommand{\\Bold}[1]{\\mathbf{#1}}1 -  q^{3} -  q^{5} +  q^{14} +  q^{18} -  q^{33} -  q^{39} +  q^{60} +  q^{68} -  q^{95} -  q^{105} +  q^{138} +  q^{150} -  q^{189} -  q^{203} +  q^{248} +  q^{264} -  q^{315} -  q^{333} +  q^{390} +  q^{410} -  q^{473} -  q^{495} +  q^{564} +  q^{588} -  q^{663} -  q^{689} +  q^{770} +  q^{798} -  q^{885} -  q^{915} +  q^{995} +  q^{997} -  q^{998} + O(q^{1000})$$"
      ],
      "text/plain": [
       "1 - q^3 - q^5 + q^14 + q^18 - q^33 - q^39 + q^60 + q^68 - q^95 - q^105 + q^138 + q^150 - q^189 - q^203 + q^248 + q^264 - q^315 - q^333 + q^390 + q^410 - q^473 - q^495 + q^564 + q^588 - q^663 - q^689 + q^770 + q^798 - q^885 - q^915 + q^995 + q^997 - q^998 + O(q^1000)"
      ]
     },
     "execution_count": 6,
     "metadata": {},
     "output_type": "execute_result"
    }
   ],
   "source": [
    "coefficients_list = f_q3_q5.list()\n",
    "\n",
    "def isodd(number):\n",
    "    return number % 2 == 1\n",
    "\n",
    "for i in range(len(coefficients_list)):\n",
    "    if isodd(i):\n",
    "        coefficients_list[i] = -coefficients_list[i]\n",
    "\n",
    "f_nq3_nq5 = R(coefficients_list, 1000)\n",
    "f_nq3_nq5"
   ]
  },
  {
   "cell_type": "code",
   "execution_count": 7,
   "id": "467201d2",
   "metadata": {},
   "outputs": [],
   "source": [
    "op35 = (((f_q3_q5/f_nq3_nq5)).list())[:800]"
   ]
  },
  {
   "cell_type": "code",
   "execution_count": 8,
   "id": "2ae1b68b",
   "metadata": {},
   "outputs": [],
   "source": [
    "myarr_0_mod_2 = []\n",
    "for i in range(120):\n",
    "    myarr_0_mod_2.append(op35[2*i])\n",
    "\n",
    "myarr_1_mod_2 = []\n",
    "for i in range(120):\n",
    "    myarr_1_mod_2.append(op35[2*i+1])\n",
    "\n",
    "myarr_0_mod_4 = []\n",
    "for i in range(60):\n",
    "    myarr_0_mod_4.append(op35[4*i])\n",
    "    \n",
    "myarr_1_mod_4 = []\n",
    "for i in range(60):\n",
    "    myarr_1_mod_4.append(op35[4*i+1])\n",
    "\n",
    "myarr_2_mod_4 = []\n",
    "for i in range(60):\n",
    "    myarr_2_mod_4.append(op35[4*i+2])\n",
    "    \n",
    "myarr_3_mod_4 = []\n",
    "for i in range(60):\n",
    "    myarr_3_mod_4.append(op35[4*i+3])\n",
    "\n",
    "myarr_0_mod_8 = []\n",
    "for i in range(30):\n",
    "    myarr_0_mod_8.append(op35[8*i])\n",
    "    \n",
    "myarr_1_mod_8 = []\n",
    "for i in range(30):\n",
    "    myarr_1_mod_8.append(op35[8*i+1])\n",
    "    \n",
    "myarr_2_mod_8 = []\n",
    "for i in range(30):\n",
    "    myarr_2_mod_8.append(op35[8*i+2])\n",
    "    \n",
    "myarr_3_mod_8 = []\n",
    "for i in range(30):\n",
    "    myarr_3_mod_8.append(op35[8*i+3])\n",
    "    \n",
    "myarr_4_mod_8 = []\n",
    "for i in range(30):\n",
    "    myarr_4_mod_8.append(op35[8*i+4])\n",
    "    \n",
    "myarr_5_mod_8 = []\n",
    "for i in range(30):\n",
    "    myarr_5_mod_8.append(op35[8*i+5])\n",
    "    \n",
    "myarr_6_mod_8 = []\n",
    "for i in range(30):\n",
    "    myarr_6_mod_8.append(op35[8*i+6])\n",
    "    \n",
    "myarr_7_mod_8 = []\n",
    "for i in range(30):\n",
    "    myarr_7_mod_8.append(op35[8*i+7])\n",
    "\n",
    "myarr_0_mod_16 = []\n",
    "for i in range(15):\n",
    "    myarr_0_mod_16.append(op35[16*i])\n",
    "    \n",
    "myarr_1_mod_16 = []\n",
    "for i in range(15):\n",
    "    myarr_1_mod_16.append(op35[16*i+1])\n",
    "    \n",
    "myarr_2_mod_16 = []\n",
    "for i in range(15):\n",
    "    myarr_2_mod_16.append(op35[16*i+2])\n",
    "    \n",
    "myarr_3_mod_16 = []\n",
    "for i in range(15):\n",
    "    myarr_3_mod_16.append(op35[16*i+3])\n",
    "    \n",
    "myarr_4_mod_16 = []\n",
    "for i in range(15):\n",
    "    myarr_4_mod_16.append(op35[16*i+4])\n",
    "    \n",
    "myarr_5_mod_16 = []\n",
    "for i in range(15):\n",
    "    myarr_5_mod_16.append(op35[16*i+5])\n",
    "    \n",
    "myarr_6_mod_16 = []\n",
    "for i in range(15):\n",
    "    myarr_6_mod_16.append(op35[16*i+6])\n",
    "    \n",
    "myarr_7_mod_16 = []\n",
    "for i in range(15):\n",
    "    myarr_7_mod_16.append(op35[16*i+7])\n",
    "    \n",
    "myarr_8_mod_16 = []\n",
    "for i in range(15):\n",
    "    myarr_8_mod_16.append(op35[16*i+8])\n",
    "    \n",
    "myarr_9_mod_16 = []\n",
    "for i in range(15):\n",
    "    myarr_9_mod_16.append(op35[16*i+9])\n",
    "    \n",
    "myarr_10_mod_16 = []\n",
    "for i in range(15):\n",
    "    myarr_10_mod_16.append(op35[16*i+10])\n",
    "    \n",
    "myarr_11_mod_16 = []\n",
    "for i in range(15):\n",
    "    myarr_11_mod_16.append(op35[16*i+11])\n",
    "    \n",
    "myarr_12_mod_16 = []\n",
    "for i in range(15):\n",
    "    myarr_12_mod_16.append(op35[16*i+12])\n",
    "    \n",
    "myarr_13_mod_16 = []\n",
    "for i in range(15):\n",
    "    myarr_13_mod_16.append(op35[16*i+13])\n",
    "    \n",
    "myarr_14_mod_16 = []\n",
    "for i in range(15):\n",
    "    myarr_14_mod_16.append(op35[16*i+14])\n",
    "    \n",
    "myarr_15_mod_16 = []\n",
    "for i in range(15):\n",
    "    myarr_15_mod_16.append(op35[16*i+15])\n",
    "\n",
    "myarr_0_mod_32 = []\n",
    "for i in range(10):\n",
    "    myarr_0_mod_32.append(op35[32*i+0])\n",
    "    \n",
    "myarr_1_mod_32 = []\n",
    "for i in range(10):\n",
    "    myarr_1_mod_32.append(op35[32*i+1])\n",
    "    \n",
    "myarr_2_mod_32 = []\n",
    "for i in range(10):\n",
    "    myarr_2_mod_32.append(op35[32*i+2])\n",
    "    \n",
    "myarr_3_mod_32 = []\n",
    "for i in range(8):\n",
    "    myarr_3_mod_32.append(op35[32*i+3])\n",
    "    \n",
    "myarr_4_mod_32 = []\n",
    "for i in range(10):\n",
    "    myarr_4_mod_32.append(op35[32*i+4])\n",
    "    \n",
    "myarr_5_mod_32 = []\n",
    "for i in range(8):\n",
    "    myarr_5_mod_32.append(op35[32*i+5])\n",
    "    \n",
    "myarr_6_mod_32 = []\n",
    "for i in range(10):\n",
    "    myarr_6_mod_32.append(op35[32*i+6])\n",
    "    \n",
    "myarr_7_mod_32 = []\n",
    "for i in range(8):\n",
    "    myarr_7_mod_32.append(op35[32*i+7])\n",
    "    \n",
    "myarr_8_mod_32 = []\n",
    "for i in range(10):\n",
    "    myarr_8_mod_32.append(op35[32*i+8])\n",
    "    \n",
    "myarr_9_mod_32 = []\n",
    "for i in range(8):\n",
    "    myarr_9_mod_32.append(op35[32*i+9])\n",
    "\n",
    "myarr_10_mod_32 = []\n",
    "for i in range(8):\n",
    "    myarr_10_mod_32.append(op35[32*i+10])\n",
    "    \n",
    "myarr_11_mod_32 = []\n",
    "for i in range(8):\n",
    "    myarr_11_mod_32.append(op35[32*i+11])\n",
    "    \n",
    "myarr_12_mod_32 = []\n",
    "for i in range(8):\n",
    "    myarr_12_mod_32.append(op35[32*i+12])\n",
    "    \n",
    "myarr_13_mod_32 = []\n",
    "for i in range(8):\n",
    "    myarr_13_mod_32.append(op35[32*i+13])\n",
    "    \n",
    "myarr_14_mod_32 = []\n",
    "for i in range(8):\n",
    "    myarr_14_mod_32.append(op35[32*i+14])\n",
    "    \n",
    "myarr_15_mod_32 = []\n",
    "for i in range(8):\n",
    "    myarr_15_mod_32.append(op35[32*i+15])\n",
    "    \n",
    "myarr_16_mod_32 = []\n",
    "for i in range(8):\n",
    "    myarr_16_mod_32.append(op35[32*i+16])\n",
    "    \n",
    "myarr_17_mod_32 = []\n",
    "for i in range(9):\n",
    "    myarr_17_mod_32.append(op35[32*i+17])\n",
    "    \n",
    "myarr_18_mod_32 = []\n",
    "for i in range(8):\n",
    "    myarr_18_mod_32.append(op35[32*i+18])\n",
    "    \n",
    "myarr_19_mod_32 = []\n",
    "for i in range(8):\n",
    "    myarr_19_mod_32.append(op35[32*i+19])\n",
    "    \n",
    "myarr_20_mod_32 = []\n",
    "for i in range(8):\n",
    "    myarr_20_mod_32.append(op35[32*i+20])\n",
    "    \n",
    "myarr_21_mod_32 = []\n",
    "for i in range(8):\n",
    "    myarr_21_mod_32.append(op35[32*i+21])\n",
    "    \n",
    "myarr_22_mod_32 = []\n",
    "for i in range(8):\n",
    "    myarr_22_mod_32.append(op35[32*i+22])\n",
    "    \n",
    "myarr_23_mod_32 = []\n",
    "for i in range(8):\n",
    "    myarr_23_mod_32.append(op35[32*i+23])\n",
    "    \n",
    "myarr_24_mod_32 = []\n",
    "for i in range(8):\n",
    "    myarr_24_mod_32.append(op35[32*i+24])\n",
    "    \n",
    "myarr_25_mod_32 = []\n",
    "for i in range(8):\n",
    "    myarr_25_mod_32.append(op35[32*i+25])\n",
    "    \n",
    "myarr_26_mod_32 = []\n",
    "for i in range(8):\n",
    "    myarr_26_mod_32.append(op35[32*i+26])\n",
    "    \n",
    "myarr_27_mod_32 = []\n",
    "for i in range(8):\n",
    "    myarr_27_mod_32.append(op35[32*i+27])\n",
    "    \n",
    "myarr_28_mod_32 = []\n",
    "for i in range(8):\n",
    "    myarr_28_mod_32.append(op35[32*i+28])\n",
    "    \n",
    "myarr_29_mod_32 = []\n",
    "for i in range(8):\n",
    "    myarr_29_mod_32.append(op35[32*i+29])\n",
    "    \n",
    "myarr_30_mod_32 = []\n",
    "for i in range(8):\n",
    "    myarr_30_mod_32.append(op35[32*i+30])\n",
    "    \n",
    "myarr_31_mod_32 = []\n",
    "for i in range(8):\n",
    "    myarr_31_mod_32.append(op35[32*i+31])\n",
    "        \n",
    "myarr_7_mod_64 = []\n",
    "for i in range(8):\n",
    "    myarr_7_mod_64.append(op35[64*i+7])\n",
    "    \n",
    "myarr_23_mod_64 = []\n",
    "for i in range(8):\n",
    "    myarr_23_mod_64.append(op35[64*i+23])\n",
    "    \n",
    "myarr_39_mod_64 = []\n",
    "for i in range(8):\n",
    "    myarr_39_mod_64.append(op35[64*i+39])\n",
    "    \n",
    "myarr_55_mod_64 = []\n",
    "for i in range(8):\n",
    "    myarr_55_mod_64.append(op35[64*i+55])\n",
    "    \n",
    "myarr_2_mod_64 = []\n",
    "for i in range(8):\n",
    "    myarr_2_mod_64.append(op35[64*i+2])\n",
    "    \n",
    "myarr_34_mod_64 = []\n",
    "for i in range(8):\n",
    "    myarr_34_mod_64.append(op35[64*i+34])"
   ]
  },
  {
   "cell_type": "code",
   "execution_count": 9,
   "id": "7996e06e",
   "metadata": {},
   "outputs": [
    {
     "data": {
      "text/html": [
       "<html>\\[\\newcommand{\\Bold}[1]{\\mathbf{#1}}\\begin{array}{l}\n",
       "\\verb|[False|\\verb|  |\\verb|True|\\verb|  |\\verb|True|\\verb|  |\\verb|True|\\verb|  |\\verb|True|\\verb|  |\\verb|True|\\verb|  |\\verb|True|\\verb|  |\\verb|True|\\verb|  |\\verb|True|\\verb|  |\\verb|True|\\verb|  |\\verb|True|\\verb|  |\\verb|True|\\\\\n",
       "\\verb|  |\\verb|True|\\verb|  |\\verb|True|\\verb|  |\\verb|True|\\verb|  |\\verb|True|\\verb|  |\\verb|True|\\verb|  |\\verb|True|\\verb|  |\\verb|True|\\verb|  |\\verb|True|\\verb|  |\\verb|True|\\verb|  |\\verb|True|\\verb|  |\\verb|True|\\verb|  |\\verb|True|\\\\\n",
       "\\verb|  |\\verb|True|\\verb|  |\\verb|True|\\verb|  |\\verb|True|\\verb|  |\\verb|True|\\verb|  |\\verb|True|\\verb|  |\\verb|True|\\verb|  |\\verb|True|\\verb|  |\\verb|True|\\verb|  |\\verb|True|\\verb|  |\\verb|True|\\verb|  |\\verb|True|\\verb|  |\\verb|True|\\\\\n",
       "\\verb|  |\\verb|True|\\verb|  |\\verb|True|\\verb|  |\\verb|True|\\verb|  |\\verb|True|\\verb|  |\\verb|True|\\verb|  |\\verb|True|\\verb|  |\\verb|True|\\verb|  |\\verb|True|\\verb|  |\\verb|True|\\verb|  |\\verb|True|\\verb|  |\\verb|True|\\verb|  |\\verb|True|\\\\\n",
       "\\verb|  |\\verb|True|\\verb|  |\\verb|True|\\verb|  |\\verb|True|\\verb|  |\\verb|True|\\verb|  |\\verb|True|\\verb|  |\\verb|True|\\verb|  |\\verb|True|\\verb|  |\\verb|True|\\verb|  |\\verb|True|\\verb|  |\\verb|True|\\verb|  |\\verb|True|\\verb|  |\\verb|True|\\\\\n",
       "\\verb|  |\\verb|True|\\verb|  |\\verb|True|\\verb|  |\\verb|True|\\verb|  |\\verb|True|\\verb|  |\\verb|True|\\verb|  |\\verb|True|\\verb|  |\\verb|True|\\verb|  |\\verb|True|\\verb|  |\\verb|True|\\verb|  |\\verb|True|\\verb|  |\\verb|True|\\verb|  |\\verb|True|\\\\\n",
       "\\verb|  |\\verb|True|\\verb|  |\\verb|True|\\verb|  |\\verb|True|\\verb|  |\\verb|True|\\verb|  |\\verb|True|\\verb|  |\\verb|True|\\verb|  |\\verb|True|\\verb|  |\\verb|True|\\verb|  |\\verb|True|\\verb|  |\\verb|True|\\verb|  |\\verb|True|\\verb|  |\\verb|True|\\\\\n",
       "\\verb|  |\\verb|True|\\verb|  |\\verb|True|\\verb|  |\\verb|True|\\verb|  |\\verb|True|\\verb|  |\\verb|True|\\verb|  |\\verb|True|\\verb|  |\\verb|True|\\verb|  |\\verb|True|\\verb|  |\\verb|True|\\verb|  |\\verb|True|\\verb|  |\\verb|True|\\verb|  |\\verb|True|\\\\\n",
       "\\verb|  |\\verb|True|\\verb|  |\\verb|True|\\verb|  |\\verb|True|\\verb|  |\\verb|True|\\verb|  |\\verb|True|\\verb|  |\\verb|True|\\verb|  |\\verb|True|\\verb|  |\\verb|True|\\verb|  |\\verb|True|\\verb|  |\\verb|True|\\verb|  |\\verb|True|\\verb|  |\\verb|True|\\\\\n",
       "\\verb|  |\\verb|True|\\verb|  |\\verb|True|\\verb|  |\\verb|True|\\verb|  |\\verb|True|\\verb|  |\\verb|True|\\verb|  |\\verb|True|\\verb|  |\\verb|True|\\verb|  |\\verb|True|\\verb|  |\\verb|True|\\verb|  |\\verb|True|\\verb|  |\\verb|True|\\verb|  |\\verb|True]|\n",
       "\\end{array}\\]</html>"
      ],
      "text/latex": [
       "$$\\newcommand{\\Bold}[1]{\\mathbf{#1}}\\begin{array}{l}\n",
       "\\verb|[False|\\verb|  |\\verb|True|\\verb|  |\\verb|True|\\verb|  |\\verb|True|\\verb|  |\\verb|True|\\verb|  |\\verb|True|\\verb|  |\\verb|True|\\verb|  |\\verb|True|\\verb|  |\\verb|True|\\verb|  |\\verb|True|\\verb|  |\\verb|True|\\verb|  |\\verb|True|\\\\\n",
       "\\verb|  |\\verb|True|\\verb|  |\\verb|True|\\verb|  |\\verb|True|\\verb|  |\\verb|True|\\verb|  |\\verb|True|\\verb|  |\\verb|True|\\verb|  |\\verb|True|\\verb|  |\\verb|True|\\verb|  |\\verb|True|\\verb|  |\\verb|True|\\verb|  |\\verb|True|\\verb|  |\\verb|True|\\\\\n",
       "\\verb|  |\\verb|True|\\verb|  |\\verb|True|\\verb|  |\\verb|True|\\verb|  |\\verb|True|\\verb|  |\\verb|True|\\verb|  |\\verb|True|\\verb|  |\\verb|True|\\verb|  |\\verb|True|\\verb|  |\\verb|True|\\verb|  |\\verb|True|\\verb|  |\\verb|True|\\verb|  |\\verb|True|\\\\\n",
       "\\verb|  |\\verb|True|\\verb|  |\\verb|True|\\verb|  |\\verb|True|\\verb|  |\\verb|True|\\verb|  |\\verb|True|\\verb|  |\\verb|True|\\verb|  |\\verb|True|\\verb|  |\\verb|True|\\verb|  |\\verb|True|\\verb|  |\\verb|True|\\verb|  |\\verb|True|\\verb|  |\\verb|True|\\\\\n",
       "\\verb|  |\\verb|True|\\verb|  |\\verb|True|\\verb|  |\\verb|True|\\verb|  |\\verb|True|\\verb|  |\\verb|True|\\verb|  |\\verb|True|\\verb|  |\\verb|True|\\verb|  |\\verb|True|\\verb|  |\\verb|True|\\verb|  |\\verb|True|\\verb|  |\\verb|True|\\verb|  |\\verb|True|\\\\\n",
       "\\verb|  |\\verb|True|\\verb|  |\\verb|True|\\verb|  |\\verb|True|\\verb|  |\\verb|True|\\verb|  |\\verb|True|\\verb|  |\\verb|True|\\verb|  |\\verb|True|\\verb|  |\\verb|True|\\verb|  |\\verb|True|\\verb|  |\\verb|True|\\verb|  |\\verb|True|\\verb|  |\\verb|True|\\\\\n",
       "\\verb|  |\\verb|True|\\verb|  |\\verb|True|\\verb|  |\\verb|True|\\verb|  |\\verb|True|\\verb|  |\\verb|True|\\verb|  |\\verb|True|\\verb|  |\\verb|True|\\verb|  |\\verb|True|\\verb|  |\\verb|True|\\verb|  |\\verb|True|\\verb|  |\\verb|True|\\verb|  |\\verb|True|\\\\\n",
       "\\verb|  |\\verb|True|\\verb|  |\\verb|True|\\verb|  |\\verb|True|\\verb|  |\\verb|True|\\verb|  |\\verb|True|\\verb|  |\\verb|True|\\verb|  |\\verb|True|\\verb|  |\\verb|True|\\verb|  |\\verb|True|\\verb|  |\\verb|True|\\verb|  |\\verb|True|\\verb|  |\\verb|True|\\\\\n",
       "\\verb|  |\\verb|True|\\verb|  |\\verb|True|\\verb|  |\\verb|True|\\verb|  |\\verb|True|\\verb|  |\\verb|True|\\verb|  |\\verb|True|\\verb|  |\\verb|True|\\verb|  |\\verb|True|\\verb|  |\\verb|True|\\verb|  |\\verb|True|\\verb|  |\\verb|True|\\verb|  |\\verb|True|\\\\\n",
       "\\verb|  |\\verb|True|\\verb|  |\\verb|True|\\verb|  |\\verb|True|\\verb|  |\\verb|True|\\verb|  |\\verb|True|\\verb|  |\\verb|True|\\verb|  |\\verb|True|\\verb|  |\\verb|True|\\verb|  |\\verb|True|\\verb|  |\\verb|True|\\verb|  |\\verb|True|\\verb|  |\\verb|True]|\n",
       "\\end{array}$$"
      ],
      "text/plain": [
       "array([False,  True,  True,  True,  True,  True,  True,  True,  True,\n",
       "        True,  True,  True,  True,  True,  True,  True,  True,  True,\n",
       "        True,  True,  True,  True,  True,  True,  True,  True,  True,\n",
       "        True,  True,  True,  True,  True,  True,  True,  True,  True,\n",
       "        True,  True,  True,  True,  True,  True,  True,  True,  True,\n",
       "        True,  True,  True,  True,  True,  True,  True,  True,  True,\n",
       "        True,  True,  True,  True,  True,  True,  True,  True,  True,\n",
       "        True,  True,  True,  True,  True,  True,  True,  True,  True,\n",
       "        True,  True,  True,  True,  True,  True,  True,  True,  True,\n",
       "        True,  True,  True,  True,  True,  True,  True,  True,  True,\n",
       "        True,  True,  True,  True,  True,  True,  True,  True,  True,\n",
       "        True,  True,  True,  True,  True,  True,  True,  True,  True,\n",
       "        True,  True,  True,  True,  True,  True,  True,  True,  True,\n",
       "        True,  True,  True])"
      ]
     },
     "execution_count": 9,
     "metadata": {},
     "output_type": "execute_result"
    }
   ],
   "source": [
    "np.array(myarr_0_mod_2)%2==0"
   ]
  },
  {
   "cell_type": "code",
   "execution_count": 10,
   "id": "f3926644",
   "metadata": {},
   "outputs": [
    {
     "data": {
      "text/html": [
       "<html>\\[\\newcommand{\\Bold}[1]{\\mathbf{#1}}\\begin{array}{l}\n",
       "\\verb|[|\\verb| |\\verb|True|\\verb|  |\\verb|True|\\verb|  |\\verb|True|\\verb|  |\\verb|True|\\verb|  |\\verb|True|\\verb|  |\\verb|True|\\verb|  |\\verb|True|\\verb|  |\\verb|True|\\verb|  |\\verb|True|\\verb|  |\\verb|True|\\verb|  |\\verb|True|\\verb|  |\\verb|True|\\\\\n",
       "\\verb|  |\\verb|True|\\verb|  |\\verb|True|\\verb|  |\\verb|True|\\verb|  |\\verb|True|\\verb|  |\\verb|True|\\verb|  |\\verb|True|\\verb|  |\\verb|True|\\verb|  |\\verb|True|\\verb|  |\\verb|True|\\verb|  |\\verb|True|\\verb|  |\\verb|True|\\verb|  |\\verb|True|\\\\\n",
       "\\verb|  |\\verb|True|\\verb|  |\\verb|True|\\verb|  |\\verb|True|\\verb|  |\\verb|True|\\verb|  |\\verb|True|\\verb|  |\\verb|True|\\verb|  |\\verb|True|\\verb|  |\\verb|True|\\verb|  |\\verb|True|\\verb|  |\\verb|True|\\verb|  |\\verb|True|\\verb|  |\\verb|True|\\\\\n",
       "\\verb|  |\\verb|True|\\verb|  |\\verb|True|\\verb|  |\\verb|True|\\verb|  |\\verb|True|\\verb|  |\\verb|True|\\verb|  |\\verb|True|\\verb|  |\\verb|True|\\verb|  |\\verb|True|\\verb|  |\\verb|True|\\verb|  |\\verb|True|\\verb|  |\\verb|True|\\verb|  |\\verb|True|\\\\\n",
       "\\verb|  |\\verb|True|\\verb|  |\\verb|True|\\verb|  |\\verb|True|\\verb|  |\\verb|True|\\verb|  |\\verb|True|\\verb|  |\\verb|True|\\verb|  |\\verb|True|\\verb|  |\\verb|True|\\verb|  |\\verb|True|\\verb|  |\\verb|True|\\verb|  |\\verb|True|\\verb|  |\\verb|True|\\\\\n",
       "\\verb|  |\\verb|True|\\verb|  |\\verb|True|\\verb|  |\\verb|True|\\verb|  |\\verb|True|\\verb|  |\\verb|True|\\verb|  |\\verb|True|\\verb|  |\\verb|True|\\verb|  |\\verb|True|\\verb|  |\\verb|True|\\verb|  |\\verb|True|\\verb|  |\\verb|True|\\verb|  |\\verb|True|\\\\\n",
       "\\verb|  |\\verb|True|\\verb|  |\\verb|True|\\verb|  |\\verb|True|\\verb|  |\\verb|True|\\verb|  |\\verb|True|\\verb|  |\\verb|True|\\verb|  |\\verb|True|\\verb|  |\\verb|True|\\verb|  |\\verb|True|\\verb|  |\\verb|True|\\verb|  |\\verb|True|\\verb|  |\\verb|True|\\\\\n",
       "\\verb|  |\\verb|True|\\verb|  |\\verb|True|\\verb|  |\\verb|True|\\verb|  |\\verb|True|\\verb|  |\\verb|True|\\verb|  |\\verb|True|\\verb|  |\\verb|True|\\verb|  |\\verb|True|\\verb|  |\\verb|True|\\verb|  |\\verb|True|\\verb|  |\\verb|True|\\verb|  |\\verb|True|\\\\\n",
       "\\verb|  |\\verb|True|\\verb|  |\\verb|True|\\verb|  |\\verb|True|\\verb|  |\\verb|True|\\verb|  |\\verb|True|\\verb|  |\\verb|True|\\verb|  |\\verb|True|\\verb|  |\\verb|True|\\verb|  |\\verb|True|\\verb|  |\\verb|True|\\verb|  |\\verb|True|\\verb|  |\\verb|True|\\\\\n",
       "\\verb|  |\\verb|True|\\verb|  |\\verb|True|\\verb|  |\\verb|True|\\verb|  |\\verb|True|\\verb|  |\\verb|True|\\verb|  |\\verb|True|\\verb|  |\\verb|True|\\verb|  |\\verb|True|\\verb|  |\\verb|True|\\verb|  |\\verb|True|\\verb|  |\\verb|True|\\verb|  |\\verb|True]|\n",
       "\\end{array}\\]</html>"
      ],
      "text/latex": [
       "$$\\newcommand{\\Bold}[1]{\\mathbf{#1}}\\begin{array}{l}\n",
       "\\verb|[|\\verb| |\\verb|True|\\verb|  |\\verb|True|\\verb|  |\\verb|True|\\verb|  |\\verb|True|\\verb|  |\\verb|True|\\verb|  |\\verb|True|\\verb|  |\\verb|True|\\verb|  |\\verb|True|\\verb|  |\\verb|True|\\verb|  |\\verb|True|\\verb|  |\\verb|True|\\verb|  |\\verb|True|\\\\\n",
       "\\verb|  |\\verb|True|\\verb|  |\\verb|True|\\verb|  |\\verb|True|\\verb|  |\\verb|True|\\verb|  |\\verb|True|\\verb|  |\\verb|True|\\verb|  |\\verb|True|\\verb|  |\\verb|True|\\verb|  |\\verb|True|\\verb|  |\\verb|True|\\verb|  |\\verb|True|\\verb|  |\\verb|True|\\\\\n",
       "\\verb|  |\\verb|True|\\verb|  |\\verb|True|\\verb|  |\\verb|True|\\verb|  |\\verb|True|\\verb|  |\\verb|True|\\verb|  |\\verb|True|\\verb|  |\\verb|True|\\verb|  |\\verb|True|\\verb|  |\\verb|True|\\verb|  |\\verb|True|\\verb|  |\\verb|True|\\verb|  |\\verb|True|\\\\\n",
       "\\verb|  |\\verb|True|\\verb|  |\\verb|True|\\verb|  |\\verb|True|\\verb|  |\\verb|True|\\verb|  |\\verb|True|\\verb|  |\\verb|True|\\verb|  |\\verb|True|\\verb|  |\\verb|True|\\verb|  |\\verb|True|\\verb|  |\\verb|True|\\verb|  |\\verb|True|\\verb|  |\\verb|True|\\\\\n",
       "\\verb|  |\\verb|True|\\verb|  |\\verb|True|\\verb|  |\\verb|True|\\verb|  |\\verb|True|\\verb|  |\\verb|True|\\verb|  |\\verb|True|\\verb|  |\\verb|True|\\verb|  |\\verb|True|\\verb|  |\\verb|True|\\verb|  |\\verb|True|\\verb|  |\\verb|True|\\verb|  |\\verb|True|\\\\\n",
       "\\verb|  |\\verb|True|\\verb|  |\\verb|True|\\verb|  |\\verb|True|\\verb|  |\\verb|True|\\verb|  |\\verb|True|\\verb|  |\\verb|True|\\verb|  |\\verb|True|\\verb|  |\\verb|True|\\verb|  |\\verb|True|\\verb|  |\\verb|True|\\verb|  |\\verb|True|\\verb|  |\\verb|True|\\\\\n",
       "\\verb|  |\\verb|True|\\verb|  |\\verb|True|\\verb|  |\\verb|True|\\verb|  |\\verb|True|\\verb|  |\\verb|True|\\verb|  |\\verb|True|\\verb|  |\\verb|True|\\verb|  |\\verb|True|\\verb|  |\\verb|True|\\verb|  |\\verb|True|\\verb|  |\\verb|True|\\verb|  |\\verb|True|\\\\\n",
       "\\verb|  |\\verb|True|\\verb|  |\\verb|True|\\verb|  |\\verb|True|\\verb|  |\\verb|True|\\verb|  |\\verb|True|\\verb|  |\\verb|True|\\verb|  |\\verb|True|\\verb|  |\\verb|True|\\verb|  |\\verb|True|\\verb|  |\\verb|True|\\verb|  |\\verb|True|\\verb|  |\\verb|True|\\\\\n",
       "\\verb|  |\\verb|True|\\verb|  |\\verb|True|\\verb|  |\\verb|True|\\verb|  |\\verb|True|\\verb|  |\\verb|True|\\verb|  |\\verb|True|\\verb|  |\\verb|True|\\verb|  |\\verb|True|\\verb|  |\\verb|True|\\verb|  |\\verb|True|\\verb|  |\\verb|True|\\verb|  |\\verb|True|\\\\\n",
       "\\verb|  |\\verb|True|\\verb|  |\\verb|True|\\verb|  |\\verb|True|\\verb|  |\\verb|True|\\verb|  |\\verb|True|\\verb|  |\\verb|True|\\verb|  |\\verb|True|\\verb|  |\\verb|True|\\verb|  |\\verb|True|\\verb|  |\\verb|True|\\verb|  |\\verb|True|\\verb|  |\\verb|True]|\n",
       "\\end{array}$$"
      ],
      "text/plain": [
       "array([ True,  True,  True,  True,  True,  True,  True,  True,  True,\n",
       "        True,  True,  True,  True,  True,  True,  True,  True,  True,\n",
       "        True,  True,  True,  True,  True,  True,  True,  True,  True,\n",
       "        True,  True,  True,  True,  True,  True,  True,  True,  True,\n",
       "        True,  True,  True,  True,  True,  True,  True,  True,  True,\n",
       "        True,  True,  True,  True,  True,  True,  True,  True,  True,\n",
       "        True,  True,  True,  True,  True,  True,  True,  True,  True,\n",
       "        True,  True,  True,  True,  True,  True,  True,  True,  True,\n",
       "        True,  True,  True,  True,  True,  True,  True,  True,  True,\n",
       "        True,  True,  True,  True,  True,  True,  True,  True,  True,\n",
       "        True,  True,  True,  True,  True,  True,  True,  True,  True,\n",
       "        True,  True,  True,  True,  True,  True,  True,  True,  True,\n",
       "        True,  True,  True,  True,  True,  True,  True,  True,  True,\n",
       "        True,  True,  True])"
      ]
     },
     "execution_count": 10,
     "metadata": {},
     "output_type": "execute_result"
    }
   ],
   "source": [
    "np.array(myarr_1_mod_2)%2==0"
   ]
  },
  {
   "cell_type": "code",
   "execution_count": 11,
   "id": "ce85bfe9",
   "metadata": {},
   "outputs": [
    {
     "data": {
      "text/html": [
       "<html>\\[\\newcommand{\\Bold}[1]{\\mathbf{#1}}\\begin{array}{l}\n",
       "\\verb|[False|\\verb|  |\\verb|True|\\verb|  |\\verb|True|\\verb| |\\verb|False|\\verb|  |\\verb|True|\\verb| |\\verb|False|\\verb| |\\verb|False|\\verb|  |\\verb|True|\\verb|  |\\verb|True|\\verb| |\\verb|False|\\verb| |\\verb|False|\\verb| |\\verb|False|\\\\\n",
       "\\verb| |\\verb|False|\\verb| |\\verb|False|\\verb|  |\\verb|True|\\verb|  |\\verb|True|\\verb|  |\\verb|True|\\verb|  |\\verb|True|\\verb| |\\verb|False|\\verb| |\\verb|False|\\verb| |\\verb|False|\\verb|  |\\verb|True|\\verb| |\\verb|False|\\verb|  |\\verb|True|\\\\\n",
       "\\verb| |\\verb|False|\\verb| |\\verb|False|\\verb| |\\verb|False|\\verb|  |\\verb|True|\\verb|  |\\verb|True|\\verb| |\\verb|False|\\verb|  |\\verb|True|\\verb|  |\\verb|True|\\verb|  |\\verb|True|\\verb|  |\\verb|True|\\verb|  |\\verb|True|\\verb|  |\\verb|True|\\\\\n",
       "\\verb| |\\verb|False|\\verb| |\\verb|False|\\verb| |\\verb|False|\\verb|  |\\verb|True|\\verb| |\\verb|False|\\verb|  |\\verb|True|\\verb|  |\\verb|True|\\verb| |\\verb|False|\\verb| |\\verb|False|\\verb| |\\verb|False|\\verb|  |\\verb|True|\\verb|  |\\verb|True|\\\\\n",
       "\\verb| |\\verb|False|\\verb|  |\\verb|True|\\verb| |\\verb|False|\\verb|  |\\verb|True|\\verb| |\\verb|False|\\verb| |\\verb|False|\\verb|  |\\verb|True|\\verb|  |\\verb|True|\\verb|  |\\verb|True|\\verb|  |\\verb|True|\\verb| |\\verb|False|\\verb| |\\verb|False]|\n",
       "\\end{array}\\]</html>"
      ],
      "text/latex": [
       "$$\\newcommand{\\Bold}[1]{\\mathbf{#1}}\\begin{array}{l}\n",
       "\\verb|[False|\\verb|  |\\verb|True|\\verb|  |\\verb|True|\\verb| |\\verb|False|\\verb|  |\\verb|True|\\verb| |\\verb|False|\\verb| |\\verb|False|\\verb|  |\\verb|True|\\verb|  |\\verb|True|\\verb| |\\verb|False|\\verb| |\\verb|False|\\verb| |\\verb|False|\\\\\n",
       "\\verb| |\\verb|False|\\verb| |\\verb|False|\\verb|  |\\verb|True|\\verb|  |\\verb|True|\\verb|  |\\verb|True|\\verb|  |\\verb|True|\\verb| |\\verb|False|\\verb| |\\verb|False|\\verb| |\\verb|False|\\verb|  |\\verb|True|\\verb| |\\verb|False|\\verb|  |\\verb|True|\\\\\n",
       "\\verb| |\\verb|False|\\verb| |\\verb|False|\\verb| |\\verb|False|\\verb|  |\\verb|True|\\verb|  |\\verb|True|\\verb| |\\verb|False|\\verb|  |\\verb|True|\\verb|  |\\verb|True|\\verb|  |\\verb|True|\\verb|  |\\verb|True|\\verb|  |\\verb|True|\\verb|  |\\verb|True|\\\\\n",
       "\\verb| |\\verb|False|\\verb| |\\verb|False|\\verb| |\\verb|False|\\verb|  |\\verb|True|\\verb| |\\verb|False|\\verb|  |\\verb|True|\\verb|  |\\verb|True|\\verb| |\\verb|False|\\verb| |\\verb|False|\\verb| |\\verb|False|\\verb|  |\\verb|True|\\verb|  |\\verb|True|\\\\\n",
       "\\verb| |\\verb|False|\\verb|  |\\verb|True|\\verb| |\\verb|False|\\verb|  |\\verb|True|\\verb| |\\verb|False|\\verb| |\\verb|False|\\verb|  |\\verb|True|\\verb|  |\\verb|True|\\verb|  |\\verb|True|\\verb|  |\\verb|True|\\verb| |\\verb|False|\\verb| |\\verb|False]|\n",
       "\\end{array}$$"
      ],
      "text/plain": [
       "array([False,  True,  True, False,  True, False, False,  True,  True,\n",
       "       False, False, False, False, False,  True,  True,  True,  True,\n",
       "       False, False, False,  True, False,  True, False, False, False,\n",
       "        True,  True, False,  True,  True,  True,  True,  True,  True,\n",
       "       False, False, False,  True, False,  True,  True, False, False,\n",
       "       False,  True,  True, False,  True, False,  True, False, False,\n",
       "        True,  True,  True,  True, False, False])"
      ]
     },
     "execution_count": 11,
     "metadata": {},
     "output_type": "execute_result"
    }
   ],
   "source": [
    "np.array(myarr_0_mod_4)%4==0"
   ]
  },
  {
   "cell_type": "code",
   "execution_count": 12,
   "id": "eaa3fdf8",
   "metadata": {},
   "outputs": [
    {
     "data": {
      "text/html": [
       "<html>\\[\\newcommand{\\Bold}[1]{\\mathbf{#1}}\\begin{array}{l}\n",
       "\\verb|[|\\verb| |\\verb|True|\\verb| |\\verb|False|\\verb| |\\verb|False|\\verb| |\\verb|False|\\verb|  |\\verb|True|\\verb|  |\\verb|True|\\verb| |\\verb|False|\\verb| |\\verb|False|\\verb|  |\\verb|True|\\verb| |\\verb|False|\\verb|  |\\verb|True|\\verb| |\\verb|False|\\\\\n",
       "\\verb|  |\\verb|True|\\verb| |\\verb|False|\\verb|  |\\verb|True|\\verb| |\\verb|False|\\verb|  |\\verb|True|\\verb|  |\\verb|True|\\verb|  |\\verb|True|\\verb|  |\\verb|True|\\verb|  |\\verb|True|\\verb|  |\\verb|True|\\verb|  |\\verb|True|\\verb|  |\\verb|True|\\\\\n",
       "\\verb|  |\\verb|True|\\verb| |\\verb|False|\\verb|  |\\verb|True|\\verb| |\\verb|False|\\verb|  |\\verb|True|\\verb| |\\verb|False|\\verb| |\\verb|False|\\verb|  |\\verb|True|\\verb|  |\\verb|True|\\verb|  |\\verb|True|\\verb|  |\\verb|True|\\verb|  |\\verb|True|\\\\\n",
       "\\verb|  |\\verb|True|\\verb| |\\verb|False|\\verb|  |\\verb|True|\\verb| |\\verb|False|\\verb|  |\\verb|True|\\verb|  |\\verb|True|\\verb| |\\verb|False|\\verb| |\\verb|False|\\verb|  |\\verb|True|\\verb| |\\verb|False|\\verb|  |\\verb|True|\\verb|  |\\verb|True|\\\\\n",
       "\\verb|  |\\verb|True|\\verb| |\\verb|False|\\verb|  |\\verb|True|\\verb|  |\\verb|True|\\verb|  |\\verb|True|\\verb|  |\\verb|True|\\verb|  |\\verb|True|\\verb|  |\\verb|True|\\verb|  |\\verb|True|\\verb| |\\verb|False|\\verb|  |\\verb|True|\\verb|  |\\verb|True]|\n",
       "\\end{array}\\]</html>"
      ],
      "text/latex": [
       "$$\\newcommand{\\Bold}[1]{\\mathbf{#1}}\\begin{array}{l}\n",
       "\\verb|[|\\verb| |\\verb|True|\\verb| |\\verb|False|\\verb| |\\verb|False|\\verb| |\\verb|False|\\verb|  |\\verb|True|\\verb|  |\\verb|True|\\verb| |\\verb|False|\\verb| |\\verb|False|\\verb|  |\\verb|True|\\verb| |\\verb|False|\\verb|  |\\verb|True|\\verb| |\\verb|False|\\\\\n",
       "\\verb|  |\\verb|True|\\verb| |\\verb|False|\\verb|  |\\verb|True|\\verb| |\\verb|False|\\verb|  |\\verb|True|\\verb|  |\\verb|True|\\verb|  |\\verb|True|\\verb|  |\\verb|True|\\verb|  |\\verb|True|\\verb|  |\\verb|True|\\verb|  |\\verb|True|\\verb|  |\\verb|True|\\\\\n",
       "\\verb|  |\\verb|True|\\verb| |\\verb|False|\\verb|  |\\verb|True|\\verb| |\\verb|False|\\verb|  |\\verb|True|\\verb| |\\verb|False|\\verb| |\\verb|False|\\verb|  |\\verb|True|\\verb|  |\\verb|True|\\verb|  |\\verb|True|\\verb|  |\\verb|True|\\verb|  |\\verb|True|\\\\\n",
       "\\verb|  |\\verb|True|\\verb| |\\verb|False|\\verb|  |\\verb|True|\\verb| |\\verb|False|\\verb|  |\\verb|True|\\verb|  |\\verb|True|\\verb| |\\verb|False|\\verb| |\\verb|False|\\verb|  |\\verb|True|\\verb| |\\verb|False|\\verb|  |\\verb|True|\\verb|  |\\verb|True|\\\\\n",
       "\\verb|  |\\verb|True|\\verb| |\\verb|False|\\verb|  |\\verb|True|\\verb|  |\\verb|True|\\verb|  |\\verb|True|\\verb|  |\\verb|True|\\verb|  |\\verb|True|\\verb|  |\\verb|True|\\verb|  |\\verb|True|\\verb| |\\verb|False|\\verb|  |\\verb|True|\\verb|  |\\verb|True]|\n",
       "\\end{array}$$"
      ],
      "text/plain": [
       "array([ True, False, False, False,  True,  True, False, False,  True,\n",
       "       False,  True, False,  True, False,  True, False,  True,  True,\n",
       "        True,  True,  True,  True,  True,  True,  True, False,  True,\n",
       "       False,  True, False, False,  True,  True,  True,  True,  True,\n",
       "        True, False,  True, False,  True,  True, False, False,  True,\n",
       "       False,  True,  True,  True, False,  True,  True,  True,  True,\n",
       "        True,  True,  True, False,  True,  True])"
      ]
     },
     "execution_count": 12,
     "metadata": {},
     "output_type": "execute_result"
    }
   ],
   "source": [
    "np.array(myarr_1_mod_4)%4==0"
   ]
  },
  {
   "cell_type": "code",
   "execution_count": 13,
   "id": "a613b82e",
   "metadata": {},
   "outputs": [
    {
     "data": {
      "text/html": [
       "<html>\\[\\newcommand{\\Bold}[1]{\\mathbf{#1}}\\begin{array}{l}\n",
       "\\verb|[|\\verb| |\\verb|True|\\verb| |\\verb|False|\\verb| |\\verb|False|\\verb|  |\\verb|True|\\verb| |\\verb|False|\\verb| |\\verb|False|\\verb| |\\verb|False|\\verb|  |\\verb|True|\\verb|  |\\verb|True|\\verb| |\\verb|False|\\verb|  |\\verb|True|\\verb|  |\\verb|True|\\\\\n",
       "\\verb| |\\verb|False|\\verb|  |\\verb|True|\\verb| |\\verb|False|\\verb|  |\\verb|True|\\verb|  |\\verb|True|\\verb|  |\\verb|True|\\verb| |\\verb|False|\\verb|  |\\verb|True|\\verb|  |\\verb|True|\\verb| |\\verb|False|\\verb| |\\verb|False|\\verb|  |\\verb|True|\\\\\n",
       "\\verb|  |\\verb|True|\\verb|  |\\verb|True|\\verb| |\\verb|False|\\verb|  |\\verb|True|\\verb|  |\\verb|True|\\verb| |\\verb|False|\\verb| |\\verb|False|\\verb|  |\\verb|True|\\verb|  |\\verb|True|\\verb| |\\verb|False|\\verb|  |\\verb|True|\\verb|  |\\verb|True|\\\\\n",
       "\\verb|  |\\verb|True|\\verb| |\\verb|False|\\verb|  |\\verb|True|\\verb|  |\\verb|True|\\verb|  |\\verb|True|\\verb| |\\verb|False|\\verb|  |\\verb|True|\\verb|  |\\verb|True|\\verb|  |\\verb|True|\\verb|  |\\verb|True|\\verb|  |\\verb|True|\\verb|  |\\verb|True|\\\\\n",
       "\\verb|  |\\verb|True|\\verb| |\\verb|False|\\verb| |\\verb|False|\\verb|  |\\verb|True|\\verb|  |\\verb|True|\\verb| |\\verb|False|\\verb| |\\verb|False|\\verb|  |\\verb|True|\\verb|  |\\verb|True|\\verb|  |\\verb|True|\\verb| |\\verb|False|\\verb|  |\\verb|True]|\n",
       "\\end{array}\\]</html>"
      ],
      "text/latex": [
       "$$\\newcommand{\\Bold}[1]{\\mathbf{#1}}\\begin{array}{l}\n",
       "\\verb|[|\\verb| |\\verb|True|\\verb| |\\verb|False|\\verb| |\\verb|False|\\verb|  |\\verb|True|\\verb| |\\verb|False|\\verb| |\\verb|False|\\verb| |\\verb|False|\\verb|  |\\verb|True|\\verb|  |\\verb|True|\\verb| |\\verb|False|\\verb|  |\\verb|True|\\verb|  |\\verb|True|\\\\\n",
       "\\verb| |\\verb|False|\\verb|  |\\verb|True|\\verb| |\\verb|False|\\verb|  |\\verb|True|\\verb|  |\\verb|True|\\verb|  |\\verb|True|\\verb| |\\verb|False|\\verb|  |\\verb|True|\\verb|  |\\verb|True|\\verb| |\\verb|False|\\verb| |\\verb|False|\\verb|  |\\verb|True|\\\\\n",
       "\\verb|  |\\verb|True|\\verb|  |\\verb|True|\\verb| |\\verb|False|\\verb|  |\\verb|True|\\verb|  |\\verb|True|\\verb| |\\verb|False|\\verb| |\\verb|False|\\verb|  |\\verb|True|\\verb|  |\\verb|True|\\verb| |\\verb|False|\\verb|  |\\verb|True|\\verb|  |\\verb|True|\\\\\n",
       "\\verb|  |\\verb|True|\\verb| |\\verb|False|\\verb|  |\\verb|True|\\verb|  |\\verb|True|\\verb|  |\\verb|True|\\verb| |\\verb|False|\\verb|  |\\verb|True|\\verb|  |\\verb|True|\\verb|  |\\verb|True|\\verb|  |\\verb|True|\\verb|  |\\verb|True|\\verb|  |\\verb|True|\\\\\n",
       "\\verb|  |\\verb|True|\\verb| |\\verb|False|\\verb| |\\verb|False|\\verb|  |\\verb|True|\\verb|  |\\verb|True|\\verb| |\\verb|False|\\verb| |\\verb|False|\\verb|  |\\verb|True|\\verb|  |\\verb|True|\\verb|  |\\verb|True|\\verb| |\\verb|False|\\verb|  |\\verb|True]|\n",
       "\\end{array}$$"
      ],
      "text/plain": [
       "array([ True, False, False,  True, False, False, False,  True,  True,\n",
       "       False,  True,  True, False,  True, False,  True,  True,  True,\n",
       "       False,  True,  True, False, False,  True,  True,  True, False,\n",
       "        True,  True, False, False,  True,  True, False,  True,  True,\n",
       "        True, False,  True,  True,  True, False,  True,  True,  True,\n",
       "        True,  True,  True,  True, False, False,  True,  True, False,\n",
       "       False,  True,  True,  True, False,  True])"
      ]
     },
     "execution_count": 13,
     "metadata": {},
     "output_type": "execute_result"
    }
   ],
   "source": [
    "np.array(myarr_2_mod_4)%4==0"
   ]
  },
  {
   "cell_type": "code",
   "execution_count": 14,
   "id": "8bcde9f3",
   "metadata": {},
   "outputs": [
    {
     "data": {
      "text/html": [
       "<html>\\[\\newcommand{\\Bold}[1]{\\mathbf{#1}}\\begin{array}{l}\n",
       "\\verb|[False|\\verb|  |\\verb|True|\\verb| |\\verb|False|\\verb|  |\\verb|True|\\verb| |\\verb|False|\\verb|  |\\verb|True|\\verb|  |\\verb|True|\\verb|  |\\verb|True|\\verb|  |\\verb|True|\\verb|  |\\verb|True|\\verb| |\\verb|False|\\verb|  |\\verb|True|\\\\\n",
       "\\verb|  |\\verb|True|\\verb|  |\\verb|True|\\verb| |\\verb|False|\\verb|  |\\verb|True|\\verb| |\\verb|False|\\verb|  |\\verb|True|\\verb| |\\verb|False|\\verb|  |\\verb|True|\\verb| |\\verb|False|\\verb|  |\\verb|True|\\verb|  |\\verb|True|\\verb|  |\\verb|True|\\\\\n",
       "\\verb| |\\verb|False|\\verb|  |\\verb|True|\\verb| |\\verb|False|\\verb|  |\\verb|True|\\verb|  |\\verb|True|\\verb|  |\\verb|True|\\verb|  |\\verb|True|\\verb|  |\\verb|True|\\verb| |\\verb|False|\\verb|  |\\verb|True|\\verb| |\\verb|False|\\verb|  |\\verb|True|\\\\\n",
       "\\verb| |\\verb|False|\\verb|  |\\verb|True|\\verb|  |\\verb|True|\\verb|  |\\verb|True|\\verb| |\\verb|False|\\verb|  |\\verb|True|\\verb| |\\verb|False|\\verb|  |\\verb|True|\\verb| |\\verb|False|\\verb|  |\\verb|True|\\verb|  |\\verb|True|\\verb|  |\\verb|True|\\\\\n",
       "\\verb|  |\\verb|True|\\verb|  |\\verb|True|\\verb|  |\\verb|True|\\verb|  |\\verb|True|\\verb| |\\verb|False|\\verb|  |\\verb|True|\\verb|  |\\verb|True|\\verb|  |\\verb|True|\\verb| |\\verb|False|\\verb|  |\\verb|True|\\verb|  |\\verb|True|\\verb|  |\\verb|True]|\n",
       "\\end{array}\\]</html>"
      ],
      "text/latex": [
       "$$\\newcommand{\\Bold}[1]{\\mathbf{#1}}\\begin{array}{l}\n",
       "\\verb|[False|\\verb|  |\\verb|True|\\verb| |\\verb|False|\\verb|  |\\verb|True|\\verb| |\\verb|False|\\verb|  |\\verb|True|\\verb|  |\\verb|True|\\verb|  |\\verb|True|\\verb|  |\\verb|True|\\verb|  |\\verb|True|\\verb| |\\verb|False|\\verb|  |\\verb|True|\\\\\n",
       "\\verb|  |\\verb|True|\\verb|  |\\verb|True|\\verb| |\\verb|False|\\verb|  |\\verb|True|\\verb| |\\verb|False|\\verb|  |\\verb|True|\\verb| |\\verb|False|\\verb|  |\\verb|True|\\verb| |\\verb|False|\\verb|  |\\verb|True|\\verb|  |\\verb|True|\\verb|  |\\verb|True|\\\\\n",
       "\\verb| |\\verb|False|\\verb|  |\\verb|True|\\verb| |\\verb|False|\\verb|  |\\verb|True|\\verb|  |\\verb|True|\\verb|  |\\verb|True|\\verb|  |\\verb|True|\\verb|  |\\verb|True|\\verb| |\\verb|False|\\verb|  |\\verb|True|\\verb| |\\verb|False|\\verb|  |\\verb|True|\\\\\n",
       "\\verb| |\\verb|False|\\verb|  |\\verb|True|\\verb|  |\\verb|True|\\verb|  |\\verb|True|\\verb| |\\verb|False|\\verb|  |\\verb|True|\\verb| |\\verb|False|\\verb|  |\\verb|True|\\verb| |\\verb|False|\\verb|  |\\verb|True|\\verb|  |\\verb|True|\\verb|  |\\verb|True|\\\\\n",
       "\\verb|  |\\verb|True|\\verb|  |\\verb|True|\\verb|  |\\verb|True|\\verb|  |\\verb|True|\\verb| |\\verb|False|\\verb|  |\\verb|True|\\verb|  |\\verb|True|\\verb|  |\\verb|True|\\verb| |\\verb|False|\\verb|  |\\verb|True|\\verb|  |\\verb|True|\\verb|  |\\verb|True]|\n",
       "\\end{array}$$"
      ],
      "text/plain": [
       "array([False,  True, False,  True, False,  True,  True,  True,  True,\n",
       "        True, False,  True,  True,  True, False,  True, False,  True,\n",
       "       False,  True, False,  True,  True,  True, False,  True, False,\n",
       "        True,  True,  True,  True,  True, False,  True, False,  True,\n",
       "       False,  True,  True,  True, False,  True, False,  True, False,\n",
       "        True,  True,  True,  True,  True,  True,  True, False,  True,\n",
       "        True,  True, False,  True,  True,  True])"
      ]
     },
     "execution_count": 14,
     "metadata": {},
     "output_type": "execute_result"
    }
   ],
   "source": [
    "np.array(myarr_3_mod_4)%4==0"
   ]
  },
  {
   "cell_type": "code",
   "execution_count": 15,
   "id": "8c352043",
   "metadata": {},
   "outputs": [
    {
     "data": {
      "text/html": [
       "<html>\\[\\newcommand{\\Bold}[1]{\\mathbf{#1}}\\begin{array}{l}\n",
       "\\verb|[False|\\verb|  |\\verb|True|\\verb|  |\\verb|True|\\verb| |\\verb|False|\\verb|  |\\verb|True|\\verb| |\\verb|False|\\verb| |\\verb|False|\\verb|  |\\verb|True|\\verb|  |\\verb|True|\\verb| |\\verb|False|\\verb| |\\verb|False|\\verb| |\\verb|False|\\\\\n",
       "\\verb| |\\verb|False|\\verb| |\\verb|False|\\verb|  |\\verb|True|\\verb|  |\\verb|True|\\verb|  |\\verb|True|\\verb|  |\\verb|True|\\verb| |\\verb|False|\\verb| |\\verb|False|\\verb| |\\verb|False|\\verb|  |\\verb|True|\\verb| |\\verb|False|\\verb|  |\\verb|True|\\\\\n",
       "\\verb| |\\verb|False|\\verb| |\\verb|False|\\verb| |\\verb|False|\\verb|  |\\verb|True|\\verb|  |\\verb|True|\\verb| |\\verb|False]|\n",
       "\\end{array}\\]</html>"
      ],
      "text/latex": [
       "$$\\newcommand{\\Bold}[1]{\\mathbf{#1}}\\begin{array}{l}\n",
       "\\verb|[False|\\verb|  |\\verb|True|\\verb|  |\\verb|True|\\verb| |\\verb|False|\\verb|  |\\verb|True|\\verb| |\\verb|False|\\verb| |\\verb|False|\\verb|  |\\verb|True|\\verb|  |\\verb|True|\\verb| |\\verb|False|\\verb| |\\verb|False|\\verb| |\\verb|False|\\\\\n",
       "\\verb| |\\verb|False|\\verb| |\\verb|False|\\verb|  |\\verb|True|\\verb|  |\\verb|True|\\verb|  |\\verb|True|\\verb|  |\\verb|True|\\verb| |\\verb|False|\\verb| |\\verb|False|\\verb| |\\verb|False|\\verb|  |\\verb|True|\\verb| |\\verb|False|\\verb|  |\\verb|True|\\\\\n",
       "\\verb| |\\verb|False|\\verb| |\\verb|False|\\verb| |\\verb|False|\\verb|  |\\verb|True|\\verb|  |\\verb|True|\\verb| |\\verb|False]|\n",
       "\\end{array}$$"
      ],
      "text/plain": [
       "array([False,  True,  True, False,  True, False, False,  True,  True,\n",
       "       False, False, False, False, False,  True,  True,  True,  True,\n",
       "       False, False, False,  True, False,  True, False, False, False,\n",
       "        True,  True, False])"
      ]
     },
     "execution_count": 15,
     "metadata": {},
     "output_type": "execute_result"
    }
   ],
   "source": [
    "np.array(myarr_0_mod_8)%4==0"
   ]
  },
  {
   "cell_type": "code",
   "execution_count": 16,
   "id": "b7a45c1b",
   "metadata": {},
   "outputs": [
    {
     "data": {
      "text/html": [
       "<html>\\[\\newcommand{\\Bold}[1]{\\mathbf{#1}}\\begin{array}{l}\n",
       "\\verb|[|\\verb| |\\verb|True|\\verb| |\\verb|False|\\verb|  |\\verb|True|\\verb| |\\verb|False|\\verb|  |\\verb|True|\\verb|  |\\verb|True|\\verb|  |\\verb|True|\\verb|  |\\verb|True|\\verb|  |\\verb|True|\\verb|  |\\verb|True|\\verb|  |\\verb|True|\\verb|  |\\verb|True|\\\\\n",
       "\\verb|  |\\verb|True|\\verb|  |\\verb|True|\\verb|  |\\verb|True|\\verb| |\\verb|False|\\verb|  |\\verb|True|\\verb|  |\\verb|True|\\verb|  |\\verb|True|\\verb|  |\\verb|True|\\verb|  |\\verb|True|\\verb| |\\verb|False|\\verb|  |\\verb|True|\\verb|  |\\verb|True|\\\\\n",
       "\\verb|  |\\verb|True|\\verb|  |\\verb|True|\\verb|  |\\verb|True|\\verb|  |\\verb|True|\\verb|  |\\verb|True|\\verb|  |\\verb|True]|\n",
       "\\end{array}\\]</html>"
      ],
      "text/latex": [
       "$$\\newcommand{\\Bold}[1]{\\mathbf{#1}}\\begin{array}{l}\n",
       "\\verb|[|\\verb| |\\verb|True|\\verb| |\\verb|False|\\verb|  |\\verb|True|\\verb| |\\verb|False|\\verb|  |\\verb|True|\\verb|  |\\verb|True|\\verb|  |\\verb|True|\\verb|  |\\verb|True|\\verb|  |\\verb|True|\\verb|  |\\verb|True|\\verb|  |\\verb|True|\\verb|  |\\verb|True|\\\\\n",
       "\\verb|  |\\verb|True|\\verb|  |\\verb|True|\\verb|  |\\verb|True|\\verb| |\\verb|False|\\verb|  |\\verb|True|\\verb|  |\\verb|True|\\verb|  |\\verb|True|\\verb|  |\\verb|True|\\verb|  |\\verb|True|\\verb| |\\verb|False|\\verb|  |\\verb|True|\\verb|  |\\verb|True|\\\\\n",
       "\\verb|  |\\verb|True|\\verb|  |\\verb|True|\\verb|  |\\verb|True|\\verb|  |\\verb|True|\\verb|  |\\verb|True|\\verb|  |\\verb|True]|\n",
       "\\end{array}$$"
      ],
      "text/plain": [
       "array([ True, False,  True, False,  True,  True,  True,  True,  True,\n",
       "        True,  True,  True,  True,  True,  True, False,  True,  True,\n",
       "        True,  True,  True, False,  True,  True,  True,  True,  True,\n",
       "        True,  True,  True])"
      ]
     },
     "execution_count": 16,
     "metadata": {},
     "output_type": "execute_result"
    }
   ],
   "source": [
    "np.array(myarr_1_mod_8)%4==0"
   ]
  },
  {
   "cell_type": "code",
   "execution_count": 17,
   "id": "4f90b292",
   "metadata": {},
   "outputs": [
    {
     "data": {
      "text/html": [
       "<html>\\[\\newcommand{\\Bold}[1]{\\mathbf{#1}}\\begin{array}{l}\n",
       "\\verb|[|\\verb| |\\verb|True|\\verb| |\\verb|False|\\verb| |\\verb|False|\\verb| |\\verb|False|\\verb|  |\\verb|True|\\verb|  |\\verb|True|\\verb| |\\verb|False|\\verb| |\\verb|False|\\verb|  |\\verb|True|\\verb| |\\verb|False|\\verb|  |\\verb|True|\\verb| |\\verb|False|\\\\\n",
       "\\verb|  |\\verb|True|\\verb| |\\verb|False|\\verb|  |\\verb|True|\\verb| |\\verb|False|\\verb|  |\\verb|True|\\verb|  |\\verb|True|\\verb|  |\\verb|True|\\verb|  |\\verb|True|\\verb|  |\\verb|True|\\verb|  |\\verb|True|\\verb|  |\\verb|True|\\verb|  |\\verb|True|\\\\\n",
       "\\verb|  |\\verb|True|\\verb| |\\verb|False|\\verb|  |\\verb|True|\\verb| |\\verb|False|\\verb|  |\\verb|True|\\verb| |\\verb|False]|\n",
       "\\end{array}\\]</html>"
      ],
      "text/latex": [
       "$$\\newcommand{\\Bold}[1]{\\mathbf{#1}}\\begin{array}{l}\n",
       "\\verb|[|\\verb| |\\verb|True|\\verb| |\\verb|False|\\verb| |\\verb|False|\\verb| |\\verb|False|\\verb|  |\\verb|True|\\verb|  |\\verb|True|\\verb| |\\verb|False|\\verb| |\\verb|False|\\verb|  |\\verb|True|\\verb| |\\verb|False|\\verb|  |\\verb|True|\\verb| |\\verb|False|\\\\\n",
       "\\verb|  |\\verb|True|\\verb| |\\verb|False|\\verb|  |\\verb|True|\\verb| |\\verb|False|\\verb|  |\\verb|True|\\verb|  |\\verb|True|\\verb|  |\\verb|True|\\verb|  |\\verb|True|\\verb|  |\\verb|True|\\verb|  |\\verb|True|\\verb|  |\\verb|True|\\verb|  |\\verb|True|\\\\\n",
       "\\verb|  |\\verb|True|\\verb| |\\verb|False|\\verb|  |\\verb|True|\\verb| |\\verb|False|\\verb|  |\\verb|True|\\verb| |\\verb|False]|\n",
       "\\end{array}$$"
      ],
      "text/plain": [
       "array([ True, False, False, False,  True,  True, False, False,  True,\n",
       "       False,  True, False,  True, False,  True, False,  True,  True,\n",
       "        True,  True,  True,  True,  True,  True,  True, False,  True,\n",
       "       False,  True, False])"
      ]
     },
     "execution_count": 17,
     "metadata": {},
     "output_type": "execute_result"
    }
   ],
   "source": [
    "np.array(myarr_2_mod_8)%4==0"
   ]
  },
  {
   "cell_type": "code",
   "execution_count": 18,
   "id": "1e795971",
   "metadata": {},
   "outputs": [
    {
     "data": {
      "text/html": [
       "<html>\\[\\newcommand{\\Bold}[1]{\\mathbf{#1}}\\begin{array}{l}\n",
       "\\verb|[False|\\verb| |\\verb|False|\\verb| |\\verb|False|\\verb|  |\\verb|True|\\verb|  |\\verb|True|\\verb| |\\verb|False|\\verb|  |\\verb|True|\\verb| |\\verb|False|\\verb| |\\verb|False|\\verb| |\\verb|False|\\verb| |\\verb|False|\\verb|  |\\verb|True|\\\\\n",
       "\\verb| |\\verb|False|\\verb| |\\verb|False|\\verb|  |\\verb|True|\\verb|  |\\verb|True|\\verb| |\\verb|False|\\verb| |\\verb|False|\\verb| |\\verb|False|\\verb|  |\\verb|True|\\verb| |\\verb|False|\\verb| |\\verb|False|\\verb| |\\verb|False|\\verb|  |\\verb|True|\\\\\n",
       "\\verb|  |\\verb|True|\\verb|  |\\verb|True|\\verb| |\\verb|False|\\verb|  |\\verb|True|\\verb| |\\verb|False|\\verb|  |\\verb|True]|\n",
       "\\end{array}\\]</html>"
      ],
      "text/latex": [
       "$$\\newcommand{\\Bold}[1]{\\mathbf{#1}}\\begin{array}{l}\n",
       "\\verb|[False|\\verb| |\\verb|False|\\verb| |\\verb|False|\\verb|  |\\verb|True|\\verb|  |\\verb|True|\\verb| |\\verb|False|\\verb|  |\\verb|True|\\verb| |\\verb|False|\\verb| |\\verb|False|\\verb| |\\verb|False|\\verb| |\\verb|False|\\verb|  |\\verb|True|\\\\\n",
       "\\verb| |\\verb|False|\\verb| |\\verb|False|\\verb|  |\\verb|True|\\verb|  |\\verb|True|\\verb| |\\verb|False|\\verb| |\\verb|False|\\verb| |\\verb|False|\\verb|  |\\verb|True|\\verb| |\\verb|False|\\verb| |\\verb|False|\\verb| |\\verb|False|\\verb|  |\\verb|True|\\\\\n",
       "\\verb|  |\\verb|True|\\verb|  |\\verb|True|\\verb| |\\verb|False|\\verb|  |\\verb|True|\\verb| |\\verb|False|\\verb|  |\\verb|True]|\n",
       "\\end{array}$$"
      ],
      "text/plain": [
       "array([False, False, False,  True,  True, False,  True, False, False,\n",
       "       False, False,  True, False, False,  True,  True, False, False,\n",
       "       False,  True, False, False, False,  True,  True,  True, False,\n",
       "        True, False,  True])"
      ]
     },
     "execution_count": 18,
     "metadata": {},
     "output_type": "execute_result"
    }
   ],
   "source": [
    "np.array(myarr_3_mod_8)%4==0"
   ]
  },
  {
   "cell_type": "code",
   "execution_count": 19,
   "id": "c2a0a8c1",
   "metadata": {},
   "outputs": [
    {
     "data": {
      "text/html": [
       "<html>\\[\\newcommand{\\Bold}[1]{\\mathbf{#1}}\\begin{array}{l}\n",
       "\\verb|[|\\verb| |\\verb|True|\\verb| |\\verb|False|\\verb| |\\verb|False|\\verb|  |\\verb|True|\\verb| |\\verb|False|\\verb| |\\verb|False|\\verb| |\\verb|False|\\verb|  |\\verb|True|\\verb|  |\\verb|True|\\verb| |\\verb|False|\\verb|  |\\verb|True|\\verb|  |\\verb|True|\\\\\n",
       "\\verb| |\\verb|False|\\verb|  |\\verb|True|\\verb| |\\verb|False|\\verb|  |\\verb|True|\\verb|  |\\verb|True|\\verb|  |\\verb|True|\\verb| |\\verb|False|\\verb|  |\\verb|True|\\verb|  |\\verb|True|\\verb| |\\verb|False|\\verb| |\\verb|False|\\verb|  |\\verb|True|\\\\\n",
       "\\verb|  |\\verb|True|\\verb|  |\\verb|True|\\verb| |\\verb|False|\\verb|  |\\verb|True|\\verb|  |\\verb|True|\\verb| |\\verb|False]|\n",
       "\\end{array}\\]</html>"
      ],
      "text/latex": [
       "$$\\newcommand{\\Bold}[1]{\\mathbf{#1}}\\begin{array}{l}\n",
       "\\verb|[|\\verb| |\\verb|True|\\verb| |\\verb|False|\\verb| |\\verb|False|\\verb|  |\\verb|True|\\verb| |\\verb|False|\\verb| |\\verb|False|\\verb| |\\verb|False|\\verb|  |\\verb|True|\\verb|  |\\verb|True|\\verb| |\\verb|False|\\verb|  |\\verb|True|\\verb|  |\\verb|True|\\\\\n",
       "\\verb| |\\verb|False|\\verb|  |\\verb|True|\\verb| |\\verb|False|\\verb|  |\\verb|True|\\verb|  |\\verb|True|\\verb|  |\\verb|True|\\verb| |\\verb|False|\\verb|  |\\verb|True|\\verb|  |\\verb|True|\\verb| |\\verb|False|\\verb| |\\verb|False|\\verb|  |\\verb|True|\\\\\n",
       "\\verb|  |\\verb|True|\\verb|  |\\verb|True|\\verb| |\\verb|False|\\verb|  |\\verb|True|\\verb|  |\\verb|True|\\verb| |\\verb|False]|\n",
       "\\end{array}$$"
      ],
      "text/plain": [
       "array([ True, False, False,  True, False, False, False,  True,  True,\n",
       "       False,  True,  True, False,  True, False,  True,  True,  True,\n",
       "       False,  True,  True, False, False,  True,  True,  True, False,\n",
       "        True,  True, False])"
      ]
     },
     "execution_count": 19,
     "metadata": {},
     "output_type": "execute_result"
    }
   ],
   "source": [
    "np.array(myarr_4_mod_8)%4==0"
   ]
  },
  {
   "cell_type": "code",
   "execution_count": 20,
   "id": "b4deca1e",
   "metadata": {},
   "outputs": [
    {
     "data": {
      "text/html": [
       "<html>\\[\\newcommand{\\Bold}[1]{\\mathbf{#1}}\\begin{array}{l}\n",
       "\\verb|[False|\\verb| |\\verb|False|\\verb|  |\\verb|True|\\verb| |\\verb|False|\\verb| |\\verb|False|\\verb| |\\verb|False|\\verb| |\\verb|False|\\verb| |\\verb|False|\\verb|  |\\verb|True|\\verb|  |\\verb|True|\\verb|  |\\verb|True|\\verb|  |\\verb|True|\\\\\n",
       "\\verb| |\\verb|False|\\verb| |\\verb|False|\\verb| |\\verb|False|\\verb|  |\\verb|True|\\verb|  |\\verb|True|\\verb|  |\\verb|True|\\verb| |\\verb|False|\\verb| |\\verb|False|\\verb|  |\\verb|True|\\verb| |\\verb|False|\\verb| |\\verb|False|\\verb|  |\\verb|True|\\\\\n",
       "\\verb| |\\verb|False|\\verb|  |\\verb|True|\\verb|  |\\verb|True|\\verb|  |\\verb|True|\\verb| |\\verb|False|\\verb|  |\\verb|True]|\n",
       "\\end{array}\\]</html>"
      ],
      "text/latex": [
       "$$\\newcommand{\\Bold}[1]{\\mathbf{#1}}\\begin{array}{l}\n",
       "\\verb|[False|\\verb| |\\verb|False|\\verb|  |\\verb|True|\\verb| |\\verb|False|\\verb| |\\verb|False|\\verb| |\\verb|False|\\verb| |\\verb|False|\\verb| |\\verb|False|\\verb|  |\\verb|True|\\verb|  |\\verb|True|\\verb|  |\\verb|True|\\verb|  |\\verb|True|\\\\\n",
       "\\verb| |\\verb|False|\\verb| |\\verb|False|\\verb| |\\verb|False|\\verb|  |\\verb|True|\\verb|  |\\verb|True|\\verb|  |\\verb|True|\\verb| |\\verb|False|\\verb| |\\verb|False|\\verb|  |\\verb|True|\\verb| |\\verb|False|\\verb| |\\verb|False|\\verb|  |\\verb|True|\\\\\n",
       "\\verb| |\\verb|False|\\verb|  |\\verb|True|\\verb|  |\\verb|True|\\verb|  |\\verb|True|\\verb| |\\verb|False|\\verb|  |\\verb|True]|\n",
       "\\end{array}$$"
      ],
      "text/plain": [
       "array([False, False,  True, False, False, False, False, False,  True,\n",
       "        True,  True,  True, False, False, False,  True,  True,  True,\n",
       "       False, False,  True, False, False,  True, False,  True,  True,\n",
       "        True, False,  True])"
      ]
     },
     "execution_count": 20,
     "metadata": {},
     "output_type": "execute_result"
    }
   ],
   "source": [
    "np.array(myarr_5_mod_8)%4==0"
   ]
  },
  {
   "cell_type": "code",
   "execution_count": 21,
   "id": "78c6c22a",
   "metadata": {},
   "outputs": [
    {
     "data": {
      "text/html": [
       "<html>\\[\\newcommand{\\Bold}[1]{\\mathbf{#1}}\\begin{array}{l}\n",
       "\\verb|[False|\\verb|  |\\verb|True|\\verb| |\\verb|False|\\verb|  |\\verb|True|\\verb| |\\verb|False|\\verb|  |\\verb|True|\\verb|  |\\verb|True|\\verb|  |\\verb|True|\\verb|  |\\verb|True|\\verb|  |\\verb|True|\\verb| |\\verb|False|\\verb|  |\\verb|True|\\\\\n",
       "\\verb|  |\\verb|True|\\verb|  |\\verb|True|\\verb| |\\verb|False|\\verb|  |\\verb|True|\\verb| |\\verb|False|\\verb|  |\\verb|True|\\verb| |\\verb|False|\\verb|  |\\verb|True|\\verb| |\\verb|False|\\verb|  |\\verb|True|\\verb|  |\\verb|True|\\verb|  |\\verb|True|\\\\\n",
       "\\verb| |\\verb|False|\\verb|  |\\verb|True|\\verb| |\\verb|False|\\verb|  |\\verb|True|\\verb|  |\\verb|True|\\verb|  |\\verb|True]|\n",
       "\\end{array}\\]</html>"
      ],
      "text/latex": [
       "$$\\newcommand{\\Bold}[1]{\\mathbf{#1}}\\begin{array}{l}\n",
       "\\verb|[False|\\verb|  |\\verb|True|\\verb| |\\verb|False|\\verb|  |\\verb|True|\\verb| |\\verb|False|\\verb|  |\\verb|True|\\verb|  |\\verb|True|\\verb|  |\\verb|True|\\verb|  |\\verb|True|\\verb|  |\\verb|True|\\verb| |\\verb|False|\\verb|  |\\verb|True|\\\\\n",
       "\\verb|  |\\verb|True|\\verb|  |\\verb|True|\\verb| |\\verb|False|\\verb|  |\\verb|True|\\verb| |\\verb|False|\\verb|  |\\verb|True|\\verb| |\\verb|False|\\verb|  |\\verb|True|\\verb| |\\verb|False|\\verb|  |\\verb|True|\\verb|  |\\verb|True|\\verb|  |\\verb|True|\\\\\n",
       "\\verb| |\\verb|False|\\verb|  |\\verb|True|\\verb| |\\verb|False|\\verb|  |\\verb|True|\\verb|  |\\verb|True|\\verb|  |\\verb|True]|\n",
       "\\end{array}$$"
      ],
      "text/plain": [
       "array([False,  True, False,  True, False,  True,  True,  True,  True,\n",
       "        True, False,  True,  True,  True, False,  True, False,  True,\n",
       "       False,  True, False,  True,  True,  True, False,  True, False,\n",
       "        True,  True,  True])"
      ]
     },
     "execution_count": 21,
     "metadata": {},
     "output_type": "execute_result"
    }
   ],
   "source": [
    "np.array(myarr_6_mod_8)%4==0"
   ]
  },
  {
   "cell_type": "code",
   "execution_count": 22,
   "id": "a33ce487",
   "metadata": {},
   "outputs": [
    {
     "data": {
      "text/html": [
       "<html>\\[\\newcommand{\\Bold}[1]{\\mathbf{#1}}\\begin{array}{l}\n",
       "\\verb|[|\\verb| |\\verb|True|\\verb|  |\\verb|True|\\verb|  |\\verb|True|\\verb|  |\\verb|True|\\verb|  |\\verb|True|\\verb|  |\\verb|True|\\verb|  |\\verb|True|\\verb|  |\\verb|True|\\verb|  |\\verb|True|\\verb|  |\\verb|True|\\verb|  |\\verb|True|\\verb|  |\\verb|True|\\\\\n",
       "\\verb|  |\\verb|True|\\verb|  |\\verb|True|\\verb|  |\\verb|True|\\verb|  |\\verb|True|\\verb|  |\\verb|True|\\verb|  |\\verb|True|\\verb|  |\\verb|True|\\verb|  |\\verb|True|\\verb|  |\\verb|True|\\verb|  |\\verb|True|\\verb|  |\\verb|True|\\verb|  |\\verb|True|\\\\\n",
       "\\verb|  |\\verb|True|\\verb|  |\\verb|True|\\verb|  |\\verb|True|\\verb|  |\\verb|True|\\verb|  |\\verb|True|\\verb|  |\\verb|True]|\n",
       "\\end{array}\\]</html>"
      ],
      "text/latex": [
       "$$\\newcommand{\\Bold}[1]{\\mathbf{#1}}\\begin{array}{l}\n",
       "\\verb|[|\\verb| |\\verb|True|\\verb|  |\\verb|True|\\verb|  |\\verb|True|\\verb|  |\\verb|True|\\verb|  |\\verb|True|\\verb|  |\\verb|True|\\verb|  |\\verb|True|\\verb|  |\\verb|True|\\verb|  |\\verb|True|\\verb|  |\\verb|True|\\verb|  |\\verb|True|\\verb|  |\\verb|True|\\\\\n",
       "\\verb|  |\\verb|True|\\verb|  |\\verb|True|\\verb|  |\\verb|True|\\verb|  |\\verb|True|\\verb|  |\\verb|True|\\verb|  |\\verb|True|\\verb|  |\\verb|True|\\verb|  |\\verb|True|\\verb|  |\\verb|True|\\verb|  |\\verb|True|\\verb|  |\\verb|True|\\verb|  |\\verb|True|\\\\\n",
       "\\verb|  |\\verb|True|\\verb|  |\\verb|True|\\verb|  |\\verb|True|\\verb|  |\\verb|True|\\verb|  |\\verb|True|\\verb|  |\\verb|True]|\n",
       "\\end{array}$$"
      ],
      "text/plain": [
       "array([ True,  True,  True,  True,  True,  True,  True,  True,  True,\n",
       "        True,  True,  True,  True,  True,  True,  True,  True,  True,\n",
       "        True,  True,  True,  True,  True,  True,  True,  True,  True,\n",
       "        True,  True,  True])"
      ]
     },
     "execution_count": 22,
     "metadata": {},
     "output_type": "execute_result"
    }
   ],
   "source": [
    "np.array(myarr_7_mod_8)%4==0"
   ]
  },
  {
   "cell_type": "code",
   "execution_count": 23,
   "id": "1ac17177",
   "metadata": {},
   "outputs": [
    {
     "data": {
      "text/html": [
       "<html>\\[\\newcommand{\\Bold}[1]{\\mathbf{#1}}\\begin{array}{l}\n",
       "\\verb|[|\\verb| |\\verb|True|\\verb| |\\verb|False|\\verb|  |\\verb|True|\\verb|  |\\verb|True|\\verb|  |\\verb|True|\\verb|  |\\verb|True|\\verb|  |\\verb|True|\\verb| |\\verb|False|\\verb|  |\\verb|True|\\verb|  |\\verb|True|\\verb|  |\\verb|True|\\verb| |\\verb|False|\\\\\n",
       "\\verb|  |\\verb|True|\\verb| |\\verb|False|\\verb|  |\\verb|True|\\verb|  |\\verb|True|\\verb|  |\\verb|True|\\verb| |\\verb|False|\\verb|  |\\verb|True|\\verb| |\\verb|False|\\verb|  |\\verb|True|\\verb| |\\verb|False|\\verb|  |\\verb|True|\\verb|  |\\verb|True|\\\\\n",
       "\\verb|  |\\verb|True|\\verb| |\\verb|False|\\verb|  |\\verb|True|\\verb|  |\\verb|True|\\verb|  |\\verb|True|\\verb|  |\\verb|True]|\n",
       "\\end{array}\\]</html>"
      ],
      "text/latex": [
       "$$\\newcommand{\\Bold}[1]{\\mathbf{#1}}\\begin{array}{l}\n",
       "\\verb|[|\\verb| |\\verb|True|\\verb| |\\verb|False|\\verb|  |\\verb|True|\\verb|  |\\verb|True|\\verb|  |\\verb|True|\\verb|  |\\verb|True|\\verb|  |\\verb|True|\\verb| |\\verb|False|\\verb|  |\\verb|True|\\verb|  |\\verb|True|\\verb|  |\\verb|True|\\verb| |\\verb|False|\\\\\n",
       "\\verb|  |\\verb|True|\\verb| |\\verb|False|\\verb|  |\\verb|True|\\verb|  |\\verb|True|\\verb|  |\\verb|True|\\verb| |\\verb|False|\\verb|  |\\verb|True|\\verb| |\\verb|False|\\verb|  |\\verb|True|\\verb| |\\verb|False|\\verb|  |\\verb|True|\\verb|  |\\verb|True|\\\\\n",
       "\\verb|  |\\verb|True|\\verb| |\\verb|False|\\verb|  |\\verb|True|\\verb|  |\\verb|True|\\verb|  |\\verb|True|\\verb|  |\\verb|True]|\n",
       "\\end{array}$$"
      ],
      "text/plain": [
       "array([ True, False,  True,  True,  True,  True,  True, False,  True,\n",
       "        True,  True, False,  True, False,  True,  True,  True, False,\n",
       "        True, False,  True, False,  True,  True,  True, False,  True,\n",
       "        True,  True,  True])"
      ]
     },
     "execution_count": 23,
     "metadata": {},
     "output_type": "execute_result"
    }
   ],
   "source": [
    "np.array(myarr_7_mod_8)%8==0"
   ]
  },
  {
   "cell_type": "code",
   "execution_count": 24,
   "id": "0481a1fe",
   "metadata": {},
   "outputs": [
    {
     "data": {
      "text/html": [
       "<html>\\[\\newcommand{\\Bold}[1]{\\mathbf{#1}}\\left(15, 4, \\frac{1}{2}\\right)\\]</html>"
      ],
      "text/latex": [
       "$$\\newcommand{\\Bold}[1]{\\mathbf{#1}}\\left(15, 4, \\frac{1}{2}\\right)$$"
      ],
      "text/plain": [
       "(15, 4, 1/2)"
      ]
     },
     "execution_count": 24,
     "metadata": {},
     "output_type": "execute_result"
    }
   ],
   "source": [
    "8*1+7, op35[15], op35[15]/8"
   ]
  },
  {
   "cell_type": "code",
   "execution_count": 25,
   "id": "6707db47",
   "metadata": {},
   "outputs": [
    {
     "data": {
      "text/html": [
       "<html>\\[\\newcommand{\\Bold}[1]{\\mathbf{#1}}\\begin{array}{l}\n",
       "\\verb|[False|\\verb|  |\\verb|True|\\verb|  |\\verb|True|\\verb| |\\verb|False|\\verb|  |\\verb|True|\\verb| |\\verb|False|\\verb| |\\verb|False|\\verb|  |\\verb|True|\\verb|  |\\verb|True|\\verb| |\\verb|False|\\verb| |\\verb|False|\\verb| |\\verb|False|\\\\\n",
       "\\verb| |\\verb|False|\\verb| |\\verb|False|\\verb|  |\\verb|True]|\n",
       "\\end{array}\\]</html>"
      ],
      "text/latex": [
       "$$\\newcommand{\\Bold}[1]{\\mathbf{#1}}\\begin{array}{l}\n",
       "\\verb|[False|\\verb|  |\\verb|True|\\verb|  |\\verb|True|\\verb| |\\verb|False|\\verb|  |\\verb|True|\\verb| |\\verb|False|\\verb| |\\verb|False|\\verb|  |\\verb|True|\\verb|  |\\verb|True|\\verb| |\\verb|False|\\verb| |\\verb|False|\\verb| |\\verb|False|\\\\\n",
       "\\verb| |\\verb|False|\\verb| |\\verb|False|\\verb|  |\\verb|True]|\n",
       "\\end{array}$$"
      ],
      "text/plain": [
       "array([False,  True,  True, False,  True, False, False,  True,  True,\n",
       "       False, False, False, False, False,  True])"
      ]
     },
     "execution_count": 25,
     "metadata": {},
     "output_type": "execute_result"
    }
   ],
   "source": [
    "np.array(myarr_0_mod_16)%4==0"
   ]
  },
  {
   "cell_type": "code",
   "execution_count": 26,
   "id": "04216697",
   "metadata": {},
   "outputs": [
    {
     "data": {
      "text/html": [
       "<html>\\[\\newcommand{\\Bold}[1]{\\mathbf{#1}}\\begin{array}{l}\n",
       "\\verb|[|\\verb| |\\verb|True|\\verb|  |\\verb|True|\\verb|  |\\verb|True|\\verb|  |\\verb|True|\\verb|  |\\verb|True|\\verb|  |\\verb|True|\\verb|  |\\verb|True|\\verb|  |\\verb|True|\\verb|  |\\verb|True|\\verb|  |\\verb|True|\\verb|  |\\verb|True|\\verb|  |\\verb|True|\\\\\n",
       "\\verb|  |\\verb|True|\\verb|  |\\verb|True|\\verb|  |\\verb|True]|\n",
       "\\end{array}\\]</html>"
      ],
      "text/latex": [
       "$$\\newcommand{\\Bold}[1]{\\mathbf{#1}}\\begin{array}{l}\n",
       "\\verb|[|\\verb| |\\verb|True|\\verb|  |\\verb|True|\\verb|  |\\verb|True|\\verb|  |\\verb|True|\\verb|  |\\verb|True|\\verb|  |\\verb|True|\\verb|  |\\verb|True|\\verb|  |\\verb|True|\\verb|  |\\verb|True|\\verb|  |\\verb|True|\\verb|  |\\verb|True|\\verb|  |\\verb|True|\\\\\n",
       "\\verb|  |\\verb|True|\\verb|  |\\verb|True|\\verb|  |\\verb|True]|\n",
       "\\end{array}$$"
      ],
      "text/plain": [
       "array([ True,  True,  True,  True,  True,  True,  True,  True,  True,\n",
       "        True,  True,  True,  True,  True,  True])"
      ]
     },
     "execution_count": 26,
     "metadata": {},
     "output_type": "execute_result"
    }
   ],
   "source": [
    "np.array(myarr_1_mod_16)%8==0"
   ]
  },
  {
   "cell_type": "code",
   "execution_count": 27,
   "id": "1cdccd36",
   "metadata": {},
   "outputs": [
    {
     "data": {
      "text/html": [
       "<html>\\[\\newcommand{\\Bold}[1]{\\mathbf{#1}}\\begin{array}{l}\n",
       "\\verb|[|\\verb| |\\verb|True|\\verb| |\\verb|False|\\verb| |\\verb|False|\\verb|  |\\verb|True|\\verb|  |\\verb|True|\\verb| |\\verb|False|\\verb| |\\verb|False|\\verb|  |\\verb|True|\\verb| |\\verb|False|\\verb|  |\\verb|True|\\verb|  |\\verb|True|\\verb| |\\verb|False|\\\\\n",
       "\\verb| |\\verb|False|\\verb| |\\verb|False|\\verb| |\\verb|False]|\n",
       "\\end{array}\\]</html>"
      ],
      "text/latex": [
       "$$\\newcommand{\\Bold}[1]{\\mathbf{#1}}\\begin{array}{l}\n",
       "\\verb|[|\\verb| |\\verb|True|\\verb| |\\verb|False|\\verb| |\\verb|False|\\verb|  |\\verb|True|\\verb|  |\\verb|True|\\verb| |\\verb|False|\\verb| |\\verb|False|\\verb|  |\\verb|True|\\verb| |\\verb|False|\\verb|  |\\verb|True|\\verb|  |\\verb|True|\\verb| |\\verb|False|\\\\\n",
       "\\verb| |\\verb|False|\\verb| |\\verb|False|\\verb| |\\verb|False]|\n",
       "\\end{array}$$"
      ],
      "text/plain": [
       "array([ True, False, False,  True,  True, False, False,  True, False,\n",
       "        True,  True, False, False, False, False])"
      ]
     },
     "execution_count": 27,
     "metadata": {},
     "output_type": "execute_result"
    }
   ],
   "source": [
    "np.array(myarr_1_mod_16)%16==0"
   ]
  },
  {
   "cell_type": "code",
   "execution_count": 28,
   "id": "f1f48ac5",
   "metadata": {},
   "outputs": [
    {
     "data": {
      "text/html": [
       "<html>\\[\\newcommand{\\Bold}[1]{\\mathbf{#1}}\\left(17, 8, \\frac{1}{2}\\right)\\]</html>"
      ],
      "text/latex": [
       "$$\\newcommand{\\Bold}[1]{\\mathbf{#1}}\\left(17, 8, \\frac{1}{2}\\right)$$"
      ],
      "text/plain": [
       "(17, 8, 1/2)"
      ]
     },
     "execution_count": 28,
     "metadata": {},
     "output_type": "execute_result"
    }
   ],
   "source": [
    "16*1+1, op35[17], op35[17]/16"
   ]
  },
  {
   "cell_type": "code",
   "execution_count": 29,
   "id": "0c1c954f",
   "metadata": {},
   "outputs": [
    {
     "data": {
      "text/html": [
       "<html>\\[\\newcommand{\\Bold}[1]{\\mathbf{#1}}\\begin{array}{l}\n",
       "\\verb|[|\\verb| |\\verb|True|\\verb| |\\verb|False|\\verb|  |\\verb|True|\\verb| |\\verb|False|\\verb|  |\\verb|True|\\verb|  |\\verb|True|\\verb|  |\\verb|True|\\verb|  |\\verb|True|\\verb|  |\\verb|True|\\verb|  |\\verb|True|\\verb|  |\\verb|True|\\verb|  |\\verb|True|\\\\\n",
       "\\verb|  |\\verb|True|\\verb|  |\\verb|True|\\verb|  |\\verb|True]|\n",
       "\\end{array}\\]</html>"
      ],
      "text/latex": [
       "$$\\newcommand{\\Bold}[1]{\\mathbf{#1}}\\begin{array}{l}\n",
       "\\verb|[|\\verb| |\\verb|True|\\verb| |\\verb|False|\\verb|  |\\verb|True|\\verb| |\\verb|False|\\verb|  |\\verb|True|\\verb|  |\\verb|True|\\verb|  |\\verb|True|\\verb|  |\\verb|True|\\verb|  |\\verb|True|\\verb|  |\\verb|True|\\verb|  |\\verb|True|\\verb|  |\\verb|True|\\\\\n",
       "\\verb|  |\\verb|True|\\verb|  |\\verb|True|\\verb|  |\\verb|True]|\n",
       "\\end{array}$$"
      ],
      "text/plain": [
       "array([ True, False,  True, False,  True,  True,  True,  True,  True,\n",
       "        True,  True,  True,  True,  True,  True])"
      ]
     },
     "execution_count": 29,
     "metadata": {},
     "output_type": "execute_result"
    }
   ],
   "source": [
    "np.array(myarr_2_mod_16)%4==0"
   ]
  },
  {
   "cell_type": "code",
   "execution_count": 30,
   "id": "cf1bbaf6",
   "metadata": {},
   "outputs": [
    {
     "data": {
      "text/html": [
       "<html>\\[\\newcommand{\\Bold}[1]{\\mathbf{#1}}\\begin{array}{l}\n",
       "\\verb|[False|\\verb| |\\verb|False|\\verb|  |\\verb|True|\\verb|  |\\verb|True|\\verb| |\\verb|False|\\verb| |\\verb|False|\\verb| |\\verb|False|\\verb|  |\\verb|True|\\verb| |\\verb|False|\\verb| |\\verb|False|\\verb| |\\verb|False|\\verb| |\\verb|False|\\\\\n",
       "\\verb|  |\\verb|True|\\verb| |\\verb|False|\\verb| |\\verb|False]|\n",
       "\\end{array}\\]</html>"
      ],
      "text/latex": [
       "$$\\newcommand{\\Bold}[1]{\\mathbf{#1}}\\begin{array}{l}\n",
       "\\verb|[False|\\verb| |\\verb|False|\\verb|  |\\verb|True|\\verb|  |\\verb|True|\\verb| |\\verb|False|\\verb| |\\verb|False|\\verb| |\\verb|False|\\verb|  |\\verb|True|\\verb| |\\verb|False|\\verb| |\\verb|False|\\verb| |\\verb|False|\\verb| |\\verb|False|\\\\\n",
       "\\verb|  |\\verb|True|\\verb| |\\verb|False|\\verb| |\\verb|False]|\n",
       "\\end{array}$$"
      ],
      "text/plain": [
       "array([False, False,  True,  True, False, False, False,  True, False,\n",
       "       False, False, False,  True, False, False])"
      ]
     },
     "execution_count": 30,
     "metadata": {},
     "output_type": "execute_result"
    }
   ],
   "source": [
    "np.array(myarr_3_mod_16)%4==0"
   ]
  },
  {
   "cell_type": "code",
   "execution_count": 31,
   "id": "aa109e1f",
   "metadata": {},
   "outputs": [
    {
     "data": {
      "text/html": [
       "<html>\\[\\newcommand{\\Bold}[1]{\\mathbf{#1}}\\begin{array}{l}\n",
       "\\verb|[|\\verb| |\\verb|True|\\verb| |\\verb|False|\\verb| |\\verb|False|\\verb| |\\verb|False|\\verb|  |\\verb|True|\\verb|  |\\verb|True|\\verb| |\\verb|False|\\verb| |\\verb|False|\\verb|  |\\verb|True|\\verb| |\\verb|False|\\verb|  |\\verb|True|\\verb| |\\verb|False|\\\\\n",
       "\\verb|  |\\verb|True|\\verb| |\\verb|False|\\verb|  |\\verb|True]|\n",
       "\\end{array}\\]</html>"
      ],
      "text/latex": [
       "$$\\newcommand{\\Bold}[1]{\\mathbf{#1}}\\begin{array}{l}\n",
       "\\verb|[|\\verb| |\\verb|True|\\verb| |\\verb|False|\\verb| |\\verb|False|\\verb| |\\verb|False|\\verb|  |\\verb|True|\\verb|  |\\verb|True|\\verb| |\\verb|False|\\verb| |\\verb|False|\\verb|  |\\verb|True|\\verb| |\\verb|False|\\verb|  |\\verb|True|\\verb| |\\verb|False|\\\\\n",
       "\\verb|  |\\verb|True|\\verb| |\\verb|False|\\verb|  |\\verb|True]|\n",
       "\\end{array}$$"
      ],
      "text/plain": [
       "array([ True, False, False, False,  True,  True, False, False,  True,\n",
       "       False,  True, False,  True, False,  True])"
      ]
     },
     "execution_count": 31,
     "metadata": {},
     "output_type": "execute_result"
    }
   ],
   "source": [
    "np.array(myarr_4_mod_16)%4==0"
   ]
  },
  {
   "cell_type": "code",
   "execution_count": 32,
   "id": "b764017a",
   "metadata": {},
   "outputs": [
    {
     "data": {
      "text/html": [
       "<html>\\[\\newcommand{\\Bold}[1]{\\mathbf{#1}}\\begin{array}{l}\n",
       "\\verb|[False|\\verb|  |\\verb|True|\\verb| |\\verb|False|\\verb| |\\verb|False|\\verb|  |\\verb|True|\\verb|  |\\verb|True|\\verb| |\\verb|False|\\verb| |\\verb|False|\\verb|  |\\verb|True|\\verb| |\\verb|False|\\verb|  |\\verb|True|\\verb| |\\verb|False|\\\\\n",
       "\\verb| |\\verb|False|\\verb|  |\\verb|True|\\verb| |\\verb|False]|\n",
       "\\end{array}\\]</html>"
      ],
      "text/latex": [
       "$$\\newcommand{\\Bold}[1]{\\mathbf{#1}}\\begin{array}{l}\n",
       "\\verb|[False|\\verb|  |\\verb|True|\\verb| |\\verb|False|\\verb| |\\verb|False|\\verb|  |\\verb|True|\\verb|  |\\verb|True|\\verb| |\\verb|False|\\verb| |\\verb|False|\\verb|  |\\verb|True|\\verb| |\\verb|False|\\verb|  |\\verb|True|\\verb| |\\verb|False|\\\\\n",
       "\\verb| |\\verb|False|\\verb|  |\\verb|True|\\verb| |\\verb|False]|\n",
       "\\end{array}$$"
      ],
      "text/plain": [
       "array([False,  True, False, False,  True,  True, False, False,  True,\n",
       "       False,  True, False, False,  True, False])"
      ]
     },
     "execution_count": 32,
     "metadata": {},
     "output_type": "execute_result"
    }
   ],
   "source": [
    "np.array(myarr_5_mod_16)%4==0"
   ]
  },
  {
   "cell_type": "code",
   "execution_count": 33,
   "id": "e824a57f",
   "metadata": {},
   "outputs": [
    {
     "data": {
      "text/html": [
       "<html>\\[\\newcommand{\\Bold}[1]{\\mathbf{#1}}\\begin{array}{l}\n",
       "\\verb|[False|\\verb| |\\verb|False|\\verb| |\\verb|False|\\verb|  |\\verb|True|\\verb|  |\\verb|True|\\verb| |\\verb|False|\\verb|  |\\verb|True|\\verb| |\\verb|False|\\verb| |\\verb|False|\\verb| |\\verb|False|\\verb| |\\verb|False|\\verb|  |\\verb|True|\\\\\n",
       "\\verb| |\\verb|False|\\verb| |\\verb|False|\\verb|  |\\verb|True]|\n",
       "\\end{array}\\]</html>"
      ],
      "text/latex": [
       "$$\\newcommand{\\Bold}[1]{\\mathbf{#1}}\\begin{array}{l}\n",
       "\\verb|[False|\\verb| |\\verb|False|\\verb| |\\verb|False|\\verb|  |\\verb|True|\\verb|  |\\verb|True|\\verb| |\\verb|False|\\verb|  |\\verb|True|\\verb| |\\verb|False|\\verb| |\\verb|False|\\verb| |\\verb|False|\\verb| |\\verb|False|\\verb|  |\\verb|True|\\\\\n",
       "\\verb| |\\verb|False|\\verb| |\\verb|False|\\verb|  |\\verb|True]|\n",
       "\\end{array}$$"
      ],
      "text/plain": [
       "array([False, False, False,  True,  True, False,  True, False, False,\n",
       "       False, False,  True, False, False,  True])"
      ]
     },
     "execution_count": 33,
     "metadata": {},
     "output_type": "execute_result"
    }
   ],
   "source": [
    "np.array(myarr_6_mod_16)%4==0"
   ]
  },
  {
   "cell_type": "code",
   "execution_count": 34,
   "id": "e032e59e",
   "metadata": {},
   "outputs": [
    {
     "data": {
      "text/html": [
       "<html>\\[\\newcommand{\\Bold}[1]{\\mathbf{#1}}\\begin{array}{l}\n",
       "\\verb|[|\\verb| |\\verb|True|\\verb|  |\\verb|True|\\verb|  |\\verb|True|\\verb|  |\\verb|True|\\verb|  |\\verb|True|\\verb|  |\\verb|True|\\verb|  |\\verb|True|\\verb|  |\\verb|True|\\verb|  |\\verb|True|\\verb|  |\\verb|True|\\verb|  |\\verb|True|\\verb|  |\\verb|True|\\\\\n",
       "\\verb|  |\\verb|True|\\verb|  |\\verb|True|\\verb|  |\\verb|True]|\n",
       "\\end{array}\\]</html>"
      ],
      "text/latex": [
       "$$\\newcommand{\\Bold}[1]{\\mathbf{#1}}\\begin{array}{l}\n",
       "\\verb|[|\\verb| |\\verb|True|\\verb|  |\\verb|True|\\verb|  |\\verb|True|\\verb|  |\\verb|True|\\verb|  |\\verb|True|\\verb|  |\\verb|True|\\verb|  |\\verb|True|\\verb|  |\\verb|True|\\verb|  |\\verb|True|\\verb|  |\\verb|True|\\verb|  |\\verb|True|\\verb|  |\\verb|True|\\\\\n",
       "\\verb|  |\\verb|True|\\verb|  |\\verb|True|\\verb|  |\\verb|True]|\n",
       "\\end{array}$$"
      ],
      "text/plain": [
       "array([ True,  True,  True,  True,  True,  True,  True,  True,  True,\n",
       "        True,  True,  True,  True,  True,  True])"
      ]
     },
     "execution_count": 34,
     "metadata": {},
     "output_type": "execute_result"
    }
   ],
   "source": [
    "np.array(myarr_7_mod_16)%16==0"
   ]
  },
  {
   "cell_type": "code",
   "execution_count": 35,
   "id": "33b3a346",
   "metadata": {},
   "outputs": [
    {
     "data": {
      "text/html": [
       "<html>\\[\\newcommand{\\Bold}[1]{\\mathbf{#1}}\\begin{array}{l}\n",
       "\\verb|[|\\verb| |\\verb|True|\\verb| |\\verb|False|\\verb|  |\\verb|True|\\verb|  |\\verb|True|\\verb| |\\verb|False|\\verb| |\\verb|False|\\verb| |\\verb|False|\\verb| |\\verb|False|\\verb| |\\verb|False|\\verb| |\\verb|False|\\verb|  |\\verb|True|\\verb|  |\\verb|True|\\\\\n",
       "\\verb|  |\\verb|True|\\verb| |\\verb|False|\\verb| |\\verb|False]|\n",
       "\\end{array}\\]</html>"
      ],
      "text/latex": [
       "$$\\newcommand{\\Bold}[1]{\\mathbf{#1}}\\begin{array}{l}\n",
       "\\verb|[|\\verb| |\\verb|True|\\verb| |\\verb|False|\\verb|  |\\verb|True|\\verb|  |\\verb|True|\\verb| |\\verb|False|\\verb| |\\verb|False|\\verb| |\\verb|False|\\verb| |\\verb|False|\\verb| |\\verb|False|\\verb| |\\verb|False|\\verb|  |\\verb|True|\\verb|  |\\verb|True|\\\\\n",
       "\\verb|  |\\verb|True|\\verb| |\\verb|False|\\verb| |\\verb|False]|\n",
       "\\end{array}$$"
      ],
      "text/plain": [
       "array([ True, False,  True,  True, False, False, False, False, False,\n",
       "       False,  True,  True,  True, False, False])"
      ]
     },
     "execution_count": 35,
     "metadata": {},
     "output_type": "execute_result"
    }
   ],
   "source": [
    "np.array(myarr_7_mod_16)%32==0"
   ]
  },
  {
   "cell_type": "code",
   "execution_count": 36,
   "id": "4c7dab72",
   "metadata": {},
   "outputs": [
    {
     "data": {
      "text/html": [
       "<html>\\[\\newcommand{\\Bold}[1]{\\mathbf{#1}}\\left(23, 16, \\frac{1}{2}\\right)\\]</html>"
      ],
      "text/latex": [
       "$$\\newcommand{\\Bold}[1]{\\mathbf{#1}}\\left(23, 16, \\frac{1}{2}\\right)$$"
      ],
      "text/plain": [
       "(23, 16, 1/2)"
      ]
     },
     "execution_count": 36,
     "metadata": {},
     "output_type": "execute_result"
    }
   ],
   "source": [
    "16*1+7, op35[23], op35[23]/32"
   ]
  },
  {
   "cell_type": "code",
   "execution_count": 37,
   "id": "54555b2d",
   "metadata": {},
   "outputs": [
    {
     "data": {
      "text/html": [
       "<html>\\[\\newcommand{\\Bold}[1]{\\mathbf{#1}}\\begin{array}{l}\n",
       "\\verb|[|\\verb| |\\verb|True|\\verb| |\\verb|False|\\verb| |\\verb|False|\\verb|  |\\verb|True|\\verb| |\\verb|False|\\verb| |\\verb|False|\\verb| |\\verb|False|\\verb|  |\\verb|True|\\verb|  |\\verb|True|\\verb| |\\verb|False|\\verb|  |\\verb|True|\\verb|  |\\verb|True|\\\\\n",
       "\\verb| |\\verb|False|\\verb|  |\\verb|True|\\verb| |\\verb|False]|\n",
       "\\end{array}\\]</html>"
      ],
      "text/latex": [
       "$$\\newcommand{\\Bold}[1]{\\mathbf{#1}}\\begin{array}{l}\n",
       "\\verb|[|\\verb| |\\verb|True|\\verb| |\\verb|False|\\verb| |\\verb|False|\\verb|  |\\verb|True|\\verb| |\\verb|False|\\verb| |\\verb|False|\\verb| |\\verb|False|\\verb|  |\\verb|True|\\verb|  |\\verb|True|\\verb| |\\verb|False|\\verb|  |\\verb|True|\\verb|  |\\verb|True|\\\\\n",
       "\\verb| |\\verb|False|\\verb|  |\\verb|True|\\verb| |\\verb|False]|\n",
       "\\end{array}$$"
      ],
      "text/plain": [
       "array([ True, False, False,  True, False, False, False,  True,  True,\n",
       "       False,  True,  True, False,  True, False])"
      ]
     },
     "execution_count": 37,
     "metadata": {},
     "output_type": "execute_result"
    }
   ],
   "source": [
    "np.array(myarr_8_mod_16)%4==0"
   ]
  },
  {
   "cell_type": "code",
   "execution_count": 38,
   "id": "57e41962",
   "metadata": {},
   "outputs": [
    {
     "data": {
      "text/html": [
       "<html>\\[\\newcommand{\\Bold}[1]{\\mathbf{#1}}\\begin{array}{l}\n",
       "\\verb|[False|\\verb| |\\verb|False|\\verb|  |\\verb|True|\\verb|  |\\verb|True|\\verb|  |\\verb|True|\\verb|  |\\verb|True|\\verb|  |\\verb|True|\\verb| |\\verb|False|\\verb|  |\\verb|True|\\verb|  |\\verb|True|\\verb| |\\verb|False|\\verb|  |\\verb|True|\\\\\n",
       "\\verb|  |\\verb|True|\\verb|  |\\verb|True|\\verb|  |\\verb|True]|\n",
       "\\end{array}\\]</html>"
      ],
      "text/latex": [
       "$$\\newcommand{\\Bold}[1]{\\mathbf{#1}}\\begin{array}{l}\n",
       "\\verb|[False|\\verb| |\\verb|False|\\verb|  |\\verb|True|\\verb|  |\\verb|True|\\verb|  |\\verb|True|\\verb|  |\\verb|True|\\verb|  |\\verb|True|\\verb| |\\verb|False|\\verb|  |\\verb|True|\\verb|  |\\verb|True|\\verb| |\\verb|False|\\verb|  |\\verb|True|\\\\\n",
       "\\verb|  |\\verb|True|\\verb|  |\\verb|True|\\verb|  |\\verb|True]|\n",
       "\\end{array}$$"
      ],
      "text/plain": [
       "array([False, False,  True,  True,  True,  True,  True, False,  True,\n",
       "        True, False,  True,  True,  True,  True])"
      ]
     },
     "execution_count": 38,
     "metadata": {},
     "output_type": "execute_result"
    }
   ],
   "source": [
    "np.array(myarr_9_mod_16)%4==0"
   ]
  },
  {
   "cell_type": "code",
   "execution_count": 39,
   "id": "69d3f7ed",
   "metadata": {},
   "outputs": [
    {
     "data": {
      "text/html": [
       "<html>\\[\\newcommand{\\Bold}[1]{\\mathbf{#1}}\\begin{array}{l}\n",
       "\\verb|[False|\\verb| |\\verb|False|\\verb|  |\\verb|True|\\verb| |\\verb|False|\\verb| |\\verb|False|\\verb| |\\verb|False|\\verb| |\\verb|False|\\verb| |\\verb|False|\\verb|  |\\verb|True|\\verb|  |\\verb|True|\\verb|  |\\verb|True|\\verb|  |\\verb|True|\\\\\n",
       "\\verb| |\\verb|False|\\verb| |\\verb|False|\\verb| |\\verb|False]|\n",
       "\\end{array}\\]</html>"
      ],
      "text/latex": [
       "$$\\newcommand{\\Bold}[1]{\\mathbf{#1}}\\begin{array}{l}\n",
       "\\verb|[False|\\verb| |\\verb|False|\\verb|  |\\verb|True|\\verb| |\\verb|False|\\verb| |\\verb|False|\\verb| |\\verb|False|\\verb| |\\verb|False|\\verb| |\\verb|False|\\verb|  |\\verb|True|\\verb|  |\\verb|True|\\verb|  |\\verb|True|\\verb|  |\\verb|True|\\\\\n",
       "\\verb| |\\verb|False|\\verb| |\\verb|False|\\verb| |\\verb|False]|\n",
       "\\end{array}$$"
      ],
      "text/plain": [
       "array([False, False,  True, False, False, False, False, False,  True,\n",
       "        True,  True,  True, False, False, False])"
      ]
     },
     "execution_count": 39,
     "metadata": {},
     "output_type": "execute_result"
    }
   ],
   "source": [
    "np.array(myarr_10_mod_16)%4==0"
   ]
  },
  {
   "cell_type": "code",
   "execution_count": 40,
   "id": "be7d3caa",
   "metadata": {},
   "outputs": [
    {
     "data": {
      "text/html": [
       "<html>\\[\\newcommand{\\Bold}[1]{\\mathbf{#1}}\\begin{array}{l}\n",
       "\\verb|[False|\\verb|  |\\verb|True|\\verb| |\\verb|False|\\verb| |\\verb|False|\\verb| |\\verb|False|\\verb|  |\\verb|True|\\verb| |\\verb|False|\\verb|  |\\verb|True|\\verb| |\\verb|False|\\verb|  |\\verb|True|\\verb| |\\verb|False|\\verb|  |\\verb|True|\\\\\n",
       "\\verb|  |\\verb|True|\\verb|  |\\verb|True|\\verb|  |\\verb|True]|\n",
       "\\end{array}\\]</html>"
      ],
      "text/latex": [
       "$$\\newcommand{\\Bold}[1]{\\mathbf{#1}}\\begin{array}{l}\n",
       "\\verb|[False|\\verb|  |\\verb|True|\\verb| |\\verb|False|\\verb| |\\verb|False|\\verb| |\\verb|False|\\verb|  |\\verb|True|\\verb| |\\verb|False|\\verb|  |\\verb|True|\\verb| |\\verb|False|\\verb|  |\\verb|True|\\verb| |\\verb|False|\\verb|  |\\verb|True|\\\\\n",
       "\\verb|  |\\verb|True|\\verb|  |\\verb|True|\\verb|  |\\verb|True]|\n",
       "\\end{array}$$"
      ],
      "text/plain": [
       "array([False,  True, False, False, False,  True, False,  True, False,\n",
       "        True, False,  True,  True,  True,  True])"
      ]
     },
     "execution_count": 40,
     "metadata": {},
     "output_type": "execute_result"
    }
   ],
   "source": [
    "np.array(myarr_11_mod_16)%4==0"
   ]
  },
  {
   "cell_type": "code",
   "execution_count": 41,
   "id": "8d590a96",
   "metadata": {},
   "outputs": [
    {
     "data": {
      "text/html": [
       "<html>\\[\\newcommand{\\Bold}[1]{\\mathbf{#1}}\\begin{array}{l}\n",
       "\\verb|[False|\\verb|  |\\verb|True|\\verb| |\\verb|False|\\verb|  |\\verb|True|\\verb| |\\verb|False|\\verb|  |\\verb|True|\\verb|  |\\verb|True|\\verb|  |\\verb|True|\\verb|  |\\verb|True|\\verb|  |\\verb|True|\\verb| |\\verb|False|\\verb|  |\\verb|True|\\\\\n",
       "\\verb|  |\\verb|True|\\verb|  |\\verb|True|\\verb| |\\verb|False]|\n",
       "\\end{array}\\]</html>"
      ],
      "text/latex": [
       "$$\\newcommand{\\Bold}[1]{\\mathbf{#1}}\\begin{array}{l}\n",
       "\\verb|[False|\\verb|  |\\verb|True|\\verb| |\\verb|False|\\verb|  |\\verb|True|\\verb| |\\verb|False|\\verb|  |\\verb|True|\\verb|  |\\verb|True|\\verb|  |\\verb|True|\\verb|  |\\verb|True|\\verb|  |\\verb|True|\\verb| |\\verb|False|\\verb|  |\\verb|True|\\\\\n",
       "\\verb|  |\\verb|True|\\verb|  |\\verb|True|\\verb| |\\verb|False]|\n",
       "\\end{array}$$"
      ],
      "text/plain": [
       "array([False,  True, False,  True, False,  True,  True,  True,  True,\n",
       "        True, False,  True,  True,  True, False])"
      ]
     },
     "execution_count": 41,
     "metadata": {},
     "output_type": "execute_result"
    }
   ],
   "source": [
    "np.array(myarr_12_mod_16)%4==0"
   ]
  },
  {
   "cell_type": "code",
   "execution_count": 42,
   "id": "d2fa9e4b",
   "metadata": {},
   "outputs": [
    {
     "data": {
      "text/html": [
       "<html>\\[\\newcommand{\\Bold}[1]{\\mathbf{#1}}\\begin{array}{l}\n",
       "\\verb|[False|\\verb| |\\verb|False|\\verb| |\\verb|False|\\verb| |\\verb|False|\\verb|  |\\verb|True|\\verb|  |\\verb|True|\\verb| |\\verb|False|\\verb|  |\\verb|True|\\verb|  |\\verb|True|\\verb| |\\verb|False|\\verb| |\\verb|False|\\verb|  |\\verb|True|\\\\\n",
       "\\verb|  |\\verb|True|\\verb|  |\\verb|True|\\verb|  |\\verb|True]|\n",
       "\\end{array}\\]</html>"
      ],
      "text/latex": [
       "$$\\newcommand{\\Bold}[1]{\\mathbf{#1}}\\begin{array}{l}\n",
       "\\verb|[False|\\verb| |\\verb|False|\\verb| |\\verb|False|\\verb| |\\verb|False|\\verb|  |\\verb|True|\\verb|  |\\verb|True|\\verb| |\\verb|False|\\verb|  |\\verb|True|\\verb|  |\\verb|True|\\verb| |\\verb|False|\\verb| |\\verb|False|\\verb|  |\\verb|True|\\\\\n",
       "\\verb|  |\\verb|True|\\verb|  |\\verb|True|\\verb|  |\\verb|True]|\n",
       "\\end{array}$$"
      ],
      "text/plain": [
       "array([False, False, False, False,  True,  True, False,  True,  True,\n",
       "       False, False,  True,  True,  True,  True])"
      ]
     },
     "execution_count": 42,
     "metadata": {},
     "output_type": "execute_result"
    }
   ],
   "source": [
    "np.array(myarr_13_mod_16)%4==0"
   ]
  },
  {
   "cell_type": "code",
   "execution_count": 43,
   "id": "db6797c5",
   "metadata": {},
   "outputs": [
    {
     "data": {
      "text/html": [
       "<html>\\[\\newcommand{\\Bold}[1]{\\mathbf{#1}}\\begin{array}{l}\n",
       "\\verb|[|\\verb| |\\verb|True|\\verb|  |\\verb|True|\\verb|  |\\verb|True|\\verb|  |\\verb|True|\\verb|  |\\verb|True|\\verb|  |\\verb|True|\\verb|  |\\verb|True|\\verb|  |\\verb|True|\\verb|  |\\verb|True|\\verb|  |\\verb|True|\\verb|  |\\verb|True|\\verb|  |\\verb|True|\\\\\n",
       "\\verb|  |\\verb|True|\\verb|  |\\verb|True|\\verb|  |\\verb|True]|\n",
       "\\end{array}\\]</html>"
      ],
      "text/latex": [
       "$$\\newcommand{\\Bold}[1]{\\mathbf{#1}}\\begin{array}{l}\n",
       "\\verb|[|\\verb| |\\verb|True|\\verb|  |\\verb|True|\\verb|  |\\verb|True|\\verb|  |\\verb|True|\\verb|  |\\verb|True|\\verb|  |\\verb|True|\\verb|  |\\verb|True|\\verb|  |\\verb|True|\\verb|  |\\verb|True|\\verb|  |\\verb|True|\\verb|  |\\verb|True|\\verb|  |\\verb|True|\\\\\n",
       "\\verb|  |\\verb|True|\\verb|  |\\verb|True|\\verb|  |\\verb|True]|\n",
       "\\end{array}$$"
      ],
      "text/plain": [
       "array([ True,  True,  True,  True,  True,  True,  True,  True,  True,\n",
       "        True,  True,  True,  True,  True,  True])"
      ]
     },
     "execution_count": 43,
     "metadata": {},
     "output_type": "execute_result"
    }
   ],
   "source": [
    "np.array(myarr_14_mod_16)%4==0"
   ]
  },
  {
   "cell_type": "code",
   "execution_count": 44,
   "id": "16ebf91b",
   "metadata": {},
   "outputs": [
    {
     "data": {
      "text/html": [
       "<html>\\[\\newcommand{\\Bold}[1]{\\mathbf{#1}}\\begin{array}{l}\n",
       "\\verb|[|\\verb| |\\verb|True|\\verb| |\\verb|False|\\verb|  |\\verb|True|\\verb|  |\\verb|True|\\verb|  |\\verb|True|\\verb|  |\\verb|True|\\verb|  |\\verb|True|\\verb| |\\verb|False|\\verb|  |\\verb|True|\\verb|  |\\verb|True|\\verb|  |\\verb|True|\\verb| |\\verb|False|\\\\\n",
       "\\verb|  |\\verb|True|\\verb| |\\verb|False|\\verb|  |\\verb|True]|\n",
       "\\end{array}\\]</html>"
      ],
      "text/latex": [
       "$$\\newcommand{\\Bold}[1]{\\mathbf{#1}}\\begin{array}{l}\n",
       "\\verb|[|\\verb| |\\verb|True|\\verb| |\\verb|False|\\verb|  |\\verb|True|\\verb|  |\\verb|True|\\verb|  |\\verb|True|\\verb|  |\\verb|True|\\verb|  |\\verb|True|\\verb| |\\verb|False|\\verb|  |\\verb|True|\\verb|  |\\verb|True|\\verb|  |\\verb|True|\\verb| |\\verb|False|\\\\\n",
       "\\verb|  |\\verb|True|\\verb| |\\verb|False|\\verb|  |\\verb|True]|\n",
       "\\end{array}$$"
      ],
      "text/plain": [
       "array([ True, False,  True,  True,  True,  True,  True, False,  True,\n",
       "        True,  True, False,  True, False,  True])"
      ]
     },
     "execution_count": 44,
     "metadata": {},
     "output_type": "execute_result"
    }
   ],
   "source": [
    "np.array(myarr_14_mod_16)%8==0"
   ]
  },
  {
   "cell_type": "code",
   "execution_count": 45,
   "id": "d18a8c49",
   "metadata": {},
   "outputs": [
    {
     "data": {
      "text/html": [
       "<html>\\[\\newcommand{\\Bold}[1]{\\mathbf{#1}}\\left(30, 60, \\frac{15}{2}\\right)\\]</html>"
      ],
      "text/latex": [
       "$$\\newcommand{\\Bold}[1]{\\mathbf{#1}}\\left(30, 60, \\frac{15}{2}\\right)$$"
      ],
      "text/plain": [
       "(30, 60, 15/2)"
      ]
     },
     "execution_count": 45,
     "metadata": {},
     "output_type": "execute_result"
    }
   ],
   "source": [
    "16*1+14, op35[30], op35[30]/8"
   ]
  },
  {
   "cell_type": "code",
   "execution_count": 46,
   "id": "153bff6f",
   "metadata": {},
   "outputs": [
    {
     "data": {
      "text/html": [
       "<html>\\[\\newcommand{\\Bold}[1]{\\mathbf{#1}}\\begin{array}{l}\n",
       "\\verb|[|\\verb| |\\verb|True|\\verb|  |\\verb|True|\\verb|  |\\verb|True|\\verb|  |\\verb|True|\\verb|  |\\verb|True|\\verb|  |\\verb|True|\\verb|  |\\verb|True|\\verb|  |\\verb|True|\\verb|  |\\verb|True|\\verb|  |\\verb|True|\\verb|  |\\verb|True|\\verb|  |\\verb|True|\\\\\n",
       "\\verb|  |\\verb|True|\\verb|  |\\verb|True|\\verb|  |\\verb|True]|\n",
       "\\end{array}\\]</html>"
      ],
      "text/latex": [
       "$$\\newcommand{\\Bold}[1]{\\mathbf{#1}}\\begin{array}{l}\n",
       "\\verb|[|\\verb| |\\verb|True|\\verb|  |\\verb|True|\\verb|  |\\verb|True|\\verb|  |\\verb|True|\\verb|  |\\verb|True|\\verb|  |\\verb|True|\\verb|  |\\verb|True|\\verb|  |\\verb|True|\\verb|  |\\verb|True|\\verb|  |\\verb|True|\\verb|  |\\verb|True|\\verb|  |\\verb|True|\\\\\n",
       "\\verb|  |\\verb|True|\\verb|  |\\verb|True|\\verb|  |\\verb|True]|\n",
       "\\end{array}$$"
      ],
      "text/plain": [
       "array([ True,  True,  True,  True,  True,  True,  True,  True,  True,\n",
       "        True,  True,  True,  True,  True,  True])"
      ]
     },
     "execution_count": 46,
     "metadata": {},
     "output_type": "execute_result"
    }
   ],
   "source": [
    "np.array(myarr_15_mod_16)%4==0"
   ]
  },
  {
   "cell_type": "code",
   "execution_count": 47,
   "id": "e8d9e747",
   "metadata": {},
   "outputs": [
    {
     "data": {
      "text/html": [
       "<html>\\[\\newcommand{\\Bold}[1]{\\mathbf{#1}}\\verb|[False|\\verb|  |\\verb|True|\\verb|  |\\verb|True|\\verb| |\\verb|False|\\verb|  |\\verb|True|\\verb| |\\verb|False|\\verb| |\\verb|False|\\verb|  |\\verb|True|\\verb|  |\\verb|True|\\verb| |\\verb|False]|\\]</html>"
      ],
      "text/latex": [
       "$$\\newcommand{\\Bold}[1]{\\mathbf{#1}}\\verb|[False|\\verb|  |\\verb|True|\\verb|  |\\verb|True|\\verb| |\\verb|False|\\verb|  |\\verb|True|\\verb| |\\verb|False|\\verb| |\\verb|False|\\verb|  |\\verb|True|\\verb|  |\\verb|True|\\verb| |\\verb|False]|$$"
      ],
      "text/plain": [
       "array([False,  True,  True, False,  True, False, False,  True,  True,\n",
       "       False])"
      ]
     },
     "execution_count": 47,
     "metadata": {},
     "output_type": "execute_result"
    }
   ],
   "source": [
    "np.array(myarr_0_mod_32)%4==0"
   ]
  },
  {
   "cell_type": "code",
   "execution_count": 48,
   "id": "de989d8b",
   "metadata": {},
   "outputs": [
    {
     "data": {
      "text/html": [
       "<html>\\[\\newcommand{\\Bold}[1]{\\mathbf{#1}}\\verb|[|\\verb| |\\verb|True|\\verb|  |\\verb|True|\\verb|  |\\verb|True|\\verb|  |\\verb|True|\\verb|  |\\verb|True|\\verb|  |\\verb|True|\\verb|  |\\verb|True|\\verb|  |\\verb|True|\\verb|  |\\verb|True|\\verb|  |\\verb|True]|\\]</html>"
      ],
      "text/latex": [
       "$$\\newcommand{\\Bold}[1]{\\mathbf{#1}}\\verb|[|\\verb| |\\verb|True|\\verb|  |\\verb|True|\\verb|  |\\verb|True|\\verb|  |\\verb|True|\\verb|  |\\verb|True|\\verb|  |\\verb|True|\\verb|  |\\verb|True|\\verb|  |\\verb|True|\\verb|  |\\verb|True|\\verb|  |\\verb|True]|$$"
      ],
      "text/plain": [
       "array([ True,  True,  True,  True,  True,  True,  True,  True,  True,\n",
       "        True])"
      ]
     },
     "execution_count": 48,
     "metadata": {},
     "output_type": "execute_result"
    }
   ],
   "source": [
    "np.array(myarr_1_mod_32)%8==0"
   ]
  },
  {
   "cell_type": "code",
   "execution_count": 49,
   "id": "290341dd",
   "metadata": {},
   "outputs": [
    {
     "data": {
      "text/html": [
       "<html>\\[\\newcommand{\\Bold}[1]{\\mathbf{#1}}\\verb|[|\\verb| |\\verb|True|\\verb|  |\\verb|True|\\verb|  |\\verb|True|\\verb|  |\\verb|True|\\verb|  |\\verb|True|\\verb|  |\\verb|True|\\verb|  |\\verb|True|\\verb|  |\\verb|True|\\verb|  |\\verb|True|\\verb|  |\\verb|True]|\\]</html>"
      ],
      "text/latex": [
       "$$\\newcommand{\\Bold}[1]{\\mathbf{#1}}\\verb|[|\\verb| |\\verb|True|\\verb|  |\\verb|True|\\verb|  |\\verb|True|\\verb|  |\\verb|True|\\verb|  |\\verb|True|\\verb|  |\\verb|True|\\verb|  |\\verb|True|\\verb|  |\\verb|True|\\verb|  |\\verb|True|\\verb|  |\\verb|True]|$$"
      ],
      "text/plain": [
       "array([ True,  True,  True,  True,  True,  True,  True,  True,  True,\n",
       "        True])"
      ]
     },
     "execution_count": 49,
     "metadata": {},
     "output_type": "execute_result"
    }
   ],
   "source": [
    "np.array(myarr_2_mod_32)%16==0"
   ]
  },
  {
   "cell_type": "code",
   "execution_count": 50,
   "id": "6c287758",
   "metadata": {},
   "outputs": [
    {
     "data": {
      "text/html": [
       "<html>\\[\\newcommand{\\Bold}[1]{\\mathbf{#1}}\\verb|[|\\verb| |\\verb|True|\\verb| |\\verb|False|\\verb|  |\\verb|True|\\verb|  |\\verb|True|\\verb| |\\verb|False|\\verb|  |\\verb|True|\\verb| |\\verb|False|\\verb|  |\\verb|True|\\verb|  |\\verb|True|\\verb| |\\verb|False]|\\]</html>"
      ],
      "text/latex": [
       "$$\\newcommand{\\Bold}[1]{\\mathbf{#1}}\\verb|[|\\verb| |\\verb|True|\\verb| |\\verb|False|\\verb|  |\\verb|True|\\verb|  |\\verb|True|\\verb| |\\verb|False|\\verb|  |\\verb|True|\\verb| |\\verb|False|\\verb|  |\\verb|True|\\verb|  |\\verb|True|\\verb| |\\verb|False]|$$"
      ],
      "text/plain": [
       "array([ True, False,  True,  True, False,  True, False,  True,  True,\n",
       "       False])"
      ]
     },
     "execution_count": 50,
     "metadata": {},
     "output_type": "execute_result"
    }
   ],
   "source": [
    "np.array(myarr_2_mod_32)%32==0"
   ]
  },
  {
   "cell_type": "code",
   "execution_count": 51,
   "id": "d2c5989c",
   "metadata": {},
   "outputs": [
    {
     "data": {
      "text/html": [
       "<html>\\[\\newcommand{\\Bold}[1]{\\mathbf{#1}}\\left(34, 80, \\frac{5}{2}\\right)\\]</html>"
      ],
      "text/latex": [
       "$$\\newcommand{\\Bold}[1]{\\mathbf{#1}}\\left(34, 80, \\frac{5}{2}\\right)$$"
      ],
      "text/plain": [
       "(34, 80, 5/2)"
      ]
     },
     "execution_count": 51,
     "metadata": {},
     "output_type": "execute_result"
    }
   ],
   "source": [
    "32*1+2, op35[34], op35[34]/32"
   ]
  },
  {
   "cell_type": "code",
   "execution_count": 52,
   "id": "941d0c9d",
   "metadata": {},
   "outputs": [
    {
     "data": {
      "text/html": [
       "<html>\\[\\newcommand{\\Bold}[1]{\\mathbf{#1}}\\verb|[False|\\verb|  |\\verb|True|\\verb| |\\verb|False|\\verb| |\\verb|False|\\verb| |\\verb|False|\\verb| |\\verb|False|\\verb|  |\\verb|True|\\verb| |\\verb|False]|\\]</html>"
      ],
      "text/latex": [
       "$$\\newcommand{\\Bold}[1]{\\mathbf{#1}}\\verb|[False|\\verb|  |\\verb|True|\\verb| |\\verb|False|\\verb| |\\verb|False|\\verb| |\\verb|False|\\verb| |\\verb|False|\\verb|  |\\verb|True|\\verb| |\\verb|False]|$$"
      ],
      "text/plain": [
       "array([False,  True, False, False, False, False,  True, False])"
      ]
     },
     "execution_count": 52,
     "metadata": {},
     "output_type": "execute_result"
    }
   ],
   "source": [
    "np.array(myarr_3_mod_32)%4==0"
   ]
  },
  {
   "cell_type": "code",
   "execution_count": 53,
   "id": "15cc4dba",
   "metadata": {},
   "outputs": [
    {
     "data": {
      "text/html": [
       "<html>\\[\\newcommand{\\Bold}[1]{\\mathbf{#1}}\\verb|[|\\verb| |\\verb|True|\\verb| |\\verb|False|\\verb|  |\\verb|True|\\verb| |\\verb|False|\\verb|  |\\verb|True|\\verb|  |\\verb|True|\\verb|  |\\verb|True|\\verb|  |\\verb|True|\\verb|  |\\verb|True|\\verb|  |\\verb|True]|\\]</html>"
      ],
      "text/latex": [
       "$$\\newcommand{\\Bold}[1]{\\mathbf{#1}}\\verb|[|\\verb| |\\verb|True|\\verb| |\\verb|False|\\verb|  |\\verb|True|\\verb| |\\verb|False|\\verb|  |\\verb|True|\\verb|  |\\verb|True|\\verb|  |\\verb|True|\\verb|  |\\verb|True|\\verb|  |\\verb|True|\\verb|  |\\verb|True]|$$"
      ],
      "text/plain": [
       "array([ True, False,  True, False,  True,  True,  True,  True,  True,\n",
       "        True])"
      ]
     },
     "execution_count": 53,
     "metadata": {},
     "output_type": "execute_result"
    }
   ],
   "source": [
    "np.array(myarr_4_mod_32)%4==0"
   ]
  },
  {
   "cell_type": "code",
   "execution_count": 54,
   "id": "b10758fa",
   "metadata": {},
   "outputs": [
    {
     "data": {
      "text/html": [
       "<html>\\[\\newcommand{\\Bold}[1]{\\mathbf{#1}}\\verb|[False|\\verb| |\\verb|False|\\verb|  |\\verb|True|\\verb| |\\verb|False|\\verb|  |\\verb|True|\\verb|  |\\verb|True|\\verb| |\\verb|False|\\verb| |\\verb|False]|\\]</html>"
      ],
      "text/latex": [
       "$$\\newcommand{\\Bold}[1]{\\mathbf{#1}}\\verb|[False|\\verb| |\\verb|False|\\verb|  |\\verb|True|\\verb| |\\verb|False|\\verb|  |\\verb|True|\\verb|  |\\verb|True|\\verb| |\\verb|False|\\verb| |\\verb|False]|$$"
      ],
      "text/plain": [
       "array([False, False,  True, False,  True,  True, False, False])"
      ]
     },
     "execution_count": 54,
     "metadata": {},
     "output_type": "execute_result"
    }
   ],
   "source": [
    "np.array(myarr_5_mod_32)%4==0"
   ]
  },
  {
   "cell_type": "code",
   "execution_count": 55,
   "id": "ea2927b3",
   "metadata": {},
   "outputs": [
    {
     "data": {
      "text/html": [
       "<html>\\[\\newcommand{\\Bold}[1]{\\mathbf{#1}}\\verb|[False|\\verb| |\\verb|False|\\verb|  |\\verb|True|\\verb|  |\\verb|True|\\verb| |\\verb|False|\\verb| |\\verb|False|\\verb| |\\verb|False|\\verb|  |\\verb|True|\\verb| |\\verb|False|\\verb| |\\verb|False]|\\]</html>"
      ],
      "text/latex": [
       "$$\\newcommand{\\Bold}[1]{\\mathbf{#1}}\\verb|[False|\\verb| |\\verb|False|\\verb|  |\\verb|True|\\verb|  |\\verb|True|\\verb| |\\verb|False|\\verb| |\\verb|False|\\verb| |\\verb|False|\\verb|  |\\verb|True|\\verb| |\\verb|False|\\verb| |\\verb|False]|$$"
      ],
      "text/plain": [
       "array([False, False,  True,  True, False, False, False,  True, False,\n",
       "       False])"
      ]
     },
     "execution_count": 55,
     "metadata": {},
     "output_type": "execute_result"
    }
   ],
   "source": [
    "np.array(myarr_6_mod_32)%4==0"
   ]
  },
  {
   "cell_type": "code",
   "execution_count": 56,
   "id": "3bf14cf3",
   "metadata": {},
   "outputs": [
    {
     "data": {
      "text/html": [
       "<html>\\[\\newcommand{\\Bold}[1]{\\mathbf{#1}}\\verb|[|\\verb| |\\verb|True|\\verb|  |\\verb|True|\\verb|  |\\verb|True|\\verb|  |\\verb|True|\\verb|  |\\verb|True|\\verb|  |\\verb|True|\\verb|  |\\verb|True|\\verb|  |\\verb|True]|\\]</html>"
      ],
      "text/latex": [
       "$$\\newcommand{\\Bold}[1]{\\mathbf{#1}}\\verb|[|\\verb| |\\verb|True|\\verb|  |\\verb|True|\\verb|  |\\verb|True|\\verb|  |\\verb|True|\\verb|  |\\verb|True|\\verb|  |\\verb|True|\\verb|  |\\verb|True|\\verb|  |\\verb|True]|$$"
      ],
      "text/plain": [
       "array([ True,  True,  True,  True,  True,  True,  True,  True])"
      ]
     },
     "execution_count": 56,
     "metadata": {},
     "output_type": "execute_result"
    }
   ],
   "source": [
    "np.array(myarr_7_mod_32)%16==0"
   ]
  },
  {
   "cell_type": "code",
   "execution_count": 57,
   "id": "48d402ca",
   "metadata": {},
   "outputs": [
    {
     "data": {
      "text/html": [
       "<html>\\[\\newcommand{\\Bold}[1]{\\mathbf{#1}}\\verb|[|\\verb| |\\verb|True|\\verb| |\\verb|False|\\verb| |\\verb|False|\\verb| |\\verb|False|\\verb|  |\\verb|True|\\verb|  |\\verb|True|\\verb| |\\verb|False|\\verb| |\\verb|False|\\verb|  |\\verb|True|\\verb| |\\verb|False]|\\]</html>"
      ],
      "text/latex": [
       "$$\\newcommand{\\Bold}[1]{\\mathbf{#1}}\\verb|[|\\verb| |\\verb|True|\\verb| |\\verb|False|\\verb| |\\verb|False|\\verb| |\\verb|False|\\verb|  |\\verb|True|\\verb|  |\\verb|True|\\verb| |\\verb|False|\\verb| |\\verb|False|\\verb|  |\\verb|True|\\verb| |\\verb|False]|$$"
      ],
      "text/plain": [
       "array([ True, False, False, False,  True,  True, False, False,  True,\n",
       "       False])"
      ]
     },
     "execution_count": 57,
     "metadata": {},
     "output_type": "execute_result"
    }
   ],
   "source": [
    "np.array(myarr_8_mod_32)%4==0"
   ]
  },
  {
   "cell_type": "code",
   "execution_count": 58,
   "id": "e010fae6",
   "metadata": {},
   "outputs": [
    {
     "data": {
      "text/html": [
       "<html>\\[\\newcommand{\\Bold}[1]{\\mathbf{#1}}\\verb|[False|\\verb|  |\\verb|True|\\verb|  |\\verb|True|\\verb|  |\\verb|True|\\verb|  |\\verb|True|\\verb| |\\verb|False|\\verb|  |\\verb|True|\\verb|  |\\verb|True]|\\]</html>"
      ],
      "text/latex": [
       "$$\\newcommand{\\Bold}[1]{\\mathbf{#1}}\\verb|[False|\\verb|  |\\verb|True|\\verb|  |\\verb|True|\\verb|  |\\verb|True|\\verb|  |\\verb|True|\\verb| |\\verb|False|\\verb|  |\\verb|True|\\verb|  |\\verb|True]|$$"
      ],
      "text/plain": [
       "array([False,  True,  True,  True,  True, False,  True,  True])"
      ]
     },
     "execution_count": 58,
     "metadata": {},
     "output_type": "execute_result"
    }
   ],
   "source": [
    "np.array(myarr_9_mod_32)%4==0"
   ]
  },
  {
   "cell_type": "code",
   "execution_count": 59,
   "id": "6b13d31d",
   "metadata": {},
   "outputs": [
    {
     "data": {
      "text/html": [
       "<html>\\[\\newcommand{\\Bold}[1]{\\mathbf{#1}}\\verb|[False|\\verb|  |\\verb|True|\\verb| |\\verb|False|\\verb| |\\verb|False|\\verb|  |\\verb|True|\\verb|  |\\verb|True|\\verb| |\\verb|False|\\verb| |\\verb|False]|\\]</html>"
      ],
      "text/latex": [
       "$$\\newcommand{\\Bold}[1]{\\mathbf{#1}}\\verb|[False|\\verb|  |\\verb|True|\\verb| |\\verb|False|\\verb| |\\verb|False|\\verb|  |\\verb|True|\\verb|  |\\verb|True|\\verb| |\\verb|False|\\verb| |\\verb|False]|$$"
      ],
      "text/plain": [
       "array([False,  True, False, False,  True,  True, False, False])"
      ]
     },
     "execution_count": 59,
     "metadata": {},
     "output_type": "execute_result"
    }
   ],
   "source": [
    "np.array(myarr_10_mod_32)%4==0"
   ]
  },
  {
   "cell_type": "code",
   "execution_count": 60,
   "id": "392ad7ab",
   "metadata": {},
   "outputs": [
    {
     "data": {
      "text/html": [
       "<html>\\[\\newcommand{\\Bold}[1]{\\mathbf{#1}}\\verb|[False|\\verb| |\\verb|False|\\verb| |\\verb|False|\\verb| |\\verb|False|\\verb| |\\verb|False|\\verb| |\\verb|False|\\verb|  |\\verb|True|\\verb|  |\\verb|True]|\\]</html>"
      ],
      "text/latex": [
       "$$\\newcommand{\\Bold}[1]{\\mathbf{#1}}\\verb|[False|\\verb| |\\verb|False|\\verb| |\\verb|False|\\verb| |\\verb|False|\\verb| |\\verb|False|\\verb| |\\verb|False|\\verb|  |\\verb|True|\\verb|  |\\verb|True]|$$"
      ],
      "text/plain": [
       "array([False, False, False, False, False, False,  True,  True])"
      ]
     },
     "execution_count": 60,
     "metadata": {},
     "output_type": "execute_result"
    }
   ],
   "source": [
    "np.array(myarr_11_mod_32)%4==0"
   ]
  },
  {
   "cell_type": "code",
   "execution_count": 61,
   "id": "61d0dfcb",
   "metadata": {},
   "outputs": [
    {
     "data": {
      "text/html": [
       "<html>\\[\\newcommand{\\Bold}[1]{\\mathbf{#1}}\\verb|[False|\\verb| |\\verb|False|\\verb| |\\verb|False|\\verb|  |\\verb|True|\\verb|  |\\verb|True|\\verb| |\\verb|False|\\verb|  |\\verb|True|\\verb| |\\verb|False]|\\]</html>"
      ],
      "text/latex": [
       "$$\\newcommand{\\Bold}[1]{\\mathbf{#1}}\\verb|[False|\\verb| |\\verb|False|\\verb| |\\verb|False|\\verb|  |\\verb|True|\\verb|  |\\verb|True|\\verb| |\\verb|False|\\verb|  |\\verb|True|\\verb| |\\verb|False]|$$"
      ],
      "text/plain": [
       "array([False, False, False,  True,  True, False,  True, False])"
      ]
     },
     "execution_count": 61,
     "metadata": {},
     "output_type": "execute_result"
    }
   ],
   "source": [
    "np.array(myarr_12_mod_32)%4==0"
   ]
  },
  {
   "cell_type": "code",
   "execution_count": 62,
   "id": "ad32c039",
   "metadata": {},
   "outputs": [
    {
     "data": {
      "text/html": [
       "<html>\\[\\newcommand{\\Bold}[1]{\\mathbf{#1}}\\verb|[False|\\verb| |\\verb|False|\\verb|  |\\verb|True|\\verb| |\\verb|False|\\verb|  |\\verb|True|\\verb| |\\verb|False|\\verb|  |\\verb|True|\\verb|  |\\verb|True]|\\]</html>"
      ],
      "text/latex": [
       "$$\\newcommand{\\Bold}[1]{\\mathbf{#1}}\\verb|[False|\\verb| |\\verb|False|\\verb|  |\\verb|True|\\verb| |\\verb|False|\\verb|  |\\verb|True|\\verb| |\\verb|False|\\verb|  |\\verb|True|\\verb|  |\\verb|True]|$$"
      ],
      "text/plain": [
       "array([False, False,  True, False,  True, False,  True,  True])"
      ]
     },
     "execution_count": 62,
     "metadata": {},
     "output_type": "execute_result"
    }
   ],
   "source": [
    "np.array(myarr_13_mod_32)%4==0"
   ]
  },
  {
   "cell_type": "code",
   "execution_count": 63,
   "id": "68f42bf6",
   "metadata": {},
   "outputs": [
    {
     "data": {
      "text/html": [
       "<html>\\[\\newcommand{\\Bold}[1]{\\mathbf{#1}}\\verb|[|\\verb| |\\verb|True|\\verb|  |\\verb|True|\\verb|  |\\verb|True|\\verb|  |\\verb|True|\\verb|  |\\verb|True|\\verb|  |\\verb|True|\\verb|  |\\verb|True|\\verb|  |\\verb|True]|\\]</html>"
      ],
      "text/latex": [
       "$$\\newcommand{\\Bold}[1]{\\mathbf{#1}}\\verb|[|\\verb| |\\verb|True|\\verb|  |\\verb|True|\\verb|  |\\verb|True|\\verb|  |\\verb|True|\\verb|  |\\verb|True|\\verb|  |\\verb|True|\\verb|  |\\verb|True|\\verb|  |\\verb|True]|$$"
      ],
      "text/plain": [
       "array([ True,  True,  True,  True,  True,  True,  True,  True])"
      ]
     },
     "execution_count": 63,
     "metadata": {},
     "output_type": "execute_result"
    }
   ],
   "source": [
    "np.array(myarr_14_mod_32)%8==0"
   ]
  },
  {
   "cell_type": "code",
   "execution_count": 64,
   "id": "dab735fb",
   "metadata": {},
   "outputs": [
    {
     "data": {
      "text/html": [
       "<html>\\[\\newcommand{\\Bold}[1]{\\mathbf{#1}}\\verb|[False|\\verb| |\\verb|False|\\verb| |\\verb|False|\\verb| |\\verb|False|\\verb| |\\verb|False|\\verb| |\\verb|False|\\verb| |\\verb|False|\\verb|  |\\verb|True]|\\]</html>"
      ],
      "text/latex": [
       "$$\\newcommand{\\Bold}[1]{\\mathbf{#1}}\\verb|[False|\\verb| |\\verb|False|\\verb| |\\verb|False|\\verb| |\\verb|False|\\verb| |\\verb|False|\\verb| |\\verb|False|\\verb| |\\verb|False|\\verb|  |\\verb|True]|$$"
      ],
      "text/plain": [
       "array([False, False, False, False, False, False, False,  True])"
      ]
     },
     "execution_count": 64,
     "metadata": {},
     "output_type": "execute_result"
    }
   ],
   "source": [
    "np.array(myarr_14_mod_32)%16==0"
   ]
  },
  {
   "cell_type": "code",
   "execution_count": 91,
   "id": "cba57c1a",
   "metadata": {},
   "outputs": [
    {
     "data": {
      "text/html": [
       "<html>\\[\\newcommand{\\Bold}[1]{\\mathbf{#1}}\\left(46, 328, \\frac{41}{2}\\right)\\]</html>"
      ],
      "text/latex": [
       "$$\\newcommand{\\Bold}[1]{\\mathbf{#1}}\\left(46, 328, \\frac{41}{2}\\right)$$"
      ],
      "text/plain": [
       "(46, 328, 41/2)"
      ]
     },
     "execution_count": 91,
     "metadata": {},
     "output_type": "execute_result"
    }
   ],
   "source": [
    "32*1+14, op35[46], op35[46]/16"
   ]
  },
  {
   "cell_type": "code",
   "execution_count": 66,
   "id": "5fb26ea6",
   "metadata": {},
   "outputs": [
    {
     "data": {
      "text/html": [
       "<html>\\[\\newcommand{\\Bold}[1]{\\mathbf{#1}}\\verb|[|\\verb| |\\verb|True|\\verb|  |\\verb|True|\\verb|  |\\verb|True|\\verb|  |\\verb|True|\\verb|  |\\verb|True|\\verb|  |\\verb|True|\\verb|  |\\verb|True|\\verb|  |\\verb|True]|\\]</html>"
      ],
      "text/latex": [
       "$$\\newcommand{\\Bold}[1]{\\mathbf{#1}}\\verb|[|\\verb| |\\verb|True|\\verb|  |\\verb|True|\\verb|  |\\verb|True|\\verb|  |\\verb|True|\\verb|  |\\verb|True|\\verb|  |\\verb|True|\\verb|  |\\verb|True|\\verb|  |\\verb|True]|$$"
      ],
      "text/plain": [
       "array([ True,  True,  True,  True,  True,  True,  True,  True])"
      ]
     },
     "execution_count": 66,
     "metadata": {},
     "output_type": "execute_result"
    }
   ],
   "source": [
    "np.array(myarr_15_mod_32)%4==0"
   ]
  },
  {
   "cell_type": "code",
   "execution_count": 67,
   "id": "51583e1e",
   "metadata": {},
   "outputs": [
    {
     "data": {
      "text/html": [
       "<html>\\[\\newcommand{\\Bold}[1]{\\mathbf{#1}}\\verb|[|\\verb| |\\verb|True|\\verb| |\\verb|False|\\verb| |\\verb|False|\\verb|  |\\verb|True|\\verb| |\\verb|False|\\verb| |\\verb|False|\\verb| |\\verb|False|\\verb|  |\\verb|True]|\\]</html>"
      ],
      "text/latex": [
       "$$\\newcommand{\\Bold}[1]{\\mathbf{#1}}\\verb|[|\\verb| |\\verb|True|\\verb| |\\verb|False|\\verb| |\\verb|False|\\verb|  |\\verb|True|\\verb| |\\verb|False|\\verb| |\\verb|False|\\verb| |\\verb|False|\\verb|  |\\verb|True]|$$"
      ],
      "text/plain": [
       "array([ True, False, False,  True, False, False, False,  True])"
      ]
     },
     "execution_count": 67,
     "metadata": {},
     "output_type": "execute_result"
    }
   ],
   "source": [
    "np.array(myarr_16_mod_32)%4==0"
   ]
  },
  {
   "cell_type": "code",
   "execution_count": 68,
   "id": "c22c9c29",
   "metadata": {},
   "outputs": [
    {
     "data": {
      "text/html": [
       "<html>\\[\\newcommand{\\Bold}[1]{\\mathbf{#1}}\\verb|[|\\verb| |\\verb|True|\\verb|  |\\verb|True|\\verb|  |\\verb|True|\\verb|  |\\verb|True|\\verb|  |\\verb|True|\\verb|  |\\verb|True|\\verb|  |\\verb|True|\\verb|  |\\verb|True|\\verb|  |\\verb|True]|\\]</html>"
      ],
      "text/latex": [
       "$$\\newcommand{\\Bold}[1]{\\mathbf{#1}}\\verb|[|\\verb| |\\verb|True|\\verb|  |\\verb|True|\\verb|  |\\verb|True|\\verb|  |\\verb|True|\\verb|  |\\verb|True|\\verb|  |\\verb|True|\\verb|  |\\verb|True|\\verb|  |\\verb|True|\\verb|  |\\verb|True]|$$"
      ],
      "text/plain": [
       "array([ True,  True,  True,  True,  True,  True,  True,  True,  True])"
      ]
     },
     "execution_count": 68,
     "metadata": {},
     "output_type": "execute_result"
    }
   ],
   "source": [
    "np.array(myarr_17_mod_32)%8==0"
   ]
  },
  {
   "cell_type": "code",
   "execution_count": 69,
   "id": "9be857ac",
   "metadata": {},
   "outputs": [
    {
     "data": {
      "text/html": [
       "<html>\\[\\newcommand{\\Bold}[1]{\\mathbf{#1}}\\verb|[False|\\verb| |\\verb|False|\\verb|  |\\verb|True|\\verb|  |\\verb|True|\\verb|  |\\verb|True|\\verb|  |\\verb|True|\\verb|  |\\verb|True|\\verb| |\\verb|False]|\\]</html>"
      ],
      "text/latex": [
       "$$\\newcommand{\\Bold}[1]{\\mathbf{#1}}\\verb|[False|\\verb| |\\verb|False|\\verb|  |\\verb|True|\\verb|  |\\verb|True|\\verb|  |\\verb|True|\\verb|  |\\verb|True|\\verb|  |\\verb|True|\\verb| |\\verb|False]|$$"
      ],
      "text/plain": [
       "array([False, False,  True,  True,  True,  True,  True, False])"
      ]
     },
     "execution_count": 69,
     "metadata": {},
     "output_type": "execute_result"
    }
   ],
   "source": [
    "np.array(myarr_18_mod_32)%4==0"
   ]
  },
  {
   "cell_type": "code",
   "execution_count": 70,
   "id": "89bcf09c",
   "metadata": {},
   "outputs": [
    {
     "data": {
      "text/html": [
       "<html>\\[\\newcommand{\\Bold}[1]{\\mathbf{#1}}\\verb|[False|\\verb|  |\\verb|True|\\verb| |\\verb|False|\\verb|  |\\verb|True|\\verb| |\\verb|False|\\verb| |\\verb|False|\\verb| |\\verb|False|\\verb| |\\verb|False]|\\]</html>"
      ],
      "text/latex": [
       "$$\\newcommand{\\Bold}[1]{\\mathbf{#1}}\\verb|[False|\\verb|  |\\verb|True|\\verb| |\\verb|False|\\verb|  |\\verb|True|\\verb| |\\verb|False|\\verb| |\\verb|False|\\verb| |\\verb|False|\\verb| |\\verb|False]|$$"
      ],
      "text/plain": [
       "array([False,  True, False,  True, False, False, False, False])"
      ]
     },
     "execution_count": 70,
     "metadata": {},
     "output_type": "execute_result"
    }
   ],
   "source": [
    "np.array(myarr_19_mod_32)%4==0"
   ]
  },
  {
   "cell_type": "code",
   "execution_count": 71,
   "id": "b8c547ad",
   "metadata": {},
   "outputs": [
    {
     "data": {
      "text/html": [
       "<html>\\[\\newcommand{\\Bold}[1]{\\mathbf{#1}}\\verb|[False|\\verb| |\\verb|False|\\verb|  |\\verb|True|\\verb| |\\verb|False|\\verb| |\\verb|False|\\verb| |\\verb|False|\\verb| |\\verb|False|\\verb| |\\verb|False]|\\]</html>"
      ],
      "text/latex": [
       "$$\\newcommand{\\Bold}[1]{\\mathbf{#1}}\\verb|[False|\\verb| |\\verb|False|\\verb|  |\\verb|True|\\verb| |\\verb|False|\\verb| |\\verb|False|\\verb| |\\verb|False|\\verb| |\\verb|False|\\verb| |\\verb|False]|$$"
      ],
      "text/plain": [
       "array([False, False,  True, False, False, False, False, False])"
      ]
     },
     "execution_count": 71,
     "metadata": {},
     "output_type": "execute_result"
    }
   ],
   "source": [
    "np.array(myarr_20_mod_32)%4==0"
   ]
  },
  {
   "cell_type": "code",
   "execution_count": 72,
   "id": "2805d43b",
   "metadata": {},
   "outputs": [
    {
     "data": {
      "text/html": [
       "<html>\\[\\newcommand{\\Bold}[1]{\\mathbf{#1}}\\verb|[|\\verb| |\\verb|True|\\verb| |\\verb|False|\\verb|  |\\verb|True|\\verb| |\\verb|False|\\verb| |\\verb|False|\\verb| |\\verb|False|\\verb|  |\\verb|True|\\verb| |\\verb|False]|\\]</html>"
      ],
      "text/latex": [
       "$$\\newcommand{\\Bold}[1]{\\mathbf{#1}}\\verb|[|\\verb| |\\verb|True|\\verb| |\\verb|False|\\verb|  |\\verb|True|\\verb| |\\verb|False|\\verb| |\\verb|False|\\verb| |\\verb|False|\\verb|  |\\verb|True|\\verb| |\\verb|False]|$$"
      ],
      "text/plain": [
       "array([ True, False,  True, False, False, False,  True, False])"
      ]
     },
     "execution_count": 72,
     "metadata": {},
     "output_type": "execute_result"
    }
   ],
   "source": [
    "np.array(myarr_21_mod_32)%4==0"
   ]
  },
  {
   "cell_type": "code",
   "execution_count": 73,
   "id": "1203ab46",
   "metadata": {},
   "outputs": [
    {
     "data": {
      "text/html": [
       "<html>\\[\\newcommand{\\Bold}[1]{\\mathbf{#1}}\\verb|[False|\\verb|  |\\verb|True|\\verb| |\\verb|False|\\verb| |\\verb|False|\\verb| |\\verb|False|\\verb|  |\\verb|True|\\verb| |\\verb|False|\\verb|  |\\verb|True]|\\]</html>"
      ],
      "text/latex": [
       "$$\\newcommand{\\Bold}[1]{\\mathbf{#1}}\\verb|[False|\\verb|  |\\verb|True|\\verb| |\\verb|False|\\verb| |\\verb|False|\\verb| |\\verb|False|\\verb|  |\\verb|True|\\verb| |\\verb|False|\\verb|  |\\verb|True]|$$"
      ],
      "text/plain": [
       "array([False,  True, False, False, False,  True, False,  True])"
      ]
     },
     "execution_count": 73,
     "metadata": {},
     "output_type": "execute_result"
    }
   ],
   "source": [
    "np.array(myarr_22_mod_32)%4==0"
   ]
  },
  {
   "cell_type": "code",
   "execution_count": 74,
   "id": "073b6c3b",
   "metadata": {},
   "outputs": [
    {
     "data": {
      "text/html": [
       "<html>\\[\\newcommand{\\Bold}[1]{\\mathbf{#1}}\\verb|[|\\verb| |\\verb|True|\\verb|  |\\verb|True|\\verb|  |\\verb|True|\\verb|  |\\verb|True|\\verb|  |\\verb|True|\\verb|  |\\verb|True|\\verb|  |\\verb|True|\\verb|  |\\verb|True]|\\]</html>"
      ],
      "text/latex": [
       "$$\\newcommand{\\Bold}[1]{\\mathbf{#1}}\\verb|[|\\verb| |\\verb|True|\\verb|  |\\verb|True|\\verb|  |\\verb|True|\\verb|  |\\verb|True|\\verb|  |\\verb|True|\\verb|  |\\verb|True|\\verb|  |\\verb|True|\\verb|  |\\verb|True]|$$"
      ],
      "text/plain": [
       "array([ True,  True,  True,  True,  True,  True,  True,  True])"
      ]
     },
     "execution_count": 74,
     "metadata": {},
     "output_type": "execute_result"
    }
   ],
   "source": [
    "np.array(myarr_23_mod_32)%16==0"
   ]
  },
  {
   "cell_type": "code",
   "execution_count": 75,
   "id": "a6ad0f7f",
   "metadata": {},
   "outputs": [
    {
     "data": {
      "text/html": [
       "<html>\\[\\newcommand{\\Bold}[1]{\\mathbf{#1}}\\verb|[False|\\verb|  |\\verb|True|\\verb| |\\verb|False|\\verb|  |\\verb|True|\\verb| |\\verb|False|\\verb|  |\\verb|True|\\verb|  |\\verb|True|\\verb|  |\\verb|True]|\\]</html>"
      ],
      "text/latex": [
       "$$\\newcommand{\\Bold}[1]{\\mathbf{#1}}\\verb|[False|\\verb|  |\\verb|True|\\verb| |\\verb|False|\\verb|  |\\verb|True|\\verb| |\\verb|False|\\verb|  |\\verb|True|\\verb|  |\\verb|True|\\verb|  |\\verb|True]|$$"
      ],
      "text/plain": [
       "array([False,  True, False,  True, False,  True,  True,  True])"
      ]
     },
     "execution_count": 75,
     "metadata": {},
     "output_type": "execute_result"
    }
   ],
   "source": [
    "np.array(myarr_24_mod_32)%4==0"
   ]
  },
  {
   "cell_type": "code",
   "execution_count": 76,
   "id": "bb5e3aed",
   "metadata": {},
   "outputs": [
    {
     "data": {
      "text/html": [
       "<html>\\[\\newcommand{\\Bold}[1]{\\mathbf{#1}}\\verb|[False|\\verb|  |\\verb|True|\\verb|  |\\verb|True|\\verb| |\\verb|False|\\verb|  |\\verb|True|\\verb|  |\\verb|True|\\verb|  |\\verb|True|\\verb|  |\\verb|True]|\\]</html>"
      ],
      "text/latex": [
       "$$\\newcommand{\\Bold}[1]{\\mathbf{#1}}\\verb|[False|\\verb|  |\\verb|True|\\verb|  |\\verb|True|\\verb| |\\verb|False|\\verb|  |\\verb|True|\\verb|  |\\verb|True|\\verb|  |\\verb|True|\\verb|  |\\verb|True]|$$"
      ],
      "text/plain": [
       "array([False,  True,  True, False,  True,  True,  True,  True])"
      ]
     },
     "execution_count": 76,
     "metadata": {},
     "output_type": "execute_result"
    }
   ],
   "source": [
    "np.array(myarr_25_mod_32)%4==0"
   ]
  },
  {
   "cell_type": "code",
   "execution_count": 77,
   "id": "65dc8023",
   "metadata": {},
   "outputs": [
    {
     "data": {
      "text/html": [
       "<html>\\[\\newcommand{\\Bold}[1]{\\mathbf{#1}}\\verb|[False|\\verb| |\\verb|False|\\verb| |\\verb|False|\\verb| |\\verb|False|\\verb|  |\\verb|True|\\verb|  |\\verb|True|\\verb| |\\verb|False|\\verb|  |\\verb|True]|\\]</html>"
      ],
      "text/latex": [
       "$$\\newcommand{\\Bold}[1]{\\mathbf{#1}}\\verb|[False|\\verb| |\\verb|False|\\verb| |\\verb|False|\\verb| |\\verb|False|\\verb|  |\\verb|True|\\verb|  |\\verb|True|\\verb| |\\verb|False|\\verb|  |\\verb|True]|$$"
      ],
      "text/plain": [
       "array([False, False, False, False,  True,  True, False,  True])"
      ]
     },
     "execution_count": 77,
     "metadata": {},
     "output_type": "execute_result"
    }
   ],
   "source": [
    "np.array(myarr_26_mod_32)%4==0"
   ]
  },
  {
   "cell_type": "code",
   "execution_count": 78,
   "id": "6c8cc61b",
   "metadata": {},
   "outputs": [
    {
     "data": {
      "text/html": [
       "<html>\\[\\newcommand{\\Bold}[1]{\\mathbf{#1}}\\verb|[|\\verb| |\\verb|True|\\verb| |\\verb|False|\\verb|  |\\verb|True|\\verb|  |\\verb|True|\\verb|  |\\verb|True|\\verb|  |\\verb|True|\\verb|  |\\verb|True|\\verb| |\\verb|False]|\\]</html>"
      ],
      "text/latex": [
       "$$\\newcommand{\\Bold}[1]{\\mathbf{#1}}\\verb|[|\\verb| |\\verb|True|\\verb| |\\verb|False|\\verb|  |\\verb|True|\\verb|  |\\verb|True|\\verb|  |\\verb|True|\\verb|  |\\verb|True|\\verb|  |\\verb|True|\\verb| |\\verb|False]|$$"
      ],
      "text/plain": [
       "array([ True, False,  True,  True,  True,  True,  True, False])"
      ]
     },
     "execution_count": 78,
     "metadata": {},
     "output_type": "execute_result"
    }
   ],
   "source": [
    "np.array(myarr_27_mod_32)%4==0"
   ]
  },
  {
   "cell_type": "code",
   "execution_count": 79,
   "id": "362af6ec",
   "metadata": {},
   "outputs": [
    {
     "data": {
      "text/html": [
       "<html>\\[\\newcommand{\\Bold}[1]{\\mathbf{#1}}\\verb|[|\\verb| |\\verb|True|\\verb|  |\\verb|True|\\verb|  |\\verb|True|\\verb|  |\\verb|True|\\verb|  |\\verb|True|\\verb|  |\\verb|True|\\verb|  |\\verb|True|\\verb|  |\\verb|True]|\\]</html>"
      ],
      "text/latex": [
       "$$\\newcommand{\\Bold}[1]{\\mathbf{#1}}\\verb|[|\\verb| |\\verb|True|\\verb|  |\\verb|True|\\verb|  |\\verb|True|\\verb|  |\\verb|True|\\verb|  |\\verb|True|\\verb|  |\\verb|True|\\verb|  |\\verb|True|\\verb|  |\\verb|True]|$$"
      ],
      "text/plain": [
       "array([ True,  True,  True,  True,  True,  True,  True,  True])"
      ]
     },
     "execution_count": 79,
     "metadata": {},
     "output_type": "execute_result"
    }
   ],
   "source": [
    "np.array(myarr_28_mod_32)%4==0"
   ]
  },
  {
   "cell_type": "code",
   "execution_count": 80,
   "id": "3ba5d068",
   "metadata": {},
   "outputs": [
    {
     "data": {
      "text/html": [
       "<html>\\[\\newcommand{\\Bold}[1]{\\mathbf{#1}}\\verb|[|\\verb| |\\verb|True|\\verb| |\\verb|False|\\verb|  |\\verb|True|\\verb|  |\\verb|True|\\verb|  |\\verb|True|\\verb|  |\\verb|True|\\verb|  |\\verb|True|\\verb| |\\verb|False]|\\]</html>"
      ],
      "text/latex": [
       "$$\\newcommand{\\Bold}[1]{\\mathbf{#1}}\\verb|[|\\verb| |\\verb|True|\\verb| |\\verb|False|\\verb|  |\\verb|True|\\verb|  |\\verb|True|\\verb|  |\\verb|True|\\verb|  |\\verb|True|\\verb|  |\\verb|True|\\verb| |\\verb|False]|$$"
      ],
      "text/plain": [
       "array([ True, False,  True,  True,  True,  True,  True, False])"
      ]
     },
     "execution_count": 80,
     "metadata": {},
     "output_type": "execute_result"
    }
   ],
   "source": [
    "np.array(myarr_28_mod_32)%8==0"
   ]
  },
  {
   "cell_type": "code",
   "execution_count": 81,
   "id": "05cd6984",
   "metadata": {},
   "outputs": [
    {
     "data": {
      "text/html": [
       "<html>\\[\\newcommand{\\Bold}[1]{\\mathbf{#1}}\\left(60, 1076, \\frac{269}{2}\\right)\\]</html>"
      ],
      "text/latex": [
       "$$\\newcommand{\\Bold}[1]{\\mathbf{#1}}\\left(60, 1076, \\frac{269}{2}\\right)$$"
      ],
      "text/plain": [
       "(60, 1076, 269/2)"
      ]
     },
     "execution_count": 81,
     "metadata": {},
     "output_type": "execute_result"
    }
   ],
   "source": [
    "32*1+28, op35[60], op35[60]/8"
   ]
  },
  {
   "cell_type": "code",
   "execution_count": 82,
   "id": "b7ecf349",
   "metadata": {},
   "outputs": [
    {
     "data": {
      "text/html": [
       "<html>\\[\\newcommand{\\Bold}[1]{\\mathbf{#1}}\\verb|[False|\\verb| |\\verb|False|\\verb|  |\\verb|True|\\verb|  |\\verb|True|\\verb| |\\verb|False|\\verb|  |\\verb|True|\\verb|  |\\verb|True|\\verb|  |\\verb|True]|\\]</html>"
      ],
      "text/latex": [
       "$$\\newcommand{\\Bold}[1]{\\mathbf{#1}}\\verb|[False|\\verb| |\\verb|False|\\verb|  |\\verb|True|\\verb|  |\\verb|True|\\verb| |\\verb|False|\\verb|  |\\verb|True|\\verb|  |\\verb|True|\\verb|  |\\verb|True]|$$"
      ],
      "text/plain": [
       "array([False, False,  True,  True, False,  True,  True,  True])"
      ]
     },
     "execution_count": 82,
     "metadata": {},
     "output_type": "execute_result"
    }
   ],
   "source": [
    "np.array(myarr_29_mod_32)%4==0"
   ]
  },
  {
   "cell_type": "code",
   "execution_count": 83,
   "id": "6e6b6c17",
   "metadata": {},
   "outputs": [
    {
     "data": {
      "text/html": [
       "<html>\\[\\newcommand{\\Bold}[1]{\\mathbf{#1}}\\verb|[|\\verb| |\\verb|True|\\verb|  |\\verb|True|\\verb|  |\\verb|True|\\verb|  |\\verb|True|\\verb|  |\\verb|True|\\verb|  |\\verb|True|\\verb|  |\\verb|True|\\verb|  |\\verb|True]|\\]</html>"
      ],
      "text/latex": [
       "$$\\newcommand{\\Bold}[1]{\\mathbf{#1}}\\verb|[|\\verb| |\\verb|True|\\verb|  |\\verb|True|\\verb|  |\\verb|True|\\verb|  |\\verb|True|\\verb|  |\\verb|True|\\verb|  |\\verb|True|\\verb|  |\\verb|True|\\verb|  |\\verb|True]|$$"
      ],
      "text/plain": [
       "array([ True,  True,  True,  True,  True,  True,  True,  True])"
      ]
     },
     "execution_count": 83,
     "metadata": {},
     "output_type": "execute_result"
    }
   ],
   "source": [
    "np.array(myarr_30_mod_32)%4==0"
   ]
  },
  {
   "cell_type": "code",
   "execution_count": 84,
   "id": "26830fb2",
   "metadata": {},
   "outputs": [
    {
     "data": {
      "text/html": [
       "<html>\\[\\newcommand{\\Bold}[1]{\\mathbf{#1}}\\verb|[|\\verb| |\\verb|True|\\verb|  |\\verb|True|\\verb|  |\\verb|True|\\verb|  |\\verb|True|\\verb|  |\\verb|True|\\verb|  |\\verb|True|\\verb|  |\\verb|True|\\verb|  |\\verb|True]|\\]</html>"
      ],
      "text/latex": [
       "$$\\newcommand{\\Bold}[1]{\\mathbf{#1}}\\verb|[|\\verb| |\\verb|True|\\verb|  |\\verb|True|\\verb|  |\\verb|True|\\verb|  |\\verb|True|\\verb|  |\\verb|True|\\verb|  |\\verb|True|\\verb|  |\\verb|True|\\verb|  |\\verb|True]|$$"
      ],
      "text/plain": [
       "array([ True,  True,  True,  True,  True,  True,  True,  True])"
      ]
     },
     "execution_count": 84,
     "metadata": {},
     "output_type": "execute_result"
    }
   ],
   "source": [
    "np.array(myarr_31_mod_32)%4==0"
   ]
  },
  {
   "cell_type": "code",
   "execution_count": 85,
   "id": "f831ca00",
   "metadata": {},
   "outputs": [
    {
     "data": {
      "text/html": [
       "<html>\\[\\newcommand{\\Bold}[1]{\\mathbf{#1}}\\verb|[|\\verb| |\\verb|True|\\verb| |\\verb|False|\\verb| |\\verb|False|\\verb|  |\\verb|True|\\verb| |\\verb|False|\\verb| |\\verb|False|\\verb| |\\verb|False|\\verb|  |\\verb|True]|\\]</html>"
      ],
      "text/latex": [
       "$$\\newcommand{\\Bold}[1]{\\mathbf{#1}}\\verb|[|\\verb| |\\verb|True|\\verb| |\\verb|False|\\verb| |\\verb|False|\\verb|  |\\verb|True|\\verb| |\\verb|False|\\verb| |\\verb|False|\\verb| |\\verb|False|\\verb|  |\\verb|True]|$$"
      ],
      "text/plain": [
       "array([ True, False, False,  True, False, False, False,  True])"
      ]
     },
     "execution_count": 85,
     "metadata": {},
     "output_type": "execute_result"
    }
   ],
   "source": [
    "np.array(myarr_7_mod_64)%32==0"
   ]
  },
  {
   "cell_type": "code",
   "execution_count": 86,
   "id": "afaa291e",
   "metadata": {},
   "outputs": [
    {
     "data": {
      "text/html": [
       "<html>\\[\\newcommand{\\Bold}[1]{\\mathbf{#1}}\\verb|[False|\\verb| |\\verb|False|\\verb| |\\verb|False|\\verb| |\\verb|False|\\verb| |\\verb|False|\\verb|  |\\verb|True|\\verb| |\\verb|False|\\verb|  |\\verb|True]|\\]</html>"
      ],
      "text/latex": [
       "$$\\newcommand{\\Bold}[1]{\\mathbf{#1}}\\verb|[False|\\verb| |\\verb|False|\\verb| |\\verb|False|\\verb| |\\verb|False|\\verb| |\\verb|False|\\verb|  |\\verb|True|\\verb| |\\verb|False|\\verb|  |\\verb|True]|$$"
      ],
      "text/plain": [
       "array([False, False, False, False, False,  True, False,  True])"
      ]
     },
     "execution_count": 86,
     "metadata": {},
     "output_type": "execute_result"
    }
   ],
   "source": [
    "np.array(myarr_23_mod_64)%32==0"
   ]
  },
  {
   "cell_type": "code",
   "execution_count": 87,
   "id": "13e8575f",
   "metadata": {},
   "outputs": [
    {
     "data": {
      "text/html": [
       "<html>\\[\\newcommand{\\Bold}[1]{\\mathbf{#1}}\\verb|[|\\verb| |\\verb|True|\\verb| |\\verb|False|\\verb|  |\\verb|True|\\verb| |\\verb|False|\\verb| |\\verb|False|\\verb| |\\verb|False|\\verb| |\\verb|False|\\verb|  |\\verb|True]|\\]</html>"
      ],
      "text/latex": [
       "$$\\newcommand{\\Bold}[1]{\\mathbf{#1}}\\verb|[|\\verb| |\\verb|True|\\verb| |\\verb|False|\\verb|  |\\verb|True|\\verb| |\\verb|False|\\verb| |\\verb|False|\\verb| |\\verb|False|\\verb| |\\verb|False|\\verb|  |\\verb|True]|$$"
      ],
      "text/plain": [
       "array([ True, False,  True, False, False, False, False,  True])"
      ]
     },
     "execution_count": 87,
     "metadata": {},
     "output_type": "execute_result"
    }
   ],
   "source": [
    "np.array(myarr_39_mod_64)%32==0"
   ]
  },
  {
   "cell_type": "code",
   "execution_count": 88,
   "id": "189eb4f3",
   "metadata": {},
   "outputs": [
    {
     "data": {
      "text/html": [
       "<html>\\[\\newcommand{\\Bold}[1]{\\mathbf{#1}}\\verb|[|\\verb| |\\verb|True|\\verb| |\\verb|False|\\verb|  |\\verb|True|\\verb| |\\verb|False|\\verb|  |\\verb|True|\\verb|  |\\verb|True|\\verb|  |\\verb|True|\\verb| |\\verb|False]|\\]</html>"
      ],
      "text/latex": [
       "$$\\newcommand{\\Bold}[1]{\\mathbf{#1}}\\verb|[|\\verb| |\\verb|True|\\verb| |\\verb|False|\\verb|  |\\verb|True|\\verb| |\\verb|False|\\verb|  |\\verb|True|\\verb|  |\\verb|True|\\verb|  |\\verb|True|\\verb| |\\verb|False]|$$"
      ],
      "text/plain": [
       "array([ True, False,  True, False,  True,  True,  True, False])"
      ]
     },
     "execution_count": 88,
     "metadata": {},
     "output_type": "execute_result"
    }
   ],
   "source": [
    "np.array(myarr_55_mod_64)%32==0"
   ]
  },
  {
   "cell_type": "code",
   "execution_count": 89,
   "id": "8d27e0f7",
   "metadata": {},
   "outputs": [
    {
     "data": {
      "text/html": [
       "<html>\\[\\newcommand{\\Bold}[1]{\\mathbf{#1}}\\verb|[|\\verb| |\\verb|True|\\verb|  |\\verb|True|\\verb| |\\verb|False|\\verb| |\\verb|False|\\verb|  |\\verb|True|\\verb|  |\\verb|True|\\verb| |\\verb|False|\\verb| |\\verb|False]|\\]</html>"
      ],
      "text/latex": [
       "$$\\newcommand{\\Bold}[1]{\\mathbf{#1}}\\verb|[|\\verb| |\\verb|True|\\verb|  |\\verb|True|\\verb| |\\verb|False|\\verb| |\\verb|False|\\verb|  |\\verb|True|\\verb|  |\\verb|True|\\verb| |\\verb|False|\\verb| |\\verb|False]|$$"
      ],
      "text/plain": [
       "array([ True,  True, False, False,  True,  True, False, False])"
      ]
     },
     "execution_count": 89,
     "metadata": {},
     "output_type": "execute_result"
    }
   ],
   "source": [
    "np.array(myarr_2_mod_64)%32==0"
   ]
  },
  {
   "cell_type": "code",
   "execution_count": 90,
   "id": "aef09128",
   "metadata": {},
   "outputs": [
    {
     "data": {
      "text/html": [
       "<html>\\[\\newcommand{\\Bold}[1]{\\mathbf{#1}}\\verb|[False|\\verb|  |\\verb|True|\\verb|  |\\verb|True|\\verb|  |\\verb|True|\\verb| |\\verb|False|\\verb|  |\\verb|True|\\verb|  |\\verb|True|\\verb| |\\verb|False]|\\]</html>"
      ],
      "text/latex": [
       "$$\\newcommand{\\Bold}[1]{\\mathbf{#1}}\\verb|[False|\\verb|  |\\verb|True|\\verb|  |\\verb|True|\\verb|  |\\verb|True|\\verb| |\\verb|False|\\verb|  |\\verb|True|\\verb|  |\\verb|True|\\verb| |\\verb|False]|$$"
      ],
      "text/plain": [
       "array([False,  True,  True,  True, False,  True,  True, False])"
      ]
     },
     "execution_count": 90,
     "metadata": {},
     "output_type": "execute_result"
    }
   ],
   "source": [
    "np.array(myarr_34_mod_64)%32==0"
   ]
  }
 ],
 "metadata": {
  "kernelspec": {
   "display_name": "SageMath 10.4",
   "language": "sage",
   "name": "sagemath"
  },
  "language_info": {
   "codemirror_mode": {
    "name": "ipython",
    "version": 3
   },
   "file_extension": ".py",
   "mimetype": "text/x-python",
   "name": "python",
   "nbconvert_exporter": "python",
   "pygments_lexer": "ipython3",
   "version": "3.11.10"
  }
 },
 "nbformat": 4,
 "nbformat_minor": 5
}
