{
 "cells": [
  {
   "cell_type": "code",
   "execution_count": 1,
   "id": "266a110c",
   "metadata": {},
   "outputs": [],
   "source": [
    "import sage.rings.number_field"
   ]
  },
  {
   "cell_type": "code",
   "execution_count": 2,
   "id": "a424b4b1",
   "metadata": {},
   "outputs": [],
   "source": [
    "%display latex"
   ]
  },
  {
   "cell_type": "markdown",
   "id": "de8452dc",
   "metadata": {},
   "source": [
    "## Laurent Series Ring with x and y"
   ]
  },
  {
   "cell_type": "code",
   "execution_count": 17,
   "id": "94c3da7b",
   "metadata": {},
   "outputs": [],
   "source": [
    "Aa.<a> = ZZ[[]]\n",
    "Bb.<b> = Aa[[]]\n",
    "Cc.<c> = Bb[[]]"
   ]
  },
  {
   "cell_type": "code",
   "execution_count": 20,
   "id": "52f77525",
   "metadata": {},
   "outputs": [
    {
     "data": {
      "text/html": [
       "<html>\\[\\newcommand{\\Bold}[1]{\\mathbf{#1}}\\Bold{Z}[[a]][[b]][[c]][[x]]\\]</html>"
      ],
      "text/latex": [
       "$$\\newcommand{\\Bold}[1]{\\mathbf{#1}}\\Bold{Z}[[a]][[b]][[c]][[x]]$$"
      ],
      "text/plain": [
       "Power Series Ring in x over Power Series Ring in c over Power Series Ring in b over Power Series Ring in a over Integer Ring"
      ]
     },
     "execution_count": 20,
     "metadata": {},
     "output_type": "execute_result"
    }
   ],
   "source": [
    "LX.<x> = Cc[[]]\n",
    "LX"
   ]
  },
  {
   "cell_type": "code",
   "execution_count": 21,
   "id": "ad0eacfe",
   "metadata": {},
   "outputs": [
    {
     "data": {
      "text/html": [
       "<html>\\[\\newcommand{\\Bold}[1]{\\mathbf{#1}}\\Bold{Z}[[a]][[b]][[c]][[x]][[y]]\\]</html>"
      ],
      "text/latex": [
       "$$\\newcommand{\\Bold}[1]{\\mathbf{#1}}\\Bold{Z}[[a]][[b]][[c]][[x]][[y]]$$"
      ],
      "text/plain": [
       "Power Series Ring in y over Power Series Ring in x over Power Series Ring in c over Power Series Ring in b over Power Series Ring in a over Integer Ring"
      ]
     },
     "execution_count": 21,
     "metadata": {},
     "output_type": "execute_result"
    }
   ],
   "source": [
    "LXY.<y> = LX[[]]\n",
    "LXY"
   ]
  },
  {
   "cell_type": "markdown",
   "id": "964dca9a",
   "metadata": {},
   "source": [
    "## Power Series Ring with q"
   ]
  },
  {
   "cell_type": "code",
   "execution_count": 22,
   "id": "00c8e56c",
   "metadata": {},
   "outputs": [
    {
     "data": {
      "text/html": [
       "<html>\\[\\newcommand{\\Bold}[1]{\\mathbf{#1}}\\Bold{Z}[[a]][[b]][[c]][[x]][[y]][q]\\]</html>"
      ],
      "text/latex": [
       "$$\\newcommand{\\Bold}[1]{\\mathbf{#1}}\\Bold{Z}[[a]][[b]][[c]][[x]][[y]][q]$$"
      ],
      "text/plain": [
       "Univariate Polynomial Ring in q over Power Series Ring in y over Power Series Ring in x over Power Series Ring in c over Power Series Ring in b over Power Series Ring in a over Integer Ring"
      ]
     },
     "execution_count": 22,
     "metadata": {},
     "output_type": "execute_result"
    }
   ],
   "source": [
    "R.<q> = LXY[]\n",
    "R"
   ]
  },
  {
   "cell_type": "code",
   "execution_count": 23,
   "id": "0a6a2d2b",
   "metadata": {},
   "outputs": [
    {
     "data": {
      "text/html": [
       "<html>\\[\\newcommand{\\Bold}[1]{\\mathbf{#1}}\\left(\\frac{-1}{x}\\right) q^{2} - q + x\\]</html>"
      ],
      "text/latex": [
       "$$\\newcommand{\\Bold}[1]{\\mathbf{#1}}\\left(\\frac{-1}{x}\\right) q^{2} - q + x$$"
      ],
      "text/plain": [
       "((-x^-1))*q^2 - q + x"
      ]
     },
     "execution_count": 23,
     "metadata": {},
     "output_type": "execute_result"
    }
   ],
   "source": [
    "A = (x -q -q^2/x)\n",
    "A"
   ]
  },
  {
   "cell_type": "code",
   "execution_count": 24,
   "id": "c8a02f26",
   "metadata": {},
   "outputs": [
    {
     "data": {
      "text/html": [
       "<html>\\[\\newcommand{\\Bold}[1]{\\mathbf{#1}}\\frac{1}{x^{24}} q^{48} + \\frac{24}{x^{23}} q^{47} + \\frac{252}{x^{22}} q^{46} + \\frac{1472}{x^{21}} q^{45} + \\frac{4830}{x^{20}} q^{44} + \\frac{6072}{x^{19}} q^{43} + \\left(\\frac{-16192}{x^{18}}\\right) q^{42} + \\left(\\frac{-78936}{x^{17}}\\right) q^{41} + \\left(\\frac{-82731}{x^{16}}\\right) q^{40} + \\frac{212520}{x^{15}} q^{39} + \\frac{649704}{x^{14}} q^{38} + \\frac{73416}{x^{13}} q^{37} + \\left(\\frac{-1977862}{x^{12}}\\right) q^{36} + \\left(\\frac{-2034672}{x^{11}}\\right) q^{35} + \\frac{3487260}{x^{10}} q^{34} + \\frac{7072408}{x^{9}} q^{33} + \\left(\\frac{-3432198}{x^{8}}\\right) q^{32} + \\left(\\frac{-15343944}{x^{7}}\\right) q^{31} + \\frac{134596}{x^{6}} q^{30} + \\frac{25077360}{x^{5}} q^{29} + \\frac{6067446}{x^{4}} q^{28} + \\left(\\frac{-33474936}{x^{3}}\\right) q^{27} + \\left(\\frac{-12286968}{x^{2}}\\right) q^{26} + \\frac{38228232}{x} q^{25} + 14903725 q^{24} - 38228232x q^{23} - 12286968x^{2} q^{22} + 33474936x^{3} q^{21} + 6067446x^{4} q^{20} - 25077360x^{5} q^{19} + 134596x^{6} q^{18} + 15343944x^{7} q^{17} - 3432198x^{8} q^{16} - 7072408x^{9} q^{15} + 3487260x^{10} q^{14} + 2034672x^{11} q^{13} - 1977862x^{12} q^{12} - 73416x^{13} q^{11} + 649704x^{14} q^{10} - 212520x^{15} q^{9} - 82731x^{16} q^{8} + 78936x^{17} q^{7} - 16192x^{18} q^{6} - 6072x^{19} q^{5} + 4830x^{20} q^{4} - 1472x^{21} q^{3} + 252x^{22} q^{2} - 24x^{23} q + x^{24}\\]</html>"
      ],
      "text/latex": [
       "$$\\newcommand{\\Bold}[1]{\\mathbf{#1}}\\frac{1}{x^{24}} q^{48} + \\frac{24}{x^{23}} q^{47} + \\frac{252}{x^{22}} q^{46} + \\frac{1472}{x^{21}} q^{45} + \\frac{4830}{x^{20}} q^{44} + \\frac{6072}{x^{19}} q^{43} + \\left(\\frac{-16192}{x^{18}}\\right) q^{42} + \\left(\\frac{-78936}{x^{17}}\\right) q^{41} + \\left(\\frac{-82731}{x^{16}}\\right) q^{40} + \\frac{212520}{x^{15}} q^{39} + \\frac{649704}{x^{14}} q^{38} + \\frac{73416}{x^{13}} q^{37} + \\left(\\frac{-1977862}{x^{12}}\\right) q^{36} + \\left(\\frac{-2034672}{x^{11}}\\right) q^{35} + \\frac{3487260}{x^{10}} q^{34} + \\frac{7072408}{x^{9}} q^{33} + \\left(\\frac{-3432198}{x^{8}}\\right) q^{32} + \\left(\\frac{-15343944}{x^{7}}\\right) q^{31} + \\frac{134596}{x^{6}} q^{30} + \\frac{25077360}{x^{5}} q^{29} + \\frac{6067446}{x^{4}} q^{28} + \\left(\\frac{-33474936}{x^{3}}\\right) q^{27} + \\left(\\frac{-12286968}{x^{2}}\\right) q^{26} + \\frac{38228232}{x} q^{25} + 14903725 q^{24} - 38228232x q^{23} - 12286968x^{2} q^{22} + 33474936x^{3} q^{21} + 6067446x^{4} q^{20} - 25077360x^{5} q^{19} + 134596x^{6} q^{18} + 15343944x^{7} q^{17} - 3432198x^{8} q^{16} - 7072408x^{9} q^{15} + 3487260x^{10} q^{14} + 2034672x^{11} q^{13} - 1977862x^{12} q^{12} - 73416x^{13} q^{11} + 649704x^{14} q^{10} - 212520x^{15} q^{9} - 82731x^{16} q^{8} + 78936x^{17} q^{7} - 16192x^{18} q^{6} - 6072x^{19} q^{5} + 4830x^{20} q^{4} - 1472x^{21} q^{3} + 252x^{22} q^{2} - 24x^{23} q + x^{24}$$"
      ],
      "text/plain": [
       "((x^-24))*q^48 + ((24*x^-23))*q^47 + ((252*x^-22))*q^46 + ((1472*x^-21))*q^45 + ((4830*x^-20))*q^44 + ((6072*x^-19))*q^43 + ((-16192*x^-18))*q^42 + ((-78936*x^-17))*q^41 + ((-82731*x^-16))*q^40 + ((212520*x^-15))*q^39 + ((649704*x^-14))*q^38 + ((73416*x^-13))*q^37 + ((-1977862*x^-12))*q^36 + ((-2034672*x^-11))*q^35 + ((3487260*x^-10))*q^34 + ((7072408*x^-9))*q^33 + ((-3432198*x^-8))*q^32 + ((-15343944*x^-7))*q^31 + ((134596*x^-6))*q^30 + ((25077360*x^-5))*q^29 + ((6067446*x^-4))*q^28 + ((-33474936*x^-3))*q^27 + ((-12286968*x^-2))*q^26 + ((38228232*x^-1))*q^25 + 14903725*q^24 - 38228232*x*q^23 - 12286968*x^2*q^22 + 33474936*x^3*q^21 + 6067446*x^4*q^20 - 25077360*x^5*q^19 + 134596*x^6*q^18 + 15343944*x^7*q^17 - 3432198*x^8*q^16 - 7072408*x^9*q^15 + 3487260*x^10*q^14 + 2034672*x^11*q^13 - 1977862*x^12*q^12 - 73416*x^13*q^11 + 649704*x^14*q^10 - 212520*x^15*q^9 - 82731*x^16*q^8 + 78936*x^17*q^7 - 16192*x^18*q^6 - 6072*x^19*q^5 + 4830*x^20*q^4 - 1472*x^21*q^3 + 252*x^22*q^2 - 24*x^23*q + x^24"
      ]
     },
     "execution_count": 24,
     "metadata": {},
     "output_type": "execute_result"
    }
   ],
   "source": [
    "A^24"
   ]
  },
  {
   "cell_type": "code",
   "execution_count": 25,
   "id": "9b15863a",
   "metadata": {},
   "outputs": [
    {
     "data": {
      "text/html": [
       "<html>\\[\\newcommand{\\Bold}[1]{\\mathbf{#1}}49\\]</html>"
      ],
      "text/latex": [
       "$$\\newcommand{\\Bold}[1]{\\mathbf{#1}}49$$"
      ],
      "text/plain": [
       "49"
      ]
     },
     "execution_count": 25,
     "metadata": {},
     "output_type": "execute_result"
    }
   ],
   "source": [
    "len((A^24).list())"
   ]
  },
  {
   "cell_type": "code",
   "execution_count": 26,
   "id": "94a01c61",
   "metadata": {},
   "outputs": [],
   "source": [
    "# for n in range(0,100):\n",
    "#     print(len((A^n).list()) == 2*n+1)\n",
    "\n",
    "# # All True"
   ]
  },
  {
   "cell_type": "code",
   "execution_count": 27,
   "id": "2e486656",
   "metadata": {},
   "outputs": [],
   "source": [
    "# A3 = A^3\n",
    "# A3"
   ]
  },
  {
   "cell_type": "code",
   "execution_count": 28,
   "id": "f2171b50",
   "metadata": {},
   "outputs": [
    {
     "data": {
      "text/html": [
       "<html>\\[\\newcommand{\\Bold}[1]{\\mathbf{#1}}\\left(\\frac{-1}{y}\\right) q^{4} - q^{2} + y\\]</html>"
      ],
      "text/latex": [
       "$$\\newcommand{\\Bold}[1]{\\mathbf{#1}}\\left(\\frac{-1}{y}\\right) q^{4} - q^{2} + y$$"
      ],
      "text/plain": [
       "(-y^-1)*q^4 - q^2 + y"
      ]
     },
     "execution_count": 28,
     "metadata": {},
     "output_type": "execute_result"
    }
   ],
   "source": [
    "B = y-q^2-q^4/y\n",
    "B"
   ]
  },
  {
   "cell_type": "code",
   "execution_count": 29,
   "id": "816112bb",
   "metadata": {},
   "outputs": [],
   "source": [
    "#B^2"
   ]
  },
  {
   "cell_type": "code",
   "execution_count": 30,
   "id": "689d55d5",
   "metadata": {},
   "outputs": [],
   "source": [
    "# A*B"
   ]
  },
  {
   "cell_type": "code",
   "execution_count": 31,
   "id": "b8aaca2e",
   "metadata": {},
   "outputs": [],
   "source": [
    "# A_B2 = A*B^2\n",
    "# A_B2"
   ]
  },
  {
   "cell_type": "code",
   "execution_count": 32,
   "id": "dad22720",
   "metadata": {},
   "outputs": [
    {
     "data": {
      "text/html": [
       "<html>\\[\\newcommand{\\Bold}[1]{\\mathbf{#1}}\\frac{1}{x^{4}} q^{8} + \\left(\\frac{-1}{x^{3}}\\right) q^{7} + \\frac{2}{x^{2}} q^{6} + \\left(\\frac{-3}{x}\\right) q^{5} + 5 q^{4} + 3x q^{3} + 2x^{2} q^{2} + x^{3} q + x^{4}\\]</html>"
      ],
      "text/latex": [
       "$$\\newcommand{\\Bold}[1]{\\mathbf{#1}}\\frac{1}{x^{4}} q^{8} + \\left(\\frac{-1}{x^{3}}\\right) q^{7} + \\frac{2}{x^{2}} q^{6} + \\left(\\frac{-3}{x}\\right) q^{5} + 5 q^{4} + 3x q^{3} + 2x^{2} q^{2} + x^{3} q + x^{4}$$"
      ],
      "text/plain": [
       "((x^-4))*q^8 + ((-x^-3))*q^7 + ((2*x^-2))*q^6 + ((-3*x^-1))*q^5 + 5*q^4 + 3*x*q^3 + 2*x^2*q^2 + x^3*q + x^4"
      ]
     },
     "execution_count": 32,
     "metadata": {},
     "output_type": "execute_result"
    }
   ],
   "source": [
    "P = x^4 +q*x^3 +2*q^2*x^2 +3*q^3*x +5*q^4 -3*q^5/x +2*q^6/x^2 -q^7/x^3 +q^8/x^4\n",
    "P"
   ]
  },
  {
   "cell_type": "code",
   "execution_count": 33,
   "id": "8f56b0cf",
   "metadata": {},
   "outputs": [
    {
     "data": {
      "text/html": [
       "<html>\\[\\newcommand{\\Bold}[1]{\\mathbf{#1}}\\frac{1}{y^{4}} q^{16} + \\left(\\frac{-1}{y^{3}}\\right) q^{14} + \\frac{2}{y^{2}} q^{12} + \\left(\\frac{-3}{y}\\right) q^{10} + 5 q^{8} + 3y q^{6} + 2y^{2} q^{4} + y^{3} q^{2} + y^{4}\\]</html>"
      ],
      "text/latex": [
       "$$\\newcommand{\\Bold}[1]{\\mathbf{#1}}\\frac{1}{y^{4}} q^{16} + \\left(\\frac{-1}{y^{3}}\\right) q^{14} + \\frac{2}{y^{2}} q^{12} + \\left(\\frac{-3}{y}\\right) q^{10} + 5 q^{8} + 3y q^{6} + 2y^{2} q^{4} + y^{3} q^{2} + y^{4}$$"
      ],
      "text/plain": [
       "(y^-4)*q^16 + (-y^-3)*q^14 + (2*y^-2)*q^12 + (-3*y^-1)*q^10 + 5*q^8 + 3*y*q^6 + 2*y^2*q^4 + y^3*q^2 + y^4"
      ]
     },
     "execution_count": 33,
     "metadata": {},
     "output_type": "execute_result"
    }
   ],
   "source": [
    "Q = y^4 +q^2*y^3 +2*q^4*y^2 +3*q^6*y +5*q^8 -3*q^10/y +2*q^12/y^2 -q^14/y^3 +q^16/y^4\n",
    "Q"
   ]
  },
  {
   "cell_type": "code",
   "execution_count": 34,
   "id": "5c5a6981",
   "metadata": {},
   "outputs": [],
   "source": [
    "phi = (a +2*q*b +2*q^4*c)"
   ]
  },
  {
   "cell_type": "code",
   "execution_count": 35,
   "id": "46125acc",
   "metadata": {},
   "outputs": [
    {
     "data": {
      "text/html": [
       "<html>\\[\\newcommand{\\Bold}[1]{\\mathbf{#1}}\\frac{2 c}{y^{4}} q^{20} + \\left(\\frac{-2 c}{y^{3}}\\right) q^{18} + \\frac{2 b}{y^{4}} q^{17} + \\left(\\frac{a}{y^{4}} + \\frac{4 c}{y^{2}}\\right) q^{16} + \\left(\\frac{-2 b}{y^{3}}\\right) q^{15} + \\left(\\frac{- a}{y^{3}} + \\frac{-6 c}{y}\\right) q^{14} + \\frac{4 b}{y^{2}} q^{13} + \\left(\\frac{2 a}{y^{2}} + 10 c\\right) q^{12} + \\left(\\frac{-6 b}{y}\\right) q^{11} + \\left(\\frac{-3 a}{y} + 6 cy\\right) q^{10} + 10 b q^{9} + \\left(5 a + 4 cy^{2}\\right) q^{8} + 6 by q^{7} + \\left(3 ay + 2 cy^{3}\\right) q^{6} + 4 by^{2} q^{5} + \\left(2 ay^{2} + 2 cy^{4}\\right) q^{4} + 2 by^{3} q^{3} + ay^{3} q^{2} + 2 by^{4} q + ay^{4}\\]</html>"
      ],
      "text/latex": [
       "$$\\newcommand{\\Bold}[1]{\\mathbf{#1}}\\frac{2 c}{y^{4}} q^{20} + \\left(\\frac{-2 c}{y^{3}}\\right) q^{18} + \\frac{2 b}{y^{4}} q^{17} + \\left(\\frac{a}{y^{4}} + \\frac{4 c}{y^{2}}\\right) q^{16} + \\left(\\frac{-2 b}{y^{3}}\\right) q^{15} + \\left(\\frac{- a}{y^{3}} + \\frac{-6 c}{y}\\right) q^{14} + \\frac{4 b}{y^{2}} q^{13} + \\left(\\frac{2 a}{y^{2}} + 10 c\\right) q^{12} + \\left(\\frac{-6 b}{y}\\right) q^{11} + \\left(\\frac{-3 a}{y} + 6 cy\\right) q^{10} + 10 b q^{9} + \\left(5 a + 4 cy^{2}\\right) q^{8} + 6 by q^{7} + \\left(3 ay + 2 cy^{3}\\right) q^{6} + 4 by^{2} q^{5} + \\left(2 ay^{2} + 2 cy^{4}\\right) q^{4} + 2 by^{3} q^{3} + ay^{3} q^{2} + 2 by^{4} q + ay^{4}$$"
      ],
      "text/plain": [
       "(2*c*y^-4)*q^20 + (-2*c*y^-3)*q^18 + (2*b*y^-4)*q^17 + (a*y^-4 + 4*c*y^-2)*q^16 + (-2*b*y^-3)*q^15 + (-a*y^-3 - 6*c*y^-1)*q^14 + (4*b*y^-2)*q^13 + (2*a*y^-2 + 10*c)*q^12 + (-6*b*y^-1)*q^11 + (-3*a*y^-1 + 6*c*y)*q^10 + 10*b*q^9 + (5*a + 4*c*y^2)*q^8 + 6*b*y*q^7 + (3*a*y + 2*c*y^3)*q^6 + 4*b*y^2*q^5 + (2*a*y^2 + 2*c*y^4)*q^4 + 2*b*y^3*q^3 + a*y^3*q^2 + 2*b*y^4*q + a*y^4"
      ]
     },
     "execution_count": 35,
     "metadata": {},
     "output_type": "execute_result"
    }
   ],
   "source": [
    "phi*Q"
   ]
  },
  {
   "cell_type": "code",
   "execution_count": null,
   "id": "0ffb942f",
   "metadata": {},
   "outputs": [],
   "source": []
  },
  {
   "cell_type": "code",
   "execution_count": null,
   "id": "245b00f5",
   "metadata": {},
   "outputs": [],
   "source": []
  },
  {
   "cell_type": "code",
   "execution_count": null,
   "id": "b61a9a9e",
   "metadata": {},
   "outputs": [],
   "source": []
  },
  {
   "cell_type": "code",
   "execution_count": 11,
   "id": "913fe70f",
   "metadata": {},
   "outputs": [],
   "source": [
    "# P*Q"
   ]
  },
  {
   "cell_type": "code",
   "execution_count": 12,
   "id": "3e667693",
   "metadata": {},
   "outputs": [],
   "source": [
    "# A2_Q = A^2*Q\n",
    "# A2_Q"
   ]
  },
  {
   "cell_type": "code",
   "execution_count": null,
   "id": "454ac970",
   "metadata": {},
   "outputs": [],
   "source": []
  },
  {
   "cell_type": "code",
   "execution_count": 17,
   "id": "6b53cf21",
   "metadata": {},
   "outputs": [
    {
     "data": {
      "text/html": [
       "<html>\\[\\newcommand{\\Bold}[1]{\\mathbf{#1}}\\frac{\\frac{1}{x^{8}}}{y^{2}} q^{24} + \\left(\\frac{\\frac{-2}{x^{7}}}{y^{2}}\\right) q^{23} + \\left(\\frac{\\frac{5}{x^{6}}}{y^{2}} + \\frac{\\frac{2}{x^{8}}}{y}\\right) q^{22} + \\left(\\frac{\\frac{-10}{x^{5}}}{y^{2}} + \\frac{\\frac{-4}{x^{7}}}{y}\\right) q^{21} + \\left(\\frac{\\frac{20}{x^{4}}}{y^{2}} + \\frac{\\frac{10}{x^{6}}}{y} + \\frac{-1}{x^{8}}\\right) q^{20} + \\left(\\frac{\\frac{-16}{x^{3}}}{y^{2}} + \\frac{\\frac{-20}{x^{5}}}{y} + \\frac{2}{x^{7}}\\right) q^{19} + \\left(\\frac{\\frac{27}{x^{2}}}{y^{2}} + \\frac{\\frac{40}{x^{4}}}{y} + \\frac{-5}{x^{6}} + \\left(\\frac{-2}{x^{8}}\\right)y\\right) q^{18} + \\left(\\frac{\\frac{-20}{x}}{y^{2}} + \\frac{\\frac{-32}{x^{3}}}{y} + \\frac{10}{x^{5}} + \\frac{4}{x^{7}}y\\right) q^{17} + \\left(\\frac{15}{y^{2}} + \\frac{\\frac{54}{x^{2}}}{y} + \\frac{-20}{x^{4}} + \\left(\\frac{-10}{x^{6}}\\right)y + \\frac{1}{x^{8}}y^{2}\\right) q^{16} + \\left(\\frac{20x}{y^{2}} + \\frac{\\frac{-40}{x}}{y} + \\frac{16}{x^{3}} + \\frac{20}{x^{5}}y + \\left(\\frac{-2}{x^{7}}\\right)y^{2}\\right) q^{15} + \\left(\\frac{27x^{2}}{y^{2}} + \\frac{30}{y} + \\frac{-27}{x^{2}} + \\left(\\frac{-40}{x^{4}}\\right)y + \\frac{5}{x^{6}}y^{2}\\right) q^{14} + \\left(\\frac{16x^{3}}{y^{2}} + \\frac{40x}{y} + \\frac{20}{x} + \\frac{32}{x^{3}}y + \\left(\\frac{-10}{x^{5}}\\right)y^{2}\\right) q^{13} + \\left(\\frac{20x^{4}}{y^{2}} + \\frac{54x^{2}}{y} - 15 + \\left(\\frac{-54}{x^{2}}\\right)y + \\frac{20}{x^{4}}y^{2}\\right) q^{12} + \\left(\\frac{10x^{5}}{y^{2}} + \\frac{32x^{3}}{y} - 20x + \\frac{40}{x}y + \\left(\\frac{-16}{x^{3}}\\right)y^{2}\\right) q^{11} + \\left(\\frac{5x^{6}}{y^{2}} + \\frac{40x^{4}}{y} - 27x^{2} - 30y + \\frac{27}{x^{2}}y^{2}\\right) q^{10} + \\left(\\frac{2x^{7}}{y^{2}} + \\frac{20x^{5}}{y} - 16x^{3} - 40xy + \\left(\\frac{-20}{x}\\right)y^{2}\\right) q^{9} + \\left(\\frac{x^{8}}{y^{2}} + \\frac{10x^{6}}{y} - 20x^{4} - 54x^{2}y + 15y^{2}\\right) q^{8} + \\left(\\frac{4x^{7}}{y} - 10x^{5} - 32x^{3}y + 20xy^{2}\\right) q^{7} + \\left(\\frac{2x^{8}}{y} - 5x^{6} - 40x^{4}y + 27x^{2}y^{2}\\right) q^{6} + \\left(-2x^{7} - 20x^{5}y + 16x^{3}y^{2}\\right) q^{5} + \\left(-x^{8} - 10x^{6}y + 20x^{4}y^{2}\\right) q^{4} + \\left(-4x^{7}y + 10x^{5}y^{2}\\right) q^{3} + \\left(-2x^{8}y + 5x^{6}y^{2}\\right) q^{2} + 2x^{7}y^{2} q + x^{8}y^{2}\\]</html>"
      ],
      "text/latex": [
       "$$\\newcommand{\\Bold}[1]{\\mathbf{#1}}\\frac{\\frac{1}{x^{8}}}{y^{2}} q^{24} + \\left(\\frac{\\frac{-2}{x^{7}}}{y^{2}}\\right) q^{23} + \\left(\\frac{\\frac{5}{x^{6}}}{y^{2}} + \\frac{\\frac{2}{x^{8}}}{y}\\right) q^{22} + \\left(\\frac{\\frac{-10}{x^{5}}}{y^{2}} + \\frac{\\frac{-4}{x^{7}}}{y}\\right) q^{21} + \\left(\\frac{\\frac{20}{x^{4}}}{y^{2}} + \\frac{\\frac{10}{x^{6}}}{y} + \\frac{-1}{x^{8}}\\right) q^{20} + \\left(\\frac{\\frac{-16}{x^{3}}}{y^{2}} + \\frac{\\frac{-20}{x^{5}}}{y} + \\frac{2}{x^{7}}\\right) q^{19} + \\left(\\frac{\\frac{27}{x^{2}}}{y^{2}} + \\frac{\\frac{40}{x^{4}}}{y} + \\frac{-5}{x^{6}} + \\left(\\frac{-2}{x^{8}}\\right)y\\right) q^{18} + \\left(\\frac{\\frac{-20}{x}}{y^{2}} + \\frac{\\frac{-32}{x^{3}}}{y} + \\frac{10}{x^{5}} + \\frac{4}{x^{7}}y\\right) q^{17} + \\left(\\frac{15}{y^{2}} + \\frac{\\frac{54}{x^{2}}}{y} + \\frac{-20}{x^{4}} + \\left(\\frac{-10}{x^{6}}\\right)y + \\frac{1}{x^{8}}y^{2}\\right) q^{16} + \\left(\\frac{20x}{y^{2}} + \\frac{\\frac{-40}{x}}{y} + \\frac{16}{x^{3}} + \\frac{20}{x^{5}}y + \\left(\\frac{-2}{x^{7}}\\right)y^{2}\\right) q^{15} + \\left(\\frac{27x^{2}}{y^{2}} + \\frac{30}{y} + \\frac{-27}{x^{2}} + \\left(\\frac{-40}{x^{4}}\\right)y + \\frac{5}{x^{6}}y^{2}\\right) q^{14} + \\left(\\frac{16x^{3}}{y^{2}} + \\frac{40x}{y} + \\frac{20}{x} + \\frac{32}{x^{3}}y + \\left(\\frac{-10}{x^{5}}\\right)y^{2}\\right) q^{13} + \\left(\\frac{20x^{4}}{y^{2}} + \\frac{54x^{2}}{y} - 15 + \\left(\\frac{-54}{x^{2}}\\right)y + \\frac{20}{x^{4}}y^{2}\\right) q^{12} + \\left(\\frac{10x^{5}}{y^{2}} + \\frac{32x^{3}}{y} - 20x + \\frac{40}{x}y + \\left(\\frac{-16}{x^{3}}\\right)y^{2}\\right) q^{11} + \\left(\\frac{5x^{6}}{y^{2}} + \\frac{40x^{4}}{y} - 27x^{2} - 30y + \\frac{27}{x^{2}}y^{2}\\right) q^{10} + \\left(\\frac{2x^{7}}{y^{2}} + \\frac{20x^{5}}{y} - 16x^{3} - 40xy + \\left(\\frac{-20}{x}\\right)y^{2}\\right) q^{9} + \\left(\\frac{x^{8}}{y^{2}} + \\frac{10x^{6}}{y} - 20x^{4} - 54x^{2}y + 15y^{2}\\right) q^{8} + \\left(\\frac{4x^{7}}{y} - 10x^{5} - 32x^{3}y + 20xy^{2}\\right) q^{7} + \\left(\\frac{2x^{8}}{y} - 5x^{6} - 40x^{4}y + 27x^{2}y^{2}\\right) q^{6} + \\left(-2x^{7} - 20x^{5}y + 16x^{3}y^{2}\\right) q^{5} + \\left(-x^{8} - 10x^{6}y + 20x^{4}y^{2}\\right) q^{4} + \\left(-4x^{7}y + 10x^{5}y^{2}\\right) q^{3} + \\left(-2x^{8}y + 5x^{6}y^{2}\\right) q^{2} + 2x^{7}y^{2} q + x^{8}y^{2}$$"
      ],
      "text/plain": [
       "((x^-8)*y^-2)*q^24 + ((-2*x^-7)*y^-2)*q^23 + ((5*x^-6)*y^-2 + (2*x^-8)*y^-1)*q^22 + ((-10*x^-5)*y^-2 + (-4*x^-7)*y^-1)*q^21 + ((20*x^-4)*y^-2 + (10*x^-6)*y^-1 + (-x^-8))*q^20 + ((-16*x^-3)*y^-2 + (-20*x^-5)*y^-1 + (2*x^-7))*q^19 + ((27*x^-2)*y^-2 + (40*x^-4)*y^-1 + (-5*x^-6) + (-2*x^-8)*y)*q^18 + ((-20*x^-1)*y^-2 + (-32*x^-3)*y^-1 + (10*x^-5) + (4*x^-7)*y)*q^17 + (15*y^-2 + (54*x^-2)*y^-1 + (-20*x^-4) + (-10*x^-6)*y + (x^-8)*y^2)*q^16 + (20*x*y^-2 + (-40*x^-1)*y^-1 + (16*x^-3) + (20*x^-5)*y + (-2*x^-7)*y^2)*q^15 + (27*x^2*y^-2 + 30*y^-1 + (-27*x^-2) + (-40*x^-4)*y + (5*x^-6)*y^2)*q^14 + (16*x^3*y^-2 + 40*x*y^-1 + (20*x^-1) + (32*x^-3)*y + (-10*x^-5)*y^2)*q^13 + (20*x^4*y^-2 + 54*x^2*y^-1 - 15 + (-54*x^-2)*y + (20*x^-4)*y^2)*q^12 + (10*x^5*y^-2 + 32*x^3*y^-1 - 20*x + (40*x^-1)*y + (-16*x^-3)*y^2)*q^11 + (5*x^6*y^-2 + 40*x^4*y^-1 - 27*x^2 - 30*y + (27*x^-2)*y^2)*q^10 + (2*x^7*y^-2 + 20*x^5*y^-1 - 16*x^3 - 40*x*y + (-20*x^-1)*y^2)*q^9 + (x^8*y^-2 + 10*x^6*y^-1 - 20*x^4 - 54*x^2*y + 15*y^2)*q^8 + (4*x^7*y^-1 - 10*x^5 - 32*x^3*y + 20*x*y^2)*q^7 + (2*x^8*y^-1 - 5*x^6 - 40*x^4*y + 27*x^2*y^2)*q^6 + (-2*x^7 - 20*x^5*y + 16*x^3*y^2)*q^5 + (-x^8 - 10*x^6*y + 20*x^4*y^2)*q^4 + (-4*x^7*y + 10*x^5*y^2)*q^3 + (-2*x^8*y + 5*x^6*y^2)*q^2 + 2*x^7*y^2*q + x^8*y^2"
      ]
     },
     "execution_count": 17,
     "metadata": {},
     "output_type": "execute_result"
    }
   ],
   "source": [
    "# (B*P)^2"
   ]
  },
  {
   "cell_type": "code",
   "execution_count": 18,
   "id": "282d2362",
   "metadata": {},
   "outputs": [
    {
     "data": {
      "text/html": [
       "<html>\\[\\newcommand{\\Bold}[1]{\\mathbf{#1}}\\left(\\frac{\\frac{-1}{x^{3}}}{y^{2}}\\right) q^{14} + \\left(\\frac{\\frac{-3}{x^{2}}}{y^{2}}\\right) q^{13} + \\left(\\frac{\\frac{-2}{x^{3}}}{y}\\right) q^{12} + \\left(\\frac{5}{y^{2}} + \\frac{\\frac{-6}{x^{2}}}{y}\\right) q^{11} + \\frac{1}{x^{3}} q^{10} + \\left(\\frac{-3x^{2}}{y^{2}} + \\frac{10}{y} + \\frac{3}{x^{2}}\\right) q^{9} + \\left(\\frac{x^{3}}{y^{2}} + \\frac{2}{x^{3}}y\\right) q^{8} + \\left(\\frac{-6x^{2}}{y} - 5 + \\frac{6}{x^{2}}y\\right) q^{7} + \\left(\\frac{2x^{3}}{y} + \\left(\\frac{-1}{x^{3}}\\right)y^{2}\\right) q^{6} + \\left(3x^{2} - 10y + \\left(\\frac{-3}{x^{2}}\\right)y^{2}\\right) q^{5} - x^{3} q^{4} + \\left(6x^{2}y + 5y^{2}\\right) q^{3} - 2x^{3}y q^{2} - 3x^{2}y^{2} q + x^{3}y^{2}\\]</html>"
      ],
      "text/latex": [
       "$$\\newcommand{\\Bold}[1]{\\mathbf{#1}}\\left(\\frac{\\frac{-1}{x^{3}}}{y^{2}}\\right) q^{14} + \\left(\\frac{\\frac{-3}{x^{2}}}{y^{2}}\\right) q^{13} + \\left(\\frac{\\frac{-2}{x^{3}}}{y}\\right) q^{12} + \\left(\\frac{5}{y^{2}} + \\frac{\\frac{-6}{x^{2}}}{y}\\right) q^{11} + \\frac{1}{x^{3}} q^{10} + \\left(\\frac{-3x^{2}}{y^{2}} + \\frac{10}{y} + \\frac{3}{x^{2}}\\right) q^{9} + \\left(\\frac{x^{3}}{y^{2}} + \\frac{2}{x^{3}}y\\right) q^{8} + \\left(\\frac{-6x^{2}}{y} - 5 + \\frac{6}{x^{2}}y\\right) q^{7} + \\left(\\frac{2x^{3}}{y} + \\left(\\frac{-1}{x^{3}}\\right)y^{2}\\right) q^{6} + \\left(3x^{2} - 10y + \\left(\\frac{-3}{x^{2}}\\right)y^{2}\\right) q^{5} - x^{3} q^{4} + \\left(6x^{2}y + 5y^{2}\\right) q^{3} - 2x^{3}y q^{2} - 3x^{2}y^{2} q + x^{3}y^{2}$$"
      ],
      "text/plain": [
       "((-x^-3)*y^-2)*q^14 + ((-3*x^-2)*y^-2)*q^13 + ((-2*x^-3)*y^-1)*q^12 + (5*y^-2 + (-6*x^-2)*y^-1)*q^11 + ((x^-3))*q^10 + (-3*x^2*y^-2 + 10*y^-1 + (3*x^-2))*q^9 + (x^3*y^-2 + (2*x^-3)*y)*q^8 + (-6*x^2*y^-1 - 5 + (6*x^-2)*y)*q^7 + (2*x^3*y^-1 + (-x^-3)*y^2)*q^6 + (3*x^2 - 10*y + (-3*x^-2)*y^2)*q^5 - x^3*q^4 + (6*x^2*y + 5*y^2)*q^3 - 2*x^3*y*q^2 - 3*x^2*y^2*q + x^3*y^2"
      ]
     },
     "execution_count": 18,
     "metadata": {},
     "output_type": "execute_result"
    }
   ],
   "source": [
    "# A^3*B^2"
   ]
  },
  {
   "cell_type": "code",
   "execution_count": 19,
   "id": "3feb3cb6",
   "metadata": {},
   "outputs": [
    {
     "data": {
      "text/html": [
       "<html>\\[\\newcommand{\\Bold}[1]{\\mathbf{#1}}\\left(\\frac{\\frac{-1}{x^{4}}}{y}\\right) q^{12} + \\frac{\\frac{1}{x^{3}}}{y} q^{11} + \\left(\\frac{\\frac{-2}{x^{2}}}{y} + \\frac{-1}{x^{4}}\\right) q^{10} + \\left(\\frac{\\frac{3}{x}}{y} + \\frac{1}{x^{3}}\\right) q^{9} + \\left(\\frac{-5}{y} + \\frac{-2}{x^{2}} + \\frac{1}{x^{4}}y\\right) q^{8} + \\left(\\frac{-3x}{y} + \\frac{3}{x} + \\left(\\frac{-1}{x^{3}}\\right)y\\right) q^{7} + \\left(\\frac{-2x^{2}}{y} - 5 + \\frac{2}{x^{2}}y\\right) q^{6} + \\left(\\frac{-x^{3}}{y} - 3x + \\left(\\frac{-3}{x}\\right)y\\right) q^{5} + \\left(\\frac{-x^{4}}{y} - 2x^{2} + 5y\\right) q^{4} + \\left(-x^{3} + 3xy\\right) q^{3} + \\left(-x^{4} + 2x^{2}y\\right) q^{2} + x^{3}y q + x^{4}y\\]</html>"
      ],
      "text/latex": [
       "$$\\newcommand{\\Bold}[1]{\\mathbf{#1}}\\left(\\frac{\\frac{-1}{x^{4}}}{y}\\right) q^{12} + \\frac{\\frac{1}{x^{3}}}{y} q^{11} + \\left(\\frac{\\frac{-2}{x^{2}}}{y} + \\frac{-1}{x^{4}}\\right) q^{10} + \\left(\\frac{\\frac{3}{x}}{y} + \\frac{1}{x^{3}}\\right) q^{9} + \\left(\\frac{-5}{y} + \\frac{-2}{x^{2}} + \\frac{1}{x^{4}}y\\right) q^{8} + \\left(\\frac{-3x}{y} + \\frac{3}{x} + \\left(\\frac{-1}{x^{3}}\\right)y\\right) q^{7} + \\left(\\frac{-2x^{2}}{y} - 5 + \\frac{2}{x^{2}}y\\right) q^{6} + \\left(\\frac{-x^{3}}{y} - 3x + \\left(\\frac{-3}{x}\\right)y\\right) q^{5} + \\left(\\frac{-x^{4}}{y} - 2x^{2} + 5y\\right) q^{4} + \\left(-x^{3} + 3xy\\right) q^{3} + \\left(-x^{4} + 2x^{2}y\\right) q^{2} + x^{3}y q + x^{4}y$$"
      ],
      "text/plain": [
       "((-x^-4)*y^-1)*q^12 + ((x^-3)*y^-1)*q^11 + ((-2*x^-2)*y^-1 + (-x^-4))*q^10 + ((3*x^-1)*y^-1 + (x^-3))*q^9 + (-5*y^-1 + (-2*x^-2) + (x^-4)*y)*q^8 + (-3*x*y^-1 + (3*x^-1) + (-x^-3)*y)*q^7 + (-2*x^2*y^-1 - 5 + (2*x^-2)*y)*q^6 + (-x^3*y^-1 - 3*x + (-3*x^-1)*y)*q^5 + (-x^4*y^-1 - 2*x^2 + 5*y)*q^4 + (-x^3 + 3*x*y)*q^3 + (-x^4 + 2*x^2*y)*q^2 + x^3*y*q + x^4*y"
      ]
     },
     "execution_count": 19,
     "metadata": {},
     "output_type": "execute_result"
    }
   ],
   "source": [
    "# B*P"
   ]
  },
  {
   "cell_type": "code",
   "execution_count": null,
   "id": "48a0b186",
   "metadata": {},
   "outputs": [],
   "source": []
  },
  {
   "cell_type": "code",
   "execution_count": 20,
   "id": "55be5286",
   "metadata": {},
   "outputs": [
    {
     "data": {
      "text/html": [
       "<html>\\[\\newcommand{\\Bold}[1]{\\mathbf{#1}}\\left(n, k\\right)\\]</html>"
      ],
      "text/latex": [
       "$$\\newcommand{\\Bold}[1]{\\mathbf{#1}}\\left(n, k\\right)$$"
      ],
      "text/plain": [
       "(n, k)"
      ]
     },
     "execution_count": 20,
     "metadata": {},
     "output_type": "execute_result"
    }
   ],
   "source": [
    " var('n', 'k')"
   ]
  },
  {
   "cell_type": "code",
   "execution_count": 21,
   "id": "f1a56bf5",
   "metadata": {},
   "outputs": [
    {
     "data": {
      "text/html": [
       "<html>\\[\\newcommand{\\Bold}[1]{\\mathbf{#1}}3125 \\, n + 1949\\]</html>"
      ],
      "text/latex": [
       "$$\\newcommand{\\Bold}[1]{\\mathbf{#1}}3125 \\, n + 1949$$"
      ],
      "text/plain": [
       "3125*n + 1949"
      ]
     },
     "execution_count": 21,
     "metadata": {},
     "output_type": "execute_result"
    }
   ],
   "source": [
    "625*(5*n+3)+74"
   ]
  },
  {
   "cell_type": "code",
   "execution_count": 22,
   "id": "01cf29fd",
   "metadata": {},
   "outputs": [
    {
     "data": {
      "text/html": [
       "<html>\\[\\newcommand{\\Bold}[1]{\\mathbf{#1}}\\frac{48}{x^{2}} q^{4} + \\left(\\frac{-8}{x}\\right) q^{3} + \\left(\\frac{-24}{x} + 57\\right) q^{2} + 7x q + 3x^{2}\\]</html>"
      ],
      "text/latex": [
       "$$\\newcommand{\\Bold}[1]{\\mathbf{#1}}\\frac{48}{x^{2}} q^{4} + \\left(\\frac{-8}{x}\\right) q^{3} + \\left(\\frac{-24}{x} + 57\\right) q^{2} + 7x q + 3x^{2}$$"
      ],
      "text/plain": [
       "((48*x^-2))*q^4 + ((-8*x^-1))*q^3 + ((-24*x^-1 + 57))*q^2 + 7*x*q + 3*x^2"
      ]
     },
     "execution_count": 22,
     "metadata": {},
     "output_type": "execute_result"
    }
   ],
   "source": [
    "x^2 +2*q*x +2*(x^2 + 4*q^2) +12*q^2 + 6*q*x -q*(x -4*q +8*q^2/x -16*q^3/x^2) +2*q^2*(16*q^2/x^2 +4) -24*q^2/x +25*q^2"
   ]
  },
  {
   "cell_type": "code",
   "execution_count": 24,
   "id": "adf482da",
   "metadata": {},
   "outputs": [
    {
     "data": {
      "text/html": [
       "<html>\\[\\newcommand{\\Bold}[1]{\\mathbf{#1}}\\left(A, B, C, D, E, F\\right)\\]</html>"
      ],
      "text/latex": [
       "$$\\newcommand{\\Bold}[1]{\\mathbf{#1}}\\left(A, B, C, D, E, F\\right)$$"
      ],
      "text/plain": [
       "(A, B, C, D, E, F)"
      ]
     },
     "execution_count": 24,
     "metadata": {},
     "output_type": "execute_result"
    }
   ],
   "source": [
    "var('A','B','C','D','E','F')"
   ]
  },
  {
   "cell_type": "code",
   "execution_count": 27,
   "id": "bdea90a7",
   "metadata": {},
   "outputs": [],
   "source": [
    "T2 = A -7*B +8*C +16*D -64*E\n",
    "T3 = A -12*B +48*C -64*D +256*E\n",
    "T4 = B +2*C +D -4*E\n",
    "T5 = A +3*B +3*C +D -4*E\n",
    "T6 = A +8*B +38*C +156*D +E"
   ]
  },
  {
   "cell_type": "code",
   "execution_count": 28,
   "id": "a5564cf5",
   "metadata": {},
   "outputs": [],
   "source": [
    "N1 = 358459*(F -16*A +96*B -131*C +256*D -1024*E)\n",
    "N2 = -10270191*T2 -2875*T3 -5*56587027*T4 -186287434*T5 +976562500*T6"
   ]
  },
  {
   "cell_type": "code",
   "execution_count": 31,
   "id": "51b3cc92",
   "metadata": {},
   "outputs": [
    {
     "data": {
      "text/html": [
       "<html>\\[\\newcommand{\\Bold}[1]{\\mathbf{#1}}774266656 \\, A + 7077040464 \\, B + 35855384771 \\, C + 151802153879 \\, D + 3142946984 \\, E + 358459 \\, F\\]</html>"
      ],
      "text/latex": [
       "$$\\newcommand{\\Bold}[1]{\\mathbf{#1}}774266656 \\, A + 7077040464 \\, B + 35855384771 \\, C + 151802153879 \\, D + 3142946984 \\, E + 358459 \\, F$$"
      ],
      "text/plain": [
       "774266656*A + 7077040464*B + 35855384771*C + 151802153879*D + 3142946984*E + 358459*F"
      ]
     },
     "execution_count": 31,
     "metadata": {},
     "output_type": "execute_result"
    }
   ],
   "source": [
    "N1+N2"
   ]
  },
  {
   "cell_type": "code",
   "execution_count": null,
   "id": "934ff1b9",
   "metadata": {},
   "outputs": [],
   "source": []
  },
  {
   "cell_type": "code",
   "execution_count": 1,
   "id": "1ed2ab68",
   "metadata": {},
   "outputs": [
    {
     "data": {
      "text/plain": [
       "(A, B, C, D, E, F, G, H, I, J, K, c625, c25, c15625)"
      ]
     },
     "execution_count": 1,
     "metadata": {},
     "output_type": "execute_result"
    }
   ],
   "source": [
    "var('A','B','C','D','E','F', 'G', 'H', 'I', 'J', 'K', 'c625', 'c25', 'c15625')"
   ]
  },
  {
   "cell_type": "code",
   "execution_count": 2,
   "id": "75b212ec",
   "metadata": {},
   "outputs": [],
   "source": [
    "X = 9*c625 -25*25136*c25 -625*(207*F +43792*G +9340625*J)\n",
    "Y = -25136*c15625 +5*392868373*c625 -3125*(25747155*F +5446953680*G +1155986328125*J)\n",
    "Z = 9*c15625 -125*392868373*c625 -3125*(3226131*F +682505936*G +145577350000*J)"
   ]
  },
  {
   "cell_type": "code",
   "execution_count": 3,
   "id": "6bf763b4",
   "metadata": {},
   "outputs": [
    {
     "data": {
      "text/plain": [
       "-1234392427966000*c25 + 1234392427966000*c625"
      ]
     },
     "execution_count": 3,
     "metadata": {},
     "output_type": "execute_result"
    }
   ],
   "source": [
    "5*392868373*X -9*Y -25136*Z"
   ]
  },
  {
   "cell_type": "code",
   "execution_count": 8,
   "id": "2a8626a8",
   "metadata": {},
   "outputs": [],
   "source": [
    "%display latex"
   ]
  },
  {
   "cell_type": "code",
   "execution_count": 9,
   "id": "f025fac8",
   "metadata": {},
   "outputs": [
    {
     "data": {
      "text/html": [
       "<html>\\[\\newcommand{\\Bold}[1]{\\mathbf{#1}}\\left(a, b, c, q\\right)\\]</html>"
      ],
      "text/latex": [
       "$$\\newcommand{\\Bold}[1]{\\mathbf{#1}}\\left(a, b, c, q\\right)$$"
      ],
      "text/plain": [
       "(a, b, c, q)"
      ]
     },
     "execution_count": 9,
     "metadata": {},
     "output_type": "execute_result"
    }
   ],
   "source": [
    "var('a','b','c','q')"
   ]
  },
  {
   "cell_type": "code",
   "execution_count": 10,
   "id": "0b40e42f",
   "metadata": {},
   "outputs": [
    {
     "data": {
      "text/html": [
       "<html>\\[\\newcommand{\\Bold}[1]{\\mathbf{#1}}-c^{3} q^{9} - 3 \\, b c^{2} q^{7} + 3 \\, a c^{2} q^{6} - 3 \\, b^{2} c q^{5} + 6 \\, a b c q^{4} + 3 \\, a b^{2} q^{2} - 3 \\, a^{2} b q - {\\left(b^{3} + 3 \\, a^{2} c\\right)} q^{3} + a^{3}\\]</html>"
      ],
      "text/latex": [
       "$$\\newcommand{\\Bold}[1]{\\mathbf{#1}}-c^{3} q^{9} - 3 \\, b c^{2} q^{7} + 3 \\, a c^{2} q^{6} - 3 \\, b^{2} c q^{5} + 6 \\, a b c q^{4} + 3 \\, a b^{2} q^{2} - 3 \\, a^{2} b q - {\\left(b^{3} + 3 \\, a^{2} c\\right)} q^{3} + a^{3}$$"
      ],
      "text/plain": [
       "-c^3*q^9 - 3*b*c^2*q^7 + 3*a*c^2*q^6 - 3*b^2*c*q^5 + 6*a*b*c*q^4 + 3*a*b^2*q^2 - 3*a^2*b*q - (b^3 + 3*a^2*c)*q^3 + a^3"
      ]
     },
     "execution_count": 10,
     "metadata": {},
     "output_type": "execute_result"
    }
   ],
   "source": [
    "((a-q*b-q^3*c)^3).full_simplify()"
   ]
  },
  {
   "cell_type": "code",
   "execution_count": null,
   "id": "7dd522f0",
   "metadata": {},
   "outputs": [],
   "source": []
  }
 ],
 "metadata": {
  "kernelspec": {
   "display_name": "SageMath 9.5",
   "language": "sage",
   "name": "sagemath"
  },
  "language_info": {
   "codemirror_mode": {
    "name": "ipython",
    "version": 3
   },
   "file_extension": ".py",
   "mimetype": "text/x-python",
   "name": "python",
   "nbconvert_exporter": "python",
   "pygments_lexer": "ipython3",
   "version": "3.9.9"
  }
 },
 "nbformat": 4,
 "nbformat_minor": 5
}
