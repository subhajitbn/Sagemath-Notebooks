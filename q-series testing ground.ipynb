{
 "cells": [
  {
   "cell_type": "markdown",
   "id": "d75a000e",
   "metadata": {},
   "source": [
    "# Preliminaries"
   ]
  },
  {
   "cell_type": "markdown",
   "id": "7c20459b",
   "metadata": {},
   "source": [
    "## The main definition\n",
    "$$\n",
    "f_n := (q^{n};q^{n})_{\\infty}.\n",
    "$$"
   ]
  },
  {
   "cell_type": "code",
   "execution_count": 1,
   "id": "e269b40b",
   "metadata": {},
   "outputs": [],
   "source": [
    "%display latex"
   ]
  },
  {
   "cell_type": "markdown",
   "id": "cbecee8c",
   "metadata": {},
   "source": [
    "## Import necessary Sagemath library and Numpy"
   ]
  },
  {
   "cell_type": "code",
   "execution_count": 2,
   "id": "3a4e2988",
   "metadata": {},
   "outputs": [],
   "source": [
    "from sage.modular.etaproducts import qexp_eta\n",
    "import numpy as np"
   ]
  },
  {
   "cell_type": "markdown",
   "id": "d2789e67",
   "metadata": {},
   "source": [
    "## Define a power series ring over the field of integers"
   ]
  },
  {
   "cell_type": "code",
   "execution_count": 3,
   "id": "98f0c306",
   "metadata": {},
   "outputs": [],
   "source": [
    "R.<q> = PowerSeriesRing(ZZ)"
   ]
  },
  {
   "cell_type": "markdown",
   "id": "ebdcbe1a",
   "metadata": {},
   "source": [
    "## Set the highest precision allowed"
   ]
  },
  {
   "cell_type": "code",
   "execution_count": 4,
   "id": "b694518a",
   "metadata": {},
   "outputs": [],
   "source": [
    "precision = 10000"
   ]
  },
  {
   "cell_type": "markdown",
   "id": "e85f0c6a",
   "metadata": {},
   "source": [
    "## Set the $q$-product for $f_1 := (q;q)_{\\infty}$"
   ]
  },
  {
   "cell_type": "code",
   "execution_count": 5,
   "id": "39c60b42",
   "metadata": {},
   "outputs": [],
   "source": [
    "f1 = qexp_eta(ZZ[['q']], precision)"
   ]
  },
  {
   "cell_type": "code",
   "execution_count": 6,
   "id": "77ea5c56",
   "metadata": {},
   "outputs": [
    {
     "data": {
      "text/html": [
       "<html>\\[\\newcommand{\\Bold}[1]{\\mathbf{#1}}\\mathrm{True}\\]</html>"
      ],
      "text/latex": [
       "$$\\newcommand{\\Bold}[1]{\\mathbf{#1}}\\mathrm{True}$$"
      ],
      "text/plain": [
       "True"
      ]
     },
     "execution_count": 6,
     "metadata": {},
     "output_type": "execute_result"
    }
   ],
   "source": [
    "f1 in R"
   ]
  },
  {
   "cell_type": "markdown",
   "id": "b4cffb1f",
   "metadata": {},
   "source": [
    "## Set additional $q$-products here"
   ]
  },
  {
   "cell_type": "code",
   "execution_count": 7,
   "id": "6e09e003",
   "metadata": {},
   "outputs": [],
   "source": [
    "f2 = f1.V(2)\n",
    "f4 = f1.V(4)\n",
    "f5 = f1.V(5)"
   ]
  },
  {
   "cell_type": "code",
   "execution_count": 8,
   "id": "c923c8e3",
   "metadata": {},
   "outputs": [],
   "source": [
    "phi = (f2^5)/(f1^2*f4^2)\n",
    "psi = (f2^2)/f1\n",
    "phi_n = (f1^2)/f2\n",
    "psi_n = (f1*f4)/f2"
   ]
  },
  {
   "cell_type": "code",
   "execution_count": 9,
   "id": "9eaf6fe6",
   "metadata": {},
   "outputs": [],
   "source": [
    "f10 = f1.V(10)\n",
    "f20 = f1.V(20)\n",
    "chi = f2^2/(f1*f4)\n",
    "chi_n = f1/f2"
   ]
  },
  {
   "cell_type": "code",
   "execution_count": 10,
   "id": "b8a6cd21",
   "metadata": {},
   "outputs": [],
   "source": [
    "D = f1^24"
   ]
  },
  {
   "cell_type": "code",
   "execution_count": 11,
   "id": "315b9796",
   "metadata": {},
   "outputs": [],
   "source": [
    "# modvalue-dissection is being taken. If modvalue = 5, the result gives 5-dissections.\n",
    "# dissection_precision < precision\n",
    "\n",
    "def dissection(powerseries, modvalue, dissection_precision):\n",
    "    coefficients = powerseries.list()\n",
    "    modvalue_dissection = []\n",
    "    for i in range(0, modvalue):\n",
    "        modvalue_times_n_plus_i = R([coefficients[modvalue*n+i] for n in range(0,dissection_precision)], dissection_precision)\n",
    "        modvalue_dissection.append(modvalue_times_n_plus_i)\n",
    "    return modvalue_dissection\n",
    "# modvalue_dissection[i] is the dissection modvalue*n+i. For example, if modvalue = 5 then modvalue_dissection[1] gives the dissecction 5n+1."
   ]
  },
  {
   "cell_type": "code",
   "execution_count": 12,
   "id": "6f3a20ed",
   "metadata": {},
   "outputs": [
    {
     "data": {
      "text/html": [
       "<html>\\[\\newcommand{\\Bold}[1]{\\mathbf{#1}}\\left[1 +  q -  q^{3} -  q^{7} -  q^{8} + O(q^{11}), -1 +  q^{5} +  q^{10} + O(q^{11}), -1 +  q -  q^{2} +  q^{4} + O(q^{11}), 0 + \\cdots, 0 + \\cdots\\right]\\]</html>"
      ],
      "text/latex": [
       "$$\\newcommand{\\Bold}[1]{\\mathbf{#1}}\\left[1 +  q -  q^{3} -  q^{7} -  q^{8} + O(q^{11}), -1 +  q^{5} +  q^{10} + O(q^{11}), -1 +  q -  q^{2} +  q^{4} + O(q^{11}), 0 + \\cdots, 0 + \\cdots\\right]$$"
      ],
      "text/plain": [
       "[1 + q - q^3 - q^7 - q^8 + O(q^11),\n",
       " -1 + q^5 + q^10 + O(q^11),\n",
       " -1 + q - q^2 + q^4 + O(q^11),\n",
       " O(q^11),\n",
       " O(q^11)]"
      ]
     },
     "execution_count": 12,
     "metadata": {},
     "output_type": "execute_result"
    }
   ],
   "source": [
    "dissection(f1, modvalue=5, dissection_precision=11)\n",
    "# Output: List index 3 and 4 should be identically zero"
   ]
  },
  {
   "cell_type": "code",
   "execution_count": 13,
   "id": "c431a4a1",
   "metadata": {},
   "outputs": [
    {
     "data": {
      "text/html": [
       "<html>\\[\\newcommand{\\Bold}[1]{\\mathbf{#1}}5 + 30 q + 135 q^{2} + 490 q^{3} + 1575 q^{4} + 4565 q^{5} + 12310 q^{6} + 31185 q^{7} + 75175 q^{8} + 173525 q^{9} + 386155 q^{10} + O(q^{11})\\]</html>"
      ],
      "text/latex": [
       "$$\\newcommand{\\Bold}[1]{\\mathbf{#1}}5 + 30 q + 135 q^{2} + 490 q^{3} + 1575 q^{4} + 4565 q^{5} + 12310 q^{6} + 31185 q^{7} + 75175 q^{8} + 173525 q^{9} + 386155 q^{10} + O(q^{11})$$"
      ],
      "text/plain": [
       "5 + 30*q + 135*q^2 + 490*q^3 + 1575*q^4 + 4565*q^5 + 12310*q^6 + 31185*q^7 + 75175*q^8 + 173525*q^9 + 386155*q^10 + O(q^11)"
      ]
     },
     "execution_count": 13,
     "metadata": {},
     "output_type": "execute_result"
    }
   ],
   "source": [
    "dissection(1/f1, modvalue=5, dissection_precision=11)[4]\n",
    "# Output: Coefficients should be divisible by 5"
   ]
  },
  {
   "cell_type": "markdown",
   "id": "a89693f1",
   "metadata": {},
   "source": [
    "# Testing"
   ]
  },
  {
   "cell_type": "code",
   "execution_count": 16,
   "id": "ce380105",
   "metadata": {},
   "outputs": [
    {
     "data": {
      "text/html": [
       "<html>\\[\\newcommand{\\Bold}[1]{\\mathbf{#1}}\\left[1, -1, 1, -2, 3, -4, 5, -7, 10, -13, 16\\right]\\]</html>"
      ],
      "text/latex": [
       "$$\\newcommand{\\Bold}[1]{\\mathbf{#1}}\\left[1, -1, 1, -2, 3, -4, 5, -7, 10, -13, 16\\right]$$"
      ],
      "text/plain": [
       "[1, -1, 1, -2, 3, -4, 5, -7, 10, -13, 16]"
      ]
     },
     "execution_count": 16,
     "metadata": {},
     "output_type": "execute_result"
    }
   ],
   "source": [
    "((1/psi).O(11)).list()"
   ]
  },
  {
   "cell_type": "code",
   "execution_count": null,
   "id": "0efbffcc",
   "metadata": {},
   "outputs": [],
   "source": []
  },
  {
   "cell_type": "code",
   "execution_count": null,
   "id": "54c382d3",
   "metadata": {},
   "outputs": [],
   "source": []
  },
  {
   "cell_type": "code",
   "execution_count": 14,
   "id": "7bdaa4f0",
   "metadata": {},
   "outputs": [
    {
     "data": {
      "text/html": [
       "<html>\\[\\newcommand{\\Bold}[1]{\\mathbf{#1}}1 + 2 q +  q^{2} + 2 q^{3} + 4 q^{4} + 4 q^{5} + 5 q^{6} + 6 q^{7} + 9 q^{8} + 12 q^{9} + 13 q^{10} + 16 q^{11} + 21 q^{12} + 26 q^{13} + 29 q^{14} + 36 q^{15} + 46 q^{16} + 54 q^{17} + 62 q^{18} + 74 q^{19} + 90 q^{20} + 106 q^{21} + 122 q^{22} + 142 q^{23} + 171 q^{24} + 200 q^{25} + 227 q^{26} + 264 q^{27} + 311 q^{28} + 358 q^{29} + 408 q^{30} + 470 q^{31} + 545 q^{32} + 626 q^{33} + 709 q^{34} + 810 q^{35} + 933 q^{36} + 1062 q^{37} + 1198 q^{38} + 1362 q^{39} + 1555 q^{40} + 1760 q^{41} + 1980 q^{42} + 2238 q^{43} + 2536 q^{44} + 2858 q^{45} + 3205 q^{46} + 3602 q^{47} + 4063 q^{48} + 4560 q^{49} + 5092 q^{50} + O(q^{51})\\]</html>"
      ],
      "text/latex": [
       "$$\\newcommand{\\Bold}[1]{\\mathbf{#1}}1 + 2 q +  q^{2} + 2 q^{3} + 4 q^{4} + 4 q^{5} + 5 q^{6} + 6 q^{7} + 9 q^{8} + 12 q^{9} + 13 q^{10} + 16 q^{11} + 21 q^{12} + 26 q^{13} + 29 q^{14} + 36 q^{15} + 46 q^{16} + 54 q^{17} + 62 q^{18} + 74 q^{19} + 90 q^{20} + 106 q^{21} + 122 q^{22} + 142 q^{23} + 171 q^{24} + 200 q^{25} + 227 q^{26} + 264 q^{27} + 311 q^{28} + 358 q^{29} + 408 q^{30} + 470 q^{31} + 545 q^{32} + 626 q^{33} + 709 q^{34} + 810 q^{35} + 933 q^{36} + 1062 q^{37} + 1198 q^{38} + 1362 q^{39} + 1555 q^{40} + 1760 q^{41} + 1980 q^{42} + 2238 q^{43} + 2536 q^{44} + 2858 q^{45} + 3205 q^{46} + 3602 q^{47} + 4063 q^{48} + 4560 q^{49} + 5092 q^{50} + O(q^{51})$$"
      ],
      "text/plain": [
       "1 + 2*q + q^2 + 2*q^3 + 4*q^4 + 4*q^5 + 5*q^6 + 6*q^7 + 9*q^8 + 12*q^9 + 13*q^10 + 16*q^11 + 21*q^12 + 26*q^13 + 29*q^14 + 36*q^15 + 46*q^16 + 54*q^17 + 62*q^18 + 74*q^19 + 90*q^20 + 106*q^21 + 122*q^22 + 142*q^23 + 171*q^24 + 200*q^25 + 227*q^26 + 264*q^27 + 311*q^28 + 358*q^29 + 408*q^30 + 470*q^31 + 545*q^32 + 626*q^33 + 709*q^34 + 810*q^35 + 933*q^36 + 1062*q^37 + 1198*q^38 + 1362*q^39 + 1555*q^40 + 1760*q^41 + 1980*q^42 + 2238*q^43 + 2536*q^44 + 2858*q^45 + 3205*q^46 + 3602*q^47 + 4063*q^48 + 4560*q^49 + 5092*q^50 + O(q^51)"
      ]
     },
     "execution_count": 14,
     "metadata": {},
     "output_type": "execute_result"
    }
   ],
   "source": [
    "(phi/f2).O(51)"
   ]
  },
  {
   "cell_type": "code",
   "execution_count": null,
   "id": "c980ca7f",
   "metadata": {},
   "outputs": [],
   "source": []
  },
  {
   "cell_type": "code",
   "execution_count": 15,
   "id": "dbe9d419",
   "metadata": {},
   "outputs": [],
   "source": [
    "# # [2,3,4,5,7,11,13,17,19,23,29]\n",
    "# for modvalue in [2,3,4,5,7,11]:\n",
    "#     print(f'\\nMod {modvalue}\\n')\n",
    "#     d = dissection(D, modvalue, dissection_precision=11)\n",
    "#     for i in range(0,modvalue):\n",
    "#         print(d[i])"
   ]
  },
  {
   "cell_type": "code",
   "execution_count": 16,
   "id": "61efe313",
   "metadata": {},
   "outputs": [
    {
     "data": {
      "text/html": [
       "<html>\\[\\newcommand{\\Bold}[1]{\\mathbf{#1}}\\left[1, 1, 2, 3, 5, 2, 6, 5, 7, 5, 12\\right]\\]</html>"
      ],
      "text/latex": [
       "$$\\newcommand{\\Bold}[1]{\\mathbf{#1}}\\left[1, 1, 2, 3, 5, 2, 6, 5, 7, 5, 12\\right]$$"
      ],
      "text/plain": [
       "[1, 1, 2, 3, 5, 2, 6, 5, 7, 5, 12]"
      ]
     },
     "execution_count": 16,
     "metadata": {},
     "output_type": "execute_result"
    }
   ],
   "source": [
    "c5 = (f1.V(5)^5) / f1\n",
    "c5_list = c5.list()\n",
    "c5_list[:11]"
   ]
  },
  {
   "cell_type": "code",
   "execution_count": 17,
   "id": "f2575b9d",
   "metadata": {},
   "outputs": [
    {
     "data": {
      "text/html": [
       "<html>\\[\\newcommand{\\Bold}[1]{\\mathbf{#1}}\\left[1, 2, 4, 8, 14, 14, 20, 24, 20, 14, 32\\right]\\]</html>"
      ],
      "text/latex": [
       "$$\\newcommand{\\Bold}[1]{\\mathbf{#1}}\\left[1, 2, 4, 8, 14, 14, 20, 24, 20, 14, 32\\right]$$"
      ],
      "text/plain": [
       "[1, 2, 4, 8, 14, 14, 20, 24, 20, 14, 32]"
      ]
     },
     "execution_count": 17,
     "metadata": {},
     "output_type": "execute_result"
    }
   ],
   "source": [
    "a5 = (phi_n.V(5)^5) / phi_n\n",
    "a5_list = a5.list()\n",
    "a5_list[:11]"
   ]
  },
  {
   "cell_type": "code",
   "execution_count": 18,
   "id": "f1e7bba4",
   "metadata": {},
   "outputs": [
    {
     "data": {
      "text/html": [
       "<html>\\[\\newcommand{\\Bold}[1]{\\mathbf{#1}}\\left[1, 1, 1, 2, 3, -1, 0, 2, 0, -2, 6\\right]\\]</html>"
      ],
      "text/latex": [
       "$$\\newcommand{\\Bold}[1]{\\mathbf{#1}}\\left[1, 1, 1, 2, 3, -1, 0, 2, 0, -2, 6\\right]$$"
      ],
      "text/plain": [
       "[1, 1, 1, 2, 3, -1, 0, 2, 0, -2, 6]"
      ]
     },
     "execution_count": 18,
     "metadata": {},
     "output_type": "execute_result"
    }
   ],
   "source": [
    "b5 = (psi_n.V(5)^5) / psi_n\n",
    "b5_list = b5.list()\n",
    "b5_list[:11]"
   ]
  },
  {
   "cell_type": "code",
   "execution_count": 19,
   "id": "9f16b99d",
   "metadata": {},
   "outputs": [
    {
     "data": {
      "text/html": [
       "<html>\\[\\newcommand{\\Bold}[1]{\\mathbf{#1}}1 +  q +  q^{2} + 2 q^{3} + 3 q^{4} -  q^{5} + 2 q^{7} - 2 q^{9} + 6 q^{10} + 6 q^{11} + 3 q^{12} + 5 q^{13} + 8 q^{14} +  q^{17} + 11 q^{20} + 6 q^{21} + 6 q^{22} + 12 q^{23} + 10 q^{24} - 6 q^{25} + 6 q^{27} - 5 q^{29} + 12 q^{30} + 16 q^{31} + 9 q^{32} + 7 q^{33} + 18 q^{34} + 3 q^{37} + 21 q^{40} + 12 q^{41} + 7 q^{42} + 22 q^{43} + 23 q^{44} - 6 q^{45} + 12 q^{47} - 12 q^{49} + 26 q^{50} + 20 q^{51} + 12 q^{52} + 18 q^{53} + 20 q^{54} - 2 q^{57} + 21 q^{60} + 21 q^{61} + 18 q^{62} + 24 q^{63} + 33 q^{64} - 16 q^{65} + 18 q^{67} - 7 q^{69} + 36 q^{70} + 36 q^{71} + 13 q^{72} + 20 q^{73} + 36 q^{74} + 9 q^{77} + 41 q^{80} + 12 q^{81} + 24 q^{82} + 42 q^{83} + 30 q^{84} - 12 q^{85} + 14 q^{87} - 22 q^{89} + 32 q^{90} + 46 q^{91} + 20 q^{92} + 22 q^{93} + 48 q^{94} +  q^{97} + 51 q^{100} + 36 q^{101} + 12 q^{102} + 52 q^{103} + 53 q^{104} - 20 q^{105} + 24 q^{107} - 18 q^{109} + 56 q^{110} + 40 q^{111} + 33 q^{112} + 30 q^{113} + 42 q^{114} + 14 q^{117} + 42 q^{120} + 32 q^{121} + 31 q^{122} + 42 q^{123} + 63 q^{124} - 21 q^{125} + 36 q^{127} - 24 q^{129} + 60 q^{130} + 66 q^{131} + 30 q^{132} + 48 q^{133} + 68 q^{134} - 6 q^{137} + 72 q^{140} + 35 q^{141} + 30 q^{142} + 72 q^{143} + 43 q^{144} - 36 q^{145} + 26 q^{147} - 20 q^{149} + 56 q^{150} + 72 q^{151} + 32 q^{152} + 24 q^{153} + 78 q^{154} + 7 q^{157} + 81 q^{160} + 42 q^{161} + 36 q^{162} + 82 q^{163} + 83 q^{164} - 12 q^{165} + 48 q^{167} - 42 q^{169} + 86 q^{170} + 60 q^{171} + 39 q^{172} + 60 q^{173} + 60 q^{174} + 7 q^{177} + 62 q^{180} + 66 q^{181} + 54 q^{182} + 64 q^{183} + 96 q^{184} - 46 q^{185} + 40 q^{187} - 22 q^{189} + 96 q^{190} + 96 q^{191} + 24 q^{192} + 43 q^{193} + 98 q^{194} + 23 q^{197} + 90 q^{200} + 32 q^{201} + 42 q^{202} + 102 q^{203} + 77 q^{204} - 36 q^{205} + 24 q^{207} - 52 q^{209} + 72 q^{210} + 106 q^{211} + 63 q^{212} + 60 q^{213} + 96 q^{214} + 12 q^{217} + 111 q^{220} + 66 q^{221} + 42 q^{222} + 112 q^{223} + 113 q^{224} - 40 q^{225} + 66 q^{227} - 30 q^{229} + 116 q^{230} + 84 q^{231} + 69 q^{232} + 60 q^{233} + 80 q^{234} + 2 q^{237} + 91 q^{240} + 62 q^{241} + 43 q^{242} + 84 q^{243} + 120 q^{244} - 32 q^{245} + 62 q^{247} - 42 q^{249} + 132 q^{250} + 126 q^{251} + 32 q^{252} + 85 q^{253} + 128 q^{254} - 12 q^{257} + 131 q^{260} + 72 q^{261} + 78 q^{262} + 120 q^{263} + 90 q^{264} - 66 q^{265} + 60 q^{267} - 48 q^{269} + 72 q^{270} + 136 q^{271} + 72 q^{272} + 44 q^{273} + 138 q^{274} + 42 q^{277} + 141 q^{280} + 72 q^{281} + 60 q^{282} + 144 q^{283} + 126 q^{284} - 35 q^{285} + 60 q^{287} - 72 q^{289} + 146 q^{290} + 86 q^{291} + 60 q^{292} + 108 q^{293} + 120 q^{294} - 2 q^{297} + 102 q^{300} + 100 q^{301} + 62 q^{302} + 112 q^{303} + 153 q^{304} - 72 q^{305} + 64 q^{307} - 24 q^{309} + 156 q^{310} + 156 q^{311} + 63 q^{312} + 80 q^{313} + 158 q^{314} + 41 q^{317} + 160 q^{320} + 61 q^{321} + 78 q^{322} + 162 q^{323} + 110 q^{324} - 42 q^{325} + 72 q^{327} - 82 q^{329} + 126 q^{330} + 166 q^{331} + 99 q^{332} + 60 q^{333} + 168 q^{334} - 16 q^{337} + 150 q^{340} + 126 q^{341} + 44 q^{342} + 172 q^{343} + 173 q^{344} - 60 q^{345} + 78 q^{347} - 60 q^{349} + 176 q^{350} + 120 q^{351} + 72 q^{352} + 90 q^{353} + 96 q^{354} + 21 q^{357} + 133 q^{360} + 72 q^{361} + 108 q^{362} + 124 q^{363} + 183 q^{364} - 66 q^{365} + 108 q^{367} - 64 q^{369} + 186 q^{370} + 192 q^{371} + 63 q^{372} + 138 q^{373} + 180 q^{374} + 20 q^{377} + 191 q^{380} + 86 q^{381} + 108 q^{382} + 192 q^{383} + 147 q^{384} - 96 q^{385} + 48 q^{387} - 43 q^{389} + 132 q^{390} + 196 q^{391} + 80 q^{392} + 84 q^{393} + 198 q^{394} + 29 q^{397} + 192 q^{400} + 102 q^{401} + 61 q^{402} + 180 q^{403} + 216 q^{404} - 32 q^{405} + 84 q^{407} - 102 q^{409} + 180 q^{410} + 154 q^{411} + 123 q^{412} + 132 q^{413} + 140 q^{414} + 12 q^{417} + 161 q^{420} + 156 q^{421} + 104 q^{422} + 144 q^{423} + 186 q^{424} - 106 q^{425} + 126 q^{427} - 60 q^{429} + 216 q^{430} + 192 q^{431} + 90 q^{432} + 110 q^{433} + 220 q^{434} + 36 q^{437} + 221 q^{440} + 72 q^{441} + 90 q^{442} + 222 q^{443} + 150 q^{444} - 66 q^{445} + 84 q^{447} - 112 q^{449} + 152 q^{450} + 226 q^{451} + 72 q^{452} + 120 q^{453} + 228 q^{454} - 22 q^{457} + 231 q^{460} + 150 q^{461} + 96 q^{462} + 232 q^{463} + 233 q^{464} - 84 q^{465} + 138 q^{467} - 60 q^{469} + 252 q^{470} + 160 q^{471} + 120 q^{472} + 96 q^{473} + 182 q^{474} + 46 q^{477} + 132 q^{480} + 133 q^{481} + 144 q^{482} + 182 q^{483} + 243 q^{484} - 62 q^{485} + 86 q^{487} - 84 q^{489} + 240 q^{490} + 240 q^{491} + 84 q^{492} + 160 q^{493} + 216 q^{494} +  q^{497} + 251 q^{500} + O(q^{501})\\]</html>"
      ],
      "text/latex": [
       "$$\\newcommand{\\Bold}[1]{\\mathbf{#1}}1 +  q +  q^{2} + 2 q^{3} + 3 q^{4} -  q^{5} + 2 q^{7} - 2 q^{9} + 6 q^{10} + 6 q^{11} + 3 q^{12} + 5 q^{13} + 8 q^{14} +  q^{17} + 11 q^{20} + 6 q^{21} + 6 q^{22} + 12 q^{23} + 10 q^{24} - 6 q^{25} + 6 q^{27} - 5 q^{29} + 12 q^{30} + 16 q^{31} + 9 q^{32} + 7 q^{33} + 18 q^{34} + 3 q^{37} + 21 q^{40} + 12 q^{41} + 7 q^{42} + 22 q^{43} + 23 q^{44} - 6 q^{45} + 12 q^{47} - 12 q^{49} + 26 q^{50} + 20 q^{51} + 12 q^{52} + 18 q^{53} + 20 q^{54} - 2 q^{57} + 21 q^{60} + 21 q^{61} + 18 q^{62} + 24 q^{63} + 33 q^{64} - 16 q^{65} + 18 q^{67} - 7 q^{69} + 36 q^{70} + 36 q^{71} + 13 q^{72} + 20 q^{73} + 36 q^{74} + 9 q^{77} + 41 q^{80} + 12 q^{81} + 24 q^{82} + 42 q^{83} + 30 q^{84} - 12 q^{85} + 14 q^{87} - 22 q^{89} + 32 q^{90} + 46 q^{91} + 20 q^{92} + 22 q^{93} + 48 q^{94} +  q^{97} + 51 q^{100} + 36 q^{101} + 12 q^{102} + 52 q^{103} + 53 q^{104} - 20 q^{105} + 24 q^{107} - 18 q^{109} + 56 q^{110} + 40 q^{111} + 33 q^{112} + 30 q^{113} + 42 q^{114} + 14 q^{117} + 42 q^{120} + 32 q^{121} + 31 q^{122} + 42 q^{123} + 63 q^{124} - 21 q^{125} + 36 q^{127} - 24 q^{129} + 60 q^{130} + 66 q^{131} + 30 q^{132} + 48 q^{133} + 68 q^{134} - 6 q^{137} + 72 q^{140} + 35 q^{141} + 30 q^{142} + 72 q^{143} + 43 q^{144} - 36 q^{145} + 26 q^{147} - 20 q^{149} + 56 q^{150} + 72 q^{151} + 32 q^{152} + 24 q^{153} + 78 q^{154} + 7 q^{157} + 81 q^{160} + 42 q^{161} + 36 q^{162} + 82 q^{163} + 83 q^{164} - 12 q^{165} + 48 q^{167} - 42 q^{169} + 86 q^{170} + 60 q^{171} + 39 q^{172} + 60 q^{173} + 60 q^{174} + 7 q^{177} + 62 q^{180} + 66 q^{181} + 54 q^{182} + 64 q^{183} + 96 q^{184} - 46 q^{185} + 40 q^{187} - 22 q^{189} + 96 q^{190} + 96 q^{191} + 24 q^{192} + 43 q^{193} + 98 q^{194} + 23 q^{197} + 90 q^{200} + 32 q^{201} + 42 q^{202} + 102 q^{203} + 77 q^{204} - 36 q^{205} + 24 q^{207} - 52 q^{209} + 72 q^{210} + 106 q^{211} + 63 q^{212} + 60 q^{213} + 96 q^{214} + 12 q^{217} + 111 q^{220} + 66 q^{221} + 42 q^{222} + 112 q^{223} + 113 q^{224} - 40 q^{225} + 66 q^{227} - 30 q^{229} + 116 q^{230} + 84 q^{231} + 69 q^{232} + 60 q^{233} + 80 q^{234} + 2 q^{237} + 91 q^{240} + 62 q^{241} + 43 q^{242} + 84 q^{243} + 120 q^{244} - 32 q^{245} + 62 q^{247} - 42 q^{249} + 132 q^{250} + 126 q^{251} + 32 q^{252} + 85 q^{253} + 128 q^{254} - 12 q^{257} + 131 q^{260} + 72 q^{261} + 78 q^{262} + 120 q^{263} + 90 q^{264} - 66 q^{265} + 60 q^{267} - 48 q^{269} + 72 q^{270} + 136 q^{271} + 72 q^{272} + 44 q^{273} + 138 q^{274} + 42 q^{277} + 141 q^{280} + 72 q^{281} + 60 q^{282} + 144 q^{283} + 126 q^{284} - 35 q^{285} + 60 q^{287} - 72 q^{289} + 146 q^{290} + 86 q^{291} + 60 q^{292} + 108 q^{293} + 120 q^{294} - 2 q^{297} + 102 q^{300} + 100 q^{301} + 62 q^{302} + 112 q^{303} + 153 q^{304} - 72 q^{305} + 64 q^{307} - 24 q^{309} + 156 q^{310} + 156 q^{311} + 63 q^{312} + 80 q^{313} + 158 q^{314} + 41 q^{317} + 160 q^{320} + 61 q^{321} + 78 q^{322} + 162 q^{323} + 110 q^{324} - 42 q^{325} + 72 q^{327} - 82 q^{329} + 126 q^{330} + 166 q^{331} + 99 q^{332} + 60 q^{333} + 168 q^{334} - 16 q^{337} + 150 q^{340} + 126 q^{341} + 44 q^{342} + 172 q^{343} + 173 q^{344} - 60 q^{345} + 78 q^{347} - 60 q^{349} + 176 q^{350} + 120 q^{351} + 72 q^{352} + 90 q^{353} + 96 q^{354} + 21 q^{357} + 133 q^{360} + 72 q^{361} + 108 q^{362} + 124 q^{363} + 183 q^{364} - 66 q^{365} + 108 q^{367} - 64 q^{369} + 186 q^{370} + 192 q^{371} + 63 q^{372} + 138 q^{373} + 180 q^{374} + 20 q^{377} + 191 q^{380} + 86 q^{381} + 108 q^{382} + 192 q^{383} + 147 q^{384} - 96 q^{385} + 48 q^{387} - 43 q^{389} + 132 q^{390} + 196 q^{391} + 80 q^{392} + 84 q^{393} + 198 q^{394} + 29 q^{397} + 192 q^{400} + 102 q^{401} + 61 q^{402} + 180 q^{403} + 216 q^{404} - 32 q^{405} + 84 q^{407} - 102 q^{409} + 180 q^{410} + 154 q^{411} + 123 q^{412} + 132 q^{413} + 140 q^{414} + 12 q^{417} + 161 q^{420} + 156 q^{421} + 104 q^{422} + 144 q^{423} + 186 q^{424} - 106 q^{425} + 126 q^{427} - 60 q^{429} + 216 q^{430} + 192 q^{431} + 90 q^{432} + 110 q^{433} + 220 q^{434} + 36 q^{437} + 221 q^{440} + 72 q^{441} + 90 q^{442} + 222 q^{443} + 150 q^{444} - 66 q^{445} + 84 q^{447} - 112 q^{449} + 152 q^{450} + 226 q^{451} + 72 q^{452} + 120 q^{453} + 228 q^{454} - 22 q^{457} + 231 q^{460} + 150 q^{461} + 96 q^{462} + 232 q^{463} + 233 q^{464} - 84 q^{465} + 138 q^{467} - 60 q^{469} + 252 q^{470} + 160 q^{471} + 120 q^{472} + 96 q^{473} + 182 q^{474} + 46 q^{477} + 132 q^{480} + 133 q^{481} + 144 q^{482} + 182 q^{483} + 243 q^{484} - 62 q^{485} + 86 q^{487} - 84 q^{489} + 240 q^{490} + 240 q^{491} + 84 q^{492} + 160 q^{493} + 216 q^{494} +  q^{497} + 251 q^{500} + O(q^{501})$$"
      ],
      "text/plain": [
       "1 + q + q^2 + 2*q^3 + 3*q^4 - q^5 + 2*q^7 - 2*q^9 + 6*q^10 + 6*q^11 + 3*q^12 + 5*q^13 + 8*q^14 + q^17 + 11*q^20 + 6*q^21 + 6*q^22 + 12*q^23 + 10*q^24 - 6*q^25 + 6*q^27 - 5*q^29 + 12*q^30 + 16*q^31 + 9*q^32 + 7*q^33 + 18*q^34 + 3*q^37 + 21*q^40 + 12*q^41 + 7*q^42 + 22*q^43 + 23*q^44 - 6*q^45 + 12*q^47 - 12*q^49 + 26*q^50 + 20*q^51 + 12*q^52 + 18*q^53 + 20*q^54 - 2*q^57 + 21*q^60 + 21*q^61 + 18*q^62 + 24*q^63 + 33*q^64 - 16*q^65 + 18*q^67 - 7*q^69 + 36*q^70 + 36*q^71 + 13*q^72 + 20*q^73 + 36*q^74 + 9*q^77 + 41*q^80 + 12*q^81 + 24*q^82 + 42*q^83 + 30*q^84 - 12*q^85 + 14*q^87 - 22*q^89 + 32*q^90 + 46*q^91 + 20*q^92 + 22*q^93 + 48*q^94 + q^97 + 51*q^100 + 36*q^101 + 12*q^102 + 52*q^103 + 53*q^104 - 20*q^105 + 24*q^107 - 18*q^109 + 56*q^110 + 40*q^111 + 33*q^112 + 30*q^113 + 42*q^114 + 14*q^117 + 42*q^120 + 32*q^121 + 31*q^122 + 42*q^123 + 63*q^124 - 21*q^125 + 36*q^127 - 24*q^129 + 60*q^130 + 66*q^131 + 30*q^132 + 48*q^133 + 68*q^134 - 6*q^137 + 72*q^140 + 35*q^141 + 30*q^142 + 72*q^143 + 43*q^144 - 36*q^145 + 26*q^147 - 20*q^149 + 56*q^150 + 72*q^151 + 32*q^152 + 24*q^153 + 78*q^154 + 7*q^157 + 81*q^160 + 42*q^161 + 36*q^162 + 82*q^163 + 83*q^164 - 12*q^165 + 48*q^167 - 42*q^169 + 86*q^170 + 60*q^171 + 39*q^172 + 60*q^173 + 60*q^174 + 7*q^177 + 62*q^180 + 66*q^181 + 54*q^182 + 64*q^183 + 96*q^184 - 46*q^185 + 40*q^187 - 22*q^189 + 96*q^190 + 96*q^191 + 24*q^192 + 43*q^193 + 98*q^194 + 23*q^197 + 90*q^200 + 32*q^201 + 42*q^202 + 102*q^203 + 77*q^204 - 36*q^205 + 24*q^207 - 52*q^209 + 72*q^210 + 106*q^211 + 63*q^212 + 60*q^213 + 96*q^214 + 12*q^217 + 111*q^220 + 66*q^221 + 42*q^222 + 112*q^223 + 113*q^224 - 40*q^225 + 66*q^227 - 30*q^229 + 116*q^230 + 84*q^231 + 69*q^232 + 60*q^233 + 80*q^234 + 2*q^237 + 91*q^240 + 62*q^241 + 43*q^242 + 84*q^243 + 120*q^244 - 32*q^245 + 62*q^247 - 42*q^249 + 132*q^250 + 126*q^251 + 32*q^252 + 85*q^253 + 128*q^254 - 12*q^257 + 131*q^260 + 72*q^261 + 78*q^262 + 120*q^263 + 90*q^264 - 66*q^265 + 60*q^267 - 48*q^269 + 72*q^270 + 136*q^271 + 72*q^272 + 44*q^273 + 138*q^274 + 42*q^277 + 141*q^280 + 72*q^281 + 60*q^282 + 144*q^283 + 126*q^284 - 35*q^285 + 60*q^287 - 72*q^289 + 146*q^290 + 86*q^291 + 60*q^292 + 108*q^293 + 120*q^294 - 2*q^297 + 102*q^300 + 100*q^301 + 62*q^302 + 112*q^303 + 153*q^304 - 72*q^305 + 64*q^307 - 24*q^309 + 156*q^310 + 156*q^311 + 63*q^312 + 80*q^313 + 158*q^314 + 41*q^317 + 160*q^320 + 61*q^321 + 78*q^322 + 162*q^323 + 110*q^324 - 42*q^325 + 72*q^327 - 82*q^329 + 126*q^330 + 166*q^331 + 99*q^332 + 60*q^333 + 168*q^334 - 16*q^337 + 150*q^340 + 126*q^341 + 44*q^342 + 172*q^343 + 173*q^344 - 60*q^345 + 78*q^347 - 60*q^349 + 176*q^350 + 120*q^351 + 72*q^352 + 90*q^353 + 96*q^354 + 21*q^357 + 133*q^360 + 72*q^361 + 108*q^362 + 124*q^363 + 183*q^364 - 66*q^365 + 108*q^367 - 64*q^369 + 186*q^370 + 192*q^371 + 63*q^372 + 138*q^373 + 180*q^374 + 20*q^377 + 191*q^380 + 86*q^381 + 108*q^382 + 192*q^383 + 147*q^384 - 96*q^385 + 48*q^387 - 43*q^389 + 132*q^390 + 196*q^391 + 80*q^392 + 84*q^393 + 198*q^394 + 29*q^397 + 192*q^400 + 102*q^401 + 61*q^402 + 180*q^403 + 216*q^404 - 32*q^405 + 84*q^407 - 102*q^409 + 180*q^410 + 154*q^411 + 123*q^412 + 132*q^413 + 140*q^414 + 12*q^417 + 161*q^420 + 156*q^421 + 104*q^422 + 144*q^423 + 186*q^424 - 106*q^425 + 126*q^427 - 60*q^429 + 216*q^430 + 192*q^431 + 90*q^432 + 110*q^433 + 220*q^434 + 36*q^437 + 221*q^440 + 72*q^441 + 90*q^442 + 222*q^443 + 150*q^444 - 66*q^445 + 84*q^447 - 112*q^449 + 152*q^450 + 226*q^451 + 72*q^452 + 120*q^453 + 228*q^454 - 22*q^457 + 231*q^460 + 150*q^461 + 96*q^462 + 232*q^463 + 233*q^464 - 84*q^465 + 138*q^467 - 60*q^469 + 252*q^470 + 160*q^471 + 120*q^472 + 96*q^473 + 182*q^474 + 46*q^477 + 132*q^480 + 133*q^481 + 144*q^482 + 182*q^483 + 243*q^484 - 62*q^485 + 86*q^487 - 84*q^489 + 240*q^490 + 240*q^491 + 84*q^492 + 160*q^493 + 216*q^494 + q^497 + 251*q^500 + O(q^501)"
      ]
     },
     "execution_count": 19,
     "metadata": {},
     "output_type": "execute_result"
    }
   ],
   "source": [
    "b5.O(501)"
   ]
  },
  {
   "cell_type": "code",
   "execution_count": 20,
   "id": "d9e2acc6",
   "metadata": {},
   "outputs": [
    {
     "data": {
      "text/html": [
       "<html>\\[\\newcommand{\\Bold}[1]{\\mathbf{#1}}\\left(3173, 0, 5827\\right)\\]</html>"
      ],
      "text/latex": [
       "$$\\newcommand{\\Bold}[1]{\\mathbf{#1}}\\left(3173, 0, 5827\\right)$$"
      ],
      "text/plain": [
       "(3173, 0, 5827)"
      ]
     },
     "execution_count": 20,
     "metadata": {},
     "output_type": "execute_result"
    }
   ],
   "source": [
    "a3 = (phi_n.V(3)^3) / phi_n\n",
    "a3_list = a3.list()\n",
    "pos = 0\n",
    "neg = 0\n",
    "zero = 0\n",
    "for i in range(0,9000):\n",
    "    if a3_list[i] == 0:\n",
    "        zero += 1\n",
    "    if a3_list[i] > 0:\n",
    "        pos += 1\n",
    "    if a3_list[i] < 0:\n",
    "        neg += 1\n",
    "        \n",
    "pos, neg, zero\n",
    "\n",
    "# Output: (90000,0,0)"
   ]
  },
  {
   "cell_type": "code",
   "execution_count": 21,
   "id": "481868bd",
   "metadata": {},
   "outputs": [
    {
     "data": {
      "text/html": [
       "<html>\\[\\newcommand{\\Bold}[1]{\\mathbf{#1}}1 + 2 q + 4 q^{2} + 2 q^{3} + 2 q^{4} + 4 q^{6} + 4 q^{7} + 4 q^{8} + 2 q^{9} + 2 q^{12} + 4 q^{13} + 8 q^{14} + 2 q^{16} + 4 q^{18} + 4 q^{19} + 4 q^{21} + 4 q^{24} + 2 q^{25} + 8 q^{26} + 2 q^{27} + 4 q^{28} + 4 q^{31} + 4 q^{32} + 2 q^{36} + 4 q^{37} + 8 q^{38} + 4 q^{39} + 8 q^{42} + 4 q^{43} + 2 q^{48} + 6 q^{49} + 4 q^{50} + O(q^{51})\\]</html>"
      ],
      "text/latex": [
       "$$\\newcommand{\\Bold}[1]{\\mathbf{#1}}1 + 2 q + 4 q^{2} + 2 q^{3} + 2 q^{4} + 4 q^{6} + 4 q^{7} + 4 q^{8} + 2 q^{9} + 2 q^{12} + 4 q^{13} + 8 q^{14} + 2 q^{16} + 4 q^{18} + 4 q^{19} + 4 q^{21} + 4 q^{24} + 2 q^{25} + 8 q^{26} + 2 q^{27} + 4 q^{28} + 4 q^{31} + 4 q^{32} + 2 q^{36} + 4 q^{37} + 8 q^{38} + 4 q^{39} + 8 q^{42} + 4 q^{43} + 2 q^{48} + 6 q^{49} + 4 q^{50} + O(q^{51})$$"
      ],
      "text/plain": [
       "1 + 2*q + 4*q^2 + 2*q^3 + 2*q^4 + 4*q^6 + 4*q^7 + 4*q^8 + 2*q^9 + 2*q^12 + 4*q^13 + 8*q^14 + 2*q^16 + 4*q^18 + 4*q^19 + 4*q^21 + 4*q^24 + 2*q^25 + 8*q^26 + 2*q^27 + 4*q^28 + 4*q^31 + 4*q^32 + 2*q^36 + 4*q^37 + 8*q^38 + 4*q^39 + 8*q^42 + 4*q^43 + 2*q^48 + 6*q^49 + 4*q^50 + O(q^51)"
      ]
     },
     "execution_count": 21,
     "metadata": {},
     "output_type": "execute_result"
    }
   ],
   "source": [
    "a3.O(51)"
   ]
  },
  {
   "cell_type": "code",
   "execution_count": 22,
   "id": "8e6b63ff",
   "metadata": {},
   "outputs": [],
   "source": [
    "# a6 = (phi_n.V(6)^6) / phi_n\n",
    "# a6_list = a6.list()\n",
    "# pos = 0\n",
    "# neg = 0\n",
    "# zero = 0\n",
    "# for i in range(0,90000):\n",
    "#     if a6_list[i] == 0:\n",
    "#         zero += 1\n",
    "#     if a6_list[i] > 0:\n",
    "#         pos += 1\n",
    "#     if a6_list[i] < 0:\n",
    "#         neg += 1\n",
    "        \n",
    "# pos, neg, zero\n",
    "\n",
    "# # Output: (90000,0,0)"
   ]
  },
  {
   "cell_type": "code",
   "execution_count": 23,
   "id": "d2bde03c",
   "metadata": {},
   "outputs": [],
   "source": [
    "# a7 = (phi_n.V(7)^7) / phi_n\n",
    "# a7_list = a7.list()\n",
    "# pos = 0\n",
    "# neg = 0\n",
    "# zero = 0\n",
    "# for i in range(0,90000):\n",
    "#     if a7_list[i] == 0:\n",
    "#         zero += 1\n",
    "#     if a7_list[i] > 0:\n",
    "#         pos += 1\n",
    "#     if a7_list[i] < 0:\n",
    "#         neg += 1\n",
    "        \n",
    "# pos, neg, zero\n",
    "\n",
    "# # Output: (90000,0,0)"
   ]
  },
  {
   "cell_type": "code",
   "execution_count": 24,
   "id": "b2f34618",
   "metadata": {},
   "outputs": [],
   "source": [
    "# a8 = (phi_n.V(8)^8) / phi_n\n",
    "# a8_list = a8.list()\n",
    "# pos = 0\n",
    "# neg = 0\n",
    "# zero = 0\n",
    "# for i in range(0,90000):\n",
    "#     if a8_list[i] == 0:\n",
    "#         zero += 1\n",
    "#     if a8_list[i] > 0:\n",
    "#         pos += 1\n",
    "#     if a8_list[i] < 0:\n",
    "#         neg += 1\n",
    "        \n",
    "# pos, neg, zero\n",
    "\n",
    "# # Output: (90000,0,0)"
   ]
  },
  {
   "cell_type": "code",
   "execution_count": 25,
   "id": "57520773",
   "metadata": {},
   "outputs": [],
   "source": [
    "# a9 = (phi_n.V(9)^9) / phi_n\n",
    "# a9_list = a9.list()\n",
    "# pos = 0\n",
    "# neg = 0\n",
    "# zero = 0\n",
    "# for i in range(0,90000):\n",
    "#     if a9_list[i] == 0:\n",
    "#         zero += 1\n",
    "#     if a9_list[i] > 0:\n",
    "#         pos += 1\n",
    "#     if a9_list[i] < 0:\n",
    "#         neg += 1\n",
    "        \n",
    "# pos, neg, zero\n",
    "\n",
    "# # Output: (90000,0,0)"
   ]
  },
  {
   "cell_type": "code",
   "execution_count": null,
   "id": "9692dfea",
   "metadata": {},
   "outputs": [],
   "source": []
  },
  {
   "cell_type": "code",
   "execution_count": 26,
   "id": "664446e5",
   "metadata": {},
   "outputs": [],
   "source": [
    "# pos = 0\n",
    "# neg = 0\n",
    "# zero = 0\n",
    "# for i in range(0,90000):\n",
    "#     if b5_list[i] == 0:\n",
    "#         zero += 1\n",
    "#     if b5_list[i] > 0:\n",
    "#         pos += 1\n",
    "#     if b5_list[i] < 0:\n",
    "#         neg += 1\n",
    "        \n",
    "# pos, neg, zero\n",
    "\n",
    "# # Output: (52875,10125,27000)"
   ]
  },
  {
   "cell_type": "code",
   "execution_count": 27,
   "id": "3f4c314c",
   "metadata": {},
   "outputs": [],
   "source": [
    "# b6 = (psi_n.V(6)^6) / psi_n\n",
    "# b6_list = b6.list()\n",
    "# pos = 0\n",
    "# neg = 0\n",
    "# zero = 0\n",
    "# for i in range(0,90000):\n",
    "#     if b6_list[i] == 0:\n",
    "#         zero += 1\n",
    "#     if b6_list[i] > 0:\n",
    "#         pos += 1\n",
    "#     if b6_list[i] < 0:\n",
    "#         neg += 1\n",
    "        \n",
    "# pos, neg, zero\n",
    "\n",
    "# # Output: (45005,44995,0)"
   ]
  },
  {
   "cell_type": "code",
   "execution_count": 28,
   "id": "5af3ec4f",
   "metadata": {},
   "outputs": [],
   "source": [
    "# b7 = (psi_n.V(7)^7) / psi_n\n",
    "# b7_list = b7.list()\n",
    "# pos = 0\n",
    "# neg = 0\n",
    "# zero = 0\n",
    "# for i in range(0,90000):\n",
    "#     if b7_list[i] == 0:\n",
    "#         zero += 1\n",
    "#     if b7_list[i] > 0:\n",
    "#         pos += 1\n",
    "#     if b7_list[i] < 0:\n",
    "#         neg += 1\n",
    "        \n",
    "# pos, neg, zero\n",
    "\n",
    "# # Output: (61073,0,28927)"
   ]
  },
  {
   "cell_type": "code",
   "execution_count": 29,
   "id": "2abdcf15",
   "metadata": {},
   "outputs": [],
   "source": [
    "# b8 = (psi_n.V(8)^8) / psi_n\n",
    "# b8_list = b8.list()\n",
    "# pos = 0\n",
    "# neg = 0\n",
    "# zero = 0\n",
    "# for i in range(0,90000):\n",
    "#     if b8_list[i] == 0:\n",
    "#         zero += 1\n",
    "#     if b8_list[i] > 0:\n",
    "#         pos += 1\n",
    "#     if b8_list[i] < 0:\n",
    "#         neg += 1\n",
    "        \n",
    "# pos, neg, zero\n",
    "\n",
    "# # # Output: (61073,0,28927)"
   ]
  },
  {
   "cell_type": "code",
   "execution_count": 30,
   "id": "b493ad13",
   "metadata": {},
   "outputs": [],
   "source": [
    "# b9 = (psi_n.V(9)^9) / psi_n\n",
    "# b9_list = b9.list()\n",
    "# pos = 0\n",
    "# neg = 0\n",
    "# zero = 0\n",
    "# for i in range(0,90000):\n",
    "#     if b9_list[i] == 0:\n",
    "#         zero += 1\n",
    "#     if b9_list[i] > 0:\n",
    "#         pos += 1\n",
    "#     if b9_list[i] < 0:\n",
    "#         neg += 1\n",
    "        \n",
    "# pos, neg, zero\n",
    "\n",
    "# # Output: (85000,5000,0)"
   ]
  },
  {
   "cell_type": "code",
   "execution_count": 31,
   "id": "3de4e7d8",
   "metadata": {},
   "outputs": [],
   "source": [
    "# b10 = (psi_n.V(10)^10) / psi_n\n",
    "# b10_list = b10.list()\n",
    "# pos = 0\n",
    "# neg = 0\n",
    "# zero = 0\n",
    "# for i in range(0,90000):\n",
    "#     if b10_list[i] == 0:\n",
    "#         zero += 1\n",
    "#         print(i, b10_list[i])\n",
    "#     if b10_list[i] > 0:\n",
    "#         pos += 1\n",
    "#     if b10_list[i] < 0:\n",
    "#         neg += 1\n",
    "        \n",
    "# pos, neg, zero\n",
    "\n",
    "# # Output: (45020,44979,1)\n",
    "# # Note: The only zero term is q^19"
   ]
  },
  {
   "cell_type": "code",
   "execution_count": 32,
   "id": "46f70ce0",
   "metadata": {},
   "outputs": [],
   "source": [
    "# b11 = (psi_n.V(11)^11) / psi_n\n",
    "# b11_list = b11.list()\n",
    "# pos = 0\n",
    "# neg = 0\n",
    "# zero = 0\n",
    "# for i in range(0,90000):\n",
    "#     if b11_list[i] == 0:\n",
    "#         zero += 1\n",
    "#     if b11_list[i] > 0:\n",
    "#         pos += 1\n",
    "#     if b11_list[i] < 0:\n",
    "#         neg += 1\n",
    "        \n",
    "# pos, neg, zero\n",
    "\n",
    "# # Output: (90000,0,0)"
   ]
  },
  {
   "cell_type": "code",
   "execution_count": 33,
   "id": "65186753",
   "metadata": {},
   "outputs": [],
   "source": [
    "# b12 = (psi_n.V(12)^12) / psi_n\n",
    "# b12_list = b12.list()\n",
    "# pos = 0\n",
    "# neg = 0\n",
    "# zero = 0\n",
    "# for i in range(0,90000):\n",
    "#     if b12_list[i] == 0:\n",
    "#         zero += 1\n",
    "#     if b12_list[i] > 0:\n",
    "#         pos += 1\n",
    "#     if b12_list[i] < 0:\n",
    "#         neg += 1\n",
    "        \n",
    "# pos, neg, zero\n",
    "\n",
    "# # Output: (45121,44879,0)"
   ]
  },
  {
   "cell_type": "code",
   "execution_count": 34,
   "id": "e836b1cc",
   "metadata": {},
   "outputs": [],
   "source": [
    "# b13 = (psi_n.V(13)^13) / psi_n\n",
    "# b13_list = b13.list()\n",
    "# pos = 0\n",
    "# neg = 0\n",
    "# zero = 0\n",
    "# for i in range(0,90000):\n",
    "#     if b13_list[i] == 0:\n",
    "#         zero += 1\n",
    "#     if b13_list[i] > 0:\n",
    "#         pos += 1\n",
    "#     if b13_list[i] < 0:\n",
    "#         neg += 1\n",
    "        \n",
    "# pos, neg, zero\n",
    "\n",
    "# # Output: (90000,0,0)"
   ]
  },
  {
   "cell_type": "code",
   "execution_count": null,
   "id": "1f72bc7c",
   "metadata": {},
   "outputs": [],
   "source": []
  },
  {
   "cell_type": "code",
   "execution_count": 35,
   "id": "12907a96",
   "metadata": {},
   "outputs": [
    {
     "data": {
      "text/html": [
       "<html>\\[\\newcommand{\\Bold}[1]{\\mathbf{#1}}\\left[0, 0, 0, 0, 0, 0, 0, 0, 0, 0, 0, 0, 0, 0, 0, 0, 0, 0, 0, 0, 0, 0, 0, 0, 0, 0, 0, 0, 0, 0, 0, 0, 0, 0, 0, 0, 0, 0, 0, 0, 0, 0, 0, 0, 0, 0, 0, 0, 0, 0, 0, 0, 0, 0, 0, 0, 0, 0, 0, 0, 0, 0, 0, 0, 0, 0, 0, 0, 0, 0, 0, 0, 0, 0, 0, 0, 0, 0, 0, 0, 0, 0, 0, 0, 0, 0, 0, 0, 0, 0, 0, 0, 0, 0, 0, 0, 0, 0, 0, 0\\right]\\]</html>"
      ],
      "text/latex": [
       "$$\\newcommand{\\Bold}[1]{\\mathbf{#1}}\\left[0, 0, 0, 0, 0, 0, 0, 0, 0, 0, 0, 0, 0, 0, 0, 0, 0, 0, 0, 0, 0, 0, 0, 0, 0, 0, 0, 0, 0, 0, 0, 0, 0, 0, 0, 0, 0, 0, 0, 0, 0, 0, 0, 0, 0, 0, 0, 0, 0, 0, 0, 0, 0, 0, 0, 0, 0, 0, 0, 0, 0, 0, 0, 0, 0, 0, 0, 0, 0, 0, 0, 0, 0, 0, 0, 0, 0, 0, 0, 0, 0, 0, 0, 0, 0, 0, 0, 0, 0, 0, 0, 0, 0, 0, 0, 0, 0, 0, 0, 0\\right]$$"
      ],
      "text/plain": [
       "[0,\n",
       " 0,\n",
       " 0,\n",
       " 0,\n",
       " 0,\n",
       " 0,\n",
       " 0,\n",
       " 0,\n",
       " 0,\n",
       " 0,\n",
       " 0,\n",
       " 0,\n",
       " 0,\n",
       " 0,\n",
       " 0,\n",
       " 0,\n",
       " 0,\n",
       " 0,\n",
       " 0,\n",
       " 0,\n",
       " 0,\n",
       " 0,\n",
       " 0,\n",
       " 0,\n",
       " 0,\n",
       " 0,\n",
       " 0,\n",
       " 0,\n",
       " 0,\n",
       " 0,\n",
       " 0,\n",
       " 0,\n",
       " 0,\n",
       " 0,\n",
       " 0,\n",
       " 0,\n",
       " 0,\n",
       " 0,\n",
       " 0,\n",
       " 0,\n",
       " 0,\n",
       " 0,\n",
       " 0,\n",
       " 0,\n",
       " 0,\n",
       " 0,\n",
       " 0,\n",
       " 0,\n",
       " 0,\n",
       " 0,\n",
       " 0,\n",
       " 0,\n",
       " 0,\n",
       " 0,\n",
       " 0,\n",
       " 0,\n",
       " 0,\n",
       " 0,\n",
       " 0,\n",
       " 0,\n",
       " 0,\n",
       " 0,\n",
       " 0,\n",
       " 0,\n",
       " 0,\n",
       " 0,\n",
       " 0,\n",
       " 0,\n",
       " 0,\n",
       " 0,\n",
       " 0,\n",
       " 0,\n",
       " 0,\n",
       " 0,\n",
       " 0,\n",
       " 0,\n",
       " 0,\n",
       " 0,\n",
       " 0,\n",
       " 0,\n",
       " 0,\n",
       " 0,\n",
       " 0,\n",
       " 0,\n",
       " 0,\n",
       " 0,\n",
       " 0,\n",
       " 0,\n",
       " 0,\n",
       " 0,\n",
       " 0,\n",
       " 0,\n",
       " 0,\n",
       " 0,\n",
       " 0,\n",
       " 0,\n",
       " 0,\n",
       " 0,\n",
       " 0,\n",
       " 0]"
      ]
     },
     "execution_count": 35,
     "metadata": {},
     "output_type": "execute_result"
    }
   ],
   "source": [
    "[a5_list[20*i+6]-20*b5_list[10*i] for i in range(0,100)]"
   ]
  },
  {
   "cell_type": "code",
   "execution_count": 36,
   "id": "d3881fae",
   "metadata": {},
   "outputs": [
    {
     "data": {
      "text/html": [
       "<html>\\[\\newcommand{\\Bold}[1]{\\mathbf{#1}}\\left[0, 0, 0, 0, 0, 0, 0, 0, 0, 0, 0, 0, 0, 0, 0, 0, 0, 0, 0, 0, 0, 0, 0, 0, 0, 0, 0, 0, 0, 0, 0, 0, 0, 0, 0, 0, 0, 0, 0, 0, 0, 0, 0, 0, 0, 0, 0, 0, 0, 0, 0, 0, 0, 0, 0, 0, 0, 0, 0, 0, 0, 0, 0, 0, 0, 0, 0, 0, 0, 0, 0, 0, 0, 0, 0, 0, 0, 0, 0, 0, 0, 0, 0, 0, 0, 0, 0, 0, 0, 0, 0, 0, 0, 0, 0, 0, 0, 0, 0, 0\\right]\\]</html>"
      ],
      "text/latex": [
       "$$\\newcommand{\\Bold}[1]{\\mathbf{#1}}\\left[0, 0, 0, 0, 0, 0, 0, 0, 0, 0, 0, 0, 0, 0, 0, 0, 0, 0, 0, 0, 0, 0, 0, 0, 0, 0, 0, 0, 0, 0, 0, 0, 0, 0, 0, 0, 0, 0, 0, 0, 0, 0, 0, 0, 0, 0, 0, 0, 0, 0, 0, 0, 0, 0, 0, 0, 0, 0, 0, 0, 0, 0, 0, 0, 0, 0, 0, 0, 0, 0, 0, 0, 0, 0, 0, 0, 0, 0, 0, 0, 0, 0, 0, 0, 0, 0, 0, 0, 0, 0, 0, 0, 0, 0, 0, 0, 0, 0, 0, 0\\right]$$"
      ],
      "text/plain": [
       "[0,\n",
       " 0,\n",
       " 0,\n",
       " 0,\n",
       " 0,\n",
       " 0,\n",
       " 0,\n",
       " 0,\n",
       " 0,\n",
       " 0,\n",
       " 0,\n",
       " 0,\n",
       " 0,\n",
       " 0,\n",
       " 0,\n",
       " 0,\n",
       " 0,\n",
       " 0,\n",
       " 0,\n",
       " 0,\n",
       " 0,\n",
       " 0,\n",
       " 0,\n",
       " 0,\n",
       " 0,\n",
       " 0,\n",
       " 0,\n",
       " 0,\n",
       " 0,\n",
       " 0,\n",
       " 0,\n",
       " 0,\n",
       " 0,\n",
       " 0,\n",
       " 0,\n",
       " 0,\n",
       " 0,\n",
       " 0,\n",
       " 0,\n",
       " 0,\n",
       " 0,\n",
       " 0,\n",
       " 0,\n",
       " 0,\n",
       " 0,\n",
       " 0,\n",
       " 0,\n",
       " 0,\n",
       " 0,\n",
       " 0,\n",
       " 0,\n",
       " 0,\n",
       " 0,\n",
       " 0,\n",
       " 0,\n",
       " 0,\n",
       " 0,\n",
       " 0,\n",
       " 0,\n",
       " 0,\n",
       " 0,\n",
       " 0,\n",
       " 0,\n",
       " 0,\n",
       " 0,\n",
       " 0,\n",
       " 0,\n",
       " 0,\n",
       " 0,\n",
       " 0,\n",
       " 0,\n",
       " 0,\n",
       " 0,\n",
       " 0,\n",
       " 0,\n",
       " 0,\n",
       " 0,\n",
       " 0,\n",
       " 0,\n",
       " 0,\n",
       " 0,\n",
       " 0,\n",
       " 0,\n",
       " 0,\n",
       " 0,\n",
       " 0,\n",
       " 0,\n",
       " 0,\n",
       " 0,\n",
       " 0,\n",
       " 0,\n",
       " 0,\n",
       " 0,\n",
       " 0,\n",
       " 0,\n",
       " 0,\n",
       " 0,\n",
       " 0,\n",
       " 0,\n",
       " 0]"
      ]
     },
     "execution_count": 36,
     "metadata": {},
     "output_type": "execute_result"
    }
   ],
   "source": [
    "[a5_list[20*i+14]-20*b5_list[10*i+4] for i in range(0,100)]"
   ]
  },
  {
   "cell_type": "code",
   "execution_count": 37,
   "id": "93d66029",
   "metadata": {},
   "outputs": [
    {
     "data": {
      "text/html": [
       "<html>\\[\\newcommand{\\Bold}[1]{\\mathbf{#1}}\\left[2, 6, 12, 18, 14, 24, 36, 26, 48, 40, 24, 66, 62, 60, 60, 64, 72, 78, 108, 48, 84, 126, 84, 138, 86, 64, 156, 144, 120, 120, 124, 126, 156, 198, 88, 144, 216, 126, 216, 160, 122, 246, 208, 180, 180, 144, 192, 240, 288, 168, 204, 306, 144, 318, 220, 144, 336, 286, 252, 192, 266, 252, 312, 378, 168, 264, 360, 260, 408, 280, 184, 432, 360, 258, 300, 304, 336, 384, 468, 208, 264, 486, 312, 498, 314, 280, 516, 378, 360, 360, 364, 372, 468, 576, 240, 384, 576, 288, 588, 400, 264, 540, 504, 462, 480, 424, 432, 546, 576, 288, 384, 666, 434, 678, 460, 288, 696, 598, 480, 480, 484, 546, 516, 720, 328, 504, 792, 384, 768, 432, 420, 786, 676, 540, 540, 544, 432, 744, 828, 448, 564, 846, 520, 756, 546, 384, 876, 720, 720, 528, 504, 612, 744, 918, 408, 624, 936, 546, 948, 720, 424, 960, 756, 660, 552, 664, 756, 858, 1008, 448, 768, 900, 528, 1038, 700, 480, 1056, 864, 576, 720, 762, 798, 936, 1098, 588, 624, 1116, 626, 1080, 760, 504, 1146, 936, 882, 780, 704, 792, 960, 1188, 480\\right]\\]</html>"
      ],
      "text/latex": [
       "$$\\newcommand{\\Bold}[1]{\\mathbf{#1}}\\left[2, 6, 12, 18, 14, 24, 36, 26, 48, 40, 24, 66, 62, 60, 60, 64, 72, 78, 108, 48, 84, 126, 84, 138, 86, 64, 156, 144, 120, 120, 124, 126, 156, 198, 88, 144, 216, 126, 216, 160, 122, 246, 208, 180, 180, 144, 192, 240, 288, 168, 204, 306, 144, 318, 220, 144, 336, 286, 252, 192, 266, 252, 312, 378, 168, 264, 360, 260, 408, 280, 184, 432, 360, 258, 300, 304, 336, 384, 468, 208, 264, 486, 312, 498, 314, 280, 516, 378, 360, 360, 364, 372, 468, 576, 240, 384, 576, 288, 588, 400, 264, 540, 504, 462, 480, 424, 432, 546, 576, 288, 384, 666, 434, 678, 460, 288, 696, 598, 480, 480, 484, 546, 516, 720, 328, 504, 792, 384, 768, 432, 420, 786, 676, 540, 540, 544, 432, 744, 828, 448, 564, 846, 520, 756, 546, 384, 876, 720, 720, 528, 504, 612, 744, 918, 408, 624, 936, 546, 948, 720, 424, 960, 756, 660, 552, 664, 756, 858, 1008, 448, 768, 900, 528, 1038, 700, 480, 1056, 864, 576, 720, 762, 798, 936, 1098, 588, 624, 1116, 626, 1080, 760, 504, 1146, 936, 882, 780, 704, 792, 960, 1188, 480\\right]$$"
      ],
      "text/plain": [
       "[2,\n",
       " 6,\n",
       " 12,\n",
       " 18,\n",
       " 14,\n",
       " 24,\n",
       " 36,\n",
       " 26,\n",
       " 48,\n",
       " 40,\n",
       " 24,\n",
       " 66,\n",
       " 62,\n",
       " 60,\n",
       " 60,\n",
       " 64,\n",
       " 72,\n",
       " 78,\n",
       " 108,\n",
       " 48,\n",
       " 84,\n",
       " 126,\n",
       " 84,\n",
       " 138,\n",
       " 86,\n",
       " 64,\n",
       " 156,\n",
       " 144,\n",
       " 120,\n",
       " 120,\n",
       " 124,\n",
       " 126,\n",
       " 156,\n",
       " 198,\n",
       " 88,\n",
       " 144,\n",
       " 216,\n",
       " 126,\n",
       " 216,\n",
       " 160,\n",
       " 122,\n",
       " 246,\n",
       " 208,\n",
       " 180,\n",
       " 180,\n",
       " 144,\n",
       " 192,\n",
       " 240,\n",
       " 288,\n",
       " 168,\n",
       " 204,\n",
       " 306,\n",
       " 144,\n",
       " 318,\n",
       " 220,\n",
       " 144,\n",
       " 336,\n",
       " 286,\n",
       " 252,\n",
       " 192,\n",
       " 266,\n",
       " 252,\n",
       " 312,\n",
       " 378,\n",
       " 168,\n",
       " 264,\n",
       " 360,\n",
       " 260,\n",
       " 408,\n",
       " 280,\n",
       " 184,\n",
       " 432,\n",
       " 360,\n",
       " 258,\n",
       " 300,\n",
       " 304,\n",
       " 336,\n",
       " 384,\n",
       " 468,\n",
       " 208,\n",
       " 264,\n",
       " 486,\n",
       " 312,\n",
       " 498,\n",
       " 314,\n",
       " 280,\n",
       " 516,\n",
       " 378,\n",
       " 360,\n",
       " 360,\n",
       " 364,\n",
       " 372,\n",
       " 468,\n",
       " 576,\n",
       " 240,\n",
       " 384,\n",
       " 576,\n",
       " 288,\n",
       " 588,\n",
       " 400,\n",
       " 264,\n",
       " 540,\n",
       " 504,\n",
       " 462,\n",
       " 480,\n",
       " 424,\n",
       " 432,\n",
       " 546,\n",
       " 576,\n",
       " 288,\n",
       " 384,\n",
       " 666,\n",
       " 434,\n",
       " 678,\n",
       " 460,\n",
       " 288,\n",
       " 696,\n",
       " 598,\n",
       " 480,\n",
       " 480,\n",
       " 484,\n",
       " 546,\n",
       " 516,\n",
       " 720,\n",
       " 328,\n",
       " 504,\n",
       " 792,\n",
       " 384,\n",
       " 768,\n",
       " 432,\n",
       " 420,\n",
       " 786,\n",
       " 676,\n",
       " 540,\n",
       " 540,\n",
       " 544,\n",
       " 432,\n",
       " 744,\n",
       " 828,\n",
       " 448,\n",
       " 564,\n",
       " 846,\n",
       " 520,\n",
       " 756,\n",
       " 546,\n",
       " 384,\n",
       " 876,\n",
       " 720,\n",
       " 720,\n",
       " 528,\n",
       " 504,\n",
       " 612,\n",
       " 744,\n",
       " 918,\n",
       " 408,\n",
       " 624,\n",
       " 936,\n",
       " 546,\n",
       " 948,\n",
       " 720,\n",
       " 424,\n",
       " 960,\n",
       " 756,\n",
       " 660,\n",
       " 552,\n",
       " 664,\n",
       " 756,\n",
       " 858,\n",
       " 1008,\n",
       " 448,\n",
       " 768,\n",
       " 900,\n",
       " 528,\n",
       " 1038,\n",
       " 700,\n",
       " 480,\n",
       " 1056,\n",
       " 864,\n",
       " 576,\n",
       " 720,\n",
       " 762,\n",
       " 798,\n",
       " 936,\n",
       " 1098,\n",
       " 588,\n",
       " 624,\n",
       " 1116,\n",
       " 626,\n",
       " 1080,\n",
       " 760,\n",
       " 504,\n",
       " 1146,\n",
       " 936,\n",
       " 882,\n",
       " 780,\n",
       " 704,\n",
       " 792,\n",
       " 960,\n",
       " 1188,\n",
       " 480]"
      ]
     },
     "execution_count": 37,
     "metadata": {},
     "output_type": "execute_result"
    }
   ],
   "source": [
    "a5_10n_5 = [a5_list[10*i+5] for i in range(0,200)]\n",
    "c5_10n_4 = [c5_list[10*i+4] for i in range(0,200)]\n",
    "[(a5_10n_5[i]-2*c5_10n_4[i])/2 for i in range(0,200)]"
   ]
  },
  {
   "cell_type": "code",
   "execution_count": 38,
   "id": "91b1564c",
   "metadata": {},
   "outputs": [
    {
     "data": {
      "text/html": [
       "<html>\\[\\newcommand{\\Bold}[1]{\\mathbf{#1}}\\left[2, 6, 12, 18, 14, 24, 36, 26, 48, 40, 24, 66, 62, 60, 60, 64, 72, 78, 108, 48, 84, 126, 84, 138, 86, 64, 156, 144, 120, 120, 124, 126, 156, 198, 88, 144, 216, 126, 216, 160, 122, 246, 208, 180, 180, 144, 192, 240, 288, 168, 204, 306, 144, 318, 220, 144, 336, 286, 252, 192, 266, 252, 312, 378, 168, 264, 360, 260, 408, 280, 184, 432, 360, 258, 300, 304, 336, 384, 468, 208, 264, 486, 312, 498, 314, 280, 516, 378, 360, 360, 364, 372, 468, 576, 240, 384, 576, 288, 588, 400, 264, 540, 504, 462, 480, 424, 432, 546, 576, 288, 384, 666, 434, 678, 460, 288, 696, 598, 480, 480, 484, 546, 516, 720, 328, 504, 792, 384, 768, 432, 420, 786, 676, 540, 540, 544, 432, 744, 828, 448, 564, 846, 520, 756, 546, 384, 876, 720, 720, 528, 504, 612, 744, 918, 408, 624, 936, 546, 948, 720, 424, 960, 756, 660, 552, 664, 756, 858, 1008, 448, 768, 900, 528, 1038, 700, 480, 1056, 864, 576, 720, 762, 798, 936, 1098, 588, 624, 1116, 626, 1080, 760, 504, 1146, 936, 882, 780, 704, 792, 960, 1188, 480\\right]\\]</html>"
      ],
      "text/latex": [
       "$$\\newcommand{\\Bold}[1]{\\mathbf{#1}}\\left[2, 6, 12, 18, 14, 24, 36, 26, 48, 40, 24, 66, 62, 60, 60, 64, 72, 78, 108, 48, 84, 126, 84, 138, 86, 64, 156, 144, 120, 120, 124, 126, 156, 198, 88, 144, 216, 126, 216, 160, 122, 246, 208, 180, 180, 144, 192, 240, 288, 168, 204, 306, 144, 318, 220, 144, 336, 286, 252, 192, 266, 252, 312, 378, 168, 264, 360, 260, 408, 280, 184, 432, 360, 258, 300, 304, 336, 384, 468, 208, 264, 486, 312, 498, 314, 280, 516, 378, 360, 360, 364, 372, 468, 576, 240, 384, 576, 288, 588, 400, 264, 540, 504, 462, 480, 424, 432, 546, 576, 288, 384, 666, 434, 678, 460, 288, 696, 598, 480, 480, 484, 546, 516, 720, 328, 504, 792, 384, 768, 432, 420, 786, 676, 540, 540, 544, 432, 744, 828, 448, 564, 846, 520, 756, 546, 384, 876, 720, 720, 528, 504, 612, 744, 918, 408, 624, 936, 546, 948, 720, 424, 960, 756, 660, 552, 664, 756, 858, 1008, 448, 768, 900, 528, 1038, 700, 480, 1056, 864, 576, 720, 762, 798, 936, 1098, 588, 624, 1116, 626, 1080, 760, 504, 1146, 936, 882, 780, 704, 792, 960, 1188, 480\\right]$$"
      ],
      "text/plain": [
       "[2,\n",
       " 6,\n",
       " 12,\n",
       " 18,\n",
       " 14,\n",
       " 24,\n",
       " 36,\n",
       " 26,\n",
       " 48,\n",
       " 40,\n",
       " 24,\n",
       " 66,\n",
       " 62,\n",
       " 60,\n",
       " 60,\n",
       " 64,\n",
       " 72,\n",
       " 78,\n",
       " 108,\n",
       " 48,\n",
       " 84,\n",
       " 126,\n",
       " 84,\n",
       " 138,\n",
       " 86,\n",
       " 64,\n",
       " 156,\n",
       " 144,\n",
       " 120,\n",
       " 120,\n",
       " 124,\n",
       " 126,\n",
       " 156,\n",
       " 198,\n",
       " 88,\n",
       " 144,\n",
       " 216,\n",
       " 126,\n",
       " 216,\n",
       " 160,\n",
       " 122,\n",
       " 246,\n",
       " 208,\n",
       " 180,\n",
       " 180,\n",
       " 144,\n",
       " 192,\n",
       " 240,\n",
       " 288,\n",
       " 168,\n",
       " 204,\n",
       " 306,\n",
       " 144,\n",
       " 318,\n",
       " 220,\n",
       " 144,\n",
       " 336,\n",
       " 286,\n",
       " 252,\n",
       " 192,\n",
       " 266,\n",
       " 252,\n",
       " 312,\n",
       " 378,\n",
       " 168,\n",
       " 264,\n",
       " 360,\n",
       " 260,\n",
       " 408,\n",
       " 280,\n",
       " 184,\n",
       " 432,\n",
       " 360,\n",
       " 258,\n",
       " 300,\n",
       " 304,\n",
       " 336,\n",
       " 384,\n",
       " 468,\n",
       " 208,\n",
       " 264,\n",
       " 486,\n",
       " 312,\n",
       " 498,\n",
       " 314,\n",
       " 280,\n",
       " 516,\n",
       " 378,\n",
       " 360,\n",
       " 360,\n",
       " 364,\n",
       " 372,\n",
       " 468,\n",
       " 576,\n",
       " 240,\n",
       " 384,\n",
       " 576,\n",
       " 288,\n",
       " 588,\n",
       " 400,\n",
       " 264,\n",
       " 540,\n",
       " 504,\n",
       " 462,\n",
       " 480,\n",
       " 424,\n",
       " 432,\n",
       " 546,\n",
       " 576,\n",
       " 288,\n",
       " 384,\n",
       " 666,\n",
       " 434,\n",
       " 678,\n",
       " 460,\n",
       " 288,\n",
       " 696,\n",
       " 598,\n",
       " 480,\n",
       " 480,\n",
       " 484,\n",
       " 546,\n",
       " 516,\n",
       " 720,\n",
       " 328,\n",
       " 504,\n",
       " 792,\n",
       " 384,\n",
       " 768,\n",
       " 432,\n",
       " 420,\n",
       " 786,\n",
       " 676,\n",
       " 540,\n",
       " 540,\n",
       " 544,\n",
       " 432,\n",
       " 744,\n",
       " 828,\n",
       " 448,\n",
       " 564,\n",
       " 846,\n",
       " 520,\n",
       " 756,\n",
       " 546,\n",
       " 384,\n",
       " 876,\n",
       " 720,\n",
       " 720,\n",
       " 528,\n",
       " 504,\n",
       " 612,\n",
       " 744,\n",
       " 918,\n",
       " 408,\n",
       " 624,\n",
       " 936,\n",
       " 546,\n",
       " 948,\n",
       " 720,\n",
       " 424,\n",
       " 960,\n",
       " 756,\n",
       " 660,\n",
       " 552,\n",
       " 664,\n",
       " 756,\n",
       " 858,\n",
       " 1008,\n",
       " 448,\n",
       " 768,\n",
       " 900,\n",
       " 528,\n",
       " 1038,\n",
       " 700,\n",
       " 480,\n",
       " 1056,\n",
       " 864,\n",
       " 576,\n",
       " 720,\n",
       " 762,\n",
       " 798,\n",
       " 936,\n",
       " 1098,\n",
       " 588,\n",
       " 624,\n",
       " 1116,\n",
       " 626,\n",
       " 1080,\n",
       " 760,\n",
       " 504,\n",
       " 1146,\n",
       " 936,\n",
       " 882,\n",
       " 780,\n",
       " 704,\n",
       " 792,\n",
       " 960,\n",
       " 1188,\n",
       " 480]"
      ]
     },
     "execution_count": 38,
     "metadata": {},
     "output_type": "execute_result"
    }
   ],
   "source": [
    "b5_20n_7 = [b5_list[20*i+7] for i in range(0,200)]\n",
    "b5_20n_7"
   ]
  },
  {
   "cell_type": "code",
   "execution_count": 39,
   "id": "21bd5458",
   "metadata": {},
   "outputs": [
    {
     "data": {
      "text/html": [
       "<html>\\[\\newcommand{\\Bold}[1]{\\mathbf{#1}}\\left[1, 3, 6, 9, 7, 12, 18, 13, 24, 20, 12, 33, 31, 30, 30, 32, 36, 39, 54, 24, 42, 63, 42, 69, 43, 32, 78, 72, 60, 60, 62, 63, 78, 99, 44, 72, 108, 63, 108, 80, 61, 123, 104, 90, 90, 72, 96, 120, 144, 84, 102, 153, 72, 159, 110, 72, 168, 143, 126, 96, 133, 126, 156, 189, 84, 132, 180, 130, 204, 140, 92, 216, 180, 129, 150, 152, 168, 192, 234, 104, 132, 243, 156, 249, 157, 140, 258, 189, 180, 180, 182, 186, 234, 288, 120, 192, 288, 144, 294, 200, 132, 270, 252, 231, 240, 212, 216, 273, 288, 144, 192, 333, 217, 339, 230, 144, 348, 299, 240, 240, 242, 273, 258, 360, 164, 252, 396, 192, 384, 216, 210, 393, 338, 270, 270, 272, 216, 372, 414, 224, 282, 423, 260, 378, 273, 192, 438, 360, 360, 264, 252, 306, 372, 459, 204, 312, 468, 273, 474, 360, 212, 480, 378, 330, 276, 332, 378, 429, 504, 224, 384, 450, 264, 519, 350, 240, 528, 432, 288, 360, 381, 399, 468, 549, 294, 312, 558, 313, 540, 380, 252, 573, 468, 441, 390, 352, 396, 480, 594, 240\\right]\\]</html>"
      ],
      "text/latex": [
       "$$\\newcommand{\\Bold}[1]{\\mathbf{#1}}\\left[1, 3, 6, 9, 7, 12, 18, 13, 24, 20, 12, 33, 31, 30, 30, 32, 36, 39, 54, 24, 42, 63, 42, 69, 43, 32, 78, 72, 60, 60, 62, 63, 78, 99, 44, 72, 108, 63, 108, 80, 61, 123, 104, 90, 90, 72, 96, 120, 144, 84, 102, 153, 72, 159, 110, 72, 168, 143, 126, 96, 133, 126, 156, 189, 84, 132, 180, 130, 204, 140, 92, 216, 180, 129, 150, 152, 168, 192, 234, 104, 132, 243, 156, 249, 157, 140, 258, 189, 180, 180, 182, 186, 234, 288, 120, 192, 288, 144, 294, 200, 132, 270, 252, 231, 240, 212, 216, 273, 288, 144, 192, 333, 217, 339, 230, 144, 348, 299, 240, 240, 242, 273, 258, 360, 164, 252, 396, 192, 384, 216, 210, 393, 338, 270, 270, 272, 216, 372, 414, 224, 282, 423, 260, 378, 273, 192, 438, 360, 360, 264, 252, 306, 372, 459, 204, 312, 468, 273, 474, 360, 212, 480, 378, 330, 276, 332, 378, 429, 504, 224, 384, 450, 264, 519, 350, 240, 528, 432, 288, 360, 381, 399, 468, 549, 294, 312, 558, 313, 540, 380, 252, 573, 468, 441, 390, 352, 396, 480, 594, 240\\right]$$"
      ],
      "text/plain": [
       "[1,\n",
       " 3,\n",
       " 6,\n",
       " 9,\n",
       " 7,\n",
       " 12,\n",
       " 18,\n",
       " 13,\n",
       " 24,\n",
       " 20,\n",
       " 12,\n",
       " 33,\n",
       " 31,\n",
       " 30,\n",
       " 30,\n",
       " 32,\n",
       " 36,\n",
       " 39,\n",
       " 54,\n",
       " 24,\n",
       " 42,\n",
       " 63,\n",
       " 42,\n",
       " 69,\n",
       " 43,\n",
       " 32,\n",
       " 78,\n",
       " 72,\n",
       " 60,\n",
       " 60,\n",
       " 62,\n",
       " 63,\n",
       " 78,\n",
       " 99,\n",
       " 44,\n",
       " 72,\n",
       " 108,\n",
       " 63,\n",
       " 108,\n",
       " 80,\n",
       " 61,\n",
       " 123,\n",
       " 104,\n",
       " 90,\n",
       " 90,\n",
       " 72,\n",
       " 96,\n",
       " 120,\n",
       " 144,\n",
       " 84,\n",
       " 102,\n",
       " 153,\n",
       " 72,\n",
       " 159,\n",
       " 110,\n",
       " 72,\n",
       " 168,\n",
       " 143,\n",
       " 126,\n",
       " 96,\n",
       " 133,\n",
       " 126,\n",
       " 156,\n",
       " 189,\n",
       " 84,\n",
       " 132,\n",
       " 180,\n",
       " 130,\n",
       " 204,\n",
       " 140,\n",
       " 92,\n",
       " 216,\n",
       " 180,\n",
       " 129,\n",
       " 150,\n",
       " 152,\n",
       " 168,\n",
       " 192,\n",
       " 234,\n",
       " 104,\n",
       " 132,\n",
       " 243,\n",
       " 156,\n",
       " 249,\n",
       " 157,\n",
       " 140,\n",
       " 258,\n",
       " 189,\n",
       " 180,\n",
       " 180,\n",
       " 182,\n",
       " 186,\n",
       " 234,\n",
       " 288,\n",
       " 120,\n",
       " 192,\n",
       " 288,\n",
       " 144,\n",
       " 294,\n",
       " 200,\n",
       " 132,\n",
       " 270,\n",
       " 252,\n",
       " 231,\n",
       " 240,\n",
       " 212,\n",
       " 216,\n",
       " 273,\n",
       " 288,\n",
       " 144,\n",
       " 192,\n",
       " 333,\n",
       " 217,\n",
       " 339,\n",
       " 230,\n",
       " 144,\n",
       " 348,\n",
       " 299,\n",
       " 240,\n",
       " 240,\n",
       " 242,\n",
       " 273,\n",
       " 258,\n",
       " 360,\n",
       " 164,\n",
       " 252,\n",
       " 396,\n",
       " 192,\n",
       " 384,\n",
       " 216,\n",
       " 210,\n",
       " 393,\n",
       " 338,\n",
       " 270,\n",
       " 270,\n",
       " 272,\n",
       " 216,\n",
       " 372,\n",
       " 414,\n",
       " 224,\n",
       " 282,\n",
       " 423,\n",
       " 260,\n",
       " 378,\n",
       " 273,\n",
       " 192,\n",
       " 438,\n",
       " 360,\n",
       " 360,\n",
       " 264,\n",
       " 252,\n",
       " 306,\n",
       " 372,\n",
       " 459,\n",
       " 204,\n",
       " 312,\n",
       " 468,\n",
       " 273,\n",
       " 474,\n",
       " 360,\n",
       " 212,\n",
       " 480,\n",
       " 378,\n",
       " 330,\n",
       " 276,\n",
       " 332,\n",
       " 378,\n",
       " 429,\n",
       " 504,\n",
       " 224,\n",
       " 384,\n",
       " 450,\n",
       " 264,\n",
       " 519,\n",
       " 350,\n",
       " 240,\n",
       " 528,\n",
       " 432,\n",
       " 288,\n",
       " 360,\n",
       " 381,\n",
       " 399,\n",
       " 468,\n",
       " 549,\n",
       " 294,\n",
       " 312,\n",
       " 558,\n",
       " 313,\n",
       " 540,\n",
       " 380,\n",
       " 252,\n",
       " 573,\n",
       " 468,\n",
       " 441,\n",
       " 390,\n",
       " 352,\n",
       " 396,\n",
       " 480,\n",
       " 594,\n",
       " 240]"
      ]
     },
     "execution_count": 39,
     "metadata": {},
     "output_type": "execute_result"
    }
   ],
   "source": [
    "b5_10n_2 = [b5_list[10*i+2] for i in range(0,200)]\n",
    "b5_10n_2"
   ]
  },
  {
   "cell_type": "code",
   "execution_count": 40,
   "id": "d807a4ef",
   "metadata": {},
   "outputs": [
    {
     "data": {
      "text/html": [
       "<html>\\[\\newcommand{\\Bold}[1]{\\mathbf{#1}}\\left[1, 1, 2, 3, 5, 2, 6, 5, 7, 5, 12, 6, 12, 6, 10, 11, 16, 7, 20, 15, 12, 12, 22, 10, 25, 12, 20, 18, 30, 10, 32, 21, 24, 16, 30, 21, 36, 20, 24, 25, 42, 12, 42, 36, 35, 22, 46, 22, 43, 25, 32, 36, 52, 20, 60, 30, 40, 30, 60, 30, 62, 32, 42, 43, 60, 24, 66, 48, 44, 30, 72, 35, 72, 36, 50, 60, 72, 24, 80, 55, 61, 42, 82, 36, 80, 42, 60, 60, 90, 35, 72, 66, 64, 46, 100, 42, 96, 43, 84, 75, 102, 32, 102, 60, 60, 52, 106, 60, 110, 60, 72, 66, 112, 40, 110, 90, 84, 60, 96, 50, 133, 62, 84, 96, 125, 42, 126, 85, 84, 60, 132, 72, 120, 66, 100, 80, 136, 44, 140, 90, 92, 72, 144, 77, 150, 72, 86, 108, 150, 50, 152, 100, 112, 72, 160, 72, 156, 80, 104, 105, 132, 61, 162, 126, 120, 82, 166, 60, 157, 80, 140, 126, 172, 60, 150, 132, 120, 90, 180, 105, 182, 72, 124, 110, 180, 64, 192, 138, 120, 100, 192, 86, 192, 96, 120, 129, 196, 84, 200, 125\\right]\\]</html>"
      ],
      "text/latex": [
       "$$\\newcommand{\\Bold}[1]{\\mathbf{#1}}\\left[1, 1, 2, 3, 5, 2, 6, 5, 7, 5, 12, 6, 12, 6, 10, 11, 16, 7, 20, 15, 12, 12, 22, 10, 25, 12, 20, 18, 30, 10, 32, 21, 24, 16, 30, 21, 36, 20, 24, 25, 42, 12, 42, 36, 35, 22, 46, 22, 43, 25, 32, 36, 52, 20, 60, 30, 40, 30, 60, 30, 62, 32, 42, 43, 60, 24, 66, 48, 44, 30, 72, 35, 72, 36, 50, 60, 72, 24, 80, 55, 61, 42, 82, 36, 80, 42, 60, 60, 90, 35, 72, 66, 64, 46, 100, 42, 96, 43, 84, 75, 102, 32, 102, 60, 60, 52, 106, 60, 110, 60, 72, 66, 112, 40, 110, 90, 84, 60, 96, 50, 133, 62, 84, 96, 125, 42, 126, 85, 84, 60, 132, 72, 120, 66, 100, 80, 136, 44, 140, 90, 92, 72, 144, 77, 150, 72, 86, 108, 150, 50, 152, 100, 112, 72, 160, 72, 156, 80, 104, 105, 132, 61, 162, 126, 120, 82, 166, 60, 157, 80, 140, 126, 172, 60, 150, 132, 120, 90, 180, 105, 182, 72, 124, 110, 180, 64, 192, 138, 120, 100, 192, 86, 192, 96, 120, 129, 196, 84, 200, 125\\right]$$"
      ],
      "text/plain": [
       "[1,\n",
       " 1,\n",
       " 2,\n",
       " 3,\n",
       " 5,\n",
       " 2,\n",
       " 6,\n",
       " 5,\n",
       " 7,\n",
       " 5,\n",
       " 12,\n",
       " 6,\n",
       " 12,\n",
       " 6,\n",
       " 10,\n",
       " 11,\n",
       " 16,\n",
       " 7,\n",
       " 20,\n",
       " 15,\n",
       " 12,\n",
       " 12,\n",
       " 22,\n",
       " 10,\n",
       " 25,\n",
       " 12,\n",
       " 20,\n",
       " 18,\n",
       " 30,\n",
       " 10,\n",
       " 32,\n",
       " 21,\n",
       " 24,\n",
       " 16,\n",
       " 30,\n",
       " 21,\n",
       " 36,\n",
       " 20,\n",
       " 24,\n",
       " 25,\n",
       " 42,\n",
       " 12,\n",
       " 42,\n",
       " 36,\n",
       " 35,\n",
       " 22,\n",
       " 46,\n",
       " 22,\n",
       " 43,\n",
       " 25,\n",
       " 32,\n",
       " 36,\n",
       " 52,\n",
       " 20,\n",
       " 60,\n",
       " 30,\n",
       " 40,\n",
       " 30,\n",
       " 60,\n",
       " 30,\n",
       " 62,\n",
       " 32,\n",
       " 42,\n",
       " 43,\n",
       " 60,\n",
       " 24,\n",
       " 66,\n",
       " 48,\n",
       " 44,\n",
       " 30,\n",
       " 72,\n",
       " 35,\n",
       " 72,\n",
       " 36,\n",
       " 50,\n",
       " 60,\n",
       " 72,\n",
       " 24,\n",
       " 80,\n",
       " 55,\n",
       " 61,\n",
       " 42,\n",
       " 82,\n",
       " 36,\n",
       " 80,\n",
       " 42,\n",
       " 60,\n",
       " 60,\n",
       " 90,\n",
       " 35,\n",
       " 72,\n",
       " 66,\n",
       " 64,\n",
       " 46,\n",
       " 100,\n",
       " 42,\n",
       " 96,\n",
       " 43,\n",
       " 84,\n",
       " 75,\n",
       " 102,\n",
       " 32,\n",
       " 102,\n",
       " 60,\n",
       " 60,\n",
       " 52,\n",
       " 106,\n",
       " 60,\n",
       " 110,\n",
       " 60,\n",
       " 72,\n",
       " 66,\n",
       " 112,\n",
       " 40,\n",
       " 110,\n",
       " 90,\n",
       " 84,\n",
       " 60,\n",
       " 96,\n",
       " 50,\n",
       " 133,\n",
       " 62,\n",
       " 84,\n",
       " 96,\n",
       " 125,\n",
       " 42,\n",
       " 126,\n",
       " 85,\n",
       " 84,\n",
       " 60,\n",
       " 132,\n",
       " 72,\n",
       " 120,\n",
       " 66,\n",
       " 100,\n",
       " 80,\n",
       " 136,\n",
       " 44,\n",
       " 140,\n",
       " 90,\n",
       " 92,\n",
       " 72,\n",
       " 144,\n",
       " 77,\n",
       " 150,\n",
       " 72,\n",
       " 86,\n",
       " 108,\n",
       " 150,\n",
       " 50,\n",
       " 152,\n",
       " 100,\n",
       " 112,\n",
       " 72,\n",
       " 160,\n",
       " 72,\n",
       " 156,\n",
       " 80,\n",
       " 104,\n",
       " 105,\n",
       " 132,\n",
       " 61,\n",
       " 162,\n",
       " 126,\n",
       " 120,\n",
       " 82,\n",
       " 166,\n",
       " 60,\n",
       " 157,\n",
       " 80,\n",
       " 140,\n",
       " 126,\n",
       " 172,\n",
       " 60,\n",
       " 150,\n",
       " 132,\n",
       " 120,\n",
       " 90,\n",
       " 180,\n",
       " 105,\n",
       " 182,\n",
       " 72,\n",
       " 124,\n",
       " 110,\n",
       " 180,\n",
       " 64,\n",
       " 192,\n",
       " 138,\n",
       " 120,\n",
       " 100,\n",
       " 192,\n",
       " 86,\n",
       " 192,\n",
       " 96,\n",
       " 120,\n",
       " 129,\n",
       " 196,\n",
       " 84,\n",
       " 200,\n",
       " 125]"
      ]
     },
     "execution_count": 40,
     "metadata": {},
     "output_type": "execute_result"
    }
   ],
   "source": [
    "c5_list[:200]"
   ]
  },
  {
   "cell_type": "code",
   "execution_count": 41,
   "id": "1baec11a",
   "metadata": {},
   "outputs": [
    {
     "ename": "NameError",
     "evalue": "name 'c5_2n' is not defined",
     "output_type": "error",
     "traceback": [
      "\u001b[0;31m---------------------------------------------------------------------------\u001b[0m",
      "\u001b[0;31mNameError\u001b[0m                                 Traceback (most recent call last)",
      "\u001b[0;32m/tmp/ipykernel_252/3318101503.py\u001b[0m in \u001b[0;36m<module>\u001b[0;34m\u001b[0m\n\u001b[0;32m----> 1\u001b[0;31m \u001b[0mc5_2n\u001b[0m\u001b[0;34m\u001b[0m\u001b[0;34m\u001b[0m\u001b[0m\n\u001b[0m",
      "\u001b[0;31mNameError\u001b[0m: name 'c5_2n' is not defined"
     ]
    }
   ],
   "source": [
    "c5_2n"
   ]
  },
  {
   "cell_type": "code",
   "execution_count": null,
   "id": "7234675f",
   "metadata": {},
   "outputs": [],
   "source": [
    "b5_40n_17 = [b5_list[40*i+17] for i in range(0,200)]\n",
    "b5_40n_17"
   ]
  },
  {
   "cell_type": "code",
   "execution_count": null,
   "id": "e6c2e7c8",
   "metadata": {},
   "outputs": [],
   "source": [
    "c5_2n = [c5_list[2*i] for i in range(0,200)]\n",
    "[35*c5_2n[i] +4*b5_10n_2[i] for i in range(0,200)]"
   ]
  },
  {
   "cell_type": "code",
   "execution_count": null,
   "id": "90f9e78f",
   "metadata": {},
   "outputs": [],
   "source": []
  },
  {
   "cell_type": "code",
   "execution_count": null,
   "id": "c8017899",
   "metadata": {},
   "outputs": [],
   "source": []
  },
  {
   "cell_type": "code",
   "execution_count": null,
   "id": "0f90a4bb",
   "metadata": {},
   "outputs": [],
   "source": []
  },
  {
   "cell_type": "code",
   "execution_count": null,
   "id": "3ddcf98f",
   "metadata": {},
   "outputs": [],
   "source": []
  },
  {
   "cell_type": "code",
   "execution_count": null,
   "id": "fd71df98",
   "metadata": {},
   "outputs": [],
   "source": []
  },
  {
   "cell_type": "code",
   "execution_count": null,
   "id": "32ec0b26",
   "metadata": {},
   "outputs": [],
   "source": [
    "b5_5n_2 = [b5[5*n+2] for n in range(0,11)]\n",
    "b5_5n_2"
   ]
  },
  {
   "cell_type": "code",
   "execution_count": null,
   "id": "ebf52c52",
   "metadata": {},
   "outputs": [],
   "source": [
    "(5*q*c5.V(2) + psi_n^3*psi_n.V(5)).O(11)"
   ]
  },
  {
   "cell_type": "code",
   "execution_count": null,
   "id": "7ef7736d",
   "metadata": {},
   "outputs": [],
   "source": [
    "b5_10n_7 = [b5[10*n+7] for n in range(0,11)]\n",
    "b5_10n_7"
   ]
  },
  {
   "cell_type": "code",
   "execution_count": null,
   "id": "bf936f28",
   "metadata": {},
   "outputs": [],
   "source": [
    "(5*c5 -(phi_n/phi_n.V(5))*f2^2*f10^2 -2*psi^3*psi.V(5)).O(11)"
   ]
  },
  {
   "cell_type": "code",
   "execution_count": null,
   "id": "3112dd7c",
   "metadata": {},
   "outputs": [],
   "source": []
  },
  {
   "cell_type": "code",
   "execution_count": null,
   "id": "a4a638a3",
   "metadata": {},
   "outputs": [],
   "source": [
    "(chi^3*chi.V(5) -chi_n^3*chi_n.V(5)).O(21)"
   ]
  },
  {
   "cell_type": "code",
   "execution_count": null,
   "id": "bda5c120",
   "metadata": {},
   "outputs": [],
   "source": [
    "(2*q*chi_n.V(2)^2/chi_n.V(10)^2 +4*q/(chi_n.V(2)^3*chi_n.V(10))).O(21)"
   ]
  },
  {
   "cell_type": "code",
   "execution_count": null,
   "id": "ec7a06d3",
   "metadata": {},
   "outputs": [],
   "source": []
  },
  {
   "cell_type": "code",
   "execution_count": null,
   "id": "a2eebf7a",
   "metadata": {},
   "outputs": [],
   "source": [
    "b5_20n_17 = [b5[20*n+17] for n in range(0,21)]\n",
    "b5_20n_17"
   ]
  },
  {
   "cell_type": "code",
   "execution_count": null,
   "id": "5b2ab5d2",
   "metadata": {},
   "outputs": [],
   "source": [
    "c5_2n_1 = [c5[2*n+1] for n in range(0,50)]\n",
    "psi3_psiq5 = (psi^3*psi.V(5)).list()\n",
    "\n",
    "[5*c5_2n_1[i] -4*psi3_psiq5[i] for i in range(0,21)]"
   ]
  },
  {
   "cell_type": "code",
   "execution_count": null,
   "id": "7952eddc",
   "metadata": {},
   "outputs": [],
   "source": []
  },
  {
   "cell_type": "code",
   "execution_count": null,
   "id": "a5937d0e",
   "metadata": {},
   "outputs": [],
   "source": [
    "b5_40n_37 = [b5[40*n+37] for n in range(0,21)]\n",
    "b5_40n_37"
   ]
  },
  {
   "cell_type": "code",
   "execution_count": null,
   "id": "e1540acc",
   "metadata": {},
   "outputs": [],
   "source": [
    "[5*c5[4*n+3] +4*b5[10*n+7] -20*c5[n] for n in range(0,21)]"
   ]
  },
  {
   "cell_type": "code",
   "execution_count": null,
   "id": "565fc594",
   "metadata": {},
   "outputs": [],
   "source": []
  },
  {
   "cell_type": "code",
   "execution_count": null,
   "id": "310d881e",
   "metadata": {},
   "outputs": [],
   "source": [
    "b5_40n_17 = [b5[40*n+17] for n in range(0,21)]\n",
    "b5_40n_17"
   ]
  },
  {
   "cell_type": "code",
   "execution_count": null,
   "id": "4d34915c",
   "metadata": {},
   "outputs": [],
   "source": [
    "[5*c5[2*n] -4*b5[10*n+2] for n in range(0,21)]"
   ]
  },
  {
   "cell_type": "code",
   "execution_count": null,
   "id": "d8e1e892",
   "metadata": {},
   "outputs": [],
   "source": [
    "# func = lambda a,b: a and b\n",
    "# reduce(func, [b5[10*n+2]>0 for n in range(0,9000)])"
   ]
  },
  {
   "cell_type": "code",
   "execution_count": null,
   "id": "851a6c17",
   "metadata": {},
   "outputs": [],
   "source": [
    "# import matplotlib.pyplot as plt\n",
    "# %matplotlib inline\n",
    "# plt.hist([b5[10*n+2] for n in range(0,9000)], density=True, bins=1000);"
   ]
  },
  {
   "cell_type": "code",
   "execution_count": null,
   "id": "9e0a96d7",
   "metadata": {},
   "outputs": [],
   "source": []
  },
  {
   "cell_type": "code",
   "execution_count": null,
   "id": "953489fb",
   "metadata": {},
   "outputs": [],
   "source": [
    "(phi_n^3*phi_n.V(5)).O(11)"
   ]
  },
  {
   "cell_type": "code",
   "execution_count": null,
   "id": "0587c79c",
   "metadata": {},
   "outputs": [],
   "source": []
  },
  {
   "cell_type": "code",
   "execution_count": null,
   "id": "fe0b6b96",
   "metadata": {},
   "outputs": [],
   "source": []
  },
  {
   "cell_type": "code",
   "execution_count": null,
   "id": "48e23fd0",
   "metadata": {},
   "outputs": [],
   "source": [
    "[a5[10*n+5] -20*c5[2*n] for n in range(0,11)]"
   ]
  },
  {
   "cell_type": "code",
   "execution_count": null,
   "id": "cd8bb5aa",
   "metadata": {},
   "outputs": [],
   "source": []
  },
  {
   "cell_type": "code",
   "execution_count": null,
   "id": "c9115361",
   "metadata": {},
   "outputs": [],
   "source": [
    "-2*(f2*f10*(3*phi.V(2)^2 +4*q*psi.V(4)^2) +4*q^2*phi^2*phi.V(2)*psi.V(20)).O(11)"
   ]
  },
  {
   "cell_type": "code",
   "execution_count": null,
   "id": "35ca2178",
   "metadata": {},
   "outputs": [],
   "source": [
    "-2*(f2*f10*phi_n^2 -2*phi^2*f2*f10 +4*phi^2*psi.V(4)*phi.V(10)).O(11)"
   ]
  },
  {
   "cell_type": "code",
   "execution_count": null,
   "id": "677b8f08",
   "metadata": {},
   "outputs": [],
   "source": []
  },
  {
   "cell_type": "code",
   "execution_count": null,
   "id": "02faaca7",
   "metadata": {},
   "outputs": [],
   "source": [
    "[4*b5[10*n+2] for n in range(0,11)]"
   ]
  },
  {
   "cell_type": "code",
   "execution_count": null,
   "id": "a054c524",
   "metadata": {},
   "outputs": [],
   "source": [
    "[a5[2*n+1] +2*c5[2*n] for n in range(0,11)]"
   ]
  },
  {
   "cell_type": "code",
   "execution_count": null,
   "id": "2064e5e3",
   "metadata": {},
   "outputs": [],
   "source": [
    "[a5[10*n+5] for n in range(0,11)]"
   ]
  },
  {
   "cell_type": "code",
   "execution_count": null,
   "id": "e9c70ca2",
   "metadata": {},
   "outputs": [],
   "source": [
    "[a5[2*n+1] +12*c5[2*n] for n in range(0,11)]"
   ]
  },
  {
   "cell_type": "code",
   "execution_count": null,
   "id": "51c3f72c",
   "metadata": {},
   "outputs": [],
   "source": []
  },
  {
   "cell_type": "code",
   "execution_count": null,
   "id": "56913820",
   "metadata": {},
   "outputs": [],
   "source": [
    "[b5[40*n+17] for n in range(0,11)]"
   ]
  },
  {
   "cell_type": "code",
   "execution_count": null,
   "id": "1e567b84",
   "metadata": {},
   "outputs": [],
   "source": []
  },
  {
   "cell_type": "code",
   "execution_count": null,
   "id": "bb86cf85",
   "metadata": {},
   "outputs": [],
   "source": []
  },
  {
   "cell_type": "code",
   "execution_count": null,
   "id": "e200b2a3",
   "metadata": {},
   "outputs": [],
   "source": []
  },
  {
   "cell_type": "code",
   "execution_count": null,
   "id": "02eca151",
   "metadata": {},
   "outputs": [],
   "source": [
    "f5 = f1.V(5)"
   ]
  },
  {
   "cell_type": "code",
   "execution_count": null,
   "id": "ab98a222",
   "metadata": {},
   "outputs": [],
   "source": [
    "(f5^5/f1).O(101)"
   ]
  },
  {
   "cell_type": "code",
   "execution_count": null,
   "id": "14867160",
   "metadata": {},
   "outputs": [],
   "source": []
  },
  {
   "cell_type": "code",
   "execution_count": null,
   "id": "1b249394",
   "metadata": {},
   "outputs": [],
   "source": []
  },
  {
   "cell_type": "code",
   "execution_count": null,
   "id": "183024a9",
   "metadata": {},
   "outputs": [],
   "source": []
  },
  {
   "cell_type": "code",
   "execution_count": null,
   "id": "e5fd21f2",
   "metadata": {},
   "outputs": [],
   "source": [
    "((1-q^4)^3/((1-q)*(1-q^2)*(1-q^3))).O(21)"
   ]
  },
  {
   "cell_type": "code",
   "execution_count": null,
   "id": "30079af7",
   "metadata": {},
   "outputs": [],
   "source": [
    "(phi_n.V(2)^2/phi_n.V(3)^3).O(11)"
   ]
  },
  {
   "cell_type": "code",
   "execution_count": null,
   "id": "7900aaae",
   "metadata": {},
   "outputs": [],
   "source": [
    "(phi_n.V(3)^3/phi_n.V(2)^2).O(11)"
   ]
  },
  {
   "cell_type": "code",
   "execution_count": null,
   "id": "28dbcf51",
   "metadata": {},
   "outputs": [],
   "source": []
  },
  {
   "cell_type": "code",
   "execution_count": null,
   "id": "3ca127b2",
   "metadata": {},
   "outputs": [],
   "source": [
    "(chi_n.V(5)^5/chi_n).O(51)"
   ]
  },
  {
   "cell_type": "code",
   "execution_count": null,
   "id": "122940f4",
   "metadata": {},
   "outputs": [],
   "source": [
    "(chi_n.V(5)^10/chi_n^2).O(51)"
   ]
  },
  {
   "cell_type": "code",
   "execution_count": null,
   "id": "ec8d28e1",
   "metadata": {},
   "outputs": [],
   "source": [
    "(f2*f5^5/(f1*f10^5)).O(51)"
   ]
  },
  {
   "cell_type": "code",
   "execution_count": null,
   "id": "f84ba710",
   "metadata": {},
   "outputs": [],
   "source": []
  },
  {
   "cell_type": "code",
   "execution_count": null,
   "id": "d64c29cc",
   "metadata": {},
   "outputs": [],
   "source": [
    "numerator = (1-q^2)*(1-q^5)^10\n",
    "denominator = (1-q)^2*(1-q^10)^5\n",
    "term1 = numerator/denominator\n",
    "term1.O(21)"
   ]
  },
  {
   "cell_type": "code",
   "execution_count": null,
   "id": "c18f6703",
   "metadata": {},
   "outputs": [],
   "source": [
    "numerator = (1-x^2)*(1-x^5)^10\n",
    "denominator = (1-x)^2*(1-x^10)^5\n",
    "test1 = numerator/denominator\n",
    "test1.partial_fraction()"
   ]
  },
  {
   "cell_type": "code",
   "execution_count": null,
   "id": "55fda394",
   "metadata": {},
   "outputs": [],
   "source": [
    "numerator = (1-q^4)*(1-q^10)^10\n",
    "denominator = (1-q^2)^2*(1-q^20)^5\n",
    "term2 = numerator/denominator\n",
    "(term1*term2).O(21)"
   ]
  },
  {
   "cell_type": "code",
   "execution_count": null,
   "id": "c1b38fcd",
   "metadata": {},
   "outputs": [],
   "source": [
    "numerator = (1-q^6)*(1-q^15)^10\n",
    "denominator = (1-q^3)^2*(1-q^30)^5\n",
    "term3 = numerator/denominator\n",
    "(term1*term2*term3).O(21)"
   ]
  },
  {
   "cell_type": "code",
   "execution_count": null,
   "id": "122a39e9",
   "metadata": {},
   "outputs": [],
   "source": [
    "numerator = (1-q^8)*(1-q^20)^10\n",
    "denominator = (1-q^4)^2*(1-q^40)^5\n",
    "term4 = numerator/denominator\n",
    "(term1*term2*term3*term4).O(21)"
   ]
  },
  {
   "cell_type": "code",
   "execution_count": null,
   "id": "1088f064",
   "metadata": {},
   "outputs": [],
   "source": []
  },
  {
   "cell_type": "code",
   "execution_count": null,
   "id": "af58c115",
   "metadata": {},
   "outputs": [],
   "source": []
  },
  {
   "cell_type": "code",
   "execution_count": null,
   "id": "91122aac",
   "metadata": {},
   "outputs": [],
   "source": []
  },
  {
   "cell_type": "code",
   "execution_count": null,
   "id": "f16f7707",
   "metadata": {},
   "outputs": [],
   "source": [
    "(phi.V(5)^5*phi_n).O(101)"
   ]
  },
  {
   "cell_type": "code",
   "execution_count": null,
   "id": "6bbc3d02",
   "metadata": {},
   "outputs": [],
   "source": [
    "(1/phi).O(101)"
   ]
  },
  {
   "cell_type": "code",
   "execution_count": null,
   "id": "1fd9a9f4",
   "metadata": {},
   "outputs": [],
   "source": []
  },
  {
   "cell_type": "code",
   "execution_count": null,
   "id": "d5a76bf7",
   "metadata": {},
   "outputs": [],
   "source": [
    "[a5[20*n+2] for n in range(0,21)]"
   ]
  },
  {
   "cell_type": "code",
   "execution_count": null,
   "id": "bb15b871",
   "metadata": {},
   "outputs": [],
   "source": [
    "[4*c5[20*n+1] for n in range(0,21)]"
   ]
  },
  {
   "cell_type": "code",
   "execution_count": null,
   "id": "b6235e76",
   "metadata": {},
   "outputs": [],
   "source": []
  },
  {
   "cell_type": "code",
   "execution_count": null,
   "id": "9dc6062a",
   "metadata": {},
   "outputs": [],
   "source": [
    "[a5[20*n+6] for n in range(0,21)]"
   ]
  },
  {
   "cell_type": "code",
   "execution_count": null,
   "id": "439c845e",
   "metadata": {},
   "outputs": [],
   "source": [
    "[10*c5[10*n+2] for n in range(0,21)]"
   ]
  },
  {
   "cell_type": "code",
   "execution_count": null,
   "id": "3a95fa8b",
   "metadata": {},
   "outputs": [],
   "source": []
  },
  {
   "cell_type": "code",
   "execution_count": null,
   "id": "597274a0",
   "metadata": {},
   "outputs": [],
   "source": [
    "[a5[20*n+14] for n in range(0,21)]"
   ]
  },
  {
   "cell_type": "code",
   "execution_count": null,
   "id": "f2938687",
   "metadata": {},
   "outputs": [],
   "source": [
    "[10*c5[10*n+6] for n in range(0,21)]"
   ]
  },
  {
   "cell_type": "code",
   "execution_count": null,
   "id": "8fc99319",
   "metadata": {},
   "outputs": [],
   "source": []
  },
  {
   "cell_type": "code",
   "execution_count": null,
   "id": "3d10702b",
   "metadata": {},
   "outputs": [],
   "source": [
    "[a5[20*n+18] for n in range(0,21)]"
   ]
  },
  {
   "cell_type": "code",
   "execution_count": null,
   "id": "b6665d39",
   "metadata": {},
   "outputs": [],
   "source": [
    "[4*c5[20*n+17] for n in range(0,21)]"
   ]
  },
  {
   "cell_type": "code",
   "execution_count": null,
   "id": "16ee8289",
   "metadata": {},
   "outputs": [],
   "source": []
  },
  {
   "cell_type": "code",
   "execution_count": null,
   "id": "59014c14",
   "metadata": {},
   "outputs": [],
   "source": []
  },
  {
   "cell_type": "code",
   "execution_count": null,
   "id": "a31aba5f",
   "metadata": {},
   "outputs": [],
   "source": []
  },
  {
   "cell_type": "code",
   "execution_count": null,
   "id": "d54b7113",
   "metadata": {},
   "outputs": [],
   "source": [
    "[b5[25*n+72] for n in range(0,31)]"
   ]
  },
  {
   "cell_type": "code",
   "execution_count": null,
   "id": "2378a474",
   "metadata": {},
   "outputs": [],
   "source": [
    "[6*b5[5*n+12] -5*b5[n] for n in range(0,31)]"
   ]
  },
  {
   "cell_type": "code",
   "execution_count": null,
   "id": "682d49db",
   "metadata": {},
   "outputs": [],
   "source": []
  },
  {
   "cell_type": "code",
   "execution_count": null,
   "id": "aa3b3384",
   "metadata": {},
   "outputs": [],
   "source": []
  },
  {
   "cell_type": "code",
   "execution_count": null,
   "id": "66515bb3",
   "metadata": {},
   "outputs": [],
   "source": []
  },
  {
   "cell_type": "code",
   "execution_count": null,
   "id": "145c0036",
   "metadata": {},
   "outputs": [],
   "source": [
    "(f2*f5/f10).O(51)"
   ]
  },
  {
   "cell_type": "code",
   "execution_count": null,
   "id": "52a14949",
   "metadata": {},
   "outputs": [],
   "source": [
    "[a5[10*n+1] for n in range(0,21)]"
   ]
  },
  {
   "cell_type": "code",
   "execution_count": null,
   "id": "78bd375b",
   "metadata": {},
   "outputs": [],
   "source": [
    "[2*c5[10*n] for n in range(0,21)]"
   ]
  },
  {
   "cell_type": "code",
   "execution_count": null,
   "id": "062f7eed",
   "metadata": {},
   "outputs": [],
   "source": []
  },
  {
   "cell_type": "code",
   "execution_count": null,
   "id": "1f65f953",
   "metadata": {},
   "outputs": [],
   "source": [
    "[a5[10*n+9] for n in range(0,21)]"
   ]
  },
  {
   "cell_type": "code",
   "execution_count": null,
   "id": "e92895c5",
   "metadata": {},
   "outputs": [],
   "source": [
    "[2*c5[10*n+8] for n in range(0,21)]"
   ]
  },
  {
   "cell_type": "code",
   "execution_count": null,
   "id": "584f3060",
   "metadata": {},
   "outputs": [],
   "source": []
  },
  {
   "cell_type": "code",
   "execution_count": null,
   "id": "dff44f19",
   "metadata": {},
   "outputs": [],
   "source": []
  },
  {
   "cell_type": "code",
   "execution_count": 42,
   "id": "5ae55f20",
   "metadata": {},
   "outputs": [
    {
     "data": {
      "text/html": [
       "<html>\\[\\newcommand{\\Bold}[1]{\\mathbf{#1}}1 +  q +  q^{3} +  q^{6} +  q^{10} +  q^{15} +  q^{21} +  q^{28} +  q^{36} +  q^{45} + O(q^{50})\\]</html>"
      ],
      "text/latex": [
       "$$\\newcommand{\\Bold}[1]{\\mathbf{#1}}1 +  q +  q^{3} +  q^{6} +  q^{10} +  q^{15} +  q^{21} +  q^{28} +  q^{36} +  q^{45} + O(q^{50})$$"
      ],
      "text/plain": [
       "1 + q + q^3 + q^6 + q^10 + q^15 + q^21 + q^28 + q^36 + q^45 + O(q^50)"
      ]
     },
     "execution_count": 42,
     "metadata": {},
     "output_type": "execute_result"
    }
   ],
   "source": [
    "psi.O(50)"
   ]
  },
  {
   "cell_type": "code",
   "execution_count": null,
   "id": "cf4a52cc",
   "metadata": {},
   "outputs": [],
   "source": []
  }
 ],
 "metadata": {
  "kernelspec": {
   "display_name": "SageMath 9.5",
   "language": "sage",
   "name": "sagemath"
  },
  "language_info": {
   "codemirror_mode": {
    "name": "ipython",
    "version": 3
   },
   "file_extension": ".py",
   "mimetype": "text/x-python",
   "name": "python",
   "nbconvert_exporter": "python",
   "pygments_lexer": "ipython3",
   "version": "3.9.9"
  }
 },
 "nbformat": 4,
 "nbformat_minor": 5
}
